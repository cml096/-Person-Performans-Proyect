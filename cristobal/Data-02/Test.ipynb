{
  "nbformat": 4,
  "nbformat_minor": 0,
  "metadata": {
    "colab": {
      "name": "Test.ipynb",
      "provenance": [],
      "authorship_tag": "ABX9TyPwKsiJ2q0wngbor9BhElUZ",
      "include_colab_link": true
    },
    "kernelspec": {
      "name": "python3",
      "display_name": "Python 3"
    }
  },
  "cells": [
    {
      "cell_type": "markdown",
      "metadata": {
        "id": "view-in-github",
        "colab_type": "text"
      },
      "source": [
        "<a href=\"https://colab.research.google.com/github/cml096/GoogleColabRepo/blob/master/cristobal/Data-02/Test.ipynb\" target=\"_parent\"><img src=\"https://colab.research.google.com/assets/colab-badge.svg\" alt=\"Open In Colab\"/></a>"
      ]
    },
    {
      "cell_type": "code",
      "metadata": {
        "id": "_k-vUC09eqGq"
      },
      "source": [
        "import pandas as pd\n",
        "df = pd.read_excel('OperTot - PowerView_ARCH1.xlsx')"
      ],
      "execution_count": 154,
      "outputs": []
    },
    {
      "cell_type": "code",
      "metadata": {
        "id": "HjOPgh8whtWh"
      },
      "source": [
        "list_drop = ['ID','shiftindex','crew#','unit#','tmcat08','tmcat09','tmcat10','tmcat11','tmcat12','tmcat13','tmcat14','tmcat15','tmcat16','tmcat17','tmcat18','tmcat19']\n",
        "df.drop(list_drop,axis=1,inplace=True)"
      ],
      "execution_count": 155,
      "outputs": []
    },
    {
      "cell_type": "code",
      "metadata": {
        "id": "eNOspMBMhv6B"
      },
      "source": [
        "df[\"shift#\"] = df[\"shift#\"].astype(str)\n",
        "df.totaltons = df.totaltons.astype(int)"
      ],
      "execution_count": 156,
      "outputs": []
    },
    {
      "cell_type": "code",
      "metadata": {
        "id": "CqSpJPvdhxe5"
      },
      "source": [
        "df_palas = df[df.unit == 'Pala']"
      ],
      "execution_count": 157,
      "outputs": []
    },
    {
      "cell_type": "code",
      "metadata": {
        "id": "rlH8lKODyCHZ",
        "outputId": "f13b047b-452d-401a-a8ac-3b798c5581aa",
        "colab": {
          "base_uri": "https://localhost:8080/"
        }
      },
      "source": [
        "df_palas.columns"
      ],
      "execution_count": 158,
      "outputs": [
        {
          "output_type": "execute_result",
          "data": {
            "text/plain": [
              "Index(['shiftdate', 'shift#', 'start', 'crew', 'eqmtid', 'logintime', 'locid',\n",
              "       'operid', 'totaltime', 'pit', 'unit', 'totalloads', 'totaltons',\n",
              "       'loadtime', 'idletime', 'spottime', 'loadcnt', 'tmcat00', 'tmcat01',\n",
              "       'tmcat02', 'tmcat03', 'tmcat04', 'tmcat05', 'tmcat06', 'tmcat07'],\n",
              "      dtype='object')"
            ]
          },
          "metadata": {
            "tags": []
          },
          "execution_count": 158
        }
      ]
    },
    {
      "cell_type": "code",
      "metadata": {
        "id": "lCkkZcOWmT5h"
      },
      "source": [
        "palas = df_palas.groupby(['shiftdate','shift#','eqmtid']).sum().reset_index().sort_values('shiftdate')"
      ],
      "execution_count": 159,
      "outputs": []
    },
    {
      "cell_type": "code",
      "metadata": {
        "id": "6AhjBuYaqhxh"
      },
      "source": [
        "palas = pd.DataFrame(palas)"
      ],
      "execution_count": 160,
      "outputs": []
    },
    {
      "cell_type": "code",
      "metadata": {
        "id": "5yArPCOoq8XF",
        "outputId": "82e0d800-611b-416e-e3f1-e62a87a60ceb",
        "colab": {
          "base_uri": "https://localhost:8080/"
        }
      },
      "source": [
        "palas.columns"
      ],
      "execution_count": 161,
      "outputs": [
        {
          "output_type": "execute_result",
          "data": {
            "text/plain": [
              "Index(['shiftdate', 'shift#', 'eqmtid', 'start', 'logintime', 'totaltime',\n",
              "       'totalloads', 'totaltons', 'loadtime', 'idletime', 'spottime',\n",
              "       'loadcnt', 'tmcat00', 'tmcat01', 'tmcat02', 'tmcat03', 'tmcat04',\n",
              "       'tmcat05', 'tmcat06', 'tmcat07'],\n",
              "      dtype='object')"
            ]
          },
          "metadata": {
            "tags": []
          },
          "execution_count": 161
        }
      ]
    },
    {
      "cell_type": "code",
      "metadata": {
        "id": "4uUlYAdesMpH"
      },
      "source": [
        "list_drop = ['start','logintime','totalloads','loadtime','idletime','spottime','loadcnt','tmcat00']\n",
        "palas.drop(list_drop,axis=1,inplace=True)"
      ],
      "execution_count": 162,
      "outputs": []
    },
    {
      "cell_type": "code",
      "metadata": {
        "id": "T5z6Ovwv28z8",
        "outputId": "1abb71b7-d4dc-4adc-a9f3-8b455c3cc820",
        "colab": {
          "base_uri": "https://localhost:8080/",
          "height": 359
        }
      },
      "source": [
        "palas.head(10)"
      ],
      "execution_count": 163,
      "outputs": [
        {
          "output_type": "execute_result",
          "data": {
            "text/html": [
              "<div>\n",
              "<style scoped>\n",
              "    .dataframe tbody tr th:only-of-type {\n",
              "        vertical-align: middle;\n",
              "    }\n",
              "\n",
              "    .dataframe tbody tr th {\n",
              "        vertical-align: top;\n",
              "    }\n",
              "\n",
              "    .dataframe thead th {\n",
              "        text-align: right;\n",
              "    }\n",
              "</style>\n",
              "<table border=\"1\" class=\"dataframe\">\n",
              "  <thead>\n",
              "    <tr style=\"text-align: right;\">\n",
              "      <th></th>\n",
              "      <th>shiftdate</th>\n",
              "      <th>shift#</th>\n",
              "      <th>eqmtid</th>\n",
              "      <th>totaltime</th>\n",
              "      <th>totaltons</th>\n",
              "      <th>tmcat01</th>\n",
              "      <th>tmcat02</th>\n",
              "      <th>tmcat03</th>\n",
              "      <th>tmcat04</th>\n",
              "      <th>tmcat05</th>\n",
              "      <th>tmcat06</th>\n",
              "      <th>tmcat07</th>\n",
              "    </tr>\n",
              "  </thead>\n",
              "  <tbody>\n",
              "    <tr>\n",
              "      <th>0</th>\n",
              "      <td>2019-07-01</td>\n",
              "      <td>1</td>\n",
              "      <td>025</td>\n",
              "      <td>43200</td>\n",
              "      <td>0</td>\n",
              "      <td>0</td>\n",
              "      <td>0</td>\n",
              "      <td>0</td>\n",
              "      <td>0</td>\n",
              "      <td>3600</td>\n",
              "      <td>39600</td>\n",
              "      <td>0</td>\n",
              "    </tr>\n",
              "    <tr>\n",
              "      <th>20</th>\n",
              "      <td>2019-07-01</td>\n",
              "      <td>2</td>\n",
              "      <td>029</td>\n",
              "      <td>43200</td>\n",
              "      <td>0</td>\n",
              "      <td>34200</td>\n",
              "      <td>0</td>\n",
              "      <td>1800</td>\n",
              "      <td>0</td>\n",
              "      <td>0</td>\n",
              "      <td>7200</td>\n",
              "      <td>0</td>\n",
              "    </tr>\n",
              "    <tr>\n",
              "      <th>21</th>\n",
              "      <td>2019-07-01</td>\n",
              "      <td>2</td>\n",
              "      <td>030</td>\n",
              "      <td>43200</td>\n",
              "      <td>0</td>\n",
              "      <td>27000</td>\n",
              "      <td>0</td>\n",
              "      <td>9000</td>\n",
              "      <td>0</td>\n",
              "      <td>0</td>\n",
              "      <td>7200</td>\n",
              "      <td>0</td>\n",
              "    </tr>\n",
              "    <tr>\n",
              "      <th>22</th>\n",
              "      <td>2019-07-01</td>\n",
              "      <td>2</td>\n",
              "      <td>210</td>\n",
              "      <td>43200</td>\n",
              "      <td>0</td>\n",
              "      <td>0</td>\n",
              "      <td>0</td>\n",
              "      <td>0</td>\n",
              "      <td>0</td>\n",
              "      <td>43200</td>\n",
              "      <td>0</td>\n",
              "      <td>0</td>\n",
              "    </tr>\n",
              "    <tr>\n",
              "      <th>23</th>\n",
              "      <td>2019-07-01</td>\n",
              "      <td>2</td>\n",
              "      <td>211</td>\n",
              "      <td>43200</td>\n",
              "      <td>35782</td>\n",
              "      <td>35168</td>\n",
              "      <td>0</td>\n",
              "      <td>814</td>\n",
              "      <td>3086</td>\n",
              "      <td>0</td>\n",
              "      <td>4132</td>\n",
              "      <td>0</td>\n",
              "    </tr>\n",
              "    <tr>\n",
              "      <th>24</th>\n",
              "      <td>2019-07-01</td>\n",
              "      <td>2</td>\n",
              "      <td>212</td>\n",
              "      <td>43200</td>\n",
              "      <td>0</td>\n",
              "      <td>0</td>\n",
              "      <td>0</td>\n",
              "      <td>0</td>\n",
              "      <td>0</td>\n",
              "      <td>43200</td>\n",
              "      <td>0</td>\n",
              "      <td>0</td>\n",
              "    </tr>\n",
              "    <tr>\n",
              "      <th>25</th>\n",
              "      <td>2019-07-01</td>\n",
              "      <td>2</td>\n",
              "      <td>213</td>\n",
              "      <td>43200</td>\n",
              "      <td>2833</td>\n",
              "      <td>5593</td>\n",
              "      <td>0</td>\n",
              "      <td>367</td>\n",
              "      <td>3466</td>\n",
              "      <td>33774</td>\n",
              "      <td>0</td>\n",
              "      <td>0</td>\n",
              "    </tr>\n",
              "    <tr>\n",
              "      <th>27</th>\n",
              "      <td>2019-07-01</td>\n",
              "      <td>2</td>\n",
              "      <td>305</td>\n",
              "      <td>43200</td>\n",
              "      <td>12764</td>\n",
              "      <td>30875</td>\n",
              "      <td>0</td>\n",
              "      <td>3972</td>\n",
              "      <td>4192</td>\n",
              "      <td>0</td>\n",
              "      <td>4161</td>\n",
              "      <td>0</td>\n",
              "    </tr>\n",
              "    <tr>\n",
              "      <th>28</th>\n",
              "      <td>2019-07-01</td>\n",
              "      <td>2</td>\n",
              "      <td>306</td>\n",
              "      <td>43200</td>\n",
              "      <td>12139</td>\n",
              "      <td>24996</td>\n",
              "      <td>0</td>\n",
              "      <td>10339</td>\n",
              "      <td>0</td>\n",
              "      <td>6049</td>\n",
              "      <td>1816</td>\n",
              "      <td>0</td>\n",
              "    </tr>\n",
              "    <tr>\n",
              "      <th>29</th>\n",
              "      <td>2019-07-01</td>\n",
              "      <td>2</td>\n",
              "      <td>307</td>\n",
              "      <td>43200</td>\n",
              "      <td>24025</td>\n",
              "      <td>35320</td>\n",
              "      <td>0</td>\n",
              "      <td>6108</td>\n",
              "      <td>0</td>\n",
              "      <td>0</td>\n",
              "      <td>1772</td>\n",
              "      <td>0</td>\n",
              "    </tr>\n",
              "  </tbody>\n",
              "</table>\n",
              "</div>"
            ],
            "text/plain": [
              "    shiftdate shift# eqmtid  totaltime  ...  tmcat04  tmcat05  tmcat06  tmcat07\n",
              "0  2019-07-01      1    025      43200  ...        0     3600    39600        0\n",
              "20 2019-07-01      2    029      43200  ...        0        0     7200        0\n",
              "21 2019-07-01      2    030      43200  ...        0        0     7200        0\n",
              "22 2019-07-01      2    210      43200  ...        0    43200        0        0\n",
              "23 2019-07-01      2    211      43200  ...     3086        0     4132        0\n",
              "24 2019-07-01      2    212      43200  ...        0    43200        0        0\n",
              "25 2019-07-01      2    213      43200  ...     3466    33774        0        0\n",
              "27 2019-07-01      2    305      43200  ...     4192        0     4161        0\n",
              "28 2019-07-01      2    306      43200  ...        0     6049     1816        0\n",
              "29 2019-07-01      2    307      43200  ...        0        0     1772        0\n",
              "\n",
              "[10 rows x 12 columns]"
            ]
          },
          "metadata": {
            "tags": []
          },
          "execution_count": 163
        }
      ]
    },
    {
      "cell_type": "code",
      "metadata": {
        "id": "5wpm9B0HtOHB",
        "outputId": "12dbb262-583b-4c49-c9d7-308a16464d8d",
        "colab": {
          "base_uri": "https://localhost:8080/"
        }
      },
      "source": [
        "palas.info()"
      ],
      "execution_count": 164,
      "outputs": [
        {
          "output_type": "stream",
          "text": [
            "<class 'pandas.core.frame.DataFrame'>\n",
            "Int64Index: 13650 entries, 0 to 13649\n",
            "Data columns (total 12 columns):\n",
            " #   Column     Non-Null Count  Dtype         \n",
            "---  ------     --------------  -----         \n",
            " 0   shiftdate  13650 non-null  datetime64[ns]\n",
            " 1   shift#     13650 non-null  object        \n",
            " 2   eqmtid     13650 non-null  object        \n",
            " 3   totaltime  13650 non-null  int64         \n",
            " 4   totaltons  13650 non-null  int64         \n",
            " 5   tmcat01    13650 non-null  int64         \n",
            " 6   tmcat02    13650 non-null  int64         \n",
            " 7   tmcat03    13650 non-null  int64         \n",
            " 8   tmcat04    13650 non-null  int64         \n",
            " 9   tmcat05    13650 non-null  int64         \n",
            " 10  tmcat06    13650 non-null  int64         \n",
            " 11  tmcat07    13650 non-null  int64         \n",
            "dtypes: datetime64[ns](1), int64(9), object(2)\n",
            "memory usage: 1.4+ MB\n"
          ],
          "name": "stdout"
        }
      ]
    },
    {
      "cell_type": "code",
      "metadata": {
        "id": "nR4GHxxjxUGu"
      },
      "source": [
        "palas = palas[palas.totaltons != 0]"
      ],
      "execution_count": 165,
      "outputs": []
    },
    {
      "cell_type": "markdown",
      "metadata": {
        "id": "nBtXyUDsweN7"
      },
      "source": [
        "#Regresión lineal"
      ]
    },
    {
      "cell_type": "code",
      "metadata": {
        "id": "3YnLn6bLu5IH"
      },
      "source": [
        "from sklearn.model_selection import train_test_split\n",
        "target = \"totaltons\"\n",
        "list_drop = [target,'shiftdate','shift#','eqmtid']\n",
        "X = palas.drop(list_drop,axis=1)\n",
        "y = palas[target]"
      ],
      "execution_count": 166,
      "outputs": []
    },
    {
      "cell_type": "code",
      "metadata": {
        "id": "GTiqpmCsw0jC"
      },
      "source": [
        "X_train, X_test, y_train, y_test = train_test_split(X, y, test_size=0.4, random_state=42)"
      ],
      "execution_count": 167,
      "outputs": []
    },
    {
      "cell_type": "code",
      "metadata": {
        "id": "-8eLeLL3w9_t",
        "outputId": "c1c521dc-dba2-41a9-ca9d-372a15d14cfa",
        "colab": {
          "base_uri": "https://localhost:8080/"
        }
      },
      "source": [
        "from sklearn import linear_model\n",
        "modelo = linear_model.LinearRegression()\n",
        "modelo.fit(X_train,y_train)"
      ],
      "execution_count": 168,
      "outputs": [
        {
          "output_type": "execute_result",
          "data": {
            "text/plain": [
              "LinearRegression(copy_X=True, fit_intercept=True, n_jobs=None, normalize=False)"
            ]
          },
          "metadata": {
            "tags": []
          },
          "execution_count": 168
        }
      ]
    },
    {
      "cell_type": "code",
      "metadata": {
        "id": "UA1dnYkXxAHo",
        "outputId": "064741ec-08ae-4976-f9bd-8f10f623e28d",
        "colab": {
          "base_uri": "https://localhost:8080/",
          "height": 297
        }
      },
      "source": [
        "y_pred = modelo.predict(X_test)\n",
        "pd.DataFrame(modelo.coef_,X.columns,columns=['Coefficient'])"
      ],
      "execution_count": 169,
      "outputs": [
        {
          "output_type": "execute_result",
          "data": {
            "text/html": [
              "<div>\n",
              "<style scoped>\n",
              "    .dataframe tbody tr th:only-of-type {\n",
              "        vertical-align: middle;\n",
              "    }\n",
              "\n",
              "    .dataframe tbody tr th {\n",
              "        vertical-align: top;\n",
              "    }\n",
              "\n",
              "    .dataframe thead th {\n",
              "        text-align: right;\n",
              "    }\n",
              "</style>\n",
              "<table border=\"1\" class=\"dataframe\">\n",
              "  <thead>\n",
              "    <tr style=\"text-align: right;\">\n",
              "      <th></th>\n",
              "      <th>Coefficient</th>\n",
              "    </tr>\n",
              "  </thead>\n",
              "  <tbody>\n",
              "    <tr>\n",
              "      <th>totaltime</th>\n",
              "      <td>0.336834</td>\n",
              "    </tr>\n",
              "    <tr>\n",
              "      <th>tmcat01</th>\n",
              "      <td>0.458698</td>\n",
              "    </tr>\n",
              "    <tr>\n",
              "      <th>tmcat02</th>\n",
              "      <td>0.057406</td>\n",
              "    </tr>\n",
              "    <tr>\n",
              "      <th>tmcat03</th>\n",
              "      <td>0.224959</td>\n",
              "    </tr>\n",
              "    <tr>\n",
              "      <th>tmcat04</th>\n",
              "      <td>-0.278853</td>\n",
              "    </tr>\n",
              "    <tr>\n",
              "      <th>tmcat05</th>\n",
              "      <td>-0.055544</td>\n",
              "    </tr>\n",
              "    <tr>\n",
              "      <th>tmcat06</th>\n",
              "      <td>0.047258</td>\n",
              "    </tr>\n",
              "    <tr>\n",
              "      <th>tmcat07</th>\n",
              "      <td>-0.117089</td>\n",
              "    </tr>\n",
              "  </tbody>\n",
              "</table>\n",
              "</div>"
            ],
            "text/plain": [
              "           Coefficient\n",
              "totaltime     0.336834\n",
              "tmcat01       0.458698\n",
              "tmcat02       0.057406\n",
              "tmcat03       0.224959\n",
              "tmcat04      -0.278853\n",
              "tmcat05      -0.055544\n",
              "tmcat06       0.047258\n",
              "tmcat07      -0.117089"
            ]
          },
          "metadata": {
            "tags": []
          },
          "execution_count": 169
        }
      ]
    },
    {
      "cell_type": "code",
      "metadata": {
        "id": "4Nks3HtxxByc",
        "outputId": "56428bc6-44e3-45d1-dad5-f6637436fb97",
        "colab": {
          "base_uri": "https://localhost:8080/",
          "height": 410
        }
      },
      "source": [
        "import matplotlib.pyplot as plt\n",
        "import seaborn as sns; sns.set()\n",
        "plt.figure(figsize=(10,5))\n",
        "sns.scatterplot(y_test,y_pred,color='blue',alpha=0.5)"
      ],
      "execution_count": 170,
      "outputs": [
        {
          "output_type": "stream",
          "text": [
            "/usr/local/lib/python3.6/dist-packages/seaborn/_decorators.py:43: FutureWarning: Pass the following variables as keyword args: x, y. From version 0.12, the only valid positional argument will be `data`, and passing other arguments without an explicit keyword will result in an error or misinterpretation.\n",
            "  FutureWarning\n"
          ],
          "name": "stderr"
        },
        {
          "output_type": "execute_result",
          "data": {
            "text/plain": [
              "<matplotlib.axes._subplots.AxesSubplot at 0x7fb42c5cecf8>"
            ]
          },
          "metadata": {
            "tags": []
          },
          "execution_count": 170
        },
        {
          "output_type": "display_data",
          "data": {
            "image/png": "[encoded data removed]",
            "text/plain": [
              "<Figure size 720x360 with 1 Axes>"
            ]
          },
          "metadata": {
            "tags": []
          }
        }
      ]
    },
    {
      "cell_type": "code",
      "metadata": {
        "id": "zkU5XHM9xHTc",
        "outputId": "4d3d9d59-367e-40b2-d3fb-d048564428a4",
        "colab": {
          "base_uri": "https://localhost:8080/",
          "height": 367
        }
      },
      "source": [
        "sns.distplot((y_test-y_pred),bins=50)"
      ],
      "execution_count": 171,
      "outputs": [
        {
          "output_type": "stream",
          "text": [
            "/usr/local/lib/python3.6/dist-packages/seaborn/distributions.py:2551: FutureWarning: `distplot` is a deprecated function and will be removed in a future version. Please adapt your code to use either `displot` (a figure-level function with similar flexibility) or `histplot` (an axes-level function for histograms).\n",
            "  warnings.warn(msg, FutureWarning)\n"
          ],
          "name": "stderr"
        },
        {
          "output_type": "execute_result",
          "data": {
            "text/plain": [
              "<matplotlib.axes._subplots.AxesSubplot at 0x7fb432914630>"
            ]
          },
          "metadata": {
            "tags": []
          },
          "execution_count": 171
        },
        {
          "output_type": "display_data",
          "data": {
            "image/png": "[encoded data removed]",
            "text/plain": [
              "<Figure size 432x288 with 1 Axes>"
            ]
          },
          "metadata": {
            "tags": []
          }
        }
      ]
    },
    {
      "cell_type": "code",
      "metadata": {
        "id": "UL_E8ALOxK1A",
        "outputId": "a05af7d5-7fbb-42fd-da8c-94543bb8ad5f",
        "colab": {
          "base_uri": "https://localhost:8080/",
          "height": 285
        }
      },
      "source": [
        "plt.scatter(y_pred,y_test-y_pred,c='blue',alpha=0.5)"
      ],
      "execution_count": 172,
      "outputs": [
        {
          "output_type": "execute_result",
          "data": {
            "text/plain": [
              "<matplotlib.collections.PathCollection at 0x7fb42c6ae9e8>"
            ]
          },
          "metadata": {
            "tags": []
          },
          "execution_count": 172
        },
        {
          "output_type": "display_data",
          "data": {
            "image/png": "[encoded data removed]",
            "text/plain": [
              "<Figure size 432x288 with 1 Axes>"
            ]
          },
          "metadata": {
            "tags": []
          }
        }
      ]
    },
    {
      "cell_type": "code",
      "metadata": {
        "id": "tup8ds_XxMi9",
        "outputId": "b6e86b0c-51aa-4240-e315-cf68ac7e6296",
        "colab": {
          "base_uri": "https://localhost:8080/"
        }
      },
      "source": [
        "from sklearn import metrics\n",
        "metrics.r2_score(y_test,y_pred)"
      ],
      "execution_count": 173,
      "outputs": [
        {
          "output_type": "execute_result",
          "data": {
            "text/plain": [
              "0.5090349312156761"
            ]
          },
          "metadata": {
            "tags": []
          },
          "execution_count": 173
        }
      ]
    },
    {
      "cell_type": "code",
      "metadata": {
        "id": "WuSg5B4AxOGs",
        "outputId": "f2508d65-2b67-4f3e-9d12-14b6838b6e0a",
        "colab": {
          "base_uri": "https://localhost:8080/"
        }
      },
      "source": [
        "print(f'Error Cuadrático Medio: {metrics.mean_squared_error(y_test,y_pred)}')"
      ],
      "execution_count": 174,
      "outputs": [
        {
          "output_type": "stream",
          "text": [
            "Error Cuadrático Medio: 50886195.267460376\n"
          ],
          "name": "stdout"
        }
      ]
    },
    {
      "cell_type": "markdown",
      "metadata": {
        "id": "JIhoynFqxeVK"
      },
      "source": [
        "#Regresión logística"
      ]
    },
    {
      "cell_type": "code",
      "metadata": {
        "id": "Tpi8lfCjzqM3"
      },
      "source": [
        "def rendimiento_efectivo(ton,time):\n",
        "  if time == 0:\n",
        "    return 0\n",
        "  else:\n",
        "    return ton/time"
      ],
      "execution_count": 175,
      "outputs": []
    },
    {
      "cell_type": "code",
      "metadata": {
        "id": "MUaHxueNztHD"
      },
      "source": [
        "palas['rendimiento_efectivo'] = palas.apply(lambda row : rendimiento_efectivo(row.totaltons,row.tmcat01),axis=1)"
      ],
      "execution_count": 176,
      "outputs": []
    },
    {
      "cell_type": "code",
      "metadata": {
        "id": "eGtCl7_i0-Er",
        "outputId": "f92c296a-c25d-4d4d-ec94-3c85c8084ef6",
        "colab": {
          "base_uri": "https://localhost:8080/"
        }
      },
      "source": [
        "palas['rendimiento_efectivo'].describe()"
      ],
      "execution_count": 177,
      "outputs": [
        {
          "output_type": "execute_result",
          "data": {
            "text/plain": [
              "count    3819.000000\n",
              "mean        0.615921\n",
              "std         0.327523\n",
              "min         0.000000\n",
              "25%         0.443304\n",
              "50%         0.586988\n",
              "75%         0.806069\n",
              "max        12.000000\n",
              "Name: rendimiento_efectivo, dtype: float64"
            ]
          },
          "metadata": {
            "tags": []
          },
          "execution_count": 177
        }
      ]
    },
    {
      "cell_type": "code",
      "metadata": {
        "id": "AIlFIVsX0GXC"
      },
      "source": [
        "def check(valor):\n",
        "  if valor >= 0.615921:\n",
        "    return 1\n",
        "  else:\n",
        "    return 0"
      ],
      "execution_count": 178,
      "outputs": []
    },
    {
      "cell_type": "code",
      "metadata": {
        "id": "sugPPt0o0Pfw"
      },
      "source": [
        "palas['rend_ef_bin'] = palas.apply(lambda row : check(row.rendimiento_efectivo),axis=1)"
      ],
      "execution_count": 179,
      "outputs": []
    },
    {
      "cell_type": "code",
      "metadata": {
        "id": "v1f5Do0A0yTX",
        "outputId": "e6f06063-1cec-43fc-a92c-f94daed3d3d6",
        "colab": {
          "base_uri": "https://localhost:8080/",
          "height": 162
        }
      },
      "source": [
        "pd.DataFrame(palas.groupby(['rend_ef_bin']).count())"
      ],
      "execution_count": 180,
      "outputs": [
        {
          "output_type": "execute_result",
          "data": {
            "text/html": [
              "<div>\n",
              "<style scoped>\n",
              "    .dataframe tbody tr th:only-of-type {\n",
              "        vertical-align: middle;\n",
              "    }\n",
              "\n",
              "    .dataframe tbody tr th {\n",
              "        vertical-align: top;\n",
              "    }\n",
              "\n",
              "    .dataframe thead th {\n",
              "        text-align: right;\n",
              "    }\n",
              "</style>\n",
              "<table border=\"1\" class=\"dataframe\">\n",
              "  <thead>\n",
              "    <tr style=\"text-align: right;\">\n",
              "      <th></th>\n",
              "      <th>shiftdate</th>\n",
              "      <th>shift#</th>\n",
              "      <th>eqmtid</th>\n",
              "      <th>totaltime</th>\n",
              "      <th>totaltons</th>\n",
              "      <th>tmcat01</th>\n",
              "      <th>tmcat02</th>\n",
              "      <th>tmcat03</th>\n",
              "      <th>tmcat04</th>\n",
              "      <th>tmcat05</th>\n",
              "      <th>tmcat06</th>\n",
              "      <th>tmcat07</th>\n",
              "      <th>rendimiento_efectivo</th>\n",
              "    </tr>\n",
              "    <tr>\n",
              "      <th>rend_ef_bin</th>\n",
              "      <th></th>\n",
              "      <th></th>\n",
              "      <th></th>\n",
              "      <th></th>\n",
              "      <th></th>\n",
              "      <th></th>\n",
              "      <th></th>\n",
              "      <th></th>\n",
              "      <th></th>\n",
              "      <th></th>\n",
              "      <th></th>\n",
              "      <th></th>\n",
              "      <th></th>\n",
              "    </tr>\n",
              "  </thead>\n",
              "  <tbody>\n",
              "    <tr>\n",
              "      <th>0</th>\n",
              "      <td>2067</td>\n",
              "      <td>2067</td>\n",
              "      <td>2067</td>\n",
              "      <td>2067</td>\n",
              "      <td>2067</td>\n",
              "      <td>2067</td>\n",
              "      <td>2067</td>\n",
              "      <td>2067</td>\n",
              "      <td>2067</td>\n",
              "      <td>2067</td>\n",
              "      <td>2067</td>\n",
              "      <td>2067</td>\n",
              "      <td>2067</td>\n",
              "    </tr>\n",
              "    <tr>\n",
              "      <th>1</th>\n",
              "      <td>1752</td>\n",
              "      <td>1752</td>\n",
              "      <td>1752</td>\n",
              "      <td>1752</td>\n",
              "      <td>1752</td>\n",
              "      <td>1752</td>\n",
              "      <td>1752</td>\n",
              "      <td>1752</td>\n",
              "      <td>1752</td>\n",
              "      <td>1752</td>\n",
              "      <td>1752</td>\n",
              "      <td>1752</td>\n",
              "      <td>1752</td>\n",
              "    </tr>\n",
              "  </tbody>\n",
              "</table>\n",
              "</div>"
            ],
            "text/plain": [
              "             shiftdate  shift#  eqmtid  ...  tmcat06  tmcat07  rendimiento_efectivo\n",
              "rend_ef_bin                             ...                                        \n",
              "0                 2067    2067    2067  ...     2067     2067                  2067\n",
              "1                 1752    1752    1752  ...     1752     1752                  1752\n",
              "\n",
              "[2 rows x 13 columns]"
            ]
          },
          "metadata": {
            "tags": []
          },
          "execution_count": 180
        }
      ]
    },
    {
      "cell_type": "code",
      "metadata": {
        "id": "cRj6ZDGUxseL"
      },
      "source": [
        "turno = pd.get_dummies(palas['shift#'])"
      ],
      "execution_count": 181,
      "outputs": []
    },
    {
      "cell_type": "code",
      "metadata": {
        "id": "LFrWB4bAy5Ak"
      },
      "source": [
        "eqmtid = pd.get_dummies(palas['eqmtid'])"
      ],
      "execution_count": 182,
      "outputs": []
    },
    {
      "cell_type": "code",
      "metadata": {
        "id": "y5Vqb6ZXxPmC"
      },
      "source": [
        "import datetime as dt\n",
        "palas['shiftdate'] = pd.to_datetime(palas['shiftdate'])\n",
        "palas['shiftdate'] = palas['shiftdate'].map(dt.datetime.toordinal)"
      ],
      "execution_count": 183,
      "outputs": []
    },
    {
      "cell_type": "code",
      "metadata": {
        "id": "GLXrL_4oyc09"
      },
      "source": [
        "train = pd.concat([palas.drop(['shift#','shiftdate','eqmtid','totaltons','tmcat01','rendimiento_efectivo'],axis=1),turno,eqmtid],axis=1)"
      ],
      "execution_count": 184,
      "outputs": []
    },
    {
      "cell_type": "code",
      "metadata": {
        "id": "bSt7TPLayuql",
        "outputId": "d744d875-56b3-444f-da64-e7464319fb4a",
        "colab": {
          "base_uri": "https://localhost:8080/"
        }
      },
      "source": [
        "train.info()"
      ],
      "execution_count": 185,
      "outputs": [
        {
          "output_type": "stream",
          "text": [
            "<class 'pandas.core.frame.DataFrame'>\n",
            "Int64Index: 3819 entries, 23 to 13629\n",
            "Data columns (total 21 columns):\n",
            " #   Column       Non-Null Count  Dtype\n",
            "---  ------       --------------  -----\n",
            " 0   totaltime    3819 non-null   int64\n",
            " 1   tmcat02      3819 non-null   int64\n",
            " 2   tmcat03      3819 non-null   int64\n",
            " 3   tmcat04      3819 non-null   int64\n",
            " 4   tmcat05      3819 non-null   int64\n",
            " 5   tmcat06      3819 non-null   int64\n",
            " 6   tmcat07      3819 non-null   int64\n",
            " 7   rend_ef_bin  3819 non-null   int64\n",
            " 8   1            3819 non-null   uint8\n",
            " 9   2            3819 non-null   uint8\n",
            " 10  026          3819 non-null   uint8\n",
            " 11  029          3819 non-null   uint8\n",
            " 12  030          3819 non-null   uint8\n",
            " 13  210          3819 non-null   uint8\n",
            " 14  211          3819 non-null   uint8\n",
            " 15  212          3819 non-null   uint8\n",
            " 16  213          3819 non-null   uint8\n",
            " 17  305          3819 non-null   uint8\n",
            " 18  306          3819 non-null   uint8\n",
            " 19  307          3819 non-null   uint8\n",
            " 20  BUZON        3819 non-null   uint8\n",
            "dtypes: int64(8), uint8(13)\n",
            "memory usage: 317.0 KB\n"
          ],
          "name": "stdout"
        }
      ]
    },
    {
      "cell_type": "code",
      "metadata": {
        "id": "DATt89VT3Gb_",
        "outputId": "597e45fe-7141-4baf-d0d8-e6f406d7934a",
        "colab": {
          "base_uri": "https://localhost:8080/",
          "height": 379
        }
      },
      "source": [
        "train.head(10)"
      ],
      "execution_count": 186,
      "outputs": [
        {
          "output_type": "execute_result",
          "data": {
            "text/html": [
              "<div>\n",
              "<style scoped>\n",
              "    .dataframe tbody tr th:only-of-type {\n",
              "        vertical-align: middle;\n",
              "    }\n",
              "\n",
              "    .dataframe tbody tr th {\n",
              "        vertical-align: top;\n",
              "    }\n",
              "\n",
              "    .dataframe thead th {\n",
              "        text-align: right;\n",
              "    }\n",
              "</style>\n",
              "<table border=\"1\" class=\"dataframe\">\n",
              "  <thead>\n",
              "    <tr style=\"text-align: right;\">\n",
              "      <th></th>\n",
              "      <th>totaltime</th>\n",
              "      <th>tmcat02</th>\n",
              "      <th>tmcat03</th>\n",
              "      <th>tmcat04</th>\n",
              "      <th>tmcat05</th>\n",
              "      <th>tmcat06</th>\n",
              "      <th>tmcat07</th>\n",
              "      <th>rend_ef_bin</th>\n",
              "      <th>1</th>\n",
              "      <th>2</th>\n",
              "      <th>026</th>\n",
              "      <th>029</th>\n",
              "      <th>030</th>\n",
              "      <th>210</th>\n",
              "      <th>211</th>\n",
              "      <th>212</th>\n",
              "      <th>213</th>\n",
              "      <th>305</th>\n",
              "      <th>306</th>\n",
              "      <th>307</th>\n",
              "      <th>BUZON</th>\n",
              "    </tr>\n",
              "  </thead>\n",
              "  <tbody>\n",
              "    <tr>\n",
              "      <th>23</th>\n",
              "      <td>43200</td>\n",
              "      <td>0</td>\n",
              "      <td>814</td>\n",
              "      <td>3086</td>\n",
              "      <td>0</td>\n",
              "      <td>4132</td>\n",
              "      <td>0</td>\n",
              "      <td>1</td>\n",
              "      <td>0</td>\n",
              "      <td>1</td>\n",
              "      <td>0</td>\n",
              "      <td>0</td>\n",
              "      <td>0</td>\n",
              "      <td>0</td>\n",
              "      <td>1</td>\n",
              "      <td>0</td>\n",
              "      <td>0</td>\n",
              "      <td>0</td>\n",
              "      <td>0</td>\n",
              "      <td>0</td>\n",
              "      <td>0</td>\n",
              "    </tr>\n",
              "    <tr>\n",
              "      <th>25</th>\n",
              "      <td>43200</td>\n",
              "      <td>0</td>\n",
              "      <td>367</td>\n",
              "      <td>3466</td>\n",
              "      <td>33774</td>\n",
              "      <td>0</td>\n",
              "      <td>0</td>\n",
              "      <td>0</td>\n",
              "      <td>0</td>\n",
              "      <td>1</td>\n",
              "      <td>0</td>\n",
              "      <td>0</td>\n",
              "      <td>0</td>\n",
              "      <td>0</td>\n",
              "      <td>0</td>\n",
              "      <td>0</td>\n",
              "      <td>1</td>\n",
              "      <td>0</td>\n",
              "      <td>0</td>\n",
              "      <td>0</td>\n",
              "      <td>0</td>\n",
              "    </tr>\n",
              "    <tr>\n",
              "      <th>27</th>\n",
              "      <td>43200</td>\n",
              "      <td>0</td>\n",
              "      <td>3972</td>\n",
              "      <td>4192</td>\n",
              "      <td>0</td>\n",
              "      <td>4161</td>\n",
              "      <td>0</td>\n",
              "      <td>0</td>\n",
              "      <td>0</td>\n",
              "      <td>1</td>\n",
              "      <td>0</td>\n",
              "      <td>0</td>\n",
              "      <td>0</td>\n",
              "      <td>0</td>\n",
              "      <td>0</td>\n",
              "      <td>0</td>\n",
              "      <td>0</td>\n",
              "      <td>1</td>\n",
              "      <td>0</td>\n",
              "      <td>0</td>\n",
              "      <td>0</td>\n",
              "    </tr>\n",
              "    <tr>\n",
              "      <th>28</th>\n",
              "      <td>43200</td>\n",
              "      <td>0</td>\n",
              "      <td>10339</td>\n",
              "      <td>0</td>\n",
              "      <td>6049</td>\n",
              "      <td>1816</td>\n",
              "      <td>0</td>\n",
              "      <td>0</td>\n",
              "      <td>0</td>\n",
              "      <td>1</td>\n",
              "      <td>0</td>\n",
              "      <td>0</td>\n",
              "      <td>0</td>\n",
              "      <td>0</td>\n",
              "      <td>0</td>\n",
              "      <td>0</td>\n",
              "      <td>0</td>\n",
              "      <td>0</td>\n",
              "      <td>1</td>\n",
              "      <td>0</td>\n",
              "      <td>0</td>\n",
              "    </tr>\n",
              "    <tr>\n",
              "      <th>29</th>\n",
              "      <td>43200</td>\n",
              "      <td>0</td>\n",
              "      <td>6108</td>\n",
              "      <td>0</td>\n",
              "      <td>0</td>\n",
              "      <td>1772</td>\n",
              "      <td>0</td>\n",
              "      <td>1</td>\n",
              "      <td>0</td>\n",
              "      <td>1</td>\n",
              "      <td>0</td>\n",
              "      <td>0</td>\n",
              "      <td>0</td>\n",
              "      <td>0</td>\n",
              "      <td>0</td>\n",
              "      <td>0</td>\n",
              "      <td>0</td>\n",
              "      <td>0</td>\n",
              "      <td>0</td>\n",
              "      <td>1</td>\n",
              "      <td>0</td>\n",
              "    </tr>\n",
              "    <tr>\n",
              "      <th>6</th>\n",
              "      <td>43200</td>\n",
              "      <td>0</td>\n",
              "      <td>4935</td>\n",
              "      <td>0</td>\n",
              "      <td>0</td>\n",
              "      <td>1787</td>\n",
              "      <td>0</td>\n",
              "      <td>0</td>\n",
              "      <td>1</td>\n",
              "      <td>0</td>\n",
              "      <td>0</td>\n",
              "      <td>0</td>\n",
              "      <td>0</td>\n",
              "      <td>0</td>\n",
              "      <td>0</td>\n",
              "      <td>1</td>\n",
              "      <td>0</td>\n",
              "      <td>0</td>\n",
              "      <td>0</td>\n",
              "      <td>0</td>\n",
              "      <td>0</td>\n",
              "    </tr>\n",
              "    <tr>\n",
              "      <th>7</th>\n",
              "      <td>43200</td>\n",
              "      <td>0</td>\n",
              "      <td>4166</td>\n",
              "      <td>0</td>\n",
              "      <td>0</td>\n",
              "      <td>3556</td>\n",
              "      <td>0</td>\n",
              "      <td>1</td>\n",
              "      <td>1</td>\n",
              "      <td>0</td>\n",
              "      <td>0</td>\n",
              "      <td>0</td>\n",
              "      <td>0</td>\n",
              "      <td>0</td>\n",
              "      <td>0</td>\n",
              "      <td>0</td>\n",
              "      <td>1</td>\n",
              "      <td>0</td>\n",
              "      <td>0</td>\n",
              "      <td>0</td>\n",
              "      <td>0</td>\n",
              "    </tr>\n",
              "    <tr>\n",
              "      <th>5</th>\n",
              "      <td>43200</td>\n",
              "      <td>0</td>\n",
              "      <td>3981</td>\n",
              "      <td>0</td>\n",
              "      <td>0</td>\n",
              "      <td>3524</td>\n",
              "      <td>0</td>\n",
              "      <td>1</td>\n",
              "      <td>1</td>\n",
              "      <td>0</td>\n",
              "      <td>0</td>\n",
              "      <td>0</td>\n",
              "      <td>0</td>\n",
              "      <td>0</td>\n",
              "      <td>1</td>\n",
              "      <td>0</td>\n",
              "      <td>0</td>\n",
              "      <td>0</td>\n",
              "      <td>0</td>\n",
              "      <td>0</td>\n",
              "      <td>0</td>\n",
              "    </tr>\n",
              "    <tr>\n",
              "      <th>10</th>\n",
              "      <td>43200</td>\n",
              "      <td>0</td>\n",
              "      <td>8632</td>\n",
              "      <td>13462</td>\n",
              "      <td>0</td>\n",
              "      <td>1778</td>\n",
              "      <td>0</td>\n",
              "      <td>0</td>\n",
              "      <td>1</td>\n",
              "      <td>0</td>\n",
              "      <td>0</td>\n",
              "      <td>0</td>\n",
              "      <td>0</td>\n",
              "      <td>0</td>\n",
              "      <td>0</td>\n",
              "      <td>0</td>\n",
              "      <td>0</td>\n",
              "      <td>0</td>\n",
              "      <td>1</td>\n",
              "      <td>0</td>\n",
              "      <td>0</td>\n",
              "    </tr>\n",
              "    <tr>\n",
              "      <th>11</th>\n",
              "      <td>43200</td>\n",
              "      <td>0</td>\n",
              "      <td>728</td>\n",
              "      <td>42472</td>\n",
              "      <td>0</td>\n",
              "      <td>0</td>\n",
              "      <td>0</td>\n",
              "      <td>0</td>\n",
              "      <td>1</td>\n",
              "      <td>0</td>\n",
              "      <td>0</td>\n",
              "      <td>0</td>\n",
              "      <td>0</td>\n",
              "      <td>0</td>\n",
              "      <td>0</td>\n",
              "      <td>0</td>\n",
              "      <td>0</td>\n",
              "      <td>0</td>\n",
              "      <td>0</td>\n",
              "      <td>1</td>\n",
              "      <td>0</td>\n",
              "    </tr>\n",
              "  </tbody>\n",
              "</table>\n",
              "</div>"
            ],
            "text/plain": [
              "    totaltime  tmcat02  tmcat03  tmcat04  tmcat05  ...  213  305  306  307  BUZON\n",
              "23      43200        0      814     3086        0  ...    0    0    0    0      0\n",
              "25      43200        0      367     3466    33774  ...    1    0    0    0      0\n",
              "27      43200        0     3972     4192        0  ...    0    1    0    0      0\n",
              "28      43200        0    10339        0     6049  ...    0    0    1    0      0\n",
              "29      43200        0     6108        0        0  ...    0    0    0    1      0\n",
              "6       43200        0     4935        0        0  ...    0    0    0    0      0\n",
              "7       43200        0     4166        0        0  ...    1    0    0    0      0\n",
              "5       43200        0     3981        0        0  ...    0    0    0    0      0\n",
              "10      43200        0     8632    13462        0  ...    0    0    1    0      0\n",
              "11      43200        0      728    42472        0  ...    0    0    0    1      0\n",
              "\n",
              "[10 rows x 21 columns]"
            ]
          },
          "metadata": {
            "tags": []
          },
          "execution_count": 186
        }
      ]
    },
    {
      "cell_type": "code",
      "metadata": {
        "id": "V0guaa5D1pXy"
      },
      "source": [
        "X_train, X_test, y_train, y_test = train_test_split(train.drop('rend_ef_bin',axis=1),\n",
        "                                                    train['rend_ef_bin'],\n",
        "                                                    test_size=0.30,random_state=42)"
      ],
      "execution_count": 187,
      "outputs": []
    },
    {
      "cell_type": "code",
      "metadata": {
        "id": "8k9fT_c_y9_Y",
        "outputId": "37561481-dec7-43ce-9b8a-4e3f96cb0d8c",
        "colab": {
          "base_uri": "https://localhost:8080/"
        }
      },
      "source": [
        "from sklearn.linear_model import LogisticRegression\n",
        "model = LogisticRegression()\n",
        "model.fit(X_train,y_train)"
      ],
      "execution_count": 188,
      "outputs": [
        {
          "output_type": "execute_result",
          "data": {
            "text/plain": [
              "LogisticRegression(C=1.0, class_weight=None, dual=False, fit_intercept=True,\n",
              "                   intercept_scaling=1, l1_ratio=None, max_iter=100,\n",
              "                   multi_class='auto', n_jobs=None, penalty='l2',\n",
              "                   random_state=None, solver='lbfgs', tol=0.0001, verbose=0,\n",
              "                   warm_start=False)"
            ]
          },
          "metadata": {
            "tags": []
          },
          "execution_count": 188
        }
      ]
    },
    {
      "cell_type": "code",
      "metadata": {
        "id": "5PsLClcc1N2-"
      },
      "source": [
        "y_pred = model.predict(X_test)"
      ],
      "execution_count": 189,
      "outputs": []
    },
    {
      "cell_type": "code",
      "metadata": {
        "id": "NQ33D2T01a1n",
        "outputId": "4acccd1e-2784-4d31-f38c-0a70c83b9767",
        "colab": {
          "base_uri": "https://localhost:8080/"
        }
      },
      "source": [
        "from sklearn.metrics import classification_report\n",
        "print(classification_report(y_test,y_pred))"
      ],
      "execution_count": 190,
      "outputs": [
        {
          "output_type": "stream",
          "text": [
            "              precision    recall  f1-score   support\n",
            "\n",
            "           0       0.86      0.88      0.87       633\n",
            "           1       0.85      0.82      0.83       513\n",
            "\n",
            "    accuracy                           0.85      1146\n",
            "   macro avg       0.85      0.85      0.85      1146\n",
            "weighted avg       0.85      0.85      0.85      1146\n",
            "\n"
          ],
          "name": "stdout"
        }
      ]
    },
    {
      "cell_type": "code",
      "metadata": {
        "id": "ydOF5rB02Lwn"
      },
      "source": [
        "from sklearn.metrics import confusion_matrix\n",
        "cf_matrix = confusion_matrix(y_test,y_pred)"
      ],
      "execution_count": 191,
      "outputs": []
    },
    {
      "cell_type": "code",
      "metadata": {
        "id": "udmnPffn1ddL",
        "outputId": "a630b85e-719f-4196-b61c-82daefbfe58b",
        "colab": {
          "base_uri": "https://localhost:8080/",
          "height": 322
        }
      },
      "source": [
        "import numpy as np\n",
        "\n",
        "group_names = ['True Neg','False Pos','False Neg','True Pos']\n",
        "\n",
        "group_counts = [\"{0:0.0f}\".format(value) for value in\n",
        "                cf_matrix.flatten()]\n",
        "\n",
        "group_percentages = [\"{0:.2%}\".format(value) for value in\n",
        "                     cf_matrix.flatten()/np.sum(cf_matrix)]\n",
        "\n",
        "labels = [f'{v1}\\n{v2}\\n{v3}' for v1, v2, v3 in\n",
        "          zip(group_names,group_counts,group_percentages)]\n",
        "\n",
        "labels = np.asarray(labels).reshape(2,2)\n",
        "\n",
        "class_names = [0,1]\n",
        "# settings plot\n",
        "fig, ax = plt.subplots()\n",
        "tick_marks = np.arange(len(class_names))\n",
        "plt.xticks(tick_marks, class_names)\n",
        "plt.yticks(tick_marks, class_names)\n",
        "ax.xaxis.set_label_position(\"top\")\n",
        "plt.tight_layout()\n",
        "plt.title('Matriz de Confusión', y=1.1)\n",
        "# plot\n",
        "sns.heatmap(cf_matrix, annot=labels, fmt='', cmap='binary')"
      ],
      "execution_count": 192,
      "outputs": [
        {
          "output_type": "execute_result",
          "data": {
            "text/plain": [
              "<matplotlib.axes._subplots.AxesSubplot at 0x7fb42c6928d0>"
            ]
          },
          "metadata": {
            "tags": []
          },
          "execution_count": 192
        },
        {
          "output_type": "display_data",
          "data": {
            "image/png": "[encoded data removed]",
            "text/plain": [
              "<Figure size 432x288 with 2 Axes>"
            ]
          },
          "metadata": {
            "tags": []
          }
        }
      ]
    },
    {
      "cell_type": "code",
      "metadata": {
        "id": "4ui-K0v_2HS1"
      },
      "source": [
        ""
      ],
      "execution_count": 192,
      "outputs": []
    }
  ]
}