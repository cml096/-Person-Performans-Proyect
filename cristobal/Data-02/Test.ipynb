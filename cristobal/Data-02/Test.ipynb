{
  "nbformat": 4,
  "nbformat_minor": 0,
  "metadata": {
    "colab": {
      "name": "Test.ipynb",
      "provenance": [],
      "authorship_tag": "ABX9TyMt9H64wT9qfZwsVnsfXrFX",
      "include_colab_link": true
    },
    "kernelspec": {
      "name": "python3",
      "display_name": "Python 3"
    }
  },
  "cells": [
    {
      "cell_type": "markdown",
      "metadata": {
        "id": "view-in-github",
        "colab_type": "text"
      },
      "source": [
        "<a href=\"https://colab.research.google.com/github/cml096/GoogleColabRepo/blob/master/cristobal/Data-02/Test.ipynb\" target=\"_parent\"><img src=\"https://colab.research.google.com/assets/colab-badge.svg\" alt=\"Open In Colab\"/></a>"
      ]
    },
    {
      "cell_type": "code",
      "metadata": {
        "id": "_k-vUC09eqGq"
      },
      "source": [
        "import pandas as pd\n",
        "df = pd.read_excel('OperTot - PowerView_ARCH1.xlsx')"
      ],
      "execution_count": 1,
      "outputs": []
    },
    {
      "cell_type": "code",
      "metadata": {
        "id": "HjOPgh8whtWh"
      },
      "source": [
        "list_drop = ['ID','crew#','unit#','tmcat08','tmcat09','tmcat10','tmcat11','tmcat12','tmcat13','tmcat14','tmcat15','tmcat16','tmcat17','tmcat18','tmcat19']\n",
        "df.drop(list_drop,axis=1,inplace=True)"
      ],
      "execution_count": 2,
      "outputs": []
    },
    {
      "cell_type": "code",
      "metadata": {
        "id": "eNOspMBMhv6B"
      },
      "source": [
        "df[\"shift#\"] = df[\"shift#\"].astype(str)\n",
        "df.totaltons = df.totaltons.astype(int)"
      ],
      "execution_count": 3,
      "outputs": []
    },
    {
      "cell_type": "code",
      "metadata": {
        "id": "CqSpJPvdhxe5"
      },
      "source": [
        "df_palas = df[df.unit == 'Pala']"
      ],
      "execution_count": 4,
      "outputs": []
    },
    {
      "cell_type": "code",
      "metadata": {
        "id": "rlH8lKODyCHZ",
        "outputId": "0346cffb-7565-4716-a656-4eb37d26985e",
        "colab": {
          "base_uri": "https://localhost:8080/"
        }
      },
      "source": [
        "df_palas.columns"
      ],
      "execution_count": 5,
      "outputs": [
        {
          "output_type": "execute_result",
          "data": {
            "text/plain": [
              "Index(['shiftdate', 'shiftindex', 'shift#', 'start', 'crew', 'eqmtid',\n",
              "       'logintime', 'locid', 'operid', 'totaltime', 'pit', 'unit',\n",
              "       'totalloads', 'totaltons', 'loadtime', 'idletime', 'spottime',\n",
              "       'loadcnt', 'tmcat00', 'tmcat01', 'tmcat02', 'tmcat03', 'tmcat04',\n",
              "       'tmcat05', 'tmcat06', 'tmcat07'],\n",
              "      dtype='object')"
            ]
          },
          "metadata": {
            "tags": []
          },
          "execution_count": 5
        }
      ]
    },
    {
      "cell_type": "code",
      "metadata": {
        "id": "yTM08Chuy31k",
        "outputId": "3973d5bd-9a97-4d58-869b-5f109fc29bac",
        "colab": {
          "base_uri": "https://localhost:8080/",
          "height": 224
        }
      },
      "source": [
        "df_palas.head()"
      ],
      "execution_count": 6,
      "outputs": [
        {
          "output_type": "execute_result",
          "data": {
            "text/html": [
              "<div>\n",
              "<style scoped>\n",
              "    .dataframe tbody tr th:only-of-type {\n",
              "        vertical-align: middle;\n",
              "    }\n",
              "\n",
              "    .dataframe tbody tr th {\n",
              "        vertical-align: top;\n",
              "    }\n",
              "\n",
              "    .dataframe thead th {\n",
              "        text-align: right;\n",
              "    }\n",
              "</style>\n",
              "<table border=\"1\" class=\"dataframe\">\n",
              "  <thead>\n",
              "    <tr style=\"text-align: right;\">\n",
              "      <th></th>\n",
              "      <th>shiftdate</th>\n",
              "      <th>shiftindex</th>\n",
              "      <th>shift#</th>\n",
              "      <th>start</th>\n",
              "      <th>crew</th>\n",
              "      <th>eqmtid</th>\n",
              "      <th>logintime</th>\n",
              "      <th>locid</th>\n",
              "      <th>operid</th>\n",
              "      <th>totaltime</th>\n",
              "      <th>pit</th>\n",
              "      <th>unit</th>\n",
              "      <th>totalloads</th>\n",
              "      <th>totaltons</th>\n",
              "      <th>loadtime</th>\n",
              "      <th>idletime</th>\n",
              "      <th>spottime</th>\n",
              "      <th>loadcnt</th>\n",
              "      <th>tmcat00</th>\n",
              "      <th>tmcat01</th>\n",
              "      <th>tmcat02</th>\n",
              "      <th>tmcat03</th>\n",
              "      <th>tmcat04</th>\n",
              "      <th>tmcat05</th>\n",
              "      <th>tmcat06</th>\n",
              "      <th>tmcat07</th>\n",
              "    </tr>\n",
              "  </thead>\n",
              "  <tbody>\n",
              "    <tr>\n",
              "      <th>44</th>\n",
              "      <td>2019-07-01</td>\n",
              "      <td>36157</td>\n",
              "      <td>2</td>\n",
              "      <td>28800</td>\n",
              "      <td>G2</td>\n",
              "      <td>307</td>\n",
              "      <td>0</td>\n",
              "      <td>TX210039</td>\n",
              "      <td>mmsunk</td>\n",
              "      <td>3088</td>\n",
              "      <td>MINA</td>\n",
              "      <td>Pala</td>\n",
              "      <td>3</td>\n",
              "      <td>690</td>\n",
              "      <td>0</td>\n",
              "      <td>0</td>\n",
              "      <td>0</td>\n",
              "      <td>3</td>\n",
              "      <td>3088</td>\n",
              "      <td>0</td>\n",
              "      <td>0</td>\n",
              "      <td>3088</td>\n",
              "      <td>0</td>\n",
              "      <td>0</td>\n",
              "      <td>0</td>\n",
              "      <td>0</td>\n",
              "    </tr>\n",
              "    <tr>\n",
              "      <th>45</th>\n",
              "      <td>2019-07-01</td>\n",
              "      <td>36157</td>\n",
              "      <td>2</td>\n",
              "      <td>28800</td>\n",
              "      <td>G2</td>\n",
              "      <td>307</td>\n",
              "      <td>3088</td>\n",
              "      <td>TX210039</td>\n",
              "      <td>07641</td>\n",
              "      <td>39893</td>\n",
              "      <td>MINA</td>\n",
              "      <td>Pala</td>\n",
              "      <td>100</td>\n",
              "      <td>23335</td>\n",
              "      <td>22347</td>\n",
              "      <td>5090</td>\n",
              "      <td>7656</td>\n",
              "      <td>100</td>\n",
              "      <td>39893</td>\n",
              "      <td>35320</td>\n",
              "      <td>0</td>\n",
              "      <td>2801</td>\n",
              "      <td>0</td>\n",
              "      <td>0</td>\n",
              "      <td>1772</td>\n",
              "      <td>0</td>\n",
              "    </tr>\n",
              "    <tr>\n",
              "      <th>46</th>\n",
              "      <td>2019-07-01</td>\n",
              "      <td>36157</td>\n",
              "      <td>2</td>\n",
              "      <td>28800</td>\n",
              "      <td>G2</td>\n",
              "      <td>307</td>\n",
              "      <td>42981</td>\n",
              "      <td>TX210039</td>\n",
              "      <td>mmsunk</td>\n",
              "      <td>219</td>\n",
              "      <td>MINA</td>\n",
              "      <td>Pala</td>\n",
              "      <td>0</td>\n",
              "      <td>0</td>\n",
              "      <td>0</td>\n",
              "      <td>0</td>\n",
              "      <td>0</td>\n",
              "      <td>0</td>\n",
              "      <td>219</td>\n",
              "      <td>0</td>\n",
              "      <td>0</td>\n",
              "      <td>219</td>\n",
              "      <td>0</td>\n",
              "      <td>0</td>\n",
              "      <td>0</td>\n",
              "      <td>0</td>\n",
              "    </tr>\n",
              "    <tr>\n",
              "      <th>47</th>\n",
              "      <td>2019-07-01</td>\n",
              "      <td>36157</td>\n",
              "      <td>2</td>\n",
              "      <td>28800</td>\n",
              "      <td>G2</td>\n",
              "      <td>BUZON</td>\n",
              "      <td>0</td>\n",
              "      <td></td>\n",
              "      <td>mmsunk</td>\n",
              "      <td>43200</td>\n",
              "      <td>MINA</td>\n",
              "      <td>Pala</td>\n",
              "      <td>0</td>\n",
              "      <td>0</td>\n",
              "      <td>0</td>\n",
              "      <td>0</td>\n",
              "      <td>0</td>\n",
              "      <td>0</td>\n",
              "      <td>43200</td>\n",
              "      <td>0</td>\n",
              "      <td>0</td>\n",
              "      <td>0</td>\n",
              "      <td>43200</td>\n",
              "      <td>0</td>\n",
              "      <td>0</td>\n",
              "      <td>0</td>\n",
              "    </tr>\n",
              "    <tr>\n",
              "      <th>48</th>\n",
              "      <td>2019-07-01</td>\n",
              "      <td>36157</td>\n",
              "      <td>2</td>\n",
              "      <td>28800</td>\n",
              "      <td>G2</td>\n",
              "      <td>COSE2</td>\n",
              "      <td>0</td>\n",
              "      <td></td>\n",
              "      <td>mmsunk</td>\n",
              "      <td>43200</td>\n",
              "      <td></td>\n",
              "      <td>Pala</td>\n",
              "      <td>0</td>\n",
              "      <td>0</td>\n",
              "      <td>0</td>\n",
              "      <td>0</td>\n",
              "      <td>0</td>\n",
              "      <td>0</td>\n",
              "      <td>43200</td>\n",
              "      <td>0</td>\n",
              "      <td>0</td>\n",
              "      <td>0</td>\n",
              "      <td>43200</td>\n",
              "      <td>0</td>\n",
              "      <td>0</td>\n",
              "      <td>0</td>\n",
              "    </tr>\n",
              "  </tbody>\n",
              "</table>\n",
              "</div>"
            ],
            "text/plain": [
              "    shiftdate  shiftindex shift#  start  ... tmcat04 tmcat05  tmcat06 tmcat07\n",
              "44 2019-07-01       36157      2  28800  ...       0       0        0       0\n",
              "45 2019-07-01       36157      2  28800  ...       0       0     1772       0\n",
              "46 2019-07-01       36157      2  28800  ...       0       0        0       0\n",
              "47 2019-07-01       36157      2  28800  ...   43200       0        0       0\n",
              "48 2019-07-01       36157      2  28800  ...   43200       0        0       0\n",
              "\n",
              "[5 rows x 26 columns]"
            ]
          },
          "metadata": {
            "tags": []
          },
          "execution_count": 6
        }
      ]
    },
    {
      "cell_type": "markdown",
      "metadata": {
        "id": "_5q9u_df1Hw2"
      },
      "source": [
        "Ejemplo"
      ]
    },
    {
      "cell_type": "code",
      "metadata": {
        "id": "Lz3gtavb1OSN"
      },
      "source": [
        "aux = df_palas[['shiftdate','shift#','eqmtid','totaltime','loadcnt','totaltons','tmcat01','tmcat02','tmcat03','tmcat04','tmcat05','tmcat06','tmcat07']]\n",
        "aux[(df_palas.shiftdate == '2019-11-01') & (df_palas['shift#'] == '1') ]"
      ],
      "execution_count": null,
      "outputs": []
    },
    {
      "cell_type": "code",
      "metadata": {
        "id": "lCkkZcOWmT5h"
      },
      "source": [
        "palas = pd.DataFrame(df_palas.groupby(['shiftdate','shiftindex','shift#','eqmtid']).sum().reset_index().sort_values('shiftdate'))"
      ],
      "execution_count": 12,
      "outputs": []
    },
    {
      "cell_type": "code",
      "metadata": {
        "id": "5yArPCOoq8XF",
        "outputId": "28dc6d7d-9cb4-485a-edd1-df0ae1922b65",
        "colab": {
          "base_uri": "https://localhost:8080/"
        }
      },
      "source": [
        "palas.columns"
      ],
      "execution_count": 13,
      "outputs": [
        {
          "output_type": "execute_result",
          "data": {
            "text/plain": [
              "Index(['shiftdate', 'shiftindex', 'shift#', 'eqmtid', 'start', 'logintime',\n",
              "       'totaltime', 'totalloads', 'totaltons', 'loadtime', 'idletime',\n",
              "       'spottime', 'loadcnt', 'tmcat00', 'tmcat01', 'tmcat02', 'tmcat03',\n",
              "       'tmcat04', 'tmcat05', 'tmcat06', 'tmcat07'],\n",
              "      dtype='object')"
            ]
          },
          "metadata": {
            "tags": []
          },
          "execution_count": 13
        }
      ]
    },
    {
      "cell_type": "code",
      "metadata": {
        "id": "4uUlYAdesMpH"
      },
      "source": [
        "list_drop = ['start','logintime','totalloads','loadtime','idletime','spottime','tmcat00']\n",
        "palas.drop(list_drop,axis=1,inplace=True)"
      ],
      "execution_count": 14,
      "outputs": []
    },
    {
      "cell_type": "code",
      "metadata": {
        "id": "T5z6Ovwv28z8",
        "outputId": "93116527-082b-4077-bcd5-1b1cd2880b2e",
        "colab": {
          "base_uri": "https://localhost:8080/",
          "height": 379
        }
      },
      "source": [
        "palas.head(10)"
      ],
      "execution_count": 15,
      "outputs": [
        {
          "output_type": "execute_result",
          "data": {
            "text/html": [
              "<div>\n",
              "<style scoped>\n",
              "    .dataframe tbody tr th:only-of-type {\n",
              "        vertical-align: middle;\n",
              "    }\n",
              "\n",
              "    .dataframe tbody tr th {\n",
              "        vertical-align: top;\n",
              "    }\n",
              "\n",
              "    .dataframe thead th {\n",
              "        text-align: right;\n",
              "    }\n",
              "</style>\n",
              "<table border=\"1\" class=\"dataframe\">\n",
              "  <thead>\n",
              "    <tr style=\"text-align: right;\">\n",
              "      <th></th>\n",
              "      <th>shiftdate</th>\n",
              "      <th>shiftindex</th>\n",
              "      <th>shift#</th>\n",
              "      <th>eqmtid</th>\n",
              "      <th>totaltime</th>\n",
              "      <th>totaltons</th>\n",
              "      <th>loadcnt</th>\n",
              "      <th>tmcat01</th>\n",
              "      <th>tmcat02</th>\n",
              "      <th>tmcat03</th>\n",
              "      <th>tmcat04</th>\n",
              "      <th>tmcat05</th>\n",
              "      <th>tmcat06</th>\n",
              "      <th>tmcat07</th>\n",
              "    </tr>\n",
              "  </thead>\n",
              "  <tbody>\n",
              "    <tr>\n",
              "      <th>0</th>\n",
              "      <td>2019-07-01</td>\n",
              "      <td>36156</td>\n",
              "      <td>1</td>\n",
              "      <td>025</td>\n",
              "      <td>43200</td>\n",
              "      <td>0</td>\n",
              "      <td>0</td>\n",
              "      <td>0</td>\n",
              "      <td>0</td>\n",
              "      <td>0</td>\n",
              "      <td>0</td>\n",
              "      <td>3600</td>\n",
              "      <td>39600</td>\n",
              "      <td>0</td>\n",
              "    </tr>\n",
              "    <tr>\n",
              "      <th>20</th>\n",
              "      <td>2019-07-01</td>\n",
              "      <td>36157</td>\n",
              "      <td>2</td>\n",
              "      <td>029</td>\n",
              "      <td>43200</td>\n",
              "      <td>0</td>\n",
              "      <td>0</td>\n",
              "      <td>34200</td>\n",
              "      <td>0</td>\n",
              "      <td>1800</td>\n",
              "      <td>0</td>\n",
              "      <td>0</td>\n",
              "      <td>7200</td>\n",
              "      <td>0</td>\n",
              "    </tr>\n",
              "    <tr>\n",
              "      <th>21</th>\n",
              "      <td>2019-07-01</td>\n",
              "      <td>36157</td>\n",
              "      <td>2</td>\n",
              "      <td>030</td>\n",
              "      <td>43200</td>\n",
              "      <td>0</td>\n",
              "      <td>0</td>\n",
              "      <td>27000</td>\n",
              "      <td>0</td>\n",
              "      <td>9000</td>\n",
              "      <td>0</td>\n",
              "      <td>0</td>\n",
              "      <td>7200</td>\n",
              "      <td>0</td>\n",
              "    </tr>\n",
              "    <tr>\n",
              "      <th>22</th>\n",
              "      <td>2019-07-01</td>\n",
              "      <td>36157</td>\n",
              "      <td>2</td>\n",
              "      <td>210</td>\n",
              "      <td>43200</td>\n",
              "      <td>0</td>\n",
              "      <td>0</td>\n",
              "      <td>0</td>\n",
              "      <td>0</td>\n",
              "      <td>0</td>\n",
              "      <td>0</td>\n",
              "      <td>43200</td>\n",
              "      <td>0</td>\n",
              "      <td>0</td>\n",
              "    </tr>\n",
              "    <tr>\n",
              "      <th>23</th>\n",
              "      <td>2019-07-01</td>\n",
              "      <td>36157</td>\n",
              "      <td>2</td>\n",
              "      <td>211</td>\n",
              "      <td>43200</td>\n",
              "      <td>35782</td>\n",
              "      <td>157</td>\n",
              "      <td>35168</td>\n",
              "      <td>0</td>\n",
              "      <td>814</td>\n",
              "      <td>3086</td>\n",
              "      <td>0</td>\n",
              "      <td>4132</td>\n",
              "      <td>0</td>\n",
              "    </tr>\n",
              "    <tr>\n",
              "      <th>24</th>\n",
              "      <td>2019-07-01</td>\n",
              "      <td>36157</td>\n",
              "      <td>2</td>\n",
              "      <td>212</td>\n",
              "      <td>43200</td>\n",
              "      <td>0</td>\n",
              "      <td>0</td>\n",
              "      <td>0</td>\n",
              "      <td>0</td>\n",
              "      <td>0</td>\n",
              "      <td>0</td>\n",
              "      <td>43200</td>\n",
              "      <td>0</td>\n",
              "      <td>0</td>\n",
              "    </tr>\n",
              "    <tr>\n",
              "      <th>25</th>\n",
              "      <td>2019-07-01</td>\n",
              "      <td>36157</td>\n",
              "      <td>2</td>\n",
              "      <td>213</td>\n",
              "      <td>43200</td>\n",
              "      <td>2833</td>\n",
              "      <td>12</td>\n",
              "      <td>5593</td>\n",
              "      <td>0</td>\n",
              "      <td>367</td>\n",
              "      <td>3466</td>\n",
              "      <td>33774</td>\n",
              "      <td>0</td>\n",
              "      <td>0</td>\n",
              "    </tr>\n",
              "    <tr>\n",
              "      <th>27</th>\n",
              "      <td>2019-07-01</td>\n",
              "      <td>36157</td>\n",
              "      <td>2</td>\n",
              "      <td>305</td>\n",
              "      <td>43200</td>\n",
              "      <td>12764</td>\n",
              "      <td>55</td>\n",
              "      <td>30875</td>\n",
              "      <td>0</td>\n",
              "      <td>3972</td>\n",
              "      <td>4192</td>\n",
              "      <td>0</td>\n",
              "      <td>4161</td>\n",
              "      <td>0</td>\n",
              "    </tr>\n",
              "    <tr>\n",
              "      <th>28</th>\n",
              "      <td>2019-07-01</td>\n",
              "      <td>36157</td>\n",
              "      <td>2</td>\n",
              "      <td>306</td>\n",
              "      <td>43200</td>\n",
              "      <td>12139</td>\n",
              "      <td>54</td>\n",
              "      <td>24996</td>\n",
              "      <td>0</td>\n",
              "      <td>10339</td>\n",
              "      <td>0</td>\n",
              "      <td>6049</td>\n",
              "      <td>1816</td>\n",
              "      <td>0</td>\n",
              "    </tr>\n",
              "    <tr>\n",
              "      <th>29</th>\n",
              "      <td>2019-07-01</td>\n",
              "      <td>36157</td>\n",
              "      <td>2</td>\n",
              "      <td>307</td>\n",
              "      <td>43200</td>\n",
              "      <td>24025</td>\n",
              "      <td>103</td>\n",
              "      <td>35320</td>\n",
              "      <td>0</td>\n",
              "      <td>6108</td>\n",
              "      <td>0</td>\n",
              "      <td>0</td>\n",
              "      <td>1772</td>\n",
              "      <td>0</td>\n",
              "    </tr>\n",
              "  </tbody>\n",
              "</table>\n",
              "</div>"
            ],
            "text/plain": [
              "    shiftdate  shiftindex shift# eqmtid  ...  tmcat04  tmcat05  tmcat06  tmcat07\n",
              "0  2019-07-01       36156      1    025  ...        0     3600    39600        0\n",
              "20 2019-07-01       36157      2    029  ...        0        0     7200        0\n",
              "21 2019-07-01       36157      2    030  ...        0        0     7200        0\n",
              "22 2019-07-01       36157      2    210  ...        0    43200        0        0\n",
              "23 2019-07-01       36157      2    211  ...     3086        0     4132        0\n",
              "24 2019-07-01       36157      2    212  ...        0    43200        0        0\n",
              "25 2019-07-01       36157      2    213  ...     3466    33774        0        0\n",
              "27 2019-07-01       36157      2    305  ...     4192        0     4161        0\n",
              "28 2019-07-01       36157      2    306  ...        0     6049     1816        0\n",
              "29 2019-07-01       36157      2    307  ...        0        0     1772        0\n",
              "\n",
              "[10 rows x 14 columns]"
            ]
          },
          "metadata": {
            "tags": []
          },
          "execution_count": 15
        }
      ]
    },
    {
      "cell_type": "code",
      "metadata": {
        "id": "p2yiRGZ07HoU",
        "outputId": "d1bc41bb-14c0-4876-ea0d-a11427f16084",
        "colab": {
          "base_uri": "https://localhost:8080/",
          "height": 627
        }
      },
      "source": [
        "aux = palas[['shiftdate','shift#','eqmtid','totaltime','loadcnt','totaltons','tmcat01','tmcat02','tmcat03','tmcat04','tmcat05','tmcat06','tmcat07']]\n",
        "aux[(palas.shiftdate == '2019-11-01') & (palas['shift#'] == '1') ]"
      ],
      "execution_count": 16,
      "outputs": [
        {
          "output_type": "execute_result",
          "data": {
            "text/html": [
              "<div>\n",
              "<style scoped>\n",
              "    .dataframe tbody tr th:only-of-type {\n",
              "        vertical-align: middle;\n",
              "    }\n",
              "\n",
              "    .dataframe tbody tr th {\n",
              "        vertical-align: top;\n",
              "    }\n",
              "\n",
              "    .dataframe thead th {\n",
              "        text-align: right;\n",
              "    }\n",
              "</style>\n",
              "<table border=\"1\" class=\"dataframe\">\n",
              "  <thead>\n",
              "    <tr style=\"text-align: right;\">\n",
              "      <th></th>\n",
              "      <th>shiftdate</th>\n",
              "      <th>shift#</th>\n",
              "      <th>eqmtid</th>\n",
              "      <th>totaltime</th>\n",
              "      <th>loadcnt</th>\n",
              "      <th>totaltons</th>\n",
              "      <th>tmcat01</th>\n",
              "      <th>tmcat02</th>\n",
              "      <th>tmcat03</th>\n",
              "      <th>tmcat04</th>\n",
              "      <th>tmcat05</th>\n",
              "      <th>tmcat06</th>\n",
              "      <th>tmcat07</th>\n",
              "    </tr>\n",
              "  </thead>\n",
              "  <tbody>\n",
              "    <tr>\n",
              "      <th>4408</th>\n",
              "      <td>2019-11-01</td>\n",
              "      <td>1</td>\n",
              "      <td>TAMA2</td>\n",
              "      <td>43200</td>\n",
              "      <td>0</td>\n",
              "      <td>0</td>\n",
              "      <td>0</td>\n",
              "      <td>0</td>\n",
              "      <td>0</td>\n",
              "      <td>43200</td>\n",
              "      <td>0</td>\n",
              "      <td>0</td>\n",
              "      <td>0</td>\n",
              "    </tr>\n",
              "    <tr>\n",
              "      <th>4409</th>\n",
              "      <td>2019-11-01</td>\n",
              "      <td>1</td>\n",
              "      <td>VALLE2</td>\n",
              "      <td>43200</td>\n",
              "      <td>0</td>\n",
              "      <td>0</td>\n",
              "      <td>0</td>\n",
              "      <td>0</td>\n",
              "      <td>0</td>\n",
              "      <td>43200</td>\n",
              "      <td>0</td>\n",
              "      <td>0</td>\n",
              "      <td>0</td>\n",
              "    </tr>\n",
              "    <tr>\n",
              "      <th>4393</th>\n",
              "      <td>2019-11-01</td>\n",
              "      <td>1</td>\n",
              "      <td>026</td>\n",
              "      <td>43200</td>\n",
              "      <td>0</td>\n",
              "      <td>0</td>\n",
              "      <td>0</td>\n",
              "      <td>0</td>\n",
              "      <td>0</td>\n",
              "      <td>43200</td>\n",
              "      <td>0</td>\n",
              "      <td>0</td>\n",
              "      <td>0</td>\n",
              "    </tr>\n",
              "    <tr>\n",
              "      <th>4394</th>\n",
              "      <td>2019-11-01</td>\n",
              "      <td>1</td>\n",
              "      <td>029</td>\n",
              "      <td>43200</td>\n",
              "      <td>0</td>\n",
              "      <td>0</td>\n",
              "      <td>0</td>\n",
              "      <td>0</td>\n",
              "      <td>0</td>\n",
              "      <td>43200</td>\n",
              "      <td>0</td>\n",
              "      <td>0</td>\n",
              "      <td>0</td>\n",
              "    </tr>\n",
              "    <tr>\n",
              "      <th>4395</th>\n",
              "      <td>2019-11-01</td>\n",
              "      <td>1</td>\n",
              "      <td>030</td>\n",
              "      <td>43200</td>\n",
              "      <td>0</td>\n",
              "      <td>0</td>\n",
              "      <td>0</td>\n",
              "      <td>0</td>\n",
              "      <td>0</td>\n",
              "      <td>0</td>\n",
              "      <td>0</td>\n",
              "      <td>43200</td>\n",
              "      <td>0</td>\n",
              "    </tr>\n",
              "    <tr>\n",
              "      <th>4396</th>\n",
              "      <td>2019-11-01</td>\n",
              "      <td>1</td>\n",
              "      <td>210</td>\n",
              "      <td>43200</td>\n",
              "      <td>0</td>\n",
              "      <td>0</td>\n",
              "      <td>0</td>\n",
              "      <td>0</td>\n",
              "      <td>0</td>\n",
              "      <td>0</td>\n",
              "      <td>0</td>\n",
              "      <td>0</td>\n",
              "      <td>43200</td>\n",
              "    </tr>\n",
              "    <tr>\n",
              "      <th>4397</th>\n",
              "      <td>2019-11-01</td>\n",
              "      <td>1</td>\n",
              "      <td>211</td>\n",
              "      <td>43200</td>\n",
              "      <td>161</td>\n",
              "      <td>36983</td>\n",
              "      <td>35058</td>\n",
              "      <td>0</td>\n",
              "      <td>4443</td>\n",
              "      <td>0</td>\n",
              "      <td>0</td>\n",
              "      <td>3699</td>\n",
              "      <td>0</td>\n",
              "    </tr>\n",
              "    <tr>\n",
              "      <th>4398</th>\n",
              "      <td>2019-11-01</td>\n",
              "      <td>1</td>\n",
              "      <td>212</td>\n",
              "      <td>43200</td>\n",
              "      <td>0</td>\n",
              "      <td>0</td>\n",
              "      <td>0</td>\n",
              "      <td>0</td>\n",
              "      <td>0</td>\n",
              "      <td>0</td>\n",
              "      <td>43200</td>\n",
              "      <td>0</td>\n",
              "      <td>0</td>\n",
              "    </tr>\n",
              "    <tr>\n",
              "      <th>4399</th>\n",
              "      <td>2019-11-01</td>\n",
              "      <td>1</td>\n",
              "      <td>213</td>\n",
              "      <td>43200</td>\n",
              "      <td>0</td>\n",
              "      <td>0</td>\n",
              "      <td>0</td>\n",
              "      <td>0</td>\n",
              "      <td>0</td>\n",
              "      <td>0</td>\n",
              "      <td>43200</td>\n",
              "      <td>0</td>\n",
              "      <td>0</td>\n",
              "    </tr>\n",
              "    <tr>\n",
              "      <th>4392</th>\n",
              "      <td>2019-11-01</td>\n",
              "      <td>1</td>\n",
              "      <td>025</td>\n",
              "      <td>43200</td>\n",
              "      <td>0</td>\n",
              "      <td>0</td>\n",
              "      <td>0</td>\n",
              "      <td>0</td>\n",
              "      <td>43200</td>\n",
              "      <td>0</td>\n",
              "      <td>0</td>\n",
              "      <td>0</td>\n",
              "      <td>0</td>\n",
              "    </tr>\n",
              "    <tr>\n",
              "      <th>4401</th>\n",
              "      <td>2019-11-01</td>\n",
              "      <td>1</td>\n",
              "      <td>305</td>\n",
              "      <td>43200</td>\n",
              "      <td>0</td>\n",
              "      <td>0</td>\n",
              "      <td>0</td>\n",
              "      <td>0</td>\n",
              "      <td>0</td>\n",
              "      <td>0</td>\n",
              "      <td>43200</td>\n",
              "      <td>0</td>\n",
              "      <td>0</td>\n",
              "    </tr>\n",
              "    <tr>\n",
              "      <th>4402</th>\n",
              "      <td>2019-11-01</td>\n",
              "      <td>1</td>\n",
              "      <td>306</td>\n",
              "      <td>43200</td>\n",
              "      <td>120</td>\n",
              "      <td>27629</td>\n",
              "      <td>36524</td>\n",
              "      <td>0</td>\n",
              "      <td>3138</td>\n",
              "      <td>0</td>\n",
              "      <td>0</td>\n",
              "      <td>3538</td>\n",
              "      <td>0</td>\n",
              "    </tr>\n",
              "    <tr>\n",
              "      <th>4403</th>\n",
              "      <td>2019-11-01</td>\n",
              "      <td>1</td>\n",
              "      <td>307</td>\n",
              "      <td>43200</td>\n",
              "      <td>74</td>\n",
              "      <td>17024</td>\n",
              "      <td>31434</td>\n",
              "      <td>0</td>\n",
              "      <td>1911</td>\n",
              "      <td>0</td>\n",
              "      <td>6272</td>\n",
              "      <td>3583</td>\n",
              "      <td>0</td>\n",
              "    </tr>\n",
              "    <tr>\n",
              "      <th>4404</th>\n",
              "      <td>2019-11-01</td>\n",
              "      <td>1</td>\n",
              "      <td>BUZON</td>\n",
              "      <td>43200</td>\n",
              "      <td>26</td>\n",
              "      <td>5594</td>\n",
              "      <td>39232</td>\n",
              "      <td>0</td>\n",
              "      <td>102</td>\n",
              "      <td>3866</td>\n",
              "      <td>0</td>\n",
              "      <td>0</td>\n",
              "      <td>0</td>\n",
              "    </tr>\n",
              "    <tr>\n",
              "      <th>4405</th>\n",
              "      <td>2019-11-01</td>\n",
              "      <td>1</td>\n",
              "      <td>COSE2</td>\n",
              "      <td>43200</td>\n",
              "      <td>0</td>\n",
              "      <td>0</td>\n",
              "      <td>0</td>\n",
              "      <td>0</td>\n",
              "      <td>0</td>\n",
              "      <td>43200</td>\n",
              "      <td>0</td>\n",
              "      <td>0</td>\n",
              "      <td>0</td>\n",
              "    </tr>\n",
              "    <tr>\n",
              "      <th>4406</th>\n",
              "      <td>2019-11-01</td>\n",
              "      <td>1</td>\n",
              "      <td>DEPE2</td>\n",
              "      <td>43200</td>\n",
              "      <td>0</td>\n",
              "      <td>0</td>\n",
              "      <td>0</td>\n",
              "      <td>0</td>\n",
              "      <td>0</td>\n",
              "      <td>43200</td>\n",
              "      <td>0</td>\n",
              "      <td>0</td>\n",
              "      <td>0</td>\n",
              "    </tr>\n",
              "    <tr>\n",
              "      <th>4407</th>\n",
              "      <td>2019-11-01</td>\n",
              "      <td>1</td>\n",
              "      <td>RETRO</td>\n",
              "      <td>43200</td>\n",
              "      <td>0</td>\n",
              "      <td>0</td>\n",
              "      <td>0</td>\n",
              "      <td>0</td>\n",
              "      <td>0</td>\n",
              "      <td>43200</td>\n",
              "      <td>0</td>\n",
              "      <td>0</td>\n",
              "      <td>0</td>\n",
              "    </tr>\n",
              "    <tr>\n",
              "      <th>4400</th>\n",
              "      <td>2019-11-01</td>\n",
              "      <td>1</td>\n",
              "      <td>304</td>\n",
              "      <td>43200</td>\n",
              "      <td>0</td>\n",
              "      <td>0</td>\n",
              "      <td>0</td>\n",
              "      <td>0</td>\n",
              "      <td>0</td>\n",
              "      <td>0</td>\n",
              "      <td>0</td>\n",
              "      <td>43200</td>\n",
              "      <td>0</td>\n",
              "    </tr>\n",
              "  </tbody>\n",
              "</table>\n",
              "</div>"
            ],
            "text/plain": [
              "      shiftdate shift#  eqmtid  totaltime  ...  tmcat04  tmcat05  tmcat06  tmcat07\n",
              "4408 2019-11-01      1   TAMA2      43200  ...    43200        0        0        0\n",
              "4409 2019-11-01      1  VALLE2      43200  ...    43200        0        0        0\n",
              "4393 2019-11-01      1     026      43200  ...    43200        0        0        0\n",
              "4394 2019-11-01      1     029      43200  ...    43200        0        0        0\n",
              "4395 2019-11-01      1     030      43200  ...        0        0    43200        0\n",
              "4396 2019-11-01      1     210      43200  ...        0        0        0    43200\n",
              "4397 2019-11-01      1     211      43200  ...        0        0     3699        0\n",
              "4398 2019-11-01      1     212      43200  ...        0    43200        0        0\n",
              "4399 2019-11-01      1     213      43200  ...        0    43200        0        0\n",
              "4392 2019-11-01      1     025      43200  ...        0        0        0        0\n",
              "4401 2019-11-01      1     305      43200  ...        0    43200        0        0\n",
              "4402 2019-11-01      1     306      43200  ...        0        0     3538        0\n",
              "4403 2019-11-01      1     307      43200  ...        0     6272     3583        0\n",
              "4404 2019-11-01      1   BUZON      43200  ...     3866        0        0        0\n",
              "4405 2019-11-01      1   COSE2      43200  ...    43200        0        0        0\n",
              "4406 2019-11-01      1   DEPE2      43200  ...    43200        0        0        0\n",
              "4407 2019-11-01      1   RETRO      43200  ...    43200        0        0        0\n",
              "4400 2019-11-01      1     304      43200  ...        0        0    43200        0\n",
              "\n",
              "[18 rows x 13 columns]"
            ]
          },
          "metadata": {
            "tags": []
          },
          "execution_count": 16
        }
      ]
    },
    {
      "cell_type": "markdown",
      "metadata": {
        "id": "HpIMdg3X2ZIe"
      },
      "source": [
        "Calculo Rendimiento"
      ]
    },
    {
      "cell_type": "code",
      "metadata": {
        "id": "Tpi8lfCjzqM3"
      },
      "source": [
        "def rendimiento_efectivo(ton,time):\n",
        "  if time == 0:\n",
        "    return 0\n",
        "  else:\n",
        "    return int((ton/time) * 3600)"
      ],
      "execution_count": 17,
      "outputs": []
    },
    {
      "cell_type": "code",
      "metadata": {
        "id": "MUaHxueNztHD"
      },
      "source": [
        "palas['rendimiento_efectivo'] = palas.apply(lambda row : rendimiento_efectivo(row.totaltons,row.tmcat01),axis=1)"
      ],
      "execution_count": 18,
      "outputs": []
    },
    {
      "cell_type": "markdown",
      "metadata": {
        "id": "X0wfzt-qFRnL"
      },
      "source": [
        "Datos anomalos"
      ]
    },
    {
      "cell_type": "code",
      "metadata": {
        "id": "qe91RTTKFUcr",
        "outputId": "6f49455c-648d-4bb3-89eb-05a4e017335c",
        "colab": {
          "base_uri": "https://localhost:8080/",
          "height": 162
        }
      },
      "source": [
        "palas[palas.rendimiento_efectivo > 1.5 * 3600]"
      ],
      "execution_count": 19,
      "outputs": [
        {
          "output_type": "execute_result",
          "data": {
            "text/html": [
              "<div>\n",
              "<style scoped>\n",
              "    .dataframe tbody tr th:only-of-type {\n",
              "        vertical-align: middle;\n",
              "    }\n",
              "\n",
              "    .dataframe tbody tr th {\n",
              "        vertical-align: top;\n",
              "    }\n",
              "\n",
              "    .dataframe thead th {\n",
              "        text-align: right;\n",
              "    }\n",
              "</style>\n",
              "<table border=\"1\" class=\"dataframe\">\n",
              "  <thead>\n",
              "    <tr style=\"text-align: right;\">\n",
              "      <th></th>\n",
              "      <th>shiftdate</th>\n",
              "      <th>shiftindex</th>\n",
              "      <th>shift#</th>\n",
              "      <th>eqmtid</th>\n",
              "      <th>totaltime</th>\n",
              "      <th>totaltons</th>\n",
              "      <th>loadcnt</th>\n",
              "      <th>tmcat01</th>\n",
              "      <th>tmcat02</th>\n",
              "      <th>tmcat03</th>\n",
              "      <th>tmcat04</th>\n",
              "      <th>tmcat05</th>\n",
              "      <th>tmcat06</th>\n",
              "      <th>tmcat07</th>\n",
              "      <th>rendimiento_efectivo</th>\n",
              "    </tr>\n",
              "  </thead>\n",
              "  <tbody>\n",
              "    <tr>\n",
              "      <th>7406</th>\n",
              "      <td>2020-01-26</td>\n",
              "      <td>36574</td>\n",
              "      <td>1</td>\n",
              "      <td>307</td>\n",
              "      <td>43200</td>\n",
              "      <td>15268</td>\n",
              "      <td>64</td>\n",
              "      <td>2660</td>\n",
              "      <td>0</td>\n",
              "      <td>21656</td>\n",
              "      <td>18884</td>\n",
              "      <td>0</td>\n",
              "      <td>0</td>\n",
              "      <td>0</td>\n",
              "      <td>20663</td>\n",
              "    </tr>\n",
              "    <tr>\n",
              "      <th>7543</th>\n",
              "      <td>2020-01-30</td>\n",
              "      <td>36582</td>\n",
              "      <td>1</td>\n",
              "      <td>BUZON</td>\n",
              "      <td>43200</td>\n",
              "      <td>3698</td>\n",
              "      <td>16</td>\n",
              "      <td>2092</td>\n",
              "      <td>0</td>\n",
              "      <td>0</td>\n",
              "      <td>41108</td>\n",
              "      <td>0</td>\n",
              "      <td>0</td>\n",
              "      <td>0</td>\n",
              "      <td>6363</td>\n",
              "    </tr>\n",
              "    <tr>\n",
              "      <th>10470</th>\n",
              "      <td>2020-05-09</td>\n",
              "      <td>36783</td>\n",
              "      <td>2</td>\n",
              "      <td>211</td>\n",
              "      <td>43200</td>\n",
              "      <td>240</td>\n",
              "      <td>1</td>\n",
              "      <td>20</td>\n",
              "      <td>0</td>\n",
              "      <td>66</td>\n",
              "      <td>0</td>\n",
              "      <td>42478</td>\n",
              "      <td>636</td>\n",
              "      <td>0</td>\n",
              "      <td>43200</td>\n",
              "    </tr>\n",
              "  </tbody>\n",
              "</table>\n",
              "</div>"
            ],
            "text/plain": [
              "       shiftdate  shiftindex shift#  ... tmcat06  tmcat07  rendimiento_efectivo\n",
              "7406  2020-01-26       36574      1  ...       0        0                 20663\n",
              "7543  2020-01-30       36582      1  ...       0        0                  6363\n",
              "10470 2020-05-09       36783      2  ...     636        0                 43200\n",
              "\n",
              "[3 rows x 15 columns]"
            ]
          },
          "metadata": {
            "tags": []
          },
          "execution_count": 19
        }
      ]
    },
    {
      "cell_type": "code",
      "metadata": {
        "id": "BhN2VCGjG7eP"
      },
      "source": [
        "palas.drop([7406,7543,10470],axis=0,inplace=True)"
      ],
      "execution_count": 20,
      "outputs": []
    },
    {
      "cell_type": "markdown",
      "metadata": {
        "id": "0ncIj1M4BZLg"
      },
      "source": [
        "Eliminamos las Palas con toneladas y timepo efectivos iguales a 0"
      ]
    },
    {
      "cell_type": "code",
      "metadata": {
        "id": "nR4GHxxjxUGu"
      },
      "source": [
        "palas = palas[(palas.totaltons != 0) & (palas.tmcat01 != 0)]"
      ],
      "execution_count": 21,
      "outputs": []
    },
    {
      "cell_type": "code",
      "metadata": {
        "id": "aoF2D5LfAk4E"
      },
      "source": [
        "palas.drop(['totaltons','tmcat01'],axis=1,inplace=True)"
      ],
      "execution_count": 22,
      "outputs": []
    },
    {
      "cell_type": "markdown",
      "metadata": {
        "id": "rFRfynO9BfhJ"
      },
      "source": [
        "La fecha la convertimos en un valor númerico"
      ]
    },
    {
      "cell_type": "code",
      "metadata": {
        "id": "6l4Smvi-yiXB"
      },
      "source": [
        "import datetime as dt"
      ],
      "execution_count": 23,
      "outputs": []
    },
    {
      "cell_type": "code",
      "metadata": {
        "id": "y5Vqb6ZXxPmC"
      },
      "source": [
        "palas['shiftdate'] = pd.to_datetime(palas['shiftdate'])\n",
        "palas['shiftdate'] = palas['shiftdate'].map(dt.datetime.toordinal)"
      ],
      "execution_count": 24,
      "outputs": []
    },
    {
      "cell_type": "markdown",
      "metadata": {
        "id": "aWnSm-E-CQA3"
      },
      "source": [
        "(?) Que fechas nos quedamos"
      ]
    },
    {
      "cell_type": "code",
      "metadata": {
        "id": "cZnkJHMbCUjA"
      },
      "source": [
        "palas.drop('shiftindex',axis=1,inplace=True)\n",
        "#palas.drop('shiftdate',axis=1,inplace=True)"
      ],
      "execution_count": 25,
      "outputs": []
    },
    {
      "cell_type": "code",
      "metadata": {
        "id": "WW0J1lyeCBBH",
        "outputId": "7ad215a6-fe05-4ba1-bd6e-46d7022ffbf4",
        "colab": {
          "base_uri": "https://localhost:8080/"
        }
      },
      "source": [
        "palas.info()"
      ],
      "execution_count": 26,
      "outputs": [
        {
          "output_type": "stream",
          "text": [
            "<class 'pandas.core.frame.DataFrame'>\n",
            "Int64Index: 3812 entries, 23 to 13629\n",
            "Data columns (total 12 columns):\n",
            " #   Column                Non-Null Count  Dtype \n",
            "---  ------                --------------  ----- \n",
            " 0   shiftdate             3812 non-null   int64 \n",
            " 1   shift#                3812 non-null   object\n",
            " 2   eqmtid                3812 non-null   object\n",
            " 3   totaltime             3812 non-null   int64 \n",
            " 4   loadcnt               3812 non-null   int64 \n",
            " 5   tmcat02               3812 non-null   int64 \n",
            " 6   tmcat03               3812 non-null   int64 \n",
            " 7   tmcat04               3812 non-null   int64 \n",
            " 8   tmcat05               3812 non-null   int64 \n",
            " 9   tmcat06               3812 non-null   int64 \n",
            " 10  tmcat07               3812 non-null   int64 \n",
            " 11  rendimiento_efectivo  3812 non-null   int64 \n",
            "dtypes: int64(10), object(2)\n",
            "memory usage: 387.2+ KB\n"
          ],
          "name": "stdout"
        }
      ]
    },
    {
      "cell_type": "code",
      "metadata": {
        "id": "5GcMgwMzADoB",
        "outputId": "1121bda5-0ae9-41ea-e860-8a284d4b60d8",
        "colab": {
          "base_uri": "https://localhost:8080/",
          "height": 317
        }
      },
      "source": [
        "palas.describe()"
      ],
      "execution_count": 27,
      "outputs": [
        {
          "output_type": "execute_result",
          "data": {
            "text/html": [
              "<div>\n",
              "<style scoped>\n",
              "    .dataframe tbody tr th:only-of-type {\n",
              "        vertical-align: middle;\n",
              "    }\n",
              "\n",
              "    .dataframe tbody tr th {\n",
              "        vertical-align: top;\n",
              "    }\n",
              "\n",
              "    .dataframe thead th {\n",
              "        text-align: right;\n",
              "    }\n",
              "</style>\n",
              "<table border=\"1\" class=\"dataframe\">\n",
              "  <thead>\n",
              "    <tr style=\"text-align: right;\">\n",
              "      <th></th>\n",
              "      <th>shiftdate</th>\n",
              "      <th>totaltime</th>\n",
              "      <th>loadcnt</th>\n",
              "      <th>tmcat02</th>\n",
              "      <th>tmcat03</th>\n",
              "      <th>tmcat04</th>\n",
              "      <th>tmcat05</th>\n",
              "      <th>tmcat06</th>\n",
              "      <th>tmcat07</th>\n",
              "      <th>rendimiento_efectivo</th>\n",
              "    </tr>\n",
              "  </thead>\n",
              "  <tbody>\n",
              "    <tr>\n",
              "      <th>count</th>\n",
              "      <td>3812.000000</td>\n",
              "      <td>3812.000000</td>\n",
              "      <td>3812.000000</td>\n",
              "      <td>3812.000000</td>\n",
              "      <td>3812.000000</td>\n",
              "      <td>3812.000000</td>\n",
              "      <td>3812.000000</td>\n",
              "      <td>3812.000000</td>\n",
              "      <td>3812.000000</td>\n",
              "      <td>3812.000000</td>\n",
              "    </tr>\n",
              "    <tr>\n",
              "      <th>mean</th>\n",
              "      <td>737448.412644</td>\n",
              "      <td>43188.600472</td>\n",
              "      <td>70.815058</td>\n",
              "      <td>2.518888</td>\n",
              "      <td>2677.501049</td>\n",
              "      <td>5097.592602</td>\n",
              "      <td>5406.289874</td>\n",
              "      <td>2742.799580</td>\n",
              "      <td>1064.181532</td>\n",
              "      <td>2202.463799</td>\n",
              "    </tr>\n",
              "    <tr>\n",
              "      <th>std</th>\n",
              "      <td>132.293054</td>\n",
              "      <td>314.593880</td>\n",
              "      <td>43.250154</td>\n",
              "      <td>141.719613</td>\n",
              "      <td>2472.655039</td>\n",
              "      <td>9118.863231</td>\n",
              "      <td>9344.629754</td>\n",
              "      <td>3029.974779</td>\n",
              "      <td>4922.852505</td>\n",
              "      <td>923.536280</td>\n",
              "    </tr>\n",
              "    <tr>\n",
              "      <th>min</th>\n",
              "      <td>737241.000000</td>\n",
              "      <td>34509.000000</td>\n",
              "      <td>1.000000</td>\n",
              "      <td>0.000000</td>\n",
              "      <td>0.000000</td>\n",
              "      <td>0.000000</td>\n",
              "      <td>0.000000</td>\n",
              "      <td>0.000000</td>\n",
              "      <td>0.000000</td>\n",
              "      <td>24.000000</td>\n",
              "    </tr>\n",
              "    <tr>\n",
              "      <th>25%</th>\n",
              "      <td>737330.000000</td>\n",
              "      <td>43200.000000</td>\n",
              "      <td>35.000000</td>\n",
              "      <td>0.000000</td>\n",
              "      <td>978.500000</td>\n",
              "      <td>0.000000</td>\n",
              "      <td>0.000000</td>\n",
              "      <td>0.000000</td>\n",
              "      <td>0.000000</td>\n",
              "      <td>1596.750000</td>\n",
              "    </tr>\n",
              "    <tr>\n",
              "      <th>50%</th>\n",
              "      <td>737442.000000</td>\n",
              "      <td>43200.000000</td>\n",
              "      <td>69.000000</td>\n",
              "      <td>0.000000</td>\n",
              "      <td>2159.500000</td>\n",
              "      <td>0.000000</td>\n",
              "      <td>0.000000</td>\n",
              "      <td>3571.000000</td>\n",
              "      <td>0.000000</td>\n",
              "      <td>2113.000000</td>\n",
              "    </tr>\n",
              "    <tr>\n",
              "      <th>75%</th>\n",
              "      <td>737569.000000</td>\n",
              "      <td>43200.000000</td>\n",
              "      <td>99.000000</td>\n",
              "      <td>0.000000</td>\n",
              "      <td>3635.500000</td>\n",
              "      <td>6073.750000</td>\n",
              "      <td>7347.500000</td>\n",
              "      <td>3593.000000</td>\n",
              "      <td>0.000000</td>\n",
              "      <td>2900.250000</td>\n",
              "    </tr>\n",
              "    <tr>\n",
              "      <th>max</th>\n",
              "      <td>737676.000000</td>\n",
              "      <td>43200.000000</td>\n",
              "      <td>232.000000</td>\n",
              "      <td>8704.000000</td>\n",
              "      <td>27313.000000</td>\n",
              "      <td>41994.000000</td>\n",
              "      <td>42483.000000</td>\n",
              "      <td>34999.000000</td>\n",
              "      <td>41243.000000</td>\n",
              "      <td>4914.000000</td>\n",
              "    </tr>\n",
              "  </tbody>\n",
              "</table>\n",
              "</div>"
            ],
            "text/plain": [
              "           shiftdate     totaltime  ...       tmcat07  rendimiento_efectivo\n",
              "count    3812.000000   3812.000000  ...   3812.000000           3812.000000\n",
              "mean   737448.412644  43188.600472  ...   1064.181532           2202.463799\n",
              "std       132.293054    314.593880  ...   4922.852505            923.536280\n",
              "min    737241.000000  34509.000000  ...      0.000000             24.000000\n",
              "25%    737330.000000  43200.000000  ...      0.000000           1596.750000\n",
              "50%    737442.000000  43200.000000  ...      0.000000           2113.000000\n",
              "75%    737569.000000  43200.000000  ...      0.000000           2900.250000\n",
              "max    737676.000000  43200.000000  ...  41243.000000           4914.000000\n",
              "\n",
              "[8 rows x 10 columns]"
            ]
          },
          "metadata": {
            "tags": []
          },
          "execution_count": 27
        }
      ]
    },
    {
      "cell_type": "markdown",
      "metadata": {
        "id": "EAiR50IwyHqH"
      },
      "source": [
        "#Funciones"
      ]
    },
    {
      "cell_type": "code",
      "metadata": {
        "id": "8r9DOH0q-39m"
      },
      "source": [
        "def plot_matriz(y_test,y_pred):\n",
        "  cf_matrix = confusion_matrix(y_test,y_pred)\n",
        "\n",
        "  group_names = ['True Neg','False Pos','False Neg','True Pos']\n",
        "\n",
        "  group_counts = [\"{0:0.0f}\".format(value) for value in\n",
        "                  cf_matrix.flatten()]\n",
        "\n",
        "  group_percentages = [\"{0:.2%}\".format(value) for value in\n",
        "                      cf_matrix.flatten()/np.sum(cf_matrix)]\n",
        "\n",
        "  labels = [f'{v1}\\n{v2}\\n{v3}' for v1, v2, v3 in\n",
        "            zip(group_names,group_counts,group_percentages)]\n",
        "\n",
        "  labels = np.asarray(labels).reshape(2,2)\n",
        "\n",
        "  class_names = [0,1]\n",
        "  # settings plot\n",
        "  fig, ax = plt.subplots()\n",
        "  tick_marks = np.arange(len(class_names))\n",
        "  plt.xticks(tick_marks, class_names)\n",
        "  plt.yticks(tick_marks, class_names)\n",
        "  ax.xaxis.set_label_position(\"top\")\n",
        "  plt.tight_layout()\n",
        "  plt.title('Matriz de Confusión', y=1.1)\n",
        "  # plot\n",
        "  sns.heatmap(cf_matrix, annot=labels, fmt='', cmap='binary')\n",
        "  print(\"Accuracy:\",metrics.accuracy_score(y_test, y_pred))\n",
        "  print(\"Precision:\",metrics.precision_score(y_test, y_pred))\n",
        "  print(\"Recall:\",metrics.recall_score(y_test, y_pred))"
      ],
      "execution_count": 28,
      "outputs": []
    },
    {
      "cell_type": "code",
      "metadata": {
        "id": "vbLZW2N-DGA3"
      },
      "source": [
        "def tree_to_png(dtree,df,name):\n",
        "  dot_data = StringIO()\n",
        "  export_graphviz(dtree,\n",
        "                  feature_names=df.drop('rend_ef_bin',axis=1).columns,\n",
        "                  class_names=['Malo','Bueno'],\n",
        "                  filled = True,\n",
        "                  out_file=dot_data)\n",
        "  graph = pydotplus.graph_from_dot_data(dot_data.getvalue())\n",
        "  graph.write_png(name)\n",
        "  Image(graph.create_png())"
      ],
      "execution_count": 29,
      "outputs": []
    },
    {
      "cell_type": "code",
      "metadata": {
        "id": "DStgTWjmiIv_"
      },
      "source": [
        "from sklearn.tree._tree import TREE_LEAF"
      ],
      "execution_count": 30,
      "outputs": []
    },
    {
      "cell_type": "code",
      "metadata": {
        "id": "_KzSk64rXCJl"
      },
      "source": [
        "def podar(inner_tree, index, threshold):\n",
        "    if inner_tree.value[index].min() < threshold:\n",
        "        # turn node into a leaf by \"unlinking\" its children\n",
        "        inner_tree.children_left[index] = TREE_LEAF\n",
        "        inner_tree.children_right[index] = TREE_LEAF\n",
        "    # if there are shildren, visit them as well\n",
        "    if inner_tree.children_left[index] != TREE_LEAF:\n",
        "        podar(inner_tree, inner_tree.children_left[index], threshold)\n",
        "        podar(inner_tree, inner_tree.children_right[index], threshold)"
      ],
      "execution_count": 31,
      "outputs": []
    },
    {
      "cell_type": "code",
      "metadata": {
        "id": "WJVUmj8RUPvM"
      },
      "source": [
        "def codo(K,data):\n",
        "  sum_of_squared_distances = []\n",
        "  for k in range(1,K):\n",
        "    km = KMeans(n_clusters=k, random_state=0)\n",
        "    km = km.fit(X)\n",
        "    sum_of_squared_distances.append(km.inertia_)\n",
        "\n",
        "  plt.plot(range(1,K),sum_of_squared_distances)\n",
        "  plt.show()"
      ],
      "execution_count": 132,
      "outputs": []
    },
    {
      "cell_type": "markdown",
      "metadata": {
        "id": "nBtXyUDsweN7"
      },
      "source": [
        "#Regresión lineal"
      ]
    },
    {
      "cell_type": "code",
      "metadata": {
        "id": "FcT_kHA32Slh"
      },
      "source": [
        "from sklearn.model_selection import train_test_split"
      ],
      "execution_count": 32,
      "outputs": []
    },
    {
      "cell_type": "code",
      "metadata": {
        "id": "u-sBkswoBCGS",
        "outputId": "371cf106-5c1e-4375-a74c-67e6dc2101c5",
        "colab": {
          "base_uri": "https://localhost:8080/"
        }
      },
      "source": [
        "palas.columns"
      ],
      "execution_count": 33,
      "outputs": [
        {
          "output_type": "execute_result",
          "data": {
            "text/plain": [
              "Index(['shiftdate', 'shift#', 'eqmtid', 'totaltime', 'loadcnt', 'tmcat02',\n",
              "       'tmcat03', 'tmcat04', 'tmcat05', 'tmcat06', 'tmcat07',\n",
              "       'rendimiento_efectivo'],\n",
              "      dtype='object')"
            ]
          },
          "metadata": {
            "tags": []
          },
          "execution_count": 33
        }
      ]
    },
    {
      "cell_type": "code",
      "metadata": {
        "id": "3YnLn6bLu5IH"
      },
      "source": [
        "target = \"rendimiento_efectivo\"\n",
        "list_drop = [target,'shiftdate','shift#','eqmtid']\n",
        "X = palas.drop(list_drop,axis=1)\n",
        "y = palas[target]"
      ],
      "execution_count": 34,
      "outputs": []
    },
    {
      "cell_type": "code",
      "metadata": {
        "id": "S1-TNQafAuEH",
        "outputId": "32b67915-6bb0-4cc8-b86e-0fa10e43fd17",
        "colab": {
          "base_uri": "https://localhost:8080/"
        }
      },
      "source": [
        "X.info()"
      ],
      "execution_count": 35,
      "outputs": [
        {
          "output_type": "stream",
          "text": [
            "<class 'pandas.core.frame.DataFrame'>\n",
            "Int64Index: 3812 entries, 23 to 13629\n",
            "Data columns (total 8 columns):\n",
            " #   Column     Non-Null Count  Dtype\n",
            "---  ------     --------------  -----\n",
            " 0   totaltime  3812 non-null   int64\n",
            " 1   loadcnt    3812 non-null   int64\n",
            " 2   tmcat02    3812 non-null   int64\n",
            " 3   tmcat03    3812 non-null   int64\n",
            " 4   tmcat04    3812 non-null   int64\n",
            " 5   tmcat05    3812 non-null   int64\n",
            " 6   tmcat06    3812 non-null   int64\n",
            " 7   tmcat07    3812 non-null   int64\n",
            "dtypes: int64(8)\n",
            "memory usage: 268.0 KB\n"
          ],
          "name": "stdout"
        }
      ]
    },
    {
      "cell_type": "code",
      "metadata": {
        "id": "GTiqpmCsw0jC"
      },
      "source": [
        "X_train, X_test, y_train, y_test = train_test_split(X, y, test_size=0.4, random_state=42)"
      ],
      "execution_count": 36,
      "outputs": []
    },
    {
      "cell_type": "code",
      "metadata": {
        "id": "KffL9zIJxbts"
      },
      "source": [
        "from sklearn.preprocessing import MinMaxScaler"
      ],
      "execution_count": 37,
      "outputs": []
    },
    {
      "cell_type": "code",
      "metadata": {
        "id": "ImzNg-3HxRbh"
      },
      "source": [
        "scaler = MinMaxScaler()\n",
        "X_train = scaler.fit_transform(X_train)\n",
        "X_test = scaler.transform(X_test)"
      ],
      "execution_count": 38,
      "outputs": []
    },
    {
      "cell_type": "code",
      "metadata": {
        "id": "wxmKs-y7115d"
      },
      "source": [
        "from sklearn import linear_model"
      ],
      "execution_count": 39,
      "outputs": []
    },
    {
      "cell_type": "code",
      "metadata": {
        "id": "-8eLeLL3w9_t",
        "outputId": "faf85b36-b3eb-4e96-a520-53d6b0f84346",
        "colab": {
          "base_uri": "https://localhost:8080/"
        }
      },
      "source": [
        "modelo = linear_model.LinearRegression()\n",
        "modelo.fit(X_train,y_train)"
      ],
      "execution_count": 40,
      "outputs": [
        {
          "output_type": "execute_result",
          "data": {
            "text/plain": [
              "LinearRegression(copy_X=True, fit_intercept=True, n_jobs=None, normalize=False)"
            ]
          },
          "metadata": {
            "tags": []
          },
          "execution_count": 40
        }
      ]
    },
    {
      "cell_type": "code",
      "metadata": {
        "id": "UA1dnYkXxAHo",
        "outputId": "f6e05565-42fb-42e1-ac5d-8693f18fb486",
        "colab": {
          "base_uri": "https://localhost:8080/",
          "height": 297
        }
      },
      "source": [
        "y_pred = modelo.predict(X_test)\n",
        "pd.DataFrame(modelo.coef_,X.columns,columns=['Coefficient'])"
      ],
      "execution_count": 41,
      "outputs": [
        {
          "output_type": "execute_result",
          "data": {
            "text/html": [
              "<div>\n",
              "<style scoped>\n",
              "    .dataframe tbody tr th:only-of-type {\n",
              "        vertical-align: middle;\n",
              "    }\n",
              "\n",
              "    .dataframe tbody tr th {\n",
              "        vertical-align: top;\n",
              "    }\n",
              "\n",
              "    .dataframe thead th {\n",
              "        text-align: right;\n",
              "    }\n",
              "</style>\n",
              "<table border=\"1\" class=\"dataframe\">\n",
              "  <thead>\n",
              "    <tr style=\"text-align: right;\">\n",
              "      <th></th>\n",
              "      <th>Coefficient</th>\n",
              "    </tr>\n",
              "  </thead>\n",
              "  <tbody>\n",
              "    <tr>\n",
              "      <th>totaltime</th>\n",
              "      <td>-621.099572</td>\n",
              "    </tr>\n",
              "    <tr>\n",
              "      <th>loadcnt</th>\n",
              "      <td>5922.096092</td>\n",
              "    </tr>\n",
              "    <tr>\n",
              "      <th>tmcat02</th>\n",
              "      <td>652.427993</td>\n",
              "    </tr>\n",
              "    <tr>\n",
              "      <th>tmcat03</th>\n",
              "      <td>1704.240703</td>\n",
              "    </tr>\n",
              "    <tr>\n",
              "      <th>tmcat04</th>\n",
              "      <td>2087.860718</td>\n",
              "    </tr>\n",
              "    <tr>\n",
              "      <th>tmcat05</th>\n",
              "      <td>3017.599949</td>\n",
              "    </tr>\n",
              "    <tr>\n",
              "      <th>tmcat06</th>\n",
              "      <td>1881.710609</td>\n",
              "    </tr>\n",
              "    <tr>\n",
              "      <th>tmcat07</th>\n",
              "      <td>2781.404244</td>\n",
              "    </tr>\n",
              "  </tbody>\n",
              "</table>\n",
              "</div>"
            ],
            "text/plain": [
              "           Coefficient\n",
              "totaltime  -621.099572\n",
              "loadcnt    5922.096092\n",
              "tmcat02     652.427993\n",
              "tmcat03    1704.240703\n",
              "tmcat04    2087.860718\n",
              "tmcat05    3017.599949\n",
              "tmcat06    1881.710609\n",
              "tmcat07    2781.404244"
            ]
          },
          "metadata": {
            "tags": []
          },
          "execution_count": 41
        }
      ]
    },
    {
      "cell_type": "code",
      "metadata": {
        "id": "4Nks3HtxxByc",
        "outputId": "2678be11-2008-4a59-ce27-f3417269f71f",
        "colab": {
          "base_uri": "https://localhost:8080/",
          "height": 410
        }
      },
      "source": [
        "import matplotlib.pyplot as plt\n",
        "import seaborn as sns; sns.set()\n",
        "plt.figure(figsize=(10,5))\n",
        "sns.scatterplot(y_test,y_pred,color='blue',alpha=0.5)"
      ],
      "execution_count": 42,
      "outputs": [
        {
          "output_type": "stream",
          "text": [
            "/usr/local/lib/python3.6/dist-packages/seaborn/_decorators.py:43: FutureWarning: Pass the following variables as keyword args: x, y. From version 0.12, the only valid positional argument will be `data`, and passing other arguments without an explicit keyword will result in an error or misinterpretation.\n",
            "  FutureWarning\n"
          ],
          "name": "stderr"
        },
        {
          "output_type": "execute_result",
          "data": {
            "text/plain": [
              "<matplotlib.axes._subplots.AxesSubplot at 0x7fc3de6824a8>"
            ]
          },
          "metadata": {
            "tags": []
          },
          "execution_count": 42
        },
        {
          "output_type": "display_data",
          "data": {
            "image/png": "[encoded data removed]",
            "text/plain": [
              "<Figure size 720x360 with 1 Axes>"
            ]
          },
          "metadata": {
            "tags": []
          }
        }
      ]
    },
    {
      "cell_type": "code",
      "metadata": {
        "id": "zkU5XHM9xHTc",
        "outputId": "21274c16-af8d-4e25-bb00-f446f90336b3",
        "colab": {
          "base_uri": "https://localhost:8080/",
          "height": 356
        }
      },
      "source": [
        "sns.distplot((y_test-y_pred),bins=50)"
      ],
      "execution_count": 43,
      "outputs": [
        {
          "output_type": "stream",
          "text": [
            "/usr/local/lib/python3.6/dist-packages/seaborn/distributions.py:2551: FutureWarning: `distplot` is a deprecated function and will be removed in a future version. Please adapt your code to use either `displot` (a figure-level function with similar flexibility) or `histplot` (an axes-level function for histograms).\n",
            "  warnings.warn(msg, FutureWarning)\n"
          ],
          "name": "stderr"
        },
        {
          "output_type": "execute_result",
          "data": {
            "text/plain": [
              "<matplotlib.axes._subplots.AxesSubplot at 0x7fc3ddf67b00>"
            ]
          },
          "metadata": {
            "tags": []
          },
          "execution_count": 43
        },
        {
          "output_type": "display_data",
          "data": {
            "image/png": "[encoded data removed]",
            "text/plain": [
              "<Figure size 432x288 with 1 Axes>"
            ]
          },
          "metadata": {
            "tags": []
          }
        }
      ]
    },
    {
      "cell_type": "code",
      "metadata": {
        "id": "UL_E8ALOxK1A",
        "outputId": "f33deb30-cfd9-4546-d451-21aa3ce0df00",
        "colab": {
          "base_uri": "https://localhost:8080/",
          "height": 285
        }
      },
      "source": [
        "plt.scatter(y_pred,y_test-y_pred,c='blue',alpha=0.5)"
      ],
      "execution_count": 44,
      "outputs": [
        {
          "output_type": "execute_result",
          "data": {
            "text/plain": [
              "<matplotlib.collections.PathCollection at 0x7fc3dbdc2b38>"
            ]
          },
          "metadata": {
            "tags": []
          },
          "execution_count": 44
        },
        {
          "output_type": "display_data",
          "data": {
            "image/png": "[encoded data removed]",
            "text/plain": [
              "<Figure size 432x288 with 1 Axes>"
            ]
          },
          "metadata": {
            "tags": []
          }
        }
      ]
    },
    {
      "cell_type": "code",
      "metadata": {
        "id": "tup8ds_XxMi9",
        "outputId": "65a1b982-abdd-4628-efae-9a933d86b1ec",
        "colab": {
          "base_uri": "https://localhost:8080/"
        }
      },
      "source": [
        "from sklearn import metrics\n",
        "metrics.r2_score(y_test,y_pred)"
      ],
      "execution_count": 45,
      "outputs": [
        {
          "output_type": "execute_result",
          "data": {
            "text/plain": [
              "0.8796767987682894"
            ]
          },
          "metadata": {
            "tags": []
          },
          "execution_count": 45
        }
      ]
    },
    {
      "cell_type": "markdown",
      "metadata": {
        "id": "jtzsy8FjHb3Z"
      },
      "source": [
        "- **MAE** es el más simple de entender, es el error promedio\n",
        "- **MSE** es más popular y útil en el mundo real porque castiga grandes errores.\n",
        "- **RMSE** es el mas popular porque el error puede ser interpretado en unidades de \"Y\""
      ]
    },
    {
      "cell_type": "code",
      "metadata": {
        "id": "WuSg5B4AxOGs",
        "outputId": "1b943eb5-d923-4478-d287-37975e3e33b9",
        "colab": {
          "base_uri": "https://localhost:8080/"
        }
      },
      "source": [
        "from sklearn import metrics\n",
        "print('MAE:', metrics.mean_absolute_error(y_test, y_pred))\n",
        "print('MSE:', metrics.mean_squared_error(y_test, y_pred))\n",
        "print('RMSE:', np.sqrt(metrics.mean_squared_error(y_test, y_pred)))"
      ],
      "execution_count": 53,
      "outputs": [
        {
          "output_type": "stream",
          "text": [
            "MAE: 209.70506888054175\n",
            "MSE: 106228.85317902507\n",
            "RMSE: 325.92768090333334\n"
          ],
          "name": "stdout"
        }
      ]
    },
    {
      "cell_type": "code",
      "metadata": {
        "id": "j-E2K7f6IVIS"
      },
      "source": [
        "import numpy as np"
      ],
      "execution_count": 47,
      "outputs": []
    },
    {
      "cell_type": "code",
      "metadata": {
        "id": "olJ_CJDJDXlD",
        "outputId": "9c9a8ad1-8263-42b1-ea2a-d909892fc377",
        "colab": {
          "base_uri": "https://localhost:8080/",
          "height": 339
        }
      },
      "source": [
        "test_index = [i for i in range(len(y_test))]\n",
        "pred_index = [i for i in range(len(y_pred))]\n",
        "\n",
        "plt.figure(figsize=(10,5))\n",
        "plt.scatter(test_index[:100],y_test[:100],color='blue',s=5)\n",
        "plt.scatter(pred_index[:100],y_pred[:100],color='red',s=5)\n",
        "\n",
        "plt.xlabel(\"Frecuencia\")\n",
        "plt.ylabel(\"Rendmiento\")\n",
        "plt.show()"
      ],
      "execution_count": 51,
      "outputs": [
        {
          "output_type": "display_data",
          "data": {
            "image/png": "[encoded data removed]",
            "text/plain": [
              "<Figure size 720x360 with 1 Axes>"
            ]
          },
          "metadata": {
            "tags": []
          }
        }
      ]
    },
    {
      "cell_type": "markdown",
      "metadata": {
        "id": "JIhoynFqxeVK"
      },
      "source": [
        "#Regresión logística"
      ]
    },
    {
      "cell_type": "code",
      "metadata": {
        "id": "eGtCl7_i0-Er",
        "outputId": "f9c6efed-33e0-40ea-cf3b-5d36cfc066f6",
        "colab": {
          "base_uri": "https://localhost:8080/"
        }
      },
      "source": [
        "palas['rendimiento_efectivo'].describe()"
      ],
      "execution_count": 55,
      "outputs": [
        {
          "output_type": "execute_result",
          "data": {
            "text/plain": [
              "count    3812.000000\n",
              "mean     2202.463799\n",
              "std       923.536280\n",
              "min        24.000000\n",
              "25%      1596.750000\n",
              "50%      2113.000000\n",
              "75%      2900.250000\n",
              "max      4914.000000\n",
              "Name: rendimiento_efectivo, dtype: float64"
            ]
          },
          "metadata": {
            "tags": []
          },
          "execution_count": 55
        }
      ]
    },
    {
      "cell_type": "markdown",
      "metadata": {
        "id": "aTPEozDy2exo"
      },
      "source": [
        "Diferenciamos Bueno o Malo segun el promedio de rendimiento"
      ]
    },
    {
      "cell_type": "code",
      "metadata": {
        "id": "AIlFIVsX0GXC"
      },
      "source": [
        "def check(valor):\n",
        "  #if valor >= 0.615921: tons / seg\n",
        "  if valor >= 2202.463799: # tons / hora\n",
        "    return 1\n",
        "  else:\n",
        "    return 0"
      ],
      "execution_count": 56,
      "outputs": []
    },
    {
      "cell_type": "markdown",
      "metadata": {
        "id": "zS2Nr-CG39zj"
      },
      "source": [
        "Columna binaria"
      ]
    },
    {
      "cell_type": "code",
      "metadata": {
        "id": "sugPPt0o0Pfw"
      },
      "source": [
        "palas['rend_ef_bin'] = palas.apply(lambda row : check(row.rendimiento_efectivo),axis=1)"
      ],
      "execution_count": 57,
      "outputs": []
    },
    {
      "cell_type": "code",
      "metadata": {
        "id": "v1f5Do0A0yTX",
        "outputId": "bade88ee-9b2f-44dc-908c-0e46009c3f2b",
        "colab": {
          "base_uri": "https://localhost:8080/",
          "height": 162
        }
      },
      "source": [
        "pd.DataFrame(palas.groupby(['rend_ef_bin']).count())"
      ],
      "execution_count": 58,
      "outputs": [
        {
          "output_type": "execute_result",
          "data": {
            "text/html": [
              "<div>\n",
              "<style scoped>\n",
              "    .dataframe tbody tr th:only-of-type {\n",
              "        vertical-align: middle;\n",
              "    }\n",
              "\n",
              "    .dataframe tbody tr th {\n",
              "        vertical-align: top;\n",
              "    }\n",
              "\n",
              "    .dataframe thead th {\n",
              "        text-align: right;\n",
              "    }\n",
              "</style>\n",
              "<table border=\"1\" class=\"dataframe\">\n",
              "  <thead>\n",
              "    <tr style=\"text-align: right;\">\n",
              "      <th></th>\n",
              "      <th>shiftdate</th>\n",
              "      <th>shift#</th>\n",
              "      <th>eqmtid</th>\n",
              "      <th>totaltime</th>\n",
              "      <th>loadcnt</th>\n",
              "      <th>tmcat02</th>\n",
              "      <th>tmcat03</th>\n",
              "      <th>tmcat04</th>\n",
              "      <th>tmcat05</th>\n",
              "      <th>tmcat06</th>\n",
              "      <th>tmcat07</th>\n",
              "      <th>rendimiento_efectivo</th>\n",
              "    </tr>\n",
              "    <tr>\n",
              "      <th>rend_ef_bin</th>\n",
              "      <th></th>\n",
              "      <th></th>\n",
              "      <th></th>\n",
              "      <th></th>\n",
              "      <th></th>\n",
              "      <th></th>\n",
              "      <th></th>\n",
              "      <th></th>\n",
              "      <th></th>\n",
              "      <th></th>\n",
              "      <th></th>\n",
              "      <th></th>\n",
              "    </tr>\n",
              "  </thead>\n",
              "  <tbody>\n",
              "    <tr>\n",
              "      <th>0</th>\n",
              "      <td>2035</td>\n",
              "      <td>2035</td>\n",
              "      <td>2035</td>\n",
              "      <td>2035</td>\n",
              "      <td>2035</td>\n",
              "      <td>2035</td>\n",
              "      <td>2035</td>\n",
              "      <td>2035</td>\n",
              "      <td>2035</td>\n",
              "      <td>2035</td>\n",
              "      <td>2035</td>\n",
              "      <td>2035</td>\n",
              "    </tr>\n",
              "    <tr>\n",
              "      <th>1</th>\n",
              "      <td>1777</td>\n",
              "      <td>1777</td>\n",
              "      <td>1777</td>\n",
              "      <td>1777</td>\n",
              "      <td>1777</td>\n",
              "      <td>1777</td>\n",
              "      <td>1777</td>\n",
              "      <td>1777</td>\n",
              "      <td>1777</td>\n",
              "      <td>1777</td>\n",
              "      <td>1777</td>\n",
              "      <td>1777</td>\n",
              "    </tr>\n",
              "  </tbody>\n",
              "</table>\n",
              "</div>"
            ],
            "text/plain": [
              "             shiftdate  shift#  eqmtid  ...  tmcat06  tmcat07  rendimiento_efectivo\n",
              "rend_ef_bin                             ...                                        \n",
              "0                 2035    2035    2035  ...     2035     2035                  2035\n",
              "1                 1777    1777    1777  ...     1777     1777                  1777\n",
              "\n",
              "[2 rows x 12 columns]"
            ]
          },
          "metadata": {
            "tags": []
          },
          "execution_count": 58
        }
      ]
    },
    {
      "cell_type": "markdown",
      "metadata": {
        "id": "BCMcHUoDK7ff"
      },
      "source": [
        "Dummy's"
      ]
    },
    {
      "cell_type": "code",
      "metadata": {
        "id": "cRj6ZDGUxseL"
      },
      "source": [
        "turno = pd.get_dummies(palas['shift#'])"
      ],
      "execution_count": 59,
      "outputs": []
    },
    {
      "cell_type": "code",
      "metadata": {
        "id": "LFrWB4bAy5Ak"
      },
      "source": [
        "eqmtid = pd.get_dummies(palas['eqmtid'])"
      ],
      "execution_count": 60,
      "outputs": []
    },
    {
      "cell_type": "code",
      "metadata": {
        "id": "GLXrL_4oyc09"
      },
      "source": [
        "train = pd.concat([palas.drop(['shift#','eqmtid','rendimiento_efectivo'],axis=1),turno,eqmtid],axis=1)"
      ],
      "execution_count": 61,
      "outputs": []
    },
    {
      "cell_type": "code",
      "metadata": {
        "id": "bSt7TPLayuql",
        "outputId": "9da1bcc7-8be1-4b45-a6a9-ecc05a5483bf",
        "colab": {
          "base_uri": "https://localhost:8080/"
        }
      },
      "source": [
        "train.info()"
      ],
      "execution_count": 62,
      "outputs": [
        {
          "output_type": "stream",
          "text": [
            "<class 'pandas.core.frame.DataFrame'>\n",
            "Int64Index: 3812 entries, 23 to 13629\n",
            "Data columns (total 23 columns):\n",
            " #   Column       Non-Null Count  Dtype\n",
            "---  ------       --------------  -----\n",
            " 0   shiftdate    3812 non-null   int64\n",
            " 1   totaltime    3812 non-null   int64\n",
            " 2   loadcnt      3812 non-null   int64\n",
            " 3   tmcat02      3812 non-null   int64\n",
            " 4   tmcat03      3812 non-null   int64\n",
            " 5   tmcat04      3812 non-null   int64\n",
            " 6   tmcat05      3812 non-null   int64\n",
            " 7   tmcat06      3812 non-null   int64\n",
            " 8   tmcat07      3812 non-null   int64\n",
            " 9   rend_ef_bin  3812 non-null   int64\n",
            " 10  1            3812 non-null   uint8\n",
            " 11  2            3812 non-null   uint8\n",
            " 12  026          3812 non-null   uint8\n",
            " 13  029          3812 non-null   uint8\n",
            " 14  030          3812 non-null   uint8\n",
            " 15  210          3812 non-null   uint8\n",
            " 16  211          3812 non-null   uint8\n",
            " 17  212          3812 non-null   uint8\n",
            " 18  213          3812 non-null   uint8\n",
            " 19  305          3812 non-null   uint8\n",
            " 20  306          3812 non-null   uint8\n",
            " 21  307          3812 non-null   uint8\n",
            " 22  BUZON        3812 non-null   uint8\n",
            "dtypes: int64(10), uint8(13)\n",
            "memory usage: 376.0 KB\n"
          ],
          "name": "stdout"
        }
      ]
    },
    {
      "cell_type": "code",
      "metadata": {
        "id": "DATt89VT3Gb_",
        "outputId": "e643db7e-2521-405e-edf6-395825214730",
        "colab": {
          "base_uri": "https://localhost:8080/",
          "height": 379
        }
      },
      "source": [
        "train.head(10)"
      ],
      "execution_count": 63,
      "outputs": [
        {
          "output_type": "execute_result",
          "data": {
            "text/html": [
              "<div>\n",
              "<style scoped>\n",
              "    .dataframe tbody tr th:only-of-type {\n",
              "        vertical-align: middle;\n",
              "    }\n",
              "\n",
              "    .dataframe tbody tr th {\n",
              "        vertical-align: top;\n",
              "    }\n",
              "\n",
              "    .dataframe thead th {\n",
              "        text-align: right;\n",
              "    }\n",
              "</style>\n",
              "<table border=\"1\" class=\"dataframe\">\n",
              "  <thead>\n",
              "    <tr style=\"text-align: right;\">\n",
              "      <th></th>\n",
              "      <th>shiftdate</th>\n",
              "      <th>totaltime</th>\n",
              "      <th>loadcnt</th>\n",
              "      <th>tmcat02</th>\n",
              "      <th>tmcat03</th>\n",
              "      <th>tmcat04</th>\n",
              "      <th>tmcat05</th>\n",
              "      <th>tmcat06</th>\n",
              "      <th>tmcat07</th>\n",
              "      <th>rend_ef_bin</th>\n",
              "      <th>1</th>\n",
              "      <th>2</th>\n",
              "      <th>026</th>\n",
              "      <th>029</th>\n",
              "      <th>030</th>\n",
              "      <th>210</th>\n",
              "      <th>211</th>\n",
              "      <th>212</th>\n",
              "      <th>213</th>\n",
              "      <th>305</th>\n",
              "      <th>306</th>\n",
              "      <th>307</th>\n",
              "      <th>BUZON</th>\n",
              "    </tr>\n",
              "  </thead>\n",
              "  <tbody>\n",
              "    <tr>\n",
              "      <th>23</th>\n",
              "      <td>737241</td>\n",
              "      <td>43200</td>\n",
              "      <td>157</td>\n",
              "      <td>0</td>\n",
              "      <td>814</td>\n",
              "      <td>3086</td>\n",
              "      <td>0</td>\n",
              "      <td>4132</td>\n",
              "      <td>0</td>\n",
              "      <td>1</td>\n",
              "      <td>0</td>\n",
              "      <td>1</td>\n",
              "      <td>0</td>\n",
              "      <td>0</td>\n",
              "      <td>0</td>\n",
              "      <td>0</td>\n",
              "      <td>1</td>\n",
              "      <td>0</td>\n",
              "      <td>0</td>\n",
              "      <td>0</td>\n",
              "      <td>0</td>\n",
              "      <td>0</td>\n",
              "      <td>0</td>\n",
              "    </tr>\n",
              "    <tr>\n",
              "      <th>25</th>\n",
              "      <td>737241</td>\n",
              "      <td>43200</td>\n",
              "      <td>12</td>\n",
              "      <td>0</td>\n",
              "      <td>367</td>\n",
              "      <td>3466</td>\n",
              "      <td>33774</td>\n",
              "      <td>0</td>\n",
              "      <td>0</td>\n",
              "      <td>0</td>\n",
              "      <td>0</td>\n",
              "      <td>1</td>\n",
              "      <td>0</td>\n",
              "      <td>0</td>\n",
              "      <td>0</td>\n",
              "      <td>0</td>\n",
              "      <td>0</td>\n",
              "      <td>0</td>\n",
              "      <td>1</td>\n",
              "      <td>0</td>\n",
              "      <td>0</td>\n",
              "      <td>0</td>\n",
              "      <td>0</td>\n",
              "    </tr>\n",
              "    <tr>\n",
              "      <th>27</th>\n",
              "      <td>737241</td>\n",
              "      <td>43200</td>\n",
              "      <td>55</td>\n",
              "      <td>0</td>\n",
              "      <td>3972</td>\n",
              "      <td>4192</td>\n",
              "      <td>0</td>\n",
              "      <td>4161</td>\n",
              "      <td>0</td>\n",
              "      <td>0</td>\n",
              "      <td>0</td>\n",
              "      <td>1</td>\n",
              "      <td>0</td>\n",
              "      <td>0</td>\n",
              "      <td>0</td>\n",
              "      <td>0</td>\n",
              "      <td>0</td>\n",
              "      <td>0</td>\n",
              "      <td>0</td>\n",
              "      <td>1</td>\n",
              "      <td>0</td>\n",
              "      <td>0</td>\n",
              "      <td>0</td>\n",
              "    </tr>\n",
              "    <tr>\n",
              "      <th>28</th>\n",
              "      <td>737241</td>\n",
              "      <td>43200</td>\n",
              "      <td>54</td>\n",
              "      <td>0</td>\n",
              "      <td>10339</td>\n",
              "      <td>0</td>\n",
              "      <td>6049</td>\n",
              "      <td>1816</td>\n",
              "      <td>0</td>\n",
              "      <td>0</td>\n",
              "      <td>0</td>\n",
              "      <td>1</td>\n",
              "      <td>0</td>\n",
              "      <td>0</td>\n",
              "      <td>0</td>\n",
              "      <td>0</td>\n",
              "      <td>0</td>\n",
              "      <td>0</td>\n",
              "      <td>0</td>\n",
              "      <td>0</td>\n",
              "      <td>1</td>\n",
              "      <td>0</td>\n",
              "      <td>0</td>\n",
              "    </tr>\n",
              "    <tr>\n",
              "      <th>29</th>\n",
              "      <td>737241</td>\n",
              "      <td>43200</td>\n",
              "      <td>103</td>\n",
              "      <td>0</td>\n",
              "      <td>6108</td>\n",
              "      <td>0</td>\n",
              "      <td>0</td>\n",
              "      <td>1772</td>\n",
              "      <td>0</td>\n",
              "      <td>1</td>\n",
              "      <td>0</td>\n",
              "      <td>1</td>\n",
              "      <td>0</td>\n",
              "      <td>0</td>\n",
              "      <td>0</td>\n",
              "      <td>0</td>\n",
              "      <td>0</td>\n",
              "      <td>0</td>\n",
              "      <td>0</td>\n",
              "      <td>0</td>\n",
              "      <td>0</td>\n",
              "      <td>1</td>\n",
              "      <td>0</td>\n",
              "    </tr>\n",
              "    <tr>\n",
              "      <th>6</th>\n",
              "      <td>737241</td>\n",
              "      <td>43200</td>\n",
              "      <td>60</td>\n",
              "      <td>0</td>\n",
              "      <td>4935</td>\n",
              "      <td>0</td>\n",
              "      <td>0</td>\n",
              "      <td>1787</td>\n",
              "      <td>0</td>\n",
              "      <td>0</td>\n",
              "      <td>1</td>\n",
              "      <td>0</td>\n",
              "      <td>0</td>\n",
              "      <td>0</td>\n",
              "      <td>0</td>\n",
              "      <td>0</td>\n",
              "      <td>0</td>\n",
              "      <td>1</td>\n",
              "      <td>0</td>\n",
              "      <td>0</td>\n",
              "      <td>0</td>\n",
              "      <td>0</td>\n",
              "      <td>0</td>\n",
              "    </tr>\n",
              "    <tr>\n",
              "      <th>7</th>\n",
              "      <td>737241</td>\n",
              "      <td>43200</td>\n",
              "      <td>161</td>\n",
              "      <td>0</td>\n",
              "      <td>4166</td>\n",
              "      <td>0</td>\n",
              "      <td>0</td>\n",
              "      <td>3556</td>\n",
              "      <td>0</td>\n",
              "      <td>1</td>\n",
              "      <td>1</td>\n",
              "      <td>0</td>\n",
              "      <td>0</td>\n",
              "      <td>0</td>\n",
              "      <td>0</td>\n",
              "      <td>0</td>\n",
              "      <td>0</td>\n",
              "      <td>0</td>\n",
              "      <td>1</td>\n",
              "      <td>0</td>\n",
              "      <td>0</td>\n",
              "      <td>0</td>\n",
              "      <td>0</td>\n",
              "    </tr>\n",
              "    <tr>\n",
              "      <th>5</th>\n",
              "      <td>737241</td>\n",
              "      <td>43200</td>\n",
              "      <td>128</td>\n",
              "      <td>0</td>\n",
              "      <td>3981</td>\n",
              "      <td>0</td>\n",
              "      <td>0</td>\n",
              "      <td>3524</td>\n",
              "      <td>0</td>\n",
              "      <td>1</td>\n",
              "      <td>1</td>\n",
              "      <td>0</td>\n",
              "      <td>0</td>\n",
              "      <td>0</td>\n",
              "      <td>0</td>\n",
              "      <td>0</td>\n",
              "      <td>1</td>\n",
              "      <td>0</td>\n",
              "      <td>0</td>\n",
              "      <td>0</td>\n",
              "      <td>0</td>\n",
              "      <td>0</td>\n",
              "      <td>0</td>\n",
              "    </tr>\n",
              "    <tr>\n",
              "      <th>10</th>\n",
              "      <td>737241</td>\n",
              "      <td>43200</td>\n",
              "      <td>33</td>\n",
              "      <td>0</td>\n",
              "      <td>8632</td>\n",
              "      <td>13462</td>\n",
              "      <td>0</td>\n",
              "      <td>1778</td>\n",
              "      <td>0</td>\n",
              "      <td>0</td>\n",
              "      <td>1</td>\n",
              "      <td>0</td>\n",
              "      <td>0</td>\n",
              "      <td>0</td>\n",
              "      <td>0</td>\n",
              "      <td>0</td>\n",
              "      <td>0</td>\n",
              "      <td>0</td>\n",
              "      <td>0</td>\n",
              "      <td>0</td>\n",
              "      <td>1</td>\n",
              "      <td>0</td>\n",
              "      <td>0</td>\n",
              "    </tr>\n",
              "    <tr>\n",
              "      <th>9</th>\n",
              "      <td>737241</td>\n",
              "      <td>43200</td>\n",
              "      <td>21</td>\n",
              "      <td>0</td>\n",
              "      <td>6173</td>\n",
              "      <td>15863</td>\n",
              "      <td>0</td>\n",
              "      <td>3627</td>\n",
              "      <td>0</td>\n",
              "      <td>0</td>\n",
              "      <td>1</td>\n",
              "      <td>0</td>\n",
              "      <td>0</td>\n",
              "      <td>0</td>\n",
              "      <td>0</td>\n",
              "      <td>0</td>\n",
              "      <td>0</td>\n",
              "      <td>0</td>\n",
              "      <td>0</td>\n",
              "      <td>1</td>\n",
              "      <td>0</td>\n",
              "      <td>0</td>\n",
              "      <td>0</td>\n",
              "    </tr>\n",
              "  </tbody>\n",
              "</table>\n",
              "</div>"
            ],
            "text/plain": [
              "    shiftdate  totaltime  loadcnt  tmcat02  tmcat03  ...  213  305  306  307  BUZON\n",
              "23     737241      43200      157        0      814  ...    0    0    0    0      0\n",
              "25     737241      43200       12        0      367  ...    1    0    0    0      0\n",
              "27     737241      43200       55        0     3972  ...    0    1    0    0      0\n",
              "28     737241      43200       54        0    10339  ...    0    0    1    0      0\n",
              "29     737241      43200      103        0     6108  ...    0    0    0    1      0\n",
              "6      737241      43200       60        0     4935  ...    0    0    0    0      0\n",
              "7      737241      43200      161        0     4166  ...    1    0    0    0      0\n",
              "5      737241      43200      128        0     3981  ...    0    0    0    0      0\n",
              "10     737241      43200       33        0     8632  ...    0    0    1    0      0\n",
              "9      737241      43200       21        0     6173  ...    0    1    0    0      0\n",
              "\n",
              "[10 rows x 23 columns]"
            ]
          },
          "metadata": {
            "tags": []
          },
          "execution_count": 63
        }
      ]
    },
    {
      "cell_type": "code",
      "metadata": {
        "id": "V0guaa5D1pXy"
      },
      "source": [
        "X_train, X_test, y_train, y_test = train_test_split(train.drop('rend_ef_bin',axis=1),\n",
        "                                                    train['rend_ef_bin'],\n",
        "                                                    test_size=0.30,random_state=42)"
      ],
      "execution_count": 172,
      "outputs": []
    },
    {
      "cell_type": "code",
      "metadata": {
        "id": "nzGrAHAxZt_M"
      },
      "source": [
        "scaler = MinMaxScaler()\n",
        "X_train = scaler.fit_transform(X_train)\n",
        "X_test = scaler.transform(X_test)"
      ],
      "execution_count": 173,
      "outputs": []
    },
    {
      "cell_type": "code",
      "metadata": {
        "id": "k0n8OdIdyY5H"
      },
      "source": [
        "from sklearn.linear_model import LogisticRegression"
      ],
      "execution_count": 174,
      "outputs": []
    },
    {
      "cell_type": "code",
      "metadata": {
        "id": "8k9fT_c_y9_Y",
        "outputId": "07305e03-7c19-4bd2-eb50-67cfb78d9582",
        "colab": {
          "base_uri": "https://localhost:8080/"
        }
      },
      "source": [
        "log_reg = LogisticRegression()\n",
        "log_reg.fit(X_train,y_train)"
      ],
      "execution_count": 175,
      "outputs": [
        {
          "output_type": "execute_result",
          "data": {
            "text/plain": [
              "LogisticRegression(C=1.0, class_weight=None, dual=False, fit_intercept=True,\n",
              "                   intercept_scaling=1, l1_ratio=None, max_iter=100,\n",
              "                   multi_class='auto', n_jobs=None, penalty='l2',\n",
              "                   random_state=None, solver='lbfgs', tol=0.0001, verbose=0,\n",
              "                   warm_start=False)"
            ]
          },
          "metadata": {
            "tags": []
          },
          "execution_count": 175
        }
      ]
    },
    {
      "cell_type": "code",
      "metadata": {
        "id": "5PsLClcc1N2-"
      },
      "source": [
        "y_pred = log_reg.predict(X_test)"
      ],
      "execution_count": 176,
      "outputs": []
    },
    {
      "cell_type": "code",
      "metadata": {
        "id": "ntSsLbu2ybwG"
      },
      "source": [
        "from sklearn.metrics import classification_report"
      ],
      "execution_count": 177,
      "outputs": []
    },
    {
      "cell_type": "code",
      "metadata": {
        "id": "NQ33D2T01a1n",
        "outputId": "d66d5ffe-76d5-4176-c28e-a85a031ce860",
        "colab": {
          "base_uri": "https://localhost:8080/"
        }
      },
      "source": [
        "print(classification_report(y_test,y_pred))"
      ],
      "execution_count": 178,
      "outputs": [
        {
          "output_type": "stream",
          "text": [
            "              precision    recall  f1-score   support\n",
            "\n",
            "           0       0.90      0.92      0.91       609\n",
            "           1       0.91      0.88      0.89       535\n",
            "\n",
            "    accuracy                           0.90      1144\n",
            "   macro avg       0.90      0.90      0.90      1144\n",
            "weighted avg       0.90      0.90      0.90      1144\n",
            "\n"
          ],
          "name": "stdout"
        }
      ]
    },
    {
      "cell_type": "code",
      "metadata": {
        "id": "e8Bznpf2ydzA"
      },
      "source": [
        "from sklearn.metrics import confusion_matrix"
      ],
      "execution_count": 179,
      "outputs": []
    },
    {
      "cell_type": "code",
      "metadata": {
        "id": "ydOF5rB02Lwn",
        "outputId": "63808b36-a53a-40c6-ad66-e0d51ad956fd",
        "colab": {
          "base_uri": "https://localhost:8080/"
        }
      },
      "source": [
        "cf_matrix = confusion_matrix(y_test,y_pred)\n",
        "cf_matrix"
      ],
      "execution_count": 180,
      "outputs": [
        {
          "output_type": "execute_result",
          "data": {
            "text/plain": [
              "array([[563,  46],\n",
              "       [ 66, 469]])"
            ]
          },
          "metadata": {
            "tags": []
          },
          "execution_count": 180
        }
      ]
    },
    {
      "cell_type": "code",
      "metadata": {
        "id": "irxx1MY_WflM"
      },
      "source": [
        "import numpy as np"
      ],
      "execution_count": 181,
      "outputs": []
    },
    {
      "cell_type": "code",
      "metadata": {
        "id": "udmnPffn1ddL",
        "outputId": "1b1da9c5-cc0f-479e-f044-4ae711ae708b",
        "colab": {
          "base_uri": "https://localhost:8080/",
          "height": 356
        }
      },
      "source": [
        "plot_matriz(y_test,y_pred)"
      ],
      "execution_count": 182,
      "outputs": [
        {
          "output_type": "stream",
          "text": [
            "Accuracy: 0.9020979020979021\n",
            "Precision: 0.9106796116504854\n",
            "Recall: 0.8766355140186916\n"
          ],
          "name": "stdout"
        },
        {
          "output_type": "display_data",
          "data": {
            "image/png": "[encoded data removed]",
            "text/plain": [
              "<Figure size 432x288 with 2 Axes>"
            ]
          },
          "metadata": {
            "tags": []
          }
        }
      ]
    },
    {
      "cell_type": "code",
      "metadata": {
        "id": "7COYXwhZWU3Y",
        "outputId": "9eb015ed-e6c0-430c-8dc2-8f0d2f09d716",
        "colab": {
          "base_uri": "https://localhost:8080/"
        }
      },
      "source": [
        "log_reg.coef_"
      ],
      "execution_count": null,
      "outputs": [
        {
          "output_type": "execute_result",
          "data": {
            "text/plain": [
              "array([[-1.75292496e-05,  2.83393102e-04,  3.20044712e-03,\n",
              "         4.87266496e-04,  1.52021718e-05, -7.81136500e-05,\n",
              "         3.58672899e-05,  1.39863746e-04, -9.54617581e-06,\n",
              "         1.47723320e-06, -1.47614278e-06, -4.36004286e-07,\n",
              "        -3.06769170e-07, -6.25522185e-08,  8.07876404e-06,\n",
              "         1.86783291e-05,  8.31596813e-06,  1.52593258e-05,\n",
              "        -1.72983555e-05, -1.22820786e-05, -1.38256839e-05,\n",
              "        -6.11985291e-06]])"
            ]
          },
          "metadata": {
            "tags": []
          },
          "execution_count": 445
        }
      ]
    },
    {
      "cell_type": "markdown",
      "metadata": {
        "id": "9fnDvESH-IJV"
      },
      "source": [
        "#Árbol de decisión"
      ]
    },
    {
      "cell_type": "code",
      "metadata": {
        "id": "4ui-K0v_2HS1"
      },
      "source": [
        "from sklearn.tree import DecisionTreeClassifier"
      ],
      "execution_count": 183,
      "outputs": []
    },
    {
      "cell_type": "code",
      "metadata": {
        "id": "ffuEXx4M-Zyx"
      },
      "source": [
        "modelo = DecisionTreeClassifier()"
      ],
      "execution_count": 184,
      "outputs": []
    },
    {
      "cell_type": "code",
      "metadata": {
        "id": "PQZ6syB7-bbi",
        "outputId": "bbc1593d-9de7-4377-e609-f6faa73fedd8",
        "colab": {
          "base_uri": "https://localhost:8080/"
        }
      },
      "source": [
        "modelo.fit(X_train,y_train)"
      ],
      "execution_count": 185,
      "outputs": [
        {
          "output_type": "execute_result",
          "data": {
            "text/plain": [
              "DecisionTreeClassifier(ccp_alpha=0.0, class_weight=None, criterion='gini',\n",
              "                       max_depth=None, max_features=None, max_leaf_nodes=None,\n",
              "                       min_impurity_decrease=0.0, min_impurity_split=None,\n",
              "                       min_samples_leaf=1, min_samples_split=2,\n",
              "                       min_weight_fraction_leaf=0.0, presort='deprecated',\n",
              "                       random_state=None, splitter='best')"
            ]
          },
          "metadata": {
            "tags": []
          },
          "execution_count": 185
        }
      ]
    },
    {
      "cell_type": "code",
      "metadata": {
        "id": "hYjJ9J-d-c2B"
      },
      "source": [
        "y_pred = modelo.predict(X_test)"
      ],
      "execution_count": 186,
      "outputs": []
    },
    {
      "cell_type": "code",
      "metadata": {
        "id": "onGBL1IvDVix"
      },
      "source": [
        "from sklearn.tree import export_graphviz\n",
        "from sklearn.externals.six import StringIO\n",
        "from IPython.display import Image  \n",
        "import pydotplus"
      ],
      "execution_count": 187,
      "outputs": []
    },
    {
      "cell_type": "code",
      "metadata": {
        "id": "MLtAruDJDWob"
      },
      "source": [
        "tree_to_png(modelo,train,'/content/tree.png')"
      ],
      "execution_count": 188,
      "outputs": []
    },
    {
      "cell_type": "code",
      "metadata": {
        "id": "7aLUh5Qo-eIx",
        "outputId": "30d25692-e931-4fe7-bdd0-4888b3243a12",
        "colab": {
          "base_uri": "https://localhost:8080/"
        }
      },
      "source": [
        "print(classification_report(y_test,y_pred))"
      ],
      "execution_count": 189,
      "outputs": [
        {
          "output_type": "stream",
          "text": [
            "              precision    recall  f1-score   support\n",
            "\n",
            "           0       0.91      0.90      0.90       609\n",
            "           1       0.89      0.90      0.89       535\n",
            "\n",
            "    accuracy                           0.90      1144\n",
            "   macro avg       0.90      0.90      0.90      1144\n",
            "weighted avg       0.90      0.90      0.90      1144\n",
            "\n"
          ],
          "name": "stdout"
        }
      ]
    },
    {
      "cell_type": "code",
      "metadata": {
        "id": "l5c2zjpr-f1-",
        "outputId": "0851427c-a4ee-4b59-9c09-c0e92944974b",
        "colab": {
          "base_uri": "https://localhost:8080/"
        }
      },
      "source": [
        "confusion_matrix(y_test,y_pred)"
      ],
      "execution_count": 190,
      "outputs": [
        {
          "output_type": "execute_result",
          "data": {
            "text/plain": [
              "array([[549,  60],\n",
              "       [ 56, 479]])"
            ]
          },
          "metadata": {
            "tags": []
          },
          "execution_count": 190
        }
      ]
    },
    {
      "cell_type": "code",
      "metadata": {
        "id": "vSQT-GjE-hux",
        "outputId": "9d42b37a-7796-48fe-eea1-3a34b2f0ed50",
        "colab": {
          "base_uri": "https://localhost:8080/",
          "height": 356
        }
      },
      "source": [
        "plot_matriz(y_test,y_pred)"
      ],
      "execution_count": 191,
      "outputs": [
        {
          "output_type": "stream",
          "text": [
            "Accuracy: 0.8986013986013986\n",
            "Precision: 0.8886827458256029\n",
            "Recall: 0.8953271028037383\n"
          ],
          "name": "stdout"
        },
        {
          "output_type": "display_data",
          "data": {
            "image/png": "[encoded data removed]",
            "text/plain": [
              "<Figure size 432x288 with 2 Axes>"
            ]
          },
          "metadata": {
            "tags": []
          }
        }
      ]
    },
    {
      "cell_type": "markdown",
      "metadata": {
        "id": "CX_QxVcJ3vJS"
      },
      "source": [
        "Podar -> Restringir directamente el valor más bajo (número de ocurrencias de una clase particular), todos los hijos de los nodos con un conteo mínimo de clases menor que 5"
      ]
    },
    {
      "cell_type": "code",
      "metadata": {
        "id": "p7BybeUdCXc3",
        "outputId": "cffcf3db-68a5-4532-9d43-1d44c2b67d0a",
        "colab": {
          "base_uri": "https://localhost:8080/"
        }
      },
      "source": [
        "print(sum(modelo.tree_.children_left < 0))\n",
        "# start pruning from the root\n",
        "podar(modelo.tree_, 0, 5)\n",
        "sum(modelo.tree_.children_left < 0)"
      ],
      "execution_count": 192,
      "outputs": [
        {
          "output_type": "stream",
          "text": [
            "186\n"
          ],
          "name": "stdout"
        },
        {
          "output_type": "execute_result",
          "data": {
            "text/plain": [
              "232"
            ]
          },
          "metadata": {
            "tags": []
          },
          "execution_count": 192
        }
      ]
    },
    {
      "cell_type": "code",
      "metadata": {
        "id": "hcrUFmLaCefz"
      },
      "source": [
        "tree_to_png(modelo,train,'/content/tree_pod.png')"
      ],
      "execution_count": 193,
      "outputs": []
    },
    {
      "cell_type": "markdown",
      "metadata": {
        "id": "8PGaUG-zUyj9"
      },
      "source": [
        "#Random Forest"
      ]
    },
    {
      "cell_type": "code",
      "metadata": {
        "id": "oOcBMSmzUyKO"
      },
      "source": [
        "from sklearn.ensemble import RandomForestClassifier"
      ],
      "execution_count": 194,
      "outputs": []
    },
    {
      "cell_type": "code",
      "metadata": {
        "id": "nDCfVXBCScWU"
      },
      "source": [
        "modelo = RandomForestClassifier(n_estimators=100)"
      ],
      "execution_count": 195,
      "outputs": []
    },
    {
      "cell_type": "code",
      "metadata": {
        "id": "59cHOz-cW-du",
        "outputId": "792d8df8-fe31-498c-a0ca-fe6f5c5b0980",
        "colab": {
          "base_uri": "https://localhost:8080/"
        }
      },
      "source": [
        "modelo.fit(X_train,y_train)"
      ],
      "execution_count": 196,
      "outputs": [
        {
          "output_type": "execute_result",
          "data": {
            "text/plain": [
              "RandomForestClassifier(bootstrap=True, ccp_alpha=0.0, class_weight=None,\n",
              "                       criterion='gini', max_depth=None, max_features='auto',\n",
              "                       max_leaf_nodes=None, max_samples=None,\n",
              "                       min_impurity_decrease=0.0, min_impurity_split=None,\n",
              "                       min_samples_leaf=1, min_samples_split=2,\n",
              "                       min_weight_fraction_leaf=0.0, n_estimators=100,\n",
              "                       n_jobs=None, oob_score=False, random_state=None,\n",
              "                       verbose=0, warm_start=False)"
            ]
          },
          "metadata": {
            "tags": []
          },
          "execution_count": 196
        }
      ]
    },
    {
      "cell_type": "code",
      "metadata": {
        "id": "x5MpamfXU9I3"
      },
      "source": [
        "y_pred = modelo.predict(X_test)"
      ],
      "execution_count": 197,
      "outputs": []
    },
    {
      "cell_type": "code",
      "metadata": {
        "id": "jXKqWTszX50I",
        "outputId": "c12de1d6-e5d8-427c-ef80-7810a47d9768",
        "colab": {
          "base_uri": "https://localhost:8080/"
        }
      },
      "source": [
        "len(modelo.estimators_)"
      ],
      "execution_count": 198,
      "outputs": [
        {
          "output_type": "execute_result",
          "data": {
            "text/plain": [
              "100"
            ]
          },
          "metadata": {
            "tags": []
          },
          "execution_count": 198
        }
      ]
    },
    {
      "cell_type": "markdown",
      "metadata": {
        "id": "7K7yGMlDjdWi"
      },
      "source": [
        "Imprimir 5 primeros arboles"
      ]
    },
    {
      "cell_type": "code",
      "metadata": {
        "id": "bszGFVsCYY2W"
      },
      "source": [
        "for index in range(0, 5):\n",
        "  name = '/content/tree_rf_' + str(index) + '.png'\n",
        "  tree_to_png(modelo.estimators_[index],train,name)"
      ],
      "execution_count": 204,
      "outputs": []
    },
    {
      "cell_type": "code",
      "metadata": {
        "id": "484yHOnbVBBA",
        "outputId": "a048c4f5-2cda-45f8-db1a-0492bf0ef2a4",
        "colab": {
          "base_uri": "https://localhost:8080/"
        }
      },
      "source": [
        "print(classification_report(y_test,y_pred))"
      ],
      "execution_count": 199,
      "outputs": [
        {
          "output_type": "stream",
          "text": [
            "              precision    recall  f1-score   support\n",
            "\n",
            "           0       0.92      0.92      0.92       609\n",
            "           1       0.91      0.91      0.91       535\n",
            "\n",
            "    accuracy                           0.92      1144\n",
            "   macro avg       0.92      0.92      0.92      1144\n",
            "weighted avg       0.92      0.92      0.92      1144\n",
            "\n"
          ],
          "name": "stdout"
        }
      ]
    },
    {
      "cell_type": "code",
      "metadata": {
        "id": "ZE5eh9jOVGEt"
      },
      "source": [
        "from sklearn.metrics import confusion_matrix"
      ],
      "execution_count": 115,
      "outputs": []
    },
    {
      "cell_type": "code",
      "metadata": {
        "id": "dbzihjuPVCw9",
        "outputId": "e3c5da5f-c0f4-4252-b01a-a64b91530a43",
        "colab": {
          "base_uri": "https://localhost:8080/"
        }
      },
      "source": [
        "confusion_matrix(y_test,y_pred)"
      ],
      "execution_count": 116,
      "outputs": [
        {
          "output_type": "execute_result",
          "data": {
            "text/plain": [
              "array([[559,  50],\n",
              "       [ 52, 483]])"
            ]
          },
          "metadata": {
            "tags": []
          },
          "execution_count": 116
        }
      ]
    },
    {
      "cell_type": "code",
      "metadata": {
        "id": "y7NGc7iVVIcn",
        "outputId": "e7a0fc19-9b5f-4d4e-a7a9-80ff2ca92a74",
        "colab": {
          "base_uri": "https://localhost:8080/",
          "height": 356
        }
      },
      "source": [
        "plot_matriz(y_test,y_pred)"
      ],
      "execution_count": 117,
      "outputs": [
        {
          "output_type": "stream",
          "text": [
            "Accuracy: 0.9108391608391608\n",
            "Precision: 0.9061913696060038\n",
            "Recall: 0.902803738317757\n"
          ],
          "name": "stdout"
        },
        {
          "output_type": "display_data",
          "data": {
            "image/png": "[encoded data removed]",
            "text/plain": [
              "<Figure size 432x288 with 2 Axes>"
            ]
          },
          "metadata": {
            "tags": []
          }
        }
      ]
    },
    {
      "cell_type": "markdown",
      "metadata": {
        "id": "-2w2nESwyDdI"
      },
      "source": [
        "#AdaBoost"
      ]
    },
    {
      "cell_type": "code",
      "metadata": {
        "id": "-uAoslLkXjgt"
      },
      "source": [
        "from sklearn.ensemble import AdaBoostClassifier\n",
        "from sklearn.datasets import make_classification"
      ],
      "execution_count": 118,
      "outputs": []
    },
    {
      "cell_type": "code",
      "metadata": {
        "id": "mi37l81ayMC7"
      },
      "source": [
        "clf = AdaBoostClassifier(n_estimators=100, random_state=0)"
      ],
      "execution_count": 119,
      "outputs": []
    },
    {
      "cell_type": "code",
      "metadata": {
        "id": "4vCl6He_3ndG",
        "outputId": "2e3f1dca-3bd5-4b9c-96b0-e1448026cda9",
        "colab": {
          "base_uri": "https://localhost:8080/"
        }
      },
      "source": [
        "clf.fit(X_train, y_train)"
      ],
      "execution_count": 120,
      "outputs": [
        {
          "output_type": "execute_result",
          "data": {
            "text/plain": [
              "AdaBoostClassifier(algorithm='SAMME.R', base_estimator=None, learning_rate=1.0,\n",
              "                   n_estimators=100, random_state=0)"
            ]
          },
          "metadata": {
            "tags": []
          },
          "execution_count": 120
        }
      ]
    },
    {
      "cell_type": "code",
      "metadata": {
        "id": "GFRg56o13o_M",
        "outputId": "9938fd49-ca91-46a8-95c8-468110c22f11",
        "colab": {
          "base_uri": "https://localhost:8080/"
        }
      },
      "source": [
        "clf.predict([[0, 0, 0, 0, 0, 0, 0, 0, 0, 0, 0, 0, 0, 0, 0, 0, 0, 0, 0, 0, 0, 0]])"
      ],
      "execution_count": 121,
      "outputs": [
        {
          "output_type": "execute_result",
          "data": {
            "text/plain": [
              "array([0])"
            ]
          },
          "metadata": {
            "tags": []
          },
          "execution_count": 121
        }
      ]
    },
    {
      "cell_type": "code",
      "metadata": {
        "id": "YmkTM0Wk4EdY",
        "outputId": "d84e92eb-f974-41e0-faf8-f70dee9343b3",
        "colab": {
          "base_uri": "https://localhost:8080/"
        }
      },
      "source": [
        "clf.score(X_test, y_test)"
      ],
      "execution_count": 122,
      "outputs": [
        {
          "output_type": "execute_result",
          "data": {
            "text/plain": [
              "0.9274475524475524"
            ]
          },
          "metadata": {
            "tags": []
          },
          "execution_count": 122
        }
      ]
    },
    {
      "cell_type": "code",
      "metadata": {
        "id": "_IKl4oGO48wY"
      },
      "source": [
        ""
      ],
      "execution_count": 122,
      "outputs": []
    },
    {
      "cell_type": "markdown",
      "metadata": {
        "id": "Ef3vsvhkXu_w"
      },
      "source": [
        "#KNN"
      ]
    },
    {
      "cell_type": "code",
      "metadata": {
        "id": "lz4wFFbTZJo4"
      },
      "source": [
        "X_train, X_test, y_train, y_test = train_test_split(train.drop('rend_ef_bin',axis=1),\n",
        "                                                    train['rend_ef_bin'],\n",
        "                                                    test_size=0.30,random_state=42)"
      ],
      "execution_count": 160,
      "outputs": []
    },
    {
      "cell_type": "code",
      "metadata": {
        "id": "ALyKO8bcZN4y"
      },
      "source": [
        "scaler = MinMaxScaler()\n",
        "X_train = scaler.fit_transform(X_train)\n",
        "X_test = scaler.transform(X_test)"
      ],
      "execution_count": 161,
      "outputs": []
    },
    {
      "cell_type": "code",
      "metadata": {
        "id": "On9XmPozV2Ba"
      },
      "source": [
        "from sklearn.neighbors import KNeighborsClassifier"
      ],
      "execution_count": 162,
      "outputs": []
    },
    {
      "cell_type": "code",
      "metadata": {
        "id": "powRzkgFU1eT"
      },
      "source": [
        "knn = KNeighborsClassifier(n_neighbors=1)"
      ],
      "execution_count": 163,
      "outputs": []
    },
    {
      "cell_type": "code",
      "metadata": {
        "id": "TLCsdOMsV6fV",
        "outputId": "20e7d403-cd77-4535-f6cb-26b36b3d870e",
        "colab": {
          "base_uri": "https://localhost:8080/"
        }
      },
      "source": [
        "knn.fit(X_train,y_train)"
      ],
      "execution_count": 164,
      "outputs": [
        {
          "output_type": "execute_result",
          "data": {
            "text/plain": [
              "KNeighborsClassifier(algorithm='auto', leaf_size=30, metric='minkowski',\n",
              "                     metric_params=None, n_jobs=None, n_neighbors=1, p=2,\n",
              "                     weights='uniform')"
            ]
          },
          "metadata": {
            "tags": []
          },
          "execution_count": 164
        }
      ]
    },
    {
      "cell_type": "code",
      "metadata": {
        "id": "1X3K0dP5V73C"
      },
      "source": [
        "pred = knn.predict(X_test)"
      ],
      "execution_count": 165,
      "outputs": []
    },
    {
      "cell_type": "code",
      "metadata": {
        "id": "oKo8t2r_V-ur",
        "outputId": "c0853f03-2cc3-4894-e512-0fc9481fe442",
        "colab": {
          "base_uri": "https://localhost:8080/"
        }
      },
      "source": [
        "print(classification_report(y_test,pred))"
      ],
      "execution_count": 166,
      "outputs": [
        {
          "output_type": "stream",
          "text": [
            "              precision    recall  f1-score   support\n",
            "\n",
            "           0       0.88      0.88      0.88       609\n",
            "           1       0.86      0.86      0.86       535\n",
            "\n",
            "    accuracy                           0.87      1144\n",
            "   macro avg       0.87      0.87      0.87      1144\n",
            "weighted avg       0.87      0.87      0.87      1144\n",
            "\n"
          ],
          "name": "stdout"
        }
      ]
    },
    {
      "cell_type": "code",
      "metadata": {
        "id": "Ipog_TixXoIf"
      },
      "source": [
        "error_rate = []\n",
        "\n",
        "for i in range(1,40):\n",
        "    \n",
        "    knn = KNeighborsClassifier(n_neighbors=i)\n",
        "    knn.fit(X_train,y_train)\n",
        "    pred_i = knn.predict(X_test)\n",
        "    error_rate.append(np.mean(pred_i != y_test))"
      ],
      "execution_count": 167,
      "outputs": []
    },
    {
      "cell_type": "code",
      "metadata": {
        "id": "hWb8-SVVXrYN",
        "outputId": "b4553bfa-1792-4462-b393-a9efbaabb314",
        "colab": {
          "base_uri": "https://localhost:8080/",
          "height": 427
        }
      },
      "source": [
        "plt.figure(figsize=(10,6))\n",
        "plt.plot(range(1,40),error_rate,color='blue', linestyle='dashed', marker='o',\n",
        "         markerfacecolor='red', markersize=10)\n",
        "plt.title('Error Rate vs. K Value')\n",
        "plt.xlabel('K')\n",
        "plt.ylabel('Error Rate')"
      ],
      "execution_count": 168,
      "outputs": [
        {
          "output_type": "execute_result",
          "data": {
            "text/plain": [
              "Text(0, 0.5, 'Error Rate')"
            ]
          },
          "metadata": {
            "tags": []
          },
          "execution_count": 168
        },
        {
          "output_type": "display_data",
          "data": {
            "image/png": "[encoded data removed]",
            "text/plain": [
              "<Figure size 720x432 with 1 Axes>"
            ]
          },
          "metadata": {
            "tags": []
          }
        }
      ]
    },
    {
      "cell_type": "code",
      "metadata": {
        "id": "Qxo71t5zdWHG",
        "outputId": "4240d9d9-a52c-4082-edbd-b69feea05488",
        "colab": {
          "base_uri": "https://localhost:8080/"
        }
      },
      "source": [
        "knn = KNeighborsClassifier(n_neighbors=7)\n",
        "\n",
        "knn.fit(X_train,y_train)\n",
        "pred = knn.predict(X_test)\n",
        "\n",
        "print('Con K=7')\n",
        "print(confusion_matrix(y_test,pred))\n",
        "print(classification_report(y_test,pred))"
      ],
      "execution_count": 201,
      "outputs": [
        {
          "output_type": "stream",
          "text": [
            "Con K=7\n",
            "[[554  55]\n",
            " [ 59 476]]\n",
            "              precision    recall  f1-score   support\n",
            "\n",
            "           0       0.90      0.91      0.91       609\n",
            "           1       0.90      0.89      0.89       535\n",
            "\n",
            "    accuracy                           0.90      1144\n",
            "   macro avg       0.90      0.90      0.90      1144\n",
            "weighted avg       0.90      0.90      0.90      1144\n",
            "\n"
          ],
          "name": "stdout"
        }
      ]
    },
    {
      "cell_type": "markdown",
      "metadata": {
        "id": "tYq2NhPnYpla"
      },
      "source": [
        "#Kmeans"
      ]
    },
    {
      "cell_type": "code",
      "metadata": {
        "id": "udPAXn7-Y-Vt",
        "outputId": "32dc9863-1ee0-4c51-cc36-5531d041dbd7",
        "colab": {
          "base_uri": "https://localhost:8080/"
        }
      },
      "source": [
        "palas.columns"
      ],
      "execution_count": 159,
      "outputs": [
        {
          "output_type": "execute_result",
          "data": {
            "text/plain": [
              "Index(['shiftdate', 'shift#', 'eqmtid', 'totaltime', 'loadcnt', 'tmcat02',\n",
              "       'tmcat03', 'tmcat04', 'tmcat05', 'tmcat06', 'tmcat07',\n",
              "       'rendimiento_efectivo', 'rend_ef_bin'],\n",
              "      dtype='object')"
            ]
          },
          "metadata": {
            "tags": []
          },
          "execution_count": 159
        }
      ]
    },
    {
      "cell_type": "code",
      "metadata": {
        "id": "D2DaIfxMY6Gc"
      },
      "source": [
        "from sklearn.cluster import KMeans"
      ],
      "execution_count": 158,
      "outputs": []
    },
    {
      "cell_type": "code",
      "metadata": {
        "id": "aKyDokRvY7IB",
        "outputId": "99d9a244-d952-417d-bff8-b76cf48f2546",
        "colab": {
          "base_uri": "https://localhost:8080/",
          "height": 279
        }
      },
      "source": [
        "codo(11,train.drop('rend_ef_bin',axis=1))"
      ],
      "execution_count": 210,
      "outputs": [
        {
          "output_type": "display_data",
          "data": {
            "image/png": "[encoded data removed]",
            "text/plain": [
              "<Figure size 432x288 with 1 Axes>"
            ]
          },
          "metadata": {
            "tags": []
          }
        }
      ]
    },
    {
      "cell_type": "code",
      "metadata": {
        "id": "TPM8lxD2a5Vw"
      },
      "source": [
        ""
      ],
      "execution_count": null,
      "outputs": []
    }
  ]
}