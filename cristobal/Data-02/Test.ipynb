{
  "nbformat": 4,
  "nbformat_minor": 0,
  "metadata": {
    "colab": {
      "name": "Test.ipynb",
      "provenance": [],
      "toc_visible": true,
      "authorship_tag": "ABX9TyPdYSdshEWvUoXYQDXUSgQY",
      "include_colab_link": true
    },
    "kernelspec": {
      "name": "python3",
      "display_name": "Python 3"
    }
  },
  "cells": [
    {
      "cell_type": "markdown",
      "metadata": {
        "id": "view-in-github",
        "colab_type": "text"
      },
      "source": [
        "<a href=\"https://colab.research.google.com/github/cml096/GoogleColabRepo/blob/master/cristobal/Data-02/Test.ipynb\" target=\"_parent\"><img src=\"https://colab.research.google.com/assets/colab-badge.svg\" alt=\"Open In Colab\"/></a>"
      ]
    },
    {
      "cell_type": "code",
      "metadata": {
        "id": "_k-vUC09eqGq"
      },
      "source": [
        "import pandas as pd\n",
        "df = pd.read_excel('OperTot - PowerView_ARCH1.xlsx')"
      ],
      "execution_count": 383,
      "outputs": []
    },
    {
      "cell_type": "code",
      "metadata": {
        "id": "HjOPgh8whtWh"
      },
      "source": [
        "list_drop = ['ID','crew#','unit#','tmcat08','tmcat09','tmcat10','tmcat11','tmcat12','tmcat13','tmcat14','tmcat15','tmcat16','tmcat17','tmcat18','tmcat19']\n",
        "df.drop(list_drop,axis=1,inplace=True)"
      ],
      "execution_count": 384,
      "outputs": []
    },
    {
      "cell_type": "code",
      "metadata": {
        "id": "eNOspMBMhv6B"
      },
      "source": [
        "df[\"shift#\"] = df[\"shift#\"].astype(str)\n",
        "df.totaltons = df.totaltons.astype(int)"
      ],
      "execution_count": 385,
      "outputs": []
    },
    {
      "cell_type": "code",
      "metadata": {
        "id": "CqSpJPvdhxe5"
      },
      "source": [
        "df_palas = df[df.unit == 'Pala']"
      ],
      "execution_count": 386,
      "outputs": []
    },
    {
      "cell_type": "code",
      "metadata": {
        "id": "rlH8lKODyCHZ",
        "outputId": "9060e51a-4f51-419e-f418-264f73dc21ce",
        "colab": {
          "base_uri": "https://localhost:8080/"
        }
      },
      "source": [
        "df_palas.columns"
      ],
      "execution_count": 387,
      "outputs": [
        {
          "output_type": "execute_result",
          "data": {
            "text/plain": [
              "Index(['shiftdate', 'shiftindex', 'shift#', 'start', 'crew', 'eqmtid',\n",
              "       'logintime', 'locid', 'operid', 'totaltime', 'pit', 'unit',\n",
              "       'totalloads', 'totaltons', 'loadtime', 'idletime', 'spottime',\n",
              "       'loadcnt', 'tmcat00', 'tmcat01', 'tmcat02', 'tmcat03', 'tmcat04',\n",
              "       'tmcat05', 'tmcat06', 'tmcat07'],\n",
              "      dtype='object')"
            ]
          },
          "metadata": {
            "tags": []
          },
          "execution_count": 387
        }
      ]
    },
    {
      "cell_type": "code",
      "metadata": {
        "id": "yTM08Chuy31k",
        "outputId": "374fb9ad-9d12-45fc-fbc6-eaf742342c24",
        "colab": {
          "base_uri": "https://localhost:8080/",
          "height": 224
        }
      },
      "source": [
        "df_palas.head()"
      ],
      "execution_count": 388,
      "outputs": [
        {
          "output_type": "execute_result",
          "data": {
            "text/html": [
              "<div>\n",
              "<style scoped>\n",
              "    .dataframe tbody tr th:only-of-type {\n",
              "        vertical-align: middle;\n",
              "    }\n",
              "\n",
              "    .dataframe tbody tr th {\n",
              "        vertical-align: top;\n",
              "    }\n",
              "\n",
              "    .dataframe thead th {\n",
              "        text-align: right;\n",
              "    }\n",
              "</style>\n",
              "<table border=\"1\" class=\"dataframe\">\n",
              "  <thead>\n",
              "    <tr style=\"text-align: right;\">\n",
              "      <th></th>\n",
              "      <th>shiftdate</th>\n",
              "      <th>shiftindex</th>\n",
              "      <th>shift#</th>\n",
              "      <th>start</th>\n",
              "      <th>crew</th>\n",
              "      <th>eqmtid</th>\n",
              "      <th>logintime</th>\n",
              "      <th>locid</th>\n",
              "      <th>operid</th>\n",
              "      <th>totaltime</th>\n",
              "      <th>pit</th>\n",
              "      <th>unit</th>\n",
              "      <th>totalloads</th>\n",
              "      <th>totaltons</th>\n",
              "      <th>loadtime</th>\n",
              "      <th>idletime</th>\n",
              "      <th>spottime</th>\n",
              "      <th>loadcnt</th>\n",
              "      <th>tmcat00</th>\n",
              "      <th>tmcat01</th>\n",
              "      <th>tmcat02</th>\n",
              "      <th>tmcat03</th>\n",
              "      <th>tmcat04</th>\n",
              "      <th>tmcat05</th>\n",
              "      <th>tmcat06</th>\n",
              "      <th>tmcat07</th>\n",
              "    </tr>\n",
              "  </thead>\n",
              "  <tbody>\n",
              "    <tr>\n",
              "      <th>44</th>\n",
              "      <td>2019-07-01</td>\n",
              "      <td>36157</td>\n",
              "      <td>2</td>\n",
              "      <td>28800</td>\n",
              "      <td>G2</td>\n",
              "      <td>307</td>\n",
              "      <td>0</td>\n",
              "      <td>TX210039</td>\n",
              "      <td>mmsunk</td>\n",
              "      <td>3088</td>\n",
              "      <td>MINA</td>\n",
              "      <td>Pala</td>\n",
              "      <td>3</td>\n",
              "      <td>690</td>\n",
              "      <td>0</td>\n",
              "      <td>0</td>\n",
              "      <td>0</td>\n",
              "      <td>3</td>\n",
              "      <td>3088</td>\n",
              "      <td>0</td>\n",
              "      <td>0</td>\n",
              "      <td>3088</td>\n",
              "      <td>0</td>\n",
              "      <td>0</td>\n",
              "      <td>0</td>\n",
              "      <td>0</td>\n",
              "    </tr>\n",
              "    <tr>\n",
              "      <th>45</th>\n",
              "      <td>2019-07-01</td>\n",
              "      <td>36157</td>\n",
              "      <td>2</td>\n",
              "      <td>28800</td>\n",
              "      <td>G2</td>\n",
              "      <td>307</td>\n",
              "      <td>3088</td>\n",
              "      <td>TX210039</td>\n",
              "      <td>07641</td>\n",
              "      <td>39893</td>\n",
              "      <td>MINA</td>\n",
              "      <td>Pala</td>\n",
              "      <td>100</td>\n",
              "      <td>23335</td>\n",
              "      <td>22347</td>\n",
              "      <td>5090</td>\n",
              "      <td>7656</td>\n",
              "      <td>100</td>\n",
              "      <td>39893</td>\n",
              "      <td>35320</td>\n",
              "      <td>0</td>\n",
              "      <td>2801</td>\n",
              "      <td>0</td>\n",
              "      <td>0</td>\n",
              "      <td>1772</td>\n",
              "      <td>0</td>\n",
              "    </tr>\n",
              "    <tr>\n",
              "      <th>46</th>\n",
              "      <td>2019-07-01</td>\n",
              "      <td>36157</td>\n",
              "      <td>2</td>\n",
              "      <td>28800</td>\n",
              "      <td>G2</td>\n",
              "      <td>307</td>\n",
              "      <td>42981</td>\n",
              "      <td>TX210039</td>\n",
              "      <td>mmsunk</td>\n",
              "      <td>219</td>\n",
              "      <td>MINA</td>\n",
              "      <td>Pala</td>\n",
              "      <td>0</td>\n",
              "      <td>0</td>\n",
              "      <td>0</td>\n",
              "      <td>0</td>\n",
              "      <td>0</td>\n",
              "      <td>0</td>\n",
              "      <td>219</td>\n",
              "      <td>0</td>\n",
              "      <td>0</td>\n",
              "      <td>219</td>\n",
              "      <td>0</td>\n",
              "      <td>0</td>\n",
              "      <td>0</td>\n",
              "      <td>0</td>\n",
              "    </tr>\n",
              "    <tr>\n",
              "      <th>47</th>\n",
              "      <td>2019-07-01</td>\n",
              "      <td>36157</td>\n",
              "      <td>2</td>\n",
              "      <td>28800</td>\n",
              "      <td>G2</td>\n",
              "      <td>BUZON</td>\n",
              "      <td>0</td>\n",
              "      <td></td>\n",
              "      <td>mmsunk</td>\n",
              "      <td>43200</td>\n",
              "      <td>MINA</td>\n",
              "      <td>Pala</td>\n",
              "      <td>0</td>\n",
              "      <td>0</td>\n",
              "      <td>0</td>\n",
              "      <td>0</td>\n",
              "      <td>0</td>\n",
              "      <td>0</td>\n",
              "      <td>43200</td>\n",
              "      <td>0</td>\n",
              "      <td>0</td>\n",
              "      <td>0</td>\n",
              "      <td>43200</td>\n",
              "      <td>0</td>\n",
              "      <td>0</td>\n",
              "      <td>0</td>\n",
              "    </tr>\n",
              "    <tr>\n",
              "      <th>48</th>\n",
              "      <td>2019-07-01</td>\n",
              "      <td>36157</td>\n",
              "      <td>2</td>\n",
              "      <td>28800</td>\n",
              "      <td>G2</td>\n",
              "      <td>COSE2</td>\n",
              "      <td>0</td>\n",
              "      <td></td>\n",
              "      <td>mmsunk</td>\n",
              "      <td>43200</td>\n",
              "      <td></td>\n",
              "      <td>Pala</td>\n",
              "      <td>0</td>\n",
              "      <td>0</td>\n",
              "      <td>0</td>\n",
              "      <td>0</td>\n",
              "      <td>0</td>\n",
              "      <td>0</td>\n",
              "      <td>43200</td>\n",
              "      <td>0</td>\n",
              "      <td>0</td>\n",
              "      <td>0</td>\n",
              "      <td>43200</td>\n",
              "      <td>0</td>\n",
              "      <td>0</td>\n",
              "      <td>0</td>\n",
              "    </tr>\n",
              "  </tbody>\n",
              "</table>\n",
              "</div>"
            ],
            "text/plain": [
              "    shiftdate  shiftindex shift#  start  ... tmcat04 tmcat05  tmcat06 tmcat07\n",
              "44 2019-07-01       36157      2  28800  ...       0       0        0       0\n",
              "45 2019-07-01       36157      2  28800  ...       0       0     1772       0\n",
              "46 2019-07-01       36157      2  28800  ...       0       0        0       0\n",
              "47 2019-07-01       36157      2  28800  ...   43200       0        0       0\n",
              "48 2019-07-01       36157      2  28800  ...   43200       0        0       0\n",
              "\n",
              "[5 rows x 26 columns]"
            ]
          },
          "metadata": {
            "tags": []
          },
          "execution_count": 388
        }
      ]
    },
    {
      "cell_type": "code",
      "metadata": {
        "id": "lCkkZcOWmT5h"
      },
      "source": [
        "palas = pd.DataFrame(df_palas.groupby(['shiftdate','shiftindex','shift#','eqmtid']).sum().reset_index().sort_values('shiftdate'))"
      ],
      "execution_count": 389,
      "outputs": []
    },
    {
      "cell_type": "code",
      "metadata": {
        "id": "5yArPCOoq8XF",
        "outputId": "c12d81c5-57a2-44f9-b9ce-4e08a6839f71",
        "colab": {
          "base_uri": "https://localhost:8080/"
        }
      },
      "source": [
        "palas.columns"
      ],
      "execution_count": 390,
      "outputs": [
        {
          "output_type": "execute_result",
          "data": {
            "text/plain": [
              "Index(['shiftdate', 'shiftindex', 'shift#', 'eqmtid', 'start', 'logintime',\n",
              "       'totaltime', 'totalloads', 'totaltons', 'loadtime', 'idletime',\n",
              "       'spottime', 'loadcnt', 'tmcat00', 'tmcat01', 'tmcat02', 'tmcat03',\n",
              "       'tmcat04', 'tmcat05', 'tmcat06', 'tmcat07'],\n",
              "      dtype='object')"
            ]
          },
          "metadata": {
            "tags": []
          },
          "execution_count": 390
        }
      ]
    },
    {
      "cell_type": "code",
      "metadata": {
        "id": "4uUlYAdesMpH"
      },
      "source": [
        "list_drop = ['start','logintime','totalloads','loadtime','idletime','spottime','tmcat00']\n",
        "palas.drop(list_drop,axis=1,inplace=True)"
      ],
      "execution_count": 391,
      "outputs": []
    },
    {
      "cell_type": "code",
      "metadata": {
        "id": "T5z6Ovwv28z8",
        "outputId": "36ccd270-56ee-44a3-92f8-c7a05c869e83",
        "colab": {
          "base_uri": "https://localhost:8080/",
          "height": 379
        }
      },
      "source": [
        "palas.head(10)"
      ],
      "execution_count": 392,
      "outputs": [
        {
          "output_type": "execute_result",
          "data": {
            "text/html": [
              "<div>\n",
              "<style scoped>\n",
              "    .dataframe tbody tr th:only-of-type {\n",
              "        vertical-align: middle;\n",
              "    }\n",
              "\n",
              "    .dataframe tbody tr th {\n",
              "        vertical-align: top;\n",
              "    }\n",
              "\n",
              "    .dataframe thead th {\n",
              "        text-align: right;\n",
              "    }\n",
              "</style>\n",
              "<table border=\"1\" class=\"dataframe\">\n",
              "  <thead>\n",
              "    <tr style=\"text-align: right;\">\n",
              "      <th></th>\n",
              "      <th>shiftdate</th>\n",
              "      <th>shiftindex</th>\n",
              "      <th>shift#</th>\n",
              "      <th>eqmtid</th>\n",
              "      <th>totaltime</th>\n",
              "      <th>totaltons</th>\n",
              "      <th>loadcnt</th>\n",
              "      <th>tmcat01</th>\n",
              "      <th>tmcat02</th>\n",
              "      <th>tmcat03</th>\n",
              "      <th>tmcat04</th>\n",
              "      <th>tmcat05</th>\n",
              "      <th>tmcat06</th>\n",
              "      <th>tmcat07</th>\n",
              "    </tr>\n",
              "  </thead>\n",
              "  <tbody>\n",
              "    <tr>\n",
              "      <th>0</th>\n",
              "      <td>2019-07-01</td>\n",
              "      <td>36156</td>\n",
              "      <td>1</td>\n",
              "      <td>025</td>\n",
              "      <td>43200</td>\n",
              "      <td>0</td>\n",
              "      <td>0</td>\n",
              "      <td>0</td>\n",
              "      <td>0</td>\n",
              "      <td>0</td>\n",
              "      <td>0</td>\n",
              "      <td>3600</td>\n",
              "      <td>39600</td>\n",
              "      <td>0</td>\n",
              "    </tr>\n",
              "    <tr>\n",
              "      <th>20</th>\n",
              "      <td>2019-07-01</td>\n",
              "      <td>36157</td>\n",
              "      <td>2</td>\n",
              "      <td>029</td>\n",
              "      <td>43200</td>\n",
              "      <td>0</td>\n",
              "      <td>0</td>\n",
              "      <td>34200</td>\n",
              "      <td>0</td>\n",
              "      <td>1800</td>\n",
              "      <td>0</td>\n",
              "      <td>0</td>\n",
              "      <td>7200</td>\n",
              "      <td>0</td>\n",
              "    </tr>\n",
              "    <tr>\n",
              "      <th>21</th>\n",
              "      <td>2019-07-01</td>\n",
              "      <td>36157</td>\n",
              "      <td>2</td>\n",
              "      <td>030</td>\n",
              "      <td>43200</td>\n",
              "      <td>0</td>\n",
              "      <td>0</td>\n",
              "      <td>27000</td>\n",
              "      <td>0</td>\n",
              "      <td>9000</td>\n",
              "      <td>0</td>\n",
              "      <td>0</td>\n",
              "      <td>7200</td>\n",
              "      <td>0</td>\n",
              "    </tr>\n",
              "    <tr>\n",
              "      <th>22</th>\n",
              "      <td>2019-07-01</td>\n",
              "      <td>36157</td>\n",
              "      <td>2</td>\n",
              "      <td>210</td>\n",
              "      <td>43200</td>\n",
              "      <td>0</td>\n",
              "      <td>0</td>\n",
              "      <td>0</td>\n",
              "      <td>0</td>\n",
              "      <td>0</td>\n",
              "      <td>0</td>\n",
              "      <td>43200</td>\n",
              "      <td>0</td>\n",
              "      <td>0</td>\n",
              "    </tr>\n",
              "    <tr>\n",
              "      <th>23</th>\n",
              "      <td>2019-07-01</td>\n",
              "      <td>36157</td>\n",
              "      <td>2</td>\n",
              "      <td>211</td>\n",
              "      <td>43200</td>\n",
              "      <td>35782</td>\n",
              "      <td>157</td>\n",
              "      <td>35168</td>\n",
              "      <td>0</td>\n",
              "      <td>814</td>\n",
              "      <td>3086</td>\n",
              "      <td>0</td>\n",
              "      <td>4132</td>\n",
              "      <td>0</td>\n",
              "    </tr>\n",
              "    <tr>\n",
              "      <th>24</th>\n",
              "      <td>2019-07-01</td>\n",
              "      <td>36157</td>\n",
              "      <td>2</td>\n",
              "      <td>212</td>\n",
              "      <td>43200</td>\n",
              "      <td>0</td>\n",
              "      <td>0</td>\n",
              "      <td>0</td>\n",
              "      <td>0</td>\n",
              "      <td>0</td>\n",
              "      <td>0</td>\n",
              "      <td>43200</td>\n",
              "      <td>0</td>\n",
              "      <td>0</td>\n",
              "    </tr>\n",
              "    <tr>\n",
              "      <th>25</th>\n",
              "      <td>2019-07-01</td>\n",
              "      <td>36157</td>\n",
              "      <td>2</td>\n",
              "      <td>213</td>\n",
              "      <td>43200</td>\n",
              "      <td>2833</td>\n",
              "      <td>12</td>\n",
              "      <td>5593</td>\n",
              "      <td>0</td>\n",
              "      <td>367</td>\n",
              "      <td>3466</td>\n",
              "      <td>33774</td>\n",
              "      <td>0</td>\n",
              "      <td>0</td>\n",
              "    </tr>\n",
              "    <tr>\n",
              "      <th>27</th>\n",
              "      <td>2019-07-01</td>\n",
              "      <td>36157</td>\n",
              "      <td>2</td>\n",
              "      <td>305</td>\n",
              "      <td>43200</td>\n",
              "      <td>12764</td>\n",
              "      <td>55</td>\n",
              "      <td>30875</td>\n",
              "      <td>0</td>\n",
              "      <td>3972</td>\n",
              "      <td>4192</td>\n",
              "      <td>0</td>\n",
              "      <td>4161</td>\n",
              "      <td>0</td>\n",
              "    </tr>\n",
              "    <tr>\n",
              "      <th>28</th>\n",
              "      <td>2019-07-01</td>\n",
              "      <td>36157</td>\n",
              "      <td>2</td>\n",
              "      <td>306</td>\n",
              "      <td>43200</td>\n",
              "      <td>12139</td>\n",
              "      <td>54</td>\n",
              "      <td>24996</td>\n",
              "      <td>0</td>\n",
              "      <td>10339</td>\n",
              "      <td>0</td>\n",
              "      <td>6049</td>\n",
              "      <td>1816</td>\n",
              "      <td>0</td>\n",
              "    </tr>\n",
              "    <tr>\n",
              "      <th>29</th>\n",
              "      <td>2019-07-01</td>\n",
              "      <td>36157</td>\n",
              "      <td>2</td>\n",
              "      <td>307</td>\n",
              "      <td>43200</td>\n",
              "      <td>24025</td>\n",
              "      <td>103</td>\n",
              "      <td>35320</td>\n",
              "      <td>0</td>\n",
              "      <td>6108</td>\n",
              "      <td>0</td>\n",
              "      <td>0</td>\n",
              "      <td>1772</td>\n",
              "      <td>0</td>\n",
              "    </tr>\n",
              "  </tbody>\n",
              "</table>\n",
              "</div>"
            ],
            "text/plain": [
              "    shiftdate  shiftindex shift# eqmtid  ...  tmcat04  tmcat05  tmcat06  tmcat07\n",
              "0  2019-07-01       36156      1    025  ...        0     3600    39600        0\n",
              "20 2019-07-01       36157      2    029  ...        0        0     7200        0\n",
              "21 2019-07-01       36157      2    030  ...        0        0     7200        0\n",
              "22 2019-07-01       36157      2    210  ...        0    43200        0        0\n",
              "23 2019-07-01       36157      2    211  ...     3086        0     4132        0\n",
              "24 2019-07-01       36157      2    212  ...        0    43200        0        0\n",
              "25 2019-07-01       36157      2    213  ...     3466    33774        0        0\n",
              "27 2019-07-01       36157      2    305  ...     4192        0     4161        0\n",
              "28 2019-07-01       36157      2    306  ...        0     6049     1816        0\n",
              "29 2019-07-01       36157      2    307  ...        0        0     1772        0\n",
              "\n",
              "[10 rows x 14 columns]"
            ]
          },
          "metadata": {
            "tags": []
          },
          "execution_count": 392
        }
      ]
    },
    {
      "cell_type": "markdown",
      "metadata": {
        "id": "HpIMdg3X2ZIe"
      },
      "source": [
        "Calculo Rendimiento"
      ]
    },
    {
      "cell_type": "code",
      "metadata": {
        "id": "Tpi8lfCjzqM3"
      },
      "source": [
        "def rendimiento_efectivo(ton,time):\n",
        "  if time == 0:\n",
        "    return 0\n",
        "  else:\n",
        "    return int((ton/time) * 3600)"
      ],
      "execution_count": 393,
      "outputs": []
    },
    {
      "cell_type": "code",
      "metadata": {
        "id": "MUaHxueNztHD"
      },
      "source": [
        "palas['rendimiento_efectivo'] = palas.apply(lambda row : rendimiento_efectivo(row.totaltons,row.tmcat01),axis=1)"
      ],
      "execution_count": 394,
      "outputs": []
    },
    {
      "cell_type": "markdown",
      "metadata": {
        "id": "X0wfzt-qFRnL"
      },
      "source": [
        "Dato anomalo\n"
      ]
    },
    {
      "cell_type": "code",
      "metadata": {
        "id": "qe91RTTKFUcr",
        "outputId": "4394aea9-5109-4ec4-d5aa-89ca0726a26e",
        "colab": {
          "base_uri": "https://localhost:8080/",
          "height": 131
        }
      },
      "source": [
        "palas[palas.rendimiento_efectivo > 2 * 3600]"
      ],
      "execution_count": 395,
      "outputs": [
        {
          "output_type": "execute_result",
          "data": {
            "text/html": [
              "<div>\n",
              "<style scoped>\n",
              "    .dataframe tbody tr th:only-of-type {\n",
              "        vertical-align: middle;\n",
              "    }\n",
              "\n",
              "    .dataframe tbody tr th {\n",
              "        vertical-align: top;\n",
              "    }\n",
              "\n",
              "    .dataframe thead th {\n",
              "        text-align: right;\n",
              "    }\n",
              "</style>\n",
              "<table border=\"1\" class=\"dataframe\">\n",
              "  <thead>\n",
              "    <tr style=\"text-align: right;\">\n",
              "      <th></th>\n",
              "      <th>shiftdate</th>\n",
              "      <th>shiftindex</th>\n",
              "      <th>shift#</th>\n",
              "      <th>eqmtid</th>\n",
              "      <th>totaltime</th>\n",
              "      <th>totaltons</th>\n",
              "      <th>loadcnt</th>\n",
              "      <th>tmcat01</th>\n",
              "      <th>tmcat02</th>\n",
              "      <th>tmcat03</th>\n",
              "      <th>tmcat04</th>\n",
              "      <th>tmcat05</th>\n",
              "      <th>tmcat06</th>\n",
              "      <th>tmcat07</th>\n",
              "      <th>rendimiento_efectivo</th>\n",
              "    </tr>\n",
              "  </thead>\n",
              "  <tbody>\n",
              "    <tr>\n",
              "      <th>7406</th>\n",
              "      <td>2020-01-26</td>\n",
              "      <td>36574</td>\n",
              "      <td>1</td>\n",
              "      <td>307</td>\n",
              "      <td>43200</td>\n",
              "      <td>15268</td>\n",
              "      <td>64</td>\n",
              "      <td>2660</td>\n",
              "      <td>0</td>\n",
              "      <td>21656</td>\n",
              "      <td>18884</td>\n",
              "      <td>0</td>\n",
              "      <td>0</td>\n",
              "      <td>0</td>\n",
              "      <td>20663</td>\n",
              "    </tr>\n",
              "    <tr>\n",
              "      <th>10470</th>\n",
              "      <td>2020-05-09</td>\n",
              "      <td>36783</td>\n",
              "      <td>2</td>\n",
              "      <td>211</td>\n",
              "      <td>43200</td>\n",
              "      <td>240</td>\n",
              "      <td>1</td>\n",
              "      <td>20</td>\n",
              "      <td>0</td>\n",
              "      <td>66</td>\n",
              "      <td>0</td>\n",
              "      <td>42478</td>\n",
              "      <td>636</td>\n",
              "      <td>0</td>\n",
              "      <td>43200</td>\n",
              "    </tr>\n",
              "  </tbody>\n",
              "</table>\n",
              "</div>"
            ],
            "text/plain": [
              "       shiftdate  shiftindex shift#  ... tmcat06  tmcat07  rendimiento_efectivo\n",
              "7406  2020-01-26       36574      1  ...       0        0                 20663\n",
              "10470 2020-05-09       36783      2  ...     636        0                 43200\n",
              "\n",
              "[2 rows x 15 columns]"
            ]
          },
          "metadata": {
            "tags": []
          },
          "execution_count": 395
        }
      ]
    },
    {
      "cell_type": "code",
      "metadata": {
        "id": "BhN2VCGjG7eP"
      },
      "source": [
        "palas.drop([7406,10470],axis=0,inplace=True)"
      ],
      "execution_count": 396,
      "outputs": []
    },
    {
      "cell_type": "markdown",
      "metadata": {
        "id": "gz-TC4rzHgfN"
      },
      "source": [
        "(?)"
      ]
    },
    {
      "cell_type": "code",
      "metadata": {
        "id": "EyhmAeckHWGT",
        "outputId": "9205849c-820a-4f81-b5fa-e14340f52e8e",
        "colab": {
          "base_uri": "https://localhost:8080/",
          "height": 100
        }
      },
      "source": [
        "palas[palas.rendimiento_efectivo > 1.5 * 3600]"
      ],
      "execution_count": 397,
      "outputs": [
        {
          "output_type": "execute_result",
          "data": {
            "text/html": [
              "<div>\n",
              "<style scoped>\n",
              "    .dataframe tbody tr th:only-of-type {\n",
              "        vertical-align: middle;\n",
              "    }\n",
              "\n",
              "    .dataframe tbody tr th {\n",
              "        vertical-align: top;\n",
              "    }\n",
              "\n",
              "    .dataframe thead th {\n",
              "        text-align: right;\n",
              "    }\n",
              "</style>\n",
              "<table border=\"1\" class=\"dataframe\">\n",
              "  <thead>\n",
              "    <tr style=\"text-align: right;\">\n",
              "      <th></th>\n",
              "      <th>shiftdate</th>\n",
              "      <th>shiftindex</th>\n",
              "      <th>shift#</th>\n",
              "      <th>eqmtid</th>\n",
              "      <th>totaltime</th>\n",
              "      <th>totaltons</th>\n",
              "      <th>loadcnt</th>\n",
              "      <th>tmcat01</th>\n",
              "      <th>tmcat02</th>\n",
              "      <th>tmcat03</th>\n",
              "      <th>tmcat04</th>\n",
              "      <th>tmcat05</th>\n",
              "      <th>tmcat06</th>\n",
              "      <th>tmcat07</th>\n",
              "      <th>rendimiento_efectivo</th>\n",
              "    </tr>\n",
              "  </thead>\n",
              "  <tbody>\n",
              "    <tr>\n",
              "      <th>7543</th>\n",
              "      <td>2020-01-30</td>\n",
              "      <td>36582</td>\n",
              "      <td>1</td>\n",
              "      <td>BUZON</td>\n",
              "      <td>43200</td>\n",
              "      <td>3698</td>\n",
              "      <td>16</td>\n",
              "      <td>2092</td>\n",
              "      <td>0</td>\n",
              "      <td>0</td>\n",
              "      <td>41108</td>\n",
              "      <td>0</td>\n",
              "      <td>0</td>\n",
              "      <td>0</td>\n",
              "      <td>6363</td>\n",
              "    </tr>\n",
              "  </tbody>\n",
              "</table>\n",
              "</div>"
            ],
            "text/plain": [
              "      shiftdate  shiftindex shift#  ... tmcat06  tmcat07  rendimiento_efectivo\n",
              "7543 2020-01-30       36582      1  ...       0        0                  6363\n",
              "\n",
              "[1 rows x 15 columns]"
            ]
          },
          "metadata": {
            "tags": []
          },
          "execution_count": 397
        }
      ]
    },
    {
      "cell_type": "markdown",
      "metadata": {
        "id": "0ncIj1M4BZLg"
      },
      "source": [
        "Eliminamos las Palas con toneladas y timepo efectivos iguales a 0"
      ]
    },
    {
      "cell_type": "code",
      "metadata": {
        "id": "nR4GHxxjxUGu"
      },
      "source": [
        "palas = palas[(palas.totaltons != 0) & (palas.tmcat01 != 0)]"
      ],
      "execution_count": 398,
      "outputs": []
    },
    {
      "cell_type": "code",
      "metadata": {
        "id": "aoF2D5LfAk4E"
      },
      "source": [
        "palas.drop(['totaltons','tmcat01'],axis=1,inplace=True)"
      ],
      "execution_count": 399,
      "outputs": []
    },
    {
      "cell_type": "markdown",
      "metadata": {
        "id": "rFRfynO9BfhJ"
      },
      "source": [
        "La fecha la convertimos en un valor númerico"
      ]
    },
    {
      "cell_type": "code",
      "metadata": {
        "id": "6l4Smvi-yiXB"
      },
      "source": [
        "import datetime as dt"
      ],
      "execution_count": 400,
      "outputs": []
    },
    {
      "cell_type": "code",
      "metadata": {
        "id": "y5Vqb6ZXxPmC"
      },
      "source": [
        "palas['shiftdate'] = pd.to_datetime(palas['shiftdate'])\n",
        "palas['shiftdate'] = palas['shiftdate'].map(dt.datetime.toordinal)"
      ],
      "execution_count": 401,
      "outputs": []
    },
    {
      "cell_type": "markdown",
      "metadata": {
        "id": "aWnSm-E-CQA3"
      },
      "source": [
        "(?) Que fechas nos quedamos"
      ]
    },
    {
      "cell_type": "code",
      "metadata": {
        "id": "cZnkJHMbCUjA"
      },
      "source": [
        "palas.drop('shiftindex',axis=1,inplace=True)\n",
        "#palas.drop('shiftdate',axis=1,inplace=True)"
      ],
      "execution_count": 402,
      "outputs": []
    },
    {
      "cell_type": "code",
      "metadata": {
        "id": "WW0J1lyeCBBH",
        "outputId": "3a71921f-c816-49a7-9713-12f95f1c4838",
        "colab": {
          "base_uri": "https://localhost:8080/"
        }
      },
      "source": [
        "palas.info()"
      ],
      "execution_count": 403,
      "outputs": [
        {
          "output_type": "stream",
          "text": [
            "<class 'pandas.core.frame.DataFrame'>\n",
            "Int64Index: 3813 entries, 23 to 13629\n",
            "Data columns (total 12 columns):\n",
            " #   Column                Non-Null Count  Dtype \n",
            "---  ------                --------------  ----- \n",
            " 0   shiftdate             3813 non-null   int64 \n",
            " 1   shift#                3813 non-null   object\n",
            " 2   eqmtid                3813 non-null   object\n",
            " 3   totaltime             3813 non-null   int64 \n",
            " 4   loadcnt               3813 non-null   int64 \n",
            " 5   tmcat02               3813 non-null   int64 \n",
            " 6   tmcat03               3813 non-null   int64 \n",
            " 7   tmcat04               3813 non-null   int64 \n",
            " 8   tmcat05               3813 non-null   int64 \n",
            " 9   tmcat06               3813 non-null   int64 \n",
            " 10  tmcat07               3813 non-null   int64 \n",
            " 11  rendimiento_efectivo  3813 non-null   int64 \n",
            "dtypes: int64(10), object(2)\n",
            "memory usage: 387.3+ KB\n"
          ],
          "name": "stdout"
        }
      ]
    },
    {
      "cell_type": "code",
      "metadata": {
        "id": "5GcMgwMzADoB",
        "outputId": "5e274058-7649-400c-bca2-b2ad93d778da",
        "colab": {
          "base_uri": "https://localhost:8080/",
          "height": 317
        }
      },
      "source": [
        "palas.describe()"
      ],
      "execution_count": 404,
      "outputs": [
        {
          "output_type": "execute_result",
          "data": {
            "text/html": [
              "<div>\n",
              "<style scoped>\n",
              "    .dataframe tbody tr th:only-of-type {\n",
              "        vertical-align: middle;\n",
              "    }\n",
              "\n",
              "    .dataframe tbody tr th {\n",
              "        vertical-align: top;\n",
              "    }\n",
              "\n",
              "    .dataframe thead th {\n",
              "        text-align: right;\n",
              "    }\n",
              "</style>\n",
              "<table border=\"1\" class=\"dataframe\">\n",
              "  <thead>\n",
              "    <tr style=\"text-align: right;\">\n",
              "      <th></th>\n",
              "      <th>shiftdate</th>\n",
              "      <th>totaltime</th>\n",
              "      <th>loadcnt</th>\n",
              "      <th>tmcat02</th>\n",
              "      <th>tmcat03</th>\n",
              "      <th>tmcat04</th>\n",
              "      <th>tmcat05</th>\n",
              "      <th>tmcat06</th>\n",
              "      <th>tmcat07</th>\n",
              "      <th>rendimiento_efectivo</th>\n",
              "    </tr>\n",
              "  </thead>\n",
              "  <tbody>\n",
              "    <tr>\n",
              "      <th>count</th>\n",
              "      <td>3813.000000</td>\n",
              "      <td>3813.000000</td>\n",
              "      <td>3813.000000</td>\n",
              "      <td>3813.000000</td>\n",
              "      <td>3813.000000</td>\n",
              "      <td>3813.000000</td>\n",
              "      <td>3813.000000</td>\n",
              "      <td>3813.000000</td>\n",
              "      <td>3813.000000</td>\n",
              "      <td>3813.000000</td>\n",
              "    </tr>\n",
              "    <tr>\n",
              "      <th>mean</th>\n",
              "      <td>737448.414110</td>\n",
              "      <td>43188.603462</td>\n",
              "      <td>70.800682</td>\n",
              "      <td>2.518227</td>\n",
              "      <td>2676.798846</td>\n",
              "      <td>5107.036716</td>\n",
              "      <td>5404.872017</td>\n",
              "      <td>2742.080252</td>\n",
              "      <td>1063.902439</td>\n",
              "      <td>2203.554944</td>\n",
              "    </tr>\n",
              "    <tr>\n",
              "      <th>std</th>\n",
              "      <td>132.275731</td>\n",
              "      <td>314.552668</td>\n",
              "      <td>43.253591</td>\n",
              "      <td>141.701029</td>\n",
              "      <td>2472.710902</td>\n",
              "      <td>9136.297903</td>\n",
              "      <td>9343.814180</td>\n",
              "      <td>3029.902928</td>\n",
              "      <td>4922.236927</td>\n",
              "      <td>925.870004</td>\n",
              "    </tr>\n",
              "    <tr>\n",
              "      <th>min</th>\n",
              "      <td>737241.000000</td>\n",
              "      <td>34509.000000</td>\n",
              "      <td>1.000000</td>\n",
              "      <td>0.000000</td>\n",
              "      <td>0.000000</td>\n",
              "      <td>0.000000</td>\n",
              "      <td>0.000000</td>\n",
              "      <td>0.000000</td>\n",
              "      <td>0.000000</td>\n",
              "      <td>24.000000</td>\n",
              "    </tr>\n",
              "    <tr>\n",
              "      <th>25%</th>\n",
              "      <td>737330.000000</td>\n",
              "      <td>43200.000000</td>\n",
              "      <td>35.000000</td>\n",
              "      <td>0.000000</td>\n",
              "      <td>977.000000</td>\n",
              "      <td>0.000000</td>\n",
              "      <td>0.000000</td>\n",
              "      <td>0.000000</td>\n",
              "      <td>0.000000</td>\n",
              "      <td>1597.000000</td>\n",
              "    </tr>\n",
              "    <tr>\n",
              "      <th>50%</th>\n",
              "      <td>737442.000000</td>\n",
              "      <td>43200.000000</td>\n",
              "      <td>69.000000</td>\n",
              "      <td>0.000000</td>\n",
              "      <td>2159.000000</td>\n",
              "      <td>0.000000</td>\n",
              "      <td>0.000000</td>\n",
              "      <td>3571.000000</td>\n",
              "      <td>0.000000</td>\n",
              "      <td>2113.000000</td>\n",
              "    </tr>\n",
              "    <tr>\n",
              "      <th>75%</th>\n",
              "      <td>737569.000000</td>\n",
              "      <td>43200.000000</td>\n",
              "      <td>99.000000</td>\n",
              "      <td>0.000000</td>\n",
              "      <td>3635.000000</td>\n",
              "      <td>6088.000000</td>\n",
              "      <td>7338.000000</td>\n",
              "      <td>3593.000000</td>\n",
              "      <td>0.000000</td>\n",
              "      <td>2901.000000</td>\n",
              "    </tr>\n",
              "    <tr>\n",
              "      <th>max</th>\n",
              "      <td>737676.000000</td>\n",
              "      <td>43200.000000</td>\n",
              "      <td>232.000000</td>\n",
              "      <td>8704.000000</td>\n",
              "      <td>27313.000000</td>\n",
              "      <td>41994.000000</td>\n",
              "      <td>42483.000000</td>\n",
              "      <td>34999.000000</td>\n",
              "      <td>41243.000000</td>\n",
              "      <td>6363.000000</td>\n",
              "    </tr>\n",
              "  </tbody>\n",
              "</table>\n",
              "</div>"
            ],
            "text/plain": [
              "           shiftdate     totaltime  ...       tmcat07  rendimiento_efectivo\n",
              "count    3813.000000   3813.000000  ...   3813.000000           3813.000000\n",
              "mean   737448.414110  43188.603462  ...   1063.902439           2203.554944\n",
              "std       132.275731    314.552668  ...   4922.236927            925.870004\n",
              "min    737241.000000  34509.000000  ...      0.000000             24.000000\n",
              "25%    737330.000000  43200.000000  ...      0.000000           1597.000000\n",
              "50%    737442.000000  43200.000000  ...      0.000000           2113.000000\n",
              "75%    737569.000000  43200.000000  ...      0.000000           2901.000000\n",
              "max    737676.000000  43200.000000  ...  41243.000000           6363.000000\n",
              "\n",
              "[8 rows x 10 columns]"
            ]
          },
          "metadata": {
            "tags": []
          },
          "execution_count": 404
        }
      ]
    },
    {
      "cell_type": "markdown",
      "metadata": {
        "id": "EAiR50IwyHqH"
      },
      "source": [
        "#Funciones"
      ]
    },
    {
      "cell_type": "code",
      "metadata": {
        "id": "8r9DOH0q-39m"
      },
      "source": [
        "def plot_matriz(y_test,y_pred):\n",
        "  cf_matrix = confusion_matrix(y_test,y_pred)\n",
        "\n",
        "  group_names = ['True Neg','False Pos','False Neg','True Pos']\n",
        "\n",
        "  group_counts = [\"{0:0.0f}\".format(value) for value in\n",
        "                  cf_matrix.flatten()]\n",
        "\n",
        "  group_percentages = [\"{0:.2%}\".format(value) for value in\n",
        "                      cf_matrix.flatten()/np.sum(cf_matrix)]\n",
        "\n",
        "  labels = [f'{v1}\\n{v2}\\n{v3}' for v1, v2, v3 in\n",
        "            zip(group_names,group_counts,group_percentages)]\n",
        "\n",
        "  labels = np.asarray(labels).reshape(2,2)\n",
        "\n",
        "  class_names = [0,1]\n",
        "  # settings plot\n",
        "  fig, ax = plt.subplots()\n",
        "  tick_marks = np.arange(len(class_names))\n",
        "  plt.xticks(tick_marks, class_names)\n",
        "  plt.yticks(tick_marks, class_names)\n",
        "  ax.xaxis.set_label_position(\"top\")\n",
        "  plt.tight_layout()\n",
        "  plt.title('Matriz de Confusión', y=1.1)\n",
        "  # plot\n",
        "  sns.heatmap(cf_matrix, annot=labels, fmt='', cmap='binary')\n",
        "  print(\"Accuracy:\",metrics.accuracy_score(y_test, y_pred))\n",
        "  print(\"Precision:\",metrics.precision_score(y_test, y_pred))\n",
        "  print(\"Recall:\",metrics.recall_score(y_test, y_pred))"
      ],
      "execution_count": 405,
      "outputs": []
    },
    {
      "cell_type": "code",
      "metadata": {
        "id": "vbLZW2N-DGA3"
      },
      "source": [
        "def tree_to_png(dtree,df,name):\n",
        "  dot_data = StringIO()\n",
        "  export_graphviz(dtree,\n",
        "                  feature_names=df.drop('rend_ef_bin',axis=1).columns,\n",
        "                  class_names=['Malo','Bueno'],\n",
        "                  filled = True,\n",
        "                  out_file=dot_data)\n",
        "  graph = pydotplus.graph_from_dot_data(dot_data.getvalue())\n",
        "  graph.write_png(name)\n",
        "  Image(graph.create_png())"
      ],
      "execution_count": 406,
      "outputs": []
    },
    {
      "cell_type": "code",
      "metadata": {
        "id": "DStgTWjmiIv_"
      },
      "source": [
        "from sklearn.tree._tree import TREE_LEAF"
      ],
      "execution_count": 407,
      "outputs": []
    },
    {
      "cell_type": "code",
      "metadata": {
        "id": "_KzSk64rXCJl"
      },
      "source": [
        "def podar(inner_tree, index, threshold):\n",
        "    if inner_tree.value[index].min() < threshold:\n",
        "        # turn node into a leaf by \"unlinking\" its children\n",
        "        inner_tree.children_left[index] = TREE_LEAF\n",
        "        inner_tree.children_right[index] = TREE_LEAF\n",
        "    # if there are shildren, visit them as well\n",
        "    if inner_tree.children_left[index] != TREE_LEAF:\n",
        "        podar(inner_tree, inner_tree.children_left[index], threshold)\n",
        "        podar(inner_tree, inner_tree.children_right[index], threshold)"
      ],
      "execution_count": 408,
      "outputs": []
    },
    {
      "cell_type": "markdown",
      "metadata": {
        "id": "nBtXyUDsweN7"
      },
      "source": [
        "#Regresión lineal"
      ]
    },
    {
      "cell_type": "code",
      "metadata": {
        "id": "FcT_kHA32Slh"
      },
      "source": [
        "from sklearn.model_selection import train_test_split"
      ],
      "execution_count": 409,
      "outputs": []
    },
    {
      "cell_type": "code",
      "metadata": {
        "id": "u-sBkswoBCGS",
        "outputId": "c0f80815-d67d-4592-a219-d2d2efffd304",
        "colab": {
          "base_uri": "https://localhost:8080/"
        }
      },
      "source": [
        "palas.columns"
      ],
      "execution_count": 410,
      "outputs": [
        {
          "output_type": "execute_result",
          "data": {
            "text/plain": [
              "Index(['shiftdate', 'shift#', 'eqmtid', 'totaltime', 'loadcnt', 'tmcat02',\n",
              "       'tmcat03', 'tmcat04', 'tmcat05', 'tmcat06', 'tmcat07',\n",
              "       'rendimiento_efectivo'],\n",
              "      dtype='object')"
            ]
          },
          "metadata": {
            "tags": []
          },
          "execution_count": 410
        }
      ]
    },
    {
      "cell_type": "code",
      "metadata": {
        "id": "3YnLn6bLu5IH"
      },
      "source": [
        "target = \"rendimiento_efectivo\"\n",
        "list_drop = [target,'shiftdate','shift#','eqmtid']\n",
        "X = palas.drop(list_drop,axis=1)\n",
        "y = palas[target]"
      ],
      "execution_count": 411,
      "outputs": []
    },
    {
      "cell_type": "code",
      "metadata": {
        "id": "GTiqpmCsw0jC"
      },
      "source": [
        "X_train, X_test, y_train, y_test = train_test_split(X, y, test_size=0.4, random_state=42)"
      ],
      "execution_count": 412,
      "outputs": []
    },
    {
      "cell_type": "code",
      "metadata": {
        "id": "KffL9zIJxbts"
      },
      "source": [
        "from sklearn.preprocessing import MinMaxScaler"
      ],
      "execution_count": 413,
      "outputs": []
    },
    {
      "cell_type": "code",
      "metadata": {
        "id": "ImzNg-3HxRbh"
      },
      "source": [
        "scaler = MinMaxScaler()\n",
        "X_train = scaler.fit_transform(X_train)\n",
        "X_test = scaler.transform(X_test)"
      ],
      "execution_count": 414,
      "outputs": []
    },
    {
      "cell_type": "code",
      "metadata": {
        "id": "wxmKs-y7115d"
      },
      "source": [
        "from sklearn import linear_model"
      ],
      "execution_count": 415,
      "outputs": []
    },
    {
      "cell_type": "code",
      "metadata": {
        "id": "-8eLeLL3w9_t",
        "outputId": "842c1b3a-9156-4675-bcce-e3a6eb55ac39",
        "colab": {
          "base_uri": "https://localhost:8080/"
        }
      },
      "source": [
        "modelo = linear_model.LinearRegression()\n",
        "modelo.fit(X_train,y_train)"
      ],
      "execution_count": 416,
      "outputs": [
        {
          "output_type": "execute_result",
          "data": {
            "text/plain": [
              "LinearRegression(copy_X=True, fit_intercept=True, n_jobs=None, normalize=False)"
            ]
          },
          "metadata": {
            "tags": []
          },
          "execution_count": 416
        }
      ]
    },
    {
      "cell_type": "code",
      "metadata": {
        "id": "UA1dnYkXxAHo",
        "outputId": "adfd70e9-ebb5-4191-e90d-38b9abf332a2",
        "colab": {
          "base_uri": "https://localhost:8080/",
          "height": 297
        }
      },
      "source": [
        "y_pred = modelo.predict(X_test)\n",
        "pd.DataFrame(modelo.coef_,X.columns,columns=['Coefficient'])"
      ],
      "execution_count": 417,
      "outputs": [
        {
          "output_type": "execute_result",
          "data": {
            "text/html": [
              "<div>\n",
              "<style scoped>\n",
              "    .dataframe tbody tr th:only-of-type {\n",
              "        vertical-align: middle;\n",
              "    }\n",
              "\n",
              "    .dataframe tbody tr th {\n",
              "        vertical-align: top;\n",
              "    }\n",
              "\n",
              "    .dataframe thead th {\n",
              "        text-align: right;\n",
              "    }\n",
              "</style>\n",
              "<table border=\"1\" class=\"dataframe\">\n",
              "  <thead>\n",
              "    <tr style=\"text-align: right;\">\n",
              "      <th></th>\n",
              "      <th>Coefficient</th>\n",
              "    </tr>\n",
              "  </thead>\n",
              "  <tbody>\n",
              "    <tr>\n",
              "      <th>totaltime</th>\n",
              "      <td>-151.558408</td>\n",
              "    </tr>\n",
              "    <tr>\n",
              "      <th>loadcnt</th>\n",
              "      <td>5939.746735</td>\n",
              "    </tr>\n",
              "    <tr>\n",
              "      <th>tmcat02</th>\n",
              "      <td>652.938584</td>\n",
              "    </tr>\n",
              "    <tr>\n",
              "      <th>tmcat03</th>\n",
              "      <td>1694.005906</td>\n",
              "    </tr>\n",
              "    <tr>\n",
              "      <th>tmcat04</th>\n",
              "      <td>2145.353566</td>\n",
              "    </tr>\n",
              "    <tr>\n",
              "      <th>tmcat05</th>\n",
              "      <td>3045.835409</td>\n",
              "    </tr>\n",
              "    <tr>\n",
              "      <th>tmcat06</th>\n",
              "      <td>1954.593798</td>\n",
              "    </tr>\n",
              "    <tr>\n",
              "      <th>tmcat07</th>\n",
              "      <td>2903.897824</td>\n",
              "    </tr>\n",
              "  </tbody>\n",
              "</table>\n",
              "</div>"
            ],
            "text/plain": [
              "           Coefficient\n",
              "totaltime  -151.558408\n",
              "loadcnt    5939.746735\n",
              "tmcat02     652.938584\n",
              "tmcat03    1694.005906\n",
              "tmcat04    2145.353566\n",
              "tmcat05    3045.835409\n",
              "tmcat06    1954.593798\n",
              "tmcat07    2903.897824"
            ]
          },
          "metadata": {
            "tags": []
          },
          "execution_count": 417
        }
      ]
    },
    {
      "cell_type": "code",
      "metadata": {
        "id": "4Nks3HtxxByc",
        "outputId": "bc39031b-400e-4a39-c4c6-2d5c039f13a3",
        "colab": {
          "base_uri": "https://localhost:8080/",
          "height": 410
        }
      },
      "source": [
        "import matplotlib.pyplot as plt\n",
        "import seaborn as sns; sns.set()\n",
        "plt.figure(figsize=(10,5))\n",
        "sns.scatterplot(y_test,y_pred,color='blue',alpha=0.5)"
      ],
      "execution_count": 418,
      "outputs": [
        {
          "output_type": "stream",
          "text": [
            "/usr/local/lib/python3.6/dist-packages/seaborn/_decorators.py:43: FutureWarning: Pass the following variables as keyword args: x, y. From version 0.12, the only valid positional argument will be `data`, and passing other arguments without an explicit keyword will result in an error or misinterpretation.\n",
            "  FutureWarning\n"
          ],
          "name": "stderr"
        },
        {
          "output_type": "execute_result",
          "data": {
            "text/plain": [
              "<matplotlib.axes._subplots.AxesSubplot at 0x7fcacf65b4e0>"
            ]
          },
          "metadata": {
            "tags": []
          },
          "execution_count": 418
        },
        {
          "output_type": "display_data",
          "data": {
            "image/png": "[encoded data removed]",
            "text/plain": [
              "<Figure size 720x360 with 1 Axes>"
            ]
          },
          "metadata": {
            "tags": []
          }
        }
      ]
    },
    {
      "cell_type": "code",
      "metadata": {
        "id": "zkU5XHM9xHTc",
        "outputId": "48723b75-77a4-46a4-d701-8eb658063c55",
        "colab": {
          "base_uri": "https://localhost:8080/",
          "height": 356
        }
      },
      "source": [
        "sns.distplot((y_test-y_pred),bins=50)"
      ],
      "execution_count": 419,
      "outputs": [
        {
          "output_type": "stream",
          "text": [
            "/usr/local/lib/python3.6/dist-packages/seaborn/distributions.py:2551: FutureWarning: `distplot` is a deprecated function and will be removed in a future version. Please adapt your code to use either `displot` (a figure-level function with similar flexibility) or `histplot` (an axes-level function for histograms).\n",
            "  warnings.warn(msg, FutureWarning)\n"
          ],
          "name": "stderr"
        },
        {
          "output_type": "execute_result",
          "data": {
            "text/plain": [
              "<matplotlib.axes._subplots.AxesSubplot at 0x7fcaa9395eb8>"
            ]
          },
          "metadata": {
            "tags": []
          },
          "execution_count": 419
        },
        {
          "output_type": "display_data",
          "data": {
            "image/png": "[encoded data removed]",
            "text/plain": [
              "<Figure size 432x288 with 1 Axes>"
            ]
          },
          "metadata": {
            "tags": []
          }
        }
      ]
    },
    {
      "cell_type": "code",
      "metadata": {
        "id": "UL_E8ALOxK1A",
        "outputId": "d4248fa4-2f5c-423c-9309-a89ade2d6f6b",
        "colab": {
          "base_uri": "https://localhost:8080/",
          "height": 285
        }
      },
      "source": [
        "plt.scatter(y_pred,y_test-y_pred,c='blue',alpha=0.5)"
      ],
      "execution_count": 420,
      "outputs": [
        {
          "output_type": "execute_result",
          "data": {
            "text/plain": [
              "<matplotlib.collections.PathCollection at 0x7fcaa9276358>"
            ]
          },
          "metadata": {
            "tags": []
          },
          "execution_count": 420
        },
        {
          "output_type": "display_data",
          "data": {
            "image/png": "[encoded data removed]",
            "text/plain": [
              "<Figure size 432x288 with 1 Axes>"
            ]
          },
          "metadata": {
            "tags": []
          }
        }
      ]
    },
    {
      "cell_type": "code",
      "metadata": {
        "id": "tup8ds_XxMi9",
        "outputId": "ccf6fae0-9e83-4002-cce6-200e1f3e2c99",
        "colab": {
          "base_uri": "https://localhost:8080/"
        }
      },
      "source": [
        "from sklearn import metrics\n",
        "metrics.r2_score(y_test,y_pred)"
      ],
      "execution_count": 421,
      "outputs": [
        {
          "output_type": "execute_result",
          "data": {
            "text/plain": [
              "0.8750277244548533"
            ]
          },
          "metadata": {
            "tags": []
          },
          "execution_count": 421
        }
      ]
    },
    {
      "cell_type": "code",
      "metadata": {
        "id": "WuSg5B4AxOGs",
        "outputId": "078a3b87-0d6a-49ee-9e4b-a849ba75b06f",
        "colab": {
          "base_uri": "https://localhost:8080/"
        }
      },
      "source": [
        "print(f'Error Cuadrático Medio: {metrics.mean_squared_error(y_test,y_pred)}')"
      ],
      "execution_count": 422,
      "outputs": [
        {
          "output_type": "stream",
          "text": [
            "Error Cuadrático Medio: 110188.01995955175\n"
          ],
          "name": "stdout"
        }
      ]
    },
    {
      "cell_type": "code",
      "metadata": {
        "id": "j-E2K7f6IVIS"
      },
      "source": [
        "import numpy as np"
      ],
      "execution_count": 423,
      "outputs": []
    },
    {
      "cell_type": "code",
      "metadata": {
        "id": "bXDNB5P-IzAd",
        "outputId": "d5c91a8f-055f-43bc-acbc-d51292bcb632",
        "colab": {
          "base_uri": "https://localhost:8080/"
        }
      },
      "source": [
        "pd.DataFrame(y_pred).index"
      ],
      "execution_count": 424,
      "outputs": [
        {
          "output_type": "execute_result",
          "data": {
            "text/plain": [
              "RangeIndex(start=0, stop=1526, step=1)"
            ]
          },
          "metadata": {
            "tags": []
          },
          "execution_count": 424
        }
      ]
    },
    {
      "cell_type": "code",
      "metadata": {
        "id": "olJ_CJDJDXlD",
        "outputId": "0069828e-9787-475f-fdab-937efd1cc153",
        "colab": {
          "base_uri": "https://localhost:8080/",
          "height": 339
        }
      },
      "source": [
        "test_index = [i for i in range(len(y_test))]\n",
        "pred_index = [i for i in range(len(y_pred))]\n",
        "\n",
        "plt.figure(figsize=(10,5))\n",
        "plt.scatter(test_index[:100],y_test[:100],color='red',s=2)\n",
        "plt.scatter(pred_index[:100],y_pred[:100],color='blue',s=2)\n",
        "\n",
        "plt.xlabel(\"Frecuencia\")\n",
        "plt.ylabel(\"Rendmiento\")\n",
        "plt.show()"
      ],
      "execution_count": 425,
      "outputs": [
        {
          "output_type": "display_data",
          "data": {
            "image/png": "[encoded data removed]",
            "text/plain": [
              "<Figure size 720x360 with 1 Axes>"
            ]
          },
          "metadata": {
            "tags": []
          }
        }
      ]
    },
    {
      "cell_type": "markdown",
      "metadata": {
        "id": "JIhoynFqxeVK"
      },
      "source": [
        "#Regresión logística"
      ]
    },
    {
      "cell_type": "code",
      "metadata": {
        "id": "eGtCl7_i0-Er",
        "outputId": "176ceea2-a5c0-4a80-f78f-2184f06019e6",
        "colab": {
          "base_uri": "https://localhost:8080/"
        }
      },
      "source": [
        "palas['rendimiento_efectivo'].describe()"
      ],
      "execution_count": 426,
      "outputs": [
        {
          "output_type": "execute_result",
          "data": {
            "text/plain": [
              "count    3813.000000\n",
              "mean     2203.554944\n",
              "std       925.870004\n",
              "min        24.000000\n",
              "25%      1597.000000\n",
              "50%      2113.000000\n",
              "75%      2901.000000\n",
              "max      6363.000000\n",
              "Name: rendimiento_efectivo, dtype: float64"
            ]
          },
          "metadata": {
            "tags": []
          },
          "execution_count": 426
        }
      ]
    },
    {
      "cell_type": "markdown",
      "metadata": {
        "id": "aTPEozDy2exo"
      },
      "source": [
        "Diferenciamos Bueno o Malo segun el promedio de rendimiento"
      ]
    },
    {
      "cell_type": "code",
      "metadata": {
        "id": "AIlFIVsX0GXC"
      },
      "source": [
        "def check(valor):\n",
        "  #if valor >= 0.615921: tons / seg\n",
        "  if valor >= 2204.054749: # tons / hora\n",
        "    return 1\n",
        "  else:\n",
        "    return 0"
      ],
      "execution_count": 427,
      "outputs": []
    },
    {
      "cell_type": "markdown",
      "metadata": {
        "id": "zS2Nr-CG39zj"
      },
      "source": [
        "Columna binaria"
      ]
    },
    {
      "cell_type": "code",
      "metadata": {
        "id": "sugPPt0o0Pfw"
      },
      "source": [
        "palas['rend_ef_bin'] = palas.apply(lambda row : check(row.rendimiento_efectivo),axis=1)"
      ],
      "execution_count": 428,
      "outputs": []
    },
    {
      "cell_type": "code",
      "metadata": {
        "id": "v1f5Do0A0yTX",
        "outputId": "88743299-0a2a-455f-b2e4-c81e50a718c6",
        "colab": {
          "base_uri": "https://localhost:8080/",
          "height": 162
        }
      },
      "source": [
        "pd.DataFrame(palas.groupby(['rend_ef_bin']).count())"
      ],
      "execution_count": 429,
      "outputs": [
        {
          "output_type": "execute_result",
          "data": {
            "text/html": [
              "<div>\n",
              "<style scoped>\n",
              "    .dataframe tbody tr th:only-of-type {\n",
              "        vertical-align: middle;\n",
              "    }\n",
              "\n",
              "    .dataframe tbody tr th {\n",
              "        vertical-align: top;\n",
              "    }\n",
              "\n",
              "    .dataframe thead th {\n",
              "        text-align: right;\n",
              "    }\n",
              "</style>\n",
              "<table border=\"1\" class=\"dataframe\">\n",
              "  <thead>\n",
              "    <tr style=\"text-align: right;\">\n",
              "      <th></th>\n",
              "      <th>shiftdate</th>\n",
              "      <th>shift#</th>\n",
              "      <th>eqmtid</th>\n",
              "      <th>totaltime</th>\n",
              "      <th>loadcnt</th>\n",
              "      <th>tmcat02</th>\n",
              "      <th>tmcat03</th>\n",
              "      <th>tmcat04</th>\n",
              "      <th>tmcat05</th>\n",
              "      <th>tmcat06</th>\n",
              "      <th>tmcat07</th>\n",
              "      <th>rendimiento_efectivo</th>\n",
              "    </tr>\n",
              "    <tr>\n",
              "      <th>rend_ef_bin</th>\n",
              "      <th></th>\n",
              "      <th></th>\n",
              "      <th></th>\n",
              "      <th></th>\n",
              "      <th></th>\n",
              "      <th></th>\n",
              "      <th></th>\n",
              "      <th></th>\n",
              "      <th></th>\n",
              "      <th></th>\n",
              "      <th></th>\n",
              "      <th></th>\n",
              "    </tr>\n",
              "  </thead>\n",
              "  <tbody>\n",
              "    <tr>\n",
              "      <th>0</th>\n",
              "      <td>2041</td>\n",
              "      <td>2041</td>\n",
              "      <td>2041</td>\n",
              "      <td>2041</td>\n",
              "      <td>2041</td>\n",
              "      <td>2041</td>\n",
              "      <td>2041</td>\n",
              "      <td>2041</td>\n",
              "      <td>2041</td>\n",
              "      <td>2041</td>\n",
              "      <td>2041</td>\n",
              "      <td>2041</td>\n",
              "    </tr>\n",
              "    <tr>\n",
              "      <th>1</th>\n",
              "      <td>1772</td>\n",
              "      <td>1772</td>\n",
              "      <td>1772</td>\n",
              "      <td>1772</td>\n",
              "      <td>1772</td>\n",
              "      <td>1772</td>\n",
              "      <td>1772</td>\n",
              "      <td>1772</td>\n",
              "      <td>1772</td>\n",
              "      <td>1772</td>\n",
              "      <td>1772</td>\n",
              "      <td>1772</td>\n",
              "    </tr>\n",
              "  </tbody>\n",
              "</table>\n",
              "</div>"
            ],
            "text/plain": [
              "             shiftdate  shift#  eqmtid  ...  tmcat06  tmcat07  rendimiento_efectivo\n",
              "rend_ef_bin                             ...                                        \n",
              "0                 2041    2041    2041  ...     2041     2041                  2041\n",
              "1                 1772    1772    1772  ...     1772     1772                  1772\n",
              "\n",
              "[2 rows x 12 columns]"
            ]
          },
          "metadata": {
            "tags": []
          },
          "execution_count": 429
        }
      ]
    },
    {
      "cell_type": "markdown",
      "metadata": {
        "id": "BCMcHUoDK7ff"
      },
      "source": [
        "Dummy's"
      ]
    },
    {
      "cell_type": "code",
      "metadata": {
        "id": "cRj6ZDGUxseL"
      },
      "source": [
        "turno = pd.get_dummies(palas['shift#'])"
      ],
      "execution_count": 430,
      "outputs": []
    },
    {
      "cell_type": "code",
      "metadata": {
        "id": "LFrWB4bAy5Ak"
      },
      "source": [
        "eqmtid = pd.get_dummies(palas['eqmtid'])"
      ],
      "execution_count": 431,
      "outputs": []
    },
    {
      "cell_type": "code",
      "metadata": {
        "id": "GLXrL_4oyc09"
      },
      "source": [
        "train = pd.concat([palas.drop(['shift#','eqmtid','rendimiento_efectivo'],axis=1),turno,eqmtid],axis=1)"
      ],
      "execution_count": 432,
      "outputs": []
    },
    {
      "cell_type": "code",
      "metadata": {
        "id": "bSt7TPLayuql",
        "outputId": "6118a6fb-151f-4ba8-b4f5-6446869dc84c",
        "colab": {
          "base_uri": "https://localhost:8080/"
        }
      },
      "source": [
        "train.info()"
      ],
      "execution_count": 433,
      "outputs": [
        {
          "output_type": "stream",
          "text": [
            "<class 'pandas.core.frame.DataFrame'>\n",
            "Int64Index: 3813 entries, 23 to 13629\n",
            "Data columns (total 23 columns):\n",
            " #   Column       Non-Null Count  Dtype\n",
            "---  ------       --------------  -----\n",
            " 0   shiftdate    3813 non-null   int64\n",
            " 1   totaltime    3813 non-null   int64\n",
            " 2   loadcnt      3813 non-null   int64\n",
            " 3   tmcat02      3813 non-null   int64\n",
            " 4   tmcat03      3813 non-null   int64\n",
            " 5   tmcat04      3813 non-null   int64\n",
            " 6   tmcat05      3813 non-null   int64\n",
            " 7   tmcat06      3813 non-null   int64\n",
            " 8   tmcat07      3813 non-null   int64\n",
            " 9   rend_ef_bin  3813 non-null   int64\n",
            " 10  1            3813 non-null   uint8\n",
            " 11  2            3813 non-null   uint8\n",
            " 12  026          3813 non-null   uint8\n",
            " 13  029          3813 non-null   uint8\n",
            " 14  030          3813 non-null   uint8\n",
            " 15  210          3813 non-null   uint8\n",
            " 16  211          3813 non-null   uint8\n",
            " 17  212          3813 non-null   uint8\n",
            " 18  213          3813 non-null   uint8\n",
            " 19  305          3813 non-null   uint8\n",
            " 20  306          3813 non-null   uint8\n",
            " 21  307          3813 non-null   uint8\n",
            " 22  BUZON        3813 non-null   uint8\n",
            "dtypes: int64(10), uint8(13)\n",
            "memory usage: 376.1 KB\n"
          ],
          "name": "stdout"
        }
      ]
    },
    {
      "cell_type": "code",
      "metadata": {
        "id": "DATt89VT3Gb_",
        "outputId": "fb4f47b1-8414-4999-eeba-e605b3a8caf9",
        "colab": {
          "base_uri": "https://localhost:8080/",
          "height": 379
        }
      },
      "source": [
        "train.head(10)"
      ],
      "execution_count": 434,
      "outputs": [
        {
          "output_type": "execute_result",
          "data": {
            "text/html": [
              "<div>\n",
              "<style scoped>\n",
              "    .dataframe tbody tr th:only-of-type {\n",
              "        vertical-align: middle;\n",
              "    }\n",
              "\n",
              "    .dataframe tbody tr th {\n",
              "        vertical-align: top;\n",
              "    }\n",
              "\n",
              "    .dataframe thead th {\n",
              "        text-align: right;\n",
              "    }\n",
              "</style>\n",
              "<table border=\"1\" class=\"dataframe\">\n",
              "  <thead>\n",
              "    <tr style=\"text-align: right;\">\n",
              "      <th></th>\n",
              "      <th>shiftdate</th>\n",
              "      <th>totaltime</th>\n",
              "      <th>loadcnt</th>\n",
              "      <th>tmcat02</th>\n",
              "      <th>tmcat03</th>\n",
              "      <th>tmcat04</th>\n",
              "      <th>tmcat05</th>\n",
              "      <th>tmcat06</th>\n",
              "      <th>tmcat07</th>\n",
              "      <th>rend_ef_bin</th>\n",
              "      <th>1</th>\n",
              "      <th>2</th>\n",
              "      <th>026</th>\n",
              "      <th>029</th>\n",
              "      <th>030</th>\n",
              "      <th>210</th>\n",
              "      <th>211</th>\n",
              "      <th>212</th>\n",
              "      <th>213</th>\n",
              "      <th>305</th>\n",
              "      <th>306</th>\n",
              "      <th>307</th>\n",
              "      <th>BUZON</th>\n",
              "    </tr>\n",
              "  </thead>\n",
              "  <tbody>\n",
              "    <tr>\n",
              "      <th>23</th>\n",
              "      <td>737241</td>\n",
              "      <td>43200</td>\n",
              "      <td>157</td>\n",
              "      <td>0</td>\n",
              "      <td>814</td>\n",
              "      <td>3086</td>\n",
              "      <td>0</td>\n",
              "      <td>4132</td>\n",
              "      <td>0</td>\n",
              "      <td>1</td>\n",
              "      <td>0</td>\n",
              "      <td>1</td>\n",
              "      <td>0</td>\n",
              "      <td>0</td>\n",
              "      <td>0</td>\n",
              "      <td>0</td>\n",
              "      <td>1</td>\n",
              "      <td>0</td>\n",
              "      <td>0</td>\n",
              "      <td>0</td>\n",
              "      <td>0</td>\n",
              "      <td>0</td>\n",
              "      <td>0</td>\n",
              "    </tr>\n",
              "    <tr>\n",
              "      <th>25</th>\n",
              "      <td>737241</td>\n",
              "      <td>43200</td>\n",
              "      <td>12</td>\n",
              "      <td>0</td>\n",
              "      <td>367</td>\n",
              "      <td>3466</td>\n",
              "      <td>33774</td>\n",
              "      <td>0</td>\n",
              "      <td>0</td>\n",
              "      <td>0</td>\n",
              "      <td>0</td>\n",
              "      <td>1</td>\n",
              "      <td>0</td>\n",
              "      <td>0</td>\n",
              "      <td>0</td>\n",
              "      <td>0</td>\n",
              "      <td>0</td>\n",
              "      <td>0</td>\n",
              "      <td>1</td>\n",
              "      <td>0</td>\n",
              "      <td>0</td>\n",
              "      <td>0</td>\n",
              "      <td>0</td>\n",
              "    </tr>\n",
              "    <tr>\n",
              "      <th>27</th>\n",
              "      <td>737241</td>\n",
              "      <td>43200</td>\n",
              "      <td>55</td>\n",
              "      <td>0</td>\n",
              "      <td>3972</td>\n",
              "      <td>4192</td>\n",
              "      <td>0</td>\n",
              "      <td>4161</td>\n",
              "      <td>0</td>\n",
              "      <td>0</td>\n",
              "      <td>0</td>\n",
              "      <td>1</td>\n",
              "      <td>0</td>\n",
              "      <td>0</td>\n",
              "      <td>0</td>\n",
              "      <td>0</td>\n",
              "      <td>0</td>\n",
              "      <td>0</td>\n",
              "      <td>0</td>\n",
              "      <td>1</td>\n",
              "      <td>0</td>\n",
              "      <td>0</td>\n",
              "      <td>0</td>\n",
              "    </tr>\n",
              "    <tr>\n",
              "      <th>28</th>\n",
              "      <td>737241</td>\n",
              "      <td>43200</td>\n",
              "      <td>54</td>\n",
              "      <td>0</td>\n",
              "      <td>10339</td>\n",
              "      <td>0</td>\n",
              "      <td>6049</td>\n",
              "      <td>1816</td>\n",
              "      <td>0</td>\n",
              "      <td>0</td>\n",
              "      <td>0</td>\n",
              "      <td>1</td>\n",
              "      <td>0</td>\n",
              "      <td>0</td>\n",
              "      <td>0</td>\n",
              "      <td>0</td>\n",
              "      <td>0</td>\n",
              "      <td>0</td>\n",
              "      <td>0</td>\n",
              "      <td>0</td>\n",
              "      <td>1</td>\n",
              "      <td>0</td>\n",
              "      <td>0</td>\n",
              "    </tr>\n",
              "    <tr>\n",
              "      <th>29</th>\n",
              "      <td>737241</td>\n",
              "      <td>43200</td>\n",
              "      <td>103</td>\n",
              "      <td>0</td>\n",
              "      <td>6108</td>\n",
              "      <td>0</td>\n",
              "      <td>0</td>\n",
              "      <td>1772</td>\n",
              "      <td>0</td>\n",
              "      <td>1</td>\n",
              "      <td>0</td>\n",
              "      <td>1</td>\n",
              "      <td>0</td>\n",
              "      <td>0</td>\n",
              "      <td>0</td>\n",
              "      <td>0</td>\n",
              "      <td>0</td>\n",
              "      <td>0</td>\n",
              "      <td>0</td>\n",
              "      <td>0</td>\n",
              "      <td>0</td>\n",
              "      <td>1</td>\n",
              "      <td>0</td>\n",
              "    </tr>\n",
              "    <tr>\n",
              "      <th>6</th>\n",
              "      <td>737241</td>\n",
              "      <td>43200</td>\n",
              "      <td>60</td>\n",
              "      <td>0</td>\n",
              "      <td>4935</td>\n",
              "      <td>0</td>\n",
              "      <td>0</td>\n",
              "      <td>1787</td>\n",
              "      <td>0</td>\n",
              "      <td>0</td>\n",
              "      <td>1</td>\n",
              "      <td>0</td>\n",
              "      <td>0</td>\n",
              "      <td>0</td>\n",
              "      <td>0</td>\n",
              "      <td>0</td>\n",
              "      <td>0</td>\n",
              "      <td>1</td>\n",
              "      <td>0</td>\n",
              "      <td>0</td>\n",
              "      <td>0</td>\n",
              "      <td>0</td>\n",
              "      <td>0</td>\n",
              "    </tr>\n",
              "    <tr>\n",
              "      <th>7</th>\n",
              "      <td>737241</td>\n",
              "      <td>43200</td>\n",
              "      <td>161</td>\n",
              "      <td>0</td>\n",
              "      <td>4166</td>\n",
              "      <td>0</td>\n",
              "      <td>0</td>\n",
              "      <td>3556</td>\n",
              "      <td>0</td>\n",
              "      <td>1</td>\n",
              "      <td>1</td>\n",
              "      <td>0</td>\n",
              "      <td>0</td>\n",
              "      <td>0</td>\n",
              "      <td>0</td>\n",
              "      <td>0</td>\n",
              "      <td>0</td>\n",
              "      <td>0</td>\n",
              "      <td>1</td>\n",
              "      <td>0</td>\n",
              "      <td>0</td>\n",
              "      <td>0</td>\n",
              "      <td>0</td>\n",
              "    </tr>\n",
              "    <tr>\n",
              "      <th>5</th>\n",
              "      <td>737241</td>\n",
              "      <td>43200</td>\n",
              "      <td>128</td>\n",
              "      <td>0</td>\n",
              "      <td>3981</td>\n",
              "      <td>0</td>\n",
              "      <td>0</td>\n",
              "      <td>3524</td>\n",
              "      <td>0</td>\n",
              "      <td>1</td>\n",
              "      <td>1</td>\n",
              "      <td>0</td>\n",
              "      <td>0</td>\n",
              "      <td>0</td>\n",
              "      <td>0</td>\n",
              "      <td>0</td>\n",
              "      <td>1</td>\n",
              "      <td>0</td>\n",
              "      <td>0</td>\n",
              "      <td>0</td>\n",
              "      <td>0</td>\n",
              "      <td>0</td>\n",
              "      <td>0</td>\n",
              "    </tr>\n",
              "    <tr>\n",
              "      <th>10</th>\n",
              "      <td>737241</td>\n",
              "      <td>43200</td>\n",
              "      <td>33</td>\n",
              "      <td>0</td>\n",
              "      <td>8632</td>\n",
              "      <td>13462</td>\n",
              "      <td>0</td>\n",
              "      <td>1778</td>\n",
              "      <td>0</td>\n",
              "      <td>0</td>\n",
              "      <td>1</td>\n",
              "      <td>0</td>\n",
              "      <td>0</td>\n",
              "      <td>0</td>\n",
              "      <td>0</td>\n",
              "      <td>0</td>\n",
              "      <td>0</td>\n",
              "      <td>0</td>\n",
              "      <td>0</td>\n",
              "      <td>0</td>\n",
              "      <td>1</td>\n",
              "      <td>0</td>\n",
              "      <td>0</td>\n",
              "    </tr>\n",
              "    <tr>\n",
              "      <th>9</th>\n",
              "      <td>737241</td>\n",
              "      <td>43200</td>\n",
              "      <td>21</td>\n",
              "      <td>0</td>\n",
              "      <td>6173</td>\n",
              "      <td>15863</td>\n",
              "      <td>0</td>\n",
              "      <td>3627</td>\n",
              "      <td>0</td>\n",
              "      <td>0</td>\n",
              "      <td>1</td>\n",
              "      <td>0</td>\n",
              "      <td>0</td>\n",
              "      <td>0</td>\n",
              "      <td>0</td>\n",
              "      <td>0</td>\n",
              "      <td>0</td>\n",
              "      <td>0</td>\n",
              "      <td>0</td>\n",
              "      <td>1</td>\n",
              "      <td>0</td>\n",
              "      <td>0</td>\n",
              "      <td>0</td>\n",
              "    </tr>\n",
              "  </tbody>\n",
              "</table>\n",
              "</div>"
            ],
            "text/plain": [
              "    shiftdate  totaltime  loadcnt  tmcat02  tmcat03  ...  213  305  306  307  BUZON\n",
              "23     737241      43200      157        0      814  ...    0    0    0    0      0\n",
              "25     737241      43200       12        0      367  ...    1    0    0    0      0\n",
              "27     737241      43200       55        0     3972  ...    0    1    0    0      0\n",
              "28     737241      43200       54        0    10339  ...    0    0    1    0      0\n",
              "29     737241      43200      103        0     6108  ...    0    0    0    1      0\n",
              "6      737241      43200       60        0     4935  ...    0    0    0    0      0\n",
              "7      737241      43200      161        0     4166  ...    1    0    0    0      0\n",
              "5      737241      43200      128        0     3981  ...    0    0    0    0      0\n",
              "10     737241      43200       33        0     8632  ...    0    0    1    0      0\n",
              "9      737241      43200       21        0     6173  ...    0    1    0    0      0\n",
              "\n",
              "[10 rows x 23 columns]"
            ]
          },
          "metadata": {
            "tags": []
          },
          "execution_count": 434
        }
      ]
    },
    {
      "cell_type": "code",
      "metadata": {
        "id": "V0guaa5D1pXy"
      },
      "source": [
        "X_train, X_test, y_train, y_test = train_test_split(train.drop('rend_ef_bin',axis=1),\n",
        "                                                    train['rend_ef_bin'],\n",
        "                                                    test_size=0.30,random_state=42)"
      ],
      "execution_count": 435,
      "outputs": []
    },
    {
      "cell_type": "code",
      "metadata": {
        "id": "k0n8OdIdyY5H"
      },
      "source": [
        "from sklearn.linear_model import LogisticRegression"
      ],
      "execution_count": 436,
      "outputs": []
    },
    {
      "cell_type": "code",
      "metadata": {
        "id": "8k9fT_c_y9_Y",
        "outputId": "f57ac7ba-1e0f-40a8-cbde-6122d7048f2c",
        "colab": {
          "base_uri": "https://localhost:8080/"
        }
      },
      "source": [
        "log_reg = LogisticRegression()\n",
        "log_reg.fit(X_train,y_train)"
      ],
      "execution_count": 437,
      "outputs": [
        {
          "output_type": "stream",
          "text": [
            "/usr/local/lib/python3.6/dist-packages/sklearn/linear_model/_logistic.py:940: ConvergenceWarning: lbfgs failed to converge (status=1):\n",
            "STOP: TOTAL NO. of ITERATIONS REACHED LIMIT.\n",
            "\n",
            "Increase the number of iterations (max_iter) or scale the data as shown in:\n",
            "    https://scikit-learn.org/stable/modules/preprocessing.html\n",
            "Please also refer to the documentation for alternative solver options:\n",
            "    https://scikit-learn.org/stable/modules/linear_model.html#logistic-regression\n",
            "  extra_warning_msg=_LOGISTIC_SOLVER_CONVERGENCE_MSG)\n"
          ],
          "name": "stderr"
        },
        {
          "output_type": "execute_result",
          "data": {
            "text/plain": [
              "LogisticRegression(C=1.0, class_weight=None, dual=False, fit_intercept=True,\n",
              "                   intercept_scaling=1, l1_ratio=None, max_iter=100,\n",
              "                   multi_class='auto', n_jobs=None, penalty='l2',\n",
              "                   random_state=None, solver='lbfgs', tol=0.0001, verbose=0,\n",
              "                   warm_start=False)"
            ]
          },
          "metadata": {
            "tags": []
          },
          "execution_count": 437
        }
      ]
    },
    {
      "cell_type": "code",
      "metadata": {
        "id": "5PsLClcc1N2-"
      },
      "source": [
        "y_pred = model.predict(X_test)"
      ],
      "execution_count": 438,
      "outputs": []
    },
    {
      "cell_type": "code",
      "metadata": {
        "id": "ntSsLbu2ybwG"
      },
      "source": [
        "from sklearn.metrics import classification_report"
      ],
      "execution_count": 439,
      "outputs": []
    },
    {
      "cell_type": "code",
      "metadata": {
        "id": "NQ33D2T01a1n",
        "outputId": "af8a6165-8bd8-4bc6-fbb2-98d350d9edd1",
        "colab": {
          "base_uri": "https://localhost:8080/"
        }
      },
      "source": [
        "print(classification_report(y_test,y_pred))"
      ],
      "execution_count": 440,
      "outputs": [
        {
          "output_type": "stream",
          "text": [
            "              precision    recall  f1-score   support\n",
            "\n",
            "           0       0.97      0.97      0.97       625\n",
            "           1       0.97      0.97      0.97       519\n",
            "\n",
            "    accuracy                           0.97      1144\n",
            "   macro avg       0.97      0.97      0.97      1144\n",
            "weighted avg       0.97      0.97      0.97      1144\n",
            "\n"
          ],
          "name": "stdout"
        }
      ]
    },
    {
      "cell_type": "code",
      "metadata": {
        "id": "e8Bznpf2ydzA"
      },
      "source": [
        "from sklearn.metrics import confusion_matrix"
      ],
      "execution_count": 441,
      "outputs": []
    },
    {
      "cell_type": "code",
      "metadata": {
        "id": "ydOF5rB02Lwn",
        "outputId": "a01992f5-6c47-43b1-94d0-643c3a34f85a",
        "colab": {
          "base_uri": "https://localhost:8080/"
        }
      },
      "source": [
        "cf_matrix = confusion_matrix(y_test,y_pred)\n",
        "cf_matrix"
      ],
      "execution_count": 442,
      "outputs": [
        {
          "output_type": "execute_result",
          "data": {
            "text/plain": [
              "array([[609,  16],\n",
              "       [ 16, 503]])"
            ]
          },
          "metadata": {
            "tags": []
          },
          "execution_count": 442
        }
      ]
    },
    {
      "cell_type": "code",
      "metadata": {
        "id": "irxx1MY_WflM"
      },
      "source": [
        "import numpy as np"
      ],
      "execution_count": 443,
      "outputs": []
    },
    {
      "cell_type": "code",
      "metadata": {
        "id": "udmnPffn1ddL",
        "outputId": "6e30d46c-e5b9-47fc-c11c-600ef354658f",
        "colab": {
          "base_uri": "https://localhost:8080/",
          "height": 356
        }
      },
      "source": [
        "plot_matriz(y_test,y_pred)"
      ],
      "execution_count": 444,
      "outputs": [
        {
          "output_type": "stream",
          "text": [
            "Accuracy: 0.972027972027972\n",
            "Precision: 0.9691714836223507\n",
            "Recall: 0.9691714836223507\n"
          ],
          "name": "stdout"
        },
        {
          "output_type": "display_data",
          "data": {
            "image/png": "[encoded data removed]",
            "text/plain": [
              "<Figure size 432x288 with 2 Axes>"
            ]
          },
          "metadata": {
            "tags": []
          }
        }
      ]
    },
    {
      "cell_type": "code",
      "metadata": {
        "id": "7COYXwhZWU3Y",
        "outputId": "9eb015ed-e6c0-430c-8dc2-8f0d2f09d716",
        "colab": {
          "base_uri": "https://localhost:8080/"
        }
      },
      "source": [
        "log_reg.coef_"
      ],
      "execution_count": 445,
      "outputs": [
        {
          "output_type": "execute_result",
          "data": {
            "text/plain": [
              "array([[-1.75292496e-05,  2.83393102e-04,  3.20044712e-03,\n",
              "         4.87266496e-04,  1.52021718e-05, -7.81136500e-05,\n",
              "         3.58672899e-05,  1.39863746e-04, -9.54617581e-06,\n",
              "         1.47723320e-06, -1.47614278e-06, -4.36004286e-07,\n",
              "        -3.06769170e-07, -6.25522185e-08,  8.07876404e-06,\n",
              "         1.86783291e-05,  8.31596813e-06,  1.52593258e-05,\n",
              "        -1.72983555e-05, -1.22820786e-05, -1.38256839e-05,\n",
              "        -6.11985291e-06]])"
            ]
          },
          "metadata": {
            "tags": []
          },
          "execution_count": 445
        }
      ]
    },
    {
      "cell_type": "markdown",
      "metadata": {
        "id": "9fnDvESH-IJV"
      },
      "source": [
        "#Árbol de decisión"
      ]
    },
    {
      "cell_type": "code",
      "metadata": {
        "id": "4ui-K0v_2HS1"
      },
      "source": [
        "from sklearn.tree import DecisionTreeClassifier"
      ],
      "execution_count": 446,
      "outputs": []
    },
    {
      "cell_type": "code",
      "metadata": {
        "id": "ffuEXx4M-Zyx"
      },
      "source": [
        "modelo = DecisionTreeClassifier()"
      ],
      "execution_count": 447,
      "outputs": []
    },
    {
      "cell_type": "code",
      "metadata": {
        "id": "PQZ6syB7-bbi",
        "outputId": "63797e8a-3164-4961-9890-27ea0b876807",
        "colab": {
          "base_uri": "https://localhost:8080/"
        }
      },
      "source": [
        "modelo.fit(X_train,y_train)"
      ],
      "execution_count": 448,
      "outputs": [
        {
          "output_type": "execute_result",
          "data": {
            "text/plain": [
              "DecisionTreeClassifier(ccp_alpha=0.0, class_weight=None, criterion='gini',\n",
              "                       max_depth=None, max_features=None, max_leaf_nodes=None,\n",
              "                       min_impurity_decrease=0.0, min_impurity_split=None,\n",
              "                       min_samples_leaf=1, min_samples_split=2,\n",
              "                       min_weight_fraction_leaf=0.0, presort='deprecated',\n",
              "                       random_state=None, splitter='best')"
            ]
          },
          "metadata": {
            "tags": []
          },
          "execution_count": 448
        }
      ]
    },
    {
      "cell_type": "code",
      "metadata": {
        "id": "hYjJ9J-d-c2B"
      },
      "source": [
        "y_pred = modelo.predict(X_test)"
      ],
      "execution_count": 449,
      "outputs": []
    },
    {
      "cell_type": "code",
      "metadata": {
        "id": "onGBL1IvDVix"
      },
      "source": [
        "from sklearn.tree import export_graphviz\n",
        "from sklearn.externals.six import StringIO\n",
        "from IPython.display import Image  \n",
        "import pydotplus"
      ],
      "execution_count": 450,
      "outputs": []
    },
    {
      "cell_type": "code",
      "metadata": {
        "id": "MLtAruDJDWob"
      },
      "source": [
        "tree_to_png(modelo,train,'/tree.png')"
      ],
      "execution_count": 451,
      "outputs": []
    },
    {
      "cell_type": "code",
      "metadata": {
        "id": "7aLUh5Qo-eIx",
        "outputId": "f8ee1e94-1c60-4067-c05f-20f2596d3d73",
        "colab": {
          "base_uri": "https://localhost:8080/"
        }
      },
      "source": [
        "print(classification_report(y_test,y_pred))"
      ],
      "execution_count": 452,
      "outputs": [
        {
          "output_type": "stream",
          "text": [
            "              precision    recall  f1-score   support\n",
            "\n",
            "           0       0.90      0.91      0.90       625\n",
            "           1       0.89      0.88      0.88       519\n",
            "\n",
            "    accuracy                           0.89      1144\n",
            "   macro avg       0.89      0.89      0.89      1144\n",
            "weighted avg       0.89      0.89      0.89      1144\n",
            "\n"
          ],
          "name": "stdout"
        }
      ]
    },
    {
      "cell_type": "code",
      "metadata": {
        "id": "l5c2zjpr-f1-",
        "outputId": "5cb78256-b1bf-42a5-87b5-0d8fbff8281c",
        "colab": {
          "base_uri": "https://localhost:8080/"
        }
      },
      "source": [
        "confusion_matrix(y_test,y_pred)"
      ],
      "execution_count": 453,
      "outputs": [
        {
          "output_type": "execute_result",
          "data": {
            "text/plain": [
              "array([[567,  58],\n",
              "       [ 63, 456]])"
            ]
          },
          "metadata": {
            "tags": []
          },
          "execution_count": 453
        }
      ]
    },
    {
      "cell_type": "code",
      "metadata": {
        "id": "vSQT-GjE-hux",
        "outputId": "a278f8c7-a8d7-4645-b30d-18827b81b5c7",
        "colab": {
          "base_uri": "https://localhost:8080/",
          "height": 356
        }
      },
      "source": [
        "plot_matriz(y_test,y_pred)"
      ],
      "execution_count": 454,
      "outputs": [
        {
          "output_type": "stream",
          "text": [
            "Accuracy: 0.8942307692307693\n",
            "Precision: 0.8871595330739299\n",
            "Recall: 0.8786127167630058\n"
          ],
          "name": "stdout"
        },
        {
          "output_type": "display_data",
          "data": {
            "image/png": "[encoded data removed]",
            "text/plain": [
              "<Figure size 432x288 with 2 Axes>"
            ]
          },
          "metadata": {
            "tags": []
          }
        }
      ]
    },
    {
      "cell_type": "markdown",
      "metadata": {
        "id": "CX_QxVcJ3vJS"
      },
      "source": [
        "Podar -> Restringir directamente el valor más bajo (número de ocurrencias de una clase particular), todos los hijos de los nodos con un conteo mínimo de clases menor que 5"
      ]
    },
    {
      "cell_type": "code",
      "metadata": {
        "id": "p7BybeUdCXc3",
        "outputId": "3bf5eebe-0b90-4944-c9b8-38b45f65d1be",
        "colab": {
          "base_uri": "https://localhost:8080/"
        }
      },
      "source": [
        "print(sum(modelo.tree_.children_left < 0))\n",
        "# start pruning from the root\n",
        "podar(modelo.tree_, 0, 5)\n",
        "sum(modelo.tree_.children_left < 0)"
      ],
      "execution_count": 455,
      "outputs": [
        {
          "output_type": "stream",
          "text": [
            "180\n"
          ],
          "name": "stdout"
        },
        {
          "output_type": "execute_result",
          "data": {
            "text/plain": [
              "218"
            ]
          },
          "metadata": {
            "tags": []
          },
          "execution_count": 455
        }
      ]
    },
    {
      "cell_type": "code",
      "metadata": {
        "id": "hcrUFmLaCefz"
      },
      "source": [
        "tree_to_png(modelo,train,'/tree_pod.png')"
      ],
      "execution_count": 456,
      "outputs": []
    },
    {
      "cell_type": "markdown",
      "metadata": {
        "id": "8PGaUG-zUyj9"
      },
      "source": [
        "#Random Forest"
      ]
    },
    {
      "cell_type": "code",
      "metadata": {
        "id": "oOcBMSmzUyKO"
      },
      "source": [
        "from sklearn.ensemble import RandomForestClassifier"
      ],
      "execution_count": 457,
      "outputs": []
    },
    {
      "cell_type": "code",
      "metadata": {
        "id": "nDCfVXBCScWU"
      },
      "source": [
        "modelo = RandomForestClassifier(n_estimators=100)"
      ],
      "execution_count": 458,
      "outputs": []
    },
    {
      "cell_type": "code",
      "metadata": {
        "id": "59cHOz-cW-du",
        "outputId": "e9ef38ec-c9bf-4e6a-bf86-75f4dc20abb0",
        "colab": {
          "base_uri": "https://localhost:8080/"
        }
      },
      "source": [
        "modelo.fit(X_train,y_train)"
      ],
      "execution_count": 459,
      "outputs": [
        {
          "output_type": "execute_result",
          "data": {
            "text/plain": [
              "RandomForestClassifier(bootstrap=True, ccp_alpha=0.0, class_weight=None,\n",
              "                       criterion='gini', max_depth=None, max_features='auto',\n",
              "                       max_leaf_nodes=None, max_samples=None,\n",
              "                       min_impurity_decrease=0.0, min_impurity_split=None,\n",
              "                       min_samples_leaf=1, min_samples_split=2,\n",
              "                       min_weight_fraction_leaf=0.0, n_estimators=100,\n",
              "                       n_jobs=None, oob_score=False, random_state=None,\n",
              "                       verbose=0, warm_start=False)"
            ]
          },
          "metadata": {
            "tags": []
          },
          "execution_count": 459
        }
      ]
    },
    {
      "cell_type": "code",
      "metadata": {
        "id": "x5MpamfXU9I3"
      },
      "source": [
        "y_pred = modelo.predict(X_test)"
      ],
      "execution_count": 460,
      "outputs": []
    },
    {
      "cell_type": "code",
      "metadata": {
        "id": "jXKqWTszX50I",
        "outputId": "15c871f0-b314-42b4-cb5c-3d6f0bb1097b",
        "colab": {
          "base_uri": "https://localhost:8080/"
        }
      },
      "source": [
        "len(modelo.estimators_)"
      ],
      "execution_count": 461,
      "outputs": [
        {
          "output_type": "execute_result",
          "data": {
            "text/plain": [
              "100"
            ]
          },
          "metadata": {
            "tags": []
          },
          "execution_count": 461
        }
      ]
    },
    {
      "cell_type": "markdown",
      "metadata": {
        "id": "7K7yGMlDjdWi"
      },
      "source": [
        "Imprimir 5 primeros arboles"
      ]
    },
    {
      "cell_type": "code",
      "metadata": {
        "id": "bszGFVsCYY2W"
      },
      "source": [
        "for index in range(0, 5):\n",
        "  name = '/tree_rf_' + str(index) + '.png'\n",
        "  tree_to_png(modelo.estimators_[index],train,name)"
      ],
      "execution_count": 462,
      "outputs": []
    },
    {
      "cell_type": "code",
      "metadata": {
        "id": "484yHOnbVBBA",
        "outputId": "665962b1-ef75-4005-bb70-466fbea9e435",
        "colab": {
          "base_uri": "https://localhost:8080/"
        }
      },
      "source": [
        "print(classification_report(y_test,y_pred))"
      ],
      "execution_count": 463,
      "outputs": [
        {
          "output_type": "stream",
          "text": [
            "              precision    recall  f1-score   support\n",
            "\n",
            "           0       0.92      0.93      0.93       625\n",
            "           1       0.92      0.91      0.91       519\n",
            "\n",
            "    accuracy                           0.92      1144\n",
            "   macro avg       0.92      0.92      0.92      1144\n",
            "weighted avg       0.92      0.92      0.92      1144\n",
            "\n"
          ],
          "name": "stdout"
        }
      ]
    },
    {
      "cell_type": "code",
      "metadata": {
        "id": "ZE5eh9jOVGEt"
      },
      "source": [
        "from sklearn.metrics import confusion_matrix"
      ],
      "execution_count": 464,
      "outputs": []
    },
    {
      "cell_type": "code",
      "metadata": {
        "id": "dbzihjuPVCw9",
        "outputId": "4cdce282-1f41-4a27-8d68-e5eadf7af75a",
        "colab": {
          "base_uri": "https://localhost:8080/"
        }
      },
      "source": [
        "confusion_matrix(y_test,y_pred)"
      ],
      "execution_count": 465,
      "outputs": [
        {
          "output_type": "execute_result",
          "data": {
            "text/plain": [
              "array([[584,  41],\n",
              "       [ 49, 470]])"
            ]
          },
          "metadata": {
            "tags": []
          },
          "execution_count": 465
        }
      ]
    },
    {
      "cell_type": "code",
      "metadata": {
        "id": "y7NGc7iVVIcn",
        "outputId": "74a9d387-5ae5-49df-abf6-5101949b7797",
        "colab": {
          "base_uri": "https://localhost:8080/",
          "height": 356
        }
      },
      "source": [
        "plot_matriz(y_test,y_pred)"
      ],
      "execution_count": 466,
      "outputs": [
        {
          "output_type": "stream",
          "text": [
            "Accuracy: 0.9213286713286714\n",
            "Precision: 0.9197651663405088\n",
            "Recall: 0.905587668593449\n"
          ],
          "name": "stdout"
        },
        {
          "output_type": "display_data",
          "data": {
            "image/png": "[encoded data removed]",
            "text/plain": [
              "<Figure size 432x288 with 2 Axes>"
            ]
          },
          "metadata": {
            "tags": []
          }
        }
      ]
    },
    {
      "cell_type": "markdown",
      "metadata": {
        "id": "-2w2nESwyDdI"
      },
      "source": [
        "#AdaBoost"
      ]
    },
    {
      "cell_type": "code",
      "metadata": {
        "id": "-uAoslLkXjgt"
      },
      "source": [
        "from sklearn.ensemble import AdaBoostClassifier\n",
        "from sklearn.datasets import make_classification"
      ],
      "execution_count": 467,
      "outputs": []
    },
    {
      "cell_type": "code",
      "metadata": {
        "id": "mi37l81ayMC7"
      },
      "source": [
        "clf = AdaBoostClassifier(n_estimators=100, random_state=0)"
      ],
      "execution_count": 468,
      "outputs": []
    },
    {
      "cell_type": "code",
      "metadata": {
        "id": "4vCl6He_3ndG",
        "outputId": "d09ce062-ac68-48ba-a95f-c327597d3956",
        "colab": {
          "base_uri": "https://localhost:8080/"
        }
      },
      "source": [
        "clf.fit(X_train, y_train)"
      ],
      "execution_count": 469,
      "outputs": [
        {
          "output_type": "execute_result",
          "data": {
            "text/plain": [
              "AdaBoostClassifier(algorithm='SAMME.R', base_estimator=None, learning_rate=1.0,\n",
              "                   n_estimators=100, random_state=0)"
            ]
          },
          "metadata": {
            "tags": []
          },
          "execution_count": 469
        }
      ]
    },
    {
      "cell_type": "code",
      "metadata": {
        "id": "GFRg56o13o_M",
        "outputId": "405ac775-dcfa-4158-989a-e17828516f38",
        "colab": {
          "base_uri": "https://localhost:8080/"
        }
      },
      "source": [
        "clf.predict([[0, 0, 0, 0, 0, 0, 0, 0, 0, 0, 0, 0, 0, 0, 0, 0, 0, 0, 0, 0, 0, 0]])"
      ],
      "execution_count": 470,
      "outputs": [
        {
          "output_type": "execute_result",
          "data": {
            "text/plain": [
              "array([0])"
            ]
          },
          "metadata": {
            "tags": []
          },
          "execution_count": 470
        }
      ]
    },
    {
      "cell_type": "code",
      "metadata": {
        "id": "YmkTM0Wk4EdY",
        "outputId": "7894f0bb-d031-4fdd-df5b-1418ac6b8b2b",
        "colab": {
          "base_uri": "https://localhost:8080/"
        }
      },
      "source": [
        "clf.score(X_test, y_test)"
      ],
      "execution_count": 471,
      "outputs": [
        {
          "output_type": "execute_result",
          "data": {
            "text/plain": [
              "0.9370629370629371"
            ]
          },
          "metadata": {
            "tags": []
          },
          "execution_count": 471
        }
      ]
    },
    {
      "cell_type": "code",
      "metadata": {
        "id": "_IKl4oGO48wY"
      },
      "source": [
        ""
      ],
      "execution_count": 471,
      "outputs": []
    },
    {
      "cell_type": "markdown",
      "metadata": {
        "id": "Ef3vsvhkXu_w"
      },
      "source": [
        "#KNN"
      ]
    },
    {
      "cell_type": "code",
      "metadata": {
        "id": "AmPUrGVolESy",
        "outputId": "4a0f54f9-db7c-4771-a530-a61aabda1c63",
        "colab": {
          "base_uri": "https://localhost:8080/"
        }
      },
      "source": [
        "X.columns"
      ],
      "execution_count": 472,
      "outputs": [
        {
          "output_type": "execute_result",
          "data": {
            "text/plain": [
              "Index(['totaltime', 'loadcnt', 'tmcat02', 'tmcat03', 'tmcat04', 'tmcat05',\n",
              "       'tmcat06', 'tmcat07'],\n",
              "      dtype='object')"
            ]
          },
          "metadata": {
            "tags": []
          },
          "execution_count": 472
        }
      ]
    },
    {
      "cell_type": "code",
      "metadata": {
        "id": "A6hIaCmLZWBv"
      },
      "source": [
        "X_train, X_test, y_train, y_test = train_test_split(X, y, test_size=0.4, random_state=42)\n",
        "scaler = MinMaxScaler()\n",
        "X_train = scaler.fit_transform(X_train)\n",
        "X_test = scaler.transform(X_test)"
      ],
      "execution_count": 473,
      "outputs": []
    },
    {
      "cell_type": "code",
      "metadata": {
        "id": "Qxo71t5zdWHG"
      },
      "source": [
        "from sklearn.neighbors import KNeighborsClassifier"
      ],
      "execution_count": 474,
      "outputs": []
    },
    {
      "cell_type": "code",
      "metadata": {
        "id": "cDEb6SYzcuBb",
        "outputId": "2752a9f1-35ba-404c-f6e9-a0c94e73e85e",
        "colab": {
          "base_uri": "https://localhost:8080/"
        }
      },
      "source": [
        "n_neighbors = 7\n",
        " \n",
        "knn = KNeighborsClassifier(n_neighbors)\n",
        "knn.fit(X_train, y_train)\n",
        "print('Accuracy of K-NN classifier on training set: {:.2f}'\n",
        "     .format(knn.score(X_train, y_train)))\n",
        "print('Accuracy of K-NN classifier on test set: {:.2f}'\n",
        "     .format(knn.score(X_test, y_test)))"
      ],
      "execution_count": 475,
      "outputs": [
        {
          "output_type": "stream",
          "text": [
            "Accuracy of K-NN classifier on training set: 0.09\n",
            "Accuracy of K-NN classifier on test set: 0.00\n"
          ],
          "name": "stdout"
        }
      ]
    },
    {
      "cell_type": "code",
      "metadata": {
        "id": "dp1k0hHMdPCg",
        "outputId": "46155d1f-b960-477d-c3f1-9f7f28d2b015",
        "colab": {
          "base_uri": "https://localhost:8080/"
        }
      },
      "source": [
        "pred = knn.predict(X_test)\n",
        "print(confusion_matrix(y_test, pred))\n",
        "print(classification_report(y_test, pred))"
      ],
      "execution_count": 476,
      "outputs": [
        {
          "output_type": "stream",
          "text": [
            "[[0 0 0 ... 0 0 0]\n",
            " [0 0 0 ... 0 0 0]\n",
            " [0 0 0 ... 0 0 0]\n",
            " ...\n",
            " [0 0 0 ... 0 0 0]\n",
            " [0 0 0 ... 0 0 0]\n",
            " [0 0 0 ... 0 0 0]]\n",
            "              precision    recall  f1-score   support\n",
            "\n",
            "          24       0.00      0.00      0.00         0\n",
            "          36       0.00      0.00      0.00         0\n",
            "          39       0.00      0.00      0.00         1\n",
            "          54       0.00      0.00      0.00         0\n",
            "          83       0.00      0.00      0.00         0\n",
            "          84       0.00      0.00      0.00         1\n",
            "          89       0.00      0.00      0.00         0\n",
            "          91       0.00      0.00      0.00         1\n",
            "          94       0.00      0.00      0.00         0\n",
            "         121       0.00      0.00      0.00         0\n",
            "         125       0.00      0.00      0.00         0\n",
            "         138       0.00      0.00      0.00         2\n",
            "         145       0.00      0.00      0.00         1\n",
            "         147       0.00      0.00      0.00         1\n",
            "         161       0.00      0.00      0.00         0\n",
            "         166       0.00      0.00      0.00         0\n",
            "         167       0.00      0.00      0.00         0\n",
            "         175       0.00      0.00      0.00         1\n",
            "         197       0.00      0.00      0.00         1\n",
            "         200       0.00      0.00      0.00         1\n",
            "         203       0.00      0.00      0.00         1\n",
            "         216       0.00      0.00      0.00         0\n",
            "         241       0.00      0.00      0.00         1\n",
            "         242       0.00      0.00      0.00         0\n",
            "         244       0.00      0.00      0.00         1\n",
            "         248       0.00      0.00      0.00         1\n",
            "         256       0.00      0.00      0.00         0\n",
            "         261       0.00      0.00      0.00         1\n",
            "         263       0.00      0.00      0.00         0\n",
            "         266       0.00      0.00      0.00         1\n",
            "         277       0.00      0.00      0.00         0\n",
            "         279       0.00      0.00      0.00         0\n",
            "         280       0.00      0.00      0.00         2\n",
            "         282       0.00      0.00      0.00         1\n",
            "         284       0.00      0.00      0.00         1\n",
            "         289       0.00      0.00      0.00         0\n",
            "         291       0.00      0.00      0.00         2\n",
            "         293       0.00      0.00      0.00         0\n",
            "         294       0.00      0.00      0.00         1\n",
            "         295       0.00      0.00      0.00         1\n",
            "         300       0.00      0.00      0.00         1\n",
            "         302       0.00      0.00      0.00         0\n",
            "         306       0.00      0.00      0.00         1\n",
            "         309       0.00      0.00      0.00         0\n",
            "         314       0.00      0.00      0.00         0\n",
            "         321       0.00      0.00      0.00         0\n",
            "         332       0.00      0.00      0.00         0\n",
            "         334       0.00      0.00      0.00         1\n",
            "         335       0.00      0.00      0.00         1\n",
            "         336       0.00      0.00      0.00         0\n",
            "         337       0.00      0.00      0.00         1\n",
            "         347       0.00      0.00      0.00         1\n",
            "         350       0.00      0.00      0.00         1\n",
            "         356       0.00      0.00      0.00         1\n",
            "         359       0.00      0.00      0.00         1\n",
            "         362       0.00      0.00      0.00         1\n",
            "         368       0.00      0.00      0.00         1\n",
            "         370       0.00      0.00      0.00         1\n",
            "         372       0.00      0.00      0.00         1\n",
            "         373       0.00      0.00      0.00         1\n",
            "         374       0.00      0.00      0.00         0\n",
            "         376       0.00      0.00      0.00         2\n",
            "         377       0.00      0.00      0.00         1\n",
            "         387       0.00      0.00      0.00         0\n",
            "         389       0.00      0.00      0.00         0\n",
            "         396       0.00      0.00      0.00         0\n",
            "         397       0.00      0.00      0.00         1\n",
            "         398       0.00      0.00      0.00         1\n",
            "         399       0.00      0.00      0.00         1\n",
            "         403       0.00      0.00      0.00         1\n",
            "         405       0.00      0.00      0.00         2\n",
            "         413       0.00      0.00      0.00         1\n",
            "         416       0.00      0.00      0.00         1\n",
            "         421       0.00      0.00      0.00         0\n",
            "         424       0.00      0.00      0.00         1\n",
            "         426       0.00      0.00      0.00         1\n",
            "         428       0.00      0.00      0.00         1\n",
            "         429       0.00      0.00      0.00         0\n",
            "         433       0.00      0.00      0.00         1\n",
            "         439       0.00      0.00      0.00         1\n",
            "         441       0.00      0.00      0.00         1\n",
            "         444       0.00      0.00      0.00         1\n",
            "         446       0.00      0.00      0.00         1\n",
            "         448       0.00      0.00      0.00         1\n",
            "         451       0.00      0.00      0.00         1\n",
            "         453       0.00      0.00      0.00         0\n",
            "         457       0.00      0.00      0.00         0\n",
            "         468       0.00      0.00      0.00         2\n",
            "         475       0.00      0.00      0.00         2\n",
            "         476       0.00      0.00      0.00         0\n",
            "         477       0.00      0.00      0.00         2\n",
            "         484       0.00      0.00      0.00         0\n",
            "         485       0.00      0.00      0.00         1\n",
            "         487       0.00      0.00      0.00         1\n",
            "         488       0.00      0.00      0.00         1\n",
            "         489       0.00      0.00      0.00         0\n",
            "         491       0.00      0.00      0.00         1\n",
            "         496       0.00      0.00      0.00         1\n",
            "         498       0.00      0.00      0.00         0\n",
            "         502       0.00      0.00      0.00         2\n",
            "         504       0.00      0.00      0.00         0\n",
            "         505       0.00      0.00      0.00         1\n",
            "         512       0.00      0.00      0.00         0\n",
            "         513       0.00      0.00      0.00         1\n",
            "         514       0.00      0.00      0.00         0\n",
            "         517       0.00      0.00      0.00         1\n",
            "         520       0.00      0.00      0.00         1\n",
            "         524       0.00      0.00      0.00         1\n",
            "         525       0.00      0.00      0.00         1\n",
            "         526       0.00      0.00      0.00         1\n",
            "         529       0.00      0.00      0.00         0\n",
            "         531       0.00      0.00      0.00         0\n",
            "         532       0.00      0.00      0.00         1\n",
            "         535       0.00      0.00      0.00         0\n",
            "         538       0.00      0.00      0.00         1\n",
            "         542       0.00      0.00      0.00         0\n",
            "         551       0.00      0.00      0.00         0\n",
            "         554       0.00      0.00      0.00         0\n",
            "         557       0.00      0.00      0.00         0\n",
            "         560       0.00      0.00      0.00         1\n",
            "         562       0.00      0.00      0.00         1\n",
            "         564       0.00      0.00      0.00         0\n",
            "         566       0.00      0.00      0.00         1\n",
            "         567       0.00      0.00      0.00         0\n",
            "         568       0.00      0.00      0.00         2\n",
            "         571       0.00      0.00      0.00         1\n",
            "         573       0.00      0.00      0.00         0\n",
            "         574       0.00      0.00      0.00         1\n",
            "         575       0.00      0.00      0.00         0\n",
            "         577       0.00      0.00      0.00         1\n",
            "         580       0.00      0.00      0.00         1\n",
            "         581       0.00      0.00      0.00         1\n",
            "         591       0.00      0.00      0.00         1\n",
            "         593       0.00      0.00      0.00         1\n",
            "         598       0.00      0.00      0.00         1\n",
            "         602       0.00      0.00      0.00         1\n",
            "         607       0.00      0.00      0.00         1\n",
            "         608       0.00      0.00      0.00         0\n",
            "         623       0.00      0.00      0.00         1\n",
            "         624       0.00      0.00      0.00         1\n",
            "         625       0.00      0.00      0.00         2\n",
            "         629       0.00      0.00      0.00         0\n",
            "         630       0.00      0.00      0.00         0\n",
            "         634       0.00      0.00      0.00         0\n",
            "         638       0.00      0.00      0.00         0\n",
            "         643       0.00      0.00      0.00         1\n",
            "         644       0.00      0.00      0.00         1\n",
            "         646       0.00      0.00      0.00         2\n",
            "         650       0.00      0.00      0.00         0\n",
            "         661       0.00      0.00      0.00         1\n",
            "         663       0.00      0.00      0.00         0\n",
            "         665       0.00      0.00      0.00         1\n",
            "         669       0.00      0.00      0.00         1\n",
            "         671       0.00      0.00      0.00         1\n",
            "         675       0.00      0.00      0.00         1\n",
            "         682       0.00      0.00      0.00         0\n",
            "         685       0.00      0.00      0.00         1\n",
            "         690       0.00      0.00      0.00         0\n",
            "         693       0.00      0.00      0.00         0\n",
            "         694       0.00      0.00      0.00         1\n",
            "         699       0.00      0.00      0.00         0\n",
            "         705       0.00      0.00      0.00         1\n",
            "         709       0.00      0.00      0.00         1\n",
            "         722       0.00      0.00      0.00         1\n",
            "         727       0.00      0.00      0.00         0\n",
            "         732       0.00      0.00      0.00         2\n",
            "         733       0.00      0.00      0.00         0\n",
            "         735       0.00      0.00      0.00         1\n",
            "         739       0.00      0.00      0.00         1\n",
            "         741       0.00      0.00      0.00         1\n",
            "         742       0.00      0.00      0.00         1\n",
            "         749       0.00      0.00      0.00         1\n",
            "         754       0.00      0.00      0.00         1\n",
            "         756       0.00      0.00      0.00         0\n",
            "         785       0.00      0.00      0.00         1\n",
            "         790       0.00      0.00      0.00         1\n",
            "         794       0.00      0.00      0.00         1\n",
            "         797       0.00      0.00      0.00         1\n",
            "         810       0.00      0.00      0.00         0\n",
            "         812       0.00      0.00      0.00         1\n",
            "         813       0.00      0.00      0.00         1\n",
            "         822       0.00      0.00      0.00         0\n",
            "         833       0.00      0.00      0.00         1\n",
            "         837       0.00      0.00      0.00         1\n",
            "         838       0.00      0.00      0.00         1\n",
            "         841       0.00      0.00      0.00         0\n",
            "         843       0.00      0.00      0.00         0\n",
            "         849       0.00      0.00      0.00         0\n",
            "         851       0.00      0.00      0.00         0\n",
            "         853       0.00      0.00      0.00         0\n",
            "         886       0.00      0.00      0.00         1\n",
            "         889       0.00      0.00      0.00         0\n",
            "         891       0.00      0.00      0.00         1\n",
            "         898       0.00      0.00      0.00         0\n",
            "         899       0.00      0.00      0.00         0\n",
            "         902       0.00      0.00      0.00         1\n",
            "         905       0.00      0.00      0.00         0\n",
            "         910       0.00      0.00      0.00         0\n",
            "         915       0.00      0.00      0.00         1\n",
            "         919       0.00      0.00      0.00         1\n",
            "         922       0.00      0.00      0.00         0\n",
            "         936       0.00      0.00      0.00         1\n",
            "         941       0.00      0.00      0.00         1\n",
            "         951       0.00      0.00      0.00         1\n",
            "         957       0.00      0.00      0.00         0\n",
            "         973       0.00      0.00      0.00         1\n",
            "         975       0.00      0.00      0.00         0\n",
            "         976       0.00      0.00      0.00         0\n",
            "         981       0.00      0.00      0.00         0\n",
            "         986       0.00      0.00      0.00         1\n",
            "         991       0.00      0.00      0.00         0\n",
            "         996       0.00      0.00      0.00         0\n",
            "        1000       0.00      0.00      0.00         0\n",
            "        1001       0.00      0.00      0.00         0\n",
            "        1013       0.00      0.00      0.00         1\n",
            "        1019       0.00      0.00      0.00         0\n",
            "        1024       0.00      0.00      0.00         1\n",
            "        1025       0.33      1.00      0.50         1\n",
            "        1030       0.00      0.00      0.00         0\n",
            "        1033       0.00      0.00      0.00         1\n",
            "        1034       0.00      0.00      0.00         0\n",
            "        1036       0.00      0.00      0.00         1\n",
            "        1041       0.00      0.00      0.00         0\n",
            "        1044       0.00      0.00      0.00         2\n",
            "        1047       0.00      0.00      0.00         1\n",
            "        1053       0.00      0.00      0.00         0\n",
            "        1059       0.00      0.00      0.00         0\n",
            "        1061       0.00      0.00      0.00         1\n",
            "        1064       0.00      0.00      0.00         1\n",
            "        1072       0.00      0.00      0.00         1\n",
            "        1076       0.00      0.00      0.00         2\n",
            "        1077       0.00      0.00      0.00         1\n",
            "        1078       0.00      0.00      0.00         0\n",
            "        1085       0.00      0.00      0.00         2\n",
            "        1087       0.00      0.00      0.00         1\n",
            "        1088       0.00      0.00      0.00         0\n",
            "        1090       0.00      0.00      0.00         1\n",
            "        1094       0.00      0.00      0.00         1\n",
            "        1096       0.00      0.00      0.00         2\n",
            "        1098       0.00      0.00      0.00         1\n",
            "        1099       0.00      0.00      0.00         1\n",
            "        1100       0.00      0.00      0.00         0\n",
            "        1105       0.00      0.00      0.00         1\n",
            "        1106       0.00      0.00      0.00         1\n",
            "        1108       0.00      0.00      0.00         0\n",
            "        1109       0.00      0.00      0.00         0\n",
            "        1112       0.00      0.00      0.00         0\n",
            "        1114       0.00      0.00      0.00         0\n",
            "        1116       0.00      0.00      0.00         1\n",
            "        1118       0.00      0.00      0.00         0\n",
            "        1129       0.00      0.00      0.00         1\n",
            "        1130       0.00      0.00      0.00         0\n",
            "        1134       0.00      0.00      0.00         1\n",
            "        1136       0.00      0.00      0.00         2\n",
            "        1137       0.00      0.00      0.00         1\n",
            "        1141       0.00      0.00      0.00         0\n",
            "        1143       0.00      0.00      0.00         1\n",
            "        1144       0.00      0.00      0.00         0\n",
            "        1145       0.00      0.00      0.00         1\n",
            "        1146       0.00      0.00      0.00         2\n",
            "        1147       0.00      0.00      0.00         0\n",
            "        1150       0.00      0.00      0.00         1\n",
            "        1152       0.00      0.00      0.00         1\n",
            "        1153       0.00      0.00      0.00         1\n",
            "        1155       0.00      0.00      0.00         0\n",
            "        1157       0.00      0.00      0.00         1\n",
            "        1158       0.00      0.00      0.00         0\n",
            "        1159       0.00      0.00      0.00         1\n",
            "        1160       0.00      0.00      0.00         1\n",
            "        1161       0.00      0.00      0.00         0\n",
            "        1163       0.00      0.00      0.00         1\n",
            "        1164       0.00      0.00      0.00         1\n",
            "        1165       0.00      0.00      0.00         1\n",
            "        1166       0.00      0.00      0.00         1\n",
            "        1174       0.00      0.00      0.00         0\n",
            "        1176       0.00      0.00      0.00         0\n",
            "        1177       0.00      0.00      0.00         1\n",
            "        1178       0.00      0.00      0.00         1\n",
            "        1179       0.00      0.00      0.00         0\n",
            "        1182       0.00      0.00      0.00         0\n",
            "        1186       0.00      0.00      0.00         1\n",
            "        1187       0.00      0.00      0.00         1\n",
            "        1191       0.00      0.00      0.00         1\n",
            "        1192       0.00      0.00      0.00         1\n",
            "        1193       0.00      0.00      0.00         1\n",
            "        1194       0.00      0.00      0.00         0\n",
            "        1198       0.00      0.00      0.00         0\n",
            "        1200       0.00      0.00      0.00         2\n",
            "        1202       0.00      0.00      0.00         1\n",
            "        1205       0.00      0.00      0.00         1\n",
            "        1208       0.00      0.00      0.00         1\n",
            "        1213       0.00      0.00      0.00         1\n",
            "        1214       0.00      0.00      0.00         0\n",
            "        1215       0.00      0.00      0.00         2\n",
            "        1219       0.00      0.00      0.00         0\n",
            "        1220       0.00      0.00      0.00         1\n",
            "        1222       0.00      0.00      0.00         1\n",
            "        1225       0.00      0.00      0.00         0\n",
            "        1228       0.00      0.00      0.00         1\n",
            "        1230       0.00      0.00      0.00         2\n",
            "        1236       0.00      0.00      0.00         0\n",
            "        1238       0.00      0.00      0.00         0\n",
            "        1239       0.00      0.00      0.00         0\n",
            "        1240       0.00      0.00      0.00         0\n",
            "        1243       0.00      0.00      0.00         0\n",
            "        1244       0.00      0.00      0.00         0\n",
            "        1246       0.00      0.00      0.00         0\n",
            "        1247       0.00      0.00      0.00         0\n",
            "        1249       0.00      0.00      0.00         1\n",
            "        1250       0.00      0.00      0.00         2\n",
            "        1251       0.00      0.00      0.00         2\n",
            "        1253       0.00      0.00      0.00         0\n",
            "        1255       0.00      0.00      0.00         0\n",
            "        1257       0.00      0.00      0.00         2\n",
            "        1258       0.00      0.00      0.00         2\n",
            "        1259       0.00      0.00      0.00         0\n",
            "        1260       0.00      0.00      0.00         1\n",
            "        1261       0.00      0.00      0.00         1\n",
            "        1264       0.00      0.00      0.00         1\n",
            "        1269       0.00      0.00      0.00         0\n",
            "        1271       0.00      0.00      0.00         0\n",
            "        1272       0.00      0.00      0.00         0\n",
            "        1276       0.00      0.00      0.00         1\n",
            "        1277       0.00      0.00      0.00         1\n",
            "        1278       0.00      0.00      0.00         1\n",
            "        1279       0.00      0.00      0.00         1\n",
            "        1280       0.00      0.00      0.00         1\n",
            "        1281       0.00      0.00      0.00         0\n",
            "        1284       0.00      0.00      0.00         1\n",
            "        1286       0.00      0.00      0.00         1\n",
            "        1287       0.00      0.00      0.00         1\n",
            "        1288       0.00      0.00      0.00         1\n",
            "        1289       0.00      0.00      0.00         0\n",
            "        1290       0.00      0.00      0.00         0\n",
            "        1291       0.00      0.00      0.00         1\n",
            "        1292       0.00      0.00      0.00         0\n",
            "        1294       0.00      0.00      0.00         1\n",
            "        1295       0.00      0.00      0.00         1\n",
            "        1296       0.00      0.00      0.00         0\n",
            "        1297       0.00      0.00      0.00         1\n",
            "        1301       0.00      0.00      0.00         2\n",
            "        1302       0.00      0.00      0.00         0\n",
            "        1303       0.00      0.00      0.00         2\n",
            "        1305       0.00      0.00      0.00         1\n",
            "        1308       0.00      0.00      0.00         0\n",
            "        1310       0.00      0.00      0.00         0\n",
            "        1311       0.00      0.00      0.00         1\n",
            "        1314       0.00      0.00      0.00         1\n",
            "        1315       0.00      0.00      0.00         1\n",
            "        1316       0.00      0.00      0.00         1\n",
            "        1317       0.00      0.00      0.00         1\n",
            "        1320       0.00      0.00      0.00         0\n",
            "        1322       0.00      0.00      0.00         0\n",
            "        1323       0.00      0.00      0.00         0\n",
            "        1327       0.00      0.00      0.00         2\n",
            "        1328       0.00      0.00      0.00         0\n",
            "        1336       0.00      0.00      0.00         1\n",
            "        1339       0.00      0.00      0.00         1\n",
            "        1341       0.00      0.00      0.00         0\n",
            "        1345       0.00      0.00      0.00         0\n",
            "        1346       0.00      0.00      0.00         3\n",
            "        1348       0.00      0.00      0.00         0\n",
            "        1354       0.00      0.00      0.00         0\n",
            "        1361       0.00      0.00      0.00         0\n",
            "        1363       0.00      0.00      0.00         1\n",
            "        1364       0.00      0.00      0.00         0\n",
            "        1365       0.00      0.00      0.00         2\n",
            "        1366       0.00      0.00      0.00         1\n",
            "        1369       0.00      0.00      0.00         1\n",
            "        1370       0.00      0.00      0.00         0\n",
            "        1371       0.00      0.00      0.00         3\n",
            "        1372       0.00      0.00      0.00         0\n",
            "        1374       0.00      0.00      0.00         0\n",
            "        1375       0.00      0.00      0.00         1\n",
            "        1378       0.00      0.00      0.00         1\n",
            "        1379       0.00      0.00      0.00         0\n",
            "        1381       0.00      0.00      0.00         1\n",
            "        1383       0.00      0.00      0.00         0\n",
            "        1386       0.00      0.00      0.00         1\n",
            "        1387       0.00      0.00      0.00         1\n",
            "        1388       0.00      0.00      0.00         1\n",
            "        1389       0.00      0.00      0.00         1\n",
            "        1391       0.00      0.00      0.00         2\n",
            "        1393       0.00      0.00      0.00         1\n",
            "        1397       0.00      0.00      0.00         1\n",
            "        1398       0.00      0.00      0.00         0\n",
            "        1399       0.00      0.00      0.00         0\n",
            "        1400       0.00      0.00      0.00         0\n",
            "        1401       0.00      0.00      0.00         1\n",
            "        1402       0.00      0.00      0.00         1\n",
            "        1405       0.00      0.00      0.00         1\n",
            "        1406       0.00      0.00      0.00         0\n",
            "        1407       0.00      0.00      0.00         1\n",
            "        1410       0.00      0.00      0.00         0\n",
            "        1411       0.00      0.00      0.00         0\n",
            "        1412       0.00      0.00      0.00         2\n",
            "        1415       0.00      0.00      0.00         1\n",
            "        1417       0.00      0.00      0.00         0\n",
            "        1419       0.00      0.00      0.00         0\n",
            "        1421       0.00      0.00      0.00         1\n",
            "        1422       0.00      0.00      0.00         1\n",
            "        1423       0.00      0.00      0.00         1\n",
            "        1430       0.00      0.00      0.00         1\n",
            "        1431       0.17      1.00      0.29         1\n",
            "        1432       0.00      0.00      0.00         1\n",
            "        1433       0.00      0.00      0.00         0\n",
            "        1434       0.00      0.00      0.00         1\n",
            "        1437       0.00      0.00      0.00         1\n",
            "        1438       0.00      0.00      0.00         2\n",
            "        1439       0.00      0.00      0.00         2\n",
            "        1440       0.00      0.00      0.00         1\n",
            "        1442       0.00      0.00      0.00         1\n",
            "        1444       0.00      0.00      0.00         2\n",
            "        1445       0.00      0.00      0.00         0\n",
            "        1447       0.00      0.00      0.00         1\n",
            "        1452       0.00      0.00      0.00         1\n",
            "        1453       0.00      0.00      0.00         0\n",
            "        1455       0.00      0.00      0.00         3\n",
            "        1456       0.00      0.00      0.00         0\n",
            "        1458       0.00      0.00      0.00         0\n",
            "        1460       0.00      0.00      0.00         2\n",
            "        1462       0.00      0.00      0.00         2\n",
            "        1464       0.00      0.00      0.00         1\n",
            "        1466       0.00      0.00      0.00         2\n",
            "        1467       0.00      0.00      0.00         1\n",
            "        1468       0.00      0.00      0.00         1\n",
            "        1469       0.00      0.00      0.00         0\n",
            "        1470       0.00      0.00      0.00         0\n",
            "        1471       0.00      0.00      0.00         1\n",
            "        1472       0.00      0.00      0.00         1\n",
            "        1474       0.00      0.00      0.00         0\n",
            "        1475       0.00      0.00      0.00         0\n",
            "        1476       0.00      0.00      0.00         0\n",
            "        1478       0.00      0.00      0.00         0\n",
            "        1479       0.00      0.00      0.00         0\n",
            "        1480       0.00      0.00      0.00         1\n",
            "        1481       0.00      0.00      0.00         1\n",
            "        1485       0.00      0.00      0.00         1\n",
            "        1487       0.00      0.00      0.00         0\n",
            "        1488       0.00      0.00      0.00         1\n",
            "        1489       0.00      0.00      0.00         0\n",
            "        1490       0.00      0.00      0.00         3\n",
            "        1492       0.00      0.00      0.00         0\n",
            "        1494       0.00      0.00      0.00         2\n",
            "        1496       0.00      0.00      0.00         1\n",
            "        1497       0.00      0.00      0.00         0\n",
            "        1499       0.00      0.00      0.00         1\n",
            "        1500       0.00      0.00      0.00         2\n",
            "        1501       0.00      0.00      0.00         1\n",
            "        1507       0.00      0.00      0.00         1\n",
            "        1509       0.00      0.00      0.00         1\n",
            "        1511       0.00      0.00      0.00         1\n",
            "        1512       0.00      0.00      0.00         1\n",
            "        1513       0.00      0.00      0.00         2\n",
            "        1519       0.00      0.00      0.00         0\n",
            "        1520       0.00      0.00      0.00         1\n",
            "        1522       0.00      0.00      0.00         3\n",
            "        1523       0.00      0.00      0.00         2\n",
            "        1524       0.00      0.00      0.00         1\n",
            "        1525       0.00      0.00      0.00         0\n",
            "        1527       0.00      0.00      0.00         1\n",
            "        1529       0.00      0.00      0.00         1\n",
            "        1530       0.00      0.00      0.00         1\n",
            "        1532       0.00      0.00      0.00         0\n",
            "        1533       0.00      0.00      0.00         0\n",
            "        1534       0.00      0.00      0.00         2\n",
            "        1535       0.00      0.00      0.00         0\n",
            "        1536       0.00      0.00      0.00         2\n",
            "        1537       0.00      0.00      0.00         2\n",
            "        1541       0.00      0.00      0.00         1\n",
            "        1542       0.00      0.00      0.00         0\n",
            "        1543       0.00      0.00      0.00         2\n",
            "        1544       0.00      0.00      0.00         1\n",
            "        1548       0.00      0.00      0.00         1\n",
            "        1549       0.00      0.00      0.00         1\n",
            "        1551       0.00      0.00      0.00         0\n",
            "        1553       0.00      0.00      0.00         1\n",
            "        1554       0.00      0.00      0.00         0\n",
            "        1555       0.00      0.00      0.00         0\n",
            "        1556       0.00      0.00      0.00         1\n",
            "        1557       0.00      0.00      0.00         1\n",
            "        1558       0.00      0.00      0.00         0\n",
            "        1559       0.00      0.00      0.00         1\n",
            "        1561       0.00      0.00      0.00         1\n",
            "        1562       0.00      0.00      0.00         1\n",
            "        1565       0.00      0.00      0.00         1\n",
            "        1566       0.00      0.00      0.00         1\n",
            "        1567       0.00      0.00      0.00         2\n",
            "        1569       0.00      0.00      0.00         1\n",
            "        1571       0.00      0.00      0.00         1\n",
            "        1572       0.00      0.00      0.00         0\n",
            "        1573       0.00      0.00      0.00         1\n",
            "        1574       0.00      0.00      0.00         1\n",
            "        1576       0.00      0.00      0.00         0\n",
            "        1577       0.00      0.00      0.00         2\n",
            "        1578       0.00      0.00      0.00         0\n",
            "        1579       0.00      0.00      0.00         0\n",
            "        1580       0.00      0.00      0.00         0\n",
            "        1581       0.00      0.00      0.00         0\n",
            "        1582       0.00      0.00      0.00         1\n",
            "        1583       0.00      0.00      0.00         1\n",
            "        1585       0.00      0.00      0.00         1\n",
            "        1587       0.00      0.00      0.00         2\n",
            "        1588       0.00      0.00      0.00         1\n",
            "        1589       0.00      0.00      0.00         1\n",
            "        1591       0.00      0.00      0.00         1\n",
            "        1594       0.00      0.00      0.00         0\n",
            "        1595       0.00      0.00      0.00         0\n",
            "        1596       0.00      0.00      0.00         2\n",
            "        1598       0.00      0.00      0.00         2\n",
            "        1602       0.00      0.00      0.00         0\n",
            "        1603       0.00      0.00      0.00         1\n",
            "        1605       0.00      0.00      0.00         0\n",
            "        1606       0.00      0.00      0.00         0\n",
            "        1607       0.00      0.00      0.00         1\n",
            "        1609       0.00      0.00      0.00         1\n",
            "        1610       0.00      0.00      0.00         0\n",
            "        1611       0.00      0.00      0.00         1\n",
            "        1612       0.00      0.00      0.00         1\n",
            "        1614       0.00      0.00      0.00         1\n",
            "        1615       0.00      0.00      0.00         0\n",
            "        1616       0.00      0.00      0.00         0\n",
            "        1617       0.00      0.00      0.00         1\n",
            "        1618       0.00      0.00      0.00         2\n",
            "        1619       0.00      0.00      0.00         1\n",
            "        1620       0.00      0.00      0.00         1\n",
            "        1621       0.00      0.00      0.00         2\n",
            "        1622       0.00      0.00      0.00         0\n",
            "        1624       0.00      0.00      0.00         1\n",
            "        1627       0.00      0.00      0.00         1\n",
            "        1628       0.00      0.00      0.00         3\n",
            "        1629       0.00      0.00      0.00         0\n",
            "        1630       0.00      0.00      0.00         1\n",
            "        1631       0.00      0.00      0.00         4\n",
            "        1633       0.00      0.00      0.00         1\n",
            "        1641       0.00      0.00      0.00         2\n",
            "        1642       0.00      0.00      0.00         3\n",
            "        1643       0.00      0.00      0.00         1\n",
            "        1645       0.00      0.00      0.00         1\n",
            "        1647       0.00      0.00      0.00         1\n",
            "        1648       0.00      0.00      0.00         0\n",
            "        1649       0.00      0.00      0.00         2\n",
            "        1650       0.00      0.00      0.00         1\n",
            "        1651       0.00      0.00      0.00         1\n",
            "        1653       0.00      0.00      0.00         1\n",
            "        1655       0.00      0.00      0.00         2\n",
            "        1656       0.00      0.00      0.00         1\n",
            "        1657       0.00      0.00      0.00         0\n",
            "        1658       0.00      0.00      0.00         2\n",
            "        1659       0.00      0.00      0.00         1\n",
            "        1660       0.00      0.00      0.00         1\n",
            "        1662       0.00      0.00      0.00         1\n",
            "        1664       0.00      0.00      0.00         2\n",
            "        1665       0.00      0.00      0.00         1\n",
            "        1667       0.00      0.00      0.00         0\n",
            "        1668       0.00      0.00      0.00         1\n",
            "        1669       0.00      0.00      0.00         0\n",
            "        1670       0.00      0.00      0.00         1\n",
            "        1671       0.00      0.00      0.00         2\n",
            "        1672       0.00      0.00      0.00         3\n",
            "        1673       0.00      0.00      0.00         2\n",
            "        1675       0.00      0.00      0.00         1\n",
            "        1676       0.00      0.00      0.00         1\n",
            "        1677       0.00      0.00      0.00         1\n",
            "        1678       0.00      0.00      0.00         2\n",
            "        1680       0.00      0.00      0.00         0\n",
            "        1681       0.00      0.00      0.00         1\n",
            "        1682       0.00      0.00      0.00         0\n",
            "        1684       0.00      0.00      0.00         0\n",
            "        1685       0.00      0.00      0.00         1\n",
            "        1686       0.00      0.00      0.00         1\n",
            "        1687       0.00      0.00      0.00         2\n",
            "        1688       0.00      0.00      0.00         2\n",
            "        1691       0.00      0.00      0.00         1\n",
            "        1692       0.00      0.00      0.00         0\n",
            "        1693       0.00      0.00      0.00         1\n",
            "        1694       0.00      0.00      0.00         3\n",
            "        1696       0.00      0.00      0.00         1\n",
            "        1697       0.00      0.00      0.00         0\n",
            "        1700       0.00      0.00      0.00         2\n",
            "        1701       0.00      0.00      0.00         1\n",
            "        1702       0.00      0.00      0.00         1\n",
            "        1703       0.00      0.00      0.00         2\n",
            "        1704       0.00      0.00      0.00         0\n",
            "        1705       0.00      0.00      0.00         1\n",
            "        1706       0.00      0.00      0.00         1\n",
            "        1707       0.00      0.00      0.00         2\n",
            "        1709       0.00      0.00      0.00         0\n",
            "        1713       0.00      0.00      0.00         0\n",
            "        1715       0.00      0.00      0.00         2\n",
            "        1716       0.00      0.00      0.00         1\n",
            "        1719       0.00      0.00      0.00         0\n",
            "        1721       0.00      0.00      0.00         1\n",
            "        1724       0.00      0.00      0.00         1\n",
            "        1725       0.00      0.00      0.00         1\n",
            "        1726       0.00      0.00      0.00         0\n",
            "        1728       0.00      0.00      0.00         1\n",
            "        1729       0.00      0.00      0.00         0\n",
            "        1730       0.00      0.00      0.00         1\n",
            "        1731       0.00      0.00      0.00         1\n",
            "        1733       0.00      0.00      0.00         2\n",
            "        1736       0.00      0.00      0.00         1\n",
            "        1737       0.00      0.00      0.00         0\n",
            "        1738       0.00      0.00      0.00         1\n",
            "        1739       0.00      0.00      0.00         1\n",
            "        1743       0.00      0.00      0.00         1\n",
            "        1744       0.00      0.00      0.00         1\n",
            "        1745       0.00      0.00      0.00         1\n",
            "        1746       0.00      0.00      0.00         1\n",
            "        1748       0.00      0.00      0.00         0\n",
            "        1749       0.00      0.00      0.00         3\n",
            "        1750       0.00      0.00      0.00         1\n",
            "        1752       0.00      0.00      0.00         0\n",
            "        1754       0.00      0.00      0.00         1\n",
            "        1755       0.00      0.00      0.00         2\n",
            "        1756       0.00      0.00      0.00         0\n",
            "        1759       0.00      0.00      0.00         0\n",
            "        1760       0.00      0.00      0.00         1\n",
            "        1761       0.00      0.00      0.00         0\n",
            "        1762       0.00      0.00      0.00         1\n",
            "        1763       0.00      0.00      0.00         1\n",
            "        1764       0.00      0.00      0.00         1\n",
            "        1766       0.00      0.00      0.00         1\n",
            "        1767       0.00      0.00      0.00         1\n",
            "        1768       0.00      0.00      0.00         1\n",
            "        1769       0.00      0.00      0.00         2\n",
            "        1774       0.00      0.00      0.00         1\n",
            "        1775       0.00      0.00      0.00         1\n",
            "        1776       0.00      0.00      0.00         1\n",
            "        1777       0.00      0.00      0.00         1\n",
            "        1779       0.00      0.00      0.00         1\n",
            "        1780       0.00      0.00      0.00         1\n",
            "        1781       0.00      0.00      0.00         3\n",
            "        1783       0.00      0.00      0.00         2\n",
            "        1784       0.00      0.00      0.00         2\n",
            "        1786       0.00      0.00      0.00         2\n",
            "        1789       0.00      0.00      0.00         1\n",
            "        1791       0.00      0.00      0.00         1\n",
            "        1792       0.00      0.00      0.00         1\n",
            "        1793       0.00      0.00      0.00         2\n",
            "        1794       0.00      0.00      0.00         0\n",
            "        1796       0.00      0.00      0.00         1\n",
            "        1801       0.00      0.00      0.00         1\n",
            "        1802       0.00      0.00      0.00         1\n",
            "        1803       0.00      0.00      0.00         1\n",
            "        1804       0.00      0.00      0.00         1\n",
            "        1805       0.00      0.00      0.00         1\n",
            "        1806       0.00      0.00      0.00         2\n",
            "        1807       0.00      0.00      0.00         1\n",
            "        1808       0.00      0.00      0.00         1\n",
            "        1809       0.00      0.00      0.00         2\n",
            "        1810       0.00      0.00      0.00         1\n",
            "        1811       0.00      0.00      0.00         0\n",
            "        1812       0.00      0.00      0.00         1\n",
            "        1813       0.00      0.00      0.00         1\n",
            "        1814       0.00      0.00      0.00         2\n",
            "        1815       0.00      0.00      0.00         1\n",
            "        1817       0.00      0.00      0.00         1\n",
            "        1818       0.00      0.00      0.00         1\n",
            "        1819       0.00      0.00      0.00         1\n",
            "        1820       0.00      0.00      0.00         0\n",
            "        1823       0.00      0.00      0.00         1\n",
            "        1824       0.00      0.00      0.00         0\n",
            "        1825       0.00      0.00      0.00         1\n",
            "        1826       0.00      0.00      0.00         2\n",
            "        1827       0.00      0.00      0.00         1\n",
            "        1828       0.00      0.00      0.00         1\n",
            "        1830       0.00      0.00      0.00         2\n",
            "        1834       0.00      0.00      0.00         1\n",
            "        1835       0.00      0.00      0.00         1\n",
            "        1837       0.00      0.00      0.00         2\n",
            "        1838       0.00      0.00      0.00         1\n",
            "        1839       0.00      0.00      0.00         1\n",
            "        1840       0.00      0.00      0.00         1\n",
            "        1841       0.00      0.00      0.00         1\n",
            "        1842       0.00      0.00      0.00         2\n",
            "        1844       0.00      0.00      0.00         1\n",
            "        1845       0.00      0.00      0.00         1\n",
            "        1846       0.00      0.00      0.00         2\n",
            "        1848       0.00      0.00      0.00         1\n",
            "        1849       0.00      0.00      0.00         0\n",
            "        1850       0.00      0.00      0.00         0\n",
            "        1851       0.00      0.00      0.00         2\n",
            "        1854       0.00      0.00      0.00         2\n",
            "        1855       0.00      0.00      0.00         1\n",
            "        1856       0.00      0.00      0.00         1\n",
            "        1857       0.00      0.00      0.00         1\n",
            "        1859       0.00      0.00      0.00         0\n",
            "        1862       0.00      0.00      0.00         1\n",
            "        1866       0.00      0.00      0.00         2\n",
            "        1867       0.00      0.00      0.00         1\n",
            "        1869       0.00      0.00      0.00         1\n",
            "        1870       0.00      0.00      0.00         1\n",
            "        1872       0.00      0.00      0.00         1\n",
            "        1874       0.00      0.00      0.00         0\n",
            "        1876       0.00      0.00      0.00         2\n",
            "        1877       0.00      0.00      0.00         2\n",
            "        1879       0.00      0.00      0.00         1\n",
            "        1880       0.00      0.00      0.00         1\n",
            "        1881       0.00      0.00      0.00         1\n",
            "        1883       0.00      0.00      0.00         0\n",
            "        1884       0.00      0.00      0.00         1\n",
            "        1886       0.00      0.00      0.00         3\n",
            "        1887       0.00      0.00      0.00         2\n",
            "        1889       0.00      0.00      0.00         2\n",
            "        1890       0.00      0.00      0.00         2\n",
            "        1891       0.00      0.00      0.00         1\n",
            "        1892       0.00      0.00      0.00         1\n",
            "        1895       0.00      0.00      0.00         1\n",
            "        1898       0.00      0.00      0.00         0\n",
            "        1899       0.00      0.00      0.00         1\n",
            "        1901       0.00      0.00      0.00         2\n",
            "        1903       0.00      0.00      0.00         0\n",
            "        1904       0.00      0.00      0.00         2\n",
            "        1905       0.00      0.00      0.00         0\n",
            "        1906       0.00      0.00      0.00         3\n",
            "        1908       0.00      0.00      0.00         0\n",
            "        1909       0.00      0.00      0.00         1\n",
            "        1910       0.00      0.00      0.00         1\n",
            "        1911       0.00      0.00      0.00         1\n",
            "        1912       0.00      0.00      0.00         2\n",
            "        1914       0.00      0.00      0.00         1\n",
            "        1916       0.00      0.00      0.00         0\n",
            "        1917       0.00      0.00      0.00         1\n",
            "        1918       0.00      0.00      0.00         3\n",
            "        1919       0.00      0.00      0.00         3\n",
            "        1920       0.00      0.00      0.00         0\n",
            "        1921       0.00      0.00      0.00         2\n",
            "        1922       0.00      0.00      0.00         1\n",
            "        1923       0.00      0.00      0.00         1\n",
            "        1924       0.00      0.00      0.00         2\n",
            "        1927       0.00      0.00      0.00         0\n",
            "        1928       0.00      0.00      0.00         2\n",
            "        1929       0.00      0.00      0.00         2\n",
            "        1931       0.00      0.00      0.00         1\n",
            "        1932       0.00      0.00      0.00         0\n",
            "        1934       0.00      0.00      0.00         1\n",
            "        1936       0.00      0.00      0.00         0\n",
            "        1937       0.00      0.00      0.00         4\n",
            "        1939       0.00      0.00      0.00         1\n",
            "        1940       0.00      0.00      0.00         2\n",
            "        1943       0.00      0.00      0.00         1\n",
            "        1945       0.00      0.00      0.00         2\n",
            "        1946       0.00      0.00      0.00         1\n",
            "        1947       0.00      0.00      0.00         2\n",
            "        1948       0.00      0.00      0.00         6\n",
            "        1949       0.00      0.00      0.00         0\n",
            "        1950       0.00      0.00      0.00         1\n",
            "        1952       0.00      0.00      0.00         2\n",
            "        1955       0.00      0.00      0.00         1\n",
            "        1956       0.00      0.00      0.00         1\n",
            "        1957       0.00      0.00      0.00         0\n",
            "        1960       0.00      0.00      0.00         0\n",
            "        1961       0.00      0.00      0.00         2\n",
            "        1962       0.00      0.00      0.00         1\n",
            "        1965       0.00      0.00      0.00         1\n",
            "        1966       0.00      0.00      0.00         1\n",
            "        1967       0.00      0.00      0.00         1\n",
            "        1968       0.00      0.00      0.00         1\n",
            "        1969       0.00      0.00      0.00         1\n",
            "        1970       0.00      0.00      0.00         1\n",
            "        1971       0.00      0.00      0.00         1\n",
            "        1972       0.00      0.00      0.00         1\n",
            "        1973       0.00      0.00      0.00         2\n",
            "        1974       0.00      0.00      0.00         1\n",
            "        1975       0.00      0.00      0.00         1\n",
            "        1976       0.00      0.00      0.00         2\n",
            "        1977       0.00      0.00      0.00         1\n",
            "        1979       0.00      0.00      0.00         1\n",
            "        1980       0.00      0.00      0.00         1\n",
            "        1982       0.00      0.00      0.00         3\n",
            "        1983       0.00      0.00      0.00         1\n",
            "        1985       0.00      0.00      0.00         1\n",
            "        1986       0.00      0.00      0.00         0\n",
            "        1990       0.00      0.00      0.00         2\n",
            "        1991       0.00      0.00      0.00         2\n",
            "        1992       0.00      0.00      0.00         0\n",
            "        1993       0.00      0.00      0.00         0\n",
            "        1994       0.00      0.00      0.00         2\n",
            "        1995       0.00      0.00      0.00         1\n",
            "        1996       0.00      0.00      0.00         1\n",
            "        1997       0.00      0.00      0.00         1\n",
            "        1998       0.00      0.00      0.00         0\n",
            "        2000       0.00      0.00      0.00         0\n",
            "        2001       0.00      0.00      0.00         3\n",
            "        2003       0.00      0.00      0.00         1\n",
            "        2004       0.00      0.00      0.00         1\n",
            "        2005       0.00      0.00      0.00         1\n",
            "        2010       0.00      0.00      0.00         1\n",
            "        2011       0.00      0.00      0.00         1\n",
            "        2012       0.00      0.00      0.00         1\n",
            "        2013       0.00      0.00      0.00         2\n",
            "        2014       0.00      0.00      0.00         2\n",
            "        2015       0.00      0.00      0.00         1\n",
            "        2016       0.00      0.00      0.00         1\n",
            "        2018       0.00      0.00      0.00         2\n",
            "        2020       0.00      0.00      0.00         2\n",
            "        2021       0.00      0.00      0.00         2\n",
            "        2022       0.00      0.00      0.00         0\n",
            "        2023       0.00      0.00      0.00         1\n",
            "        2024       0.00      0.00      0.00         1\n",
            "        2027       0.00      0.00      0.00         0\n",
            "        2028       0.00      0.00      0.00         1\n",
            "        2029       0.00      0.00      0.00         1\n",
            "        2030       0.00      0.00      0.00         1\n",
            "        2031       0.00      0.00      0.00         1\n",
            "        2033       0.00      0.00      0.00         1\n",
            "        2034       0.00      0.00      0.00         1\n",
            "        2035       0.00      0.00      0.00         1\n",
            "        2036       0.00      0.00      0.00         1\n",
            "        2037       0.00      0.00      0.00         1\n",
            "        2039       0.00      0.00      0.00         1\n",
            "        2041       0.00      0.00      0.00         1\n",
            "        2042       0.00      0.00      0.00         1\n",
            "        2044       0.00      0.00      0.00         1\n",
            "        2047       0.00      0.00      0.00         1\n",
            "        2048       0.00      0.00      0.00         2\n",
            "        2049       0.00      0.00      0.00         1\n",
            "        2050       0.00      0.00      0.00         1\n",
            "        2052       0.00      0.00      0.00         1\n",
            "        2054       0.00      0.00      0.00         1\n",
            "        2055       0.00      0.00      0.00         1\n",
            "        2056       0.00      0.00      0.00         3\n",
            "        2057       0.00      0.00      0.00         1\n",
            "        2059       0.00      0.00      0.00         1\n",
            "        2061       0.00      0.00      0.00         2\n",
            "        2063       0.00      0.00      0.00         0\n",
            "        2064       0.00      0.00      0.00         3\n",
            "        2067       0.00      0.00      0.00         1\n",
            "        2068       0.00      0.00      0.00         1\n",
            "        2070       0.00      0.00      0.00         1\n",
            "        2072       0.00      0.00      0.00         0\n",
            "        2074       0.00      0.00      0.00         1\n",
            "        2076       0.00      0.00      0.00         1\n",
            "        2079       0.00      0.00      0.00         1\n",
            "        2080       0.00      0.00      0.00         1\n",
            "        2081       0.00      0.00      0.00         2\n",
            "        2082       0.00      0.00      0.00         0\n",
            "        2083       0.00      0.00      0.00         1\n",
            "        2084       0.00      0.00      0.00         1\n",
            "        2085       0.00      0.00      0.00         0\n",
            "        2087       0.00      0.00      0.00         2\n",
            "        2089       0.00      0.00      0.00         1\n",
            "        2090       0.00      0.00      0.00         1\n",
            "        2092       0.00      0.00      0.00         0\n",
            "        2094       0.00      0.00      0.00         1\n",
            "        2095       0.00      0.00      0.00         1\n",
            "        2096       0.00      0.00      0.00         0\n",
            "        2098       0.00      0.00      0.00         1\n",
            "        2099       0.00      0.00      0.00         1\n",
            "        2100       0.00      0.00      0.00         2\n",
            "        2101       0.00      0.00      0.00         1\n",
            "        2102       0.00      0.00      0.00         1\n",
            "        2103       0.00      0.00      0.00         2\n",
            "        2104       0.00      0.00      0.00         1\n",
            "        2105       0.00      0.00      0.00         2\n",
            "        2110       0.00      0.00      0.00         1\n",
            "        2111       0.00      0.00      0.00         1\n",
            "        2112       0.00      0.00      0.00         0\n",
            "        2113       0.00      0.00      0.00         1\n",
            "        2114       0.00      0.00      0.00         1\n",
            "        2115       0.00      0.00      0.00         2\n",
            "        2118       0.00      0.00      0.00         0\n",
            "        2119       0.00      0.00      0.00         1\n",
            "        2122       0.00      0.00      0.00         0\n",
            "        2123       0.00      0.00      0.00         2\n",
            "        2126       0.00      0.00      0.00         2\n",
            "        2127       0.00      0.00      0.00         1\n",
            "        2128       0.00      0.00      0.00         1\n",
            "        2129       0.00      0.00      0.00         1\n",
            "        2131       0.00      0.00      0.00         1\n",
            "        2134       0.00      0.00      0.00         1\n",
            "        2135       0.00      0.00      0.00         1\n",
            "        2136       0.00      0.00      0.00         1\n",
            "        2138       0.00      0.00      0.00         4\n",
            "        2140       0.00      0.00      0.00         1\n",
            "        2142       0.00      0.00      0.00         1\n",
            "        2143       0.00      0.00      0.00         0\n",
            "        2144       0.00      0.00      0.00         1\n",
            "        2145       0.00      0.00      0.00         1\n",
            "        2147       0.00      0.00      0.00         2\n",
            "        2148       0.00      0.00      0.00         2\n",
            "        2149       0.00      0.00      0.00         0\n",
            "        2150       0.00      0.00      0.00         1\n",
            "        2153       0.00      0.00      0.00         2\n",
            "        2156       0.00      0.00      0.00         0\n",
            "        2159       0.00      0.00      0.00         1\n",
            "        2160       0.00      0.00      0.00         1\n",
            "        2166       0.00      0.00      0.00         1\n",
            "        2167       0.00      0.00      0.00         0\n",
            "        2169       0.00      0.00      0.00         1\n",
            "        2170       0.00      0.00      0.00         1\n",
            "        2171       0.00      0.00      0.00         1\n",
            "        2174       0.00      0.00      0.00         1\n",
            "        2176       0.00      0.00      0.00         0\n",
            "        2177       0.00      0.00      0.00         1\n",
            "        2178       0.00      0.00      0.00         3\n",
            "        2180       0.00      0.00      0.00         1\n",
            "        2182       0.00      0.00      0.00         1\n",
            "        2184       0.00      0.00      0.00         0\n",
            "        2186       0.00      0.00      0.00         1\n",
            "        2187       0.00      0.00      0.00         1\n",
            "        2188       0.00      0.00      0.00         1\n",
            "        2189       0.00      0.00      0.00         2\n",
            "        2190       0.00      0.00      0.00         1\n",
            "        2191       0.00      0.00      0.00         1\n",
            "        2192       0.00      0.00      0.00         1\n",
            "        2193       0.00      0.00      0.00         1\n",
            "        2194       0.00      0.00      0.00         1\n",
            "        2196       0.00      0.00      0.00         1\n",
            "        2197       0.00      0.00      0.00         0\n",
            "        2198       0.00      0.00      0.00         1\n",
            "        2199       0.00      0.00      0.00         1\n",
            "        2203       0.00      0.00      0.00         2\n",
            "        2204       0.00      0.00      0.00         1\n",
            "        2205       0.00      0.00      0.00         1\n",
            "        2208       0.00      0.00      0.00         1\n",
            "        2209       0.00      0.00      0.00         3\n",
            "        2210       0.00      0.00      0.00         2\n",
            "        2211       0.00      0.00      0.00         1\n",
            "        2212       0.00      0.00      0.00         0\n",
            "        2214       0.00      0.00      0.00         1\n",
            "        2216       0.00      0.00      0.00         1\n",
            "        2219       0.00      0.00      0.00         1\n",
            "        2221       0.00      0.00      0.00         0\n",
            "        2224       0.00      0.00      0.00         3\n",
            "        2225       0.00      0.00      0.00         1\n",
            "        2226       0.00      0.00      0.00         2\n",
            "        2229       0.00      0.00      0.00         1\n",
            "        2230       0.00      0.00      0.00         0\n",
            "        2233       0.00      0.00      0.00         2\n",
            "        2236       0.00      0.00      0.00         0\n",
            "        2241       0.00      0.00      0.00         1\n",
            "        2243       0.00      0.00      0.00         2\n",
            "        2245       0.00      0.00      0.00         1\n",
            "        2247       0.00      0.00      0.00         2\n",
            "        2248       0.00      0.00      0.00         1\n",
            "        2251       0.00      0.00      0.00         1\n",
            "        2252       0.00      0.00      0.00         0\n",
            "        2253       0.00      0.00      0.00         1\n",
            "        2254       0.00      0.00      0.00         1\n",
            "        2256       0.00      0.00      0.00         1\n",
            "        2257       0.00      0.00      0.00         1\n",
            "        2258       0.00      0.00      0.00         0\n",
            "        2263       0.00      0.00      0.00         0\n",
            "        2264       0.00      0.00      0.00         1\n",
            "        2265       0.00      0.00      0.00         2\n",
            "        2266       0.00      0.00      0.00         1\n",
            "        2268       0.00      0.00      0.00         3\n",
            "        2270       0.00      0.00      0.00         2\n",
            "        2271       0.00      0.00      0.00         1\n",
            "        2274       0.00      0.00      0.00         1\n",
            "        2280       0.00      0.00      0.00         0\n",
            "        2282       0.00      0.00      0.00         1\n",
            "        2285       0.00      0.00      0.00         1\n",
            "        2286       0.00      0.00      0.00         0\n",
            "        2287       0.00      0.00      0.00         2\n",
            "        2289       0.00      0.00      0.00         1\n",
            "        2291       0.00      0.00      0.00         1\n",
            "        2298       0.00      0.00      0.00         1\n",
            "        2300       0.00      0.00      0.00         2\n",
            "        2302       0.00      0.00      0.00         3\n",
            "        2305       0.00      0.00      0.00         1\n",
            "        2306       0.00      0.00      0.00         1\n",
            "        2308       0.00      0.00      0.00         1\n",
            "        2311       0.00      0.00      0.00         1\n",
            "        2312       0.00      0.00      0.00         1\n",
            "        2313       0.00      0.00      0.00         1\n",
            "        2314       0.00      0.00      0.00         0\n",
            "        2315       0.00      0.00      0.00         2\n",
            "        2316       0.00      0.00      0.00         1\n",
            "        2317       0.00      0.00      0.00         1\n",
            "        2318       0.00      0.00      0.00         1\n",
            "        2320       0.00      0.00      0.00         1\n",
            "        2321       0.00      0.00      0.00         1\n",
            "        2322       0.00      0.00      0.00         0\n",
            "        2326       0.00      0.00      0.00         1\n",
            "        2329       0.00      0.00      0.00         1\n",
            "        2333       0.00      0.00      0.00         1\n",
            "        2334       0.00      0.00      0.00         1\n",
            "        2335       0.00      0.00      0.00         1\n",
            "        2336       0.00      0.00      0.00         2\n",
            "        2339       0.00      0.00      0.00         1\n",
            "        2340       0.00      0.00      0.00         1\n",
            "        2343       0.00      0.00      0.00         1\n",
            "        2344       0.00      0.00      0.00         1\n",
            "        2345       0.00      0.00      0.00         1\n",
            "        2346       0.00      0.00      0.00         1\n",
            "        2349       0.00      0.00      0.00         1\n",
            "        2350       0.00      0.00      0.00         1\n",
            "        2353       0.00      0.00      0.00         1\n",
            "        2354       0.00      0.00      0.00         2\n",
            "        2355       0.00      0.00      0.00         1\n",
            "        2357       0.00      0.00      0.00         1\n",
            "        2358       0.00      0.00      0.00         0\n",
            "        2360       0.00      0.00      0.00         0\n",
            "        2361       0.00      0.00      0.00         1\n",
            "        2363       0.00      0.00      0.00         4\n",
            "        2366       0.00      0.00      0.00         1\n",
            "        2367       0.00      0.00      0.00         1\n",
            "        2369       0.00      0.00      0.00         1\n",
            "        2370       0.00      0.00      0.00         0\n",
            "        2371       0.00      0.00      0.00         0\n",
            "        2372       0.00      0.00      0.00         1\n",
            "        2375       0.00      0.00      0.00         2\n",
            "        2377       0.00      0.00      0.00         1\n",
            "        2378       0.00      0.00      0.00         0\n",
            "        2381       0.00      0.00      0.00         1\n",
            "        2382       0.00      0.00      0.00         0\n",
            "        2384       0.00      0.00      0.00         0\n",
            "        2386       0.00      0.00      0.00         1\n",
            "        2388       0.00      0.00      0.00         1\n",
            "        2393       0.00      0.00      0.00         4\n",
            "        2394       0.00      0.00      0.00         1\n",
            "        2396       0.00      0.00      0.00         1\n",
            "        2398       0.00      0.00      0.00         1\n",
            "        2400       0.00      0.00      0.00         0\n",
            "        2401       0.00      0.00      0.00         1\n",
            "        2403       0.00      0.00      0.00         0\n",
            "        2405       0.00      0.00      0.00         0\n",
            "        2410       0.00      0.00      0.00         1\n",
            "        2412       0.00      0.00      0.00         1\n",
            "        2416       0.00      0.00      0.00         1\n",
            "        2418       0.00      0.00      0.00         1\n",
            "        2419       0.00      0.00      0.00         2\n",
            "        2421       0.00      0.00      0.00         0\n",
            "        2425       0.00      0.00      0.00         1\n",
            "        2426       0.00      0.00      0.00         0\n",
            "        2427       0.00      0.00      0.00         0\n",
            "        2428       0.00      0.00      0.00         1\n",
            "        2429       0.00      0.00      0.00         1\n",
            "        2431       0.00      0.00      0.00         1\n",
            "        2432       0.00      0.00      0.00         0\n",
            "        2433       0.00      0.00      0.00         2\n",
            "        2434       0.00      0.00      0.00         1\n",
            "        2437       0.00      0.00      0.00         1\n",
            "        2441       0.00      0.00      0.00         1\n",
            "        2448       0.00      0.00      0.00         3\n",
            "        2451       0.00      0.00      0.00         3\n",
            "        2453       0.00      0.00      0.00         2\n",
            "        2454       0.00      0.00      0.00         1\n",
            "        2458       0.00      0.00      0.00         1\n",
            "        2459       0.00      0.00      0.00         1\n",
            "        2460       0.00      0.00      0.00         2\n",
            "        2462       0.00      0.00      0.00         0\n",
            "        2463       0.00      0.00      0.00         0\n",
            "        2466       0.00      0.00      0.00         0\n",
            "        2467       0.00      0.00      0.00         1\n",
            "        2471       0.00      0.00      0.00         0\n",
            "        2474       0.00      0.00      0.00         1\n",
            "        2476       0.00      0.00      0.00         1\n",
            "        2478       0.00      0.00      0.00         1\n",
            "        2479       0.00      0.00      0.00         0\n",
            "        2481       0.00      0.00      0.00         1\n",
            "        2483       0.00      0.00      0.00         0\n",
            "        2485       0.00      0.00      0.00         1\n",
            "        2486       0.00      0.00      0.00         1\n",
            "        2487       0.00      0.00      0.00         1\n",
            "        2488       0.00      0.00      0.00         0\n",
            "        2492       0.00      0.00      0.00         0\n",
            "        2498       0.00      0.00      0.00         1\n",
            "        2501       0.00      0.00      0.00         0\n",
            "        2502       0.00      0.00      0.00         0\n",
            "        2510       0.00      0.00      0.00         1\n",
            "        2511       0.00      0.00      0.00         1\n",
            "        2515       0.00      0.00      0.00         1\n",
            "        2516       0.00      0.00      0.00         0\n",
            "        2517       0.00      0.00      0.00         0\n",
            "        2519       0.00      0.00      0.00         1\n",
            "        2520       0.00      0.00      0.00         1\n",
            "        2522       0.00      0.00      0.00         1\n",
            "        2523       0.00      0.00      0.00         1\n",
            "        2526       0.00      0.00      0.00         0\n",
            "        2529       0.00      0.00      0.00         3\n",
            "        2531       0.00      0.00      0.00         1\n",
            "        2532       0.00      0.00      0.00         0\n",
            "        2534       0.00      0.00      0.00         3\n",
            "        2536       0.00      0.00      0.00         0\n",
            "        2541       0.00      0.00      0.00         1\n",
            "        2542       0.00      0.00      0.00         1\n",
            "        2543       0.00      0.00      0.00         1\n",
            "        2544       0.00      0.00      0.00         1\n",
            "        2546       0.00      0.00      0.00         1\n",
            "        2547       0.00      0.00      0.00         1\n",
            "        2555       0.00      0.00      0.00         1\n",
            "        2556       0.00      0.00      0.00         1\n",
            "        2557       0.00      0.00      0.00         1\n",
            "        2558       0.00      0.00      0.00         0\n",
            "        2560       0.00      0.00      0.00         1\n",
            "        2561       0.00      0.00      0.00         0\n",
            "        2562       0.00      0.00      0.00         1\n",
            "        2563       0.00      0.00      0.00         1\n",
            "        2565       0.00      0.00      0.00         1\n",
            "        2566       0.00      0.00      0.00         0\n",
            "        2569       0.00      0.00      0.00         0\n",
            "        2572       0.00      0.00      0.00         0\n",
            "        2573       0.00      0.00      0.00         1\n",
            "        2579       0.00      0.00      0.00         0\n",
            "        2581       0.00      0.00      0.00         1\n",
            "        2583       0.00      0.00      0.00         2\n",
            "        2584       0.00      0.00      0.00         2\n",
            "        2588       0.00      0.00      0.00         0\n",
            "        2589       0.00      0.00      0.00         0\n",
            "        2591       0.00      0.00      0.00         0\n",
            "        2594       0.00      0.00      0.00         0\n",
            "        2595       0.00      0.00      0.00         1\n",
            "        2598       0.00      0.00      0.00         1\n",
            "        2602       0.00      0.00      0.00         1\n",
            "        2603       0.00      0.00      0.00         0\n",
            "        2604       0.00      0.00      0.00         1\n",
            "        2607       0.00      0.00      0.00         4\n",
            "        2608       0.00      0.00      0.00         1\n",
            "        2614       0.00      0.00      0.00         0\n",
            "        2615       0.00      0.00      0.00         0\n",
            "        2618       0.00      0.00      0.00         1\n",
            "        2620       0.00      0.00      0.00         1\n",
            "        2621       0.00      0.00      0.00         0\n",
            "        2622       0.00      0.00      0.00         1\n",
            "        2624       0.00      0.00      0.00         0\n",
            "        2626       0.00      0.00      0.00         1\n",
            "        2628       0.00      0.00      0.00         1\n",
            "        2629       0.00      0.00      0.00         1\n",
            "        2630       0.00      0.00      0.00         0\n",
            "        2634       0.00      0.00      0.00         1\n",
            "        2635       0.00      0.00      0.00         1\n",
            "        2637       0.00      0.00      0.00         2\n",
            "        2638       0.00      0.00      0.00         0\n",
            "        2640       0.00      0.00      0.00         0\n",
            "        2641       0.00      0.00      0.00         1\n",
            "        2643       0.00      0.00      0.00         1\n",
            "        2647       0.00      0.00      0.00         1\n",
            "        2648       0.00      0.00      0.00         2\n",
            "        2650       0.00      0.00      0.00         1\n",
            "        2651       0.00      0.00      0.00         1\n",
            "        2653       0.00      0.00      0.00         1\n",
            "        2655       0.00      0.00      0.00         1\n",
            "        2656       0.00      0.00      0.00         1\n",
            "        2660       0.00      0.00      0.00         1\n",
            "        2662       0.00      0.00      0.00         1\n",
            "        2668       0.00      0.00      0.00         2\n",
            "        2669       0.00      0.00      0.00         2\n",
            "        2671       0.00      0.00      0.00         0\n",
            "        2672       0.00      0.00      0.00         2\n",
            "        2673       0.00      0.00      0.00         1\n",
            "        2675       0.00      0.00      0.00         0\n",
            "        2676       0.00      0.00      0.00         1\n",
            "        2677       0.00      0.00      0.00         1\n",
            "        2679       0.00      0.00      0.00         0\n",
            "        2682       0.00      0.00      0.00         2\n",
            "        2683       0.00      0.00      0.00         0\n",
            "        2686       0.00      0.00      0.00         1\n",
            "        2689       0.00      0.00      0.00         2\n",
            "        2690       0.00      0.00      0.00         1\n",
            "        2691       0.00      0.00      0.00         1\n",
            "        2692       0.00      0.00      0.00         0\n",
            "        2694       0.00      0.00      0.00         1\n",
            "        2696       0.00      0.00      0.00         1\n",
            "        2697       0.00      0.00      0.00         0\n",
            "        2700       0.00      0.00      0.00         1\n",
            "        2705       0.00      0.00      0.00         1\n",
            "        2710       0.00      0.00      0.00         2\n",
            "        2711       0.00      0.00      0.00         2\n",
            "        2713       0.00      0.00      0.00         1\n",
            "        2714       0.00      0.00      0.00         1\n",
            "        2715       0.00      0.00      0.00         1\n",
            "        2717       0.00      0.00      0.00         1\n",
            "        2720       0.00      0.00      0.00         2\n",
            "        2723       0.00      0.00      0.00         1\n",
            "        2724       0.00      0.00      0.00         1\n",
            "        2725       0.00      0.00      0.00         1\n",
            "        2729       0.00      0.00      0.00         0\n",
            "        2730       0.00      0.00      0.00         2\n",
            "        2731       0.00      0.00      0.00         0\n",
            "        2732       0.00      0.00      0.00         1\n",
            "        2734       0.00      0.00      0.00         0\n",
            "        2740       0.00      0.00      0.00         2\n",
            "        2741       0.00      0.00      0.00         0\n",
            "        2742       0.00      0.00      0.00         1\n",
            "        2744       0.00      0.00      0.00         0\n",
            "        2751       0.00      0.00      0.00         0\n",
            "        2753       0.00      0.00      0.00         0\n",
            "        2754       0.00      0.00      0.00         2\n",
            "        2755       0.00      0.00      0.00         1\n",
            "        2756       0.00      0.00      0.00         0\n",
            "        2757       0.00      0.00      0.00         1\n",
            "        2759       0.00      0.00      0.00         2\n",
            "        2760       0.00      0.00      0.00         1\n",
            "        2761       0.00      0.00      0.00         0\n",
            "        2762       0.00      0.00      0.00         1\n",
            "        2764       0.00      0.00      0.00         0\n",
            "        2765       0.00      0.00      0.00         1\n",
            "        2766       0.00      0.00      0.00         1\n",
            "        2768       0.00      0.00      0.00         1\n",
            "        2769       0.00      0.00      0.00         1\n",
            "        2770       0.00      0.00      0.00         1\n",
            "        2773       0.00      0.00      0.00         1\n",
            "        2774       0.00      0.00      0.00         1\n",
            "        2775       0.00      0.00      0.00         1\n",
            "        2776       0.00      0.00      0.00         1\n",
            "        2778       0.00      0.00      0.00         0\n",
            "        2782       0.00      0.00      0.00         1\n",
            "        2783       0.00      0.00      0.00         2\n",
            "        2786       0.00      0.00      0.00         1\n",
            "        2788       0.00      0.00      0.00         0\n",
            "        2789       0.00      0.00      0.00         1\n",
            "        2792       0.00      0.00      0.00         1\n",
            "        2796       0.00      0.00      0.00         0\n",
            "        2797       0.00      0.00      0.00         1\n",
            "        2806       0.00      0.00      0.00         0\n",
            "        2807       0.00      0.00      0.00         0\n",
            "        2808       0.00      0.00      0.00         1\n",
            "        2811       0.00      0.00      0.00         1\n",
            "        2814       0.00      0.00      0.00         1\n",
            "        2816       0.00      0.00      0.00         1\n",
            "        2817       0.00      0.00      0.00         1\n",
            "        2820       0.00      0.00      0.00         0\n",
            "        2823       0.00      0.00      0.00         2\n",
            "        2830       0.00      0.00      0.00         0\n",
            "        2835       0.00      0.00      0.00         1\n",
            "        2837       0.00      0.00      0.00         1\n",
            "        2838       0.00      0.00      0.00         1\n",
            "        2840       0.00      0.00      0.00         1\n",
            "        2841       0.00      0.00      0.00         0\n",
            "        2844       0.00      0.00      0.00         1\n",
            "        2846       0.00      0.00      0.00         1\n",
            "        2847       0.00      0.00      0.00         1\n",
            "        2849       0.00      0.00      0.00         1\n",
            "        2850       0.00      0.00      0.00         0\n",
            "        2852       0.00      0.00      0.00         1\n",
            "        2854       0.00      0.00      0.00         0\n",
            "        2857       0.00      0.00      0.00         1\n",
            "        2859       0.00      0.00      0.00         2\n",
            "        2864       0.00      0.00      0.00         0\n",
            "        2865       0.00      0.00      0.00         1\n",
            "        2868       0.00      0.00      0.00         1\n",
            "        2870       0.00      0.00      0.00         1\n",
            "        2872       0.00      0.00      0.00         1\n",
            "        2874       0.00      0.00      0.00         1\n",
            "        2875       0.00      0.00      0.00         1\n",
            "        2880       0.00      0.00      0.00         0\n",
            "        2882       0.00      0.00      0.00         1\n",
            "        2883       0.00      0.00      0.00         1\n",
            "        2888       0.00      0.00      0.00         0\n",
            "        2889       0.00      0.00      0.00         2\n",
            "        2892       0.00      0.00      0.00         1\n",
            "        2893       0.00      0.00      0.00         1\n",
            "        2894       0.00      0.00      0.00         1\n",
            "        2898       0.00      0.00      0.00         4\n",
            "        2899       0.00      0.00      0.00         1\n",
            "        2900       0.00      0.00      0.00         1\n",
            "        2902       0.00      0.00      0.00         2\n",
            "        2904       0.00      0.00      0.00         0\n",
            "        2905       0.00      0.00      0.00         1\n",
            "        2906       0.00      0.00      0.00         4\n",
            "        2907       0.00      0.00      0.00         1\n",
            "        2908       0.00      0.00      0.00         2\n",
            "        2910       0.00      0.00      0.00         2\n",
            "        2912       0.00      0.00      0.00         0\n",
            "        2917       0.00      0.00      0.00         0\n",
            "        2920       0.00      0.00      0.00         1\n",
            "        2923       0.00      0.00      0.00         5\n",
            "        2924       0.00      0.00      0.00         1\n",
            "        2925       0.00      0.00      0.00         1\n",
            "        2926       0.00      0.00      0.00         1\n",
            "        2929       0.00      0.00      0.00         1\n",
            "        2932       0.00      0.00      0.00         1\n",
            "        2935       0.00      0.00      0.00         1\n",
            "        2936       0.00      0.00      0.00         2\n",
            "        2940       0.00      0.00      0.00         2\n",
            "        2941       0.00      0.00      0.00         0\n",
            "        2944       0.00      0.00      0.00         1\n",
            "        2945       0.00      0.00      0.00         1\n",
            "        2947       0.00      0.00      0.00         0\n",
            "        2948       0.00      0.00      0.00         1\n",
            "        2949       0.00      0.00      0.00         2\n",
            "        2951       0.00      0.00      0.00         0\n",
            "        2952       0.00      0.00      0.00         1\n",
            "        2955       0.00      0.00      0.00         1\n",
            "        2958       0.00      0.00      0.00         1\n",
            "        2961       0.00      0.00      0.00         1\n",
            "        2962       0.00      0.00      0.00         1\n",
            "        2963       0.00      0.00      0.00         1\n",
            "        2964       0.00      0.00      0.00         2\n",
            "        2965       0.00      0.00      0.00         0\n",
            "        2969       0.00      0.00      0.00         1\n",
            "        2977       0.00      0.00      0.00         0\n",
            "        2980       0.00      0.00      0.00         1\n",
            "        2982       0.00      0.00      0.00         3\n",
            "        2984       0.00      0.00      0.00         2\n",
            "        2985       0.00      0.00      0.00         0\n",
            "        2986       0.00      0.00      0.00         1\n",
            "        2991       0.00      0.00      0.00         2\n",
            "        2992       0.00      0.00      0.00         0\n",
            "        2996       0.00      0.00      0.00         2\n",
            "        2999       0.00      0.00      0.00         0\n",
            "        3005       0.00      0.00      0.00         0\n",
            "        3006       0.00      0.00      0.00         1\n",
            "        3011       0.00      0.00      0.00         1\n",
            "        3012       0.00      0.00      0.00         0\n",
            "        3016       0.00      0.00      0.00         2\n",
            "        3017       0.00      0.00      0.00         1\n",
            "        3019       0.00      0.00      0.00         0\n",
            "        3020       0.00      0.00      0.00         2\n",
            "        3021       0.00      0.00      0.00         1\n",
            "        3023       0.00      0.00      0.00         4\n",
            "        3024       0.00      0.00      0.00         2\n",
            "        3026       0.00      0.00      0.00         1\n",
            "        3027       0.00      0.00      0.00         1\n",
            "        3028       0.00      0.00      0.00         0\n",
            "        3032       0.00      0.00      0.00         0\n",
            "        3033       0.00      0.00      0.00         1\n",
            "        3034       0.00      0.00      0.00         1\n",
            "        3037       0.00      0.00      0.00         1\n",
            "        3040       0.00      0.00      0.00         0\n",
            "        3041       0.00      0.00      0.00         0\n",
            "        3042       0.00      0.00      0.00         2\n",
            "        3047       0.00      0.00      0.00         0\n",
            "        3054       0.00      0.00      0.00         1\n",
            "        3056       0.00      0.00      0.00         2\n",
            "        3057       0.00      0.00      0.00         1\n",
            "        3059       0.00      0.00      0.00         2\n",
            "        3060       0.00      0.00      0.00         1\n",
            "        3062       0.00      0.00      0.00         2\n",
            "        3064       0.00      0.00      0.00         1\n",
            "        3065       0.00      0.00      0.00         1\n",
            "        3066       0.00      0.00      0.00         1\n",
            "        3067       0.00      0.00      0.00         3\n",
            "        3069       0.00      0.00      0.00         0\n",
            "        3071       0.00      0.00      0.00         2\n",
            "        3075       0.00      0.00      0.00         1\n",
            "        3076       0.00      0.00      0.00         0\n",
            "        3081       0.00      0.00      0.00         1\n",
            "        3083       0.00      0.00      0.00         0\n",
            "        3084       0.00      0.00      0.00         1\n",
            "        3085       0.00      0.00      0.00         1\n",
            "        3089       0.00      0.00      0.00         1\n",
            "        3095       0.00      0.00      0.00         1\n",
            "        3097       0.00      0.00      0.00         0\n",
            "        3099       0.00      0.00      0.00         1\n",
            "        3101       0.00      0.00      0.00         1\n",
            "        3103       0.00      0.00      0.00         2\n",
            "        3110       0.00      0.00      0.00         1\n",
            "        3111       0.00      0.00      0.00         1\n",
            "        3112       0.00      0.00      0.00         1\n",
            "        3117       0.00      0.00      0.00         1\n",
            "        3118       0.00      0.00      0.00         1\n",
            "        3120       0.00      0.00      0.00         0\n",
            "        3126       0.00      0.00      0.00         1\n",
            "        3130       0.00      0.00      0.00         0\n",
            "        3138       0.00      0.00      0.00         1\n",
            "        3141       0.00      0.00      0.00         1\n",
            "        3144       0.00      0.00      0.00         2\n",
            "        3146       0.00      0.00      0.00         2\n",
            "        3147       0.00      0.00      0.00         2\n",
            "        3150       0.00      0.00      0.00         2\n",
            "        3151       0.00      0.00      0.00         1\n",
            "        3154       0.00      0.00      0.00         0\n",
            "        3155       0.00      0.00      0.00         1\n",
            "        3156       0.00      0.00      0.00         1\n",
            "        3162       0.00      0.00      0.00         0\n",
            "        3163       0.00      0.00      0.00         1\n",
            "        3164       0.00      0.00      0.00         1\n",
            "        3165       0.00      0.00      0.00         1\n",
            "        3166       0.00      0.00      0.00         0\n",
            "        3169       0.00      0.00      0.00         1\n",
            "        3171       0.00      0.00      0.00         1\n",
            "        3172       0.00      0.00      0.00         2\n",
            "        3174       0.00      0.00      0.00         1\n",
            "        3175       0.00      0.00      0.00         1\n",
            "        3182       0.00      0.00      0.00         1\n",
            "        3188       0.00      0.00      0.00         0\n",
            "        3189       0.00      0.00      0.00         1\n",
            "        3191       0.00      0.00      0.00         0\n",
            "        3192       0.00      0.00      0.00         1\n",
            "        3193       0.00      0.00      0.00         0\n",
            "        3196       0.00      0.00      0.00         1\n",
            "        3204       0.00      0.00      0.00         1\n",
            "        3207       0.00      0.00      0.00         1\n",
            "        3212       0.00      0.00      0.00         1\n",
            "        3215       0.00      0.00      0.00         0\n",
            "        3218       0.00      0.00      0.00         1\n",
            "        3222       0.00      0.00      0.00         1\n",
            "        3224       0.00      0.00      0.00         1\n",
            "        3228       0.00      0.00      0.00         1\n",
            "        3230       0.00      0.00      0.00         1\n",
            "        3231       0.00      0.00      0.00         0\n",
            "        3234       0.00      0.00      0.00         0\n",
            "        3238       0.00      0.00      0.00         2\n",
            "        3243       0.00      0.00      0.00         1\n",
            "        3245       0.00      0.00      0.00         1\n",
            "        3249       0.00      0.00      0.00         1\n",
            "        3250       0.00      0.00      0.00         2\n",
            "        3253       0.00      0.00      0.00         1\n",
            "        3257       0.00      0.00      0.00         1\n",
            "        3261       0.00      0.00      0.00         0\n",
            "        3262       0.00      0.00      0.00         1\n",
            "        3265       0.00      0.00      0.00         2\n",
            "        3268       0.00      0.00      0.00         1\n",
            "        3270       0.00      0.00      0.00         2\n",
            "        3274       0.00      0.00      0.00         0\n",
            "        3276       0.00      0.00      0.00         1\n",
            "        3277       0.00      0.00      0.00         0\n",
            "        3282       0.00      0.00      0.00         1\n",
            "        3287       0.00      0.00      0.00         1\n",
            "        3288       0.00      0.00      0.00         1\n",
            "        3289       0.00      0.00      0.00         1\n",
            "        3291       0.00      0.00      0.00         1\n",
            "        3292       0.00      0.00      0.00         1\n",
            "        3293       0.00      0.00      0.00         1\n",
            "        3296       0.00      0.00      0.00         0\n",
            "        3300       0.00      0.00      0.00         1\n",
            "        3303       0.00      0.00      0.00         1\n",
            "        3305       0.00      0.00      0.00         1\n",
            "        3306       0.00      0.00      0.00         0\n",
            "        3309       0.00      0.00      0.00         1\n",
            "        3310       0.00      0.00      0.00         2\n",
            "        3313       0.00      0.00      0.00         1\n",
            "        3315       0.00      0.00      0.00         0\n",
            "        3319       0.00      0.00      0.00         1\n",
            "        3321       0.00      0.00      0.00         0\n",
            "        3323       0.00      0.00      0.00         1\n",
            "        3325       0.00      0.00      0.00         1\n",
            "        3329       0.00      0.00      0.00         2\n",
            "        3332       0.00      0.00      0.00         1\n",
            "        3336       0.00      0.00      0.00         0\n",
            "        3341       0.00      0.00      0.00         0\n",
            "        3343       0.00      0.00      0.00         0\n",
            "        3346       0.00      0.00      0.00         0\n",
            "        3349       0.00      0.00      0.00         2\n",
            "        3350       0.00      0.00      0.00         0\n",
            "        3358       0.00      0.00      0.00         0\n",
            "        3365       0.00      0.00      0.00         1\n",
            "        3366       0.00      0.00      0.00         2\n",
            "        3367       0.00      0.00      0.00         2\n",
            "        3368       0.00      0.00      0.00         1\n",
            "        3369       0.00      0.00      0.00         0\n",
            "        3370       0.00      0.00      0.00         1\n",
            "        3371       0.00      0.00      0.00         0\n",
            "        3372       0.00      0.00      0.00         1\n",
            "        3376       0.00      0.00      0.00         2\n",
            "        3381       0.00      0.00      0.00         2\n",
            "        3386       0.00      0.00      0.00         1\n",
            "        3389       0.00      0.00      0.00         0\n",
            "        3391       0.00      0.00      0.00         0\n",
            "        3394       0.00      0.00      0.00         1\n",
            "        3395       0.00      0.00      0.00         1\n",
            "        3400       0.00      0.00      0.00         1\n",
            "        3402       0.00      0.00      0.00         2\n",
            "        3406       0.00      0.00      0.00         1\n",
            "        3407       0.00      0.00      0.00         2\n",
            "        3408       0.00      0.00      0.00         2\n",
            "        3409       0.00      0.00      0.00         2\n",
            "        3411       0.00      0.00      0.00         1\n",
            "        3415       0.00      0.00      0.00         1\n",
            "        3416       0.00      0.00      0.00         1\n",
            "        3417       0.00      0.00      0.00         1\n",
            "        3420       0.00      0.00      0.00         3\n",
            "        3426       0.00      0.00      0.00         1\n",
            "        3427       0.00      0.00      0.00         0\n",
            "        3429       0.00      0.00      0.00         1\n",
            "        3431       0.00      0.00      0.00         1\n",
            "        3432       0.00      0.00      0.00         1\n",
            "        3433       0.00      0.00      0.00         1\n",
            "        3436       0.00      0.00      0.00         1\n",
            "        3437       0.00      0.00      0.00         1\n",
            "        3438       0.00      0.00      0.00         0\n",
            "        3440       0.00      0.00      0.00         1\n",
            "        3442       0.00      0.00      0.00         0\n",
            "        3443       0.00      0.00      0.00         1\n",
            "        3448       0.00      0.00      0.00         1\n",
            "        3449       0.00      0.00      0.00         0\n",
            "        3457       0.00      0.00      0.00         1\n",
            "        3460       0.00      0.00      0.00         1\n",
            "        3467       0.00      0.00      0.00         1\n",
            "        3471       0.00      0.00      0.00         2\n",
            "        3473       0.00      0.00      0.00         1\n",
            "        3479       0.00      0.00      0.00         0\n",
            "        3481       0.00      0.00      0.00         1\n",
            "        3489       0.00      0.00      0.00         1\n",
            "        3492       0.00      0.00      0.00         1\n",
            "        3495       0.00      0.00      0.00         1\n",
            "        3496       0.00      0.00      0.00         1\n",
            "        3500       0.00      0.00      0.00         0\n",
            "        3503       0.00      0.00      0.00         1\n",
            "        3507       0.00      0.00      0.00         1\n",
            "        3508       0.00      0.00      0.00         2\n",
            "        3511       0.00      0.00      0.00         1\n",
            "        3515       0.00      0.00      0.00         1\n",
            "        3518       0.00      0.00      0.00         1\n",
            "        3519       0.00      0.00      0.00         2\n",
            "        3520       0.00      0.00      0.00         1\n",
            "        3523       0.00      0.00      0.00         1\n",
            "        3531       0.00      0.00      0.00         1\n",
            "        3541       0.00      0.00      0.00         2\n",
            "        3542       0.00      0.00      0.00         2\n",
            "        3543       0.00      0.00      0.00         2\n",
            "        3546       0.00      0.00      0.00         2\n",
            "        3549       0.00      0.00      0.00         2\n",
            "        3550       0.00      0.00      0.00         1\n",
            "        3551       0.00      0.00      0.00         2\n",
            "        3555       0.00      0.00      0.00         1\n",
            "        3557       0.00      0.00      0.00         1\n",
            "        3558       0.00      0.00      0.00         1\n",
            "        3564       0.00      0.00      0.00         1\n",
            "        3567       0.00      0.00      0.00         1\n",
            "        3568       0.00      0.00      0.00         1\n",
            "        3569       0.00      0.00      0.00         0\n",
            "        3577       0.00      0.00      0.00         1\n",
            "        3589       0.00      0.00      0.00         1\n",
            "        3591       0.00      0.00      0.00         0\n",
            "        3594       0.00      0.00      0.00         1\n",
            "        3595       0.00      0.00      0.00         1\n",
            "        3596       0.00      0.00      0.00         2\n",
            "        3598       0.00      0.00      0.00         2\n",
            "        3602       0.00      0.00      0.00         1\n",
            "        3603       0.00      0.00      0.00         1\n",
            "        3610       0.00      0.00      0.00         1\n",
            "        3614       0.00      0.00      0.00         1\n",
            "        3616       0.00      0.00      0.00         1\n",
            "        3622       0.00      0.00      0.00         1\n",
            "        3623       0.00      0.00      0.00         0\n",
            "        3629       0.00      0.00      0.00         1\n",
            "        3634       0.00      0.00      0.00         1\n",
            "        3638       0.00      0.00      0.00         1\n",
            "        3641       0.00      0.00      0.00         1\n",
            "        3642       0.00      0.00      0.00         1\n",
            "        3643       0.00      0.00      0.00         0\n",
            "        3647       0.00      0.00      0.00         1\n",
            "        3652       0.00      0.00      0.00         0\n",
            "        3654       0.00      0.00      0.00         1\n",
            "        3655       0.00      0.00      0.00         1\n",
            "        3660       0.00      0.00      0.00         0\n",
            "        3661       0.00      0.00      0.00         1\n",
            "        3662       0.00      0.00      0.00         1\n",
            "        3663       0.00      0.00      0.00         1\n",
            "        3664       0.00      0.00      0.00         1\n",
            "        3665       0.00      0.00      0.00         1\n",
            "        3667       0.00      0.00      0.00         1\n",
            "        3670       0.00      0.00      0.00         1\n",
            "        3671       0.00      0.00      0.00         1\n",
            "        3672       0.00      0.00      0.00         1\n",
            "        3674       0.00      0.00      0.00         0\n",
            "        3680       0.00      0.00      0.00         1\n",
            "        3693       0.00      0.00      0.00         1\n",
            "        3697       0.00      0.00      0.00         1\n",
            "        3702       0.00      0.00      0.00         1\n",
            "        3706       0.00      0.00      0.00         1\n",
            "        3713       0.00      0.00      0.00         0\n",
            "        3715       0.00      0.00      0.00         1\n",
            "        3720       0.00      0.00      0.00         0\n",
            "        3731       0.00      0.00      0.00         1\n",
            "        3734       0.00      0.00      0.00         1\n",
            "        3739       0.00      0.00      0.00         1\n",
            "        3741       0.00      0.00      0.00         0\n",
            "        3743       0.00      0.00      0.00         1\n",
            "        3744       0.00      0.00      0.00         1\n",
            "        3748       0.00      0.00      0.00         2\n",
            "        3749       0.00      0.00      0.00         1\n",
            "        3753       0.00      0.00      0.00         1\n",
            "        3759       0.00      0.00      0.00         0\n",
            "        3768       0.00      0.00      0.00         1\n",
            "        3771       0.00      0.00      0.00         1\n",
            "        3775       0.00      0.00      0.00         1\n",
            "        3780       0.00      0.00      0.00         1\n",
            "        3788       0.00      0.00      0.00         1\n",
            "        3796       0.00      0.00      0.00         0\n",
            "        3800       0.00      0.00      0.00         1\n",
            "        3810       0.00      0.00      0.00         1\n",
            "        3813       0.00      0.00      0.00         1\n",
            "        3821       0.00      0.00      0.00         2\n",
            "        3823       0.00      0.00      0.00         2\n",
            "        3828       0.00      0.00      0.00         1\n",
            "        3829       0.00      0.00      0.00         1\n",
            "        3832       0.00      0.00      0.00         1\n",
            "        3833       0.00      0.00      0.00         0\n",
            "        3836       0.00      0.00      0.00         1\n",
            "        3840       0.00      0.00      0.00         1\n",
            "        3842       0.00      0.00      0.00         1\n",
            "        3855       0.00      0.00      0.00         1\n",
            "        3866       0.00      0.00      0.00         1\n",
            "        3876       0.00      0.00      0.00         1\n",
            "        3879       0.00      0.00      0.00         1\n",
            "        3880       0.00      0.00      0.00         1\n",
            "        3887       0.00      0.00      0.00         1\n",
            "        3903       0.00      0.00      0.00         1\n",
            "        3906       0.00      0.00      0.00         2\n",
            "        3909       0.00      0.00      0.00         2\n",
            "        3910       0.00      0.00      0.00         2\n",
            "        3912       0.00      0.00      0.00         1\n",
            "        3915       0.00      0.00      0.00         2\n",
            "        3925       0.00      0.00      0.00         1\n",
            "        3929       0.00      0.00      0.00         1\n",
            "        3973       0.00      0.00      0.00         2\n",
            "        3981       0.00      0.00      0.00         1\n",
            "        3989       0.00      0.00      0.00         0\n",
            "        3995       0.00      0.00      0.00         1\n",
            "        3997       0.00      0.00      0.00         1\n",
            "        4041       0.00      0.00      0.00         1\n",
            "        4045       0.00      0.00      0.00         1\n",
            "        4072       0.00      0.00      0.00         2\n",
            "        4089       0.00      0.00      0.00         2\n",
            "        4106       0.00      0.00      0.00         1\n",
            "        4121       0.00      0.00      0.00         1\n",
            "        4122       0.00      0.00      0.00         1\n",
            "        4140       0.00      0.00      0.00         1\n",
            "        4189       0.00      0.00      0.00         1\n",
            "        4199       0.00      0.00      0.00         1\n",
            "        4203       0.00      0.00      0.00         1\n",
            "        4221       0.00      0.00      0.00         1\n",
            "        4232       0.00      0.00      0.00         2\n",
            "        4273       0.00      0.00      0.00         1\n",
            "        4311       0.00      0.00      0.00         1\n",
            "        4319       0.00      0.00      0.00         1\n",
            "        4320       0.00      0.00      0.00         1\n",
            "        4332       0.00      0.00      0.00         1\n",
            "        4343       0.00      0.00      0.00         1\n",
            "        4353       0.00      0.00      0.00         1\n",
            "        4396       0.00      0.00      0.00         1\n",
            "        4405       0.00      0.00      0.00         1\n",
            "        4458       0.00      0.00      0.00         1\n",
            "        4483       0.00      0.00      0.00         1\n",
            "        4512       0.00      0.00      0.00         1\n",
            "        4524       0.00      0.00      0.00         1\n",
            "        4525       0.00      0.00      0.00         1\n",
            "        4584       0.00      0.00      0.00         1\n",
            "        4633       0.00      0.00      0.00         1\n",
            "        4698       0.00      0.00      0.00         1\n",
            "        4914       0.00      0.00      0.00         1\n",
            "        6363       0.00      0.00      0.00         1\n",
            "\n",
            "    accuracy                           0.00      1526\n",
            "   macro avg       0.00      0.00      0.00      1526\n",
            "weighted avg       0.00      0.00      0.00      1526\n",
            "\n"
          ],
          "name": "stdout"
        },
        {
          "output_type": "stream",
          "text": [
            "/usr/local/lib/python3.6/dist-packages/sklearn/metrics/_classification.py:1272: UndefinedMetricWarning: Precision and F-score are ill-defined and being set to 0.0 in labels with no predicted samples. Use `zero_division` parameter to control this behavior.\n",
            "  _warn_prf(average, modifier, msg_start, len(result))\n",
            "/usr/local/lib/python3.6/dist-packages/sklearn/metrics/_classification.py:1272: UndefinedMetricWarning: Recall and F-score are ill-defined and being set to 0.0 in labels with no true samples. Use `zero_division` parameter to control this behavior.\n",
            "  _warn_prf(average, modifier, msg_start, len(result))\n"
          ],
          "name": "stderr"
        }
      ]
    },
    {
      "cell_type": "code",
      "metadata": {
        "id": "by4hcewHyS_5"
      },
      "source": [
        "from matplotlib.colors import ListedColormap"
      ],
      "execution_count": 477,
      "outputs": []
    },
    {
      "cell_type": "code",
      "metadata": {
        "id": "C2MAVKO9xjd9",
        "outputId": "3ad73947-5d8c-4750-d486-27529a75e91c",
        "colab": {
          "base_uri": "https://localhost:8080/",
          "height": 443
        }
      },
      "source": [
        "h = .02  # step size in the mesh\n",
        "\n",
        "# Create color maps\n",
        "cmap_light = ListedColormap(['#FFAAAA', '#ffcc99', '#ffffb3','#b3ffff','#c2f0c2'])\n",
        "cmap_bold = ListedColormap(['#FF0000', '#ff9933','#FFFF00','#00ffff','#00FF00'])\n",
        "\n",
        "# we create an instance of Neighbours Classifier and fit the data.\n",
        "clf = KNeighborsClassifier(n_neighbors, weights='distance')\n",
        "clf.fit(X, y)\n",
        "\n",
        "# Plot the decision boundary. For that, we will assign a color to each\n",
        "# point in the mesh [x_min, x_max]x[y_min, y_max].\n",
        "x_min, x_max = X[:, 0].min() - 1, X[:, 0].max() + 1\n",
        "y_min, y_max = X[:, 1].min() - 1, X[:, 1].max() + 1\n",
        "xx, yy = np.meshgrid(np.arange(x_min, x_max, h),\n",
        "                         np.arange(y_min, y_max, h))\n",
        "Z = clf.predict(np.c_[xx.ravel(), yy.ravel()])\n",
        "\n",
        "# Put the result into a color plot\n",
        "Z = Z.reshape(xx.shape)\n",
        "plt.figure()\n",
        "plt.pcolormesh(xx, yy, Z, cmap=cmap_light)\n",
        "\n",
        "# Plot also the training points\n",
        "plt.scatter(X[:, 0], X[:, 1], c=y, cmap=cmap_bold,\n",
        "                edgecolor='k', s=20)\n",
        "plt.xlim(xx.min(), xx.max())\n",
        "plt.ylim(yy.min(), yy.max())\n",
        "    \n",
        "patch0 = mpatches.Patch(color='#FF0000', label='1')\n",
        "patch1 = mpatches.Patch(color='#ff9933', label='2')\n",
        "patch2 = mpatches.Patch(color='#FFFF00', label='3')\n",
        "patch3 = mpatches.Patch(color='#00ffff', label='4')\n",
        "patch4 = mpatches.Patch(color='#00FF00', label='5')\n",
        "plt.legend(handles=[patch0, patch1, patch2, patch3,patch4])\n",
        "\n",
        "    \n",
        "plt.title(\"5-Class classification (k = %i, weights = '%s')\"\n",
        "              % (n_neighbors, weights))\n",
        "\n",
        "plt.show()"
      ],
      "execution_count": 478,
      "outputs": [
        {
          "output_type": "error",
          "ename": "TypeError",
          "evalue": "ignored",
          "traceback": [
            "\u001b[0;31m---------------------------------------------------------------------------\u001b[0m",
            "\u001b[0;31mTypeError\u001b[0m                                 Traceback (most recent call last)",
            "\u001b[0;32m<ipython-input-478-993b469d6851>\u001b[0m in \u001b[0;36m<module>\u001b[0;34m()\u001b[0m\n\u001b[1;32m     11\u001b[0m \u001b[0;31m# Plot the decision boundary. For that, we will assign a color to each\u001b[0m\u001b[0;34m\u001b[0m\u001b[0;34m\u001b[0m\u001b[0;34m\u001b[0m\u001b[0m\n\u001b[1;32m     12\u001b[0m \u001b[0;31m# point in the mesh [x_min, x_max]x[y_min, y_max].\u001b[0m\u001b[0;34m\u001b[0m\u001b[0;34m\u001b[0m\u001b[0;34m\u001b[0m\u001b[0m\n\u001b[0;32m---> 13\u001b[0;31m \u001b[0mx_min\u001b[0m\u001b[0;34m,\u001b[0m \u001b[0mx_max\u001b[0m \u001b[0;34m=\u001b[0m \u001b[0mX\u001b[0m\u001b[0;34m[\u001b[0m\u001b[0;34m:\u001b[0m\u001b[0;34m,\u001b[0m \u001b[0;36m0\u001b[0m\u001b[0;34m]\u001b[0m\u001b[0;34m.\u001b[0m\u001b[0mmin\u001b[0m\u001b[0;34m(\u001b[0m\u001b[0;34m)\u001b[0m \u001b[0;34m-\u001b[0m \u001b[0;36m1\u001b[0m\u001b[0;34m,\u001b[0m \u001b[0mX\u001b[0m\u001b[0;34m[\u001b[0m\u001b[0;34m:\u001b[0m\u001b[0;34m,\u001b[0m \u001b[0;36m0\u001b[0m\u001b[0;34m]\u001b[0m\u001b[0;34m.\u001b[0m\u001b[0mmax\u001b[0m\u001b[0;34m(\u001b[0m\u001b[0;34m)\u001b[0m \u001b[0;34m+\u001b[0m \u001b[0;36m1\u001b[0m\u001b[0;34m\u001b[0m\u001b[0;34m\u001b[0m\u001b[0m\n\u001b[0m\u001b[1;32m     14\u001b[0m \u001b[0my_min\u001b[0m\u001b[0;34m,\u001b[0m \u001b[0my_max\u001b[0m \u001b[0;34m=\u001b[0m \u001b[0mX\u001b[0m\u001b[0;34m[\u001b[0m\u001b[0;34m:\u001b[0m\u001b[0;34m,\u001b[0m \u001b[0;36m1\u001b[0m\u001b[0;34m]\u001b[0m\u001b[0;34m.\u001b[0m\u001b[0mmin\u001b[0m\u001b[0;34m(\u001b[0m\u001b[0;34m)\u001b[0m \u001b[0;34m-\u001b[0m \u001b[0;36m1\u001b[0m\u001b[0;34m,\u001b[0m \u001b[0mX\u001b[0m\u001b[0;34m[\u001b[0m\u001b[0;34m:\u001b[0m\u001b[0;34m,\u001b[0m \u001b[0;36m1\u001b[0m\u001b[0;34m]\u001b[0m\u001b[0;34m.\u001b[0m\u001b[0mmax\u001b[0m\u001b[0;34m(\u001b[0m\u001b[0;34m)\u001b[0m \u001b[0;34m+\u001b[0m \u001b[0;36m1\u001b[0m\u001b[0;34m\u001b[0m\u001b[0;34m\u001b[0m\u001b[0m\n\u001b[1;32m     15\u001b[0m xx, yy = np.meshgrid(np.arange(x_min, x_max, h),\n",
            "\u001b[0;32m/usr/local/lib/python3.6/dist-packages/pandas/core/frame.py\u001b[0m in \u001b[0;36m__getitem__\u001b[0;34m(self, key)\u001b[0m\n\u001b[1;32m   2904\u001b[0m             \u001b[0;32mif\u001b[0m \u001b[0mself\u001b[0m\u001b[0;34m.\u001b[0m\u001b[0mcolumns\u001b[0m\u001b[0;34m.\u001b[0m\u001b[0mnlevels\u001b[0m \u001b[0;34m>\u001b[0m \u001b[0;36m1\u001b[0m\u001b[0;34m:\u001b[0m\u001b[0;34m\u001b[0m\u001b[0;34m\u001b[0m\u001b[0m\n\u001b[1;32m   2905\u001b[0m                 \u001b[0;32mreturn\u001b[0m \u001b[0mself\u001b[0m\u001b[0;34m.\u001b[0m\u001b[0m_getitem_multilevel\u001b[0m\u001b[0;34m(\u001b[0m\u001b[0mkey\u001b[0m\u001b[0;34m)\u001b[0m\u001b[0;34m\u001b[0m\u001b[0;34m\u001b[0m\u001b[0m\n\u001b[0;32m-> 2906\u001b[0;31m             \u001b[0mindexer\u001b[0m \u001b[0;34m=\u001b[0m \u001b[0mself\u001b[0m\u001b[0;34m.\u001b[0m\u001b[0mcolumns\u001b[0m\u001b[0;34m.\u001b[0m\u001b[0mget_loc\u001b[0m\u001b[0;34m(\u001b[0m\u001b[0mkey\u001b[0m\u001b[0;34m)\u001b[0m\u001b[0;34m\u001b[0m\u001b[0;34m\u001b[0m\u001b[0m\n\u001b[0m\u001b[1;32m   2907\u001b[0m             \u001b[0;32mif\u001b[0m \u001b[0mis_integer\u001b[0m\u001b[0;34m(\u001b[0m\u001b[0mindexer\u001b[0m\u001b[0;34m)\u001b[0m\u001b[0;34m:\u001b[0m\u001b[0;34m\u001b[0m\u001b[0;34m\u001b[0m\u001b[0m\n\u001b[1;32m   2908\u001b[0m                 \u001b[0mindexer\u001b[0m \u001b[0;34m=\u001b[0m \u001b[0;34m[\u001b[0m\u001b[0mindexer\u001b[0m\u001b[0;34m]\u001b[0m\u001b[0;34m\u001b[0m\u001b[0;34m\u001b[0m\u001b[0m\n",
            "\u001b[0;32m/usr/local/lib/python3.6/dist-packages/pandas/core/indexes/base.py\u001b[0m in \u001b[0;36mget_loc\u001b[0;34m(self, key, method, tolerance)\u001b[0m\n\u001b[1;32m   2893\u001b[0m             \u001b[0mcasted_key\u001b[0m \u001b[0;34m=\u001b[0m \u001b[0mself\u001b[0m\u001b[0;34m.\u001b[0m\u001b[0m_maybe_cast_indexer\u001b[0m\u001b[0;34m(\u001b[0m\u001b[0mkey\u001b[0m\u001b[0;34m)\u001b[0m\u001b[0;34m\u001b[0m\u001b[0;34m\u001b[0m\u001b[0m\n\u001b[1;32m   2894\u001b[0m             \u001b[0;32mtry\u001b[0m\u001b[0;34m:\u001b[0m\u001b[0;34m\u001b[0m\u001b[0;34m\u001b[0m\u001b[0m\n\u001b[0;32m-> 2895\u001b[0;31m                 \u001b[0;32mreturn\u001b[0m \u001b[0mself\u001b[0m\u001b[0;34m.\u001b[0m\u001b[0m_engine\u001b[0m\u001b[0;34m.\u001b[0m\u001b[0mget_loc\u001b[0m\u001b[0;34m(\u001b[0m\u001b[0mcasted_key\u001b[0m\u001b[0;34m)\u001b[0m\u001b[0;34m\u001b[0m\u001b[0;34m\u001b[0m\u001b[0m\n\u001b[0m\u001b[1;32m   2896\u001b[0m             \u001b[0;32mexcept\u001b[0m \u001b[0mKeyError\u001b[0m \u001b[0;32mas\u001b[0m \u001b[0merr\u001b[0m\u001b[0;34m:\u001b[0m\u001b[0;34m\u001b[0m\u001b[0;34m\u001b[0m\u001b[0m\n\u001b[1;32m   2897\u001b[0m                 \u001b[0;32mraise\u001b[0m \u001b[0mKeyError\u001b[0m\u001b[0;34m(\u001b[0m\u001b[0mkey\u001b[0m\u001b[0;34m)\u001b[0m \u001b[0;32mfrom\u001b[0m \u001b[0merr\u001b[0m\u001b[0;34m\u001b[0m\u001b[0;34m\u001b[0m\u001b[0m\n",
            "\u001b[0;32mpandas/_libs/index.pyx\u001b[0m in \u001b[0;36mpandas._libs.index.IndexEngine.get_loc\u001b[0;34m()\u001b[0m\n",
            "\u001b[0;32mpandas/_libs/index.pyx\u001b[0m in \u001b[0;36mpandas._libs.index.IndexEngine.get_loc\u001b[0;34m()\u001b[0m\n",
            "\u001b[0;31mTypeError\u001b[0m: '(slice(None, None, None), 0)' is an invalid key"
          ]
        }
      ]
    },
    {
      "cell_type": "code",
      "metadata": {
        "id": "jaWMU0lqyOlX"
      },
      "source": [
        ""
      ],
      "execution_count": null,
      "outputs": []
    }
  ]
}