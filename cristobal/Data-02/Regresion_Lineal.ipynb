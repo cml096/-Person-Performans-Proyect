{
  "nbformat": 4,
  "nbformat_minor": 0,
  "metadata": {
    "colab": {
      "name": "Regresion_Lineal.ipynb",
      "provenance": [],
      "authorship_tag": "ABX9TyMHp+e7j772axTQCmrJbJ8q",
      "include_colab_link": true
    },
    "kernelspec": {
      "name": "python3",
      "display_name": "Python 3"
    }
  },
  "cells": [
    {
      "cell_type": "markdown",
      "metadata": {
        "id": "view-in-github",
        "colab_type": "text"
      },
      "source": [
        "<a href=\"https://colab.research.google.com/github/cml096/GoogleColabRepo/blob/master/Regresion_Lineal.ipynb\" target=\"_parent\"><img src=\"https://colab.research.google.com/assets/colab-badge.svg\" alt=\"Open In Colab\"/></a>"
      ]
    },
    {
      "cell_type": "code",
      "metadata": {
        "id": "ljcg9IgjnTzf"
      },
      "source": [
        "import pandas as pd\n",
        "df = pd.read_excel('OperTot - PowerView_ARCH1.xlsx')"
      ],
      "execution_count": 1,
      "outputs": []
    },
    {
      "cell_type": "code",
      "metadata": {
        "id": "czYwso28rhIY"
      },
      "source": [
        "list_drop = ['ID','shiftindex','crew#','unit#','tmcat08','tmcat09','tmcat10','tmcat11','tmcat12','tmcat13','tmcat14','tmcat15','tmcat16','tmcat17','tmcat18','tmcat19']\n",
        "df.drop(list_drop,axis=1,inplace=True)"
      ],
      "execution_count": 2,
      "outputs": []
    },
    {
      "cell_type": "code",
      "metadata": {
        "id": "eptvHa7sriCW"
      },
      "source": [
        "df = df.rename(columns={'unit':'Unidad'})\n",
        "df = df.rename(columns={'shift#':'Turno'})"
      ],
      "execution_count": 3,
      "outputs": []
    },
    {
      "cell_type": "code",
      "metadata": {
        "id": "H0cT7Z2urjnW"
      },
      "source": [
        "df.Turno = df.Turno.astype(str)\n",
        "df.totaltons = df.totaltons.astype(int)"
      ],
      "execution_count": 4,
      "outputs": []
    },
    {
      "cell_type": "code",
      "metadata": {
        "id": "NfWZY0XhrlZ1"
      },
      "source": [
        "df_numeric_loads = df[(df.Unidad == 'Camion') | (df.Unidad == 'Pala')]\n",
        "df_numeric_times = df[(df.Unidad == 'Aljibe') | (df.Unidad == 'Auxil') | (df.Unidad == 'Moto') | (df.Unidad == 'Perforadora') | (df.Unidad == 'Tractor')]"
      ],
      "execution_count": 10,
      "outputs": []
    },
    {
      "cell_type": "code",
      "metadata": {
        "id": "Zt4RNLGJRh75"
      },
      "source": [
        ""
      ],
      "execution_count": null,
      "outputs": []
    },
    {
      "cell_type": "code",
      "metadata": {
        "id": "TuAS1CIdt3yP"
      },
      "source": [
        ""
      ],
      "execution_count": null,
      "outputs": []
    }
  ]
}