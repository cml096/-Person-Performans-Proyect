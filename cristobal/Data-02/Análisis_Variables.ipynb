{
  "nbformat": 4,
  "nbformat_minor": 0,
  "metadata": {
    "colab": {
      "name": "Análisis_Variables.ipynb",
      "provenance": [],
      "toc_visible": true,
      "authorship_tag": "ABX9TyP3rwtE9feBE8OYE7BEXav7",
      "include_colab_link": true
    },
    "kernelspec": {
      "name": "python3",
      "display_name": "Python 3"
    }
  },
  "cells": [
    {
      "cell_type": "markdown",
      "metadata": {
        "id": "view-in-github",
        "colab_type": "text"
      },
      "source": [
        "<a href=\"https://colab.research.google.com/github/cml096/GoogleColabRepo/blob/master/cristobal/Data-02/An%C3%A1lisis_Variables.ipynb\" target=\"_parent\"><img src=\"https://colab.research.google.com/assets/colab-badge.svg\" alt=\"Open In Colab\"/></a>"
      ]
    },
    {
      "cell_type": "code",
      "metadata": {
        "id": "t_xaq6anviJk"
      },
      "source": [
        "import pandas as pd\n",
        "df = pd.read_excel('OperTot - PowerView_ARCH1.xlsx')"
      ],
      "execution_count": 1,
      "outputs": []
    },
    {
      "cell_type": "code",
      "metadata": {
        "id": "khsuGaDgu2yn"
      },
      "source": [
        "list_drop = ['ID','shiftindex','crew#','unit#','tmcat08','tmcat09','tmcat10','tmcat11','tmcat12','tmcat13','tmcat14','tmcat15','tmcat16','tmcat17','tmcat18','tmcat19']\n",
        "df.drop(list_drop,axis=1,inplace=True)"
      ],
      "execution_count": 2,
      "outputs": []
    },
    {
      "cell_type": "code",
      "metadata": {
        "id": "EUmVHKDDvkz1"
      },
      "source": [
        "df[\"shift#\"] = df[\"shift#\"].astype(str)\n",
        "df.totaltons = df.totaltons.astype(int)"
      ],
      "execution_count": 3,
      "outputs": []
    },
    {
      "cell_type": "code",
      "metadata": {
        "id": "HcWikU3hvLOH"
      },
      "source": [
        "def dia(fecha):\n",
        "  aux = str(fecha.date()).split('-')\n",
        "  dia = str(aux[2])\n",
        "  return dia\n",
        "\n",
        "def mes(fecha):\n",
        "  aux = str(fecha.date()).split('-')\n",
        "  mes = str(aux[1])\n",
        "  return mes\n",
        "\n",
        "def ano(fecha):\n",
        "  aux = str(fecha.date()).split('-')\n",
        "  ano = str(aux[0])\n",
        "  return ano"
      ],
      "execution_count": 4,
      "outputs": []
    },
    {
      "cell_type": "code",
      "metadata": {
        "id": "e64t5zKqvMJ7"
      },
      "source": [
        "df['Dia'] = df.apply(lambda row : dia(row['shiftdate']),axis=1)\n",
        "df['Mes'] = df.apply(lambda row : mes(row['shiftdate']),axis=1)\n",
        "df['Año'] = df.apply(lambda row : ano(row['shiftdate']),axis=1)"
      ],
      "execution_count": 5,
      "outputs": []
    },
    {
      "cell_type": "code",
      "metadata": {
        "id": "mm7dQ4xrwl17"
      },
      "source": [
        "df_loads = df[(df.unit == 'Camion') | (df.unit == 'Pala')]\n",
        "df_times = df[(df.unit == 'Aljibe') | (df.unit == 'Auxil') | (df.unit == 'Moto') | (df.unit == 'Perforadora') | (df.unit == 'Tractor')]"
      ],
      "execution_count": 6,
      "outputs": []
    },
    {
      "cell_type": "code",
      "metadata": {
        "id": "Fb7doEyOvkmb"
      },
      "source": [
        "import seaborn as sns\n",
        "import matplotlib.pyplot as plt"
      ],
      "execution_count": 7,
      "outputs": []
    },
    {
      "cell_type": "markdown",
      "metadata": {
        "id": "iTAbn5xp_1wv"
      },
      "source": [
        "# Toda la data\n"
      ]
    },
    {
      "cell_type": "code",
      "metadata": {
        "id": "aamUHuXN_5q8",
        "outputId": "b457d35f-37de-4c0d-fb4a-3f488f4636ed",
        "colab": {
          "base_uri": "https://localhost:8080/"
        }
      },
      "source": [
        "df.columns"
      ],
      "execution_count": 8,
      "outputs": [
        {
          "output_type": "execute_result",
          "data": {
            "text/plain": [
              "Index(['shiftdate', 'shift#', 'start', 'crew', 'eqmtid', 'logintime', 'locid',\n",
              "       'operid', 'totaltime', 'pit', 'unit', 'totalloads', 'totaltons',\n",
              "       'loadtime', 'idletime', 'spottime', 'loadcnt', 'tmcat00', 'tmcat01',\n",
              "       'tmcat02', 'tmcat03', 'tmcat04', 'tmcat05', 'tmcat06', 'tmcat07', 'Dia',\n",
              "       'Mes', 'Año'],\n",
              "      dtype='object')"
            ]
          },
          "metadata": {
            "tags": []
          },
          "execution_count": 8
        }
      ]
    },
    {
      "cell_type": "markdown",
      "metadata": {
        "id": "SOSfUBBWBhGc"
      },
      "source": [
        "##logintime"
      ]
    },
    {
      "cell_type": "code",
      "metadata": {
        "id": "3JYdqPcAAJGh",
        "outputId": "b5a22b4b-41f0-43db-e8be-50390d17702c",
        "colab": {
          "base_uri": "https://localhost:8080/",
          "height": 351
        }
      },
      "source": [
        "plt.figure(figsize=(10,5))\n",
        "sns.boxplot(x=df.logintime)"
      ],
      "execution_count": 9,
      "outputs": [
        {
          "output_type": "execute_result",
          "data": {
            "text/plain": [
              "<matplotlib.axes._subplots.AxesSubplot at 0x7f3fc64fdd68>"
            ]
          },
          "metadata": {
            "tags": []
          },
          "execution_count": 9
        },
        {
          "output_type": "display_data",
          "data": {
            "image/png": "[encoded data removed]",
            "text/plain": [
              "<Figure size 720x360 with 1 Axes>"
            ]
          },
          "metadata": {
            "tags": [],
            "needs_background": "light"
          }
        }
      ]
    },
    {
      "cell_type": "markdown",
      "metadata": {
        "id": "OwPLu7tNBjJD"
      },
      "source": [
        "##totaltime"
      ]
    },
    {
      "cell_type": "code",
      "metadata": {
        "id": "kDjatRhnAJJy",
        "outputId": "fbf2e088-fa3d-4798-c417-0add42ffa5a1",
        "colab": {
          "base_uri": "https://localhost:8080/",
          "height": 351
        }
      },
      "source": [
        "plt.figure(figsize=(10,5))\n",
        "sns.boxplot(x=df.totaltime)"
      ],
      "execution_count": 10,
      "outputs": [
        {
          "output_type": "execute_result",
          "data": {
            "text/plain": [
              "<matplotlib.axes._subplots.AxesSubplot at 0x7f3fc5de3860>"
            ]
          },
          "metadata": {
            "tags": []
          },
          "execution_count": 10
        },
        {
          "output_type": "display_data",
          "data": {
            "image/png": "[encoded data removed]",
            "text/plain": [
              "<Figure size 720x360 with 1 Axes>"
            ]
          },
          "metadata": {
            "tags": [],
            "needs_background": "light"
          }
        }
      ]
    },
    {
      "cell_type": "markdown",
      "metadata": {
        "id": "ijLIXNx3Bmg2"
      },
      "source": [
        "##totalloads"
      ]
    },
    {
      "cell_type": "code",
      "metadata": {
        "id": "S36szE-sB04i",
        "outputId": "5cc314f0-c757-499a-d8be-fdeb55defd61",
        "colab": {
          "base_uri": "https://localhost:8080/",
          "height": 351
        }
      },
      "source": [
        "plt.figure(figsize=(10,5))\n",
        "sns.boxplot(x=df.totalloads[df.totalloads != 0])"
      ],
      "execution_count": 11,
      "outputs": [
        {
          "output_type": "execute_result",
          "data": {
            "text/plain": [
              "<matplotlib.axes._subplots.AxesSubplot at 0x7f3fc58afe48>"
            ]
          },
          "metadata": {
            "tags": []
          },
          "execution_count": 11
        },
        {
          "output_type": "display_data",
          "data": {
            "image/png": "[encoded data removed]",
            "text/plain": [
              "<Figure size 720x360 with 1 Axes>"
            ]
          },
          "metadata": {
            "tags": [],
            "needs_background": "light"
          }
        }
      ]
    },
    {
      "cell_type": "markdown",
      "metadata": {
        "id": "c5afcxf9Boin"
      },
      "source": [
        "##totaltons"
      ]
    },
    {
      "cell_type": "code",
      "metadata": {
        "id": "Cjl59D3KB1R1",
        "outputId": "599e676e-5d6a-469b-914d-d23b5a251d28",
        "colab": {
          "base_uri": "https://localhost:8080/",
          "height": 0
        }
      },
      "source": [
        "plt.figure(figsize=(10,5))\n",
        "sns.boxplot(x=df.totaltons[df.totaltons != 0])"
      ],
      "execution_count": 12,
      "outputs": [
        {
          "output_type": "execute_result",
          "data": {
            "text/plain": [
              "<matplotlib.axes._subplots.AxesSubplot at 0x7f3fc55c97b8>"
            ]
          },
          "metadata": {
            "tags": []
          },
          "execution_count": 12
        },
        {
          "output_type": "display_data",
          "data": {
            "image/png": "[encoded data removed]",
            "text/plain": [
              "<Figure size 720x360 with 1 Axes>"
            ]
          },
          "metadata": {
            "tags": [],
            "needs_background": "light"
          }
        }
      ]
    },
    {
      "cell_type": "markdown",
      "metadata": {
        "id": "_9eJuLZ1BriZ"
      },
      "source": [
        "##loadtime"
      ]
    },
    {
      "cell_type": "code",
      "metadata": {
        "id": "PIOyQb1FB12b",
        "outputId": "331de1b9-f64b-429e-f038-fe4adc5cc9c6",
        "colab": {
          "base_uri": "https://localhost:8080/",
          "height": 0
        }
      },
      "source": [
        "plt.figure(figsize=(10,5))\n",
        "sns.boxplot(x=df.loadtime[df.loadtime != 0])"
      ],
      "execution_count": 13,
      "outputs": [
        {
          "output_type": "execute_result",
          "data": {
            "text/plain": [
              "<matplotlib.axes._subplots.AxesSubplot at 0x7f3fc5266f28>"
            ]
          },
          "metadata": {
            "tags": []
          },
          "execution_count": 13
        },
        {
          "output_type": "display_data",
          "data": {
            "image/png": "[encoded data removed]",
            "text/plain": [
              "<Figure size 720x360 with 1 Axes>"
            ]
          },
          "metadata": {
            "tags": [],
            "needs_background": "light"
          }
        }
      ]
    },
    {
      "cell_type": "markdown",
      "metadata": {
        "id": "q1pLbSVDBsME"
      },
      "source": [
        "##idletime"
      ]
    },
    {
      "cell_type": "code",
      "metadata": {
        "id": "KOpBfKr5B2T8",
        "outputId": "6c8a75f8-5980-4ce8-90f2-c3f7cc94b6d8",
        "colab": {
          "base_uri": "https://localhost:8080/",
          "height": 0
        }
      },
      "source": [
        "plt.figure(figsize=(10,5))\n",
        "sns.boxplot(x=df.idletime[df.idletime != 0])"
      ],
      "execution_count": 14,
      "outputs": [
        {
          "output_type": "execute_result",
          "data": {
            "text/plain": [
              "<matplotlib.axes._subplots.AxesSubplot at 0x7f3fc1569518>"
            ]
          },
          "metadata": {
            "tags": []
          },
          "execution_count": 14
        },
        {
          "output_type": "display_data",
          "data": {
            "image/png": "[encoded data removed]",
            "text/plain": [
              "<Figure size 720x360 with 1 Axes>"
            ]
          },
          "metadata": {
            "tags": [],
            "needs_background": "light"
          }
        }
      ]
    },
    {
      "cell_type": "markdown",
      "metadata": {
        "id": "NgB_gyW0BuCu"
      },
      "source": [
        "##spottime"
      ]
    },
    {
      "cell_type": "code",
      "metadata": {
        "id": "EspePCfmB2xR",
        "outputId": "00f65eed-68fb-422b-c790-e0ea932407f2",
        "colab": {
          "base_uri": "https://localhost:8080/",
          "height": 0
        }
      },
      "source": [
        "plt.figure(figsize=(10,5))\n",
        "sns.boxplot(x=df.spottime[ (df.spottime != 0) & (df.spottime < 60000) ])"
      ],
      "execution_count": 15,
      "outputs": [
        {
          "output_type": "execute_result",
          "data": {
            "text/plain": [
              "<matplotlib.axes._subplots.AxesSubplot at 0x7f3fc9201208>"
            ]
          },
          "metadata": {
            "tags": []
          },
          "execution_count": 15
        },
        {
          "output_type": "display_data",
          "data": {
            "image/png": "[encoded data removed]",
            "text/plain": [
              "<Figure size 720x360 with 1 Axes>"
            ]
          },
          "metadata": {
            "tags": [],
            "needs_background": "light"
          }
        }
      ]
    },
    {
      "cell_type": "markdown",
      "metadata": {
        "id": "2DeRCd_gDxIJ"
      },
      "source": [
        "Se encontro un outlayer > 60.0000 seg "
      ]
    },
    {
      "cell_type": "markdown",
      "metadata": {
        "id": "ZfsiY4YWByWV"
      },
      "source": [
        "##loadcnt"
      ]
    },
    {
      "cell_type": "code",
      "metadata": {
        "id": "m8uDBSwYB3H9",
        "outputId": "37bc6434-7c2d-4e51-edc3-61ce89ea4d7f",
        "colab": {
          "base_uri": "https://localhost:8080/",
          "height": 0
        }
      },
      "source": [
        "plt.figure(figsize=(10,5))\n",
        "sns.boxplot(x=df.loadcnt[df.loadcnt != 0])"
      ],
      "execution_count": 16,
      "outputs": [
        {
          "output_type": "execute_result",
          "data": {
            "text/plain": [
              "<matplotlib.axes._subplots.AxesSubplot at 0x7f3fc8c859b0>"
            ]
          },
          "metadata": {
            "tags": []
          },
          "execution_count": 16
        },
        {
          "output_type": "display_data",
          "data": {
            "image/png": "[encoded data removed]",
            "text/plain": [
              "<Figure size 720x360 with 1 Axes>"
            ]
          },
          "metadata": {
            "tags": [],
            "needs_background": "light"
          }
        }
      ]
    },
    {
      "cell_type": "markdown",
      "metadata": {
        "id": "MxdfwM0LEKug"
      },
      "source": [
        "##tmcat00"
      ]
    },
    {
      "cell_type": "code",
      "metadata": {
        "id": "iiPb6aikEW-x",
        "outputId": "bc422c15-2715-4521-9beb-45409a252309",
        "colab": {
          "base_uri": "https://localhost:8080/",
          "height": 0
        }
      },
      "source": [
        "plt.figure(figsize=(10,5))\n",
        "sns.boxplot(x=df.tmcat00)"
      ],
      "execution_count": 17,
      "outputs": [
        {
          "output_type": "execute_result",
          "data": {
            "text/plain": [
              "<matplotlib.axes._subplots.AxesSubplot at 0x7f3fbec24c18>"
            ]
          },
          "metadata": {
            "tags": []
          },
          "execution_count": 17
        },
        {
          "output_type": "display_data",
          "data": {
            "image/png": "[encoded data removed]",
            "text/plain": [
              "<Figure size 720x360 with 1 Axes>"
            ]
          },
          "metadata": {
            "tags": [],
            "needs_background": "light"
          }
        }
      ]
    },
    {
      "cell_type": "markdown",
      "metadata": {
        "id": "rf6LO_TkENOq"
      },
      "source": [
        "##tmcat01"
      ]
    },
    {
      "cell_type": "code",
      "metadata": {
        "id": "9Qjy9kGBEXU8",
        "outputId": "fb46784a-a24f-4db0-c38e-3378ba1cf425",
        "colab": {
          "base_uri": "https://localhost:8080/",
          "height": 0
        }
      },
      "source": [
        "plt.figure(figsize=(10,5))\n",
        "sns.boxplot(x=df.tmcat01[ df.tmcat01 != 0 ])"
      ],
      "execution_count": 18,
      "outputs": [
        {
          "output_type": "execute_result",
          "data": {
            "text/plain": [
              "<matplotlib.axes._subplots.AxesSubplot at 0x7f3fc440d898>"
            ]
          },
          "metadata": {
            "tags": []
          },
          "execution_count": 18
        },
        {
          "output_type": "display_data",
          "data": {
            "image/png": "[encoded data removed]",
            "text/plain": [
              "<Figure size 720x360 with 1 Axes>"
            ]
          },
          "metadata": {
            "tags": [],
            "needs_background": "light"
          }
        }
      ]
    },
    {
      "cell_type": "markdown",
      "metadata": {
        "id": "xk58EItkENXB"
      },
      "source": [
        "##tmcat02"
      ]
    },
    {
      "cell_type": "code",
      "metadata": {
        "id": "CxB_ghrgEX1e",
        "outputId": "98580775-3546-48e9-be68-e75a25aebc6c",
        "colab": {
          "base_uri": "https://localhost:8080/",
          "height": 0
        }
      },
      "source": [
        "plt.figure(figsize=(10,5))\n",
        "sns.boxplot(x=df.tmcat02[ df.tmcat02 != 0 ])"
      ],
      "execution_count": 19,
      "outputs": [
        {
          "output_type": "execute_result",
          "data": {
            "text/plain": [
              "<matplotlib.axes._subplots.AxesSubplot at 0x7f3fbebdcfd0>"
            ]
          },
          "metadata": {
            "tags": []
          },
          "execution_count": 19
        },
        {
          "output_type": "display_data",
          "data": {
            "image/png": "[encoded data removed]",
            "text/plain": [
              "<Figure size 720x360 with 1 Axes>"
            ]
          },
          "metadata": {
            "tags": [],
            "needs_background": "light"
          }
        }
      ]
    },
    {
      "cell_type": "markdown",
      "metadata": {
        "id": "pj5LJeDHEwRD"
      },
      "source": [
        "Revisar 3 valores (*)"
      ]
    },
    {
      "cell_type": "markdown",
      "metadata": {
        "id": "ZY835t2RENUW"
      },
      "source": [
        "##tmcat03"
      ]
    },
    {
      "cell_type": "code",
      "metadata": {
        "id": "yiluJdTwEYVa",
        "outputId": "9cd41cd9-2047-4bf4-ba6f-07ee771854c2",
        "colab": {
          "base_uri": "https://localhost:8080/",
          "height": 0
        }
      },
      "source": [
        "plt.figure(figsize=(10,5))\n",
        "sns.boxplot(x=df.tmcat03[ df.tmcat03 != 0 ])"
      ],
      "execution_count": 20,
      "outputs": [
        {
          "output_type": "execute_result",
          "data": {
            "text/plain": [
              "<matplotlib.axes._subplots.AxesSubplot at 0x7f3fc5294080>"
            ]
          },
          "metadata": {
            "tags": []
          },
          "execution_count": 20
        },
        {
          "output_type": "display_data",
          "data": {
            "image/png": "[encoded data removed]",
            "text/plain": [
              "<Figure size 720x360 with 1 Axes>"
            ]
          },
          "metadata": {
            "tags": [],
            "needs_background": "light"
          }
        }
      ]
    },
    {
      "cell_type": "markdown",
      "metadata": {
        "id": "goVuMaw_ENLx"
      },
      "source": [
        "##tmcat04"
      ]
    },
    {
      "cell_type": "code",
      "metadata": {
        "id": "LNBDxzspEY3t",
        "outputId": "d2c64097-02e4-4a8a-8fa9-84b140e3f5ca",
        "colab": {
          "base_uri": "https://localhost:8080/",
          "height": 0
        }
      },
      "source": [
        "plt.figure(figsize=(10,5))\n",
        "sns.boxplot(x=df.tmcat04[ df.tmcat04 != 0 ])"
      ],
      "execution_count": 21,
      "outputs": [
        {
          "output_type": "execute_result",
          "data": {
            "text/plain": [
              "<matplotlib.axes._subplots.AxesSubplot at 0x7f3fbf388198>"
            ]
          },
          "metadata": {
            "tags": []
          },
          "execution_count": 21
        },
        {
          "output_type": "display_data",
          "data": {
            "image/png": "[encoded data removed]",
            "text/plain": [
              "<Figure size 720x360 with 1 Axes>"
            ]
          },
          "metadata": {
            "tags": [],
            "needs_background": "light"
          }
        }
      ]
    },
    {
      "cell_type": "markdown",
      "metadata": {
        "id": "7mxdvpPwEThZ"
      },
      "source": [
        "##tmcat05"
      ]
    },
    {
      "cell_type": "code",
      "metadata": {
        "id": "LlozduwZEZUT",
        "outputId": "d3ba976d-1d0f-4f0f-a2e6-973560948192",
        "colab": {
          "base_uri": "https://localhost:8080/",
          "height": 0
        }
      },
      "source": [
        "plt.figure(figsize=(10,5))\n",
        "sns.boxplot(x=df.tmcat05[ df.tmcat05 != 0 ])"
      ],
      "execution_count": 22,
      "outputs": [
        {
          "output_type": "execute_result",
          "data": {
            "text/plain": [
              "<matplotlib.axes._subplots.AxesSubplot at 0x7f3fc4bc3f60>"
            ]
          },
          "metadata": {
            "tags": []
          },
          "execution_count": 22
        },
        {
          "output_type": "display_data",
          "data": {
            "image/png": "[encoded data removed]",
            "text/plain": [
              "<Figure size 720x360 with 1 Axes>"
            ]
          },
          "metadata": {
            "tags": [],
            "needs_background": "light"
          }
        }
      ]
    },
    {
      "cell_type": "markdown",
      "metadata": {
        "id": "njZtHznhEUbp"
      },
      "source": [
        "##tmcat06"
      ]
    },
    {
      "cell_type": "code",
      "metadata": {
        "id": "ShWVO6mmEaeI",
        "outputId": "53728744-5f9d-47a3-9c4f-023f58349ff5",
        "colab": {
          "base_uri": "https://localhost:8080/",
          "height": 0
        }
      },
      "source": [
        "plt.figure(figsize=(10,5))\n",
        "sns.boxplot(x=df.tmcat06[ df.tmcat06 != 0 ])"
      ],
      "execution_count": 23,
      "outputs": [
        {
          "output_type": "execute_result",
          "data": {
            "text/plain": [
              "<matplotlib.axes._subplots.AxesSubplot at 0x7f3fc3d3dc50>"
            ]
          },
          "metadata": {
            "tags": []
          },
          "execution_count": 23
        },
        {
          "output_type": "display_data",
          "data": {
            "image/png": "[encoded data removed]",
            "text/plain": [
              "<Figure size 720x360 with 1 Axes>"
            ]
          },
          "metadata": {
            "tags": [],
            "needs_background": "light"
          }
        }
      ]
    },
    {
      "cell_type": "markdown",
      "metadata": {
        "id": "4HkOnVtHEVlk"
      },
      "source": [
        "##tmcat07"
      ]
    },
    {
      "cell_type": "code",
      "metadata": {
        "id": "ZBBbYzuDFTCd",
        "outputId": "652e2cf6-8010-41b5-81dd-3114e056241f",
        "colab": {
          "base_uri": "https://localhost:8080/",
          "height": 0
        }
      },
      "source": [
        "plt.figure(figsize=(10,5))\n",
        "sns.boxplot(x=df.tmcat07[ df.tmcat07 != 0 ])"
      ],
      "execution_count": 24,
      "outputs": [
        {
          "output_type": "execute_result",
          "data": {
            "text/plain": [
              "<matplotlib.axes._subplots.AxesSubplot at 0x7f3fc49fe9e8>"
            ]
          },
          "metadata": {
            "tags": []
          },
          "execution_count": 24
        },
        {
          "output_type": "display_data",
          "data": {
            "image/png": "[encoded data removed]",
            "text/plain": [
              "<Figure size 720x360 with 1 Axes>"
            ]
          },
          "metadata": {
            "tags": [],
            "needs_background": "light"
          }
        }
      ]
    },
    {
      "cell_type": "markdown",
      "metadata": {
        "id": "fABbrR1qxJip"
      },
      "source": [
        "# Cargas (Data 1)"
      ]
    },
    {
      "cell_type": "code",
      "metadata": {
        "id": "S1FlU5YkxTsO",
        "outputId": "5e101951-de7d-4299-ce17-7c0a36fe17a8",
        "colab": {
          "base_uri": "https://localhost:8080/"
        }
      },
      "source": [
        "df_loads.columns"
      ],
      "execution_count": 25,
      "outputs": [
        {
          "output_type": "execute_result",
          "data": {
            "text/plain": [
              "Index(['shiftdate', 'shift#', 'start', 'crew', 'eqmtid', 'logintime', 'locid',\n",
              "       'operid', 'totaltime', 'pit', 'unit', 'totalloads', 'totaltons',\n",
              "       'loadtime', 'idletime', 'spottime', 'loadcnt', 'tmcat00', 'tmcat01',\n",
              "       'tmcat02', 'tmcat03', 'tmcat04', 'tmcat05', 'tmcat06', 'tmcat07', 'Dia',\n",
              "       'Mes', 'Año'],\n",
              "      dtype='object')"
            ]
          },
          "metadata": {
            "tags": []
          },
          "execution_count": 25
        }
      ]
    },
    {
      "cell_type": "code",
      "metadata": {
        "id": "I7Fy1X6nxQSw"
      },
      "source": [
        "data_2019 = df_loads[df_loads.Año == \"2019\"]\n",
        "data_2020 = df_loads[df_loads.Año == \"2020\"]"
      ],
      "execution_count": 26,
      "outputs": []
    },
    {
      "cell_type": "code",
      "metadata": {
        "id": "SFoNxpQIxR_n",
        "outputId": "66f592e2-3d56-463d-d350-e14afddeeea7",
        "colab": {
          "base_uri": "https://localhost:8080/",
          "height": 449
        }
      },
      "source": [
        "plt.figure(figsize=(20,8))\n",
        "sns.lineplot(x=\"shiftdate\", y=\"totaltons\",data=data_2019)"
      ],
      "execution_count": 27,
      "outputs": [
        {
          "output_type": "execute_result",
          "data": {
            "text/plain": [
              "<matplotlib.axes._subplots.AxesSubplot at 0x7f3fc3cec2e8>"
            ]
          },
          "metadata": {
            "tags": []
          },
          "execution_count": 27
        },
        {
          "output_type": "display_data",
          "data": {
            "image/png": "[encoded data removed]",
            "text/plain": [
              "<Figure size 1440x576 with 1 Axes>"
            ]
          },
          "metadata": {
            "tags": [],
            "needs_background": "light"
          }
        }
      ]
    },
    {
      "cell_type": "markdown",
      "metadata": {
        "id": "vHPX8TjJMELi"
      },
      "source": [
        "Se encuentran 5 segmentos donde las toneladas son iguales a 0"
      ]
    },
    {
      "cell_type": "code",
      "metadata": {
        "id": "y-jaFUN5MDV5",
        "outputId": "166ab887-47d2-48ce-b873-6c75556d1b22",
        "colab": {
          "base_uri": "https://localhost:8080/",
          "height": 447
        }
      },
      "source": [
        "plt.figure(figsize=(20,8))\n",
        "sns.lineplot(x=\"shiftdate\", y=\"tmcat06\",data=data_2019)"
      ],
      "execution_count": 28,
      "outputs": [
        {
          "output_type": "execute_result",
          "data": {
            "text/plain": [
              "<matplotlib.axes._subplots.AxesSubplot at 0x7f3fc499ab70>"
            ]
          },
          "metadata": {
            "tags": []
          },
          "execution_count": 28
        },
        {
          "output_type": "display_data",
          "data": {
            "image/png": "[encoded data removed]",
            "text/plain": [
              "<Figure size 1440x576 with 1 Axes>"
            ]
          },
          "metadata": {
            "tags": [],
            "needs_background": "light"
          }
        }
      ]
    },
    {
      "cell_type": "code",
      "metadata": {
        "id": "zlLUx1sTLlxL",
        "outputId": "feac177a-0683-494f-ddd5-18991891d512",
        "colab": {
          "base_uri": "https://localhost:8080/",
          "height": 451
        }
      },
      "source": [
        "plt.figure(figsize=(20,8))\n",
        "sns.lineplot(x=\"shiftdate\", y=\"totaltons\",data=data_2020)"
      ],
      "execution_count": 29,
      "outputs": [
        {
          "output_type": "execute_result",
          "data": {
            "text/plain": [
              "<matplotlib.axes._subplots.AxesSubplot at 0x7f3fc9223630>"
            ]
          },
          "metadata": {
            "tags": []
          },
          "execution_count": 29
        },
        {
          "output_type": "display_data",
          "data": {
            "image/png": "[encoded data removed]",
            "text/plain": [
              "<Figure size 1440x576 with 1 Axes>"
            ]
          },
          "metadata": {
            "tags": [],
            "needs_background": "light"
          }
        }
      ]
    },
    {
      "cell_type": "code",
      "metadata": {
        "id": "zievGA9_Ntyz",
        "outputId": "a6b99f92-741a-4171-ea28-434ca72c1c32",
        "colab": {
          "base_uri": "https://localhost:8080/",
          "height": 447
        }
      },
      "source": [
        "plt.figure(figsize=(20,8))\n",
        "sns.lineplot(x=\"shiftdate\", y=\"tmcat06\",data=data_2020)"
      ],
      "execution_count": 30,
      "outputs": [
        {
          "output_type": "execute_result",
          "data": {
            "text/plain": [
              "<matplotlib.axes._subplots.AxesSubplot at 0x7f3fc489a5f8>"
            ]
          },
          "metadata": {
            "tags": []
          },
          "execution_count": 30
        },
        {
          "output_type": "display_data",
          "data": {
            "image/png": "[encoded data removed]",
            "text/plain": [
              "<Figure size 1440x576 with 1 Axes>"
            ]
          },
          "metadata": {
            "tags": [],
            "needs_background": "light"
          }
        }
      ]
    },
    {
      "cell_type": "markdown",
      "metadata": {
        "id": "QtcJ6uyftzFy"
      },
      "source": [
        "##Data 1 - Palas"
      ]
    },
    {
      "cell_type": "code",
      "metadata": {
        "id": "0jHpwmLut1XI"
      },
      "source": [
        "df_palas = df_loads[df_loads.unit == 'Pala']"
      ],
      "execution_count": 31,
      "outputs": []
    },
    {
      "cell_type": "code",
      "metadata": {
        "id": "LEG4UGnEy1P7"
      },
      "source": [
        "def rellena(value):\n",
        "  if value == ' ':\n",
        "    return 'vacio'\n",
        "  else:\n",
        "    return value"
      ],
      "execution_count": 32,
      "outputs": []
    },
    {
      "cell_type": "code",
      "metadata": {
        "id": "2U3z3J2Gy1JW",
        "outputId": "26e55c7d-e511-4cab-b030-ac033f8acddc",
        "colab": {
          "base_uri": "https://localhost:8080/"
        }
      },
      "source": [
        "df_palas['locid_'] = df_palas.apply(lambda row : rellena(row['locid']),axis=1)"
      ],
      "execution_count": 33,
      "outputs": [
        {
          "output_type": "stream",
          "text": [
            "/usr/local/lib/python3.6/dist-packages/ipykernel_launcher.py:1: SettingWithCopyWarning: \n",
            "A value is trying to be set on a copy of a slice from a DataFrame.\n",
            "Try using .loc[row_indexer,col_indexer] = value instead\n",
            "\n",
            "See the caveats in the documentation: https://pandas.pydata.org/pandas-docs/stable/user_guide/indexing.html#returning-a-view-versus-a-copy\n",
            "  \"\"\"Entry point for launching an IPython kernel.\n"
          ],
          "name": "stderr"
        }
      ]
    },
    {
      "cell_type": "code",
      "metadata": {
        "id": "kRhT4OKurigf",
        "outputId": "9f56a2b6-63a0-4870-b0ed-b244d7996938",
        "colab": {
          "base_uri": "https://localhost:8080/",
          "height": 589
        }
      },
      "source": [
        "group = df_palas.groupby(['locid_']).count()\n",
        "pd.DataFrame(group)"
      ],
      "execution_count": 34,
      "outputs": [
        {
          "output_type": "execute_result",
          "data": {
            "text/html": [
              "<div>\n",
              "<style scoped>\n",
              "    .dataframe tbody tr th:only-of-type {\n",
              "        vertical-align: middle;\n",
              "    }\n",
              "\n",
              "    .dataframe tbody tr th {\n",
              "        vertical-align: top;\n",
              "    }\n",
              "\n",
              "    .dataframe thead th {\n",
              "        text-align: right;\n",
              "    }\n",
              "</style>\n",
              "<table border=\"1\" class=\"dataframe\">\n",
              "  <thead>\n",
              "    <tr style=\"text-align: right;\">\n",
              "      <th></th>\n",
              "      <th>shiftdate</th>\n",
              "      <th>shift#</th>\n",
              "      <th>start</th>\n",
              "      <th>crew</th>\n",
              "      <th>eqmtid</th>\n",
              "      <th>logintime</th>\n",
              "      <th>locid</th>\n",
              "      <th>operid</th>\n",
              "      <th>totaltime</th>\n",
              "      <th>pit</th>\n",
              "      <th>unit</th>\n",
              "      <th>totalloads</th>\n",
              "      <th>totaltons</th>\n",
              "      <th>loadtime</th>\n",
              "      <th>idletime</th>\n",
              "      <th>spottime</th>\n",
              "      <th>loadcnt</th>\n",
              "      <th>tmcat00</th>\n",
              "      <th>tmcat01</th>\n",
              "      <th>tmcat02</th>\n",
              "      <th>tmcat03</th>\n",
              "      <th>tmcat04</th>\n",
              "      <th>tmcat05</th>\n",
              "      <th>tmcat06</th>\n",
              "      <th>tmcat07</th>\n",
              "      <th>Dia</th>\n",
              "      <th>Mes</th>\n",
              "      <th>Año</th>\n",
              "    </tr>\n",
              "    <tr>\n",
              "      <th>locid_</th>\n",
              "      <th></th>\n",
              "      <th></th>\n",
              "      <th></th>\n",
              "      <th></th>\n",
              "      <th></th>\n",
              "      <th></th>\n",
              "      <th></th>\n",
              "      <th></th>\n",
              "      <th></th>\n",
              "      <th></th>\n",
              "      <th></th>\n",
              "      <th></th>\n",
              "      <th></th>\n",
              "      <th></th>\n",
              "      <th></th>\n",
              "      <th></th>\n",
              "      <th></th>\n",
              "      <th></th>\n",
              "      <th></th>\n",
              "      <th></th>\n",
              "      <th></th>\n",
              "      <th></th>\n",
              "      <th></th>\n",
              "      <th></th>\n",
              "      <th></th>\n",
              "      <th></th>\n",
              "      <th></th>\n",
              "      <th></th>\n",
              "    </tr>\n",
              "  </thead>\n",
              "  <tbody>\n",
              "    <tr>\n",
              "      <th>ACOP DIB</th>\n",
              "      <td>221</td>\n",
              "      <td>221</td>\n",
              "      <td>221</td>\n",
              "      <td>221</td>\n",
              "      <td>221</td>\n",
              "      <td>221</td>\n",
              "      <td>221</td>\n",
              "      <td>221</td>\n",
              "      <td>221</td>\n",
              "      <td>221</td>\n",
              "      <td>221</td>\n",
              "      <td>221</td>\n",
              "      <td>221</td>\n",
              "      <td>221</td>\n",
              "      <td>221</td>\n",
              "      <td>221</td>\n",
              "      <td>221</td>\n",
              "      <td>221</td>\n",
              "      <td>221</td>\n",
              "      <td>221</td>\n",
              "      <td>221</td>\n",
              "      <td>221</td>\n",
              "      <td>221</td>\n",
              "      <td>221</td>\n",
              "      <td>221</td>\n",
              "      <td>221</td>\n",
              "      <td>221</td>\n",
              "      <td>221</td>\n",
              "    </tr>\n",
              "    <tr>\n",
              "      <th>ACOP-BOL-BRA</th>\n",
              "      <td>4</td>\n",
              "      <td>4</td>\n",
              "      <td>4</td>\n",
              "      <td>4</td>\n",
              "      <td>4</td>\n",
              "      <td>4</td>\n",
              "      <td>4</td>\n",
              "      <td>4</td>\n",
              "      <td>4</td>\n",
              "      <td>4</td>\n",
              "      <td>4</td>\n",
              "      <td>4</td>\n",
              "      <td>4</td>\n",
              "      <td>4</td>\n",
              "      <td>4</td>\n",
              "      <td>4</td>\n",
              "      <td>4</td>\n",
              "      <td>4</td>\n",
              "      <td>4</td>\n",
              "      <td>4</td>\n",
              "      <td>4</td>\n",
              "      <td>4</td>\n",
              "      <td>4</td>\n",
              "      <td>4</td>\n",
              "      <td>4</td>\n",
              "      <td>4</td>\n",
              "      <td>4</td>\n",
              "      <td>4</td>\n",
              "    </tr>\n",
              "    <tr>\n",
              "      <th>ACOP-BRA</th>\n",
              "      <td>514</td>\n",
              "      <td>514</td>\n",
              "      <td>514</td>\n",
              "      <td>514</td>\n",
              "      <td>514</td>\n",
              "      <td>514</td>\n",
              "      <td>514</td>\n",
              "      <td>514</td>\n",
              "      <td>514</td>\n",
              "      <td>514</td>\n",
              "      <td>514</td>\n",
              "      <td>514</td>\n",
              "      <td>514</td>\n",
              "      <td>514</td>\n",
              "      <td>514</td>\n",
              "      <td>514</td>\n",
              "      <td>514</td>\n",
              "      <td>514</td>\n",
              "      <td>514</td>\n",
              "      <td>514</td>\n",
              "      <td>514</td>\n",
              "      <td>514</td>\n",
              "      <td>514</td>\n",
              "      <td>514</td>\n",
              "      <td>514</td>\n",
              "      <td>514</td>\n",
              "      <td>514</td>\n",
              "      <td>514</td>\n",
              "    </tr>\n",
              "    <tr>\n",
              "      <th>ACOP-BRA-BAJO-AL</th>\n",
              "      <td>1</td>\n",
              "      <td>1</td>\n",
              "      <td>1</td>\n",
              "      <td>1</td>\n",
              "      <td>1</td>\n",
              "      <td>1</td>\n",
              "      <td>1</td>\n",
              "      <td>1</td>\n",
              "      <td>1</td>\n",
              "      <td>1</td>\n",
              "      <td>1</td>\n",
              "      <td>1</td>\n",
              "      <td>1</td>\n",
              "      <td>1</td>\n",
              "      <td>1</td>\n",
              "      <td>1</td>\n",
              "      <td>1</td>\n",
              "      <td>1</td>\n",
              "      <td>1</td>\n",
              "      <td>1</td>\n",
              "      <td>1</td>\n",
              "      <td>1</td>\n",
              "      <td>1</td>\n",
              "      <td>1</td>\n",
              "      <td>1</td>\n",
              "      <td>1</td>\n",
              "      <td>1</td>\n",
              "      <td>1</td>\n",
              "    </tr>\n",
              "    <tr>\n",
              "      <th>ACOP-MAP ALTO P</th>\n",
              "      <td>205</td>\n",
              "      <td>205</td>\n",
              "      <td>205</td>\n",
              "      <td>205</td>\n",
              "      <td>205</td>\n",
              "      <td>205</td>\n",
              "      <td>205</td>\n",
              "      <td>205</td>\n",
              "      <td>205</td>\n",
              "      <td>205</td>\n",
              "      <td>205</td>\n",
              "      <td>205</td>\n",
              "      <td>205</td>\n",
              "      <td>205</td>\n",
              "      <td>205</td>\n",
              "      <td>205</td>\n",
              "      <td>205</td>\n",
              "      <td>205</td>\n",
              "      <td>205</td>\n",
              "      <td>205</td>\n",
              "      <td>205</td>\n",
              "      <td>205</td>\n",
              "      <td>205</td>\n",
              "      <td>205</td>\n",
              "      <td>205</td>\n",
              "      <td>205</td>\n",
              "      <td>205</td>\n",
              "      <td>205</td>\n",
              "    </tr>\n",
              "    <tr>\n",
              "      <th>...</th>\n",
              "      <td>...</td>\n",
              "      <td>...</td>\n",
              "      <td>...</td>\n",
              "      <td>...</td>\n",
              "      <td>...</td>\n",
              "      <td>...</td>\n",
              "      <td>...</td>\n",
              "      <td>...</td>\n",
              "      <td>...</td>\n",
              "      <td>...</td>\n",
              "      <td>...</td>\n",
              "      <td>...</td>\n",
              "      <td>...</td>\n",
              "      <td>...</td>\n",
              "      <td>...</td>\n",
              "      <td>...</td>\n",
              "      <td>...</td>\n",
              "      <td>...</td>\n",
              "      <td>...</td>\n",
              "      <td>...</td>\n",
              "      <td>...</td>\n",
              "      <td>...</td>\n",
              "      <td>...</td>\n",
              "      <td>...</td>\n",
              "      <td>...</td>\n",
              "      <td>...</td>\n",
              "      <td>...</td>\n",
              "      <td>...</td>\n",
              "    </tr>\n",
              "    <tr>\n",
              "      <th>TY435129</th>\n",
              "      <td>38</td>\n",
              "      <td>38</td>\n",
              "      <td>38</td>\n",
              "      <td>38</td>\n",
              "      <td>38</td>\n",
              "      <td>38</td>\n",
              "      <td>38</td>\n",
              "      <td>38</td>\n",
              "      <td>38</td>\n",
              "      <td>38</td>\n",
              "      <td>38</td>\n",
              "      <td>38</td>\n",
              "      <td>38</td>\n",
              "      <td>38</td>\n",
              "      <td>38</td>\n",
              "      <td>38</td>\n",
              "      <td>38</td>\n",
              "      <td>38</td>\n",
              "      <td>38</td>\n",
              "      <td>38</td>\n",
              "      <td>38</td>\n",
              "      <td>38</td>\n",
              "      <td>38</td>\n",
              "      <td>38</td>\n",
              "      <td>38</td>\n",
              "      <td>38</td>\n",
              "      <td>38</td>\n",
              "      <td>38</td>\n",
              "    </tr>\n",
              "    <tr>\n",
              "      <th>TY435130</th>\n",
              "      <td>11</td>\n",
              "      <td>11</td>\n",
              "      <td>11</td>\n",
              "      <td>11</td>\n",
              "      <td>11</td>\n",
              "      <td>11</td>\n",
              "      <td>11</td>\n",
              "      <td>11</td>\n",
              "      <td>11</td>\n",
              "      <td>11</td>\n",
              "      <td>11</td>\n",
              "      <td>11</td>\n",
              "      <td>11</td>\n",
              "      <td>11</td>\n",
              "      <td>11</td>\n",
              "      <td>11</td>\n",
              "      <td>11</td>\n",
              "      <td>11</td>\n",
              "      <td>11</td>\n",
              "      <td>11</td>\n",
              "      <td>11</td>\n",
              "      <td>11</td>\n",
              "      <td>11</td>\n",
              "      <td>11</td>\n",
              "      <td>11</td>\n",
              "      <td>11</td>\n",
              "      <td>11</td>\n",
              "      <td>11</td>\n",
              "    </tr>\n",
              "    <tr>\n",
              "      <th>TY450027</th>\n",
              "      <td>78</td>\n",
              "      <td>78</td>\n",
              "      <td>78</td>\n",
              "      <td>78</td>\n",
              "      <td>78</td>\n",
              "      <td>78</td>\n",
              "      <td>78</td>\n",
              "      <td>78</td>\n",
              "      <td>78</td>\n",
              "      <td>78</td>\n",
              "      <td>78</td>\n",
              "      <td>78</td>\n",
              "      <td>78</td>\n",
              "      <td>78</td>\n",
              "      <td>78</td>\n",
              "      <td>78</td>\n",
              "      <td>78</td>\n",
              "      <td>78</td>\n",
              "      <td>78</td>\n",
              "      <td>78</td>\n",
              "      <td>78</td>\n",
              "      <td>78</td>\n",
              "      <td>78</td>\n",
              "      <td>78</td>\n",
              "      <td>78</td>\n",
              "      <td>78</td>\n",
              "      <td>78</td>\n",
              "      <td>78</td>\n",
              "    </tr>\n",
              "    <tr>\n",
              "      <th>TY450080</th>\n",
              "      <td>28</td>\n",
              "      <td>28</td>\n",
              "      <td>28</td>\n",
              "      <td>28</td>\n",
              "      <td>28</td>\n",
              "      <td>28</td>\n",
              "      <td>28</td>\n",
              "      <td>28</td>\n",
              "      <td>28</td>\n",
              "      <td>28</td>\n",
              "      <td>28</td>\n",
              "      <td>28</td>\n",
              "      <td>28</td>\n",
              "      <td>28</td>\n",
              "      <td>28</td>\n",
              "      <td>28</td>\n",
              "      <td>28</td>\n",
              "      <td>28</td>\n",
              "      <td>28</td>\n",
              "      <td>28</td>\n",
              "      <td>28</td>\n",
              "      <td>28</td>\n",
              "      <td>28</td>\n",
              "      <td>28</td>\n",
              "      <td>28</td>\n",
              "      <td>28</td>\n",
              "      <td>28</td>\n",
              "      <td>28</td>\n",
              "    </tr>\n",
              "    <tr>\n",
              "      <th>vacio</th>\n",
              "      <td>10828</td>\n",
              "      <td>10828</td>\n",
              "      <td>10828</td>\n",
              "      <td>10828</td>\n",
              "      <td>10828</td>\n",
              "      <td>10828</td>\n",
              "      <td>10828</td>\n",
              "      <td>10828</td>\n",
              "      <td>10828</td>\n",
              "      <td>10828</td>\n",
              "      <td>10828</td>\n",
              "      <td>10828</td>\n",
              "      <td>10828</td>\n",
              "      <td>10828</td>\n",
              "      <td>10828</td>\n",
              "      <td>10828</td>\n",
              "      <td>10828</td>\n",
              "      <td>10828</td>\n",
              "      <td>10828</td>\n",
              "      <td>10828</td>\n",
              "      <td>10828</td>\n",
              "      <td>10828</td>\n",
              "      <td>10828</td>\n",
              "      <td>10828</td>\n",
              "      <td>10828</td>\n",
              "      <td>10828</td>\n",
              "      <td>10828</td>\n",
              "      <td>10828</td>\n",
              "    </tr>\n",
              "  </tbody>\n",
              "</table>\n",
              "<p>419 rows × 28 columns</p>\n",
              "</div>"
            ],
            "text/plain": [
              "                  shiftdate  shift#  start   crew  ...  tmcat07    Dia    Mes    Año\n",
              "locid_                                             ...                              \n",
              "ACOP DIB                221     221    221    221  ...      221    221    221    221\n",
              "ACOP-BOL-BRA              4       4      4      4  ...        4      4      4      4\n",
              "ACOP-BRA                514     514    514    514  ...      514    514    514    514\n",
              "ACOP-BRA-BAJO-AL          1       1      1      1  ...        1      1      1      1\n",
              "ACOP-MAP ALTO P         205     205    205    205  ...      205    205    205    205\n",
              "...                     ...     ...    ...    ...  ...      ...    ...    ...    ...\n",
              "TY435129                 38      38     38     38  ...       38     38     38     38\n",
              "TY435130                 11      11     11     11  ...       11     11     11     11\n",
              "TY450027                 78      78     78     78  ...       78     78     78     78\n",
              "TY450080                 28      28     28     28  ...       28     28     28     28\n",
              "vacio                 10828   10828  10828  10828  ...    10828  10828  10828  10828\n",
              "\n",
              "[419 rows x 28 columns]"
            ]
          },
          "metadata": {
            "tags": []
          },
          "execution_count": 34
        }
      ]
    },
    {
      "cell_type": "code",
      "metadata": {
        "id": "2O9tpApqzW5x",
        "outputId": "cbd7d946-2d78-4e25-a164-8b8434a4d47b",
        "colab": {
          "base_uri": "https://localhost:8080/",
          "height": 658
        }
      },
      "source": [
        "group = df_palas.groupby(['eqmtid']).count()\n",
        "pd.DataFrame(group)"
      ],
      "execution_count": 35,
      "outputs": [
        {
          "output_type": "execute_result",
          "data": {
            "text/html": [
              "<div>\n",
              "<style scoped>\n",
              "    .dataframe tbody tr th:only-of-type {\n",
              "        vertical-align: middle;\n",
              "    }\n",
              "\n",
              "    .dataframe tbody tr th {\n",
              "        vertical-align: top;\n",
              "    }\n",
              "\n",
              "    .dataframe thead th {\n",
              "        text-align: right;\n",
              "    }\n",
              "</style>\n",
              "<table border=\"1\" class=\"dataframe\">\n",
              "  <thead>\n",
              "    <tr style=\"text-align: right;\">\n",
              "      <th></th>\n",
              "      <th>shiftdate</th>\n",
              "      <th>shift#</th>\n",
              "      <th>start</th>\n",
              "      <th>crew</th>\n",
              "      <th>logintime</th>\n",
              "      <th>locid</th>\n",
              "      <th>operid</th>\n",
              "      <th>totaltime</th>\n",
              "      <th>pit</th>\n",
              "      <th>unit</th>\n",
              "      <th>totalloads</th>\n",
              "      <th>totaltons</th>\n",
              "      <th>loadtime</th>\n",
              "      <th>idletime</th>\n",
              "      <th>spottime</th>\n",
              "      <th>loadcnt</th>\n",
              "      <th>tmcat00</th>\n",
              "      <th>tmcat01</th>\n",
              "      <th>tmcat02</th>\n",
              "      <th>tmcat03</th>\n",
              "      <th>tmcat04</th>\n",
              "      <th>tmcat05</th>\n",
              "      <th>tmcat06</th>\n",
              "      <th>tmcat07</th>\n",
              "      <th>Dia</th>\n",
              "      <th>Mes</th>\n",
              "      <th>Año</th>\n",
              "      <th>locid_</th>\n",
              "    </tr>\n",
              "    <tr>\n",
              "      <th>eqmtid</th>\n",
              "      <th></th>\n",
              "      <th></th>\n",
              "      <th></th>\n",
              "      <th></th>\n",
              "      <th></th>\n",
              "      <th></th>\n",
              "      <th></th>\n",
              "      <th></th>\n",
              "      <th></th>\n",
              "      <th></th>\n",
              "      <th></th>\n",
              "      <th></th>\n",
              "      <th></th>\n",
              "      <th></th>\n",
              "      <th></th>\n",
              "      <th></th>\n",
              "      <th></th>\n",
              "      <th></th>\n",
              "      <th></th>\n",
              "      <th></th>\n",
              "      <th></th>\n",
              "      <th></th>\n",
              "      <th></th>\n",
              "      <th></th>\n",
              "      <th></th>\n",
              "      <th></th>\n",
              "      <th></th>\n",
              "      <th></th>\n",
              "    </tr>\n",
              "  </thead>\n",
              "  <tbody>\n",
              "    <tr>\n",
              "      <th>025</th>\n",
              "      <td>982</td>\n",
              "      <td>982</td>\n",
              "      <td>982</td>\n",
              "      <td>982</td>\n",
              "      <td>982</td>\n",
              "      <td>982</td>\n",
              "      <td>982</td>\n",
              "      <td>982</td>\n",
              "      <td>982</td>\n",
              "      <td>982</td>\n",
              "      <td>982</td>\n",
              "      <td>982</td>\n",
              "      <td>982</td>\n",
              "      <td>982</td>\n",
              "      <td>982</td>\n",
              "      <td>982</td>\n",
              "      <td>982</td>\n",
              "      <td>982</td>\n",
              "      <td>982</td>\n",
              "      <td>982</td>\n",
              "      <td>982</td>\n",
              "      <td>982</td>\n",
              "      <td>982</td>\n",
              "      <td>982</td>\n",
              "      <td>982</td>\n",
              "      <td>982</td>\n",
              "      <td>982</td>\n",
              "      <td>982</td>\n",
              "    </tr>\n",
              "    <tr>\n",
              "      <th>026</th>\n",
              "      <td>950</td>\n",
              "      <td>950</td>\n",
              "      <td>950</td>\n",
              "      <td>950</td>\n",
              "      <td>950</td>\n",
              "      <td>950</td>\n",
              "      <td>950</td>\n",
              "      <td>950</td>\n",
              "      <td>950</td>\n",
              "      <td>950</td>\n",
              "      <td>950</td>\n",
              "      <td>950</td>\n",
              "      <td>950</td>\n",
              "      <td>950</td>\n",
              "      <td>950</td>\n",
              "      <td>950</td>\n",
              "      <td>950</td>\n",
              "      <td>950</td>\n",
              "      <td>950</td>\n",
              "      <td>950</td>\n",
              "      <td>950</td>\n",
              "      <td>950</td>\n",
              "      <td>950</td>\n",
              "      <td>950</td>\n",
              "      <td>950</td>\n",
              "      <td>950</td>\n",
              "      <td>950</td>\n",
              "      <td>950</td>\n",
              "    </tr>\n",
              "    <tr>\n",
              "      <th>029</th>\n",
              "      <td>902</td>\n",
              "      <td>902</td>\n",
              "      <td>902</td>\n",
              "      <td>902</td>\n",
              "      <td>902</td>\n",
              "      <td>902</td>\n",
              "      <td>902</td>\n",
              "      <td>902</td>\n",
              "      <td>902</td>\n",
              "      <td>902</td>\n",
              "      <td>902</td>\n",
              "      <td>902</td>\n",
              "      <td>902</td>\n",
              "      <td>902</td>\n",
              "      <td>902</td>\n",
              "      <td>902</td>\n",
              "      <td>902</td>\n",
              "      <td>902</td>\n",
              "      <td>902</td>\n",
              "      <td>902</td>\n",
              "      <td>902</td>\n",
              "      <td>902</td>\n",
              "      <td>902</td>\n",
              "      <td>902</td>\n",
              "      <td>902</td>\n",
              "      <td>902</td>\n",
              "      <td>902</td>\n",
              "      <td>902</td>\n",
              "    </tr>\n",
              "    <tr>\n",
              "      <th>030</th>\n",
              "      <td>871</td>\n",
              "      <td>871</td>\n",
              "      <td>871</td>\n",
              "      <td>871</td>\n",
              "      <td>871</td>\n",
              "      <td>871</td>\n",
              "      <td>871</td>\n",
              "      <td>871</td>\n",
              "      <td>871</td>\n",
              "      <td>871</td>\n",
              "      <td>871</td>\n",
              "      <td>871</td>\n",
              "      <td>871</td>\n",
              "      <td>871</td>\n",
              "      <td>871</td>\n",
              "      <td>871</td>\n",
              "      <td>871</td>\n",
              "      <td>871</td>\n",
              "      <td>871</td>\n",
              "      <td>871</td>\n",
              "      <td>871</td>\n",
              "      <td>871</td>\n",
              "      <td>871</td>\n",
              "      <td>871</td>\n",
              "      <td>871</td>\n",
              "      <td>871</td>\n",
              "      <td>871</td>\n",
              "      <td>871</td>\n",
              "    </tr>\n",
              "    <tr>\n",
              "      <th>210</th>\n",
              "      <td>1822</td>\n",
              "      <td>1822</td>\n",
              "      <td>1822</td>\n",
              "      <td>1822</td>\n",
              "      <td>1822</td>\n",
              "      <td>1822</td>\n",
              "      <td>1822</td>\n",
              "      <td>1822</td>\n",
              "      <td>1822</td>\n",
              "      <td>1822</td>\n",
              "      <td>1822</td>\n",
              "      <td>1822</td>\n",
              "      <td>1822</td>\n",
              "      <td>1822</td>\n",
              "      <td>1822</td>\n",
              "      <td>1822</td>\n",
              "      <td>1822</td>\n",
              "      <td>1822</td>\n",
              "      <td>1822</td>\n",
              "      <td>1822</td>\n",
              "      <td>1822</td>\n",
              "      <td>1822</td>\n",
              "      <td>1822</td>\n",
              "      <td>1822</td>\n",
              "      <td>1822</td>\n",
              "      <td>1822</td>\n",
              "      <td>1822</td>\n",
              "      <td>1822</td>\n",
              "    </tr>\n",
              "    <tr>\n",
              "      <th>211</th>\n",
              "      <td>2510</td>\n",
              "      <td>2510</td>\n",
              "      <td>2510</td>\n",
              "      <td>2510</td>\n",
              "      <td>2510</td>\n",
              "      <td>2510</td>\n",
              "      <td>2510</td>\n",
              "      <td>2510</td>\n",
              "      <td>2510</td>\n",
              "      <td>2510</td>\n",
              "      <td>2510</td>\n",
              "      <td>2510</td>\n",
              "      <td>2510</td>\n",
              "      <td>2510</td>\n",
              "      <td>2510</td>\n",
              "      <td>2510</td>\n",
              "      <td>2510</td>\n",
              "      <td>2510</td>\n",
              "      <td>2510</td>\n",
              "      <td>2510</td>\n",
              "      <td>2510</td>\n",
              "      <td>2510</td>\n",
              "      <td>2510</td>\n",
              "      <td>2510</td>\n",
              "      <td>2510</td>\n",
              "      <td>2510</td>\n",
              "      <td>2510</td>\n",
              "      <td>2510</td>\n",
              "    </tr>\n",
              "    <tr>\n",
              "      <th>212</th>\n",
              "      <td>1809</td>\n",
              "      <td>1809</td>\n",
              "      <td>1809</td>\n",
              "      <td>1809</td>\n",
              "      <td>1809</td>\n",
              "      <td>1809</td>\n",
              "      <td>1809</td>\n",
              "      <td>1809</td>\n",
              "      <td>1809</td>\n",
              "      <td>1809</td>\n",
              "      <td>1809</td>\n",
              "      <td>1809</td>\n",
              "      <td>1809</td>\n",
              "      <td>1809</td>\n",
              "      <td>1809</td>\n",
              "      <td>1809</td>\n",
              "      <td>1809</td>\n",
              "      <td>1809</td>\n",
              "      <td>1809</td>\n",
              "      <td>1809</td>\n",
              "      <td>1809</td>\n",
              "      <td>1809</td>\n",
              "      <td>1809</td>\n",
              "      <td>1809</td>\n",
              "      <td>1809</td>\n",
              "      <td>1809</td>\n",
              "      <td>1809</td>\n",
              "      <td>1809</td>\n",
              "    </tr>\n",
              "    <tr>\n",
              "      <th>213</th>\n",
              "      <td>2605</td>\n",
              "      <td>2605</td>\n",
              "      <td>2605</td>\n",
              "      <td>2605</td>\n",
              "      <td>2605</td>\n",
              "      <td>2605</td>\n",
              "      <td>2605</td>\n",
              "      <td>2605</td>\n",
              "      <td>2605</td>\n",
              "      <td>2605</td>\n",
              "      <td>2605</td>\n",
              "      <td>2605</td>\n",
              "      <td>2605</td>\n",
              "      <td>2605</td>\n",
              "      <td>2605</td>\n",
              "      <td>2605</td>\n",
              "      <td>2605</td>\n",
              "      <td>2605</td>\n",
              "      <td>2605</td>\n",
              "      <td>2605</td>\n",
              "      <td>2605</td>\n",
              "      <td>2605</td>\n",
              "      <td>2605</td>\n",
              "      <td>2605</td>\n",
              "      <td>2605</td>\n",
              "      <td>2605</td>\n",
              "      <td>2605</td>\n",
              "      <td>2605</td>\n",
              "    </tr>\n",
              "    <tr>\n",
              "      <th>304</th>\n",
              "      <td>324</td>\n",
              "      <td>324</td>\n",
              "      <td>324</td>\n",
              "      <td>324</td>\n",
              "      <td>324</td>\n",
              "      <td>324</td>\n",
              "      <td>324</td>\n",
              "      <td>324</td>\n",
              "      <td>324</td>\n",
              "      <td>324</td>\n",
              "      <td>324</td>\n",
              "      <td>324</td>\n",
              "      <td>324</td>\n",
              "      <td>324</td>\n",
              "      <td>324</td>\n",
              "      <td>324</td>\n",
              "      <td>324</td>\n",
              "      <td>324</td>\n",
              "      <td>324</td>\n",
              "      <td>324</td>\n",
              "      <td>324</td>\n",
              "      <td>324</td>\n",
              "      <td>324</td>\n",
              "      <td>324</td>\n",
              "      <td>324</td>\n",
              "      <td>324</td>\n",
              "      <td>324</td>\n",
              "      <td>324</td>\n",
              "    </tr>\n",
              "    <tr>\n",
              "      <th>305</th>\n",
              "      <td>2932</td>\n",
              "      <td>2932</td>\n",
              "      <td>2932</td>\n",
              "      <td>2932</td>\n",
              "      <td>2932</td>\n",
              "      <td>2932</td>\n",
              "      <td>2932</td>\n",
              "      <td>2932</td>\n",
              "      <td>2932</td>\n",
              "      <td>2932</td>\n",
              "      <td>2932</td>\n",
              "      <td>2932</td>\n",
              "      <td>2932</td>\n",
              "      <td>2932</td>\n",
              "      <td>2932</td>\n",
              "      <td>2932</td>\n",
              "      <td>2932</td>\n",
              "      <td>2932</td>\n",
              "      <td>2932</td>\n",
              "      <td>2932</td>\n",
              "      <td>2932</td>\n",
              "      <td>2932</td>\n",
              "      <td>2932</td>\n",
              "      <td>2932</td>\n",
              "      <td>2932</td>\n",
              "      <td>2932</td>\n",
              "      <td>2932</td>\n",
              "      <td>2932</td>\n",
              "    </tr>\n",
              "    <tr>\n",
              "      <th>306</th>\n",
              "      <td>3166</td>\n",
              "      <td>3166</td>\n",
              "      <td>3166</td>\n",
              "      <td>3166</td>\n",
              "      <td>3166</td>\n",
              "      <td>3166</td>\n",
              "      <td>3166</td>\n",
              "      <td>3166</td>\n",
              "      <td>3166</td>\n",
              "      <td>3166</td>\n",
              "      <td>3166</td>\n",
              "      <td>3166</td>\n",
              "      <td>3166</td>\n",
              "      <td>3166</td>\n",
              "      <td>3166</td>\n",
              "      <td>3166</td>\n",
              "      <td>3166</td>\n",
              "      <td>3166</td>\n",
              "      <td>3166</td>\n",
              "      <td>3166</td>\n",
              "      <td>3166</td>\n",
              "      <td>3166</td>\n",
              "      <td>3166</td>\n",
              "      <td>3166</td>\n",
              "      <td>3166</td>\n",
              "      <td>3166</td>\n",
              "      <td>3166</td>\n",
              "      <td>3166</td>\n",
              "    </tr>\n",
              "    <tr>\n",
              "      <th>307</th>\n",
              "      <td>3201</td>\n",
              "      <td>3201</td>\n",
              "      <td>3201</td>\n",
              "      <td>3201</td>\n",
              "      <td>3201</td>\n",
              "      <td>3201</td>\n",
              "      <td>3201</td>\n",
              "      <td>3201</td>\n",
              "      <td>3201</td>\n",
              "      <td>3201</td>\n",
              "      <td>3201</td>\n",
              "      <td>3201</td>\n",
              "      <td>3201</td>\n",
              "      <td>3201</td>\n",
              "      <td>3201</td>\n",
              "      <td>3201</td>\n",
              "      <td>3201</td>\n",
              "      <td>3201</td>\n",
              "      <td>3201</td>\n",
              "      <td>3201</td>\n",
              "      <td>3201</td>\n",
              "      <td>3201</td>\n",
              "      <td>3201</td>\n",
              "      <td>3201</td>\n",
              "      <td>3201</td>\n",
              "      <td>3201</td>\n",
              "      <td>3201</td>\n",
              "      <td>3201</td>\n",
              "    </tr>\n",
              "    <tr>\n",
              "      <th>BUZON</th>\n",
              "      <td>1588</td>\n",
              "      <td>1588</td>\n",
              "      <td>1588</td>\n",
              "      <td>1588</td>\n",
              "      <td>1588</td>\n",
              "      <td>1588</td>\n",
              "      <td>1588</td>\n",
              "      <td>1588</td>\n",
              "      <td>1588</td>\n",
              "      <td>1588</td>\n",
              "      <td>1588</td>\n",
              "      <td>1588</td>\n",
              "      <td>1588</td>\n",
              "      <td>1588</td>\n",
              "      <td>1588</td>\n",
              "      <td>1588</td>\n",
              "      <td>1588</td>\n",
              "      <td>1588</td>\n",
              "      <td>1588</td>\n",
              "      <td>1588</td>\n",
              "      <td>1588</td>\n",
              "      <td>1588</td>\n",
              "      <td>1588</td>\n",
              "      <td>1588</td>\n",
              "      <td>1588</td>\n",
              "      <td>1588</td>\n",
              "      <td>1588</td>\n",
              "      <td>1588</td>\n",
              "    </tr>\n",
              "    <tr>\n",
              "      <th>COSE2</th>\n",
              "      <td>504</td>\n",
              "      <td>504</td>\n",
              "      <td>504</td>\n",
              "      <td>504</td>\n",
              "      <td>504</td>\n",
              "      <td>504</td>\n",
              "      <td>504</td>\n",
              "      <td>504</td>\n",
              "      <td>504</td>\n",
              "      <td>504</td>\n",
              "      <td>504</td>\n",
              "      <td>504</td>\n",
              "      <td>504</td>\n",
              "      <td>504</td>\n",
              "      <td>504</td>\n",
              "      <td>504</td>\n",
              "      <td>504</td>\n",
              "      <td>504</td>\n",
              "      <td>504</td>\n",
              "      <td>504</td>\n",
              "      <td>504</td>\n",
              "      <td>504</td>\n",
              "      <td>504</td>\n",
              "      <td>504</td>\n",
              "      <td>504</td>\n",
              "      <td>504</td>\n",
              "      <td>504</td>\n",
              "      <td>504</td>\n",
              "    </tr>\n",
              "    <tr>\n",
              "      <th>DEPE2</th>\n",
              "      <td>504</td>\n",
              "      <td>504</td>\n",
              "      <td>504</td>\n",
              "      <td>504</td>\n",
              "      <td>504</td>\n",
              "      <td>504</td>\n",
              "      <td>504</td>\n",
              "      <td>504</td>\n",
              "      <td>504</td>\n",
              "      <td>504</td>\n",
              "      <td>504</td>\n",
              "      <td>504</td>\n",
              "      <td>504</td>\n",
              "      <td>504</td>\n",
              "      <td>504</td>\n",
              "      <td>504</td>\n",
              "      <td>504</td>\n",
              "      <td>504</td>\n",
              "      <td>504</td>\n",
              "      <td>504</td>\n",
              "      <td>504</td>\n",
              "      <td>504</td>\n",
              "      <td>504</td>\n",
              "      <td>504</td>\n",
              "      <td>504</td>\n",
              "      <td>504</td>\n",
              "      <td>504</td>\n",
              "      <td>504</td>\n",
              "    </tr>\n",
              "    <tr>\n",
              "      <th>RETRO</th>\n",
              "      <td>1132</td>\n",
              "      <td>1132</td>\n",
              "      <td>1132</td>\n",
              "      <td>1132</td>\n",
              "      <td>1132</td>\n",
              "      <td>1132</td>\n",
              "      <td>1132</td>\n",
              "      <td>1132</td>\n",
              "      <td>1132</td>\n",
              "      <td>1132</td>\n",
              "      <td>1132</td>\n",
              "      <td>1132</td>\n",
              "      <td>1132</td>\n",
              "      <td>1132</td>\n",
              "      <td>1132</td>\n",
              "      <td>1132</td>\n",
              "      <td>1132</td>\n",
              "      <td>1132</td>\n",
              "      <td>1132</td>\n",
              "      <td>1132</td>\n",
              "      <td>1132</td>\n",
              "      <td>1132</td>\n",
              "      <td>1132</td>\n",
              "      <td>1132</td>\n",
              "      <td>1132</td>\n",
              "      <td>1132</td>\n",
              "      <td>1132</td>\n",
              "      <td>1132</td>\n",
              "    </tr>\n",
              "    <tr>\n",
              "      <th>TAMA2</th>\n",
              "      <td>504</td>\n",
              "      <td>504</td>\n",
              "      <td>504</td>\n",
              "      <td>504</td>\n",
              "      <td>504</td>\n",
              "      <td>504</td>\n",
              "      <td>504</td>\n",
              "      <td>504</td>\n",
              "      <td>504</td>\n",
              "      <td>504</td>\n",
              "      <td>504</td>\n",
              "      <td>504</td>\n",
              "      <td>504</td>\n",
              "      <td>504</td>\n",
              "      <td>504</td>\n",
              "      <td>504</td>\n",
              "      <td>504</td>\n",
              "      <td>504</td>\n",
              "      <td>504</td>\n",
              "      <td>504</td>\n",
              "      <td>504</td>\n",
              "      <td>504</td>\n",
              "      <td>504</td>\n",
              "      <td>504</td>\n",
              "      <td>504</td>\n",
              "      <td>504</td>\n",
              "      <td>504</td>\n",
              "      <td>504</td>\n",
              "    </tr>\n",
              "    <tr>\n",
              "      <th>VALLE2</th>\n",
              "      <td>504</td>\n",
              "      <td>504</td>\n",
              "      <td>504</td>\n",
              "      <td>504</td>\n",
              "      <td>504</td>\n",
              "      <td>504</td>\n",
              "      <td>504</td>\n",
              "      <td>504</td>\n",
              "      <td>504</td>\n",
              "      <td>504</td>\n",
              "      <td>504</td>\n",
              "      <td>504</td>\n",
              "      <td>504</td>\n",
              "      <td>504</td>\n",
              "      <td>504</td>\n",
              "      <td>504</td>\n",
              "      <td>504</td>\n",
              "      <td>504</td>\n",
              "      <td>504</td>\n",
              "      <td>504</td>\n",
              "      <td>504</td>\n",
              "      <td>504</td>\n",
              "      <td>504</td>\n",
              "      <td>504</td>\n",
              "      <td>504</td>\n",
              "      <td>504</td>\n",
              "      <td>504</td>\n",
              "      <td>504</td>\n",
              "    </tr>\n",
              "  </tbody>\n",
              "</table>\n",
              "</div>"
            ],
            "text/plain": [
              "        shiftdate  shift#  start  crew  ...   Dia   Mes   Año  locid_\n",
              "eqmtid                                  ...                          \n",
              "025           982     982    982   982  ...   982   982   982     982\n",
              "026           950     950    950   950  ...   950   950   950     950\n",
              "029           902     902    902   902  ...   902   902   902     902\n",
              "030           871     871    871   871  ...   871   871   871     871\n",
              "210          1822    1822   1822  1822  ...  1822  1822  1822    1822\n",
              "211          2510    2510   2510  2510  ...  2510  2510  2510    2510\n",
              "212          1809    1809   1809  1809  ...  1809  1809  1809    1809\n",
              "213          2605    2605   2605  2605  ...  2605  2605  2605    2605\n",
              "304           324     324    324   324  ...   324   324   324     324\n",
              "305          2932    2932   2932  2932  ...  2932  2932  2932    2932\n",
              "306          3166    3166   3166  3166  ...  3166  3166  3166    3166\n",
              "307          3201    3201   3201  3201  ...  3201  3201  3201    3201\n",
              "BUZON        1588    1588   1588  1588  ...  1588  1588  1588    1588\n",
              "COSE2         504     504    504   504  ...   504   504   504     504\n",
              "DEPE2         504     504    504   504  ...   504   504   504     504\n",
              "RETRO        1132    1132   1132  1132  ...  1132  1132  1132    1132\n",
              "TAMA2         504     504    504   504  ...   504   504   504     504\n",
              "VALLE2        504     504    504   504  ...   504   504   504     504\n",
              "\n",
              "[18 rows x 28 columns]"
            ]
          },
          "metadata": {
            "tags": []
          },
          "execution_count": 35
        }
      ]
    },
    {
      "cell_type": "markdown",
      "metadata": {
        "id": "qP3n-nnbr1E4"
      },
      "source": [
        "###Análisis \n",
        "(loadtime\tidletime\tspottime == tmcat00)"
      ]
    },
    {
      "cell_type": "code",
      "metadata": {
        "id": "QlySfE_4uCzS"
      },
      "source": [
        "df_carga = df_palas[(df_palas.loadcnt != 0) & (df_palas.tmcat01 != 0)]\n",
        "df_no_carga = df_palas[df_palas.loadcnt == 0]"
      ],
      "execution_count": 36,
      "outputs": []
    },
    {
      "cell_type": "code",
      "metadata": {
        "id": "ZsDceEcYuafG",
        "outputId": "c8e2529c-9f3e-40ca-c436-72b5165aca57",
        "colab": {
          "base_uri": "https://localhost:8080/",
          "height": 317
        }
      },
      "source": [
        "df_no_carga.describe()"
      ],
      "execution_count": 37,
      "outputs": [
        {
          "output_type": "execute_result",
          "data": {
            "text/html": [
              "<div>\n",
              "<style scoped>\n",
              "    .dataframe tbody tr th:only-of-type {\n",
              "        vertical-align: middle;\n",
              "    }\n",
              "\n",
              "    .dataframe tbody tr th {\n",
              "        vertical-align: top;\n",
              "    }\n",
              "\n",
              "    .dataframe thead th {\n",
              "        text-align: right;\n",
              "    }\n",
              "</style>\n",
              "<table border=\"1\" class=\"dataframe\">\n",
              "  <thead>\n",
              "    <tr style=\"text-align: right;\">\n",
              "      <th></th>\n",
              "      <th>start</th>\n",
              "      <th>logintime</th>\n",
              "      <th>totaltime</th>\n",
              "      <th>totalloads</th>\n",
              "      <th>totaltons</th>\n",
              "      <th>loadtime</th>\n",
              "      <th>idletime</th>\n",
              "      <th>spottime</th>\n",
              "      <th>loadcnt</th>\n",
              "      <th>tmcat00</th>\n",
              "      <th>tmcat01</th>\n",
              "      <th>tmcat02</th>\n",
              "      <th>tmcat03</th>\n",
              "      <th>tmcat04</th>\n",
              "      <th>tmcat05</th>\n",
              "      <th>tmcat06</th>\n",
              "      <th>tmcat07</th>\n",
              "    </tr>\n",
              "  </thead>\n",
              "  <tbody>\n",
              "    <tr>\n",
              "      <th>count</th>\n",
              "      <td>18644.000000</td>\n",
              "      <td>18644.000000</td>\n",
              "      <td>18644.000000</td>\n",
              "      <td>18644.0</td>\n",
              "      <td>18644.0</td>\n",
              "      <td>18644.000000</td>\n",
              "      <td>18644.000000</td>\n",
              "      <td>18644.000000</td>\n",
              "      <td>18644.0</td>\n",
              "      <td>18644.000000</td>\n",
              "      <td>18644.000000</td>\n",
              "      <td>18644.000000</td>\n",
              "      <td>18644.000000</td>\n",
              "      <td>18644.000000</td>\n",
              "      <td>18644.000000</td>\n",
              "      <td>18644.000000</td>\n",
              "      <td>18644.000000</td>\n",
              "    </tr>\n",
              "    <tr>\n",
              "      <th>mean</th>\n",
              "      <td>8004.033469</td>\n",
              "      <td>5832.298380</td>\n",
              "      <td>24708.500858</td>\n",
              "      <td>0.0</td>\n",
              "      <td>0.0</td>\n",
              "      <td>0.830348</td>\n",
              "      <td>2165.003433</td>\n",
              "      <td>1.010620</td>\n",
              "      <td>0.0</td>\n",
              "      <td>24708.500858</td>\n",
              "      <td>2167.069888</td>\n",
              "      <td>0.032182</td>\n",
              "      <td>522.146213</td>\n",
              "      <td>10217.386451</td>\n",
              "      <td>3655.758689</td>\n",
              "      <td>6874.440142</td>\n",
              "      <td>1271.667292</td>\n",
              "    </tr>\n",
              "    <tr>\n",
              "      <th>std</th>\n",
              "      <td>21724.289750</td>\n",
              "      <td>11668.162362</td>\n",
              "      <td>19467.126661</td>\n",
              "      <td>0.0</td>\n",
              "      <td>0.0</td>\n",
              "      <td>60.008467</td>\n",
              "      <td>7600.911833</td>\n",
              "      <td>18.672436</td>\n",
              "      <td>0.0</td>\n",
              "      <td>19467.126661</td>\n",
              "      <td>7600.600185</td>\n",
              "      <td>4.394219</td>\n",
              "      <td>1796.325274</td>\n",
              "      <td>17332.942064</td>\n",
              "      <td>10628.608857</td>\n",
              "      <td>14975.246338</td>\n",
              "      <td>6836.659281</td>\n",
              "    </tr>\n",
              "    <tr>\n",
              "      <th>min</th>\n",
              "      <td>-14400.000000</td>\n",
              "      <td>0.000000</td>\n",
              "      <td>1.000000</td>\n",
              "      <td>0.0</td>\n",
              "      <td>0.0</td>\n",
              "      <td>0.000000</td>\n",
              "      <td>0.000000</td>\n",
              "      <td>0.000000</td>\n",
              "      <td>0.0</td>\n",
              "      <td>1.000000</td>\n",
              "      <td>0.000000</td>\n",
              "      <td>0.000000</td>\n",
              "      <td>0.000000</td>\n",
              "      <td>0.000000</td>\n",
              "      <td>0.000000</td>\n",
              "      <td>0.000000</td>\n",
              "      <td>0.000000</td>\n",
              "    </tr>\n",
              "    <tr>\n",
              "      <th>25%</th>\n",
              "      <td>-14400.000000</td>\n",
              "      <td>0.000000</td>\n",
              "      <td>1667.750000</td>\n",
              "      <td>0.0</td>\n",
              "      <td>0.0</td>\n",
              "      <td>0.000000</td>\n",
              "      <td>0.000000</td>\n",
              "      <td>0.000000</td>\n",
              "      <td>0.0</td>\n",
              "      <td>1667.750000</td>\n",
              "      <td>0.000000</td>\n",
              "      <td>0.000000</td>\n",
              "      <td>0.000000</td>\n",
              "      <td>0.000000</td>\n",
              "      <td>0.000000</td>\n",
              "      <td>0.000000</td>\n",
              "      <td>0.000000</td>\n",
              "    </tr>\n",
              "    <tr>\n",
              "      <th>50%</th>\n",
              "      <td>28800.000000</td>\n",
              "      <td>0.000000</td>\n",
              "      <td>39310.000000</td>\n",
              "      <td>0.0</td>\n",
              "      <td>0.0</td>\n",
              "      <td>0.000000</td>\n",
              "      <td>0.000000</td>\n",
              "      <td>0.000000</td>\n",
              "      <td>0.0</td>\n",
              "      <td>39310.000000</td>\n",
              "      <td>0.000000</td>\n",
              "      <td>0.000000</td>\n",
              "      <td>0.000000</td>\n",
              "      <td>0.000000</td>\n",
              "      <td>0.000000</td>\n",
              "      <td>0.000000</td>\n",
              "      <td>0.000000</td>\n",
              "    </tr>\n",
              "    <tr>\n",
              "      <th>75%</th>\n",
              "      <td>28800.000000</td>\n",
              "      <td>1404.750000</td>\n",
              "      <td>43200.000000</td>\n",
              "      <td>0.0</td>\n",
              "      <td>0.0</td>\n",
              "      <td>0.000000</td>\n",
              "      <td>0.000000</td>\n",
              "      <td>0.000000</td>\n",
              "      <td>0.0</td>\n",
              "      <td>43200.000000</td>\n",
              "      <td>0.000000</td>\n",
              "      <td>0.000000</td>\n",
              "      <td>34.000000</td>\n",
              "      <td>16296.000000</td>\n",
              "      <td>0.000000</td>\n",
              "      <td>0.000000</td>\n",
              "      <td>0.000000</td>\n",
              "    </tr>\n",
              "    <tr>\n",
              "      <th>max</th>\n",
              "      <td>72000.000000</td>\n",
              "      <td>43195.000000</td>\n",
              "      <td>43200.000000</td>\n",
              "      <td>0.0</td>\n",
              "      <td>0.0</td>\n",
              "      <td>8093.000000</td>\n",
              "      <td>43200.000000</td>\n",
              "      <td>1196.000000</td>\n",
              "      <td>0.0</td>\n",
              "      <td>43200.000000</td>\n",
              "      <td>43200.000000</td>\n",
              "      <td>600.000000</td>\n",
              "      <td>43200.000000</td>\n",
              "      <td>43200.000000</td>\n",
              "      <td>43200.000000</td>\n",
              "      <td>43200.000000</td>\n",
              "      <td>43200.000000</td>\n",
              "    </tr>\n",
              "  </tbody>\n",
              "</table>\n",
              "</div>"
            ],
            "text/plain": [
              "              start     logintime  ...       tmcat06       tmcat07\n",
              "count  18644.000000  18644.000000  ...  18644.000000  18644.000000\n",
              "mean    8004.033469   5832.298380  ...   6874.440142   1271.667292\n",
              "std    21724.289750  11668.162362  ...  14975.246338   6836.659281\n",
              "min   -14400.000000      0.000000  ...      0.000000      0.000000\n",
              "25%   -14400.000000      0.000000  ...      0.000000      0.000000\n",
              "50%    28800.000000      0.000000  ...      0.000000      0.000000\n",
              "75%    28800.000000   1404.750000  ...      0.000000      0.000000\n",
              "max    72000.000000  43195.000000  ...  43200.000000  43200.000000\n",
              "\n",
              "[8 rows x 17 columns]"
            ]
          },
          "metadata": {
            "tags": []
          },
          "execution_count": 37
        }
      ]
    },
    {
      "cell_type": "code",
      "metadata": {
        "id": "G_OxUsREuRU1",
        "outputId": "6c9ee8f1-9a46-46ad-ad83-1e44634dc808",
        "colab": {
          "base_uri": "https://localhost:8080/",
          "height": 317
        }
      },
      "source": [
        "df_carga.describe()"
      ],
      "execution_count": 38,
      "outputs": [
        {
          "output_type": "execute_result",
          "data": {
            "text/html": [
              "<div>\n",
              "<style scoped>\n",
              "    .dataframe tbody tr th:only-of-type {\n",
              "        vertical-align: middle;\n",
              "    }\n",
              "\n",
              "    .dataframe tbody tr th {\n",
              "        vertical-align: top;\n",
              "    }\n",
              "\n",
              "    .dataframe thead th {\n",
              "        text-align: right;\n",
              "    }\n",
              "</style>\n",
              "<table border=\"1\" class=\"dataframe\">\n",
              "  <thead>\n",
              "    <tr style=\"text-align: right;\">\n",
              "      <th></th>\n",
              "      <th>start</th>\n",
              "      <th>logintime</th>\n",
              "      <th>totaltime</th>\n",
              "      <th>totalloads</th>\n",
              "      <th>totaltons</th>\n",
              "      <th>loadtime</th>\n",
              "      <th>idletime</th>\n",
              "      <th>spottime</th>\n",
              "      <th>loadcnt</th>\n",
              "      <th>tmcat00</th>\n",
              "      <th>tmcat01</th>\n",
              "      <th>tmcat02</th>\n",
              "      <th>tmcat03</th>\n",
              "      <th>tmcat04</th>\n",
              "      <th>tmcat05</th>\n",
              "      <th>tmcat06</th>\n",
              "      <th>tmcat07</th>\n",
              "    </tr>\n",
              "  </thead>\n",
              "  <tbody>\n",
              "    <tr>\n",
              "      <th>count</th>\n",
              "      <td>8024.000000</td>\n",
              "      <td>8024.000000</td>\n",
              "      <td>8024.000000</td>\n",
              "      <td>8024.000000</td>\n",
              "      <td>8024.000000</td>\n",
              "      <td>8024.000000</td>\n",
              "      <td>8024.000000</td>\n",
              "      <td>8024.000000</td>\n",
              "      <td>8024.000000</td>\n",
              "      <td>8024.000000</td>\n",
              "      <td>8024.000000</td>\n",
              "      <td>8024.000000</td>\n",
              "      <td>8024.000000</td>\n",
              "      <td>8024.000000</td>\n",
              "      <td>8024.000000</td>\n",
              "      <td>8024.000000</td>\n",
              "      <td>8024.000000</td>\n",
              "    </tr>\n",
              "    <tr>\n",
              "      <th>mean</th>\n",
              "      <td>8551.345962</td>\n",
              "      <td>10715.129237</td>\n",
              "      <td>15994.719716</td>\n",
              "      <td>33.544367</td>\n",
              "      <td>7731.191052</td>\n",
              "      <td>6740.676595</td>\n",
              "      <td>3726.138210</td>\n",
              "      <td>1874.296361</td>\n",
              "      <td>33.544367</td>\n",
              "      <td>15994.719716</td>\n",
              "      <td>12347.087488</td>\n",
              "      <td>1.196660</td>\n",
              "      <td>982.567423</td>\n",
              "      <td>1286.845713</td>\n",
              "      <td>214.794118</td>\n",
              "      <td>1129.984172</td>\n",
              "      <td>32.244143</td>\n",
              "    </tr>\n",
              "    <tr>\n",
              "      <th>std</th>\n",
              "      <td>21645.174270</td>\n",
              "      <td>12427.981336</td>\n",
              "      <td>12798.135793</td>\n",
              "      <td>34.846163</td>\n",
              "      <td>8038.907071</td>\n",
              "      <td>6108.667989</td>\n",
              "      <td>4075.917124</td>\n",
              "      <td>1984.629448</td>\n",
              "      <td>34.846163</td>\n",
              "      <td>12798.135793</td>\n",
              "      <td>10486.577003</td>\n",
              "      <td>97.682564</td>\n",
              "      <td>1473.855114</td>\n",
              "      <td>4190.182358</td>\n",
              "      <td>1641.967089</td>\n",
              "      <td>2051.874469</td>\n",
              "      <td>463.394240</td>\n",
              "    </tr>\n",
              "    <tr>\n",
              "      <th>min</th>\n",
              "      <td>-14400.000000</td>\n",
              "      <td>0.000000</td>\n",
              "      <td>4.000000</td>\n",
              "      <td>1.000000</td>\n",
              "      <td>0.000000</td>\n",
              "      <td>0.000000</td>\n",
              "      <td>0.000000</td>\n",
              "      <td>0.000000</td>\n",
              "      <td>1.000000</td>\n",
              "      <td>4.000000</td>\n",
              "      <td>4.000000</td>\n",
              "      <td>0.000000</td>\n",
              "      <td>0.000000</td>\n",
              "      <td>0.000000</td>\n",
              "      <td>0.000000</td>\n",
              "      <td>0.000000</td>\n",
              "      <td>0.000000</td>\n",
              "    </tr>\n",
              "    <tr>\n",
              "      <th>25%</th>\n",
              "      <td>-14400.000000</td>\n",
              "      <td>786.000000</td>\n",
              "      <td>5461.000000</td>\n",
              "      <td>8.000000</td>\n",
              "      <td>1908.000000</td>\n",
              "      <td>2000.000000</td>\n",
              "      <td>946.000000</td>\n",
              "      <td>432.750000</td>\n",
              "      <td>8.000000</td>\n",
              "      <td>5461.000000</td>\n",
              "      <td>3924.000000</td>\n",
              "      <td>0.000000</td>\n",
              "      <td>6.000000</td>\n",
              "      <td>0.000000</td>\n",
              "      <td>0.000000</td>\n",
              "      <td>0.000000</td>\n",
              "      <td>0.000000</td>\n",
              "    </tr>\n",
              "    <tr>\n",
              "      <th>50%</th>\n",
              "      <td>28800.000000</td>\n",
              "      <td>3799.500000</td>\n",
              "      <td>12260.500000</td>\n",
              "      <td>21.000000</td>\n",
              "      <td>4883.500000</td>\n",
              "      <td>4869.000000</td>\n",
              "      <td>2329.000000</td>\n",
              "      <td>1189.500000</td>\n",
              "      <td>21.000000</td>\n",
              "      <td>12260.500000</td>\n",
              "      <td>9405.500000</td>\n",
              "      <td>0.000000</td>\n",
              "      <td>480.500000</td>\n",
              "      <td>0.000000</td>\n",
              "      <td>0.000000</td>\n",
              "      <td>0.000000</td>\n",
              "      <td>0.000000</td>\n",
              "    </tr>\n",
              "    <tr>\n",
              "      <th>75%</th>\n",
              "      <td>28800.000000</td>\n",
              "      <td>21893.500000</td>\n",
              "      <td>23861.500000</td>\n",
              "      <td>48.000000</td>\n",
              "      <td>11030.750000</td>\n",
              "      <td>9762.250000</td>\n",
              "      <td>5071.500000</td>\n",
              "      <td>2675.000000</td>\n",
              "      <td>48.000000</td>\n",
              "      <td>23861.500000</td>\n",
              "      <td>17715.750000</td>\n",
              "      <td>0.000000</td>\n",
              "      <td>1362.000000</td>\n",
              "      <td>0.000000</td>\n",
              "      <td>6.000000</td>\n",
              "      <td>3498.250000</td>\n",
              "      <td>0.000000</td>\n",
              "    </tr>\n",
              "    <tr>\n",
              "      <th>max</th>\n",
              "      <td>72000.000000</td>\n",
              "      <td>42904.000000</td>\n",
              "      <td>43200.000000</td>\n",
              "      <td>232.000000</td>\n",
              "      <td>50616.000000</td>\n",
              "      <td>37191.000000</td>\n",
              "      <td>35975.000000</td>\n",
              "      <td>13801.000000</td>\n",
              "      <td>232.000000</td>\n",
              "      <td>43200.000000</td>\n",
              "      <td>43200.000000</td>\n",
              "      <td>8704.000000</td>\n",
              "      <td>27202.000000</td>\n",
              "      <td>40956.000000</td>\n",
              "      <td>42088.000000</td>\n",
              "      <td>23171.000000</td>\n",
              "      <td>23374.000000</td>\n",
              "    </tr>\n",
              "  </tbody>\n",
              "</table>\n",
              "</div>"
            ],
            "text/plain": [
              "              start     logintime  ...       tmcat06       tmcat07\n",
              "count   8024.000000   8024.000000  ...   8024.000000   8024.000000\n",
              "mean    8551.345962  10715.129237  ...   1129.984172     32.244143\n",
              "std    21645.174270  12427.981336  ...   2051.874469    463.394240\n",
              "min   -14400.000000      0.000000  ...      0.000000      0.000000\n",
              "25%   -14400.000000    786.000000  ...      0.000000      0.000000\n",
              "50%    28800.000000   3799.500000  ...      0.000000      0.000000\n",
              "75%    28800.000000  21893.500000  ...   3498.250000      0.000000\n",
              "max    72000.000000  42904.000000  ...  23171.000000  23374.000000\n",
              "\n",
              "[8 rows x 17 columns]"
            ]
          },
          "metadata": {
            "tags": []
          },
          "execution_count": 38
        }
      ]
    },
    {
      "cell_type": "code",
      "metadata": {
        "id": "cPmjsXC8r0iO"
      },
      "source": [
        "def comparative(row):\n",
        "  total_time = row.loadtime + row.idletime + row.spottime\n",
        "  if total_time == row.tmcat01:\n",
        "    return 1\n",
        "  else:\n",
        "    #print(f'suma : {total_time} != tmcat01 : {row.tmcat01} diferencia {row.tmcat01 - total_time}')\n",
        "    return 0"
      ],
      "execution_count": 39,
      "outputs": []
    },
    {
      "cell_type": "code",
      "metadata": {
        "id": "kXJmxF37wWuG",
        "outputId": "4b63f66c-019f-4b12-e96d-c3cd949d8143",
        "colab": {
          "base_uri": "https://localhost:8080/",
          "height": 224
        }
      },
      "source": [
        "df_carga.head()"
      ],
      "execution_count": 40,
      "outputs": [
        {
          "output_type": "execute_result",
          "data": {
            "text/html": [
              "<div>\n",
              "<style scoped>\n",
              "    .dataframe tbody tr th:only-of-type {\n",
              "        vertical-align: middle;\n",
              "    }\n",
              "\n",
              "    .dataframe tbody tr th {\n",
              "        vertical-align: top;\n",
              "    }\n",
              "\n",
              "    .dataframe thead th {\n",
              "        text-align: right;\n",
              "    }\n",
              "</style>\n",
              "<table border=\"1\" class=\"dataframe\">\n",
              "  <thead>\n",
              "    <tr style=\"text-align: right;\">\n",
              "      <th></th>\n",
              "      <th>shiftdate</th>\n",
              "      <th>shift#</th>\n",
              "      <th>start</th>\n",
              "      <th>crew</th>\n",
              "      <th>eqmtid</th>\n",
              "      <th>logintime</th>\n",
              "      <th>locid</th>\n",
              "      <th>operid</th>\n",
              "      <th>totaltime</th>\n",
              "      <th>pit</th>\n",
              "      <th>unit</th>\n",
              "      <th>totalloads</th>\n",
              "      <th>totaltons</th>\n",
              "      <th>loadtime</th>\n",
              "      <th>idletime</th>\n",
              "      <th>spottime</th>\n",
              "      <th>loadcnt</th>\n",
              "      <th>tmcat00</th>\n",
              "      <th>tmcat01</th>\n",
              "      <th>tmcat02</th>\n",
              "      <th>tmcat03</th>\n",
              "      <th>tmcat04</th>\n",
              "      <th>tmcat05</th>\n",
              "      <th>tmcat06</th>\n",
              "      <th>tmcat07</th>\n",
              "      <th>Dia</th>\n",
              "      <th>Mes</th>\n",
              "      <th>Año</th>\n",
              "      <th>locid_</th>\n",
              "    </tr>\n",
              "  </thead>\n",
              "  <tbody>\n",
              "    <tr>\n",
              "      <th>45</th>\n",
              "      <td>2019-07-01</td>\n",
              "      <td>2</td>\n",
              "      <td>28800</td>\n",
              "      <td>G2</td>\n",
              "      <td>307</td>\n",
              "      <td>3088</td>\n",
              "      <td>TX210039</td>\n",
              "      <td>07641</td>\n",
              "      <td>39893</td>\n",
              "      <td>MINA</td>\n",
              "      <td>Pala</td>\n",
              "      <td>100</td>\n",
              "      <td>23335</td>\n",
              "      <td>22347</td>\n",
              "      <td>5090</td>\n",
              "      <td>7656</td>\n",
              "      <td>100</td>\n",
              "      <td>39893</td>\n",
              "      <td>35320</td>\n",
              "      <td>0</td>\n",
              "      <td>2801</td>\n",
              "      <td>0</td>\n",
              "      <td>0</td>\n",
              "      <td>1772</td>\n",
              "      <td>0</td>\n",
              "      <td>01</td>\n",
              "      <td>07</td>\n",
              "      <td>2019</td>\n",
              "      <td>TX210039</td>\n",
              "    </tr>\n",
              "    <tr>\n",
              "      <th>141</th>\n",
              "      <td>2019-07-01</td>\n",
              "      <td>2</td>\n",
              "      <td>28800</td>\n",
              "      <td>G2</td>\n",
              "      <td>211</td>\n",
              "      <td>0</td>\n",
              "      <td>TX360085</td>\n",
              "      <td>mmsunk</td>\n",
              "      <td>16737</td>\n",
              "      <td>MINA</td>\n",
              "      <td>Pala</td>\n",
              "      <td>64</td>\n",
              "      <td>14648</td>\n",
              "      <td>6950</td>\n",
              "      <td>3566</td>\n",
              "      <td>3135</td>\n",
              "      <td>64</td>\n",
              "      <td>16737</td>\n",
              "      <td>13651</td>\n",
              "      <td>0</td>\n",
              "      <td>0</td>\n",
              "      <td>3086</td>\n",
              "      <td>0</td>\n",
              "      <td>0</td>\n",
              "      <td>0</td>\n",
              "      <td>01</td>\n",
              "      <td>07</td>\n",
              "      <td>2019</td>\n",
              "      <td>TX360085</td>\n",
              "    </tr>\n",
              "    <tr>\n",
              "      <th>142</th>\n",
              "      <td>2019-07-01</td>\n",
              "      <td>2</td>\n",
              "      <td>28800</td>\n",
              "      <td>G2</td>\n",
              "      <td>211</td>\n",
              "      <td>16737</td>\n",
              "      <td>TX360085</td>\n",
              "      <td>07046</td>\n",
              "      <td>26463</td>\n",
              "      <td>MINA</td>\n",
              "      <td>Pala</td>\n",
              "      <td>93</td>\n",
              "      <td>21134</td>\n",
              "      <td>10344</td>\n",
              "      <td>5537</td>\n",
              "      <td>5636</td>\n",
              "      <td>93</td>\n",
              "      <td>26463</td>\n",
              "      <td>21517</td>\n",
              "      <td>0</td>\n",
              "      <td>814</td>\n",
              "      <td>0</td>\n",
              "      <td>0</td>\n",
              "      <td>4132</td>\n",
              "      <td>0</td>\n",
              "      <td>01</td>\n",
              "      <td>07</td>\n",
              "      <td>2019</td>\n",
              "      <td>TX360085</td>\n",
              "    </tr>\n",
              "    <tr>\n",
              "      <th>145</th>\n",
              "      <td>2019-07-01</td>\n",
              "      <td>2</td>\n",
              "      <td>28800</td>\n",
              "      <td>G2</td>\n",
              "      <td>213</td>\n",
              "      <td>36779</td>\n",
              "      <td>TX240082</td>\n",
              "      <td>09270</td>\n",
              "      <td>6421</td>\n",
              "      <td>MINA</td>\n",
              "      <td>Pala</td>\n",
              "      <td>12</td>\n",
              "      <td>2833</td>\n",
              "      <td>1493</td>\n",
              "      <td>3525</td>\n",
              "      <td>575</td>\n",
              "      <td>12</td>\n",
              "      <td>6421</td>\n",
              "      <td>5593</td>\n",
              "      <td>0</td>\n",
              "      <td>367</td>\n",
              "      <td>0</td>\n",
              "      <td>461</td>\n",
              "      <td>0</td>\n",
              "      <td>0</td>\n",
              "      <td>01</td>\n",
              "      <td>07</td>\n",
              "      <td>2019</td>\n",
              "      <td>TX240082</td>\n",
              "    </tr>\n",
              "    <tr>\n",
              "      <th>148</th>\n",
              "      <td>2019-07-01</td>\n",
              "      <td>2</td>\n",
              "      <td>28800</td>\n",
              "      <td>G2</td>\n",
              "      <td>305</td>\n",
              "      <td>3153</td>\n",
              "      <td>LIMPIEZA345N</td>\n",
              "      <td>07561</td>\n",
              "      <td>1945</td>\n",
              "      <td>MINA</td>\n",
              "      <td>Pala</td>\n",
              "      <td>1</td>\n",
              "      <td>230</td>\n",
              "      <td>170</td>\n",
              "      <td>1048</td>\n",
              "      <td>724</td>\n",
              "      <td>1</td>\n",
              "      <td>1945</td>\n",
              "      <td>1942</td>\n",
              "      <td>0</td>\n",
              "      <td>0</td>\n",
              "      <td>3</td>\n",
              "      <td>0</td>\n",
              "      <td>0</td>\n",
              "      <td>0</td>\n",
              "      <td>01</td>\n",
              "      <td>07</td>\n",
              "      <td>2019</td>\n",
              "      <td>LIMPIEZA345N</td>\n",
              "    </tr>\n",
              "  </tbody>\n",
              "</table>\n",
              "</div>"
            ],
            "text/plain": [
              "     shiftdate shift#  start crew eqmtid  ...  tmcat07 Dia Mes   Año        locid_\n",
              "45  2019-07-01      2  28800   G2    307  ...        0  01  07  2019      TX210039\n",
              "141 2019-07-01      2  28800   G2    211  ...        0  01  07  2019      TX360085\n",
              "142 2019-07-01      2  28800   G2    211  ...        0  01  07  2019      TX360085\n",
              "145 2019-07-01      2  28800   G2    213  ...        0  01  07  2019      TX240082\n",
              "148 2019-07-01      2  28800   G2    305  ...        0  01  07  2019  LIMPIEZA345N\n",
              "\n",
              "[5 rows x 29 columns]"
            ]
          },
          "metadata": {
            "tags": []
          },
          "execution_count": 40
        }
      ]
    },
    {
      "cell_type": "code",
      "metadata": {
        "id": "2hg-vC_3sv2W",
        "outputId": "a5105c99-91c7-408f-f2b9-2adf175a053d",
        "colab": {
          "base_uri": "https://localhost:8080/"
        }
      },
      "source": [
        "df_carga['test'] = df_carga.apply(lambda row : comparative(row),axis=1)"
      ],
      "execution_count": 41,
      "outputs": [
        {
          "output_type": "stream",
          "text": [
            "/usr/local/lib/python3.6/dist-packages/ipykernel_launcher.py:1: SettingWithCopyWarning: \n",
            "A value is trying to be set on a copy of a slice from a DataFrame.\n",
            "Try using .loc[row_indexer,col_indexer] = value instead\n",
            "\n",
            "See the caveats in the documentation: https://pandas.pydata.org/pandas-docs/stable/user_guide/indexing.html#returning-a-view-versus-a-copy\n",
            "  \"\"\"Entry point for launching an IPython kernel.\n"
          ],
          "name": "stderr"
        }
      ]
    },
    {
      "cell_type": "code",
      "metadata": {
        "id": "BPEWAuiJtEbt",
        "outputId": "64ee9f1e-75e8-4582-aece-b3698d292e7d",
        "colab": {
          "base_uri": "https://localhost:8080/",
          "height": 162
        }
      },
      "source": [
        "group = df_carga.groupby(['test']).count()\n",
        "pd.DataFrame(group)"
      ],
      "execution_count": 42,
      "outputs": [
        {
          "output_type": "execute_result",
          "data": {
            "text/html": [
              "<div>\n",
              "<style scoped>\n",
              "    .dataframe tbody tr th:only-of-type {\n",
              "        vertical-align: middle;\n",
              "    }\n",
              "\n",
              "    .dataframe tbody tr th {\n",
              "        vertical-align: top;\n",
              "    }\n",
              "\n",
              "    .dataframe thead th {\n",
              "        text-align: right;\n",
              "    }\n",
              "</style>\n",
              "<table border=\"1\" class=\"dataframe\">\n",
              "  <thead>\n",
              "    <tr style=\"text-align: right;\">\n",
              "      <th></th>\n",
              "      <th>shiftdate</th>\n",
              "      <th>shift#</th>\n",
              "      <th>start</th>\n",
              "      <th>crew</th>\n",
              "      <th>eqmtid</th>\n",
              "      <th>logintime</th>\n",
              "      <th>locid</th>\n",
              "      <th>operid</th>\n",
              "      <th>totaltime</th>\n",
              "      <th>pit</th>\n",
              "      <th>unit</th>\n",
              "      <th>totalloads</th>\n",
              "      <th>totaltons</th>\n",
              "      <th>loadtime</th>\n",
              "      <th>idletime</th>\n",
              "      <th>spottime</th>\n",
              "      <th>loadcnt</th>\n",
              "      <th>tmcat00</th>\n",
              "      <th>tmcat01</th>\n",
              "      <th>tmcat02</th>\n",
              "      <th>tmcat03</th>\n",
              "      <th>tmcat04</th>\n",
              "      <th>tmcat05</th>\n",
              "      <th>tmcat06</th>\n",
              "      <th>tmcat07</th>\n",
              "      <th>Dia</th>\n",
              "      <th>Mes</th>\n",
              "      <th>Año</th>\n",
              "      <th>locid_</th>\n",
              "    </tr>\n",
              "    <tr>\n",
              "      <th>test</th>\n",
              "      <th></th>\n",
              "      <th></th>\n",
              "      <th></th>\n",
              "      <th></th>\n",
              "      <th></th>\n",
              "      <th></th>\n",
              "      <th></th>\n",
              "      <th></th>\n",
              "      <th></th>\n",
              "      <th></th>\n",
              "      <th></th>\n",
              "      <th></th>\n",
              "      <th></th>\n",
              "      <th></th>\n",
              "      <th></th>\n",
              "      <th></th>\n",
              "      <th></th>\n",
              "      <th></th>\n",
              "      <th></th>\n",
              "      <th></th>\n",
              "      <th></th>\n",
              "      <th></th>\n",
              "      <th></th>\n",
              "      <th></th>\n",
              "      <th></th>\n",
              "      <th></th>\n",
              "      <th></th>\n",
              "      <th></th>\n",
              "      <th></th>\n",
              "    </tr>\n",
              "  </thead>\n",
              "  <tbody>\n",
              "    <tr>\n",
              "      <th>0</th>\n",
              "      <td>303</td>\n",
              "      <td>303</td>\n",
              "      <td>303</td>\n",
              "      <td>303</td>\n",
              "      <td>303</td>\n",
              "      <td>303</td>\n",
              "      <td>303</td>\n",
              "      <td>303</td>\n",
              "      <td>303</td>\n",
              "      <td>303</td>\n",
              "      <td>303</td>\n",
              "      <td>303</td>\n",
              "      <td>303</td>\n",
              "      <td>303</td>\n",
              "      <td>303</td>\n",
              "      <td>303</td>\n",
              "      <td>303</td>\n",
              "      <td>303</td>\n",
              "      <td>303</td>\n",
              "      <td>303</td>\n",
              "      <td>303</td>\n",
              "      <td>303</td>\n",
              "      <td>303</td>\n",
              "      <td>303</td>\n",
              "      <td>303</td>\n",
              "      <td>303</td>\n",
              "      <td>303</td>\n",
              "      <td>303</td>\n",
              "      <td>303</td>\n",
              "    </tr>\n",
              "    <tr>\n",
              "      <th>1</th>\n",
              "      <td>7721</td>\n",
              "      <td>7721</td>\n",
              "      <td>7721</td>\n",
              "      <td>7721</td>\n",
              "      <td>7721</td>\n",
              "      <td>7721</td>\n",
              "      <td>7721</td>\n",
              "      <td>7721</td>\n",
              "      <td>7721</td>\n",
              "      <td>7721</td>\n",
              "      <td>7721</td>\n",
              "      <td>7721</td>\n",
              "      <td>7721</td>\n",
              "      <td>7721</td>\n",
              "      <td>7721</td>\n",
              "      <td>7721</td>\n",
              "      <td>7721</td>\n",
              "      <td>7721</td>\n",
              "      <td>7721</td>\n",
              "      <td>7721</td>\n",
              "      <td>7721</td>\n",
              "      <td>7721</td>\n",
              "      <td>7721</td>\n",
              "      <td>7721</td>\n",
              "      <td>7721</td>\n",
              "      <td>7721</td>\n",
              "      <td>7721</td>\n",
              "      <td>7721</td>\n",
              "      <td>7721</td>\n",
              "    </tr>\n",
              "  </tbody>\n",
              "</table>\n",
              "</div>"
            ],
            "text/plain": [
              "      shiftdate  shift#  start  crew  eqmtid  ...  tmcat07   Dia   Mes   Año  locid_\n",
              "test                                          ...                                   \n",
              "0           303     303    303   303     303  ...      303   303   303   303     303\n",
              "1          7721    7721   7721  7721    7721  ...     7721  7721  7721  7721    7721\n",
              "\n",
              "[2 rows x 29 columns]"
            ]
          },
          "metadata": {
            "tags": []
          },
          "execution_count": 42
        }
      ]
    },
    {
      "cell_type": "code",
      "metadata": {
        "id": "YxXTOr290sI0",
        "outputId": "4f4f1573-ba6a-493a-beac-7595b9b613e5",
        "colab": {
          "base_uri": "https://localhost:8080/",
          "height": 439
        }
      },
      "source": [
        "df_carga[df_carga.test == 0]"
      ],
      "execution_count": 43,
      "outputs": [
        {
          "output_type": "execute_result",
          "data": {
            "text/html": [
              "<div>\n",
              "<style scoped>\n",
              "    .dataframe tbody tr th:only-of-type {\n",
              "        vertical-align: middle;\n",
              "    }\n",
              "\n",
              "    .dataframe tbody tr th {\n",
              "        vertical-align: top;\n",
              "    }\n",
              "\n",
              "    .dataframe thead th {\n",
              "        text-align: right;\n",
              "    }\n",
              "</style>\n",
              "<table border=\"1\" class=\"dataframe\">\n",
              "  <thead>\n",
              "    <tr style=\"text-align: right;\">\n",
              "      <th></th>\n",
              "      <th>shiftdate</th>\n",
              "      <th>shift#</th>\n",
              "      <th>start</th>\n",
              "      <th>crew</th>\n",
              "      <th>eqmtid</th>\n",
              "      <th>logintime</th>\n",
              "      <th>locid</th>\n",
              "      <th>operid</th>\n",
              "      <th>totaltime</th>\n",
              "      <th>pit</th>\n",
              "      <th>unit</th>\n",
              "      <th>totalloads</th>\n",
              "      <th>totaltons</th>\n",
              "      <th>loadtime</th>\n",
              "      <th>idletime</th>\n",
              "      <th>spottime</th>\n",
              "      <th>loadcnt</th>\n",
              "      <th>tmcat00</th>\n",
              "      <th>tmcat01</th>\n",
              "      <th>tmcat02</th>\n",
              "      <th>tmcat03</th>\n",
              "      <th>tmcat04</th>\n",
              "      <th>tmcat05</th>\n",
              "      <th>tmcat06</th>\n",
              "      <th>tmcat07</th>\n",
              "      <th>Dia</th>\n",
              "      <th>Mes</th>\n",
              "      <th>Año</th>\n",
              "      <th>locid_</th>\n",
              "      <th>test</th>\n",
              "    </tr>\n",
              "  </thead>\n",
              "  <tbody>\n",
              "    <tr>\n",
              "      <th>45</th>\n",
              "      <td>2019-07-01</td>\n",
              "      <td>2</td>\n",
              "      <td>28800</td>\n",
              "      <td>G2</td>\n",
              "      <td>307</td>\n",
              "      <td>3088</td>\n",
              "      <td>TX210039</td>\n",
              "      <td>07641</td>\n",
              "      <td>39893</td>\n",
              "      <td>MINA</td>\n",
              "      <td>Pala</td>\n",
              "      <td>100</td>\n",
              "      <td>23335</td>\n",
              "      <td>22347</td>\n",
              "      <td>5090</td>\n",
              "      <td>7656</td>\n",
              "      <td>100</td>\n",
              "      <td>39893</td>\n",
              "      <td>35320</td>\n",
              "      <td>0</td>\n",
              "      <td>2801</td>\n",
              "      <td>0</td>\n",
              "      <td>0</td>\n",
              "      <td>1772</td>\n",
              "      <td>0</td>\n",
              "      <td>01</td>\n",
              "      <td>07</td>\n",
              "      <td>2019</td>\n",
              "      <td>TX210039</td>\n",
              "      <td>0</td>\n",
              "    </tr>\n",
              "    <tr>\n",
              "      <th>201</th>\n",
              "      <td>2019-07-01</td>\n",
              "      <td>1</td>\n",
              "      <td>72000</td>\n",
              "      <td>G1</td>\n",
              "      <td>212</td>\n",
              "      <td>0</td>\n",
              "      <td>TX480079</td>\n",
              "      <td>mmsunk</td>\n",
              "      <td>39897</td>\n",
              "      <td>MINA</td>\n",
              "      <td>Pala</td>\n",
              "      <td>48</td>\n",
              "      <td>11040</td>\n",
              "      <td>5366</td>\n",
              "      <td>23348</td>\n",
              "      <td>4645</td>\n",
              "      <td>48</td>\n",
              "      <td>39897</td>\n",
              "      <td>33175</td>\n",
              "      <td>0</td>\n",
              "      <td>4935</td>\n",
              "      <td>0</td>\n",
              "      <td>0</td>\n",
              "      <td>1787</td>\n",
              "      <td>0</td>\n",
              "      <td>01</td>\n",
              "      <td>07</td>\n",
              "      <td>2019</td>\n",
              "      <td>TX480079</td>\n",
              "      <td>0</td>\n",
              "    </tr>\n",
              "    <tr>\n",
              "      <th>202</th>\n",
              "      <td>2019-07-01</td>\n",
              "      <td>1</td>\n",
              "      <td>72000</td>\n",
              "      <td>G1</td>\n",
              "      <td>213</td>\n",
              "      <td>0</td>\n",
              "      <td>TX240082</td>\n",
              "      <td>mmsunk</td>\n",
              "      <td>43200</td>\n",
              "      <td>MINA</td>\n",
              "      <td>Pala</td>\n",
              "      <td>161</td>\n",
              "      <td>36994</td>\n",
              "      <td>15987</td>\n",
              "      <td>9278</td>\n",
              "      <td>9378</td>\n",
              "      <td>161</td>\n",
              "      <td>43200</td>\n",
              "      <td>35478</td>\n",
              "      <td>0</td>\n",
              "      <td>4166</td>\n",
              "      <td>0</td>\n",
              "      <td>0</td>\n",
              "      <td>3556</td>\n",
              "      <td>0</td>\n",
              "      <td>01</td>\n",
              "      <td>07</td>\n",
              "      <td>2019</td>\n",
              "      <td>TX240082</td>\n",
              "      <td>0</td>\n",
              "    </tr>\n",
              "    <tr>\n",
              "      <th>1195</th>\n",
              "      <td>2019-07-04</td>\n",
              "      <td>1</td>\n",
              "      <td>-14400</td>\n",
              "      <td>G1</td>\n",
              "      <td>213</td>\n",
              "      <td>0</td>\n",
              "      <td>TX240086</td>\n",
              "      <td>mmsunk</td>\n",
              "      <td>808</td>\n",
              "      <td>MINA</td>\n",
              "      <td>Pala</td>\n",
              "      <td>1</td>\n",
              "      <td>246</td>\n",
              "      <td>8</td>\n",
              "      <td>0</td>\n",
              "      <td>268</td>\n",
              "      <td>1</td>\n",
              "      <td>808</td>\n",
              "      <td>505</td>\n",
              "      <td>0</td>\n",
              "      <td>303</td>\n",
              "      <td>0</td>\n",
              "      <td>0</td>\n",
              "      <td>0</td>\n",
              "      <td>0</td>\n",
              "      <td>04</td>\n",
              "      <td>07</td>\n",
              "      <td>2019</td>\n",
              "      <td>TX240086</td>\n",
              "      <td>0</td>\n",
              "    </tr>\n",
              "    <tr>\n",
              "      <th>1854</th>\n",
              "      <td>2019-07-06</td>\n",
              "      <td>1</td>\n",
              "      <td>-14400</td>\n",
              "      <td>G3</td>\n",
              "      <td>306</td>\n",
              "      <td>707</td>\n",
              "      <td>LIMPIEZA255N</td>\n",
              "      <td>07049</td>\n",
              "      <td>3446</td>\n",
              "      <td>MINA</td>\n",
              "      <td>Pala</td>\n",
              "      <td>7</td>\n",
              "      <td>1663</td>\n",
              "      <td>1717</td>\n",
              "      <td>959</td>\n",
              "      <td>737</td>\n",
              "      <td>7</td>\n",
              "      <td>3446</td>\n",
              "      <td>3428</td>\n",
              "      <td>0</td>\n",
              "      <td>10</td>\n",
              "      <td>0</td>\n",
              "      <td>8</td>\n",
              "      <td>0</td>\n",
              "      <td>0</td>\n",
              "      <td>06</td>\n",
              "      <td>07</td>\n",
              "      <td>2019</td>\n",
              "      <td>LIMPIEZA255N</td>\n",
              "      <td>0</td>\n",
              "    </tr>\n",
              "    <tr>\n",
              "      <th>...</th>\n",
              "      <td>...</td>\n",
              "      <td>...</td>\n",
              "      <td>...</td>\n",
              "      <td>...</td>\n",
              "      <td>...</td>\n",
              "      <td>...</td>\n",
              "      <td>...</td>\n",
              "      <td>...</td>\n",
              "      <td>...</td>\n",
              "      <td>...</td>\n",
              "      <td>...</td>\n",
              "      <td>...</td>\n",
              "      <td>...</td>\n",
              "      <td>...</td>\n",
              "      <td>...</td>\n",
              "      <td>...</td>\n",
              "      <td>...</td>\n",
              "      <td>...</td>\n",
              "      <td>...</td>\n",
              "      <td>...</td>\n",
              "      <td>...</td>\n",
              "      <td>...</td>\n",
              "      <td>...</td>\n",
              "      <td>...</td>\n",
              "      <td>...</td>\n",
              "      <td>...</td>\n",
              "      <td>...</td>\n",
              "      <td>...</td>\n",
              "      <td>...</td>\n",
              "      <td>...</td>\n",
              "    </tr>\n",
              "    <tr>\n",
              "      <th>118725</th>\n",
              "      <td>2020-09-02</td>\n",
              "      <td>2</td>\n",
              "      <td>28800</td>\n",
              "      <td>G3</td>\n",
              "      <td>211</td>\n",
              "      <td>1002</td>\n",
              "      <td>TY270161</td>\n",
              "      <td>07303</td>\n",
              "      <td>23296</td>\n",
              "      <td>MINA</td>\n",
              "      <td>Pala</td>\n",
              "      <td>54</td>\n",
              "      <td>11588</td>\n",
              "      <td>9713</td>\n",
              "      <td>3591</td>\n",
              "      <td>4884</td>\n",
              "      <td>54</td>\n",
              "      <td>23296</td>\n",
              "      <td>18232</td>\n",
              "      <td>0</td>\n",
              "      <td>1465</td>\n",
              "      <td>0</td>\n",
              "      <td>12</td>\n",
              "      <td>3587</td>\n",
              "      <td>0</td>\n",
              "      <td>02</td>\n",
              "      <td>09</td>\n",
              "      <td>2020</td>\n",
              "      <td>TY270161</td>\n",
              "      <td>0</td>\n",
              "    </tr>\n",
              "    <tr>\n",
              "      <th>118797</th>\n",
              "      <td>2020-09-02</td>\n",
              "      <td>1</td>\n",
              "      <td>-14400</td>\n",
              "      <td>G4</td>\n",
              "      <td>212</td>\n",
              "      <td>926</td>\n",
              "      <td>TY180033</td>\n",
              "      <td>07862</td>\n",
              "      <td>6987</td>\n",
              "      <td>MINA</td>\n",
              "      <td>Pala</td>\n",
              "      <td>18</td>\n",
              "      <td>3770</td>\n",
              "      <td>1869</td>\n",
              "      <td>3476</td>\n",
              "      <td>498</td>\n",
              "      <td>18</td>\n",
              "      <td>6987</td>\n",
              "      <td>5916</td>\n",
              "      <td>0</td>\n",
              "      <td>1070</td>\n",
              "      <td>0</td>\n",
              "      <td>1</td>\n",
              "      <td>0</td>\n",
              "      <td>0</td>\n",
              "      <td>02</td>\n",
              "      <td>09</td>\n",
              "      <td>2020</td>\n",
              "      <td>TY180033</td>\n",
              "      <td>0</td>\n",
              "    </tr>\n",
              "    <tr>\n",
              "      <th>119304</th>\n",
              "      <td>2020-09-04</td>\n",
              "      <td>1</td>\n",
              "      <td>-14400</td>\n",
              "      <td>G4</td>\n",
              "      <td>211</td>\n",
              "      <td>0</td>\n",
              "      <td>TY270164</td>\n",
              "      <td>mmsunk</td>\n",
              "      <td>17269</td>\n",
              "      <td>MINA</td>\n",
              "      <td>Pala</td>\n",
              "      <td>59</td>\n",
              "      <td>12772</td>\n",
              "      <td>8694</td>\n",
              "      <td>3728</td>\n",
              "      <td>3236</td>\n",
              "      <td>59</td>\n",
              "      <td>17269</td>\n",
              "      <td>15762</td>\n",
              "      <td>0</td>\n",
              "      <td>1507</td>\n",
              "      <td>0</td>\n",
              "      <td>0</td>\n",
              "      <td>0</td>\n",
              "      <td>0</td>\n",
              "      <td>04</td>\n",
              "      <td>09</td>\n",
              "      <td>2020</td>\n",
              "      <td>TY270164</td>\n",
              "      <td>0</td>\n",
              "    </tr>\n",
              "    <tr>\n",
              "      <th>119648</th>\n",
              "      <td>2020-09-05</td>\n",
              "      <td>1</td>\n",
              "      <td>-14400</td>\n",
              "      <td>G1</td>\n",
              "      <td>212</td>\n",
              "      <td>20344</td>\n",
              "      <td>TY180095</td>\n",
              "      <td>07760</td>\n",
              "      <td>21666</td>\n",
              "      <td>MINA</td>\n",
              "      <td>Pala</td>\n",
              "      <td>44</td>\n",
              "      <td>9500</td>\n",
              "      <td>7100</td>\n",
              "      <td>8546</td>\n",
              "      <td>2684</td>\n",
              "      <td>44</td>\n",
              "      <td>21666</td>\n",
              "      <td>18429</td>\n",
              "      <td>0</td>\n",
              "      <td>0</td>\n",
              "      <td>0</td>\n",
              "      <td>10</td>\n",
              "      <td>3227</td>\n",
              "      <td>0</td>\n",
              "      <td>05</td>\n",
              "      <td>09</td>\n",
              "      <td>2020</td>\n",
              "      <td>TY180095</td>\n",
              "      <td>0</td>\n",
              "    </tr>\n",
              "    <tr>\n",
              "      <th>119658</th>\n",
              "      <td>2020-09-05</td>\n",
              "      <td>2</td>\n",
              "      <td>28800</td>\n",
              "      <td>G2</td>\n",
              "      <td>306</td>\n",
              "      <td>777</td>\n",
              "      <td>TY165147</td>\n",
              "      <td>07853</td>\n",
              "      <td>10095</td>\n",
              "      <td>MINA</td>\n",
              "      <td>Pala</td>\n",
              "      <td>27</td>\n",
              "      <td>5904</td>\n",
              "      <td>5777</td>\n",
              "      <td>2593</td>\n",
              "      <td>1631</td>\n",
              "      <td>27</td>\n",
              "      <td>10095</td>\n",
              "      <td>10081</td>\n",
              "      <td>0</td>\n",
              "      <td>14</td>\n",
              "      <td>0</td>\n",
              "      <td>0</td>\n",
              "      <td>0</td>\n",
              "      <td>0</td>\n",
              "      <td>05</td>\n",
              "      <td>09</td>\n",
              "      <td>2020</td>\n",
              "      <td>TY165147</td>\n",
              "      <td>0</td>\n",
              "    </tr>\n",
              "  </tbody>\n",
              "</table>\n",
              "<p>303 rows × 30 columns</p>\n",
              "</div>"
            ],
            "text/plain": [
              "        shiftdate shift#  start crew eqmtid  ...  Dia Mes   Año        locid_ test\n",
              "45     2019-07-01      2  28800   G2    307  ...   01  07  2019      TX210039    0\n",
              "201    2019-07-01      1  72000   G1    212  ...   01  07  2019      TX480079    0\n",
              "202    2019-07-01      1  72000   G1    213  ...   01  07  2019      TX240082    0\n",
              "1195   2019-07-04      1 -14400   G1    213  ...   04  07  2019      TX240086    0\n",
              "1854   2019-07-06      1 -14400   G3    306  ...   06  07  2019  LIMPIEZA255N    0\n",
              "...           ...    ...    ...  ...    ...  ...  ...  ..   ...           ...  ...\n",
              "118725 2020-09-02      2  28800   G3    211  ...   02  09  2020      TY270161    0\n",
              "118797 2020-09-02      1 -14400   G4    212  ...   02  09  2020      TY180033    0\n",
              "119304 2020-09-04      1 -14400   G4    211  ...   04  09  2020      TY270164    0\n",
              "119648 2020-09-05      1 -14400   G1    212  ...   05  09  2020      TY180095    0\n",
              "119658 2020-09-05      2  28800   G2    306  ...   05  09  2020      TY165147    0\n",
              "\n",
              "[303 rows x 30 columns]"
            ]
          },
          "metadata": {
            "tags": []
          },
          "execution_count": 43
        }
      ]
    },
    {
      "cell_type": "markdown",
      "metadata": {
        "id": "ZgNpNeKKkpbP"
      },
      "source": [
        "###Mejor día"
      ]
    },
    {
      "cell_type": "code",
      "metadata": {
        "id": "zaSztIyBktML"
      },
      "source": [
        "df_tiempo = df_palas[df_palas.tmcat01 != 0]"
      ],
      "execution_count": 46,
      "outputs": []
    },
    {
      "cell_type": "markdown",
      "metadata": {
        "id": "ezTr1G9xv0vU"
      },
      "source": [
        "Tiempo Efectivo (data tmcat01 != 0 y unit == Pala)"
      ]
    },
    {
      "cell_type": "code",
      "metadata": {
        "id": "dWvkOrs0kte9",
        "outputId": "f7738582-cc16-48e9-9abb-0deb0d0a6255",
        "colab": {
          "base_uri": "https://localhost:8080/"
        }
      },
      "source": [
        "import numpy as np \n",
        "print(f' Tiempo Efectivo : {np.mean(df_tiempo.tmcat01)/3600} (horas)')"
      ],
      "execution_count": 57,
      "outputs": [
        {
          "output_type": "stream",
          "text": [
            " Tiempo Efectivo : 3.42770063503298 (horas)\n"
          ],
          "name": "stdout"
        }
      ]
    },
    {
      "cell_type": "code",
      "metadata": {
        "id": "AZccEFm4ktkf"
      },
      "source": [
        "tmcat01 = np.mean(df_tiempo.tmcat01)"
      ],
      "execution_count": 58,
      "outputs": []
    },
    {
      "cell_type": "code",
      "metadata": {
        "id": "LsURA2ZXktiX",
        "outputId": "94891888-7486-4176-9566-40d8d31bf392",
        "colab": {
          "base_uri": "https://localhost:8080/"
        }
      },
      "source": [
        "df_palas.columns"
      ],
      "execution_count": 59,
      "outputs": [
        {
          "output_type": "execute_result",
          "data": {
            "text/plain": [
              "Index(['shiftdate', 'shift#', 'start', 'crew', 'eqmtid', 'logintime', 'locid',\n",
              "       'operid', 'totaltime', 'pit', 'unit', 'totalloads', 'totaltons',\n",
              "       'loadtime', 'idletime', 'spottime', 'loadcnt', 'tmcat00', 'tmcat01',\n",
              "       'tmcat02', 'tmcat03', 'tmcat04', 'tmcat05', 'tmcat06', 'tmcat07', 'Dia',\n",
              "       'Mes', 'Año', 'locid_'],\n",
              "      dtype='object')"
            ]
          },
          "metadata": {
            "tags": []
          },
          "execution_count": 59
        }
      ]
    },
    {
      "cell_type": "code",
      "metadata": {
        "id": "wsYKnPVvzckC"
      },
      "source": [
        "df_ = df_palas[df_palas.totaltons != 0]"
      ],
      "execution_count": 64,
      "outputs": []
    },
    {
      "cell_type": "code",
      "metadata": {
        "id": "cBnSjyEhktSw",
        "outputId": "692da13f-c403-4842-e08a-73e1320b075a",
        "colab": {
          "base_uri": "https://localhost:8080/",
          "height": 204
        }
      },
      "source": [
        "df_carga[['totaltons','totalloads','loadcnt']].head()"
      ],
      "execution_count": 66,
      "outputs": [
        {
          "output_type": "execute_result",
          "data": {
            "text/html": [
              "<div>\n",
              "<style scoped>\n",
              "    .dataframe tbody tr th:only-of-type {\n",
              "        vertical-align: middle;\n",
              "    }\n",
              "\n",
              "    .dataframe tbody tr th {\n",
              "        vertical-align: top;\n",
              "    }\n",
              "\n",
              "    .dataframe thead th {\n",
              "        text-align: right;\n",
              "    }\n",
              "</style>\n",
              "<table border=\"1\" class=\"dataframe\">\n",
              "  <thead>\n",
              "    <tr style=\"text-align: right;\">\n",
              "      <th></th>\n",
              "      <th>totaltons</th>\n",
              "      <th>totalloads</th>\n",
              "      <th>loadcnt</th>\n",
              "    </tr>\n",
              "  </thead>\n",
              "  <tbody>\n",
              "    <tr>\n",
              "      <th>44</th>\n",
              "      <td>690</td>\n",
              "      <td>3</td>\n",
              "      <td>3</td>\n",
              "    </tr>\n",
              "    <tr>\n",
              "      <th>45</th>\n",
              "      <td>23335</td>\n",
              "      <td>100</td>\n",
              "      <td>100</td>\n",
              "    </tr>\n",
              "    <tr>\n",
              "      <th>141</th>\n",
              "      <td>14648</td>\n",
              "      <td>64</td>\n",
              "      <td>64</td>\n",
              "    </tr>\n",
              "    <tr>\n",
              "      <th>142</th>\n",
              "      <td>21134</td>\n",
              "      <td>93</td>\n",
              "      <td>93</td>\n",
              "    </tr>\n",
              "    <tr>\n",
              "      <th>145</th>\n",
              "      <td>2833</td>\n",
              "      <td>12</td>\n",
              "      <td>12</td>\n",
              "    </tr>\n",
              "  </tbody>\n",
              "</table>\n",
              "</div>"
            ],
            "text/plain": [
              "     totaltons  totalloads  loadcnt\n",
              "44         690           3        3\n",
              "45       23335         100      100\n",
              "141      14648          64       64\n",
              "142      21134          93       93\n",
              "145       2833          12       12"
            ]
          },
          "metadata": {
            "tags": []
          },
          "execution_count": 66
        }
      ]
    },
    {
      "cell_type": "code",
      "metadata": {
        "id": "MSXszuS-3ZVm",
        "outputId": "63b75e82-096d-4b43-f055-b5d8633a126f",
        "colab": {
          "base_uri": "https://localhost:8080/"
        }
      },
      "source": [
        "df_carga.totaltons.describe()"
      ],
      "execution_count": 70,
      "outputs": [
        {
          "output_type": "execute_result",
          "data": {
            "text/plain": [
              "count     8165.000000\n",
              "mean      7624.405389\n",
              "std       8016.192911\n",
              "min         44.000000\n",
              "25%       1857.000000\n",
              "50%       4749.000000\n",
              "75%      10881.000000\n",
              "max      50616.000000\n",
              "Name: totaltons, dtype: float64"
            ]
          },
          "metadata": {
            "tags": []
          },
          "execution_count": 70
        }
      ]
    },
    {
      "cell_type": "code",
      "metadata": {
        "id": "vr90jSL3ktJT"
      },
      "source": [
        "cargas = df_carga.totaltons/df_carga.loadcnt"
      ],
      "execution_count": 67,
      "outputs": []
    },
    {
      "cell_type": "code",
      "metadata": {
        "id": "AdzPRGcl0CE0",
        "outputId": "6e237c22-82b3-41ab-b1cc-af986e964151",
        "colab": {
          "base_uri": "https://localhost:8080/"
        }
      },
      "source": [
        "cargas.describe()"
      ],
      "execution_count": 69,
      "outputs": [
        {
          "output_type": "execute_result",
          "data": {
            "text/plain": [
              "count    8165.000000\n",
              "mean      230.064555\n",
              "std         9.026279\n",
              "min        34.000000\n",
              "25%       226.270833\n",
              "50%       231.170732\n",
              "75%       235.247191\n",
              "max       263.000000\n",
              "dtype: float64"
            ]
          },
          "metadata": {
            "tags": []
          },
          "execution_count": 69
        }
      ]
    },
    {
      "cell_type": "markdown",
      "metadata": {
        "id": "c1wBY4Bs3DKs"
      },
      "source": [
        "Capacidad pala 61.2 tons"
      ]
    },
    {
      "cell_type": "code",
      "metadata": {
        "id": "m1OixyLy3CWY"
      },
      "source": [
        ""
      ],
      "execution_count": null,
      "outputs": []
    },
    {
      "cell_type": "markdown",
      "metadata": {
        "id": "OkDYZbcNxJVt"
      },
      "source": [
        "#Tiempos (Data 2)"
      ]
    },
    {
      "cell_type": "code",
      "metadata": {
        "id": "m9phswKkv51_"
      },
      "source": [
        ""
      ],
      "execution_count": 43,
      "outputs": []
    }
  ]
}