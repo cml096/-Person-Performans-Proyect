{
  "nbformat": 4,
  "nbformat_minor": 0,
  "metadata": {
    "kernelspec": {
      "display_name": "Python 3",
      "language": "python",
      "name": "python3"
    },
    "language_info": {
      "codemirror_mode": {
        "name": "ipython",
        "version": 3
      },
      "file_extension": ".py",
      "mimetype": "text/x-python",
      "name": "python",
      "nbconvert_exporter": "python",
      "pygments_lexer": "ipython3",
      "version": "3.8.3"
    },
    "colab": {
      "name": "Avance-CMP.ipynb",
      "provenance": []
    }
  },
  "cells": [
    {
      "cell_type": "code",
      "metadata": {
        "id": "jG_PngNpSzXv",
        "colab_type": "code",
        "colab": {
          "base_uri": "https://localhost:8080/",
          "height": 71
        },
        "outputId": "26e727d1-0b2b-48b5-c0ec-4b246ea96c0d"
      },
      "source": [
        "import pandas as pd\n",
        "import numpy as np\n",
        "import matplotlib.pyplot as plt\n",
        "import seaborn as sns; sns.set()"
      ],
      "execution_count": 1,
      "outputs": [
        {
          "output_type": "stream",
          "text": [
            "/usr/local/lib/python3.6/dist-packages/statsmodels/tools/_testing.py:19: FutureWarning: pandas.util.testing is deprecated. Use the functions in the public API at pandas.testing instead.\n",
            "  import pandas.util.testing as tm\n"
          ],
          "name": "stderr"
        }
      ]
    },
    {
      "cell_type": "code",
      "metadata": {
        "id": "Vt1DRTMdSzX8",
        "colab_type": "code",
        "colab": {}
      },
      "source": [
        "df = pd.read_excel('Rendimiento CMP V2.xlsx', sheet_name='MinaMLC')\n",
        "#df.head()"
      ],
      "execution_count": 2,
      "outputs": []
    },
    {
      "cell_type": "markdown",
      "metadata": {
        "id": "y7ie34XzSzYC",
        "colab_type": "text"
      },
      "source": [
        "Se usaron para el estudio, solo los datos de CMP Valle del Huasco, Mina los colorados ya que es aquella subdivisión con la mayor cantidad de registros asociados a colaboradores."
      ]
    },
    {
      "cell_type": "code",
      "metadata": {
        "id": "VYFdWJetSzYD",
        "colab_type": "code",
        "colab": {}
      },
      "source": [
        "df_ = df[df['División de personal'] == 'CMP VALLE DEL HUASCO']\n",
        "df_test_minera_colorado = df_[df_['Subdivisión de personal'] == 'MINA LOS COLORA']\n",
        "#df_test_minera_colorado.head()"
      ],
      "execution_count": 3,
      "outputs": []
    },
    {
      "cell_type": "code",
      "metadata": {
        "id": "IS6wJRBuSzYJ",
        "colab_type": "code",
        "colab": {}
      },
      "source": [
        "df_ = df_test_minera_colorado\n",
        "#df_.head()"
      ],
      "execution_count": 4,
      "outputs": []
    },
    {
      "cell_type": "code",
      "metadata": {
        "id": "sdMedzzrSzYN",
        "colab_type": "code",
        "colab": {
          "base_uri": "https://localhost:8080/",
          "height": 170
        },
        "outputId": "0eda54de-0a53-4c82-95e0-80fee9325d6c"
      },
      "source": [
        "df_.columns"
      ],
      "execution_count": 5,
      "outputs": [
        {
          "output_type": "execute_result",
          "data": {
            "text/plain": [
              "Index(['Dia', 'Turno', 'Equipo', 'Cargas (u)', 'Movimiento (t)', 'tefe (seg)',\n",
              "       'tdem (seg)', 'R-ef (t/h)', 'Número de personal',\n",
              "       'División de personal', 'Cod. División', 'Subdivisión de personal',\n",
              "       'Cod. Subdivisión', 'Grupo de personal', 'Unidad organizativa',\n",
              "       'Cod. Unidad', 'Posición', 'Cod. Posición', 'Fecha de nacimiento',\n",
              "       'Edad del empleado', 'Fecha de alta',\n",
              "       'Status empleado para Gestión tiempos per'],\n",
              "      dtype='object')"
            ]
          },
          "metadata": {
            "tags": []
          },
          "execution_count": 5
        }
      ]
    },
    {
      "cell_type": "code",
      "metadata": {
        "id": "6zO02A0YSzYR",
        "colab_type": "code",
        "colab": {}
      },
      "source": [
        "filtro = ['División de personal',\n",
        "          'Cod. División',\n",
        "          'Subdivisión de personal',\n",
        "          'Cod. Subdivisión',\n",
        "          'Cod. Unidad',\n",
        "          'Cod. Posición',\n",
        "          'Fecha de nacimiento',\n",
        "          'Grupo de personal']"
      ],
      "execution_count": 6,
      "outputs": []
    },
    {
      "cell_type": "code",
      "metadata": {
        "id": "R1oJnpktSzYX",
        "colab_type": "code",
        "colab": {}
      },
      "source": [
        "df_.drop(filtro,axis=1,inplace=True)"
      ],
      "execution_count": 7,
      "outputs": []
    },
    {
      "cell_type": "code",
      "metadata": {
        "id": "0A0nM6jsSzYc",
        "colab_type": "code",
        "colab": {
          "base_uri": "https://localhost:8080/",
          "height": 385
        },
        "outputId": "fe564462-1e5c-4a77-d19c-6ed457445d99"
      },
      "source": [
        "df_.info()"
      ],
      "execution_count": 8,
      "outputs": [
        {
          "output_type": "stream",
          "text": [
            "<class 'pandas.core.frame.DataFrame'>\n",
            "Int64Index: 1825 entries, 0 to 3137\n",
            "Data columns (total 14 columns):\n",
            " #   Column                                    Non-Null Count  Dtype         \n",
            "---  ------                                    --------------  -----         \n",
            " 0   Dia                                       1825 non-null   datetime64[ns]\n",
            " 1   Turno                                     1825 non-null   int64         \n",
            " 2   Equipo                                    1825 non-null   int64         \n",
            " 3   Cargas (u)                                1825 non-null   int64         \n",
            " 4   Movimiento (t)                            1825 non-null   float64       \n",
            " 5   tefe (seg)                                1825 non-null   int64         \n",
            " 6   tdem (seg)                                1825 non-null   int64         \n",
            " 7   R-ef (t/h)                                1825 non-null   float64       \n",
            " 8   Número de personal                        1825 non-null   int64         \n",
            " 9   Unidad organizativa                       1825 non-null   object        \n",
            " 10  Posición                                  1825 non-null   object        \n",
            " 11  Edad del empleado                         1825 non-null   int64         \n",
            " 12  Fecha de alta                             1825 non-null   datetime64[ns]\n",
            " 13  Status empleado para Gestión tiempos per  1825 non-null   object        \n",
            "dtypes: datetime64[ns](2), float64(2), int64(7), object(3)\n",
            "memory usage: 213.9+ KB\n"
          ],
          "name": "stdout"
        }
      ]
    },
    {
      "cell_type": "code",
      "metadata": {
        "id": "mtiGMQulSzYh",
        "colab_type": "code",
        "colab": {
          "base_uri": "https://localhost:8080/",
          "height": 329
        },
        "outputId": "54eb2860-07b4-411c-8e0c-93829121cd62"
      },
      "source": [
        "df_.describe()"
      ],
      "execution_count": 9,
      "outputs": [
        {
          "output_type": "execute_result",
          "data": {
            "text/html": [
              "<div>\n",
              "<style scoped>\n",
              "    .dataframe tbody tr th:only-of-type {\n",
              "        vertical-align: middle;\n",
              "    }\n",
              "\n",
              "    .dataframe tbody tr th {\n",
              "        vertical-align: top;\n",
              "    }\n",
              "\n",
              "    .dataframe thead th {\n",
              "        text-align: right;\n",
              "    }\n",
              "</style>\n",
              "<table border=\"1\" class=\"dataframe\">\n",
              "  <thead>\n",
              "    <tr style=\"text-align: right;\">\n",
              "      <th></th>\n",
              "      <th>Turno</th>\n",
              "      <th>Equipo</th>\n",
              "      <th>Cargas (u)</th>\n",
              "      <th>Movimiento (t)</th>\n",
              "      <th>tefe (seg)</th>\n",
              "      <th>tdem (seg)</th>\n",
              "      <th>R-ef (t/h)</th>\n",
              "      <th>Número de personal</th>\n",
              "      <th>Edad del empleado</th>\n",
              "    </tr>\n",
              "  </thead>\n",
              "  <tbody>\n",
              "    <tr>\n",
              "      <th>count</th>\n",
              "      <td>1825.00000</td>\n",
              "      <td>1825.000000</td>\n",
              "      <td>1825.000000</td>\n",
              "      <td>1825.000000</td>\n",
              "      <td>1825.000000</td>\n",
              "      <td>1825.000000</td>\n",
              "      <td>1825.000000</td>\n",
              "      <td>1.825000e+03</td>\n",
              "      <td>1825.000000</td>\n",
              "    </tr>\n",
              "    <tr>\n",
              "      <th>mean</th>\n",
              "      <td>1.50411</td>\n",
              "      <td>256.833973</td>\n",
              "      <td>65.164384</td>\n",
              "      <td>15089.483905</td>\n",
              "      <td>21772.320548</td>\n",
              "      <td>1919.663014</td>\n",
              "      <td>2422.582727</td>\n",
              "      <td>2.000280e+07</td>\n",
              "      <td>45.528219</td>\n",
              "    </tr>\n",
              "    <tr>\n",
              "      <th>std</th>\n",
              "      <td>0.50012</td>\n",
              "      <td>47.420979</td>\n",
              "      <td>41.631863</td>\n",
              "      <td>9665.474818</td>\n",
              "      <td>10993.633877</td>\n",
              "      <td>2041.227485</td>\n",
              "      <td>813.882872</td>\n",
              "      <td>2.033461e+03</td>\n",
              "      <td>11.608631</td>\n",
              "    </tr>\n",
              "    <tr>\n",
              "      <th>min</th>\n",
              "      <td>1.00000</td>\n",
              "      <td>210.000000</td>\n",
              "      <td>1.000000</td>\n",
              "      <td>216.899990</td>\n",
              "      <td>137.000000</td>\n",
              "      <td>0.000000</td>\n",
              "      <td>279.603580</td>\n",
              "      <td>2.000056e+07</td>\n",
              "      <td>26.000000</td>\n",
              "    </tr>\n",
              "    <tr>\n",
              "      <th>25%</th>\n",
              "      <td>1.00000</td>\n",
              "      <td>211.000000</td>\n",
              "      <td>31.000000</td>\n",
              "      <td>7210.500120</td>\n",
              "      <td>12797.000000</td>\n",
              "      <td>472.000000</td>\n",
              "      <td>1808.232502</td>\n",
              "      <td>2.000090e+07</td>\n",
              "      <td>34.000000</td>\n",
              "    </tr>\n",
              "    <tr>\n",
              "      <th>50%</th>\n",
              "      <td>2.00000</td>\n",
              "      <td>213.000000</td>\n",
              "      <td>61.000000</td>\n",
              "      <td>14138.999020</td>\n",
              "      <td>22504.000000</td>\n",
              "      <td>1341.000000</td>\n",
              "      <td>2355.800564</td>\n",
              "      <td>2.000279e+07</td>\n",
              "      <td>48.000000</td>\n",
              "    </tr>\n",
              "    <tr>\n",
              "      <th>75%</th>\n",
              "      <td>2.00000</td>\n",
              "      <td>306.000000</td>\n",
              "      <td>94.000000</td>\n",
              "      <td>21434.798830</td>\n",
              "      <td>31629.000000</td>\n",
              "      <td>2716.000000</td>\n",
              "      <td>3014.188792</td>\n",
              "      <td>2.000386e+07</td>\n",
              "      <td>57.000000</td>\n",
              "    </tr>\n",
              "    <tr>\n",
              "      <th>max</th>\n",
              "      <td>2.00000</td>\n",
              "      <td>307.000000</td>\n",
              "      <td>213.000000</td>\n",
              "      <td>50036.500000</td>\n",
              "      <td>42586.000000</td>\n",
              "      <td>18235.000000</td>\n",
              "      <td>6322.608522</td>\n",
              "      <td>2.000691e+07</td>\n",
              "      <td>64.000000</td>\n",
              "    </tr>\n",
              "  </tbody>\n",
              "</table>\n",
              "</div>"
            ],
            "text/plain": [
              "            Turno       Equipo  ...  Número de personal  Edad del empleado\n",
              "count  1825.00000  1825.000000  ...        1.825000e+03        1825.000000\n",
              "mean      1.50411   256.833973  ...        2.000280e+07          45.528219\n",
              "std       0.50012    47.420979  ...        2.033461e+03          11.608631\n",
              "min       1.00000   210.000000  ...        2.000056e+07          26.000000\n",
              "25%       1.00000   211.000000  ...        2.000090e+07          34.000000\n",
              "50%       2.00000   213.000000  ...        2.000279e+07          48.000000\n",
              "75%       2.00000   306.000000  ...        2.000386e+07          57.000000\n",
              "max       2.00000   307.000000  ...        2.000691e+07          64.000000\n",
              "\n",
              "[8 rows x 9 columns]"
            ]
          },
          "metadata": {
            "tags": []
          },
          "execution_count": 9
        }
      ]
    },
    {
      "cell_type": "markdown",
      "metadata": {
        "id": "2eFNKja2SzYm",
        "colab_type": "text"
      },
      "source": [
        "Se cambiaron los nombres de algunas columnas ya que eran demasiado largos o engorrosos"
      ]
    },
    {
      "cell_type": "code",
      "metadata": {
        "id": "-8CjNY6fSzYn",
        "colab_type": "code",
        "colab": {
          "base_uri": "https://localhost:8080/",
          "height": 385
        },
        "outputId": "e3a23fcc-01ed-44d7-c9e1-d8f861f91c1e"
      },
      "source": [
        "df_ = df_.rename(columns={'Dia':'Fecha'})\n",
        "df_ = df_.rename(columns={'Status empleado para Gestión tiempos per':'Tipo medición tiempo'})\n",
        "df_.info()"
      ],
      "execution_count": 10,
      "outputs": [
        {
          "output_type": "stream",
          "text": [
            "<class 'pandas.core.frame.DataFrame'>\n",
            "Int64Index: 1825 entries, 0 to 3137\n",
            "Data columns (total 14 columns):\n",
            " #   Column                Non-Null Count  Dtype         \n",
            "---  ------                --------------  -----         \n",
            " 0   Fecha                 1825 non-null   datetime64[ns]\n",
            " 1   Turno                 1825 non-null   int64         \n",
            " 2   Equipo                1825 non-null   int64         \n",
            " 3   Cargas (u)            1825 non-null   int64         \n",
            " 4   Movimiento (t)        1825 non-null   float64       \n",
            " 5   tefe (seg)            1825 non-null   int64         \n",
            " 6   tdem (seg)            1825 non-null   int64         \n",
            " 7   R-ef (t/h)            1825 non-null   float64       \n",
            " 8   Número de personal    1825 non-null   int64         \n",
            " 9   Unidad organizativa   1825 non-null   object        \n",
            " 10  Posición              1825 non-null   object        \n",
            " 11  Edad del empleado     1825 non-null   int64         \n",
            " 12  Fecha de alta         1825 non-null   datetime64[ns]\n",
            " 13  Tipo medición tiempo  1825 non-null   object        \n",
            "dtypes: datetime64[ns](2), float64(2), int64(7), object(3)\n",
            "memory usage: 213.9+ KB\n"
          ],
          "name": "stdout"
        }
      ]
    },
    {
      "cell_type": "markdown",
      "metadata": {
        "id": "yKpY5kWGSzYr",
        "colab_type": "text"
      },
      "source": [
        "Cambiamos el formato de algunas variables"
      ]
    },
    {
      "cell_type": "code",
      "metadata": {
        "id": "EPBvuwysSzYr",
        "colab_type": "code",
        "colab": {}
      },
      "source": [
        "df_['Turno'] = df_['Turno'].astype(str)"
      ],
      "execution_count": 11,
      "outputs": []
    },
    {
      "cell_type": "code",
      "metadata": {
        "id": "bmqMFRmSSzYv",
        "colab_type": "code",
        "colab": {}
      },
      "source": [
        "df_['Equipo'] = df_['Equipo'].astype(str)"
      ],
      "execution_count": 12,
      "outputs": []
    },
    {
      "cell_type": "code",
      "metadata": {
        "id": "y5KQ90MjSzYz",
        "colab_type": "code",
        "colab": {}
      },
      "source": [
        "df_['Número de personal'] = df_['Número de personal'].astype(str)"
      ],
      "execution_count": 13,
      "outputs": []
    },
    {
      "cell_type": "code",
      "metadata": {
        "id": "DgEANN-SSzY3",
        "colab_type": "code",
        "colab": {}
      },
      "source": [
        "df_['Fecha'] = df_['Fecha'].astype(str)"
      ],
      "execution_count": 14,
      "outputs": []
    },
    {
      "cell_type": "code",
      "metadata": {
        "id": "-j0QKhA6SzY7",
        "colab_type": "code",
        "colab": {}
      },
      "source": [
        "df_['Fecha de alta'] = df_['Fecha de alta'].astype(str)"
      ],
      "execution_count": 15,
      "outputs": []
    },
    {
      "cell_type": "code",
      "metadata": {
        "id": "uxQ7iYYoSzY-",
        "colab_type": "code",
        "colab": {
          "base_uri": "https://localhost:8080/",
          "height": 385
        },
        "outputId": "090d4fa3-fa6b-4f9c-9d55-4de0db1dfb4b"
      },
      "source": [
        "df_.info()"
      ],
      "execution_count": 16,
      "outputs": [
        {
          "output_type": "stream",
          "text": [
            "<class 'pandas.core.frame.DataFrame'>\n",
            "Int64Index: 1825 entries, 0 to 3137\n",
            "Data columns (total 14 columns):\n",
            " #   Column                Non-Null Count  Dtype  \n",
            "---  ------                --------------  -----  \n",
            " 0   Fecha                 1825 non-null   object \n",
            " 1   Turno                 1825 non-null   object \n",
            " 2   Equipo                1825 non-null   object \n",
            " 3   Cargas (u)            1825 non-null   int64  \n",
            " 4   Movimiento (t)        1825 non-null   float64\n",
            " 5   tefe (seg)            1825 non-null   int64  \n",
            " 6   tdem (seg)            1825 non-null   int64  \n",
            " 7   R-ef (t/h)            1825 non-null   float64\n",
            " 8   Número de personal    1825 non-null   object \n",
            " 9   Unidad organizativa   1825 non-null   object \n",
            " 10  Posición              1825 non-null   object \n",
            " 11  Edad del empleado     1825 non-null   int64  \n",
            " 12  Fecha de alta         1825 non-null   object \n",
            " 13  Tipo medición tiempo  1825 non-null   object \n",
            "dtypes: float64(2), int64(4), object(8)\n",
            "memory usage: 213.9+ KB\n"
          ],
          "name": "stdout"
        }
      ]
    },
    {
      "cell_type": "markdown",
      "metadata": {
        "id": "yNnP4ZeCSzZB",
        "colab_type": "text"
      },
      "source": [
        "Se transforman las siguientes variables a variables dummy"
      ]
    },
    {
      "cell_type": "code",
      "metadata": {
        "id": "EHuRcz0JSzZB",
        "colab_type": "code",
        "colab": {}
      },
      "source": [
        "unidad = pd.get_dummies(df_['Unidad organizativa'])\n",
        "posicion = pd.get_dummies(df_['Posición'])\n",
        "turno = pd.get_dummies(df_['Turno'])\n",
        "fecha = pd.get_dummies(df_['Fecha'])\n",
        "numero_personal = pd.get_dummies(df_['Número de personal'])\n",
        "alta = pd.get_dummies(df_['Fecha de alta'])\n",
        "tipo_tiempo = pd.get_dummies(df_['Tipo medición tiempo'])\n",
        "equipo = pd.get_dummies(df_['Equipo'])"
      ],
      "execution_count": 17,
      "outputs": []
    },
    {
      "cell_type": "code",
      "metadata": {
        "id": "HYkIH0KySzZE",
        "colab_type": "code",
        "colab": {
          "base_uri": "https://localhost:8080/",
          "height": 221
        },
        "outputId": "ad301654-bb63-410b-c9b1-574ac2fc48ed"
      },
      "source": [
        "filtro = ['Equipo','Unidad organizativa','Posición','Turno','Fecha','Número de personal','Fecha de alta','Tipo medición tiempo']\n",
        "df_.drop(filtro,axis=1,inplace=True)\n",
        "df_.head()\n"
      ],
      "execution_count": 18,
      "outputs": [
        {
          "output_type": "execute_result",
          "data": {
            "text/html": [
              "<div>\n",
              "<style scoped>\n",
              "    .dataframe tbody tr th:only-of-type {\n",
              "        vertical-align: middle;\n",
              "    }\n",
              "\n",
              "    .dataframe tbody tr th {\n",
              "        vertical-align: top;\n",
              "    }\n",
              "\n",
              "    .dataframe thead th {\n",
              "        text-align: right;\n",
              "    }\n",
              "</style>\n",
              "<table border=\"1\" class=\"dataframe\">\n",
              "  <thead>\n",
              "    <tr style=\"text-align: right;\">\n",
              "      <th></th>\n",
              "      <th>Cargas (u)</th>\n",
              "      <th>Movimiento (t)</th>\n",
              "      <th>tefe (seg)</th>\n",
              "      <th>tdem (seg)</th>\n",
              "      <th>R-ef (t/h)</th>\n",
              "      <th>Edad del empleado</th>\n",
              "    </tr>\n",
              "  </thead>\n",
              "  <tbody>\n",
              "    <tr>\n",
              "      <th>0</th>\n",
              "      <td>93</td>\n",
              "      <td>21134.20117</td>\n",
              "      <td>21517</td>\n",
              "      <td>814</td>\n",
              "      <td>3535.954093</td>\n",
              "      <td>29</td>\n",
              "    </tr>\n",
              "    <tr>\n",
              "      <th>1</th>\n",
              "      <td>12</td>\n",
              "      <td>2833.59961</td>\n",
              "      <td>5593</td>\n",
              "      <td>367</td>\n",
              "      <td>1823.879599</td>\n",
              "      <td>54</td>\n",
              "    </tr>\n",
              "    <tr>\n",
              "      <th>4</th>\n",
              "      <td>100</td>\n",
              "      <td>23335.70117</td>\n",
              "      <td>35320</td>\n",
              "      <td>2801</td>\n",
              "      <td>2378.497288</td>\n",
              "      <td>62</td>\n",
              "    </tr>\n",
              "    <tr>\n",
              "      <th>5</th>\n",
              "      <td>148</td>\n",
              "      <td>34061.60938</td>\n",
              "      <td>37283</td>\n",
              "      <td>960</td>\n",
              "      <td>3288.946538</td>\n",
              "      <td>48</td>\n",
              "    </tr>\n",
              "    <tr>\n",
              "      <th>6</th>\n",
              "      <td>7</td>\n",
              "      <td>1632.20007</td>\n",
              "      <td>2962</td>\n",
              "      <td>67</td>\n",
              "      <td>1983.767810</td>\n",
              "      <td>33</td>\n",
              "    </tr>\n",
              "  </tbody>\n",
              "</table>\n",
              "</div>"
            ],
            "text/plain": [
              "   Cargas (u)  Movimiento (t)  ...   R-ef (t/h)  Edad del empleado\n",
              "0          93     21134.20117  ...  3535.954093                 29\n",
              "1          12      2833.59961  ...  1823.879599                 54\n",
              "4         100     23335.70117  ...  2378.497288                 62\n",
              "5         148     34061.60938  ...  3288.946538                 48\n",
              "6           7      1632.20007  ...  1983.767810                 33\n",
              "\n",
              "[5 rows x 6 columns]"
            ]
          },
          "metadata": {
            "tags": []
          },
          "execution_count": 18
        }
      ]
    },
    {
      "cell_type": "code",
      "metadata": {
        "id": "_Lyl07EuSzZI",
        "colab_type": "code",
        "colab": {}
      },
      "source": [
        "df_ = pd.concat([df_,unidad,posicion,turno,numero_personal,tipo_tiempo,equipo],axis=1)"
      ],
      "execution_count": 19,
      "outputs": []
    },
    {
      "cell_type": "code",
      "metadata": {
        "id": "L7pbaXyjSzZM",
        "colab_type": "code",
        "colab": {
          "base_uri": "https://localhost:8080/",
          "height": 304
        },
        "outputId": "7ac31536-52cf-4ee9-eadf-222c03ca2814"
      },
      "source": [
        "df_.head()"
      ],
      "execution_count": 20,
      "outputs": [
        {
          "output_type": "execute_result",
          "data": {
            "text/html": [
              "<div>\n",
              "<style scoped>\n",
              "    .dataframe tbody tr th:only-of-type {\n",
              "        vertical-align: middle;\n",
              "    }\n",
              "\n",
              "    .dataframe tbody tr th {\n",
              "        vertical-align: top;\n",
              "    }\n",
              "\n",
              "    .dataframe thead th {\n",
              "        text-align: right;\n",
              "    }\n",
              "</style>\n",
              "<table border=\"1\" class=\"dataframe\">\n",
              "  <thead>\n",
              "    <tr style=\"text-align: right;\">\n",
              "      <th></th>\n",
              "      <th>Cargas (u)</th>\n",
              "      <th>Movimiento (t)</th>\n",
              "      <th>tefe (seg)</th>\n",
              "      <th>tdem (seg)</th>\n",
              "      <th>R-ef (t/h)</th>\n",
              "      <th>Edad del empleado</th>\n",
              "      <th>ADMINISTRACION SUPTCIA PLANTAS</th>\n",
              "      <th>ALJIBES MLC</th>\n",
              "      <th>CAMIONES CAT 793F MLC</th>\n",
              "      <th>CAMIONES KOMATSU 830E MLC</th>\n",
              "      <th>CARGADORES FRONTALES MLC</th>\n",
              "      <th>GEOLOGIA DE PRODUCCION</th>\n",
              "      <th>INGENIERIA DE PROCESOS</th>\n",
              "      <th>MANTENIMIENTO MINA</th>\n",
              "      <th>MOTONIVELADORAS MLC</th>\n",
              "      <th>PALAS HIDRAULICAS MLC</th>\n",
              "      <th>PLANIFICACION MANTTO. MINA</th>\n",
              "      <th>SERVICIO SOCIAL VHUASCO</th>\n",
              "      <th>SISTEMAS DE CONTROL Y POTENCIA</th>\n",
              "      <th>TRACTORES NEUMATICOS MLC</th>\n",
              "      <th>TRACTORES ORUGA MLC</th>\n",
              "      <th>ASISTENTE GEOLOGIA</th>\n",
              "      <th>AYUDANTE ADMINISTRATIVO</th>\n",
              "      <th>CONTROLADOR PLANIFICACION</th>\n",
              "      <th>ELECTRICO I</th>\n",
              "      <th>ELECTRICO III</th>\n",
              "      <th>INGENIERO DE PROCESOS</th>\n",
              "      <th>JEFE SISTEMAS DE CONTROL Y POTENCIA</th>\n",
              "      <th>MECANICO I</th>\n",
              "      <th>MECANICO III</th>\n",
              "      <th>OPERADOR ELECTRICO II PLANTA</th>\n",
              "      <th>OPERADOR I</th>\n",
              "      <th>OPERADOR II</th>\n",
              "      <th>OPERADOR III</th>\n",
              "      <th>OPERADOR MECANICO III PLANTA</th>\n",
              "      <th>PLANIFICADOR MANTENIMIENTO MINA</th>\n",
              "      <th>1</th>\n",
              "      <th>2</th>\n",
              "      <th>20000564</th>\n",
              "      <th>20000770</th>\n",
              "      <th>20000778</th>\n",
              "      <th>20000847</th>\n",
              "      <th>20000868</th>\n",
              "      <th>20000875</th>\n",
              "      <th>20000905</th>\n",
              "      <th>20000964</th>\n",
              "      <th>20001014</th>\n",
              "      <th>20001236</th>\n",
              "      <th>20001237</th>\n",
              "      <th>20001512</th>\n",
              "      <th>20001526</th>\n",
              "      <th>20002297</th>\n",
              "      <th>20002520</th>\n",
              "      <th>20002787</th>\n",
              "      <th>20003239</th>\n",
              "      <th>20003244</th>\n",
              "      <th>20003260</th>\n",
              "      <th>20003278</th>\n",
              "      <th>20003408</th>\n",
              "      <th>20003778</th>\n",
              "      <th>20003779</th>\n",
              "      <th>20003858</th>\n",
              "      <th>20004398</th>\n",
              "      <th>20004884</th>\n",
              "      <th>20004895</th>\n",
              "      <th>20005055</th>\n",
              "      <th>20005968</th>\n",
              "      <th>20006912</th>\n",
              "      <th>1 - Evaluación de tiempos, real</th>\n",
              "      <th>9 - Evaluación de tiempos, teórico</th>\n",
              "      <th>210</th>\n",
              "      <th>211</th>\n",
              "      <th>212</th>\n",
              "      <th>213</th>\n",
              "      <th>305</th>\n",
              "      <th>306</th>\n",
              "      <th>307</th>\n",
              "    </tr>\n",
              "  </thead>\n",
              "  <tbody>\n",
              "    <tr>\n",
              "      <th>0</th>\n",
              "      <td>93</td>\n",
              "      <td>21134.20117</td>\n",
              "      <td>21517</td>\n",
              "      <td>814</td>\n",
              "      <td>3535.954093</td>\n",
              "      <td>29</td>\n",
              "      <td>0</td>\n",
              "      <td>0</td>\n",
              "      <td>0</td>\n",
              "      <td>0</td>\n",
              "      <td>0</td>\n",
              "      <td>0</td>\n",
              "      <td>0</td>\n",
              "      <td>1</td>\n",
              "      <td>0</td>\n",
              "      <td>0</td>\n",
              "      <td>0</td>\n",
              "      <td>0</td>\n",
              "      <td>0</td>\n",
              "      <td>0</td>\n",
              "      <td>0</td>\n",
              "      <td>0</td>\n",
              "      <td>0</td>\n",
              "      <td>0</td>\n",
              "      <td>0</td>\n",
              "      <td>1</td>\n",
              "      <td>0</td>\n",
              "      <td>0</td>\n",
              "      <td>0</td>\n",
              "      <td>0</td>\n",
              "      <td>0</td>\n",
              "      <td>0</td>\n",
              "      <td>0</td>\n",
              "      <td>0</td>\n",
              "      <td>0</td>\n",
              "      <td>0</td>\n",
              "      <td>0</td>\n",
              "      <td>1</td>\n",
              "      <td>0</td>\n",
              "      <td>0</td>\n",
              "      <td>0</td>\n",
              "      <td>0</td>\n",
              "      <td>0</td>\n",
              "      <td>0</td>\n",
              "      <td>0</td>\n",
              "      <td>0</td>\n",
              "      <td>0</td>\n",
              "      <td>0</td>\n",
              "      <td>0</td>\n",
              "      <td>0</td>\n",
              "      <td>0</td>\n",
              "      <td>0</td>\n",
              "      <td>0</td>\n",
              "      <td>1</td>\n",
              "      <td>0</td>\n",
              "      <td>0</td>\n",
              "      <td>0</td>\n",
              "      <td>0</td>\n",
              "      <td>0</td>\n",
              "      <td>0</td>\n",
              "      <td>0</td>\n",
              "      <td>0</td>\n",
              "      <td>0</td>\n",
              "      <td>0</td>\n",
              "      <td>0</td>\n",
              "      <td>0</td>\n",
              "      <td>0</td>\n",
              "      <td>0</td>\n",
              "      <td>1</td>\n",
              "      <td>0</td>\n",
              "      <td>0</td>\n",
              "      <td>1</td>\n",
              "      <td>0</td>\n",
              "      <td>0</td>\n",
              "      <td>0</td>\n",
              "      <td>0</td>\n",
              "      <td>0</td>\n",
              "    </tr>\n",
              "    <tr>\n",
              "      <th>1</th>\n",
              "      <td>12</td>\n",
              "      <td>2833.59961</td>\n",
              "      <td>5593</td>\n",
              "      <td>367</td>\n",
              "      <td>1823.879599</td>\n",
              "      <td>54</td>\n",
              "      <td>0</td>\n",
              "      <td>0</td>\n",
              "      <td>0</td>\n",
              "      <td>0</td>\n",
              "      <td>0</td>\n",
              "      <td>0</td>\n",
              "      <td>0</td>\n",
              "      <td>1</td>\n",
              "      <td>0</td>\n",
              "      <td>0</td>\n",
              "      <td>0</td>\n",
              "      <td>0</td>\n",
              "      <td>0</td>\n",
              "      <td>0</td>\n",
              "      <td>0</td>\n",
              "      <td>0</td>\n",
              "      <td>0</td>\n",
              "      <td>0</td>\n",
              "      <td>0</td>\n",
              "      <td>0</td>\n",
              "      <td>0</td>\n",
              "      <td>0</td>\n",
              "      <td>1</td>\n",
              "      <td>0</td>\n",
              "      <td>0</td>\n",
              "      <td>0</td>\n",
              "      <td>0</td>\n",
              "      <td>0</td>\n",
              "      <td>0</td>\n",
              "      <td>0</td>\n",
              "      <td>0</td>\n",
              "      <td>1</td>\n",
              "      <td>0</td>\n",
              "      <td>0</td>\n",
              "      <td>0</td>\n",
              "      <td>0</td>\n",
              "      <td>0</td>\n",
              "      <td>1</td>\n",
              "      <td>0</td>\n",
              "      <td>0</td>\n",
              "      <td>0</td>\n",
              "      <td>0</td>\n",
              "      <td>0</td>\n",
              "      <td>0</td>\n",
              "      <td>0</td>\n",
              "      <td>0</td>\n",
              "      <td>0</td>\n",
              "      <td>0</td>\n",
              "      <td>0</td>\n",
              "      <td>0</td>\n",
              "      <td>0</td>\n",
              "      <td>0</td>\n",
              "      <td>0</td>\n",
              "      <td>0</td>\n",
              "      <td>0</td>\n",
              "      <td>0</td>\n",
              "      <td>0</td>\n",
              "      <td>0</td>\n",
              "      <td>0</td>\n",
              "      <td>0</td>\n",
              "      <td>0</td>\n",
              "      <td>0</td>\n",
              "      <td>1</td>\n",
              "      <td>0</td>\n",
              "      <td>0</td>\n",
              "      <td>0</td>\n",
              "      <td>0</td>\n",
              "      <td>1</td>\n",
              "      <td>0</td>\n",
              "      <td>0</td>\n",
              "      <td>0</td>\n",
              "    </tr>\n",
              "    <tr>\n",
              "      <th>4</th>\n",
              "      <td>100</td>\n",
              "      <td>23335.70117</td>\n",
              "      <td>35320</td>\n",
              "      <td>2801</td>\n",
              "      <td>2378.497288</td>\n",
              "      <td>62</td>\n",
              "      <td>1</td>\n",
              "      <td>0</td>\n",
              "      <td>0</td>\n",
              "      <td>0</td>\n",
              "      <td>0</td>\n",
              "      <td>0</td>\n",
              "      <td>0</td>\n",
              "      <td>0</td>\n",
              "      <td>0</td>\n",
              "      <td>0</td>\n",
              "      <td>0</td>\n",
              "      <td>0</td>\n",
              "      <td>0</td>\n",
              "      <td>0</td>\n",
              "      <td>0</td>\n",
              "      <td>0</td>\n",
              "      <td>0</td>\n",
              "      <td>0</td>\n",
              "      <td>0</td>\n",
              "      <td>0</td>\n",
              "      <td>0</td>\n",
              "      <td>0</td>\n",
              "      <td>0</td>\n",
              "      <td>0</td>\n",
              "      <td>1</td>\n",
              "      <td>0</td>\n",
              "      <td>0</td>\n",
              "      <td>0</td>\n",
              "      <td>0</td>\n",
              "      <td>0</td>\n",
              "      <td>0</td>\n",
              "      <td>1</td>\n",
              "      <td>0</td>\n",
              "      <td>0</td>\n",
              "      <td>0</td>\n",
              "      <td>0</td>\n",
              "      <td>0</td>\n",
              "      <td>0</td>\n",
              "      <td>0</td>\n",
              "      <td>0</td>\n",
              "      <td>1</td>\n",
              "      <td>0</td>\n",
              "      <td>0</td>\n",
              "      <td>0</td>\n",
              "      <td>0</td>\n",
              "      <td>0</td>\n",
              "      <td>0</td>\n",
              "      <td>0</td>\n",
              "      <td>0</td>\n",
              "      <td>0</td>\n",
              "      <td>0</td>\n",
              "      <td>0</td>\n",
              "      <td>0</td>\n",
              "      <td>0</td>\n",
              "      <td>0</td>\n",
              "      <td>0</td>\n",
              "      <td>0</td>\n",
              "      <td>0</td>\n",
              "      <td>0</td>\n",
              "      <td>0</td>\n",
              "      <td>0</td>\n",
              "      <td>0</td>\n",
              "      <td>1</td>\n",
              "      <td>0</td>\n",
              "      <td>0</td>\n",
              "      <td>0</td>\n",
              "      <td>0</td>\n",
              "      <td>0</td>\n",
              "      <td>0</td>\n",
              "      <td>0</td>\n",
              "      <td>1</td>\n",
              "    </tr>\n",
              "    <tr>\n",
              "      <th>5</th>\n",
              "      <td>148</td>\n",
              "      <td>34061.60938</td>\n",
              "      <td>37283</td>\n",
              "      <td>960</td>\n",
              "      <td>3288.946538</td>\n",
              "      <td>48</td>\n",
              "      <td>0</td>\n",
              "      <td>0</td>\n",
              "      <td>1</td>\n",
              "      <td>0</td>\n",
              "      <td>0</td>\n",
              "      <td>0</td>\n",
              "      <td>0</td>\n",
              "      <td>0</td>\n",
              "      <td>0</td>\n",
              "      <td>0</td>\n",
              "      <td>0</td>\n",
              "      <td>0</td>\n",
              "      <td>0</td>\n",
              "      <td>0</td>\n",
              "      <td>0</td>\n",
              "      <td>0</td>\n",
              "      <td>0</td>\n",
              "      <td>0</td>\n",
              "      <td>0</td>\n",
              "      <td>0</td>\n",
              "      <td>0</td>\n",
              "      <td>0</td>\n",
              "      <td>0</td>\n",
              "      <td>0</td>\n",
              "      <td>0</td>\n",
              "      <td>0</td>\n",
              "      <td>0</td>\n",
              "      <td>1</td>\n",
              "      <td>0</td>\n",
              "      <td>0</td>\n",
              "      <td>1</td>\n",
              "      <td>0</td>\n",
              "      <td>0</td>\n",
              "      <td>0</td>\n",
              "      <td>0</td>\n",
              "      <td>0</td>\n",
              "      <td>0</td>\n",
              "      <td>0</td>\n",
              "      <td>0</td>\n",
              "      <td>0</td>\n",
              "      <td>0</td>\n",
              "      <td>0</td>\n",
              "      <td>0</td>\n",
              "      <td>0</td>\n",
              "      <td>0</td>\n",
              "      <td>0</td>\n",
              "      <td>0</td>\n",
              "      <td>0</td>\n",
              "      <td>0</td>\n",
              "      <td>0</td>\n",
              "      <td>0</td>\n",
              "      <td>0</td>\n",
              "      <td>0</td>\n",
              "      <td>0</td>\n",
              "      <td>0</td>\n",
              "      <td>0</td>\n",
              "      <td>0</td>\n",
              "      <td>0</td>\n",
              "      <td>1</td>\n",
              "      <td>0</td>\n",
              "      <td>0</td>\n",
              "      <td>0</td>\n",
              "      <td>1</td>\n",
              "      <td>0</td>\n",
              "      <td>0</td>\n",
              "      <td>1</td>\n",
              "      <td>0</td>\n",
              "      <td>0</td>\n",
              "      <td>0</td>\n",
              "      <td>0</td>\n",
              "      <td>0</td>\n",
              "    </tr>\n",
              "    <tr>\n",
              "      <th>6</th>\n",
              "      <td>7</td>\n",
              "      <td>1632.20007</td>\n",
              "      <td>2962</td>\n",
              "      <td>67</td>\n",
              "      <td>1983.767810</td>\n",
              "      <td>33</td>\n",
              "      <td>0</td>\n",
              "      <td>0</td>\n",
              "      <td>0</td>\n",
              "      <td>0</td>\n",
              "      <td>0</td>\n",
              "      <td>0</td>\n",
              "      <td>0</td>\n",
              "      <td>1</td>\n",
              "      <td>0</td>\n",
              "      <td>0</td>\n",
              "      <td>0</td>\n",
              "      <td>0</td>\n",
              "      <td>0</td>\n",
              "      <td>0</td>\n",
              "      <td>0</td>\n",
              "      <td>0</td>\n",
              "      <td>0</td>\n",
              "      <td>0</td>\n",
              "      <td>0</td>\n",
              "      <td>0</td>\n",
              "      <td>0</td>\n",
              "      <td>0</td>\n",
              "      <td>0</td>\n",
              "      <td>1</td>\n",
              "      <td>0</td>\n",
              "      <td>0</td>\n",
              "      <td>0</td>\n",
              "      <td>0</td>\n",
              "      <td>0</td>\n",
              "      <td>0</td>\n",
              "      <td>1</td>\n",
              "      <td>0</td>\n",
              "      <td>0</td>\n",
              "      <td>0</td>\n",
              "      <td>0</td>\n",
              "      <td>0</td>\n",
              "      <td>0</td>\n",
              "      <td>0</td>\n",
              "      <td>0</td>\n",
              "      <td>0</td>\n",
              "      <td>0</td>\n",
              "      <td>0</td>\n",
              "      <td>0</td>\n",
              "      <td>0</td>\n",
              "      <td>0</td>\n",
              "      <td>0</td>\n",
              "      <td>0</td>\n",
              "      <td>0</td>\n",
              "      <td>0</td>\n",
              "      <td>0</td>\n",
              "      <td>0</td>\n",
              "      <td>1</td>\n",
              "      <td>0</td>\n",
              "      <td>0</td>\n",
              "      <td>0</td>\n",
              "      <td>0</td>\n",
              "      <td>0</td>\n",
              "      <td>0</td>\n",
              "      <td>0</td>\n",
              "      <td>0</td>\n",
              "      <td>0</td>\n",
              "      <td>0</td>\n",
              "      <td>1</td>\n",
              "      <td>0</td>\n",
              "      <td>0</td>\n",
              "      <td>0</td>\n",
              "      <td>0</td>\n",
              "      <td>1</td>\n",
              "      <td>0</td>\n",
              "      <td>0</td>\n",
              "      <td>0</td>\n",
              "    </tr>\n",
              "  </tbody>\n",
              "</table>\n",
              "</div>"
            ],
            "text/plain": [
              "   Cargas (u)  Movimiento (t)  tefe (seg)  tdem (seg)  ...  213  305  306  307\n",
              "0          93     21134.20117       21517         814  ...    0    0    0    0\n",
              "1          12      2833.59961        5593         367  ...    1    0    0    0\n",
              "4         100     23335.70117       35320        2801  ...    0    0    0    1\n",
              "5         148     34061.60938       37283         960  ...    0    0    0    0\n",
              "6           7      1632.20007        2962          67  ...    1    0    0    0\n",
              "\n",
              "[5 rows x 77 columns]"
            ]
          },
          "metadata": {
            "tags": []
          },
          "execution_count": 20
        }
      ]
    },
    {
      "cell_type": "markdown",
      "metadata": {
        "id": "KPX0OhAQSzZQ",
        "colab_type": "text"
      },
      "source": [
        "# Definición de Funciones"
      ]
    },
    {
      "cell_type": "code",
      "metadata": {
        "id": "l9VleO2TSzZW",
        "colab_type": "code",
        "colab": {}
      },
      "source": [
        "def codo(K,X):\n",
        "  sum_of_squared_distances = []\n",
        "  for k in range(1,K):\n",
        "    km = KMeans(n_clusters=k, random_state=0)\n",
        "    km = km.fit(X)\n",
        "    sum_of_squared_distances.append(km.inertia_)\n",
        "\n",
        "  plt.plot(range(1,K),sum_of_squared_distances)\n",
        "  plt.show()"
      ],
      "execution_count": 21,
      "outputs": []
    },
    {
      "cell_type": "code",
      "metadata": {
        "id": "G2lEjeSOSzZZ",
        "colab_type": "code",
        "colab": {}
      },
      "source": [
        "from IPython.display import display, HTML\n",
        "from sklearn.tree import _tree, DecisionTreeClassifier"
      ],
      "execution_count": 22,
      "outputs": []
    },
    {
      "cell_type": "code",
      "metadata": {
        "id": "5POlNMMdSzZb",
        "colab_type": "code",
        "colab": {}
      },
      "source": [
        "def pretty_print(df):\n",
        "    return display( HTML( df.to_html().replace(\"\\\\n\",\"<br>\") ) )\n",
        "\n",
        "def get_class_rules(tree: DecisionTreeClassifier, feature_names: list):\n",
        "  inner_tree: _tree.Tree = tree.tree_\n",
        "  classes = tree.classes_\n",
        "  class_rules_dict = dict()\n",
        "\n",
        "  def tree_dfs(node_id=0, current_rule=[]):\n",
        "    # feature[i] holds the feature to split on, for the internal node i.\n",
        "    split_feature = inner_tree.feature[node_id]\n",
        "    if split_feature != _tree.TREE_UNDEFINED: # internal node\n",
        "      name = feature_names[split_feature]\n",
        "      threshold = inner_tree.threshold[node_id]\n",
        "      # left child\n",
        "      left_rule = current_rule + [\"({} <= {})\".format(name, threshold)]\n",
        "      tree_dfs(inner_tree.children_left[node_id], left_rule)\n",
        "      # right child\n",
        "      right_rule = current_rule + [\"({} > {})\".format(name, threshold)]\n",
        "      tree_dfs(inner_tree.children_right[node_id], right_rule)\n",
        "    else: # leaf\n",
        "      dist = inner_tree.value[node_id][0]\n",
        "      dist = dist/dist.sum()\n",
        "      max_idx = dist.argmax()\n",
        "      if len(current_rule) == 0:\n",
        "        rule_string = \"ALL\"\n",
        "      else:\n",
        "        rule_string = \" and \".join(current_rule)\n",
        "      # register new rule to dictionary\n",
        "      selected_class = classes[max_idx]\n",
        "      class_probability = dist[max_idx]\n",
        "      class_rules = class_rules_dict.get(selected_class, [])\n",
        "      class_rules.append((rule_string, class_probability))\n",
        "      class_rules_dict[selected_class] = class_rules\n",
        "    \n",
        "  tree_dfs() # start from root, node_id = 0\n",
        "  return class_rules_dict\n",
        "\n",
        "def cluster_report(data: pd.DataFrame, clusters, min_samples_leaf=50, pruning_level=0.01):\n",
        "    # Create Model\n",
        "    tree = DecisionTreeClassifier(min_samples_leaf=min_samples_leaf, ccp_alpha=pruning_level)\n",
        "    tree.fit(data, clusters)\n",
        "    \n",
        "    # Generate Report\n",
        "    feature_names = data.columns\n",
        "    class_rule_dict = get_class_rules(tree, feature_names)\n",
        "\n",
        "    report_class_list = []\n",
        "    for class_name in class_rule_dict.keys():\n",
        "        rule_list = class_rule_dict[class_name]\n",
        "        combined_string = \"\"\n",
        "        for rule in rule_list:\n",
        "            combined_string += \"[{}] {}\\n\\n\".format(rule[1], rule[0])\n",
        "        report_class_list.append((class_name, combined_string))\n",
        "        \n",
        "    cluster_instance_df = pd.Series(clusters).value_counts().reset_index()\n",
        "    cluster_instance_df.columns = ['class_name', 'instance_count']\n",
        "    report_df = pd.DataFrame(report_class_list, columns=['class_name', 'rule_list'])\n",
        "    report_df = pd.merge(cluster_instance_df, report_df, on='class_name', how='left')\n",
        "    pretty_print(report_df.sort_values(by='class_name')[['class_name', 'instance_count', 'rule_list']])"
      ],
      "execution_count": 23,
      "outputs": []
    },
    {
      "cell_type": "markdown",
      "metadata": {
        "id": "IU2GulnPSzZf",
        "colab_type": "text"
      },
      "source": [
        "# Definimos la X"
      ]
    },
    {
      "cell_type": "code",
      "metadata": {
        "id": "owBOWYz2SzZg",
        "colab_type": "code",
        "colab": {
          "base_uri": "https://localhost:8080/",
          "height": 221
        },
        "outputId": "20753390-d677-4b15-9661-a3aa2d8fdee2"
      },
      "source": [
        "filtro = ['Cargas (u)', 'Movimiento (t)', 'tdem (seg)','R-ef (t/h)', 'Edad del empleado']\n",
        "X = df_[filtro]\n",
        "X.head()"
      ],
      "execution_count": 24,
      "outputs": [
        {
          "output_type": "execute_result",
          "data": {
            "text/html": [
              "<div>\n",
              "<style scoped>\n",
              "    .dataframe tbody tr th:only-of-type {\n",
              "        vertical-align: middle;\n",
              "    }\n",
              "\n",
              "    .dataframe tbody tr th {\n",
              "        vertical-align: top;\n",
              "    }\n",
              "\n",
              "    .dataframe thead th {\n",
              "        text-align: right;\n",
              "    }\n",
              "</style>\n",
              "<table border=\"1\" class=\"dataframe\">\n",
              "  <thead>\n",
              "    <tr style=\"text-align: right;\">\n",
              "      <th></th>\n",
              "      <th>Cargas (u)</th>\n",
              "      <th>Movimiento (t)</th>\n",
              "      <th>tdem (seg)</th>\n",
              "      <th>R-ef (t/h)</th>\n",
              "      <th>Edad del empleado</th>\n",
              "    </tr>\n",
              "  </thead>\n",
              "  <tbody>\n",
              "    <tr>\n",
              "      <th>0</th>\n",
              "      <td>93</td>\n",
              "      <td>21134.20117</td>\n",
              "      <td>814</td>\n",
              "      <td>3535.954093</td>\n",
              "      <td>29</td>\n",
              "    </tr>\n",
              "    <tr>\n",
              "      <th>1</th>\n",
              "      <td>12</td>\n",
              "      <td>2833.59961</td>\n",
              "      <td>367</td>\n",
              "      <td>1823.879599</td>\n",
              "      <td>54</td>\n",
              "    </tr>\n",
              "    <tr>\n",
              "      <th>4</th>\n",
              "      <td>100</td>\n",
              "      <td>23335.70117</td>\n",
              "      <td>2801</td>\n",
              "      <td>2378.497288</td>\n",
              "      <td>62</td>\n",
              "    </tr>\n",
              "    <tr>\n",
              "      <th>5</th>\n",
              "      <td>148</td>\n",
              "      <td>34061.60938</td>\n",
              "      <td>960</td>\n",
              "      <td>3288.946538</td>\n",
              "      <td>48</td>\n",
              "    </tr>\n",
              "    <tr>\n",
              "      <th>6</th>\n",
              "      <td>7</td>\n",
              "      <td>1632.20007</td>\n",
              "      <td>67</td>\n",
              "      <td>1983.767810</td>\n",
              "      <td>33</td>\n",
              "    </tr>\n",
              "  </tbody>\n",
              "</table>\n",
              "</div>"
            ],
            "text/plain": [
              "   Cargas (u)  Movimiento (t)  tdem (seg)   R-ef (t/h)  Edad del empleado\n",
              "0          93     21134.20117         814  3535.954093                 29\n",
              "1          12      2833.59961         367  1823.879599                 54\n",
              "4         100     23335.70117        2801  2378.497288                 62\n",
              "5         148     34061.60938         960  3288.946538                 48\n",
              "6           7      1632.20007          67  1983.767810                 33"
            ]
          },
          "metadata": {
            "tags": []
          },
          "execution_count": 24
        }
      ]
    },
    {
      "cell_type": "markdown",
      "metadata": {
        "id": "TxLeq3QaSzZi",
        "colab_type": "text"
      },
      "source": [
        "# Estandarizamos"
      ]
    },
    {
      "cell_type": "code",
      "metadata": {
        "id": "2e32WLPDSzZi",
        "colab_type": "code",
        "colab": {}
      },
      "source": [
        "from sklearn.preprocessing import StandardScaler"
      ],
      "execution_count": 25,
      "outputs": []
    },
    {
      "cell_type": "code",
      "metadata": {
        "id": "TOWl_5sKSzZk",
        "colab_type": "code",
        "colab": {
          "base_uri": "https://localhost:8080/",
          "height": 153
        },
        "outputId": "113edad5-66dd-406b-bd9c-14f5aac0f1d7"
      },
      "source": [
        "X_scaler = StandardScaler().fit_transform(X)\n",
        "X_scaler"
      ],
      "execution_count": 26,
      "outputs": [
        {
          "output_type": "execute_result",
          "data": {
            "text/plain": [
              "array([[ 0.66879654,  0.6255641 , -0.54181421,  1.36834987, -1.42417739],\n",
              "       [-1.2773619 , -1.26835398, -0.76086011, -0.735815  ,  0.72998298],\n",
              "       [ 0.83698307,  0.85339599,  0.43188648, -0.05418166,  1.4193143 ],\n",
              "       ...,\n",
              "       [-0.07602953, -0.0789195 , -0.32864874, -0.79232649, -0.47634683],\n",
              "       [-0.7728023 , -0.76788955, -0.79663271,  2.29012727,  0.47148374],\n",
              "       [-1.54165502, -1.53570843, -0.83926581, -0.70429308,  0.98848223]])"
            ]
          },
          "metadata": {
            "tags": []
          },
          "execution_count": 26
        }
      ]
    },
    {
      "cell_type": "markdown",
      "metadata": {
        "id": "YmpvH7xSSzZn",
        "colab_type": "text"
      },
      "source": [
        "# Usamos metodo del codo para seleccionar numero de clusters"
      ]
    },
    {
      "cell_type": "code",
      "metadata": {
        "id": "Vz_FL6osSzZo",
        "colab_type": "code",
        "colab": {
          "base_uri": "https://localhost:8080/",
          "height": 300
        },
        "outputId": "804d841e-8231-412a-a615-1a7195acc067"
      },
      "source": [
        "from sklearn.cluster import KMeans\n",
        "codo(11,X)"
      ],
      "execution_count": 27,
      "outputs": [
        {
          "output_type": "display_data",
          "data": {
            "image/png": "[encoded data removed]",
            "text/plain": [
              "<Figure size 432x288 with 1 Axes>"
            ]
          },
          "metadata": {
            "tags": [],
            "needs_background": "light"
          }
        }
      ]
    },
    {
      "cell_type": "markdown",
      "metadata": {
        "id": "5hdAMDPpSzZq",
        "colab_type": "text"
      },
      "source": [
        "n° de cluster = 3"
      ]
    },
    {
      "cell_type": "markdown",
      "metadata": {
        "id": "EexaAfO5SzZr",
        "colab_type": "text"
      },
      "source": [
        "# Usamos aparte el meanshift para tambien ver n° de clusters"
      ]
    },
    {
      "cell_type": "code",
      "metadata": {
        "id": "auz8TdVVSzZr",
        "colab_type": "code",
        "colab": {}
      },
      "source": [
        "from sklearn.cluster import estimate_bandwidth, MeanShift"
      ],
      "execution_count": 28,
      "outputs": []
    },
    {
      "cell_type": "code",
      "metadata": {
        "id": "lcZ_1vSDSzZt",
        "colab_type": "code",
        "colab": {
          "base_uri": "https://localhost:8080/",
          "height": 54
        },
        "outputId": "f24d3652-516f-441f-caa3-36a1c81bdcc8"
      },
      "source": [
        "bw = estimate_bandwidth(X, quantile=0.2, n_samples=500)\n",
        "bw"
      ],
      "execution_count": 29,
      "outputs": [
        {
          "output_type": "execute_result",
          "data": {
            "text/plain": [
              "4918.418059097005"
            ]
          },
          "metadata": {
            "tags": []
          },
          "execution_count": 29
        }
      ]
    },
    {
      "cell_type": "code",
      "metadata": {
        "id": "mhTsQp7OSzZv",
        "colab_type": "code",
        "colab": {
          "base_uri": "https://localhost:8080/",
          "height": 71
        },
        "outputId": "5176c348-d164-42a5-fca4-10047d27ded9"
      },
      "source": [
        "ms = MeanShift(bandwidth=bw, bin_seeding=True)\n",
        "ms"
      ],
      "execution_count": 30,
      "outputs": [
        {
          "output_type": "execute_result",
          "data": {
            "text/plain": [
              "MeanShift(bandwidth=4918.418059097005, bin_seeding=True, cluster_all=True,\n",
              "          max_iter=300, min_bin_freq=1, n_jobs=None, seeds=None)"
            ]
          },
          "metadata": {
            "tags": []
          },
          "execution_count": 30
        }
      ]
    },
    {
      "cell_type": "code",
      "metadata": {
        "id": "-qtCCLo5SzZx",
        "colab_type": "code",
        "colab": {
          "base_uri": "https://localhost:8080/",
          "height": 71
        },
        "outputId": "f9139c2c-ea67-46c5-b80a-407d14462386"
      },
      "source": [
        "ms.fit(X)"
      ],
      "execution_count": 31,
      "outputs": [
        {
          "output_type": "execute_result",
          "data": {
            "text/plain": [
              "MeanShift(bandwidth=4918.418059097005, bin_seeding=True, cluster_all=True,\n",
              "          max_iter=300, min_bin_freq=1, n_jobs=None, seeds=None)"
            ]
          },
          "metadata": {
            "tags": []
          },
          "execution_count": 31
        }
      ]
    },
    {
      "cell_type": "code",
      "metadata": {
        "id": "qyW5mD87SzZ0",
        "colab_type": "code",
        "colab": {
          "base_uri": "https://localhost:8080/",
          "height": 54
        },
        "outputId": "04a376c8-3abd-466b-a4e0-599d42ec706f"
      },
      "source": [
        "labels = ms.labels_\n",
        "labels"
      ],
      "execution_count": 32,
      "outputs": [
        {
          "output_type": "execute_result",
          "data": {
            "text/plain": [
              "array([2, 1, 2, ..., 2, 0, 1])"
            ]
          },
          "metadata": {
            "tags": []
          },
          "execution_count": 32
        }
      ]
    },
    {
      "cell_type": "code",
      "metadata": {
        "id": "vzSvKM_YSzZ2",
        "colab_type": "code",
        "colab": {
          "base_uri": "https://localhost:8080/",
          "height": 54
        },
        "outputId": "f6f99b5c-7381-4c86-984c-02a5c497f158"
      },
      "source": [
        "labels_unique = np.unique(labels)\n",
        "labels_unique"
      ],
      "execution_count": 33,
      "outputs": [
        {
          "output_type": "execute_result",
          "data": {
            "text/plain": [
              "array([0, 1, 2, 3])"
            ]
          },
          "metadata": {
            "tags": []
          },
          "execution_count": 33
        }
      ]
    },
    {
      "cell_type": "code",
      "metadata": {
        "id": "XfNdJBpaSzZ3",
        "colab_type": "code",
        "colab": {
          "base_uri": "https://localhost:8080/",
          "height": 170
        },
        "outputId": "5123630e-1223-4d22-8176-147e36e85164"
      },
      "source": [
        "centers = ms.cluster_centers_\n",
        "centers"
      ],
      "execution_count": 34,
      "outputs": [
        {
          "output_type": "execute_result",
          "data": {
            "text/plain": [
              "array([[   42.85      ,  9912.73641414,  1442.55689655,  2125.47226656,\n",
              "           47.15172414],\n",
              "       [   20.24652778,  4680.51003813,   778.25347222,  1933.86939277,\n",
              "           46.28472222],\n",
              "       [   66.81461676, 15454.00346891,  1918.88770053,  2370.33502403,\n",
              "           46.81639929],\n",
              "       [   42.        ,  9598.200195  , 17511.        ,  2400.18135998,\n",
              "           41.5       ]])"
            ]
          },
          "metadata": {
            "tags": []
          },
          "execution_count": 34
        }
      ]
    },
    {
      "cell_type": "code",
      "metadata": {
        "id": "fmTkvU9JSzZ5",
        "colab_type": "code",
        "colab": {
          "base_uri": "https://localhost:8080/",
          "height": 54
        },
        "outputId": "1f7f149f-f463-4295-e558-e51a47d8458c"
      },
      "source": [
        "print(f'number of estimated clusters : {len(labels_unique)}')"
      ],
      "execution_count": 35,
      "outputs": [
        {
          "output_type": "stream",
          "text": [
            "number of estimated clusters : 4\n"
          ],
          "name": "stdout"
        }
      ]
    },
    {
      "cell_type": "markdown",
      "metadata": {
        "id": "tCZNPyNfSzZ7",
        "colab_type": "text"
      },
      "source": [
        "# Métricas"
      ]
    },
    {
      "cell_type": "markdown",
      "metadata": {
        "id": "UmqtPjeTn8N7",
        "colab_type": "text"
      },
      "source": [
        "Para este estudio se ocupara el numero de cluster determinado por el codo"
      ]
    },
    {
      "cell_type": "code",
      "metadata": {
        "id": "DbP36tdISzZ7",
        "colab_type": "code",
        "colab": {}
      },
      "source": [
        "num_clusters = 3"
      ],
      "execution_count": 36,
      "outputs": []
    },
    {
      "cell_type": "code",
      "metadata": {
        "id": "gL20nDh2SzZ9",
        "colab_type": "code",
        "colab": {
          "base_uri": "https://localhost:8080/",
          "height": 54
        },
        "outputId": "b7c20429-bb9a-444d-a1e9-2a0ac24554a9"
      },
      "source": [
        "import sklearn.metrics as metrics\n",
        "cluster_ = KMeans(n_clusters=num_clusters, random_state=0).fit(X_scaler)\n",
        "labels = cluster_.labels_\n",
        "metrics.silhouette_score(X,labels,metric='euclidean')"
      ],
      "execution_count": 37,
      "outputs": [
        {
          "output_type": "execute_result",
          "data": {
            "text/plain": [
              "0.1586321027552531"
            ]
          },
          "metadata": {
            "tags": []
          },
          "execution_count": 37
        }
      ]
    },
    {
      "cell_type": "markdown",
      "metadata": {
        "id": "P3VG-cYAXsXD",
        "colab_type": "text"
      },
      "source": [
        "El valor que nos dio es cercano a cero, nos indica que puede haber sobreposición de clusters"
      ]
    },
    {
      "cell_type": "code",
      "metadata": {
        "id": "FjSQpblvSzaC",
        "colab_type": "code",
        "colab": {
          "base_uri": "https://localhost:8080/",
          "height": 54
        },
        "outputId": "3ccc25c4-9f88-4cb8-e8ea-95f7ccfea8c0"
      },
      "source": [
        "metrics.calinski_harabasz_score(X, labels)"
      ],
      "execution_count": 38,
      "outputs": [
        {
          "output_type": "execute_result",
          "data": {
            "text/plain": [
              "1484.578106257195"
            ]
          },
          "metadata": {
            "tags": []
          },
          "execution_count": 38
        }
      ]
    },
    {
      "cell_type": "markdown",
      "metadata": {
        "id": "NLkObe3_Xz_8",
        "colab_type": "text"
      },
      "source": [
        "Debido a que el valor es alto, nos indica que los clusters son densos y bien definidos."
      ]
    },
    {
      "cell_type": "markdown",
      "metadata": {
        "id": "CALKE7JLSzaE",
        "colab_type": "text"
      },
      "source": [
        "# Reducción de dimensionalidad"
      ]
    },
    {
      "cell_type": "code",
      "metadata": {
        "id": "oRb8DrjESzaE",
        "colab_type": "code",
        "colab": {
          "base_uri": "https://localhost:8080/",
          "height": 153
        },
        "outputId": "18a96835-ada3-421c-eb0f-2389d9a75158"
      },
      "source": [
        "X_scaler"
      ],
      "execution_count": 39,
      "outputs": [
        {
          "output_type": "execute_result",
          "data": {
            "text/plain": [
              "array([[ 0.66879654,  0.6255641 , -0.54181421,  1.36834987, -1.42417739],\n",
              "       [-1.2773619 , -1.26835398, -0.76086011, -0.735815  ,  0.72998298],\n",
              "       [ 0.83698307,  0.85339599,  0.43188648, -0.05418166,  1.4193143 ],\n",
              "       ...,\n",
              "       [-0.07602953, -0.0789195 , -0.32864874, -0.79232649, -0.47634683],\n",
              "       [-0.7728023 , -0.76788955, -0.79663271,  2.29012727,  0.47148374],\n",
              "       [-1.54165502, -1.53570843, -0.83926581, -0.70429308,  0.98848223]])"
            ]
          },
          "metadata": {
            "tags": []
          },
          "execution_count": 39
        }
      ]
    },
    {
      "cell_type": "code",
      "metadata": {
        "id": "_5p7zQWQSzaG",
        "colab_type": "code",
        "colab": {}
      },
      "source": [
        "from sklearn.decomposition import PCA"
      ],
      "execution_count": 40,
      "outputs": []
    },
    {
      "cell_type": "code",
      "metadata": {
        "id": "pSFTQwLhSzaN",
        "colab_type": "code",
        "colab": {}
      },
      "source": [
        "pca = PCA(n_components=2)"
      ],
      "execution_count": 41,
      "outputs": []
    },
    {
      "cell_type": "code",
      "metadata": {
        "id": "VFJlgXn3SzaP",
        "colab_type": "code",
        "colab": {
          "base_uri": "https://localhost:8080/",
          "height": 153
        },
        "outputId": "de3559c4-7267-40db-cf13-b38bebef9fb9"
      },
      "source": [
        "X_pca = pca.fit_transform(X_scaler)\n",
        "X_pca"
      ],
      "execution_count": 42,
      "outputs": [
        {
          "output_type": "execute_result",
          "data": {
            "text/plain": [
              "array([[ 1.56778037, -1.5927395 ],\n",
              "       [-2.14530156, -0.04770508],\n",
              "       [ 0.7941534 ,  1.49803854],\n",
              "       ...,\n",
              "       [-0.45273212, -0.31467369],\n",
              "       [-0.06050945, -1.05168383],\n",
              "       [-2.50701748,  0.00981865]])"
            ]
          },
          "metadata": {
            "tags": []
          },
          "execution_count": 42
        }
      ]
    },
    {
      "cell_type": "code",
      "metadata": {
        "id": "6HFevVsnSzaR",
        "colab_type": "code",
        "colab": {
          "base_uri": "https://localhost:8080/",
          "height": 54
        },
        "outputId": "82e4182f-fb66-4011-b33c-2aeba95eb802"
      },
      "source": [
        "print(pca.explained_variance_ratio_)"
      ],
      "execution_count": 43,
      "outputs": [
        {
          "output_type": "stream",
          "text": [
            "[0.52785709 0.22018572]\n"
          ],
          "name": "stdout"
        }
      ]
    },
    {
      "cell_type": "code",
      "metadata": {
        "id": "vwHizI8BSzaT",
        "colab_type": "code",
        "colab": {
          "base_uri": "https://localhost:8080/",
          "height": 54
        },
        "outputId": "5dbd6359-25df-44f7-e3f7-2a4d550ae8c1"
      },
      "source": [
        "print(pca.singular_values_)"
      ],
      "execution_count": 44,
      "outputs": [
        {
          "output_type": "stream",
          "text": [
            "[69.40242035 44.82404141]\n"
          ],
          "name": "stdout"
        }
      ]
    },
    {
      "cell_type": "code",
      "metadata": {
        "id": "8fDMxn8ESzaV",
        "colab_type": "code",
        "colab": {
          "base_uri": "https://localhost:8080/",
          "height": 446
        },
        "outputId": "d223818f-8e5c-4457-f7c0-bb22d507536e"
      },
      "source": [
        "plt.figure(figsize=(8,6))\n",
        "ax = sns.scatterplot(X_pca[:,0],X_pca[:,1], hue=labels, alpha =0.3)\n",
        "plt.xlabel('Componente principal 1')\n",
        "plt.ylabel('Componente principal 2')\n",
        "plt.title('PCA')"
      ],
      "execution_count": 45,
      "outputs": [
        {
          "output_type": "execute_result",
          "data": {
            "text/plain": [
              "Text(0.5, 1.0, 'PCA')"
            ]
          },
          "metadata": {
            "tags": []
          },
          "execution_count": 45
        },
        {
          "output_type": "display_data",
          "data": {
            "image/png": "[encoded data removed]",
            "text/plain": [
              "<Figure size 576x432 with 1 Axes>"
            ]
          },
          "metadata": {
            "tags": [],
            "needs_background": "light"
          }
        }
      ]
    },
    {
      "cell_type": "code",
      "metadata": {
        "id": "7ghjSb0NSzaY",
        "colab_type": "code",
        "colab": {
          "base_uri": "https://localhost:8080/",
          "height": 71
        },
        "outputId": "7184408b-12d5-4f55-a52c-2857f79606e5"
      },
      "source": [
        "pca.components_"
      ],
      "execution_count": 46,
      "outputs": [
        {
          "output_type": "execute_result",
          "data": {
            "text/plain": [
              "array([[ 0.5870817 ,  0.58741277,  0.21163409,  0.48054606, -0.1859242 ],\n",
              "       [ 0.12930449,  0.12435253,  0.61232564, -0.30633101,  0.70642439]])"
            ]
          },
          "metadata": {
            "tags": []
          },
          "execution_count": 46
        }
      ]
    },
    {
      "cell_type": "code",
      "metadata": {
        "id": "CPPWBpNfSzaa",
        "colab_type": "code",
        "colab": {
          "base_uri": "https://localhost:8080/",
          "height": 54
        },
        "outputId": "941b6f11-fd87-4e36-87be-012559099890"
      },
      "source": [
        "pca.explained_variance_"
      ],
      "execution_count": 47,
      "outputs": [
        {
          "output_type": "execute_result",
          "data": {
            "text/plain": [
              "array([2.64073243, 1.10153218])"
            ]
          },
          "metadata": {
            "tags": []
          },
          "execution_count": 47
        }
      ]
    },
    {
      "cell_type": "code",
      "metadata": {
        "id": "jue7jFlJSzac",
        "colab_type": "code",
        "colab": {
          "base_uri": "https://localhost:8080/",
          "height": 54
        },
        "outputId": "753b3686-a89a-4fbe-86be-0efa9e2397c0"
      },
      "source": [
        "pca.explained_variance_ratio_"
      ],
      "execution_count": 48,
      "outputs": [
        {
          "output_type": "execute_result",
          "data": {
            "text/plain": [
              "array([0.52785709, 0.22018572])"
            ]
          },
          "metadata": {
            "tags": []
          },
          "execution_count": 48
        }
      ]
    },
    {
      "cell_type": "code",
      "metadata": {
        "id": "MMuLrSy8Sza7",
        "colab_type": "code",
        "colab": {
          "base_uri": "https://localhost:8080/",
          "height": 54
        },
        "outputId": "ebba0887-ae6c-4233-af58-22093d3b6dbf"
      },
      "source": [
        "# number of components\n",
        "n_pcs= pca.components_.shape[0]\n",
        "n_pcs"
      ],
      "execution_count": 49,
      "outputs": [
        {
          "output_type": "execute_result",
          "data": {
            "text/plain": [
              "2"
            ]
          },
          "metadata": {
            "tags": []
          },
          "execution_count": 49
        }
      ]
    },
    {
      "cell_type": "code",
      "metadata": {
        "id": "uzc6B1W5Sza9",
        "colab_type": "code",
        "colab": {
          "base_uri": "https://localhost:8080/",
          "height": 54
        },
        "outputId": "6629d72b-f09c-4f41-8368-97f33e82cca1"
      },
      "source": [
        "# get the index of the most important feature on EACH component\n",
        "# LIST COMPREHENSION HERE\n",
        "most_important = [np.abs(pca.components_[i]).argmax() for i in range(n_pcs)]\n",
        "most_important"
      ],
      "execution_count": 50,
      "outputs": [
        {
          "output_type": "execute_result",
          "data": {
            "text/plain": [
              "[1, 4]"
            ]
          },
          "metadata": {
            "tags": []
          },
          "execution_count": 50
        }
      ]
    },
    {
      "cell_type": "code",
      "metadata": {
        "id": "-GlB7_reSza-",
        "colab_type": "code",
        "colab": {
          "base_uri": "https://localhost:8080/",
          "height": 54
        },
        "outputId": "b844c1ac-a730-4048-8539-004eb0591070"
      },
      "source": [
        "initial_feature_names = filtro\n",
        "#initial_feature_names = df_.columns.values.tolist()\n",
        "# get the names\n",
        "most_important_names = [initial_feature_names[most_important[i]] for i in range(n_pcs)]\n",
        "most_important_names"
      ],
      "execution_count": 51,
      "outputs": [
        {
          "output_type": "execute_result",
          "data": {
            "text/plain": [
              "['Movimiento (t)', 'Edad del empleado']"
            ]
          },
          "metadata": {
            "tags": []
          },
          "execution_count": 51
        }
      ]
    },
    {
      "cell_type": "code",
      "metadata": {
        "id": "KKQc7mLySza_",
        "colab_type": "code",
        "colab": {
          "base_uri": "https://localhost:8080/",
          "height": 130
        },
        "outputId": "ec6595a3-d38d-4665-bac9-9c3591aa2111"
      },
      "source": [
        "# LIST COMPREHENSION HERE AGAIN\n",
        "dic = {'PC{}'.format(i): most_important_names[i] for i in range(n_pcs)}\n",
        "\n",
        "# build the dataframe\n",
        "df = pd.DataFrame(dic.items())\n",
        "df"
      ],
      "execution_count": 52,
      "outputs": [
        {
          "output_type": "execute_result",
          "data": {
            "text/html": [
              "<div>\n",
              "<style scoped>\n",
              "    .dataframe tbody tr th:only-of-type {\n",
              "        vertical-align: middle;\n",
              "    }\n",
              "\n",
              "    .dataframe tbody tr th {\n",
              "        vertical-align: top;\n",
              "    }\n",
              "\n",
              "    .dataframe thead th {\n",
              "        text-align: right;\n",
              "    }\n",
              "</style>\n",
              "<table border=\"1\" class=\"dataframe\">\n",
              "  <thead>\n",
              "    <tr style=\"text-align: right;\">\n",
              "      <th></th>\n",
              "      <th>0</th>\n",
              "      <th>1</th>\n",
              "    </tr>\n",
              "  </thead>\n",
              "  <tbody>\n",
              "    <tr>\n",
              "      <th>0</th>\n",
              "      <td>PC0</td>\n",
              "      <td>Movimiento (t)</td>\n",
              "    </tr>\n",
              "    <tr>\n",
              "      <th>1</th>\n",
              "      <td>PC1</td>\n",
              "      <td>Edad del empleado</td>\n",
              "    </tr>\n",
              "  </tbody>\n",
              "</table>\n",
              "</div>"
            ],
            "text/plain": [
              "     0                  1\n",
              "0  PC0     Movimiento (t)\n",
              "1  PC1  Edad del empleado"
            ]
          },
          "metadata": {
            "tags": []
          },
          "execution_count": 52
        }
      ]
    },
    {
      "cell_type": "markdown",
      "metadata": {
        "id": "Hu4mClRWe2U8",
        "colab_type": "text"
      },
      "source": [
        "PCA nos da a conocer los 2 componentes que tienen mas peso en el data set que en este caso son: Movimiento y Edad del empleado"
      ]
    },
    {
      "cell_type": "markdown",
      "metadata": {
        "id": "zqgzILF9SzbB",
        "colab_type": "text"
      },
      "source": [
        "# K-means"
      ]
    },
    {
      "cell_type": "code",
      "metadata": {
        "id": "SDTBGP-iSzbB",
        "colab_type": "code",
        "colab": {}
      },
      "source": [
        "from sklearn.cluster import MiniBatchKMeans\n",
        "kmeans=MiniBatchKMeans(n_clusters=num_clusters,random_state=0,batch_size=6,max_iter=10).fit(X_pca)\n",
        "centers=kmeans.cluster_centers_"
      ],
      "execution_count": 65,
      "outputs": []
    },
    {
      "cell_type": "code",
      "metadata": {
        "id": "IeISp8aYSzbF",
        "colab_type": "code",
        "colab": {
          "base_uri": "https://localhost:8080/",
          "height": 342
        },
        "outputId": "45e683ed-d239-486e-9de1-ec44e74a7e91"
      },
      "source": [
        "plt.figure(figsize=(10,5))\n",
        "kmeans = KMeans(n_clusters=num_clusters, random_state=0)\n",
        "labels = kmeans.fit(X_pca).predict(X_pca)\n",
        "plt.scatter(X_pca[:, 0], X_pca[:, 1], c=labels, s=5, cmap='viridis')\n",
        "plt.scatter(centers[:, 0], centers[:, 1], c='black', s=200, alpha=0.5);"
      ],
      "execution_count": 66,
      "outputs": [
        {
          "output_type": "display_data",
          "data": {
            "image/png": "[encoded data removed]",
            "text/plain": [
              "<Figure size 720x360 with 1 Axes>"
            ]
          },
          "metadata": {
            "tags": [],
            "needs_background": "light"
          }
        }
      ]
    },
    {
      "cell_type": "markdown",
      "metadata": {
        "id": "nSe-T3cPjEtq",
        "colab_type": "text"
      },
      "source": [
        "Como podemos notar en la imagen K-means nos genera la imagen de dos clusters con sus respectivos centroides"
      ]
    },
    {
      "cell_type": "code",
      "metadata": {
        "id": "U5cT2pE4t0n3",
        "colab_type": "code",
        "colab": {
          "base_uri": "https://localhost:8080/",
          "height": 491
        },
        "outputId": "6b15a3b1-d5df-444d-c3e6-2031fdf610b4"
      },
      "source": [
        "cluster_report(X, labels)"
      ],
      "execution_count": 69,
      "outputs": [
        {
          "output_type": "display_data",
          "data": {
            "text/html": [
              "<table border=\"1\" class=\"dataframe\">\n",
              "  <thead>\n",
              "    <tr style=\"text-align: right;\">\n",
              "      <th></th>\n",
              "      <th>class_name</th>\n",
              "      <th>instance_count</th>\n",
              "      <th>rule_list</th>\n",
              "    </tr>\n",
              "  </thead>\n",
              "  <tbody>\n",
              "    <tr>\n",
              "      <th>1</th>\n",
              "      <td>0</td>\n",
              "      <td>622</td>\n",
              "      <td>[0.5512820512820513] (Movimiento (t) &gt; 15650.49951171875) and (R-ef (t/h) &lt;= 2408.1064453125) and (Edad del empleado &lt;= 44.0)<br><br>[0.9219015280135824] (Movimiento (t) &gt; 15650.49951171875) and (R-ef (t/h) &gt; 2408.1064453125)<br><br></td>\n",
              "    </tr>\n",
              "    <tr>\n",
              "      <th>2</th>\n",
              "      <td>1</td>\n",
              "      <td>466</td>\n",
              "      <td>[0.8245614035087719] (Movimiento (t) &lt;= 15650.49951171875) and (tdem (seg) &lt;= 1884.5) and (Movimiento (t) &gt; 11156.20068359375) and (Edad del empleado &gt; 52.0)<br><br>[0.9112426035502958] (Movimiento (t) &lt;= 15650.49951171875) and (tdem (seg) &gt; 1884.5) and (Edad del empleado &gt; 40.5)<br><br>[0.9559748427672956] (Movimiento (t) &gt; 15650.49951171875) and (R-ef (t/h) &lt;= 2408.1064453125) and (Edad del empleado &gt; 44.0)<br><br></td>\n",
              "    </tr>\n",
              "    <tr>\n",
              "      <th>0</th>\n",
              "      <td>2</td>\n",
              "      <td>737</td>\n",
              "      <td>[0.9730185497470489] (Movimiento (t) &lt;= 15650.49951171875) and (tdem (seg) &lt;= 1884.5) and (Movimiento (t) &lt;= 11156.20068359375)<br><br>[0.7326732673267327] (Movimiento (t) &lt;= 15650.49951171875) and (tdem (seg) &lt;= 1884.5) and (Movimiento (t) &gt; 11156.20068359375) and (Edad del empleado &lt;= 52.0)<br><br>[0.6075949367088608] (Movimiento (t) &lt;= 15650.49951171875) and (tdem (seg) &gt; 1884.5) and (Edad del empleado &lt;= 40.5)<br><br></td>\n",
              "    </tr>\n",
              "  </tbody>\n",
              "</table>"
            ],
            "text/plain": [
              "<IPython.core.display.HTML object>"
            ]
          },
          "metadata": {
            "tags": []
          }
        }
      ]
    },
    {
      "cell_type": "markdown",
      "metadata": {
        "id": "NrX5rJuSt3mK",
        "colab_type": "text"
      },
      "source": [
        "Podemos notar las características que posee cada cluster para hacer contraste con la anterior imagen \n",
        "\n",
        "\n",
        "*   class_name = 0 → morado\n",
        "*   class_name = 1 → verde\n",
        "*   class_name = 2 → amarillo\n",
        "\n",
        "\n",
        "Podemos concluir que los cluster internamente poseen segmentaciones las cuales podemos apreciar con las características mostradas anteriormente, gracias a esto ya podemos clasificar de forma concreta."
      ]
    },
    {
      "cell_type": "markdown",
      "metadata": {
        "id": "6VcIz9Criiin",
        "colab_type": "text"
      },
      "source": [
        "Herarchical Clustering"
      ]
    },
    {
      "cell_type": "code",
      "metadata": {
        "id": "9jqxaZXYSzbR",
        "colab_type": "code",
        "colab": {
          "base_uri": "https://localhost:8080/",
          "height": 413
        },
        "outputId": "8cdc7a40-ff79-4a00-8e9a-4e7d1c655c53"
      },
      "source": [
        "from scipy.cluster.hierarchy import dendrogram, linkage\n",
        "plt.figure(figsize=(25, 10))\n",
        "modelo = dendrogram(linkage(X_pca, method='ward'),truncate_mode='lastp',leaf_font_size=10.)"
      ],
      "execution_count": 70,
      "outputs": [
        {
          "output_type": "display_data",
          "data": {
            "image/png": "[encoded data removed]",
            "text/plain": [
              "<Figure size 1800x720 with 1 Axes>"
            ]
          },
          "metadata": {
            "tags": [],
            "needs_background": "light"
          }
        }
      ]
    },
    {
      "cell_type": "markdown",
      "metadata": {
        "id": "8CNXoUePw66O",
        "colab_type": "text"
      },
      "source": [
        "A modo de conclusión se necesita seguir generando un estudio más a fondo del como se generan dichas segmentaciones en los clusters, ademas se necesita generar una etiqueta de dichos cluster para darle un peso o un valor a dicha clasificación."
      ]
    },
    {
      "cell_type": "code",
      "metadata": {
        "id": "0RmAKMfQSzbT",
        "colab_type": "code",
        "colab": {}
      },
      "source": [
        ""
      ],
      "execution_count": 56,
      "outputs": []
    }
  ]
}