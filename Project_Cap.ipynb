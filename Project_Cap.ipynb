{
  "nbformat": 4,
  "nbformat_minor": 0,
  "metadata": {
    "colab": {
      "name": "Project_Cap.ipynb",
      "provenance": [],
      "toc_visible": true,
      "authorship_tag": "ABX9TyNMRVjJ9ntT3XGXHPQMmO6z",
      "include_colab_link": true
    },
    "kernelspec": {
      "name": "python3",
      "display_name": "Python 3"
    }
  },
  "cells": [
    {
      "cell_type": "markdown",
      "metadata": {
        "id": "view-in-github",
        "colab_type": "text"
      },
      "source": [
        "<a href=\"https://colab.research.google.com/github/cml096/GoogleColabRepo/blob/master/Project_Cap.ipynb\" target=\"_parent\"><img src=\"https://colab.research.google.com/assets/colab-badge.svg\" alt=\"Open In Colab\"/></a>"
      ]
    },
    {
      "cell_type": "code",
      "metadata": {
        "id": "bfjRMmOi_4zY",
        "colab_type": "code",
        "colab": {}
      },
      "source": [
        "import pandas as pd\n",
        "import numpy as np\n",
        "import matplotlib.pyplot as plt\n",
        "import seaborn as sns; sns.set()"
      ],
      "execution_count": 126,
      "outputs": []
    },
    {
      "cell_type": "code",
      "metadata": {
        "id": "lOoAro9AAeYm",
        "colab_type": "code",
        "colab": {}
      },
      "source": [
        "df = pd.read_excel('Rendimiento CMP V2.xlsx', sheet_name='MinaMLC')"
      ],
      "execution_count": 127,
      "outputs": []
    },
    {
      "cell_type": "markdown",
      "metadata": {
        "id": "mnml7k7xDO3x",
        "colab_type": "text"
      },
      "source": [
        "#Preparando Data"
      ]
    },
    {
      "cell_type": "markdown",
      "metadata": {
        "id": "Ydy1pKXbJENh",
        "colab_type": "text"
      },
      "source": [
        "##Filtro"
      ]
    },
    {
      "cell_type": "markdown",
      "metadata": {
        "id": "ifS-UBCJCEtm",
        "colab_type": "text"
      },
      "source": [
        "Filtro 1"
      ]
    },
    {
      "cell_type": "code",
      "metadata": {
        "id": "oeqeTKI6An_b",
        "colab_type": "code",
        "colab": {}
      },
      "source": [
        "df_ = df[df['División de personal'] == 'CMP VALLE DEL HUASCO']"
      ],
      "execution_count": 128,
      "outputs": []
    },
    {
      "cell_type": "markdown",
      "metadata": {
        "id": "1FyYlKWCCF5j",
        "colab_type": "text"
      },
      "source": [
        "Filtro 2"
      ]
    },
    {
      "cell_type": "code",
      "metadata": {
        "id": "JMYxllHkAyZm",
        "colab_type": "code",
        "colab": {}
      },
      "source": [
        "df_test_minera_colorado = df_[df_['Subdivisión de personal'] == 'MINA LOS COLORA']"
      ],
      "execution_count": 129,
      "outputs": []
    },
    {
      "cell_type": "markdown",
      "metadata": {
        "id": "ZobQtfMTCTA4",
        "colab_type": "text"
      },
      "source": [
        "##Variables no utilizables"
      ]
    },
    {
      "cell_type": "code",
      "metadata": {
        "id": "MdJOzeeLORIi",
        "colab_type": "code",
        "colab": {}
      },
      "source": [
        "df_ = df_test_minera_colorado"
      ],
      "execution_count": 130,
      "outputs": []
    },
    {
      "cell_type": "code",
      "metadata": {
        "id": "so1DVpxDCYMj",
        "colab_type": "code",
        "colab": {}
      },
      "source": [
        "filtro = ['División de personal','Cod. División','Subdivisión de personal','Cod. Subdivisión','Cod. Unidad','Cod. Posición','Fecha de nacimiento','Fecha de alta','Status empleado para Gestión tiempos per']"
      ],
      "execution_count": 131,
      "outputs": []
    },
    {
      "cell_type": "code",
      "metadata": {
        "id": "9MTspI-pA8t9",
        "colab_type": "code",
        "colab": {}
      },
      "source": [
        "df_ = df_.drop(filtro,axis=1)"
      ],
      "execution_count": 132,
      "outputs": []
    },
    {
      "cell_type": "markdown",
      "metadata": {
        "id": "lCD_A-nDJK7d",
        "colab_type": "text"
      },
      "source": [
        "##Divición Dia"
      ]
    },
    {
      "cell_type": "markdown",
      "metadata": {
        "id": "pP9hln0KEVHu",
        "colab_type": "text"
      },
      "source": [
        "Cambiamos nombre columna \"Dia\" por \"Fecha\""
      ]
    },
    {
      "cell_type": "code",
      "metadata": {
        "id": "Puep8M1IEaKo",
        "colab_type": "code",
        "colab": {}
      },
      "source": [
        "df_ = df_.rename(columns={'Dia':'Fecha'})"
      ],
      "execution_count": 133,
      "outputs": []
    },
    {
      "cell_type": "markdown",
      "metadata": {
        "id": "IUN9cem0DtGN",
        "colab_type": "text"
      },
      "source": [
        "Divición de la variable \"Dia\""
      ]
    },
    {
      "cell_type": "code",
      "metadata": {
        "id": "QK1n8qAzDoIF",
        "colab_type": "code",
        "colab": {}
      },
      "source": [
        "def dia(fecha):\n",
        "  aux = str(fecha.date()).split('-')\n",
        "  dia = str(aux[2])\n",
        "  return dia\n",
        "\n",
        "def mes(fecha):\n",
        "  aux = str(fecha.date()).split('-')\n",
        "  mes = str(aux[1])\n",
        "  return mes\n",
        "\n",
        "def ano(fecha):\n",
        "  aux = str(fecha.date()).split('-')\n",
        "  ano = str(aux[0])\n",
        "  return ano"
      ],
      "execution_count": 134,
      "outputs": []
    },
    {
      "cell_type": "markdown",
      "metadata": {
        "id": "kVJvroYrD5am",
        "colab_type": "text"
      },
      "source": [
        "Anexamos columna \"Dia\", \"Mes\" y \"Año\""
      ]
    },
    {
      "cell_type": "code",
      "metadata": {
        "id": "OMbw02jQD4lX",
        "colab_type": "code",
        "colab": {}
      },
      "source": [
        "df_['Dia'] = df_.apply(lambda row : dia(row['Fecha']),axis=1)\n",
        "df_['Mes'] = df_.apply(lambda row : mes(row['Fecha']),axis=1)\n",
        "df_['Año'] = df_.apply(lambda row : ano(row['Fecha']),axis=1)"
      ],
      "execution_count": 135,
      "outputs": []
    },
    {
      "cell_type": "markdown",
      "metadata": {
        "id": "b-1ZWp5rJQMU",
        "colab_type": "text"
      },
      "source": [
        "##Columna \"Eficiencia\""
      ]
    },
    {
      "cell_type": "code",
      "metadata": {
        "id": "VPnDWwfLW4WC",
        "colab_type": "code",
        "colab": {}
      },
      "source": [
        "filtro = ['Fecha','Turno','Cargas (u)','Movimiento (t)','tdem (seg)',\t'R-ef (t/h)','Número de personal','Edad del empleado','Equipo']\n",
        "df_aux = df_.drop(filtro, axis=1)"
      ],
      "execution_count": 137,
      "outputs": []
    },
    {
      "cell_type": "markdown",
      "metadata": {
        "id": "Gez3gzN3Jiw8",
        "colab_type": "text"
      },
      "source": [
        "Agrupamos por \"unidad organizativa\" y lo almacenamos en un data frame"
      ]
    },
    {
      "cell_type": "code",
      "metadata": {
        "id": "A4beub7RCKxv",
        "colab_type": "code",
        "colab": {}
      },
      "source": [
        "group = df_aux.groupby(['Unidad organizativa']).max()\n",
        "df_group = pd.DataFrame(group)"
      ],
      "execution_count": 138,
      "outputs": []
    },
    {
      "cell_type": "markdown",
      "metadata": {
        "id": "0L2OQju5Jlpy",
        "colab_type": "text"
      },
      "source": [
        "Creamos un array que contiene las tefe max de cada Unidad organizativa"
      ]
    },
    {
      "cell_type": "code",
      "metadata": {
        "id": "2OU0K21gRa-9",
        "colab_type": "code",
        "colab": {}
      },
      "source": [
        "def genera(data):\n",
        "  lista = []\n",
        "  for index, row in data.iterrows():\n",
        "    lista.append([index,row['tefe (seg)']])\n",
        "  return lista"
      ],
      "execution_count": 139,
      "outputs": []
    },
    {
      "cell_type": "code",
      "metadata": {
        "id": "d41Yi2QDHQTQ",
        "colab_type": "code",
        "colab": {
          "base_uri": "https://localhost:8080/",
          "height": 34
        },
        "outputId": "67279357-7b12-45ef-bf0a-49927b996249"
      },
      "source": [
        "max_por_unidad = genera(df_group)\n",
        "len(max_por_unidad)"
      ],
      "execution_count": 140,
      "outputs": [
        {
          "output_type": "execute_result",
          "data": {
            "text/plain": [
              "15"
            ]
          },
          "metadata": {
            "tags": []
          },
          "execution_count": 140
        }
      ]
    },
    {
      "cell_type": "markdown",
      "metadata": {
        "id": "GZH-_ZQCJx7q",
        "colab_type": "text"
      },
      "source": [
        "Agregamos la columna \"Eficiencia\" que generaremos con la furmula\n",
        "* tefe(x tupla)*100/tefe_max"
      ]
    },
    {
      "cell_type": "code",
      "metadata": {
        "id": "lwB2VZxESM05",
        "colab_type": "code",
        "colab": {}
      },
      "source": [
        "def rellena(data,lista):\n",
        "  aux = []\n",
        "  for index, row in data.iterrows():\n",
        "    unidad = row['Unidad organizativa']\n",
        "    tefe = row['tefe (seg)']\n",
        "    for unidad_max,tefe_max in lista:\n",
        "      if unidad == unidad_max:\n",
        "        resultado = (tefe)/tefe_max\n",
        "        aux.append(resultado)\n",
        "  return aux"
      ],
      "execution_count": 165,
      "outputs": []
    },
    {
      "cell_type": "code",
      "metadata": {
        "id": "PsM0ane-HC2A",
        "colab_type": "code",
        "colab": {
          "base_uri": "https://localhost:8080/",
          "height": 34
        },
        "outputId": "2b561a07-2e39-4541-f5ea-04d8a3d15797"
      },
      "source": [
        "eficiencia = rellena(df_,max_por_unidad)\n",
        "len(eficiencia)"
      ],
      "execution_count": 170,
      "outputs": [
        {
          "output_type": "execute_result",
          "data": {
            "text/plain": [
              "1825"
            ]
          },
          "metadata": {
            "tags": []
          },
          "execution_count": 170
        }
      ]
    },
    {
      "cell_type": "markdown",
      "metadata": {
        "id": "xN29jN0HJ24C",
        "colab_type": "text"
      },
      "source": [
        "Le agregamos una columna al data frame"
      ]
    },
    {
      "cell_type": "code",
      "metadata": {
        "id": "MHsQH7VSHEvV",
        "colab_type": "code",
        "colab": {}
      },
      "source": [
        "df_['Eficiencia'] = eficiencia"
      ],
      "execution_count": 143,
      "outputs": []
    },
    {
      "cell_type": "markdown",
      "metadata": {
        "id": "q8kaHf9QL9Tw",
        "colab_type": "text"
      },
      "source": [
        "##Columna \"Test\" binaria"
      ]
    },
    {
      "cell_type": "code",
      "metadata": {
        "id": "olDE0hNFYgdc",
        "colab_type": "code",
        "colab": {}
      },
      "source": [
        "filtro = ['Eficiencia']\n",
        "df_aux = df_.drop(filtro, axis=1)"
      ],
      "execution_count": 144,
      "outputs": []
    },
    {
      "cell_type": "code",
      "metadata": {
        "id": "U3VByeK4RCjs",
        "colab_type": "code",
        "colab": {}
      },
      "source": [
        "group = df_aux.groupby(['Unidad organizativa']).median()\n",
        "df_group = pd.DataFrame(group)"
      ],
      "execution_count": 145,
      "outputs": []
    },
    {
      "cell_type": "code",
      "metadata": {
        "id": "Kl0maRw0R9DQ",
        "colab_type": "code",
        "colab": {
          "base_uri": "https://localhost:8080/",
          "height": 34
        },
        "outputId": "f72c9745-2b05-4ca0-8327-c17c9f462e03"
      },
      "source": [
        "media_por_unidad = genera(df_group)\n",
        "len(media_por_unidad)"
      ],
      "execution_count": 160,
      "outputs": [
        {
          "output_type": "execute_result",
          "data": {
            "text/plain": [
              "15"
            ]
          },
          "metadata": {
            "tags": []
          },
          "execution_count": 160
        }
      ]
    },
    {
      "cell_type": "code",
      "metadata": {
        "id": "QJx9wUVZS5_m",
        "colab_type": "code",
        "colab": {}
      },
      "source": [
        "def rellena_binario(data,lista):\n",
        "  aux = []\n",
        "  for index, row in data.iterrows():\n",
        "    unidad = row['Unidad organizativa']\n",
        "    tefe = row['tefe (seg)']\n",
        "    for unidad_median,tefe_median in lista:\n",
        "      if unidad == unidad_median:\n",
        "        if tefe >= tefe_median:\n",
        "          aux.append(1)\n",
        "        elif tefe < tefe_median:\n",
        "          aux.append(0)\n",
        "  return aux"
      ],
      "execution_count": 166,
      "outputs": []
    },
    {
      "cell_type": "code",
      "metadata": {
        "id": "j4eZdXp6TX5v",
        "colab_type": "code",
        "colab": {
          "base_uri": "https://localhost:8080/",
          "height": 34
        },
        "outputId": "5b88433a-d570-4012-8b58-8ce656778360"
      },
      "source": [
        "eficiencia_binaria = rellena_binario(df_,media_por_unidad)\n",
        "len(eficiencia_binaria)"
      ],
      "execution_count": 167,
      "outputs": [
        {
          "output_type": "execute_result",
          "data": {
            "text/plain": [
              "1825"
            ]
          },
          "metadata": {
            "tags": []
          },
          "execution_count": 167
        }
      ]
    },
    {
      "cell_type": "code",
      "metadata": {
        "id": "kRHAppHITnfb",
        "colab_type": "code",
        "colab": {}
      },
      "source": [
        "df_['Eficiencia (bin)'] = eficiencia_binaria"
      ],
      "execution_count": 168,
      "outputs": []
    },
    {
      "cell_type": "markdown",
      "metadata": {
        "id": "2_0hj4rxgIip",
        "colab_type": "text"
      },
      "source": [
        "#Regresión Logística"
      ]
    },
    {
      "cell_type": "markdown",
      "metadata": {
        "id": "Nkh9lMF0j6vg",
        "colab_type": "text"
      },
      "source": [
        "Generamos nuestro data de entrenamiento y le eliminamos las columnas que no ocuparemos en el modolamiento"
      ]
    },
    {
      "cell_type": "code",
      "metadata": {
        "id": "n1SgIpEegXix",
        "colab_type": "code",
        "colab": {
          "base_uri": "https://localhost:8080/",
          "height": 306
        },
        "outputId": "6becf7f9-bdbe-48a9-f6b4-9b28e80a0b05"
      },
      "source": [
        "filtro = ['tefe (seg)','tdem (seg)','R-ef (t/h)','Número de personal','Grupo de personal','Mes','Dia','Año','Eficiencia']\n",
        "train = df_.drop(filtro,axis=1)\n",
        "train.head()"
      ],
      "execution_count": 211,
      "outputs": [
        {
          "output_type": "execute_result",
          "data": {
            "text/html": [
              "<div>\n",
              "<style scoped>\n",
              "    .dataframe tbody tr th:only-of-type {\n",
              "        vertical-align: middle;\n",
              "    }\n",
              "\n",
              "    .dataframe tbody tr th {\n",
              "        vertical-align: top;\n",
              "    }\n",
              "\n",
              "    .dataframe thead th {\n",
              "        text-align: right;\n",
              "    }\n",
              "</style>\n",
              "<table border=\"1\" class=\"dataframe\">\n",
              "  <thead>\n",
              "    <tr style=\"text-align: right;\">\n",
              "      <th></th>\n",
              "      <th>Fecha</th>\n",
              "      <th>Turno</th>\n",
              "      <th>Equipo</th>\n",
              "      <th>Cargas (u)</th>\n",
              "      <th>Movimiento (t)</th>\n",
              "      <th>Unidad organizativa</th>\n",
              "      <th>Posición</th>\n",
              "      <th>Edad del empleado</th>\n",
              "      <th>Eficiencia (bin)</th>\n",
              "    </tr>\n",
              "  </thead>\n",
              "  <tbody>\n",
              "    <tr>\n",
              "      <th>0</th>\n",
              "      <td>2019-07-01</td>\n",
              "      <td>2</td>\n",
              "      <td>211</td>\n",
              "      <td>93</td>\n",
              "      <td>21134.20117</td>\n",
              "      <td>MANTENIMIENTO MINA</td>\n",
              "      <td>ELECTRICO III</td>\n",
              "      <td>29</td>\n",
              "      <td>0</td>\n",
              "    </tr>\n",
              "    <tr>\n",
              "      <th>1</th>\n",
              "      <td>2019-07-01</td>\n",
              "      <td>2</td>\n",
              "      <td>213</td>\n",
              "      <td>12</td>\n",
              "      <td>2833.59961</td>\n",
              "      <td>MANTENIMIENTO MINA</td>\n",
              "      <td>MECANICO I</td>\n",
              "      <td>54</td>\n",
              "      <td>0</td>\n",
              "    </tr>\n",
              "    <tr>\n",
              "      <th>4</th>\n",
              "      <td>2019-07-01</td>\n",
              "      <td>2</td>\n",
              "      <td>307</td>\n",
              "      <td>100</td>\n",
              "      <td>23335.70117</td>\n",
              "      <td>ADMINISTRACION SUPTCIA PLANTAS</td>\n",
              "      <td>OPERADOR ELECTRICO II PLANTA</td>\n",
              "      <td>62</td>\n",
              "      <td>1</td>\n",
              "    </tr>\n",
              "    <tr>\n",
              "      <th>5</th>\n",
              "      <td>2019-07-02</td>\n",
              "      <td>1</td>\n",
              "      <td>211</td>\n",
              "      <td>148</td>\n",
              "      <td>34061.60938</td>\n",
              "      <td>CAMIONES CAT 793F MLC</td>\n",
              "      <td>OPERADOR III</td>\n",
              "      <td>48</td>\n",
              "      <td>1</td>\n",
              "    </tr>\n",
              "    <tr>\n",
              "      <th>6</th>\n",
              "      <td>2019-07-02</td>\n",
              "      <td>1</td>\n",
              "      <td>213</td>\n",
              "      <td>7</td>\n",
              "      <td>1632.20007</td>\n",
              "      <td>MANTENIMIENTO MINA</td>\n",
              "      <td>MECANICO III</td>\n",
              "      <td>33</td>\n",
              "      <td>0</td>\n",
              "    </tr>\n",
              "  </tbody>\n",
              "</table>\n",
              "</div>"
            ],
            "text/plain": [
              "       Fecha  Turno  ...  Edad del empleado  Eficiencia (bin)\n",
              "0 2019-07-01      2  ...                 29                 0\n",
              "1 2019-07-01      2  ...                 54                 0\n",
              "4 2019-07-01      2  ...                 62                 1\n",
              "5 2019-07-02      1  ...                 48                 1\n",
              "6 2019-07-02      1  ...                 33                 0\n",
              "\n",
              "[5 rows x 9 columns]"
            ]
          },
          "metadata": {
            "tags": []
          },
          "execution_count": 211
        }
      ]
    },
    {
      "cell_type": "markdown",
      "metadata": {
        "id": "L6ScVyuOiJT9",
        "colab_type": "text"
      },
      "source": [
        "Creamos nuestras variables dummies"
      ]
    },
    {
      "cell_type": "code",
      "metadata": {
        "id": "eIEsZe8VI0H5",
        "colab_type": "code",
        "colab": {}
      },
      "source": [
        "unidad = pd.get_dummies(df_['Unidad organizativa'],drop_first=True)\n",
        "posicion = pd.get_dummies(df_['Posición'],drop_first=True)\n",
        "#fecha = pd.get_dummies(df_['Fecha'],drop_first=True)"
      ],
      "execution_count": 204,
      "outputs": []
    },
    {
      "cell_type": "markdown",
      "metadata": {
        "id": "2CeN95XqiPHm",
        "colab_type": "text"
      },
      "source": [
        "**DUDA** Equipo, turno, edad, es correcto tenerlas como una variable de tipo entera (int) dado que en el modelo las quiero ocupar como variables categoricas."
      ]
    },
    {
      "cell_type": "code",
      "metadata": {
        "id": "rIuvZ0pXiG-A",
        "colab_type": "code",
        "colab": {}
      },
      "source": [
        "train.drop(['Fecha','Unidad organizativa','Posición'],axis=1,inplace=True)\n",
        "#train = pd.concat([train,unidad,posicion])"
      ],
      "execution_count": 205,
      "outputs": []
    },
    {
      "cell_type": "code",
      "metadata": {
        "id": "XBgfpXe9kzoh",
        "colab_type": "code",
        "colab": {
          "base_uri": "https://localhost:8080/",
          "height": 238
        },
        "outputId": "dfe295be-8eb9-4e26-a768-af0ba2450437"
      },
      "source": [
        "train.info()"
      ],
      "execution_count": 206,
      "outputs": [
        {
          "output_type": "stream",
          "text": [
            "<class 'pandas.core.frame.DataFrame'>\n",
            "Int64Index: 1825 entries, 0 to 3137\n",
            "Data columns (total 6 columns):\n",
            " #   Column             Non-Null Count  Dtype  \n",
            "---  ------             --------------  -----  \n",
            " 0   Turno              1825 non-null   int64  \n",
            " 1   Equipo             1825 non-null   int64  \n",
            " 2   Cargas (u)         1825 non-null   int64  \n",
            " 3   Movimiento (t)     1825 non-null   float64\n",
            " 4   Edad del empleado  1825 non-null   int64  \n",
            " 5   Eficiencia (bin)   1825 non-null   int64  \n",
            "dtypes: float64(1), int64(5)\n",
            "memory usage: 179.8 KB\n"
          ],
          "name": "stdout"
        }
      ]
    },
    {
      "cell_type": "markdown",
      "metadata": {
        "id": "BdL-JpfjmMfM",
        "colab_type": "text"
      },
      "source": [
        "Creamos nuestra data de entrenamiento y de test"
      ]
    },
    {
      "cell_type": "code",
      "metadata": {
        "id": "RxspgsE0kish",
        "colab_type": "code",
        "colab": {}
      },
      "source": [
        "from sklearn.model_selection import train_test_split\n",
        "X_train, X_test, y_train, y_test = train_test_split(train.drop('Eficiencia (bin)',axis=1),train['Eficiencia (bin)'],test_size=0.30,random_state=101)"
      ],
      "execution_count": 207,
      "outputs": []
    },
    {
      "cell_type": "markdown",
      "metadata": {
        "id": "twww7wKAniGm",
        "colab_type": "text"
      },
      "source": [
        "Importamos el modelo, creamos la regresión y entrenamos con nuestra data de entrenamiento"
      ]
    },
    {
      "cell_type": "code",
      "metadata": {
        "id": "3U42X6YkmHph",
        "colab_type": "code",
        "colab": {
          "base_uri": "https://localhost:8080/",
          "height": 102
        },
        "outputId": "64c38897-10b6-4cac-d062-867af2b6f41b"
      },
      "source": [
        "from sklearn.linear_model import LogisticRegression\n",
        "modelo = LogisticRegression()\n",
        "modelo.fit(X_train,y_train)"
      ],
      "execution_count": 208,
      "outputs": [
        {
          "output_type": "execute_result",
          "data": {
            "text/plain": [
              "LogisticRegression(C=1.0, class_weight=None, dual=False, fit_intercept=True,\n",
              "                   intercept_scaling=1, l1_ratio=None, max_iter=100,\n",
              "                   multi_class='auto', n_jobs=None, penalty='l2',\n",
              "                   random_state=None, solver='lbfgs', tol=0.0001, verbose=0,\n",
              "                   warm_start=False)"
            ]
          },
          "metadata": {
            "tags": []
          },
          "execution_count": 208
        }
      ]
    },
    {
      "cell_type": "markdown",
      "metadata": {
        "id": "l0hxfk1-nw7N",
        "colab_type": "text"
      },
      "source": [
        "Predicción con la data de test"
      ]
    },
    {
      "cell_type": "code",
      "metadata": {
        "id": "Yso-AHXEmdnq",
        "colab_type": "code",
        "colab": {}
      },
      "source": [
        "y_pred = modelo.predict(X_test)"
      ],
      "execution_count": 209,
      "outputs": []
    },
    {
      "cell_type": "markdown",
      "metadata": {
        "id": "DivMnBkQqvqR",
        "colab_type": "text"
      },
      "source": [
        "Evaluacion del modelo"
      ]
    },
    {
      "cell_type": "code",
      "metadata": {
        "id": "V-9LGlaCqrLQ",
        "colab_type": "code",
        "colab": {
          "base_uri": "https://localhost:8080/",
          "height": 170
        },
        "outputId": "55b41222-7079-42ee-9c16-79afb4dd24d6"
      },
      "source": [
        "from sklearn.metrics import classification_report\n",
        "print(classification_report(y_test,y_pred))"
      ],
      "execution_count": 210,
      "outputs": [
        {
          "output_type": "stream",
          "text": [
            "              precision    recall  f1-score   support\n",
            "\n",
            "           0       0.82      0.77      0.79       267\n",
            "           1       0.79      0.84      0.81       281\n",
            "\n",
            "    accuracy                           0.80       548\n",
            "   macro avg       0.81      0.80      0.80       548\n",
            "weighted avg       0.81      0.80      0.80       548\n",
            "\n"
          ],
          "name": "stdout"
        }
      ]
    },
    {
      "cell_type": "code",
      "metadata": {
        "id": "rWHM5yv_tNcI",
        "colab_type": "code",
        "colab": {}
      },
      "source": [
        ""
      ],
      "execution_count": null,
      "outputs": []
    },
    {
      "cell_type": "markdown",
      "metadata": {
        "id": "E3WtD4UjwzfN",
        "colab_type": "text"
      },
      "source": [
        "#Random Forest"
      ]
    },
    {
      "cell_type": "code",
      "metadata": {
        "id": "y0uBN9LJw9ZH",
        "colab_type": "code",
        "colab": {}
      },
      "source": [
        ""
      ],
      "execution_count": null,
      "outputs": []
    }
  ]
}