{
  "nbformat": 4,
  "nbformat_minor": 0,
  "metadata": {
    "colab": {
      "name": "Project_Cap.ipynb",
      "provenance": [],
      "toc_visible": true,
      "authorship_tag": "ABX9TyNxQhQZuKSxqZF661Pdjdp9",
      "include_colab_link": true
    },
    "kernelspec": {
      "name": "python3",
      "display_name": "Python 3"
    }
  },
  "cells": [
    {
      "cell_type": "markdown",
      "metadata": {
        "id": "view-in-github",
        "colab_type": "text"
      },
      "source": [
        "<a href=\"https://colab.research.google.com/github/cml096/GoogleColabRepo/blob/master/Project_Cap.ipynb\" target=\"_parent\"><img src=\"https://colab.research.google.com/assets/colab-badge.svg\" alt=\"Open In Colab\"/></a>"
      ]
    },
    {
      "cell_type": "code",
      "metadata": {
        "id": "bfjRMmOi_4zY",
        "colab_type": "code",
        "colab": {}
      },
      "source": [
        "import pandas as pd\n",
        "import numpy as np\n",
        "import matplotlib.pyplot as plt\n",
        "import seaborn as sns; sns.set()"
      ],
      "execution_count": 271,
      "outputs": []
    },
    {
      "cell_type": "code",
      "metadata": {
        "id": "lOoAro9AAeYm",
        "colab_type": "code",
        "colab": {}
      },
      "source": [
        "df = pd.read_excel('Rendimiento CMP V2.xlsx', sheet_name='MinaMLC')"
      ],
      "execution_count": 272,
      "outputs": []
    },
    {
      "cell_type": "markdown",
      "metadata": {
        "id": "mnml7k7xDO3x",
        "colab_type": "text"
      },
      "source": [
        "#Preparando Data"
      ]
    },
    {
      "cell_type": "markdown",
      "metadata": {
        "id": "Ydy1pKXbJENh",
        "colab_type": "text"
      },
      "source": [
        "##Filtro"
      ]
    },
    {
      "cell_type": "code",
      "metadata": {
        "id": "oeqeTKI6An_b",
        "colab_type": "code",
        "colab": {}
      },
      "source": [
        "df_ = df[df['División de personal'] == 'CMP VALLE DEL HUASCO']"
      ],
      "execution_count": 273,
      "outputs": []
    },
    {
      "cell_type": "code",
      "metadata": {
        "id": "JMYxllHkAyZm",
        "colab_type": "code",
        "colab": {}
      },
      "source": [
        "df_test_minera_colorado = df_[df_['Subdivisión de personal'] == 'MINA LOS COLORA']"
      ],
      "execution_count": 274,
      "outputs": []
    },
    {
      "cell_type": "markdown",
      "metadata": {
        "id": "ZobQtfMTCTA4",
        "colab_type": "text"
      },
      "source": [
        "##Variables no utilizables"
      ]
    },
    {
      "cell_type": "code",
      "metadata": {
        "id": "MdJOzeeLORIi",
        "colab_type": "code",
        "colab": {}
      },
      "source": [
        "df_ = df_test_minera_colorado"
      ],
      "execution_count": 275,
      "outputs": []
    },
    {
      "cell_type": "code",
      "metadata": {
        "id": "so1DVpxDCYMj",
        "colab_type": "code",
        "colab": {}
      },
      "source": [
        "filtro = ['División de personal',\n",
        "          'Cod. División','Subdivisión de personal',\n",
        "          'Cod. Subdivisión','Cod. Unidad',\n",
        "          'Cod. Posición',\n",
        "          'Fecha de nacimiento',\n",
        "          'Fecha de alta',\n",
        "          'Status empleado para Gestión tiempos per',\n",
        "          'Grupo de personal',\n",
        "          'Número de personal']"
      ],
      "execution_count": 276,
      "outputs": []
    },
    {
      "cell_type": "code",
      "metadata": {
        "id": "9MTspI-pA8t9",
        "colab_type": "code",
        "colab": {}
      },
      "source": [
        "df_ = df_.drop(filtro,axis=1)"
      ],
      "execution_count": 277,
      "outputs": []
    },
    {
      "cell_type": "markdown",
      "metadata": {
        "id": "qms9V5O-U-FM",
        "colab_type": "text"
      },
      "source": [
        "##Columna \"Turno\" y \"Equipo\""
      ]
    },
    {
      "cell_type": "code",
      "metadata": {
        "id": "wQu9QYGlVD93",
        "colab_type": "code",
        "colab": {}
      },
      "source": [
        "df_['Turno'] = df_['Turno'].astype(str)"
      ],
      "execution_count": 278,
      "outputs": []
    },
    {
      "cell_type": "code",
      "metadata": {
        "id": "kXh7pxcjZHxY",
        "colab_type": "code",
        "colab": {}
      },
      "source": [
        "df_['Equipo'] = df_['Equipo'].astype(str)"
      ],
      "execution_count": 279,
      "outputs": []
    },
    {
      "cell_type": "markdown",
      "metadata": {
        "id": "lCD_A-nDJK7d",
        "colab_type": "text"
      },
      "source": [
        "##Divición \"Fecha\""
      ]
    },
    {
      "cell_type": "markdown",
      "metadata": {
        "id": "pP9hln0KEVHu",
        "colab_type": "text"
      },
      "source": [
        "Cambiamos nombre columna \"Dia\" por \"Fecha\""
      ]
    },
    {
      "cell_type": "code",
      "metadata": {
        "id": "Puep8M1IEaKo",
        "colab_type": "code",
        "colab": {}
      },
      "source": [
        "df_ = df_.rename(columns={'Dia':'Fecha'})"
      ],
      "execution_count": 280,
      "outputs": []
    },
    {
      "cell_type": "markdown",
      "metadata": {
        "id": "IUN9cem0DtGN",
        "colab_type": "text"
      },
      "source": [
        "Divición de la variable \"Fecha\""
      ]
    },
    {
      "cell_type": "code",
      "metadata": {
        "id": "QK1n8qAzDoIF",
        "colab_type": "code",
        "colab": {}
      },
      "source": [
        "def dia(fecha):\n",
        "  aux = str(fecha.date()).split('-')\n",
        "  dia = str(aux[2])\n",
        "  return dia\n",
        "\n",
        "def mes(fecha):\n",
        "  aux = str(fecha.date()).split('-')\n",
        "  mes = str(aux[1])\n",
        "  return mes\n",
        "\n",
        "def ano(fecha):\n",
        "  aux = str(fecha.date()).split('-')\n",
        "  ano = str(aux[0])\n",
        "  return ano"
      ],
      "execution_count": 281,
      "outputs": []
    },
    {
      "cell_type": "markdown",
      "metadata": {
        "id": "kVJvroYrD5am",
        "colab_type": "text"
      },
      "source": [
        "Anexamos columna \"Dia\", \"Mes\" y \"Año\""
      ]
    },
    {
      "cell_type": "code",
      "metadata": {
        "id": "OMbw02jQD4lX",
        "colab_type": "code",
        "colab": {}
      },
      "source": [
        "df_['Dia'] = df_.apply(lambda row : dia(row['Fecha']),axis=1)\n",
        "df_['Mes'] = df_.apply(lambda row : mes(row['Fecha']),axis=1)\n",
        "df_['Año'] = df_.apply(lambda row : ano(row['Fecha']),axis=1)"
      ],
      "execution_count": 282,
      "outputs": []
    },
    {
      "cell_type": "markdown",
      "metadata": {
        "id": "b-1ZWp5rJQMU",
        "colab_type": "text"
      },
      "source": [
        "##Columna \"Eficiencia\""
      ]
    },
    {
      "cell_type": "code",
      "metadata": {
        "id": "VPnDWwfLW4WC",
        "colab_type": "code",
        "colab": {}
      },
      "source": [
        "filtro = ['Fecha','Turno','Cargas (u)','Movimiento (t)','tdem (seg)',\t'R-ef (t/h)','Edad del empleado','Equipo']\n",
        "df_aux = df_.drop(filtro, axis=1)"
      ],
      "execution_count": 284,
      "outputs": []
    },
    {
      "cell_type": "markdown",
      "metadata": {
        "id": "Gez3gzN3Jiw8",
        "colab_type": "text"
      },
      "source": [
        "Agrupamos por \"unidad organizativa\" y lo almacenamos en un data frame"
      ]
    },
    {
      "cell_type": "code",
      "metadata": {
        "id": "A4beub7RCKxv",
        "colab_type": "code",
        "colab": {}
      },
      "source": [
        "group = df_aux.groupby(['Unidad organizativa']).max()\n",
        "df_group = pd.DataFrame(group)"
      ],
      "execution_count": 285,
      "outputs": []
    },
    {
      "cell_type": "markdown",
      "metadata": {
        "id": "0L2OQju5Jlpy",
        "colab_type": "text"
      },
      "source": [
        "Creamos un array que contiene las tefe max de cada Unidad organizativa"
      ]
    },
    {
      "cell_type": "code",
      "metadata": {
        "id": "2OU0K21gRa-9",
        "colab_type": "code",
        "colab": {}
      },
      "source": [
        "def genera(data):\n",
        "  lista = []\n",
        "  for index, row in data.iterrows():\n",
        "    lista.append([index,row['tefe (seg)']])\n",
        "  return lista"
      ],
      "execution_count": 286,
      "outputs": []
    },
    {
      "cell_type": "code",
      "metadata": {
        "id": "d41Yi2QDHQTQ",
        "colab_type": "code",
        "colab": {
          "base_uri": "https://localhost:8080/",
          "height": 34
        },
        "outputId": "6d343fdf-c799-47f5-e4a1-c43af743df30"
      },
      "source": [
        "max_por_unidad = genera(df_group)\n",
        "len(max_por_unidad)"
      ],
      "execution_count": 287,
      "outputs": [
        {
          "output_type": "execute_result",
          "data": {
            "text/plain": [
              "15"
            ]
          },
          "metadata": {
            "tags": []
          },
          "execution_count": 287
        }
      ]
    },
    {
      "cell_type": "markdown",
      "metadata": {
        "id": "GZH-_ZQCJx7q",
        "colab_type": "text"
      },
      "source": [
        "Agregamos la columna \"Eficiencia\" que generaremos con la furmula\n",
        "* tefe(x tupla)*100/tefe_max"
      ]
    },
    {
      "cell_type": "code",
      "metadata": {
        "id": "lwB2VZxESM05",
        "colab_type": "code",
        "colab": {}
      },
      "source": [
        "def rellena(data,lista):\n",
        "  aux = []\n",
        "  for index, row in data.iterrows():\n",
        "    unidad = row['Unidad organizativa']\n",
        "    tefe = row['tefe (seg)']\n",
        "    for unidad_max,tefe_max in lista:\n",
        "      if unidad == unidad_max:\n",
        "        resultado = (tefe)/tefe_max\n",
        "        aux.append(resultado)\n",
        "  return aux"
      ],
      "execution_count": 288,
      "outputs": []
    },
    {
      "cell_type": "code",
      "metadata": {
        "id": "PsM0ane-HC2A",
        "colab_type": "code",
        "colab": {
          "base_uri": "https://localhost:8080/",
          "height": 34
        },
        "outputId": "aa3aafcd-3f24-42a7-95e3-8cb4e7d24e07"
      },
      "source": [
        "eficiencia = rellena(df_,max_por_unidad)\n",
        "len(eficiencia)"
      ],
      "execution_count": 289,
      "outputs": [
        {
          "output_type": "execute_result",
          "data": {
            "text/plain": [
              "1825"
            ]
          },
          "metadata": {
            "tags": []
          },
          "execution_count": 289
        }
      ]
    },
    {
      "cell_type": "markdown",
      "metadata": {
        "id": "xN29jN0HJ24C",
        "colab_type": "text"
      },
      "source": [
        "Le agregamos una columna al data frame"
      ]
    },
    {
      "cell_type": "code",
      "metadata": {
        "id": "MHsQH7VSHEvV",
        "colab_type": "code",
        "colab": {}
      },
      "source": [
        "df_['Eficiencia'] = eficiencia"
      ],
      "execution_count": 290,
      "outputs": []
    },
    {
      "cell_type": "markdown",
      "metadata": {
        "id": "q8kaHf9QL9Tw",
        "colab_type": "text"
      },
      "source": [
        "##Columna \"Eficiencia (bin)\" binaria"
      ]
    },
    {
      "cell_type": "code",
      "metadata": {
        "id": "olDE0hNFYgdc",
        "colab_type": "code",
        "colab": {}
      },
      "source": [
        "filtro = ['Eficiencia']\n",
        "df_aux = df_.drop(filtro, axis=1)"
      ],
      "execution_count": 291,
      "outputs": []
    },
    {
      "cell_type": "code",
      "metadata": {
        "id": "U3VByeK4RCjs",
        "colab_type": "code",
        "colab": {}
      },
      "source": [
        "group = df_aux.groupby(['Unidad organizativa']).median()\n",
        "df_group = pd.DataFrame(group)"
      ],
      "execution_count": 292,
      "outputs": []
    },
    {
      "cell_type": "code",
      "metadata": {
        "id": "Kl0maRw0R9DQ",
        "colab_type": "code",
        "colab": {
          "base_uri": "https://localhost:8080/",
          "height": 34
        },
        "outputId": "c92b9333-a1dc-405b-86bb-06d0c175e857"
      },
      "source": [
        "media_por_unidad = genera(df_group)\n",
        "len(media_por_unidad)"
      ],
      "execution_count": 293,
      "outputs": [
        {
          "output_type": "execute_result",
          "data": {
            "text/plain": [
              "15"
            ]
          },
          "metadata": {
            "tags": []
          },
          "execution_count": 293
        }
      ]
    },
    {
      "cell_type": "code",
      "metadata": {
        "id": "QJx9wUVZS5_m",
        "colab_type": "code",
        "colab": {}
      },
      "source": [
        "def rellena_binario(data,lista):\n",
        "  aux = []\n",
        "  for index, row in data.iterrows():\n",
        "    unidad = row['Unidad organizativa']\n",
        "    tefe = row['tefe (seg)']\n",
        "    for unidad_median,tefe_median in lista:\n",
        "      if unidad == unidad_median:\n",
        "        if tefe >= tefe_median:\n",
        "          aux.append(1)\n",
        "        elif tefe < tefe_median:\n",
        "          aux.append(0)\n",
        "  return aux"
      ],
      "execution_count": 294,
      "outputs": []
    },
    {
      "cell_type": "code",
      "metadata": {
        "id": "j4eZdXp6TX5v",
        "colab_type": "code",
        "colab": {
          "base_uri": "https://localhost:8080/",
          "height": 34
        },
        "outputId": "c6b748db-2ea0-4f52-c832-ee09f951476c"
      },
      "source": [
        "eficiencia_binaria = rellena_binario(df_,media_por_unidad)\n",
        "len(eficiencia_binaria)"
      ],
      "execution_count": 295,
      "outputs": [
        {
          "output_type": "execute_result",
          "data": {
            "text/plain": [
              "1825"
            ]
          },
          "metadata": {
            "tags": []
          },
          "execution_count": 295
        }
      ]
    },
    {
      "cell_type": "code",
      "metadata": {
        "id": "kRHAppHITnfb",
        "colab_type": "code",
        "colab": {}
      },
      "source": [
        "df_['Eficiencia (bin)'] = eficiencia_binaria"
      ],
      "execution_count": 296,
      "outputs": []
    },
    {
      "cell_type": "markdown",
      "metadata": {
        "id": "rY2w9jZ0aot_",
        "colab_type": "text"
      },
      "source": [
        "##Data a ocupar"
      ]
    },
    {
      "cell_type": "code",
      "metadata": {
        "id": "zvu0cobYatY1",
        "colab_type": "code",
        "colab": {
          "base_uri": "https://localhost:8080/",
          "height": 408
        },
        "outputId": "e01e87bb-4429-44d0-956e-676b4883cca0"
      },
      "source": [
        "df_.info()"
      ],
      "execution_count": 297,
      "outputs": [
        {
          "output_type": "stream",
          "text": [
            "<class 'pandas.core.frame.DataFrame'>\n",
            "Int64Index: 1825 entries, 0 to 3137\n",
            "Data columns (total 16 columns):\n",
            " #   Column               Non-Null Count  Dtype         \n",
            "---  ------               --------------  -----         \n",
            " 0   Fecha                1825 non-null   datetime64[ns]\n",
            " 1   Turno                1825 non-null   object        \n",
            " 2   Equipo               1825 non-null   object        \n",
            " 3   Cargas (u)           1825 non-null   int64         \n",
            " 4   Movimiento (t)       1825 non-null   float64       \n",
            " 5   tefe (seg)           1825 non-null   int64         \n",
            " 6   tdem (seg)           1825 non-null   int64         \n",
            " 7   R-ef (t/h)           1825 non-null   float64       \n",
            " 8   Unidad organizativa  1825 non-null   object        \n",
            " 9   Posición             1825 non-null   object        \n",
            " 10  Edad del empleado    1825 non-null   int64         \n",
            " 11  Dia                  1825 non-null   object        \n",
            " 12  Mes                  1825 non-null   object        \n",
            " 13  Año                  1825 non-null   object        \n",
            " 14  Eficiencia           1825 non-null   float64       \n",
            " 15  Eficiencia (bin)     1825 non-null   int64         \n",
            "dtypes: datetime64[ns](1), float64(3), int64(5), object(7)\n",
            "memory usage: 322.4+ KB\n"
          ],
          "name": "stdout"
        }
      ]
    },
    {
      "cell_type": "code",
      "metadata": {
        "id": "RMr6szyta5S3",
        "colab_type": "code",
        "colab": {
          "base_uri": "https://localhost:8080/",
          "height": 343
        },
        "outputId": "dff7082e-1a8d-4f87-df38-1b30214674c9"
      },
      "source": [
        "df_.head()"
      ],
      "execution_count": 298,
      "outputs": [
        {
          "output_type": "execute_result",
          "data": {
            "text/html": [
              "<div>\n",
              "<style scoped>\n",
              "    .dataframe tbody tr th:only-of-type {\n",
              "        vertical-align: middle;\n",
              "    }\n",
              "\n",
              "    .dataframe tbody tr th {\n",
              "        vertical-align: top;\n",
              "    }\n",
              "\n",
              "    .dataframe thead th {\n",
              "        text-align: right;\n",
              "    }\n",
              "</style>\n",
              "<table border=\"1\" class=\"dataframe\">\n",
              "  <thead>\n",
              "    <tr style=\"text-align: right;\">\n",
              "      <th></th>\n",
              "      <th>Fecha</th>\n",
              "      <th>Turno</th>\n",
              "      <th>Equipo</th>\n",
              "      <th>Cargas (u)</th>\n",
              "      <th>Movimiento (t)</th>\n",
              "      <th>tefe (seg)</th>\n",
              "      <th>tdem (seg)</th>\n",
              "      <th>R-ef (t/h)</th>\n",
              "      <th>Unidad organizativa</th>\n",
              "      <th>Posición</th>\n",
              "      <th>Edad del empleado</th>\n",
              "      <th>Dia</th>\n",
              "      <th>Mes</th>\n",
              "      <th>Año</th>\n",
              "      <th>Eficiencia</th>\n",
              "      <th>Eficiencia (bin)</th>\n",
              "    </tr>\n",
              "  </thead>\n",
              "  <tbody>\n",
              "    <tr>\n",
              "      <th>0</th>\n",
              "      <td>2019-07-01</td>\n",
              "      <td>2</td>\n",
              "      <td>211</td>\n",
              "      <td>93</td>\n",
              "      <td>21134.20117</td>\n",
              "      <td>21517</td>\n",
              "      <td>814</td>\n",
              "      <td>3535.954093</td>\n",
              "      <td>MANTENIMIENTO MINA</td>\n",
              "      <td>ELECTRICO III</td>\n",
              "      <td>29</td>\n",
              "      <td>01</td>\n",
              "      <td>07</td>\n",
              "      <td>2019</td>\n",
              "      <td>0.505260</td>\n",
              "      <td>0</td>\n",
              "    </tr>\n",
              "    <tr>\n",
              "      <th>1</th>\n",
              "      <td>2019-07-01</td>\n",
              "      <td>2</td>\n",
              "      <td>213</td>\n",
              "      <td>12</td>\n",
              "      <td>2833.59961</td>\n",
              "      <td>5593</td>\n",
              "      <td>367</td>\n",
              "      <td>1823.879599</td>\n",
              "      <td>MANTENIMIENTO MINA</td>\n",
              "      <td>MECANICO I</td>\n",
              "      <td>54</td>\n",
              "      <td>01</td>\n",
              "      <td>07</td>\n",
              "      <td>2019</td>\n",
              "      <td>0.131334</td>\n",
              "      <td>0</td>\n",
              "    </tr>\n",
              "    <tr>\n",
              "      <th>4</th>\n",
              "      <td>2019-07-01</td>\n",
              "      <td>2</td>\n",
              "      <td>307</td>\n",
              "      <td>100</td>\n",
              "      <td>23335.70117</td>\n",
              "      <td>35320</td>\n",
              "      <td>2801</td>\n",
              "      <td>2378.497288</td>\n",
              "      <td>ADMINISTRACION SUPTCIA PLANTAS</td>\n",
              "      <td>OPERADOR ELECTRICO II PLANTA</td>\n",
              "      <td>62</td>\n",
              "      <td>01</td>\n",
              "      <td>07</td>\n",
              "      <td>2019</td>\n",
              "      <td>0.917188</td>\n",
              "      <td>1</td>\n",
              "    </tr>\n",
              "    <tr>\n",
              "      <th>5</th>\n",
              "      <td>2019-07-02</td>\n",
              "      <td>1</td>\n",
              "      <td>211</td>\n",
              "      <td>148</td>\n",
              "      <td>34061.60938</td>\n",
              "      <td>37283</td>\n",
              "      <td>960</td>\n",
              "      <td>3288.946538</td>\n",
              "      <td>CAMIONES CAT 793F MLC</td>\n",
              "      <td>OPERADOR III</td>\n",
              "      <td>48</td>\n",
              "      <td>02</td>\n",
              "      <td>07</td>\n",
              "      <td>2019</td>\n",
              "      <td>0.904444</td>\n",
              "      <td>1</td>\n",
              "    </tr>\n",
              "    <tr>\n",
              "      <th>6</th>\n",
              "      <td>2019-07-02</td>\n",
              "      <td>1</td>\n",
              "      <td>213</td>\n",
              "      <td>7</td>\n",
              "      <td>1632.20007</td>\n",
              "      <td>2962</td>\n",
              "      <td>67</td>\n",
              "      <td>1983.767810</td>\n",
              "      <td>MANTENIMIENTO MINA</td>\n",
              "      <td>MECANICO III</td>\n",
              "      <td>33</td>\n",
              "      <td>02</td>\n",
              "      <td>07</td>\n",
              "      <td>2019</td>\n",
              "      <td>0.069553</td>\n",
              "      <td>0</td>\n",
              "    </tr>\n",
              "  </tbody>\n",
              "</table>\n",
              "</div>"
            ],
            "text/plain": [
              "       Fecha Turno Equipo  Cargas (u)  ...  Mes   Año  Eficiencia  Eficiencia (bin)\n",
              "0 2019-07-01     2    211          93  ...   07  2019    0.505260                 0\n",
              "1 2019-07-01     2    213          12  ...   07  2019    0.131334                 0\n",
              "4 2019-07-01     2    307         100  ...   07  2019    0.917188                 1\n",
              "5 2019-07-02     1    211         148  ...   07  2019    0.904444                 1\n",
              "6 2019-07-02     1    213           7  ...   07  2019    0.069553                 0\n",
              "\n",
              "[5 rows x 16 columns]"
            ]
          },
          "metadata": {
            "tags": []
          },
          "execution_count": 298
        }
      ]
    },
    {
      "cell_type": "markdown",
      "metadata": {
        "id": "5eSA_Jp4r6IC",
        "colab_type": "text"
      },
      "source": [
        "#Regresión Lineal"
      ]
    },
    {
      "cell_type": "markdown",
      "metadata": {
        "id": "wTtezhKduLpe",
        "colab_type": "text"
      },
      "source": [
        "Importamos y seleccionamos las variables que ocuparemos en el modelo"
      ]
    },
    {
      "cell_type": "code",
      "metadata": {
        "id": "ChVSMO0Cr4-7",
        "colab_type": "code",
        "colab": {}
      },
      "source": [
        "from sklearn.model_selection import train_test_split\n",
        "X = df_[['Turno','Equipo','Movimiento (t)','Cargas (u)','Edad del empleado']]\n",
        "y = df_['tefe (seg)']"
      ],
      "execution_count": 299,
      "outputs": []
    },
    {
      "cell_type": "markdown",
      "metadata": {
        "id": "P-0GbgVZuSuI",
        "colab_type": "text"
      },
      "source": [
        "Creamos la data de entrenamiento y test"
      ]
    },
    {
      "cell_type": "code",
      "metadata": {
        "id": "wgmUxF2gtWD9",
        "colab_type": "code",
        "colab": {}
      },
      "source": [
        "X_train, X_test, y_train, y_test = train_test_split(X, y, test_size=0.4, random_state=42)"
      ],
      "execution_count": 302,
      "outputs": []
    },
    {
      "cell_type": "markdown",
      "metadata": {
        "id": "IdH7MOj6uXBy",
        "colab_type": "text"
      },
      "source": [
        "Importamos el modelo de regresion lineal, creamos la regresion y generamos el .fit con la data de entrenamiento"
      ]
    },
    {
      "cell_type": "code",
      "metadata": {
        "id": "mVUxbFtdts_0",
        "colab_type": "code",
        "colab": {
          "base_uri": "https://localhost:8080/",
          "height": 34
        },
        "outputId": "a20a8d3e-c283-4c1f-edb5-3ff7faa80ac4"
      },
      "source": [
        "from sklearn import linear_model\n",
        "modelo = linear_model.LinearRegression()\n",
        "modelo.fit(X_train,y_train)"
      ],
      "execution_count": 303,
      "outputs": [
        {
          "output_type": "execute_result",
          "data": {
            "text/plain": [
              "LinearRegression(copy_X=True, fit_intercept=True, n_jobs=None, normalize=False)"
            ]
          },
          "metadata": {
            "tags": []
          },
          "execution_count": 303
        }
      ]
    },
    {
      "cell_type": "markdown",
      "metadata": {
        "id": "R2yh12ieunWw",
        "colab_type": "text"
      },
      "source": [
        "\n",
        "Predicción con la data de test"
      ]
    },
    {
      "cell_type": "code",
      "metadata": {
        "id": "ZMgMttIgtu_r",
        "colab_type": "code",
        "colab": {}
      },
      "source": [
        "y_pred = modelo.predict(X_test)"
      ],
      "execution_count": 304,
      "outputs": []
    },
    {
      "cell_type": "code",
      "metadata": {
        "id": "D3XNkjLuuuVb",
        "colab_type": "code",
        "colab": {
          "base_uri": "https://localhost:8080/",
          "height": 204
        },
        "outputId": "31e141ed-ac5d-4ff5-8492-46c4f7dc7d79"
      },
      "source": [
        "pd.DataFrame(modelo.coef_,X.columns,columns=['Coefficient'])"
      ],
      "execution_count": 305,
      "outputs": [
        {
          "output_type": "execute_result",
          "data": {
            "text/html": [
              "<div>\n",
              "<style scoped>\n",
              "    .dataframe tbody tr th:only-of-type {\n",
              "        vertical-align: middle;\n",
              "    }\n",
              "\n",
              "    .dataframe tbody tr th {\n",
              "        vertical-align: top;\n",
              "    }\n",
              "\n",
              "    .dataframe thead th {\n",
              "        text-align: right;\n",
              "    }\n",
              "</style>\n",
              "<table border=\"1\" class=\"dataframe\">\n",
              "  <thead>\n",
              "    <tr style=\"text-align: right;\">\n",
              "      <th></th>\n",
              "      <th>Coefficient</th>\n",
              "    </tr>\n",
              "  </thead>\n",
              "  <tbody>\n",
              "    <tr>\n",
              "      <th>Turno</th>\n",
              "      <td>-277.361862</td>\n",
              "    </tr>\n",
              "    <tr>\n",
              "      <th>Equipo</th>\n",
              "      <td>82.612885</td>\n",
              "    </tr>\n",
              "    <tr>\n",
              "      <th>Movimiento (t)</th>\n",
              "      <td>0.039205</td>\n",
              "    </tr>\n",
              "    <tr>\n",
              "      <th>Cargas (u)</th>\n",
              "      <td>257.986921</td>\n",
              "    </tr>\n",
              "    <tr>\n",
              "      <th>Edad del empleado</th>\n",
              "      <td>-1.572352</td>\n",
              "    </tr>\n",
              "  </tbody>\n",
              "</table>\n",
              "</div>"
            ],
            "text/plain": [
              "                   Coefficient\n",
              "Turno              -277.361862\n",
              "Equipo               82.612885\n",
              "Movimiento (t)        0.039205\n",
              "Cargas (u)          257.986921\n",
              "Edad del empleado    -1.572352"
            ]
          },
          "metadata": {
            "tags": []
          },
          "execution_count": 305
        }
      ]
    },
    {
      "cell_type": "code",
      "metadata": {
        "id": "d20e-eUGt3T1",
        "colab_type": "code",
        "colab": {
          "base_uri": "https://localhost:8080/",
          "height": 358
        },
        "outputId": "95b99090-1bcc-485d-9a8a-c73598bca7e1"
      },
      "source": [
        "plt.figure(figsize=(10,5))\n",
        "sns.scatterplot(y_test,y_pred,color='blue',alpha=0.5)"
      ],
      "execution_count": 306,
      "outputs": [
        {
          "output_type": "execute_result",
          "data": {
            "text/plain": [
              "<matplotlib.axes._subplots.AxesSubplot at 0x7fa2d52e80b8>"
            ]
          },
          "metadata": {
            "tags": []
          },
          "execution_count": 306
        },
        {
          "output_type": "display_data",
          "data": {
            "image/png": "[encoded data removed]",
            "text/plain": [
              "<Figure size 720x360 with 1 Axes>"
            ]
          },
          "metadata": {
            "tags": []
          }
        }
      ]
    },
    {
      "cell_type": "markdown",
      "metadata": {
        "id": "Yjx6NaQRu4z0",
        "colab_type": "text"
      },
      "source": [
        "Residuales"
      ]
    },
    {
      "cell_type": "code",
      "metadata": {
        "id": "NYTICpJht_jG",
        "colab_type": "code",
        "colab": {
          "base_uri": "https://localhost:8080/",
          "height": 302
        },
        "outputId": "a6b9385e-ddb7-4ea6-b2ad-c08ae2660b63"
      },
      "source": [
        "sns.distplot((y_test-y_pred),bins=50)"
      ],
      "execution_count": 307,
      "outputs": [
        {
          "output_type": "execute_result",
          "data": {
            "text/plain": [
              "<matplotlib.axes._subplots.AxesSubplot at 0x7fa2d525d160>"
            ]
          },
          "metadata": {
            "tags": []
          },
          "execution_count": 307
        },
        {
          "output_type": "display_data",
          "data": {
            "image/png": "[encoded data removed]",
            "text/plain": [
              "<Figure size 432x288 with 1 Axes>"
            ]
          },
          "metadata": {
            "tags": []
          }
        }
      ]
    },
    {
      "cell_type": "markdown",
      "metadata": {
        "id": "znH6r_o5u6Gy",
        "colab_type": "text"
      },
      "source": [
        "Error Cuadratico Medio"
      ]
    },
    {
      "cell_type": "code",
      "metadata": {
        "id": "V_tHE-MTuDNr",
        "colab_type": "code",
        "colab": {
          "base_uri": "https://localhost:8080/",
          "height": 34
        },
        "outputId": "eac9ccee-d402-44c0-8e59-882b6cbbb20f"
      },
      "source": [
        "from sklearn import metrics\n",
        "print(f'Error Cuadrático Medio: {metrics.mean_squared_error(y_test,y_pred)}')"
      ],
      "execution_count": 308,
      "outputs": [
        {
          "output_type": "stream",
          "text": [
            "Error Cuadrático Medio: 21934117.24607634\n"
          ],
          "name": "stdout"
        }
      ]
    },
    {
      "cell_type": "markdown",
      "metadata": {
        "id": "fJjWgM1zu8-M",
        "colab_type": "text"
      },
      "source": [
        "Se peude decir que la regresion lineal no en el mejor modelo para este tipo de data"
      ]
    },
    {
      "cell_type": "code",
      "metadata": {
        "id": "CQ2jFjGgvLvv",
        "colab_type": "code",
        "colab": {}
      },
      "source": [
        ""
      ],
      "execution_count": 308,
      "outputs": []
    },
    {
      "cell_type": "markdown",
      "metadata": {
        "id": "2_0hj4rxgIip",
        "colab_type": "text"
      },
      "source": [
        "#Regresión Logística"
      ]
    },
    {
      "cell_type": "markdown",
      "metadata": {
        "id": "Nkh9lMF0j6vg",
        "colab_type": "text"
      },
      "source": [
        "Generamos nuestro data de entrenamiento y le eliminamos las columnas que no ocuparemos en el modolamiento"
      ]
    },
    {
      "cell_type": "code",
      "metadata": {
        "id": "n1SgIpEegXix",
        "colab_type": "code",
        "colab": {}
      },
      "source": [
        "filtro = ['Fecha','Equipo','Turno','Unidad organizativa','Posición','tefe (seg)','tdem (seg)','R-ef (t/h)','Mes','Dia','Año','Eficiencia']\n",
        "train = df_.drop(filtro,axis=1)"
      ],
      "execution_count": 398,
      "outputs": []
    },
    {
      "cell_type": "code",
      "metadata": {
        "id": "SonQhALaWA80",
        "colab_type": "code",
        "colab": {
          "base_uri": "https://localhost:8080/",
          "height": 204
        },
        "outputId": "628b0544-6d9a-4e23-c245-d7f91b2e899b"
      },
      "source": [
        "train.info()"
      ],
      "execution_count": 399,
      "outputs": [
        {
          "output_type": "stream",
          "text": [
            "<class 'pandas.core.frame.DataFrame'>\n",
            "Int64Index: 1825 entries, 0 to 3137\n",
            "Data columns (total 4 columns):\n",
            " #   Column             Non-Null Count  Dtype  \n",
            "---  ------             --------------  -----  \n",
            " 0   Cargas (u)         1825 non-null   int64  \n",
            " 1   Movimiento (t)     1825 non-null   float64\n",
            " 2   Edad del empleado  1825 non-null   int64  \n",
            " 3   Eficiencia (bin)   1825 non-null   int64  \n",
            "dtypes: float64(1), int64(3)\n",
            "memory usage: 151.3 KB\n"
          ],
          "name": "stdout"
        }
      ]
    },
    {
      "cell_type": "markdown",
      "metadata": {
        "id": "L6ScVyuOiJT9",
        "colab_type": "text"
      },
      "source": [
        "Creamos nuestras variables dummies"
      ]
    },
    {
      "cell_type": "code",
      "metadata": {
        "id": "eIEsZe8VI0H5",
        "colab_type": "code",
        "colab": {}
      },
      "source": [
        "unidad = pd.get_dummies(df_['Unidad organizativa'])\n",
        "posicion = pd.get_dummies(df_['Posición'])\n",
        "turno = pd.get_dummies(df_['Turno'])\n",
        "fecha = pd.get_dummies(df_['Fecha'])"
      ],
      "execution_count": 400,
      "outputs": []
    },
    {
      "cell_type": "markdown",
      "metadata": {
        "id": "2CeN95XqiPHm",
        "colab_type": "text"
      },
      "source": [
        "**DUDA**"
      ]
    },
    {
      "cell_type": "markdown",
      "metadata": {
        "id": "2IBV0cQ8jZ7q",
        "colab_type": "text"
      },
      "source": [
        "Agregamos las variables dummies a la data de entrenamiento"
      ]
    },
    {
      "cell_type": "code",
      "metadata": {
        "id": "rIuvZ0pXiG-A",
        "colab_type": "code",
        "colab": {}
      },
      "source": [
        "train = pd.concat([train,unidad,posicion,turno],axis=1)"
      ],
      "execution_count": 401,
      "outputs": []
    },
    {
      "cell_type": "code",
      "metadata": {
        "id": "XBgfpXe9kzoh",
        "colab_type": "code",
        "colab": {
          "base_uri": "https://localhost:8080/",
          "height": 309
        },
        "outputId": "e37da7ea-830a-4569-f4d0-10c658fe5ef1"
      },
      "source": [
        "train.head()"
      ],
      "execution_count": 402,
      "outputs": [
        {
          "output_type": "execute_result",
          "data": {
            "text/html": [
              "<div>\n",
              "<style scoped>\n",
              "    .dataframe tbody tr th:only-of-type {\n",
              "        vertical-align: middle;\n",
              "    }\n",
              "\n",
              "    .dataframe tbody tr th {\n",
              "        vertical-align: top;\n",
              "    }\n",
              "\n",
              "    .dataframe thead th {\n",
              "        text-align: right;\n",
              "    }\n",
              "</style>\n",
              "<table border=\"1\" class=\"dataframe\">\n",
              "  <thead>\n",
              "    <tr style=\"text-align: right;\">\n",
              "      <th></th>\n",
              "      <th>Cargas (u)</th>\n",
              "      <th>Movimiento (t)</th>\n",
              "      <th>Edad del empleado</th>\n",
              "      <th>Eficiencia (bin)</th>\n",
              "      <th>ADMINISTRACION SUPTCIA PLANTAS</th>\n",
              "      <th>ALJIBES MLC</th>\n",
              "      <th>CAMIONES CAT 793F MLC</th>\n",
              "      <th>CAMIONES KOMATSU 830E MLC</th>\n",
              "      <th>CARGADORES FRONTALES MLC</th>\n",
              "      <th>GEOLOGIA DE PRODUCCION</th>\n",
              "      <th>INGENIERIA DE PROCESOS</th>\n",
              "      <th>MANTENIMIENTO MINA</th>\n",
              "      <th>MOTONIVELADORAS MLC</th>\n",
              "      <th>PALAS HIDRAULICAS MLC</th>\n",
              "      <th>PLANIFICACION MANTTO. MINA</th>\n",
              "      <th>SERVICIO SOCIAL VHUASCO</th>\n",
              "      <th>SISTEMAS DE CONTROL Y POTENCIA</th>\n",
              "      <th>TRACTORES NEUMATICOS MLC</th>\n",
              "      <th>TRACTORES ORUGA MLC</th>\n",
              "      <th>ASISTENTE GEOLOGIA</th>\n",
              "      <th>AYUDANTE ADMINISTRATIVO</th>\n",
              "      <th>CONTROLADOR PLANIFICACION</th>\n",
              "      <th>ELECTRICO I</th>\n",
              "      <th>ELECTRICO III</th>\n",
              "      <th>INGENIERO DE PROCESOS</th>\n",
              "      <th>JEFE SISTEMAS DE CONTROL Y POTENCIA</th>\n",
              "      <th>MECANICO I</th>\n",
              "      <th>MECANICO III</th>\n",
              "      <th>OPERADOR ELECTRICO II PLANTA</th>\n",
              "      <th>OPERADOR I</th>\n",
              "      <th>OPERADOR II</th>\n",
              "      <th>OPERADOR III</th>\n",
              "      <th>OPERADOR MECANICO III PLANTA</th>\n",
              "      <th>PLANIFICADOR MANTENIMIENTO MINA</th>\n",
              "      <th>1</th>\n",
              "      <th>2</th>\n",
              "    </tr>\n",
              "  </thead>\n",
              "  <tbody>\n",
              "    <tr>\n",
              "      <th>0</th>\n",
              "      <td>93</td>\n",
              "      <td>21134.20117</td>\n",
              "      <td>29</td>\n",
              "      <td>0</td>\n",
              "      <td>0</td>\n",
              "      <td>0</td>\n",
              "      <td>0</td>\n",
              "      <td>0</td>\n",
              "      <td>0</td>\n",
              "      <td>0</td>\n",
              "      <td>0</td>\n",
              "      <td>1</td>\n",
              "      <td>0</td>\n",
              "      <td>0</td>\n",
              "      <td>0</td>\n",
              "      <td>0</td>\n",
              "      <td>0</td>\n",
              "      <td>0</td>\n",
              "      <td>0</td>\n",
              "      <td>0</td>\n",
              "      <td>0</td>\n",
              "      <td>0</td>\n",
              "      <td>0</td>\n",
              "      <td>1</td>\n",
              "      <td>0</td>\n",
              "      <td>0</td>\n",
              "      <td>0</td>\n",
              "      <td>0</td>\n",
              "      <td>0</td>\n",
              "      <td>0</td>\n",
              "      <td>0</td>\n",
              "      <td>0</td>\n",
              "      <td>0</td>\n",
              "      <td>0</td>\n",
              "      <td>0</td>\n",
              "      <td>1</td>\n",
              "    </tr>\n",
              "    <tr>\n",
              "      <th>1</th>\n",
              "      <td>12</td>\n",
              "      <td>2833.59961</td>\n",
              "      <td>54</td>\n",
              "      <td>0</td>\n",
              "      <td>0</td>\n",
              "      <td>0</td>\n",
              "      <td>0</td>\n",
              "      <td>0</td>\n",
              "      <td>0</td>\n",
              "      <td>0</td>\n",
              "      <td>0</td>\n",
              "      <td>1</td>\n",
              "      <td>0</td>\n",
              "      <td>0</td>\n",
              "      <td>0</td>\n",
              "      <td>0</td>\n",
              "      <td>0</td>\n",
              "      <td>0</td>\n",
              "      <td>0</td>\n",
              "      <td>0</td>\n",
              "      <td>0</td>\n",
              "      <td>0</td>\n",
              "      <td>0</td>\n",
              "      <td>0</td>\n",
              "      <td>0</td>\n",
              "      <td>0</td>\n",
              "      <td>1</td>\n",
              "      <td>0</td>\n",
              "      <td>0</td>\n",
              "      <td>0</td>\n",
              "      <td>0</td>\n",
              "      <td>0</td>\n",
              "      <td>0</td>\n",
              "      <td>0</td>\n",
              "      <td>0</td>\n",
              "      <td>1</td>\n",
              "    </tr>\n",
              "    <tr>\n",
              "      <th>4</th>\n",
              "      <td>100</td>\n",
              "      <td>23335.70117</td>\n",
              "      <td>62</td>\n",
              "      <td>1</td>\n",
              "      <td>1</td>\n",
              "      <td>0</td>\n",
              "      <td>0</td>\n",
              "      <td>0</td>\n",
              "      <td>0</td>\n",
              "      <td>0</td>\n",
              "      <td>0</td>\n",
              "      <td>0</td>\n",
              "      <td>0</td>\n",
              "      <td>0</td>\n",
              "      <td>0</td>\n",
              "      <td>0</td>\n",
              "      <td>0</td>\n",
              "      <td>0</td>\n",
              "      <td>0</td>\n",
              "      <td>0</td>\n",
              "      <td>0</td>\n",
              "      <td>0</td>\n",
              "      <td>0</td>\n",
              "      <td>0</td>\n",
              "      <td>0</td>\n",
              "      <td>0</td>\n",
              "      <td>0</td>\n",
              "      <td>0</td>\n",
              "      <td>1</td>\n",
              "      <td>0</td>\n",
              "      <td>0</td>\n",
              "      <td>0</td>\n",
              "      <td>0</td>\n",
              "      <td>0</td>\n",
              "      <td>0</td>\n",
              "      <td>1</td>\n",
              "    </tr>\n",
              "    <tr>\n",
              "      <th>5</th>\n",
              "      <td>148</td>\n",
              "      <td>34061.60938</td>\n",
              "      <td>48</td>\n",
              "      <td>1</td>\n",
              "      <td>0</td>\n",
              "      <td>0</td>\n",
              "      <td>1</td>\n",
              "      <td>0</td>\n",
              "      <td>0</td>\n",
              "      <td>0</td>\n",
              "      <td>0</td>\n",
              "      <td>0</td>\n",
              "      <td>0</td>\n",
              "      <td>0</td>\n",
              "      <td>0</td>\n",
              "      <td>0</td>\n",
              "      <td>0</td>\n",
              "      <td>0</td>\n",
              "      <td>0</td>\n",
              "      <td>0</td>\n",
              "      <td>0</td>\n",
              "      <td>0</td>\n",
              "      <td>0</td>\n",
              "      <td>0</td>\n",
              "      <td>0</td>\n",
              "      <td>0</td>\n",
              "      <td>0</td>\n",
              "      <td>0</td>\n",
              "      <td>0</td>\n",
              "      <td>0</td>\n",
              "      <td>0</td>\n",
              "      <td>1</td>\n",
              "      <td>0</td>\n",
              "      <td>0</td>\n",
              "      <td>1</td>\n",
              "      <td>0</td>\n",
              "    </tr>\n",
              "    <tr>\n",
              "      <th>6</th>\n",
              "      <td>7</td>\n",
              "      <td>1632.20007</td>\n",
              "      <td>33</td>\n",
              "      <td>0</td>\n",
              "      <td>0</td>\n",
              "      <td>0</td>\n",
              "      <td>0</td>\n",
              "      <td>0</td>\n",
              "      <td>0</td>\n",
              "      <td>0</td>\n",
              "      <td>0</td>\n",
              "      <td>1</td>\n",
              "      <td>0</td>\n",
              "      <td>0</td>\n",
              "      <td>0</td>\n",
              "      <td>0</td>\n",
              "      <td>0</td>\n",
              "      <td>0</td>\n",
              "      <td>0</td>\n",
              "      <td>0</td>\n",
              "      <td>0</td>\n",
              "      <td>0</td>\n",
              "      <td>0</td>\n",
              "      <td>0</td>\n",
              "      <td>0</td>\n",
              "      <td>0</td>\n",
              "      <td>0</td>\n",
              "      <td>1</td>\n",
              "      <td>0</td>\n",
              "      <td>0</td>\n",
              "      <td>0</td>\n",
              "      <td>0</td>\n",
              "      <td>0</td>\n",
              "      <td>0</td>\n",
              "      <td>1</td>\n",
              "      <td>0</td>\n",
              "    </tr>\n",
              "  </tbody>\n",
              "</table>\n",
              "</div>"
            ],
            "text/plain": [
              "   Cargas (u)  Movimiento (t)  ...  1  2\n",
              "0          93     21134.20117  ...  0  1\n",
              "1          12      2833.59961  ...  0  1\n",
              "4         100     23335.70117  ...  0  1\n",
              "5         148     34061.60938  ...  1  0\n",
              "6           7      1632.20007  ...  1  0\n",
              "\n",
              "[5 rows x 36 columns]"
            ]
          },
          "metadata": {
            "tags": []
          },
          "execution_count": 402
        }
      ]
    },
    {
      "cell_type": "markdown",
      "metadata": {
        "id": "BdL-JpfjmMfM",
        "colab_type": "text"
      },
      "source": [
        "Creamos nuestra data de entrenamiento y de test"
      ]
    },
    {
      "cell_type": "code",
      "metadata": {
        "id": "RxspgsE0kish",
        "colab_type": "code",
        "colab": {}
      },
      "source": [
        "from sklearn.model_selection import train_test_split\n",
        "X_train, X_test, y_train, y_test = train_test_split(train.drop('Eficiencia (bin)',axis=1),train['Eficiencia (bin)'],test_size=0.30,random_state=42)"
      ],
      "execution_count": 403,
      "outputs": []
    },
    {
      "cell_type": "markdown",
      "metadata": {
        "id": "twww7wKAniGm",
        "colab_type": "text"
      },
      "source": [
        "Importamos el modelo, creamos la regresión y entrenamos con nuestra data de entrenamiento"
      ]
    },
    {
      "cell_type": "code",
      "metadata": {
        "id": "3U42X6YkmHph",
        "colab_type": "code",
        "colab": {
          "base_uri": "https://localhost:8080/",
          "height": 102
        },
        "outputId": "e7b0315a-0f95-4bf3-c16e-a0e0d733744a"
      },
      "source": [
        "from sklearn.linear_model import LogisticRegression\n",
        "modelo = LogisticRegression()\n",
        "modelo.fit(X_train,y_train)"
      ],
      "execution_count": 404,
      "outputs": [
        {
          "output_type": "execute_result",
          "data": {
            "text/plain": [
              "LogisticRegression(C=1.0, class_weight=None, dual=False, fit_intercept=True,\n",
              "                   intercept_scaling=1, l1_ratio=None, max_iter=100,\n",
              "                   multi_class='auto', n_jobs=None, penalty='l2',\n",
              "                   random_state=None, solver='lbfgs', tol=0.0001, verbose=0,\n",
              "                   warm_start=False)"
            ]
          },
          "metadata": {
            "tags": []
          },
          "execution_count": 404
        }
      ]
    },
    {
      "cell_type": "markdown",
      "metadata": {
        "id": "l0hxfk1-nw7N",
        "colab_type": "text"
      },
      "source": [
        "Predicción con la data de test"
      ]
    },
    {
      "cell_type": "code",
      "metadata": {
        "id": "Yso-AHXEmdnq",
        "colab_type": "code",
        "colab": {}
      },
      "source": [
        "y_pred = modelo.predict(X_test)"
      ],
      "execution_count": 405,
      "outputs": []
    },
    {
      "cell_type": "markdown",
      "metadata": {
        "id": "DivMnBkQqvqR",
        "colab_type": "text"
      },
      "source": [
        "Evaluacion del modelo"
      ]
    },
    {
      "cell_type": "code",
      "metadata": {
        "id": "V-9LGlaCqrLQ",
        "colab_type": "code",
        "colab": {
          "base_uri": "https://localhost:8080/",
          "height": 170
        },
        "outputId": "87310529-0a1d-4802-cbe1-bdfb800e8141"
      },
      "source": [
        "from sklearn.metrics import classification_report\n",
        "print(classification_report(y_test,y_pred))"
      ],
      "execution_count": 406,
      "outputs": [
        {
          "output_type": "stream",
          "text": [
            "              precision    recall  f1-score   support\n",
            "\n",
            "           0       0.81      0.77      0.79       261\n",
            "           1       0.80      0.84      0.82       287\n",
            "\n",
            "    accuracy                           0.81       548\n",
            "   macro avg       0.81      0.81      0.81       548\n",
            "weighted avg       0.81      0.81      0.81       548\n",
            "\n"
          ],
          "name": "stdout"
        }
      ]
    },
    {
      "cell_type": "code",
      "metadata": {
        "id": "rWHM5yv_tNcI",
        "colab_type": "code",
        "colab": {
          "base_uri": "https://localhost:8080/",
          "height": 51
        },
        "outputId": "2adf159d-d32a-41b1-abdb-f488ce7d0511"
      },
      "source": [
        "from sklearn.metrics import confusion_matrix\n",
        "print(confusion_matrix(y_test,y_pred))"
      ],
      "execution_count": 407,
      "outputs": [
        {
          "output_type": "stream",
          "text": [
            "[[202  59]\n",
            " [ 47 240]]\n"
          ],
          "name": "stdout"
        }
      ]
    },
    {
      "cell_type": "code",
      "metadata": {
        "id": "woAieHYInHeq",
        "colab_type": "code",
        "colab": {}
      },
      "source": [
        ""
      ],
      "execution_count": 407,
      "outputs": []
    },
    {
      "cell_type": "markdown",
      "metadata": {
        "id": "krBNDhgjmS0_",
        "colab_type": "text"
      },
      "source": [
        "#Decision Tree"
      ]
    },
    {
      "cell_type": "code",
      "metadata": {
        "id": "wSyEDYDNmXFf",
        "colab_type": "code",
        "colab": {}
      },
      "source": [
        "from sklearn.tree import DecisionTreeClassifier"
      ],
      "execution_count": 408,
      "outputs": []
    },
    {
      "cell_type": "code",
      "metadata": {
        "id": "HfoH7o8Fmcnu",
        "colab_type": "code",
        "colab": {}
      },
      "source": [
        "modelo = DecisionTreeClassifier()"
      ],
      "execution_count": 409,
      "outputs": []
    },
    {
      "cell_type": "code",
      "metadata": {
        "id": "FTLVu9H_mgcR",
        "colab_type": "code",
        "colab": {
          "base_uri": "https://localhost:8080/",
          "height": 119
        },
        "outputId": "862afe94-9b5d-411c-8d88-036dd15404f8"
      },
      "source": [
        "modelo.fit(X_train,y_train)"
      ],
      "execution_count": 410,
      "outputs": [
        {
          "output_type": "execute_result",
          "data": {
            "text/plain": [
              "DecisionTreeClassifier(ccp_alpha=0.0, class_weight=None, criterion='gini',\n",
              "                       max_depth=None, max_features=None, max_leaf_nodes=None,\n",
              "                       min_impurity_decrease=0.0, min_impurity_split=None,\n",
              "                       min_samples_leaf=1, min_samples_split=2,\n",
              "                       min_weight_fraction_leaf=0.0, presort='deprecated',\n",
              "                       random_state=None, splitter='best')"
            ]
          },
          "metadata": {
            "tags": []
          },
          "execution_count": 410
        }
      ]
    },
    {
      "cell_type": "code",
      "metadata": {
        "id": "S5-YjZkEmnZE",
        "colab_type": "code",
        "colab": {}
      },
      "source": [
        "y_pred = modelo.predict(X_test)"
      ],
      "execution_count": 411,
      "outputs": []
    },
    {
      "cell_type": "code",
      "metadata": {
        "id": "d8QtDO0Smu2J",
        "colab_type": "code",
        "colab": {
          "base_uri": "https://localhost:8080/",
          "height": 170
        },
        "outputId": "ba971c5b-3c33-4b41-9d06-0f2473f91329"
      },
      "source": [
        "print(classification_report(y_test,y_pred))"
      ],
      "execution_count": 412,
      "outputs": [
        {
          "output_type": "stream",
          "text": [
            "              precision    recall  f1-score   support\n",
            "\n",
            "           0       0.82      0.84      0.83       261\n",
            "           1       0.85      0.84      0.84       287\n",
            "\n",
            "    accuracy                           0.84       548\n",
            "   macro avg       0.84      0.84      0.84       548\n",
            "weighted avg       0.84      0.84      0.84       548\n",
            "\n"
          ],
          "name": "stdout"
        }
      ]
    },
    {
      "cell_type": "code",
      "metadata": {
        "id": "pOoJYCI2mzJb",
        "colab_type": "code",
        "colab": {
          "base_uri": "https://localhost:8080/",
          "height": 51
        },
        "outputId": "9f3115b5-9580-4aa7-89bf-0d543f61376f"
      },
      "source": [
        "print(confusion_matrix(y_test,y_pred))"
      ],
      "execution_count": 413,
      "outputs": [
        {
          "output_type": "stream",
          "text": [
            "[[219  42]\n",
            " [ 47 240]]\n"
          ],
          "name": "stdout"
        }
      ]
    },
    {
      "cell_type": "code",
      "metadata": {
        "id": "DHn1ydsKnGGu",
        "colab_type": "code",
        "colab": {}
      },
      "source": [
        ""
      ],
      "execution_count": 413,
      "outputs": []
    },
    {
      "cell_type": "markdown",
      "metadata": {
        "id": "E3WtD4UjwzfN",
        "colab_type": "text"
      },
      "source": [
        "#Random Forest"
      ]
    },
    {
      "cell_type": "code",
      "metadata": {
        "id": "dhr2ntGx52OS",
        "colab_type": "code",
        "colab": {}
      },
      "source": [
        "from sklearn.ensemble import RandomForestClassifier"
      ],
      "execution_count": 414,
      "outputs": []
    },
    {
      "cell_type": "code",
      "metadata": {
        "id": "Pj51QmvAnl0F",
        "colab_type": "code",
        "colab": {}
      },
      "source": [
        "modelo = RandomForestClassifier(n_estimators=100)"
      ],
      "execution_count": 415,
      "outputs": []
    },
    {
      "cell_type": "code",
      "metadata": {
        "id": "W6fdOGJTnoSO",
        "colab_type": "code",
        "colab": {
          "base_uri": "https://localhost:8080/",
          "height": 153
        },
        "outputId": "d405dbf4-5702-43b3-81d0-ba49506effe4"
      },
      "source": [
        "modelo.fit(X_train,y_train)"
      ],
      "execution_count": 416,
      "outputs": [
        {
          "output_type": "execute_result",
          "data": {
            "text/plain": [
              "RandomForestClassifier(bootstrap=True, ccp_alpha=0.0, class_weight=None,\n",
              "                       criterion='gini', max_depth=None, max_features='auto',\n",
              "                       max_leaf_nodes=None, max_samples=None,\n",
              "                       min_impurity_decrease=0.0, min_impurity_split=None,\n",
              "                       min_samples_leaf=1, min_samples_split=2,\n",
              "                       min_weight_fraction_leaf=0.0, n_estimators=100,\n",
              "                       n_jobs=None, oob_score=False, random_state=None,\n",
              "                       verbose=0, warm_start=False)"
            ]
          },
          "metadata": {
            "tags": []
          },
          "execution_count": 416
        }
      ]
    },
    {
      "cell_type": "code",
      "metadata": {
        "id": "Qdy2dxCan5Rk",
        "colab_type": "code",
        "colab": {}
      },
      "source": [
        "y_pred = modelo.predict(X_test)"
      ],
      "execution_count": 417,
      "outputs": []
    },
    {
      "cell_type": "code",
      "metadata": {
        "id": "pn436TkWn9X5",
        "colab_type": "code",
        "colab": {
          "base_uri": "https://localhost:8080/",
          "height": 170
        },
        "outputId": "865fed1b-6750-4e46-d0ba-8d1a27b34f0e"
      },
      "source": [
        "print(classification_report(y_test,y_pred))"
      ],
      "execution_count": 418,
      "outputs": [
        {
          "output_type": "stream",
          "text": [
            "              precision    recall  f1-score   support\n",
            "\n",
            "           0       0.85      0.85      0.85       261\n",
            "           1       0.87      0.87      0.87       287\n",
            "\n",
            "    accuracy                           0.86       548\n",
            "   macro avg       0.86      0.86      0.86       548\n",
            "weighted avg       0.86      0.86      0.86       548\n",
            "\n"
          ],
          "name": "stdout"
        }
      ]
    },
    {
      "cell_type": "code",
      "metadata": {
        "id": "5WagY7vGn_sr",
        "colab_type": "code",
        "colab": {
          "base_uri": "https://localhost:8080/",
          "height": 51
        },
        "outputId": "897a19ac-02b2-4e36-964e-748cc7f874cd"
      },
      "source": [
        "print(confusion_matrix(y_test,y_pred))"
      ],
      "execution_count": 419,
      "outputs": [
        {
          "output_type": "stream",
          "text": [
            "[[223  38]\n",
            " [ 38 249]]\n"
          ],
          "name": "stdout"
        }
      ]
    },
    {
      "cell_type": "code",
      "metadata": {
        "id": "H6eDOV-KoBwj",
        "colab_type": "code",
        "colab": {}
      },
      "source": [
        ""
      ],
      "execution_count": 419,
      "outputs": []
    },
    {
      "cell_type": "markdown",
      "metadata": {
        "id": "BS4PbU6qoYfx",
        "colab_type": "text"
      },
      "source": [
        "##Importancia de las variables"
      ]
    },
    {
      "cell_type": "code",
      "metadata": {
        "id": "dvE3XPZso60o",
        "colab_type": "code",
        "colab": {}
      },
      "source": [
        "importancia = list(modelo.feature_importances_)"
      ],
      "execution_count": 420,
      "outputs": []
    },
    {
      "cell_type": "code",
      "metadata": {
        "id": "kaDNxbsmpADg",
        "colab_type": "code",
        "colab": {
          "base_uri": "https://localhost:8080/",
          "height": 612
        },
        "outputId": "2ca08385-df41-4611-ee4d-2b656bce9152"
      },
      "source": [
        "for i in range(len(importancia)):\n",
        "  print(f'{i+1}.- Variable: {train.columns[i+1]} Importancia: {importancia[i]}')"
      ],
      "execution_count": 422,
      "outputs": [
        {
          "output_type": "stream",
          "text": [
            "1.- Variable: Movimiento (t) Importancia: 0.40801108705088307\n",
            "2.- Variable: Edad del empleado Importancia: 0.4424077939436795\n",
            "3.- Variable: Eficiencia (bin) Importancia: 0.051212800578259096\n",
            "4.- Variable: ADMINISTRACION SUPTCIA PLANTAS Importancia: 0.0031791644476806815\n",
            "5.- Variable: ALJIBES MLC Importancia: 0.0014625429163027729\n",
            "6.- Variable: CAMIONES CAT 793F MLC Importancia: 0.0039411380275277555\n",
            "7.- Variable: CAMIONES KOMATSU 830E MLC Importancia: 0.002242574081578229\n",
            "8.- Variable: CARGADORES FRONTALES MLC Importancia: 0.0016838926316783142\n",
            "9.- Variable: GEOLOGIA DE PRODUCCION Importancia: 0.0018808751304829172\n",
            "10.- Variable: INGENIERIA DE PROCESOS Importancia: 0.0015360740835802364\n",
            "11.- Variable: MANTENIMIENTO MINA Importancia: 0.0036340679636441852\n",
            "12.- Variable: MOTONIVELADORAS MLC Importancia: 0.004323253952847291\n",
            "13.- Variable: PALAS HIDRAULICAS MLC Importancia: 0.0012248866229973236\n",
            "14.- Variable: PLANIFICACION MANTTO. MINA Importancia: 0.0013191936263015078\n",
            "15.- Variable: SERVICIO SOCIAL VHUASCO Importancia: 0.003468697039199127\n",
            "16.- Variable: SISTEMAS DE CONTROL Y POTENCIA Importancia: 0.0\n",
            "17.- Variable: TRACTORES NEUMATICOS MLC Importancia: 0.002089612182188737\n",
            "18.- Variable: TRACTORES ORUGA MLC Importancia: 0.0027482955007418946\n",
            "19.- Variable: ASISTENTE GEOLOGIA Importancia: 0.0018757894869099881\n",
            "20.- Variable: AYUDANTE ADMINISTRATIVO Importancia: 0.002657408135783555\n",
            "21.- Variable: CONTROLADOR PLANIFICACION Importancia: 0.001192822084940594\n",
            "22.- Variable: ELECTRICO I Importancia: 0.005695158718407979\n",
            "23.- Variable: ELECTRICO III Importancia: 0.0027349050770940934\n",
            "24.- Variable: INGENIERO DE PROCESOS Importancia: 0.0011200752377708487\n",
            "25.- Variable: JEFE SISTEMAS DE CONTROL Y POTENCIA Importancia: 0.0\n",
            "26.- Variable: MECANICO I Importancia: 0.0034311206659729653\n",
            "27.- Variable: MECANICO III Importancia: 0.0038703896991206647\n",
            "28.- Variable: OPERADOR ELECTRICO II PLANTA Importancia: 0.004011947023328847\n",
            "29.- Variable: OPERADOR I Importancia: 0.003484864506316661\n",
            "30.- Variable: OPERADOR II Importancia: 0.004405235837938403\n",
            "31.- Variable: OPERADOR III Importancia: 0.004678959928497754\n",
            "32.- Variable: OPERADOR MECANICO III PLANTA Importancia: 0.0066051556307484055\n",
            "33.- Variable: PLANIFICADOR MANTENIMIENTO MINA Importancia: 0.00194933007377006\n",
            "34.- Variable: 1 Importancia: 0.007960614905612041\n",
            "35.- Variable: 2 Importancia: 0.007960273208214394\n"
          ],
          "name": "stdout"
        }
      ]
    },
    {
      "cell_type": "code",
      "metadata": {
        "id": "sLH2I5mHqqXM",
        "colab_type": "code",
        "colab": {}
      },
      "source": [
        ""
      ],
      "execution_count": null,
      "outputs": []
    }
  ]
}