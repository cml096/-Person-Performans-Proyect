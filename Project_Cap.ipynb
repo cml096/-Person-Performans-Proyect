{
  "nbformat": 4,
  "nbformat_minor": 0,
  "metadata": {
    "colab": {
      "name": "Project_Cap.ipynb",
      "provenance": [],
      "toc_visible": true,
      "authorship_tag": "ABX9TyM8BeN4k31JBreuIs0lUyFb",
      "include_colab_link": true
    },
    "kernelspec": {
      "name": "python3",
      "display_name": "Python 3"
    }
  },
  "cells": [
    {
      "cell_type": "markdown",
      "metadata": {
        "id": "view-in-github",
        "colab_type": "text"
      },
      "source": [
        "<a href=\"https://colab.research.google.com/github/cml096/GoogleColabRepo/blob/master/Project_Cap.ipynb\" target=\"_parent\"><img src=\"https://colab.research.google.com/assets/colab-badge.svg\" alt=\"Open In Colab\"/></a>"
      ]
    },
    {
      "cell_type": "code",
      "metadata": {
        "id": "bfjRMmOi_4zY",
        "colab_type": "code",
        "colab": {}
      },
      "source": [
        "import pandas as pd\n",
        "import numpy as np\n",
        "import matplotlib.pyplot as plt\n",
        "import seaborn as sns; sns.set()"
      ],
      "execution_count": 258,
      "outputs": []
    },
    {
      "cell_type": "code",
      "metadata": {
        "id": "lOoAro9AAeYm",
        "colab_type": "code",
        "colab": {}
      },
      "source": [
        "df = pd.read_excel('Rendimiento CMP V2.xlsx', sheet_name='MinaMLC')"
      ],
      "execution_count": 259,
      "outputs": []
    },
    {
      "cell_type": "markdown",
      "metadata": {
        "id": "mnml7k7xDO3x",
        "colab_type": "text"
      },
      "source": [
        "#Preparando Data"
      ]
    },
    {
      "cell_type": "markdown",
      "metadata": {
        "id": "Ydy1pKXbJENh",
        "colab_type": "text"
      },
      "source": [
        "##Filtro"
      ]
    },
    {
      "cell_type": "code",
      "metadata": {
        "id": "oeqeTKI6An_b",
        "colab_type": "code",
        "colab": {}
      },
      "source": [
        "df_ = df[df['División de personal'] == 'CMP VALLE DEL HUASCO']"
      ],
      "execution_count": 260,
      "outputs": []
    },
    {
      "cell_type": "code",
      "metadata": {
        "id": "JMYxllHkAyZm",
        "colab_type": "code",
        "colab": {}
      },
      "source": [
        "df_test_minera_colorado = df_[df_['Subdivisión de personal'] == 'MINA LOS COLORA']"
      ],
      "execution_count": 261,
      "outputs": []
    },
    {
      "cell_type": "markdown",
      "metadata": {
        "id": "ZobQtfMTCTA4",
        "colab_type": "text"
      },
      "source": [
        "##Variables no utilizables"
      ]
    },
    {
      "cell_type": "code",
      "metadata": {
        "id": "MdJOzeeLORIi",
        "colab_type": "code",
        "colab": {}
      },
      "source": [
        "df_ = df_test_minera_colorado"
      ],
      "execution_count": 262,
      "outputs": []
    },
    {
      "cell_type": "code",
      "metadata": {
        "id": "so1DVpxDCYMj",
        "colab_type": "code",
        "colab": {}
      },
      "source": [
        "filtro = ['R-ef (t/h)',\n",
        "          'División de personal',\n",
        "          'Cod. División',\n",
        "          'Subdivisión de personal',\n",
        "          'Cod. Subdivisión',\n",
        "          'Cod. Unidad',\n",
        "          'Cod. Posición',\n",
        "          'Fecha de nacimiento',\n",
        "          'Fecha de alta',\n",
        "          'Status empleado para Gestión tiempos per',\n",
        "          'Grupo de personal']"
      ],
      "execution_count": 263,
      "outputs": []
    },
    {
      "cell_type": "code",
      "metadata": {
        "id": "9MTspI-pA8t9",
        "colab_type": "code",
        "colab": {}
      },
      "source": [
        "df_.drop(filtro,axis=1,inplace=True)"
      ],
      "execution_count": 264,
      "outputs": []
    },
    {
      "cell_type": "markdown",
      "metadata": {
        "id": "lCD_A-nDJK7d",
        "colab_type": "text"
      },
      "source": [
        "##Divición \"Fecha\""
      ]
    },
    {
      "cell_type": "markdown",
      "metadata": {
        "id": "pP9hln0KEVHu",
        "colab_type": "text"
      },
      "source": [
        "Cambiamos nombre columna \"Dia\" por \"Fecha\""
      ]
    },
    {
      "cell_type": "code",
      "metadata": {
        "id": "Puep8M1IEaKo",
        "colab_type": "code",
        "colab": {}
      },
      "source": [
        "df_ = df_.rename(columns={'Dia':'Fecha'})"
      ],
      "execution_count": 265,
      "outputs": []
    },
    {
      "cell_type": "markdown",
      "metadata": {
        "id": "IUN9cem0DtGN",
        "colab_type": "text"
      },
      "source": [
        "Divición de la variable \"Fecha\""
      ]
    },
    {
      "cell_type": "code",
      "metadata": {
        "id": "QK1n8qAzDoIF",
        "colab_type": "code",
        "colab": {}
      },
      "source": [
        "def dia(fecha):\n",
        "  aux = str(fecha.date()).split('-')\n",
        "  dia = str(aux[2])\n",
        "  return dia\n",
        "\n",
        "def mes(fecha):\n",
        "  aux = str(fecha.date()).split('-')\n",
        "  mes = str(aux[1])\n",
        "  return mes\n",
        "\n",
        "def ano(fecha):\n",
        "  aux = str(fecha.date()).split('-')\n",
        "  ano = str(aux[0])\n",
        "  return ano"
      ],
      "execution_count": 266,
      "outputs": []
    },
    {
      "cell_type": "markdown",
      "metadata": {
        "id": "kVJvroYrD5am",
        "colab_type": "text"
      },
      "source": [
        "Anexamos columna \"Dia\", \"Mes\" y \"Año\""
      ]
    },
    {
      "cell_type": "code",
      "metadata": {
        "id": "OMbw02jQD4lX",
        "colab_type": "code",
        "colab": {}
      },
      "source": [
        "df_['Dia'] = df_.apply(lambda row : dia(row['Fecha']),axis=1)\n",
        "df_['Mes'] = df_.apply(lambda row : mes(row['Fecha']),axis=1)\n",
        "df_['Año'] = df_.apply(lambda row : ano(row['Fecha']),axis=1)"
      ],
      "execution_count": 267,
      "outputs": []
    },
    {
      "cell_type": "markdown",
      "metadata": {
        "id": "qms9V5O-U-FM",
        "colab_type": "text"
      },
      "source": [
        "##Columna \"Turno\", \"Equipo\", \"Número de personal\" y \"Fecha\""
      ]
    },
    {
      "cell_type": "code",
      "metadata": {
        "id": "wQu9QYGlVD93",
        "colab_type": "code",
        "colab": {}
      },
      "source": [
        "df_['Turno'] = df_['Turno'].astype(str)"
      ],
      "execution_count": 268,
      "outputs": []
    },
    {
      "cell_type": "code",
      "metadata": {
        "id": "kXh7pxcjZHxY",
        "colab_type": "code",
        "colab": {}
      },
      "source": [
        "df_['Equipo'] = df_['Equipo'].astype(str)"
      ],
      "execution_count": 269,
      "outputs": []
    },
    {
      "cell_type": "code",
      "metadata": {
        "id": "PtR8tcjWFWXW",
        "colab_type": "code",
        "colab": {}
      },
      "source": [
        "df_['Número de personal'] = df_['Número de personal'].astype(str)"
      ],
      "execution_count": 270,
      "outputs": []
    },
    {
      "cell_type": "code",
      "metadata": {
        "id": "24fsG0PbGlGi",
        "colab_type": "code",
        "colab": {}
      },
      "source": [
        "df_['Fecha'] = df_['Fecha'].astype(str)"
      ],
      "execution_count": 271,
      "outputs": []
    },
    {
      "cell_type": "markdown",
      "metadata": {
        "id": "b-1ZWp5rJQMU",
        "colab_type": "text"
      },
      "source": [
        "## \"Eficiencia\""
      ]
    },
    {
      "cell_type": "markdown",
      "metadata": {
        "id": "riFjrzkBqOSq",
        "colab_type": "text"
      },
      "source": [
        "Esta eficiencia se ocupara para gráficas e análisis del comportamiento de dicha variables para sacar estimados que nos ayudaran a calcular la próxima variable"
      ]
    },
    {
      "cell_type": "code",
      "metadata": {
        "id": "VPnDWwfLW4WC",
        "colab_type": "code",
        "colab": {}
      },
      "source": [
        "filtro = ['Fecha','Turno','Cargas (u)','Movimiento (t)','tdem (seg)','Edad del empleado','Equipo']\n",
        "df_aux = df_.drop(filtro, axis=1)"
      ],
      "execution_count": 272,
      "outputs": []
    },
    {
      "cell_type": "markdown",
      "metadata": {
        "id": "Gez3gzN3Jiw8",
        "colab_type": "text"
      },
      "source": [
        "Agrupamos por \"unidad organizativa\" y lo almacenamos en un data frame"
      ]
    },
    {
      "cell_type": "code",
      "metadata": {
        "id": "A4beub7RCKxv",
        "colab_type": "code",
        "colab": {}
      },
      "source": [
        "group = df_aux.groupby(['Unidad organizativa']).max()\n",
        "df_group = pd.DataFrame(group)"
      ],
      "execution_count": 273,
      "outputs": []
    },
    {
      "cell_type": "code",
      "metadata": {
        "id": "FKGDm6mCaeRC",
        "colab_type": "code",
        "colab": {}
      },
      "source": [
        "#df_group"
      ],
      "execution_count": 274,
      "outputs": []
    },
    {
      "cell_type": "markdown",
      "metadata": {
        "id": "0L2OQju5Jlpy",
        "colab_type": "text"
      },
      "source": [
        "Creamos un array que contiene las tefe max de cada Unidad organizativa"
      ]
    },
    {
      "cell_type": "code",
      "metadata": {
        "id": "2OU0K21gRa-9",
        "colab_type": "code",
        "colab": {}
      },
      "source": [
        "def genera(data,filto):\n",
        "  lista = []\n",
        "  for index, row in data.iterrows():\n",
        "    valor = row[filtro]\n",
        "    lista.append([index,valor])\n",
        "  return lista"
      ],
      "execution_count": 275,
      "outputs": []
    },
    {
      "cell_type": "code",
      "metadata": {
        "id": "d41Yi2QDHQTQ",
        "colab_type": "code",
        "colab": {}
      },
      "source": [
        "filtro = ['tefe (seg)']\n",
        "max_por_unidad = genera(df_group,filtro)"
      ],
      "execution_count": 276,
      "outputs": []
    },
    {
      "cell_type": "markdown",
      "metadata": {
        "id": "GZH-_ZQCJx7q",
        "colab_type": "text"
      },
      "source": [
        "Agregamos la columna \"Eficiencia\" que generaremos con la fórmula\n",
        "* (tefe x c/a tupla)*100/tefe_max = porcentaje de eficiencia en dicho día"
      ]
    },
    {
      "cell_type": "code",
      "metadata": {
        "id": "lwB2VZxESM05",
        "colab_type": "code",
        "colab": {}
      },
      "source": [
        "def rellena(data,lista,filtro):\n",
        "  aux = []\n",
        "  for index, row in data.iterrows():\n",
        "    unidad = row['Unidad organizativa']\n",
        "    valor = row[filtro]\n",
        "    for unidad_max,valor_max in lista:\n",
        "      if unidad == unidad_max:\n",
        "        if float(valor_max.values) == 0:\n",
        "          aux.append(0.0)\n",
        "        else:\n",
        "          resultado = (valor)/valor_max\n",
        "          aux.append(float(resultado.values))\n",
        "  return aux"
      ],
      "execution_count": 277,
      "outputs": []
    },
    {
      "cell_type": "code",
      "metadata": {
        "id": "PsM0ane-HC2A",
        "colab_type": "code",
        "colab": {}
      },
      "source": [
        "eficiencia = rellena(df_,max_por_unidad,filtro)"
      ],
      "execution_count": 278,
      "outputs": []
    },
    {
      "cell_type": "markdown",
      "metadata": {
        "id": "xN29jN0HJ24C",
        "colab_type": "text"
      },
      "source": [
        "Le agregamos una columna al data frame"
      ]
    },
    {
      "cell_type": "code",
      "metadata": {
        "id": "MHsQH7VSHEvV",
        "colab_type": "code",
        "colab": {}
      },
      "source": [
        "df_['Eficiencia'] = eficiencia"
      ],
      "execution_count": 279,
      "outputs": []
    },
    {
      "cell_type": "markdown",
      "metadata": {
        "id": "q8kaHf9QL9Tw",
        "colab_type": "text"
      },
      "source": [
        "### \"Eficiencia (bin)\""
      ]
    },
    {
      "cell_type": "markdown",
      "metadata": {
        "id": "LrQR8VgsqpqT",
        "colab_type": "text"
      },
      "source": [
        "Variable que será asignada al campo y, variable a predecir"
      ]
    },
    {
      "cell_type": "code",
      "metadata": {
        "id": "4vZcw2hopCdm",
        "colab_type": "code",
        "colab": {}
      },
      "source": [
        "group = df_aux.groupby(['Unidad organizativa']).median()\n",
        "df_group = pd.DataFrame(group)"
      ],
      "execution_count": 280,
      "outputs": []
    },
    {
      "cell_type": "code",
      "metadata": {
        "id": "TkuwM2RupC6w",
        "colab_type": "code",
        "colab": {}
      },
      "source": [
        "media_por_unidad = genera(df_group,filtro)"
      ],
      "execution_count": 281,
      "outputs": []
    },
    {
      "cell_type": "markdown",
      "metadata": {
        "id": "fZMZWbL-ICtW",
        "colab_type": "text"
      },
      "source": [
        "Generaremos una función la cual será la encargada de rellenar un arreglo de 1 y 0 el cual lo retornara, acá compararemos cada tefe (seg) en x unidad organizativa con la mediana tefe (seg) pro cada unidad sacada anteriormente."
      ]
    },
    {
      "cell_type": "code",
      "metadata": {
        "id": "QJx9wUVZS5_m",
        "colab_type": "code",
        "colab": {}
      },
      "source": [
        "def rellena_binaria(data,lista,filtro):\n",
        "  aux = []\n",
        "  for index, row in data.iterrows():\n",
        "    unidad = row['Unidad organizativa']\n",
        "    valor = row[filtro].values\n",
        "    for unidad_median,valor_median in lista:\n",
        "      valor_median = valor_median.values\n",
        "      if unidad == unidad_median:\n",
        "        if valor >= valor_median:\n",
        "          aux.append(1)\n",
        "        elif valor < valor_median:\n",
        "          aux.append(0)\n",
        "  return aux"
      ],
      "execution_count": 282,
      "outputs": []
    },
    {
      "cell_type": "code",
      "metadata": {
        "id": "j4eZdXp6TX5v",
        "colab_type": "code",
        "colab": {}
      },
      "source": [
        "eficiencia_binaria = rellena_binaria(df_,media_por_unidad,filtro)"
      ],
      "execution_count": 283,
      "outputs": []
    },
    {
      "cell_type": "code",
      "metadata": {
        "id": "kRHAppHITnfb",
        "colab_type": "code",
        "colab": {}
      },
      "source": [
        "df_['Eficiencia (bin)'] = eficiencia_binaria"
      ],
      "execution_count": 284,
      "outputs": []
    },
    {
      "cell_type": "markdown",
      "metadata": {
        "id": "5bL3myvIJAcR",
        "colab_type": "text"
      },
      "source": [
        "##\"Demora\""
      ]
    },
    {
      "cell_type": "code",
      "metadata": {
        "id": "x4QnFICgKa55",
        "colab_type": "code",
        "colab": {}
      },
      "source": [
        "filtro = ['Fecha','Turno','Cargas (u)','Movimiento (t)','tefe (seg)','Edad del empleado','Equipo','Eficiencia (bin)','Eficiencia']\n",
        "df_aux = df_.drop(filtro, axis=1)"
      ],
      "execution_count": 285,
      "outputs": []
    },
    {
      "cell_type": "markdown",
      "metadata": {
        "id": "agHX9d0uMJtZ",
        "colab_type": "text"
      },
      "source": [
        "agrupamos por unidad organizativa y calculamos la maxima tdem (seg)"
      ]
    },
    {
      "cell_type": "code",
      "metadata": {
        "id": "lCuCDeWbL4Mc",
        "colab_type": "code",
        "colab": {}
      },
      "source": [
        "group = df_aux.groupby(['Unidad organizativa']).max()\n",
        "df_group = pd.DataFrame(group)"
      ],
      "execution_count": 286,
      "outputs": []
    },
    {
      "cell_type": "code",
      "metadata": {
        "id": "VCaz9AKWbBdT",
        "colab_type": "code",
        "colab": {}
      },
      "source": [
        "#df_group"
      ],
      "execution_count": 287,
      "outputs": []
    },
    {
      "cell_type": "code",
      "metadata": {
        "id": "d7YL9T8RKh6d",
        "colab_type": "code",
        "colab": {}
      },
      "source": [
        "filtro = ['tdem (seg)']\n",
        "max_por_unidad = genera(df_group,filtro)"
      ],
      "execution_count": 288,
      "outputs": []
    },
    {
      "cell_type": "code",
      "metadata": {
        "id": "Uxz5b9lyMZKm",
        "colab_type": "code",
        "colab": {}
      },
      "source": [
        "demora = rellena(df_,max_por_unidad,filtro)"
      ],
      "execution_count": 289,
      "outputs": []
    },
    {
      "cell_type": "code",
      "metadata": {
        "id": "mKN9OjzgMVbf",
        "colab_type": "code",
        "colab": {}
      },
      "source": [
        "df_['Demora'] = demora"
      ],
      "execution_count": 290,
      "outputs": []
    },
    {
      "cell_type": "markdown",
      "metadata": {
        "id": "zme3dvCuXYaI",
        "colab_type": "text"
      },
      "source": [
        "###\"Demora (bin)\""
      ]
    },
    {
      "cell_type": "code",
      "metadata": {
        "id": "L3Sm-S4tsnqC",
        "colab_type": "code",
        "colab": {}
      },
      "source": [
        "group = df_aux.groupby(['Unidad organizativa']).median()\n",
        "df_group = pd.DataFrame(group)"
      ],
      "execution_count": 291,
      "outputs": []
    },
    {
      "cell_type": "code",
      "metadata": {
        "id": "W5XS1iGYsnUh",
        "colab_type": "code",
        "colab": {}
      },
      "source": [
        "media_por_unidad = genera(df_group,filtro)"
      ],
      "execution_count": 292,
      "outputs": []
    },
    {
      "cell_type": "markdown",
      "metadata": {
        "id": "cMeNBSpccIa6",
        "colab_type": "text"
      },
      "source": [
        "Llamamos a la función rellena_binaria() que nos retornara un array relleno de 1 y 0.\n",
        "\n",
        "\n",
        "*   1 si se cumple\n",
        "*   0 si no\n",
        "\n"
      ]
    },
    {
      "cell_type": "code",
      "metadata": {
        "id": "2uwsU-8kXdxH",
        "colab_type": "code",
        "colab": {}
      },
      "source": [
        "demora_binaria = rellena_binaria(df_,media_por_unidad,filtro)"
      ],
      "execution_count": 293,
      "outputs": []
    },
    {
      "cell_type": "code",
      "metadata": {
        "id": "VXUAqMlzbzxx",
        "colab_type": "code",
        "colab": {}
      },
      "source": [
        "df_['Demora (bin)'] = demora_binaria"
      ],
      "execution_count": 294,
      "outputs": []
    },
    {
      "cell_type": "markdown",
      "metadata": {
        "id": "-xDzyWKIm7Ak",
        "colab_type": "text"
      },
      "source": [
        "##Estandarizar"
      ]
    },
    {
      "cell_type": "code",
      "metadata": {
        "id": "wJucXSmbt6S1",
        "colab_type": "code",
        "colab": {}
      },
      "source": [
        "from sklearn.preprocessing import StandardScaler"
      ],
      "execution_count": 295,
      "outputs": []
    },
    {
      "cell_type": "code",
      "metadata": {
        "id": "uUcbriIDnATQ",
        "colab_type": "code",
        "colab": {}
      },
      "source": [
        "filtro = ['Cargas (u)','Movimiento (t)','Edad del empleado']\n",
        "aux = df_[filtro]\n",
        "scaled = pd.DataFrame(StandardScaler().fit_transform(aux), columns= aux.columns)"
      ],
      "execution_count": 296,
      "outputs": []
    },
    {
      "cell_type": "code",
      "metadata": {
        "id": "kLQr8u6v39Gf",
        "colab_type": "code",
        "colab": {}
      },
      "source": [
        "aux = df_.drop(filtro,axis=1)\n",
        "\n",
        "scaled.reset_index(drop=True, inplace=True)\n",
        "aux.reset_index(drop=True, inplace=True)\n",
        "\n",
        "df_scaled = pd.concat([aux,scaled],axis=1)"
      ],
      "execution_count": 297,
      "outputs": []
    },
    {
      "cell_type": "markdown",
      "metadata": {
        "id": "rY2w9jZ0aot_",
        "colab_type": "text"
      },
      "source": [
        "##Data a ocupar"
      ]
    },
    {
      "cell_type": "code",
      "metadata": {
        "id": "zvu0cobYatY1",
        "colab_type": "code",
        "colab": {
          "base_uri": "https://localhost:8080/",
          "height": 442
        },
        "outputId": "d40fbc8a-83d3-4b04-dfb8-d6c70540e1d9"
      },
      "source": [
        "df_scaled.info()"
      ],
      "execution_count": 298,
      "outputs": [
        {
          "output_type": "stream",
          "text": [
            "<class 'pandas.core.frame.DataFrame'>\n",
            "RangeIndex: 1825 entries, 0 to 1824\n",
            "Data columns (total 18 columns):\n",
            " #   Column               Non-Null Count  Dtype  \n",
            "---  ------               --------------  -----  \n",
            " 0   Fecha                1825 non-null   object \n",
            " 1   Turno                1825 non-null   object \n",
            " 2   Equipo               1825 non-null   object \n",
            " 3   tefe (seg)           1825 non-null   int64  \n",
            " 4   tdem (seg)           1825 non-null   int64  \n",
            " 5   Número de personal   1825 non-null   object \n",
            " 6   Unidad organizativa  1825 non-null   object \n",
            " 7   Posición             1825 non-null   object \n",
            " 8   Dia                  1825 non-null   object \n",
            " 9   Mes                  1825 non-null   object \n",
            " 10  Año                  1825 non-null   object \n",
            " 11  Eficiencia           1825 non-null   float64\n",
            " 12  Eficiencia (bin)     1825 non-null   int64  \n",
            " 13  Demora               1825 non-null   float64\n",
            " 14  Demora (bin)         1825 non-null   int64  \n",
            " 15  Cargas (u)           1825 non-null   float64\n",
            " 16  Movimiento (t)       1825 non-null   float64\n",
            " 17  Edad del empleado    1825 non-null   float64\n",
            "dtypes: float64(5), int64(4), object(9)\n",
            "memory usage: 256.8+ KB\n"
          ],
          "name": "stdout"
        }
      ]
    },
    {
      "cell_type": "code",
      "metadata": {
        "id": "moyMI-nGrhzf",
        "colab_type": "code",
        "colab": {
          "base_uri": "https://localhost:8080/",
          "height": 314
        },
        "outputId": "490a185c-2dbb-4938-81e3-62aaac67e2d2"
      },
      "source": [
        "df_scaled.describe()"
      ],
      "execution_count": 299,
      "outputs": [
        {
          "output_type": "execute_result",
          "data": {
            "text/html": [
              "<div>\n",
              "<style scoped>\n",
              "    .dataframe tbody tr th:only-of-type {\n",
              "        vertical-align: middle;\n",
              "    }\n",
              "\n",
              "    .dataframe tbody tr th {\n",
              "        vertical-align: top;\n",
              "    }\n",
              "\n",
              "    .dataframe thead th {\n",
              "        text-align: right;\n",
              "    }\n",
              "</style>\n",
              "<table border=\"1\" class=\"dataframe\">\n",
              "  <thead>\n",
              "    <tr style=\"text-align: right;\">\n",
              "      <th></th>\n",
              "      <th>tefe (seg)</th>\n",
              "      <th>tdem (seg)</th>\n",
              "      <th>Eficiencia</th>\n",
              "      <th>Eficiencia (bin)</th>\n",
              "      <th>Demora</th>\n",
              "      <th>Demora (bin)</th>\n",
              "      <th>Cargas (u)</th>\n",
              "      <th>Movimiento (t)</th>\n",
              "      <th>Edad del empleado</th>\n",
              "    </tr>\n",
              "  </thead>\n",
              "  <tbody>\n",
              "    <tr>\n",
              "      <th>count</th>\n",
              "      <td>1825.000000</td>\n",
              "      <td>1825.000000</td>\n",
              "      <td>1825.000000</td>\n",
              "      <td>1825.000000</td>\n",
              "      <td>1825.000000</td>\n",
              "      <td>1825.000000</td>\n",
              "      <td>1.825000e+03</td>\n",
              "      <td>1.825000e+03</td>\n",
              "      <td>1.825000e+03</td>\n",
              "    </tr>\n",
              "    <tr>\n",
              "      <th>mean</th>\n",
              "      <td>21772.320548</td>\n",
              "      <td>1919.663014</td>\n",
              "      <td>0.539415</td>\n",
              "      <td>0.501918</td>\n",
              "      <td>0.168630</td>\n",
              "      <td>0.503562</td>\n",
              "      <td>-3.650048e-17</td>\n",
              "      <td>1.030530e-16</td>\n",
              "      <td>4.127596e-16</td>\n",
              "    </tr>\n",
              "    <tr>\n",
              "      <th>std</th>\n",
              "      <td>10993.633877</td>\n",
              "      <td>2041.227485</td>\n",
              "      <td>0.272621</td>\n",
              "      <td>0.500133</td>\n",
              "      <td>0.183135</td>\n",
              "      <td>0.500124</td>\n",
              "      <td>1.000274e+00</td>\n",
              "      <td>1.000274e+00</td>\n",
              "      <td>1.000274e+00</td>\n",
              "    </tr>\n",
              "    <tr>\n",
              "      <th>min</th>\n",
              "      <td>137.000000</td>\n",
              "      <td>0.000000</td>\n",
              "      <td>0.003304</td>\n",
              "      <td>0.000000</td>\n",
              "      <td>0.000000</td>\n",
              "      <td>0.000000</td>\n",
              "      <td>-1.541655e+00</td>\n",
              "      <td>-1.539155e+00</td>\n",
              "      <td>-1.682677e+00</td>\n",
              "    </tr>\n",
              "    <tr>\n",
              "      <th>25%</th>\n",
              "      <td>12797.000000</td>\n",
              "      <td>472.000000</td>\n",
              "      <td>0.319562</td>\n",
              "      <td>0.000000</td>\n",
              "      <td>0.037751</td>\n",
              "      <td>0.000000</td>\n",
              "      <td>-8.208556e-01</td>\n",
              "      <td>-8.153912e-01</td>\n",
              "      <td>-9.933453e-01</td>\n",
              "    </tr>\n",
              "    <tr>\n",
              "      <th>50%</th>\n",
              "      <td>22504.000000</td>\n",
              "      <td>1341.000000</td>\n",
              "      <td>0.547570</td>\n",
              "      <td>1.000000</td>\n",
              "      <td>0.113754</td>\n",
              "      <td>1.000000</td>\n",
              "      <td>-1.000562e-01</td>\n",
              "      <td>-9.836510e-02</td>\n",
              "      <td>2.129845e-01</td>\n",
              "    </tr>\n",
              "    <tr>\n",
              "      <th>75%</th>\n",
              "      <td>31629.000000</td>\n",
              "      <td>2716.000000</td>\n",
              "      <td>0.788964</td>\n",
              "      <td>1.000000</td>\n",
              "      <td>0.240643</td>\n",
              "      <td>1.000000</td>\n",
              "      <td>6.928232e-01</td>\n",
              "      <td>6.566728e-01</td>\n",
              "      <td>9.884822e-01</td>\n",
              "    </tr>\n",
              "    <tr>\n",
              "      <th>max</th>\n",
              "      <td>42586.000000</td>\n",
              "      <td>18235.000000</td>\n",
              "      <td>1.000000</td>\n",
              "      <td>1.000000</td>\n",
              "      <td>1.000000</td>\n",
              "      <td>1.000000</td>\n",
              "      <td>3.551994e+00</td>\n",
              "      <td>3.616645e+00</td>\n",
              "      <td>1.591647e+00</td>\n",
              "    </tr>\n",
              "  </tbody>\n",
              "</table>\n",
              "</div>"
            ],
            "text/plain": [
              "         tefe (seg)    tdem (seg)  ...  Movimiento (t)  Edad del empleado\n",
              "count   1825.000000   1825.000000  ...    1.825000e+03       1.825000e+03\n",
              "mean   21772.320548   1919.663014  ...    1.030530e-16       4.127596e-16\n",
              "std    10993.633877   2041.227485  ...    1.000274e+00       1.000274e+00\n",
              "min      137.000000      0.000000  ...   -1.539155e+00      -1.682677e+00\n",
              "25%    12797.000000    472.000000  ...   -8.153912e-01      -9.933453e-01\n",
              "50%    22504.000000   1341.000000  ...   -9.836510e-02       2.129845e-01\n",
              "75%    31629.000000   2716.000000  ...    6.566728e-01       9.884822e-01\n",
              "max    42586.000000  18235.000000  ...    3.616645e+00       1.591647e+00\n",
              "\n",
              "[8 rows x 9 columns]"
            ]
          },
          "metadata": {
            "tags": []
          },
          "execution_count": 299
        }
      ]
    },
    {
      "cell_type": "code",
      "metadata": {
        "id": "RMr6szyta5S3",
        "colab_type": "code",
        "colab": {
          "base_uri": "https://localhost:8080/",
          "height": 360
        },
        "outputId": "45590e91-d71c-4a59-c0fa-f7d3d297cba4"
      },
      "source": [
        "df_scaled.head()"
      ],
      "execution_count": 300,
      "outputs": [
        {
          "output_type": "execute_result",
          "data": {
            "text/html": [
              "<div>\n",
              "<style scoped>\n",
              "    .dataframe tbody tr th:only-of-type {\n",
              "        vertical-align: middle;\n",
              "    }\n",
              "\n",
              "    .dataframe tbody tr th {\n",
              "        vertical-align: top;\n",
              "    }\n",
              "\n",
              "    .dataframe thead th {\n",
              "        text-align: right;\n",
              "    }\n",
              "</style>\n",
              "<table border=\"1\" class=\"dataframe\">\n",
              "  <thead>\n",
              "    <tr style=\"text-align: right;\">\n",
              "      <th></th>\n",
              "      <th>Fecha</th>\n",
              "      <th>Turno</th>\n",
              "      <th>Equipo</th>\n",
              "      <th>tefe (seg)</th>\n",
              "      <th>tdem (seg)</th>\n",
              "      <th>Número de personal</th>\n",
              "      <th>Unidad organizativa</th>\n",
              "      <th>Posición</th>\n",
              "      <th>Dia</th>\n",
              "      <th>Mes</th>\n",
              "      <th>Año</th>\n",
              "      <th>Eficiencia</th>\n",
              "      <th>Eficiencia (bin)</th>\n",
              "      <th>Demora</th>\n",
              "      <th>Demora (bin)</th>\n",
              "      <th>Cargas (u)</th>\n",
              "      <th>Movimiento (t)</th>\n",
              "      <th>Edad del empleado</th>\n",
              "    </tr>\n",
              "  </thead>\n",
              "  <tbody>\n",
              "    <tr>\n",
              "      <th>0</th>\n",
              "      <td>2019-07-01</td>\n",
              "      <td>2</td>\n",
              "      <td>211</td>\n",
              "      <td>21517</td>\n",
              "      <td>814</td>\n",
              "      <td>20002787</td>\n",
              "      <td>MANTENIMIENTO MINA</td>\n",
              "      <td>ELECTRICO III</td>\n",
              "      <td>01</td>\n",
              "      <td>07</td>\n",
              "      <td>2019</td>\n",
              "      <td>0.505260</td>\n",
              "      <td>0</td>\n",
              "      <td>0.058532</td>\n",
              "      <td>0</td>\n",
              "      <td>0.668797</td>\n",
              "      <td>0.625564</td>\n",
              "      <td>-1.424177</td>\n",
              "    </tr>\n",
              "    <tr>\n",
              "      <th>1</th>\n",
              "      <td>2019-07-01</td>\n",
              "      <td>2</td>\n",
              "      <td>213</td>\n",
              "      <td>5593</td>\n",
              "      <td>367</td>\n",
              "      <td>20000875</td>\n",
              "      <td>MANTENIMIENTO MINA</td>\n",
              "      <td>MECANICO I</td>\n",
              "      <td>01</td>\n",
              "      <td>07</td>\n",
              "      <td>2019</td>\n",
              "      <td>0.131334</td>\n",
              "      <td>0</td>\n",
              "      <td>0.026390</td>\n",
              "      <td>0</td>\n",
              "      <td>-1.277362</td>\n",
              "      <td>-1.268354</td>\n",
              "      <td>0.729983</td>\n",
              "    </tr>\n",
              "    <tr>\n",
              "      <th>2</th>\n",
              "      <td>2019-07-01</td>\n",
              "      <td>2</td>\n",
              "      <td>307</td>\n",
              "      <td>35320</td>\n",
              "      <td>2801</td>\n",
              "      <td>20001014</td>\n",
              "      <td>ADMINISTRACION SUPTCIA PLANTAS</td>\n",
              "      <td>OPERADOR ELECTRICO II PLANTA</td>\n",
              "      <td>01</td>\n",
              "      <td>07</td>\n",
              "      <td>2019</td>\n",
              "      <td>0.917188</td>\n",
              "      <td>1</td>\n",
              "      <td>0.197434</td>\n",
              "      <td>1</td>\n",
              "      <td>0.836983</td>\n",
              "      <td>0.853396</td>\n",
              "      <td>1.419314</td>\n",
              "    </tr>\n",
              "    <tr>\n",
              "      <th>3</th>\n",
              "      <td>2019-07-02</td>\n",
              "      <td>1</td>\n",
              "      <td>211</td>\n",
              "      <td>37283</td>\n",
              "      <td>960</td>\n",
              "      <td>20004895</td>\n",
              "      <td>CAMIONES CAT 793F MLC</td>\n",
              "      <td>OPERADOR III</td>\n",
              "      <td>02</td>\n",
              "      <td>07</td>\n",
              "      <td>2019</td>\n",
              "      <td>0.904444</td>\n",
              "      <td>1</td>\n",
              "      <td>0.103806</td>\n",
              "      <td>0</td>\n",
              "      <td>1.990262</td>\n",
              "      <td>1.963414</td>\n",
              "      <td>0.212984</td>\n",
              "    </tr>\n",
              "    <tr>\n",
              "      <th>4</th>\n",
              "      <td>2019-07-02</td>\n",
              "      <td>1</td>\n",
              "      <td>213</td>\n",
              "      <td>2962</td>\n",
              "      <td>67</td>\n",
              "      <td>20003278</td>\n",
              "      <td>MANTENIMIENTO MINA</td>\n",
              "      <td>MECANICO III</td>\n",
              "      <td>02</td>\n",
              "      <td>07</td>\n",
              "      <td>2019</td>\n",
              "      <td>0.069553</td>\n",
              "      <td>0</td>\n",
              "      <td>0.004818</td>\n",
              "      <td>0</td>\n",
              "      <td>-1.397495</td>\n",
              "      <td>-1.392686</td>\n",
              "      <td>-1.079512</td>\n",
              "    </tr>\n",
              "  </tbody>\n",
              "</table>\n",
              "</div>"
            ],
            "text/plain": [
              "        Fecha Turno Equipo  ...  Cargas (u)  Movimiento (t) Edad del empleado\n",
              "0  2019-07-01     2    211  ...    0.668797        0.625564         -1.424177\n",
              "1  2019-07-01     2    213  ...   -1.277362       -1.268354          0.729983\n",
              "2  2019-07-01     2    307  ...    0.836983        0.853396          1.419314\n",
              "3  2019-07-02     1    211  ...    1.990262        1.963414          0.212984\n",
              "4  2019-07-02     1    213  ...   -1.397495       -1.392686         -1.079512\n",
              "\n",
              "[5 rows x 18 columns]"
            ]
          },
          "metadata": {
            "tags": []
          },
          "execution_count": 300
        }
      ]
    },
    {
      "cell_type": "markdown",
      "metadata": {
        "colab_type": "text",
        "id": "je6SL8JBDLZY"
      },
      "source": [
        "# Predicción Tefe (seg)"
      ]
    },
    {
      "cell_type": "markdown",
      "metadata": {
        "colab_type": "text",
        "id": "HC_sP6orDLZf"
      },
      "source": [
        "##Regresión Lineal"
      ]
    },
    {
      "cell_type": "markdown",
      "metadata": {
        "colab_type": "text",
        "id": "tALuPVm2DLZg"
      },
      "source": [
        "Importamos y seleccionamos las variables que ocuparemos en el modelo"
      ]
    },
    {
      "cell_type": "code",
      "metadata": {
        "colab_type": "code",
        "id": "3JAsK_2nDLZg",
        "colab": {}
      },
      "source": [
        "from sklearn.model_selection import train_test_split\n",
        "X = df_scaled[['Turno','Equipo','Movimiento (t)','Cargas (u)','Edad del empleado','Número de personal']]\n",
        "y = df_scaled['tefe (seg)']"
      ],
      "execution_count": 56,
      "outputs": []
    },
    {
      "cell_type": "markdown",
      "metadata": {
        "colab_type": "text",
        "id": "Y0GKRyyiDLZo"
      },
      "source": [
        "Creamos la data de entrenamiento y test"
      ]
    },
    {
      "cell_type": "code",
      "metadata": {
        "colab_type": "code",
        "id": "dnXGnnfNDLZp",
        "colab": {}
      },
      "source": [
        "X_train, X_test, y_train, y_test = train_test_split(X, y, test_size=0.4, random_state=42)"
      ],
      "execution_count": 57,
      "outputs": []
    },
    {
      "cell_type": "markdown",
      "metadata": {
        "colab_type": "text",
        "id": "p3H9K1eTDLZr"
      },
      "source": [
        "Importamos el modelo de regresion lineal, creamos la regresion y generamos el .fit con la data de entrenamiento"
      ]
    },
    {
      "cell_type": "code",
      "metadata": {
        "colab_type": "code",
        "id": "hpMlC1wrDLZs",
        "colab": {
          "base_uri": "https://localhost:8080/",
          "height": 34
        },
        "outputId": "bcb19d4d-7a5d-491f-a3cd-0c6c0946e969"
      },
      "source": [
        "from sklearn import linear_model\n",
        "modelo = linear_model.LinearRegression()\n",
        "modelo.fit(X_train,y_train)"
      ],
      "execution_count": 58,
      "outputs": [
        {
          "output_type": "execute_result",
          "data": {
            "text/plain": [
              "LinearRegression(copy_X=True, fit_intercept=True, n_jobs=None, normalize=False)"
            ]
          },
          "metadata": {
            "tags": []
          },
          "execution_count": 58
        }
      ]
    },
    {
      "cell_type": "markdown",
      "metadata": {
        "colab_type": "text",
        "id": "3PAP_uDSDLZv"
      },
      "source": [
        "\n",
        "Predicción con la data de test"
      ]
    },
    {
      "cell_type": "code",
      "metadata": {
        "colab_type": "code",
        "id": "dOP7b8rvDLZw",
        "colab": {}
      },
      "source": [
        "y_pred = modelo.predict(X_test)"
      ],
      "execution_count": 59,
      "outputs": []
    },
    {
      "cell_type": "code",
      "metadata": {
        "colab_type": "code",
        "id": "chNHP2oJDLZy",
        "colab": {
          "base_uri": "https://localhost:8080/",
          "height": 235
        },
        "outputId": "ec132dde-201f-4b17-80de-9680b85805e7"
      },
      "source": [
        "pd.DataFrame(modelo.coef_,X.columns,columns=['Coefficient'])"
      ],
      "execution_count": 60,
      "outputs": [
        {
          "output_type": "execute_result",
          "data": {
            "text/html": [
              "<div>\n",
              "<style scoped>\n",
              "    .dataframe tbody tr th:only-of-type {\n",
              "        vertical-align: middle;\n",
              "    }\n",
              "\n",
              "    .dataframe tbody tr th {\n",
              "        vertical-align: top;\n",
              "    }\n",
              "\n",
              "    .dataframe thead th {\n",
              "        text-align: right;\n",
              "    }\n",
              "</style>\n",
              "<table border=\"1\" class=\"dataframe\">\n",
              "  <thead>\n",
              "    <tr style=\"text-align: right;\">\n",
              "      <th></th>\n",
              "      <th>Coefficient</th>\n",
              "    </tr>\n",
              "  </thead>\n",
              "  <tbody>\n",
              "    <tr>\n",
              "      <th>Turno</th>\n",
              "      <td>-276.530063</td>\n",
              "    </tr>\n",
              "    <tr>\n",
              "      <th>Equipo</th>\n",
              "      <td>82.972208</td>\n",
              "    </tr>\n",
              "    <tr>\n",
              "      <th>Movimiento (t)</th>\n",
              "      <td>-239.366583</td>\n",
              "    </tr>\n",
              "    <tr>\n",
              "      <th>Cargas (u)</th>\n",
              "      <td>11373.973094</td>\n",
              "    </tr>\n",
              "    <tr>\n",
              "      <th>Edad del empleado</th>\n",
              "      <td>-210.356689</td>\n",
              "    </tr>\n",
              "    <tr>\n",
              "      <th>Número de personal</th>\n",
              "      <td>-0.136961</td>\n",
              "    </tr>\n",
              "  </tbody>\n",
              "</table>\n",
              "</div>"
            ],
            "text/plain": [
              "                     Coefficient\n",
              "Turno                -276.530063\n",
              "Equipo                 82.972208\n",
              "Movimiento (t)       -239.366583\n",
              "Cargas (u)          11373.973094\n",
              "Edad del empleado    -210.356689\n",
              "Número de personal     -0.136961"
            ]
          },
          "metadata": {
            "tags": []
          },
          "execution_count": 60
        }
      ]
    },
    {
      "cell_type": "code",
      "metadata": {
        "colab_type": "code",
        "id": "aDyCLmlWDLZ0",
        "colab": {
          "base_uri": "https://localhost:8080/",
          "height": 357
        },
        "outputId": "5d04a40f-2956-49f7-dd05-6729e36cb0e9"
      },
      "source": [
        "plt.figure(figsize=(10,5))\n",
        "sns.scatterplot(y_test,y_pred,color='blue',alpha=0.5)"
      ],
      "execution_count": 61,
      "outputs": [
        {
          "output_type": "execute_result",
          "data": {
            "text/plain": [
              "<matplotlib.axes._subplots.AxesSubplot at 0x7fa7e7a9ea20>"
            ]
          },
          "metadata": {
            "tags": []
          },
          "execution_count": 61
        },
        {
          "output_type": "display_data",
          "data": {
            "image/png": "[encoded data removed]",
            "text/plain": [
              "<Figure size 720x360 with 1 Axes>"
            ]
          },
          "metadata": {
            "tags": []
          }
        }
      ]
    },
    {
      "cell_type": "markdown",
      "metadata": {
        "colab_type": "text",
        "id": "wlZ-QJ-3DLZ2"
      },
      "source": [
        "Residuales"
      ]
    },
    {
      "cell_type": "code",
      "metadata": {
        "colab_type": "code",
        "id": "VjqIRdvbDLZ3",
        "colab": {
          "base_uri": "https://localhost:8080/",
          "height": 302
        },
        "outputId": "b5317553-9464-41ce-d6c5-6a3f4a1d6f9a"
      },
      "source": [
        "sns.distplot((y_test-y_pred),bins=50)"
      ],
      "execution_count": 62,
      "outputs": [
        {
          "output_type": "execute_result",
          "data": {
            "text/plain": [
              "<matplotlib.axes._subplots.AxesSubplot at 0x7fa7f2409d68>"
            ]
          },
          "metadata": {
            "tags": []
          },
          "execution_count": 62
        },
        {
          "output_type": "display_data",
          "data": {
            "image/png": "[encoded data removed]",
            "text/plain": [
              "<Figure size 432x288 with 1 Axes>"
            ]
          },
          "metadata": {
            "tags": []
          }
        }
      ]
    },
    {
      "cell_type": "markdown",
      "metadata": {
        "colab_type": "text",
        "id": "f4Z3F9QEDLZ7"
      },
      "source": [
        "Error Cuadratico Medio"
      ]
    },
    {
      "cell_type": "code",
      "metadata": {
        "colab_type": "code",
        "id": "KWItWBcaDLZ7",
        "colab": {
          "base_uri": "https://localhost:8080/",
          "height": 34
        },
        "outputId": "21acc463-a42e-4c3b-c935-d1c32f2ddd8e"
      },
      "source": [
        "from sklearn import metrics\n",
        "print(f'Error Cuadrático Medio: {metrics.mean_squared_error(y_test,y_pred)}')"
      ],
      "execution_count": 63,
      "outputs": [
        {
          "output_type": "stream",
          "text": [
            "Error Cuadrático Medio: 21816527.582724795\n"
          ],
          "name": "stdout"
        }
      ]
    },
    {
      "cell_type": "markdown",
      "metadata": {
        "colab_type": "text",
        "id": "e02goRc9DLZ9"
      },
      "source": [
        "Se peude decir que la regresion lineal no en el mejor modelo para este tipo de data"
      ]
    },
    {
      "cell_type": "code",
      "metadata": {
        "colab_type": "code",
        "id": "1QwsoLYzDLZ-",
        "colab": {}
      },
      "source": [
        ""
      ],
      "execution_count": 63,
      "outputs": []
    },
    {
      "cell_type": "markdown",
      "metadata": {
        "colab_type": "text",
        "id": "APBxAhfrDLaA"
      },
      "source": [
        "##Regresión Logística"
      ]
    },
    {
      "cell_type": "markdown",
      "metadata": {
        "colab_type": "text",
        "id": "1_4VLqIuDLaA"
      },
      "source": [
        "Generamos nuestro data de entrenamiento y le eliminamos las columnas que no ocuparemos en el modolamiento"
      ]
    },
    {
      "cell_type": "code",
      "metadata": {
        "colab_type": "code",
        "id": "3BG5anjQDLaB",
        "colab": {}
      },
      "source": [
        "filtro = ['Eficiencia (bin)','Cargas (u)','Movimiento (t)','Edad del empleado']\n",
        "train = df_scaled[filtro]"
      ],
      "execution_count": 301,
      "outputs": []
    },
    {
      "cell_type": "markdown",
      "metadata": {
        "id": "kFJYea6zg6it",
        "colab_type": "text"
      },
      "source": [
        "Nos quedamos con los datos numericos"
      ]
    },
    {
      "cell_type": "code",
      "metadata": {
        "colab_type": "code",
        "id": "mTZtpujJDLaD",
        "colab": {
          "base_uri": "https://localhost:8080/",
          "height": 204
        },
        "outputId": "aa685fd5-dfdf-444c-8ede-ce7618eb4030"
      },
      "source": [
        "train.info()"
      ],
      "execution_count": 302,
      "outputs": [
        {
          "output_type": "stream",
          "text": [
            "<class 'pandas.core.frame.DataFrame'>\n",
            "RangeIndex: 1825 entries, 0 to 1824\n",
            "Data columns (total 4 columns):\n",
            " #   Column             Non-Null Count  Dtype  \n",
            "---  ------             --------------  -----  \n",
            " 0   Eficiencia (bin)   1825 non-null   int64  \n",
            " 1   Cargas (u)         1825 non-null   float64\n",
            " 2   Movimiento (t)     1825 non-null   float64\n",
            " 3   Edad del empleado  1825 non-null   float64\n",
            "dtypes: float64(3), int64(1)\n",
            "memory usage: 57.2 KB\n"
          ],
          "name": "stdout"
        }
      ]
    },
    {
      "cell_type": "markdown",
      "metadata": {
        "colab_type": "text",
        "id": "d4OXaczxDLaF"
      },
      "source": [
        "Creamos nuestras variables dummies"
      ]
    },
    {
      "cell_type": "code",
      "metadata": {
        "colab_type": "code",
        "id": "86zqbHY3DLaG",
        "colab": {}
      },
      "source": [
        "unidad = pd.get_dummies(df_scaled['Unidad organizativa'])\n",
        "posicion = pd.get_dummies(df_scaled['Posición'])\n",
        "turno = pd.get_dummies(df_scaled['Turno'])\n",
        "fecha = pd.get_dummies(df_scaled['Fecha'])\n",
        "numero_personal = pd.get_dummies(df_scaled['Número de personal'])"
      ],
      "execution_count": 303,
      "outputs": []
    },
    {
      "cell_type": "markdown",
      "metadata": {
        "colab_type": "text",
        "id": "P5GM_4PXDLaI"
      },
      "source": [
        "Agregamos las variables dummies a la data de entrenamiento"
      ]
    },
    {
      "cell_type": "code",
      "metadata": {
        "colab_type": "code",
        "id": "oZ1QbAv0DLaI",
        "colab": {}
      },
      "source": [
        "train = pd.concat([train,unidad,posicion,turno,fecha,numero_personal],axis=1)"
      ],
      "execution_count": 304,
      "outputs": []
    },
    {
      "cell_type": "code",
      "metadata": {
        "colab_type": "code",
        "id": "k7R5Y_r4DLaL",
        "colab": {
          "base_uri": "https://localhost:8080/",
          "height": 338
        },
        "outputId": "772c8a3d-08df-4d1a-c697-29af314a9705"
      },
      "source": [
        "train.head()"
      ],
      "execution_count": 305,
      "outputs": [
        {
          "output_type": "execute_result",
          "data": {
            "text/html": [
              "<div>\n",
              "<style scoped>\n",
              "    .dataframe tbody tr th:only-of-type {\n",
              "        vertical-align: middle;\n",
              "    }\n",
              "\n",
              "    .dataframe tbody tr th {\n",
              "        vertical-align: top;\n",
              "    }\n",
              "\n",
              "    .dataframe thead th {\n",
              "        text-align: right;\n",
              "    }\n",
              "</style>\n",
              "<table border=\"1\" class=\"dataframe\">\n",
              "  <thead>\n",
              "    <tr style=\"text-align: right;\">\n",
              "      <th></th>\n",
              "      <th>Eficiencia (bin)</th>\n",
              "      <th>Cargas (u)</th>\n",
              "      <th>Movimiento (t)</th>\n",
              "      <th>Edad del empleado</th>\n",
              "      <th>ADMINISTRACION SUPTCIA PLANTAS</th>\n",
              "      <th>ALJIBES MLC</th>\n",
              "      <th>CAMIONES CAT 793F MLC</th>\n",
              "      <th>CAMIONES KOMATSU 830E MLC</th>\n",
              "      <th>CARGADORES FRONTALES MLC</th>\n",
              "      <th>GEOLOGIA DE PRODUCCION</th>\n",
              "      <th>INGENIERIA DE PROCESOS</th>\n",
              "      <th>MANTENIMIENTO MINA</th>\n",
              "      <th>MOTONIVELADORAS MLC</th>\n",
              "      <th>PALAS HIDRAULICAS MLC</th>\n",
              "      <th>PLANIFICACION MANTTO. MINA</th>\n",
              "      <th>SERVICIO SOCIAL VHUASCO</th>\n",
              "      <th>SISTEMAS DE CONTROL Y POTENCIA</th>\n",
              "      <th>TRACTORES NEUMATICOS MLC</th>\n",
              "      <th>TRACTORES ORUGA MLC</th>\n",
              "      <th>ASISTENTE GEOLOGIA</th>\n",
              "      <th>AYUDANTE ADMINISTRATIVO</th>\n",
              "      <th>CONTROLADOR PLANIFICACION</th>\n",
              "      <th>ELECTRICO I</th>\n",
              "      <th>ELECTRICO III</th>\n",
              "      <th>INGENIERO DE PROCESOS</th>\n",
              "      <th>JEFE SISTEMAS DE CONTROL Y POTENCIA</th>\n",
              "      <th>MECANICO I</th>\n",
              "      <th>MECANICO III</th>\n",
              "      <th>OPERADOR ELECTRICO II PLANTA</th>\n",
              "      <th>OPERADOR I</th>\n",
              "      <th>OPERADOR II</th>\n",
              "      <th>OPERADOR III</th>\n",
              "      <th>OPERADOR MECANICO III PLANTA</th>\n",
              "      <th>PLANIFICADOR MANTENIMIENTO MINA</th>\n",
              "      <th>1</th>\n",
              "      <th>2</th>\n",
              "      <th>2019-07-01</th>\n",
              "      <th>2019-07-02</th>\n",
              "      <th>2019-07-03</th>\n",
              "      <th>2019-07-04</th>\n",
              "      <th>...</th>\n",
              "      <th>2020-06-13</th>\n",
              "      <th>2020-06-14</th>\n",
              "      <th>2020-06-15</th>\n",
              "      <th>2020-06-16</th>\n",
              "      <th>2020-06-17</th>\n",
              "      <th>2020-06-18</th>\n",
              "      <th>2020-06-19</th>\n",
              "      <th>2020-06-20</th>\n",
              "      <th>2020-06-21</th>\n",
              "      <th>2020-06-22</th>\n",
              "      <th>20000564</th>\n",
              "      <th>20000770</th>\n",
              "      <th>20000778</th>\n",
              "      <th>20000847</th>\n",
              "      <th>20000868</th>\n",
              "      <th>20000875</th>\n",
              "      <th>20000905</th>\n",
              "      <th>20000964</th>\n",
              "      <th>20001014</th>\n",
              "      <th>20001236</th>\n",
              "      <th>20001237</th>\n",
              "      <th>20001512</th>\n",
              "      <th>20001526</th>\n",
              "      <th>20002297</th>\n",
              "      <th>20002520</th>\n",
              "      <th>20002787</th>\n",
              "      <th>20003239</th>\n",
              "      <th>20003244</th>\n",
              "      <th>20003260</th>\n",
              "      <th>20003278</th>\n",
              "      <th>20003408</th>\n",
              "      <th>20003778</th>\n",
              "      <th>20003779</th>\n",
              "      <th>20003858</th>\n",
              "      <th>20004398</th>\n",
              "      <th>20004884</th>\n",
              "      <th>20004895</th>\n",
              "      <th>20005055</th>\n",
              "      <th>20005968</th>\n",
              "      <th>20006912</th>\n",
              "    </tr>\n",
              "  </thead>\n",
              "  <tbody>\n",
              "    <tr>\n",
              "      <th>0</th>\n",
              "      <td>0</td>\n",
              "      <td>0.668797</td>\n",
              "      <td>0.625564</td>\n",
              "      <td>-1.424177</td>\n",
              "      <td>0</td>\n",
              "      <td>0</td>\n",
              "      <td>0</td>\n",
              "      <td>0</td>\n",
              "      <td>0</td>\n",
              "      <td>0</td>\n",
              "      <td>0</td>\n",
              "      <td>1</td>\n",
              "      <td>0</td>\n",
              "      <td>0</td>\n",
              "      <td>0</td>\n",
              "      <td>0</td>\n",
              "      <td>0</td>\n",
              "      <td>0</td>\n",
              "      <td>0</td>\n",
              "      <td>0</td>\n",
              "      <td>0</td>\n",
              "      <td>0</td>\n",
              "      <td>0</td>\n",
              "      <td>1</td>\n",
              "      <td>0</td>\n",
              "      <td>0</td>\n",
              "      <td>0</td>\n",
              "      <td>0</td>\n",
              "      <td>0</td>\n",
              "      <td>0</td>\n",
              "      <td>0</td>\n",
              "      <td>0</td>\n",
              "      <td>0</td>\n",
              "      <td>0</td>\n",
              "      <td>0</td>\n",
              "      <td>1</td>\n",
              "      <td>1</td>\n",
              "      <td>0</td>\n",
              "      <td>0</td>\n",
              "      <td>0</td>\n",
              "      <td>...</td>\n",
              "      <td>0</td>\n",
              "      <td>0</td>\n",
              "      <td>0</td>\n",
              "      <td>0</td>\n",
              "      <td>0</td>\n",
              "      <td>0</td>\n",
              "      <td>0</td>\n",
              "      <td>0</td>\n",
              "      <td>0</td>\n",
              "      <td>0</td>\n",
              "      <td>0</td>\n",
              "      <td>0</td>\n",
              "      <td>0</td>\n",
              "      <td>0</td>\n",
              "      <td>0</td>\n",
              "      <td>0</td>\n",
              "      <td>0</td>\n",
              "      <td>0</td>\n",
              "      <td>0</td>\n",
              "      <td>0</td>\n",
              "      <td>0</td>\n",
              "      <td>0</td>\n",
              "      <td>0</td>\n",
              "      <td>0</td>\n",
              "      <td>0</td>\n",
              "      <td>1</td>\n",
              "      <td>0</td>\n",
              "      <td>0</td>\n",
              "      <td>0</td>\n",
              "      <td>0</td>\n",
              "      <td>0</td>\n",
              "      <td>0</td>\n",
              "      <td>0</td>\n",
              "      <td>0</td>\n",
              "      <td>0</td>\n",
              "      <td>0</td>\n",
              "      <td>0</td>\n",
              "      <td>0</td>\n",
              "      <td>0</td>\n",
              "      <td>0</td>\n",
              "    </tr>\n",
              "    <tr>\n",
              "      <th>1</th>\n",
              "      <td>0</td>\n",
              "      <td>-1.277362</td>\n",
              "      <td>-1.268354</td>\n",
              "      <td>0.729983</td>\n",
              "      <td>0</td>\n",
              "      <td>0</td>\n",
              "      <td>0</td>\n",
              "      <td>0</td>\n",
              "      <td>0</td>\n",
              "      <td>0</td>\n",
              "      <td>0</td>\n",
              "      <td>1</td>\n",
              "      <td>0</td>\n",
              "      <td>0</td>\n",
              "      <td>0</td>\n",
              "      <td>0</td>\n",
              "      <td>0</td>\n",
              "      <td>0</td>\n",
              "      <td>0</td>\n",
              "      <td>0</td>\n",
              "      <td>0</td>\n",
              "      <td>0</td>\n",
              "      <td>0</td>\n",
              "      <td>0</td>\n",
              "      <td>0</td>\n",
              "      <td>0</td>\n",
              "      <td>1</td>\n",
              "      <td>0</td>\n",
              "      <td>0</td>\n",
              "      <td>0</td>\n",
              "      <td>0</td>\n",
              "      <td>0</td>\n",
              "      <td>0</td>\n",
              "      <td>0</td>\n",
              "      <td>0</td>\n",
              "      <td>1</td>\n",
              "      <td>1</td>\n",
              "      <td>0</td>\n",
              "      <td>0</td>\n",
              "      <td>0</td>\n",
              "      <td>...</td>\n",
              "      <td>0</td>\n",
              "      <td>0</td>\n",
              "      <td>0</td>\n",
              "      <td>0</td>\n",
              "      <td>0</td>\n",
              "      <td>0</td>\n",
              "      <td>0</td>\n",
              "      <td>0</td>\n",
              "      <td>0</td>\n",
              "      <td>0</td>\n",
              "      <td>0</td>\n",
              "      <td>0</td>\n",
              "      <td>0</td>\n",
              "      <td>0</td>\n",
              "      <td>0</td>\n",
              "      <td>1</td>\n",
              "      <td>0</td>\n",
              "      <td>0</td>\n",
              "      <td>0</td>\n",
              "      <td>0</td>\n",
              "      <td>0</td>\n",
              "      <td>0</td>\n",
              "      <td>0</td>\n",
              "      <td>0</td>\n",
              "      <td>0</td>\n",
              "      <td>0</td>\n",
              "      <td>0</td>\n",
              "      <td>0</td>\n",
              "      <td>0</td>\n",
              "      <td>0</td>\n",
              "      <td>0</td>\n",
              "      <td>0</td>\n",
              "      <td>0</td>\n",
              "      <td>0</td>\n",
              "      <td>0</td>\n",
              "      <td>0</td>\n",
              "      <td>0</td>\n",
              "      <td>0</td>\n",
              "      <td>0</td>\n",
              "      <td>0</td>\n",
              "    </tr>\n",
              "    <tr>\n",
              "      <th>2</th>\n",
              "      <td>1</td>\n",
              "      <td>0.836983</td>\n",
              "      <td>0.853396</td>\n",
              "      <td>1.419314</td>\n",
              "      <td>1</td>\n",
              "      <td>0</td>\n",
              "      <td>0</td>\n",
              "      <td>0</td>\n",
              "      <td>0</td>\n",
              "      <td>0</td>\n",
              "      <td>0</td>\n",
              "      <td>0</td>\n",
              "      <td>0</td>\n",
              "      <td>0</td>\n",
              "      <td>0</td>\n",
              "      <td>0</td>\n",
              "      <td>0</td>\n",
              "      <td>0</td>\n",
              "      <td>0</td>\n",
              "      <td>0</td>\n",
              "      <td>0</td>\n",
              "      <td>0</td>\n",
              "      <td>0</td>\n",
              "      <td>0</td>\n",
              "      <td>0</td>\n",
              "      <td>0</td>\n",
              "      <td>0</td>\n",
              "      <td>0</td>\n",
              "      <td>1</td>\n",
              "      <td>0</td>\n",
              "      <td>0</td>\n",
              "      <td>0</td>\n",
              "      <td>0</td>\n",
              "      <td>0</td>\n",
              "      <td>0</td>\n",
              "      <td>1</td>\n",
              "      <td>1</td>\n",
              "      <td>0</td>\n",
              "      <td>0</td>\n",
              "      <td>0</td>\n",
              "      <td>...</td>\n",
              "      <td>0</td>\n",
              "      <td>0</td>\n",
              "      <td>0</td>\n",
              "      <td>0</td>\n",
              "      <td>0</td>\n",
              "      <td>0</td>\n",
              "      <td>0</td>\n",
              "      <td>0</td>\n",
              "      <td>0</td>\n",
              "      <td>0</td>\n",
              "      <td>0</td>\n",
              "      <td>0</td>\n",
              "      <td>0</td>\n",
              "      <td>0</td>\n",
              "      <td>0</td>\n",
              "      <td>0</td>\n",
              "      <td>0</td>\n",
              "      <td>0</td>\n",
              "      <td>1</td>\n",
              "      <td>0</td>\n",
              "      <td>0</td>\n",
              "      <td>0</td>\n",
              "      <td>0</td>\n",
              "      <td>0</td>\n",
              "      <td>0</td>\n",
              "      <td>0</td>\n",
              "      <td>0</td>\n",
              "      <td>0</td>\n",
              "      <td>0</td>\n",
              "      <td>0</td>\n",
              "      <td>0</td>\n",
              "      <td>0</td>\n",
              "      <td>0</td>\n",
              "      <td>0</td>\n",
              "      <td>0</td>\n",
              "      <td>0</td>\n",
              "      <td>0</td>\n",
              "      <td>0</td>\n",
              "      <td>0</td>\n",
              "      <td>0</td>\n",
              "    </tr>\n",
              "    <tr>\n",
              "      <th>3</th>\n",
              "      <td>1</td>\n",
              "      <td>1.990262</td>\n",
              "      <td>1.963414</td>\n",
              "      <td>0.212984</td>\n",
              "      <td>0</td>\n",
              "      <td>0</td>\n",
              "      <td>1</td>\n",
              "      <td>0</td>\n",
              "      <td>0</td>\n",
              "      <td>0</td>\n",
              "      <td>0</td>\n",
              "      <td>0</td>\n",
              "      <td>0</td>\n",
              "      <td>0</td>\n",
              "      <td>0</td>\n",
              "      <td>0</td>\n",
              "      <td>0</td>\n",
              "      <td>0</td>\n",
              "      <td>0</td>\n",
              "      <td>0</td>\n",
              "      <td>0</td>\n",
              "      <td>0</td>\n",
              "      <td>0</td>\n",
              "      <td>0</td>\n",
              "      <td>0</td>\n",
              "      <td>0</td>\n",
              "      <td>0</td>\n",
              "      <td>0</td>\n",
              "      <td>0</td>\n",
              "      <td>0</td>\n",
              "      <td>0</td>\n",
              "      <td>1</td>\n",
              "      <td>0</td>\n",
              "      <td>0</td>\n",
              "      <td>1</td>\n",
              "      <td>0</td>\n",
              "      <td>0</td>\n",
              "      <td>1</td>\n",
              "      <td>0</td>\n",
              "      <td>0</td>\n",
              "      <td>...</td>\n",
              "      <td>0</td>\n",
              "      <td>0</td>\n",
              "      <td>0</td>\n",
              "      <td>0</td>\n",
              "      <td>0</td>\n",
              "      <td>0</td>\n",
              "      <td>0</td>\n",
              "      <td>0</td>\n",
              "      <td>0</td>\n",
              "      <td>0</td>\n",
              "      <td>0</td>\n",
              "      <td>0</td>\n",
              "      <td>0</td>\n",
              "      <td>0</td>\n",
              "      <td>0</td>\n",
              "      <td>0</td>\n",
              "      <td>0</td>\n",
              "      <td>0</td>\n",
              "      <td>0</td>\n",
              "      <td>0</td>\n",
              "      <td>0</td>\n",
              "      <td>0</td>\n",
              "      <td>0</td>\n",
              "      <td>0</td>\n",
              "      <td>0</td>\n",
              "      <td>0</td>\n",
              "      <td>0</td>\n",
              "      <td>0</td>\n",
              "      <td>0</td>\n",
              "      <td>0</td>\n",
              "      <td>0</td>\n",
              "      <td>0</td>\n",
              "      <td>0</td>\n",
              "      <td>0</td>\n",
              "      <td>0</td>\n",
              "      <td>0</td>\n",
              "      <td>1</td>\n",
              "      <td>0</td>\n",
              "      <td>0</td>\n",
              "      <td>0</td>\n",
              "    </tr>\n",
              "    <tr>\n",
              "      <th>4</th>\n",
              "      <td>0</td>\n",
              "      <td>-1.397495</td>\n",
              "      <td>-1.392686</td>\n",
              "      <td>-1.079512</td>\n",
              "      <td>0</td>\n",
              "      <td>0</td>\n",
              "      <td>0</td>\n",
              "      <td>0</td>\n",
              "      <td>0</td>\n",
              "      <td>0</td>\n",
              "      <td>0</td>\n",
              "      <td>1</td>\n",
              "      <td>0</td>\n",
              "      <td>0</td>\n",
              "      <td>0</td>\n",
              "      <td>0</td>\n",
              "      <td>0</td>\n",
              "      <td>0</td>\n",
              "      <td>0</td>\n",
              "      <td>0</td>\n",
              "      <td>0</td>\n",
              "      <td>0</td>\n",
              "      <td>0</td>\n",
              "      <td>0</td>\n",
              "      <td>0</td>\n",
              "      <td>0</td>\n",
              "      <td>0</td>\n",
              "      <td>1</td>\n",
              "      <td>0</td>\n",
              "      <td>0</td>\n",
              "      <td>0</td>\n",
              "      <td>0</td>\n",
              "      <td>0</td>\n",
              "      <td>0</td>\n",
              "      <td>1</td>\n",
              "      <td>0</td>\n",
              "      <td>0</td>\n",
              "      <td>1</td>\n",
              "      <td>0</td>\n",
              "      <td>0</td>\n",
              "      <td>...</td>\n",
              "      <td>0</td>\n",
              "      <td>0</td>\n",
              "      <td>0</td>\n",
              "      <td>0</td>\n",
              "      <td>0</td>\n",
              "      <td>0</td>\n",
              "      <td>0</td>\n",
              "      <td>0</td>\n",
              "      <td>0</td>\n",
              "      <td>0</td>\n",
              "      <td>0</td>\n",
              "      <td>0</td>\n",
              "      <td>0</td>\n",
              "      <td>0</td>\n",
              "      <td>0</td>\n",
              "      <td>0</td>\n",
              "      <td>0</td>\n",
              "      <td>0</td>\n",
              "      <td>0</td>\n",
              "      <td>0</td>\n",
              "      <td>0</td>\n",
              "      <td>0</td>\n",
              "      <td>0</td>\n",
              "      <td>0</td>\n",
              "      <td>0</td>\n",
              "      <td>0</td>\n",
              "      <td>0</td>\n",
              "      <td>0</td>\n",
              "      <td>0</td>\n",
              "      <td>1</td>\n",
              "      <td>0</td>\n",
              "      <td>0</td>\n",
              "      <td>0</td>\n",
              "      <td>0</td>\n",
              "      <td>0</td>\n",
              "      <td>0</td>\n",
              "      <td>0</td>\n",
              "      <td>0</td>\n",
              "      <td>0</td>\n",
              "      <td>0</td>\n",
              "    </tr>\n",
              "  </tbody>\n",
              "</table>\n",
              "<p>5 rows × 408 columns</p>\n",
              "</div>"
            ],
            "text/plain": [
              "   Eficiencia (bin)  Cargas (u)  Movimiento (t)  ...  20005055  20005968  20006912\n",
              "0                 0    0.668797        0.625564  ...         0         0         0\n",
              "1                 0   -1.277362       -1.268354  ...         0         0         0\n",
              "2                 1    0.836983        0.853396  ...         0         0         0\n",
              "3                 1    1.990262        1.963414  ...         0         0         0\n",
              "4                 0   -1.397495       -1.392686  ...         0         0         0\n",
              "\n",
              "[5 rows x 408 columns]"
            ]
          },
          "metadata": {
            "tags": []
          },
          "execution_count": 305
        }
      ]
    },
    {
      "cell_type": "markdown",
      "metadata": {
        "colab_type": "text",
        "id": "oQMDd_dZDLaN"
      },
      "source": [
        "Creamos nuestra data de entrenamiento y de test"
      ]
    },
    {
      "cell_type": "code",
      "metadata": {
        "colab_type": "code",
        "id": "cjxgoFL5DLaO",
        "colab": {}
      },
      "source": [
        "from sklearn.model_selection import train_test_split\n",
        "X_train, X_test, y_train, y_test = train_test_split(train.drop('Eficiencia (bin)',axis=1),\n",
        "                                                    train['Eficiencia (bin)'],\n",
        "                                                    test_size=0.30,random_state=42)"
      ],
      "execution_count": 306,
      "outputs": []
    },
    {
      "cell_type": "markdown",
      "metadata": {
        "colab_type": "text",
        "id": "LiQ8ZnM4DLaQ"
      },
      "source": [
        "Importamos el modelo, creamos la regresión y entrenamos con nuestra data de entrenamiento"
      ]
    },
    {
      "cell_type": "code",
      "metadata": {
        "colab_type": "code",
        "id": "uMfw6G_YDLaQ",
        "colab": {
          "base_uri": "https://localhost:8080/",
          "height": 102
        },
        "outputId": "9847d0a1-18ad-4e2c-ab92-41308e797a37"
      },
      "source": [
        "from sklearn.linear_model import LogisticRegression\n",
        "modelo = LogisticRegression()\n",
        "modelo.fit(X_train,y_train)"
      ],
      "execution_count": 307,
      "outputs": [
        {
          "output_type": "execute_result",
          "data": {
            "text/plain": [
              "LogisticRegression(C=1.0, class_weight=None, dual=False, fit_intercept=True,\n",
              "                   intercept_scaling=1, l1_ratio=None, max_iter=100,\n",
              "                   multi_class='auto', n_jobs=None, penalty='l2',\n",
              "                   random_state=None, solver='lbfgs', tol=0.0001, verbose=0,\n",
              "                   warm_start=False)"
            ]
          },
          "metadata": {
            "tags": []
          },
          "execution_count": 307
        }
      ]
    },
    {
      "cell_type": "markdown",
      "metadata": {
        "colab_type": "text",
        "id": "fXBP0qxZDLaT"
      },
      "source": [
        "Predicción con la data de test"
      ]
    },
    {
      "cell_type": "code",
      "metadata": {
        "colab_type": "code",
        "id": "radV2Av1DLaT",
        "colab": {}
      },
      "source": [
        "y_pred = modelo.predict(X_test)"
      ],
      "execution_count": 308,
      "outputs": []
    },
    {
      "cell_type": "markdown",
      "metadata": {
        "colab_type": "text",
        "id": "2R6jaBOdDLaV"
      },
      "source": [
        "Evaluacion del modelo"
      ]
    },
    {
      "cell_type": "code",
      "metadata": {
        "colab_type": "code",
        "id": "ftaWbTmiDLaW",
        "colab": {
          "base_uri": "https://localhost:8080/",
          "height": 170
        },
        "outputId": "2179e14f-c2a6-483f-e17b-d998a71181ac"
      },
      "source": [
        "from sklearn.metrics import classification_report\n",
        "print(classification_report(y_test,y_pred))"
      ],
      "execution_count": 309,
      "outputs": [
        {
          "output_type": "stream",
          "text": [
            "              precision    recall  f1-score   support\n",
            "\n",
            "           0       0.86      0.88      0.87       261\n",
            "           1       0.89      0.87      0.88       287\n",
            "\n",
            "    accuracy                           0.87       548\n",
            "   macro avg       0.87      0.87      0.87       548\n",
            "weighted avg       0.87      0.87      0.87       548\n",
            "\n"
          ],
          "name": "stdout"
        }
      ]
    },
    {
      "cell_type": "code",
      "metadata": {
        "colab_type": "code",
        "id": "YIQz075qDLaY",
        "colab": {
          "base_uri": "https://localhost:8080/",
          "height": 51
        },
        "outputId": "d0624cf2-f4ec-4c75-814b-f556f1277d97"
      },
      "source": [
        "from sklearn.metrics import confusion_matrix\n",
        "print(confusion_matrix(y_test,y_pred))"
      ],
      "execution_count": 310,
      "outputs": [
        {
          "output_type": "stream",
          "text": [
            "[[229  32]\n",
            " [ 38 249]]\n"
          ],
          "name": "stdout"
        }
      ]
    },
    {
      "cell_type": "code",
      "metadata": {
        "colab_type": "code",
        "id": "Ihb6NtU5DLab",
        "colab": {}
      },
      "source": [
        ""
      ],
      "execution_count": 310,
      "outputs": []
    },
    {
      "cell_type": "markdown",
      "metadata": {
        "colab_type": "text",
        "id": "hkmsUibRDLad"
      },
      "source": [
        "##Decision Tree"
      ]
    },
    {
      "cell_type": "code",
      "metadata": {
        "colab_type": "code",
        "id": "56i5CuDoDLad",
        "colab": {}
      },
      "source": [
        "from sklearn.tree import DecisionTreeClassifier"
      ],
      "execution_count": 74,
      "outputs": []
    },
    {
      "cell_type": "code",
      "metadata": {
        "colab_type": "code",
        "id": "yyZ6n_VzDLai",
        "colab": {}
      },
      "source": [
        "modelo = DecisionTreeClassifier()"
      ],
      "execution_count": 75,
      "outputs": []
    },
    {
      "cell_type": "code",
      "metadata": {
        "colab_type": "code",
        "id": "SI7HLGC7DLal",
        "colab": {
          "base_uri": "https://localhost:8080/",
          "height": 119
        },
        "outputId": "feaa66bf-fd8c-4345-83c7-268da3588620"
      },
      "source": [
        "modelo.fit(X_train,y_train)"
      ],
      "execution_count": 76,
      "outputs": [
        {
          "output_type": "execute_result",
          "data": {
            "text/plain": [
              "DecisionTreeClassifier(ccp_alpha=0.0, class_weight=None, criterion='gini',\n",
              "                       max_depth=None, max_features=None, max_leaf_nodes=None,\n",
              "                       min_impurity_decrease=0.0, min_impurity_split=None,\n",
              "                       min_samples_leaf=1, min_samples_split=2,\n",
              "                       min_weight_fraction_leaf=0.0, presort='deprecated',\n",
              "                       random_state=None, splitter='best')"
            ]
          },
          "metadata": {
            "tags": []
          },
          "execution_count": 76
        }
      ]
    },
    {
      "cell_type": "code",
      "metadata": {
        "colab_type": "code",
        "id": "NCAaGd3cDLao",
        "colab": {}
      },
      "source": [
        "y_pred = modelo.predict(X_test)"
      ],
      "execution_count": 77,
      "outputs": []
    },
    {
      "cell_type": "code",
      "metadata": {
        "colab_type": "code",
        "id": "aqa7GV0dDLaq",
        "colab": {
          "base_uri": "https://localhost:8080/",
          "height": 170
        },
        "outputId": "fe4f1201-70a6-4f66-b51c-da5611468714"
      },
      "source": [
        "print(classification_report(y_test,y_pred))"
      ],
      "execution_count": 78,
      "outputs": [
        {
          "output_type": "stream",
          "text": [
            "              precision    recall  f1-score   support\n",
            "\n",
            "           0       0.84      0.83      0.84       261\n",
            "           1       0.85      0.86      0.85       287\n",
            "\n",
            "    accuracy                           0.84       548\n",
            "   macro avg       0.84      0.84      0.84       548\n",
            "weighted avg       0.84      0.84      0.84       548\n",
            "\n"
          ],
          "name": "stdout"
        }
      ]
    },
    {
      "cell_type": "code",
      "metadata": {
        "colab_type": "code",
        "id": "OOkpKdFCDLas",
        "colab": {
          "base_uri": "https://localhost:8080/",
          "height": 51
        },
        "outputId": "229012a3-a810-4c17-b9d5-a6a1f3dc07cd"
      },
      "source": [
        "print(confusion_matrix(y_test,y_pred))"
      ],
      "execution_count": 79,
      "outputs": [
        {
          "output_type": "stream",
          "text": [
            "[[217  44]\n",
            " [ 41 246]]\n"
          ],
          "name": "stdout"
        }
      ]
    },
    {
      "cell_type": "code",
      "metadata": {
        "colab_type": "code",
        "id": "AQohMA-nDLau",
        "colab": {}
      },
      "source": [
        ""
      ],
      "execution_count": 79,
      "outputs": []
    },
    {
      "cell_type": "markdown",
      "metadata": {
        "colab_type": "text",
        "id": "mmX4-aJqDLaw"
      },
      "source": [
        "##Random Forest"
      ]
    },
    {
      "cell_type": "code",
      "metadata": {
        "colab_type": "code",
        "id": "VP0a6lvpDLaw",
        "colab": {}
      },
      "source": [
        "from sklearn.ensemble import RandomForestClassifier"
      ],
      "execution_count": 80,
      "outputs": []
    },
    {
      "cell_type": "code",
      "metadata": {
        "colab_type": "code",
        "id": "TytbAUiWDLay",
        "colab": {}
      },
      "source": [
        "modelo = RandomForestClassifier(n_estimators=100)"
      ],
      "execution_count": 81,
      "outputs": []
    },
    {
      "cell_type": "code",
      "metadata": {
        "colab_type": "code",
        "id": "FX_35u9NDLa1",
        "colab": {
          "base_uri": "https://localhost:8080/",
          "height": 153
        },
        "outputId": "bafbc77d-8409-4da0-b732-a4f7c36a82ca"
      },
      "source": [
        "modelo.fit(X_train,y_train)"
      ],
      "execution_count": 82,
      "outputs": [
        {
          "output_type": "execute_result",
          "data": {
            "text/plain": [
              "RandomForestClassifier(bootstrap=True, ccp_alpha=0.0, class_weight=None,\n",
              "                       criterion='gini', max_depth=None, max_features='auto',\n",
              "                       max_leaf_nodes=None, max_samples=None,\n",
              "                       min_impurity_decrease=0.0, min_impurity_split=None,\n",
              "                       min_samples_leaf=1, min_samples_split=2,\n",
              "                       min_weight_fraction_leaf=0.0, n_estimators=100,\n",
              "                       n_jobs=None, oob_score=False, random_state=None,\n",
              "                       verbose=0, warm_start=False)"
            ]
          },
          "metadata": {
            "tags": []
          },
          "execution_count": 82
        }
      ]
    },
    {
      "cell_type": "code",
      "metadata": {
        "colab_type": "code",
        "id": "hWK66jt7DLa4",
        "colab": {}
      },
      "source": [
        "y_pred = modelo.predict(X_test)"
      ],
      "execution_count": 83,
      "outputs": []
    },
    {
      "cell_type": "code",
      "metadata": {
        "colab_type": "code",
        "id": "bOmZFih7DLa6",
        "colab": {
          "base_uri": "https://localhost:8080/",
          "height": 170
        },
        "outputId": "5b21a4c7-5720-4c75-be28-b376ea6d8577"
      },
      "source": [
        "print(classification_report(y_test,y_pred))"
      ],
      "execution_count": 84,
      "outputs": [
        {
          "output_type": "stream",
          "text": [
            "              precision    recall  f1-score   support\n",
            "\n",
            "           0       0.88      0.86      0.87       261\n",
            "           1       0.88      0.90      0.89       287\n",
            "\n",
            "    accuracy                           0.88       548\n",
            "   macro avg       0.88      0.88      0.88       548\n",
            "weighted avg       0.88      0.88      0.88       548\n",
            "\n"
          ],
          "name": "stdout"
        }
      ]
    },
    {
      "cell_type": "code",
      "metadata": {
        "colab_type": "code",
        "id": "r4-ZyWbMDLa8",
        "colab": {
          "base_uri": "https://localhost:8080/",
          "height": 51
        },
        "outputId": "19549032-2c39-4218-ac25-00729b208046"
      },
      "source": [
        "print(confusion_matrix(y_test,y_pred))"
      ],
      "execution_count": 85,
      "outputs": [
        {
          "output_type": "stream",
          "text": [
            "[[225  36]\n",
            " [ 30 257]]\n"
          ],
          "name": "stdout"
        }
      ]
    },
    {
      "cell_type": "code",
      "metadata": {
        "colab_type": "code",
        "id": "NwK7J-aIDLa-",
        "colab": {}
      },
      "source": [
        ""
      ],
      "execution_count": 85,
      "outputs": []
    },
    {
      "cell_type": "markdown",
      "metadata": {
        "colab_type": "text",
        "id": "ny4KK08EDLbA"
      },
      "source": [
        "###Importancia de las variables"
      ]
    },
    {
      "cell_type": "code",
      "metadata": {
        "colab_type": "code",
        "id": "K5kvx8N-DLbB",
        "colab": {}
      },
      "source": [
        "importancia = list(modelo.feature_importances_)"
      ],
      "execution_count": 86,
      "outputs": []
    },
    {
      "cell_type": "code",
      "metadata": {
        "colab_type": "code",
        "id": "p5oSVgkNDLbD",
        "colab": {
          "base_uri": "https://localhost:8080/",
          "height": 1000
        },
        "outputId": "3750e948-cba5-41cd-ad9e-fe7cdd8edc28"
      },
      "source": [
        "for i in range(len(importancia)):\n",
        "  print(f'--> Variable: {train.columns[i+1]} Importancia: {importancia[i]}')"
      ],
      "execution_count": 87,
      "outputs": [
        {
          "output_type": "stream",
          "text": [
            "--> Variable: Cargas (u) Importancia: 0.2959206455963065\n",
            "--> Variable: Movimiento (t) Importancia: 0.32753525474429196\n",
            "--> Variable: Edad del empleado Importancia: 0.019349065386042988\n",
            "--> Variable: ADMINISTRACION SUPTCIA PLANTAS Importancia: 0.002445986049678703\n",
            "--> Variable: ALJIBES MLC Importancia: 0.0005507739071696723\n",
            "--> Variable: CAMIONES CAT 793F MLC Importancia: 0.0025994261351363402\n",
            "--> Variable: CAMIONES KOMATSU 830E MLC Importancia: 0.0017075061322006733\n",
            "--> Variable: CARGADORES FRONTALES MLC Importancia: 0.0008138595419988912\n",
            "--> Variable: GEOLOGIA DE PRODUCCION Importancia: 0.0013047174235455037\n",
            "--> Variable: INGENIERIA DE PROCESOS Importancia: 0.000980075161036927\n",
            "--> Variable: MANTENIMIENTO MINA Importancia: 0.0025765128940239395\n",
            "--> Variable: MOTONIVELADORAS MLC Importancia: 0.0022472877246019042\n",
            "--> Variable: PALAS HIDRAULICAS MLC Importancia: 0.0010092269053480997\n",
            "--> Variable: PLANIFICACION MANTTO. MINA Importancia: 0.0005795301955296895\n",
            "--> Variable: SERVICIO SOCIAL VHUASCO Importancia: 0.002424906360405096\n",
            "--> Variable: SISTEMAS DE CONTROL Y POTENCIA Importancia: 0.0\n",
            "--> Variable: TRACTORES NEUMATICOS MLC Importancia: 0.0010453101563354548\n",
            "--> Variable: TRACTORES ORUGA MLC Importancia: 0.001733707961242767\n",
            "--> Variable: ASISTENTE GEOLOGIA Importancia: 0.001269582697863888\n",
            "--> Variable: AYUDANTE ADMINISTRATIVO Importancia: 0.0019828331896281754\n",
            "--> Variable: CONTROLADOR PLANIFICACION Importancia: 0.0007320068726475285\n",
            "--> Variable: ELECTRICO I Importancia: 0.0026475202266643015\n",
            "--> Variable: ELECTRICO III Importancia: 0.0016905876013561217\n",
            "--> Variable: INGENIERO DE PROCESOS Importancia: 0.0009566518044716121\n",
            "--> Variable: JEFE SISTEMAS DE CONTROL Y POTENCIA Importancia: 0.0\n",
            "--> Variable: MECANICO I Importancia: 0.002065328830953216\n",
            "--> Variable: MECANICO III Importancia: 0.0019006586040133382\n",
            "--> Variable: OPERADOR ELECTRICO II PLANTA Importancia: 0.003055083579089217\n",
            "--> Variable: OPERADOR I Importancia: 0.002086305196027563\n",
            "--> Variable: OPERADOR II Importancia: 0.0028550206644390123\n",
            "--> Variable: OPERADOR III Importancia: 0.0028958804316603836\n",
            "--> Variable: OPERADOR MECANICO III PLANTA Importancia: 0.0037442070590165376\n",
            "--> Variable: PLANIFICADOR MANTENIMIENTO MINA Importancia: 0.0008691665189467571\n",
            "--> Variable: 1 Importancia: 0.006517025257236837\n",
            "--> Variable: 2 Importancia: 0.00640840584950814\n",
            "--> Variable: 2019-07-01 Importancia: 0.0011968632262838524\n",
            "--> Variable: 2019-07-02 Importancia: 0.001464103374285624\n",
            "--> Variable: 2019-07-03 Importancia: 0.0011698117839344278\n",
            "--> Variable: 2019-07-04 Importancia: 0.0004320508327279546\n",
            "--> Variable: 2019-07-05 Importancia: 0.0004525790400776945\n",
            "--> Variable: 2019-07-06 Importancia: 0.0003118033483103805\n",
            "--> Variable: 2019-07-07 Importancia: 0.00011425703998419248\n",
            "--> Variable: 2019-07-08 Importancia: 0.00145746303229884\n",
            "--> Variable: 2019-07-09 Importancia: 0.0036011099242718825\n",
            "--> Variable: 2019-07-10 Importancia: 0.0012244777984628335\n",
            "--> Variable: 2019-07-11 Importancia: 0.0005155821673145396\n",
            "--> Variable: 2019-07-12 Importancia: 0.001939811506295863\n",
            "--> Variable: 2019-07-13 Importancia: 0.0014268573845240503\n",
            "--> Variable: 2019-07-14 Importancia: 0.002342402371528909\n",
            "--> Variable: 2019-07-15 Importancia: 0.00038968476617862955\n",
            "--> Variable: 2019-07-16 Importancia: 0.0014333932583677877\n",
            "--> Variable: 2019-07-17 Importancia: 0.002958619249046231\n",
            "--> Variable: 2019-07-18 Importancia: 0.0028043730339917324\n",
            "--> Variable: 2019-07-19 Importancia: 0.0017769478104390315\n",
            "--> Variable: 2019-07-20 Importancia: 0.00043213078756983083\n",
            "--> Variable: 2019-07-21 Importancia: 0.0005918372545076128\n",
            "--> Variable: 2019-07-22 Importancia: 0.0007452415433208148\n",
            "--> Variable: 2019-07-23 Importancia: 0.0012704349995643625\n",
            "--> Variable: 2019-07-24 Importancia: 0.0015913144588572759\n",
            "--> Variable: 2019-07-25 Importancia: 0.001002010175527048\n",
            "--> Variable: 2019-07-26 Importancia: 0.0006242881889968423\n",
            "--> Variable: 2019-07-27 Importancia: 0.0007494464504115586\n",
            "--> Variable: 2019-07-28 Importancia: 0.0004969713915316858\n",
            "--> Variable: 2019-07-29 Importancia: 0.0019228751178540246\n",
            "--> Variable: 2019-07-30 Importancia: 6.389471317492998e-05\n",
            "--> Variable: 2019-07-31 Importancia: 0.001046370549717446\n",
            "--> Variable: 2019-08-01 Importancia: 0.0015292374607155492\n",
            "--> Variable: 2019-08-02 Importancia: 0.0024690451886582093\n",
            "--> Variable: 2019-08-03 Importancia: 0.0016528605406181884\n",
            "--> Variable: 2019-08-04 Importancia: 0.000374162458123075\n",
            "--> Variable: 2019-08-05 Importancia: 0.001148343529356946\n",
            "--> Variable: 2019-08-06 Importancia: 0.0010069246234273004\n",
            "--> Variable: 2019-08-07 Importancia: 0.0005882567727134663\n",
            "--> Variable: 2019-08-08 Importancia: 4.37207960527155e-05\n",
            "--> Variable: 2019-08-09 Importancia: 0.00022515872231780392\n",
            "--> Variable: 2019-08-10 Importancia: 0.0009096843527270269\n",
            "--> Variable: 2019-08-11 Importancia: 0.0002612662575674161\n",
            "--> Variable: 2019-08-12 Importancia: 0.00026276384144474597\n",
            "--> Variable: 2019-08-13 Importancia: 0.0008985256101733406\n",
            "--> Variable: 2019-08-14 Importancia: 0.001787795265215947\n",
            "--> Variable: 2019-08-15 Importancia: 0.0019858878897557985\n",
            "--> Variable: 2019-08-16 Importancia: 0.002573775611756707\n",
            "--> Variable: 2019-08-17 Importancia: 0.0012539577917925376\n",
            "--> Variable: 2019-08-18 Importancia: 0.0024693285461330618\n",
            "--> Variable: 2019-08-19 Importancia: 0.00036253042828410015\n",
            "--> Variable: 2019-08-20 Importancia: 0.00020801019578318357\n",
            "--> Variable: 2019-08-21 Importancia: 0.0012579679696576595\n",
            "--> Variable: 2019-08-22 Importancia: 0.0001698220221494145\n",
            "--> Variable: 2019-08-23 Importancia: 0.001498451771385378\n",
            "--> Variable: 2019-08-24 Importancia: 0.0011672141741133955\n",
            "--> Variable: 2019-08-25 Importancia: 0.0003744696889573403\n",
            "--> Variable: 2019-08-26 Importancia: 0.0033033304732393025\n",
            "--> Variable: 2019-08-27 Importancia: 0.0018693562917629686\n",
            "--> Variable: 2019-08-28 Importancia: 0.00011151344650971298\n",
            "--> Variable: 2019-08-29 Importancia: 0.0014896730277854987\n",
            "--> Variable: 2019-08-30 Importancia: 0.0013091461770859806\n",
            "--> Variable: 2019-08-31 Importancia: 0.0001550291794280808\n",
            "--> Variable: 2019-09-01 Importancia: 0.0005868445950729388\n",
            "--> Variable: 2019-09-02 Importancia: 0.00031824073247019595\n",
            "--> Variable: 2019-09-03 Importancia: 0.00042722728308911966\n",
            "--> Variable: 2019-09-04 Importancia: 0.0007216702683691967\n",
            "--> Variable: 2019-09-05 Importancia: 0.001318382278288638\n",
            "--> Variable: 2019-09-06 Importancia: 0.00044649433232793863\n",
            "--> Variable: 2019-09-07 Importancia: 0.00042490262881890515\n",
            "--> Variable: 2019-09-08 Importancia: 0.0\n",
            "--> Variable: 2019-09-09 Importancia: 3.059114077920081e-05\n",
            "--> Variable: 2019-09-10 Importancia: 0.00036831742271723286\n",
            "--> Variable: 2019-09-11 Importancia: 9.16399204449355e-05\n",
            "--> Variable: 2019-09-12 Importancia: 0.0020461955857872353\n",
            "--> Variable: 2019-09-13 Importancia: 0.0009025256369470146\n",
            "--> Variable: 2019-09-14 Importancia: 0.0022731753831201594\n",
            "--> Variable: 2019-09-15 Importancia: 0.0010287780847636882\n",
            "--> Variable: 2019-09-16 Importancia: 5.2125670000667515e-05\n",
            "--> Variable: 2019-09-17 Importancia: 0.0003475524201892514\n",
            "--> Variable: 2019-09-20 Importancia: 0.00036832888036008845\n",
            "--> Variable: 2019-09-21 Importancia: 0.0001708256048417711\n",
            "--> Variable: 2019-09-22 Importancia: 0.00039396832121861526\n",
            "--> Variable: 2019-09-23 Importancia: 0.0008864467600332075\n",
            "--> Variable: 2019-09-24 Importancia: 0.00027378615357867434\n",
            "--> Variable: 2019-09-25 Importancia: 7.415571268183484e-05\n",
            "--> Variable: 2019-09-26 Importancia: 0.0006581171872529728\n",
            "--> Variable: 2019-09-27 Importancia: 1.202153009846947e-05\n",
            "--> Variable: 2019-09-28 Importancia: 0.0007315382945618354\n",
            "--> Variable: 2019-09-29 Importancia: 0.00014610650682812682\n",
            "--> Variable: 2019-09-30 Importancia: 0.0011152570215822505\n",
            "--> Variable: 2019-10-01 Importancia: 0.00023675973050521224\n",
            "--> Variable: 2019-10-02 Importancia: 0.00034890716075612426\n",
            "--> Variable: 2019-10-03 Importancia: 0.00023446210671403535\n",
            "--> Variable: 2019-10-04 Importancia: 0.0006563943391422625\n",
            "--> Variable: 2019-10-05 Importancia: 0.0004137059203464408\n",
            "--> Variable: 2019-10-06 Importancia: 0.00033867543040596687\n",
            "--> Variable: 2019-10-07 Importancia: 0.0005504946724965331\n",
            "--> Variable: 2019-10-08 Importancia: 0.0010453161743606944\n",
            "--> Variable: 2019-10-09 Importancia: 0.0001011418239706609\n",
            "--> Variable: 2019-10-10 Importancia: 0.0017521982309073852\n",
            "--> Variable: 2019-10-11 Importancia: 0.0004481160073137437\n",
            "--> Variable: 2019-10-12 Importancia: 0.0008119475615558372\n",
            "--> Variable: 2019-10-13 Importancia: 0.0004961598951074267\n",
            "--> Variable: 2019-10-14 Importancia: 0.0003764411430275017\n",
            "--> Variable: 2019-10-15 Importancia: 0.000937660360011592\n",
            "--> Variable: 2019-10-16 Importancia: 0.0005595861290081856\n",
            "--> Variable: 2019-10-17 Importancia: 0.0014091675454604071\n",
            "--> Variable: 2019-10-18 Importancia: 5.716265996301036e-05\n",
            "--> Variable: 2019-10-19 Importancia: 0.00026040643856032215\n",
            "--> Variable: 2019-10-20 Importancia: 0.0003755962696416932\n",
            "--> Variable: 2019-10-21 Importancia: 0.00013956660780763008\n",
            "--> Variable: 2019-10-22 Importancia: 0.002118383402294009\n",
            "--> Variable: 2019-10-23 Importancia: 0.0008300033022840303\n",
            "--> Variable: 2019-10-26 Importancia: 0.0001890017745387071\n",
            "--> Variable: 2019-10-27 Importancia: 0.001528240187128006\n",
            "--> Variable: 2019-10-28 Importancia: 0.0008265771348244607\n",
            "--> Variable: 2019-10-30 Importancia: 3.743504502356588e-05\n",
            "--> Variable: 2019-10-31 Importancia: 6.346777477873758e-05\n",
            "--> Variable: 2019-11-01 Importancia: 0.0004780581885313327\n",
            "--> Variable: 2019-11-02 Importancia: 0.0001325507615745777\n",
            "--> Variable: 2019-11-03 Importancia: 0.0007835390645817592\n",
            "--> Variable: 2019-11-04 Importancia: 7.165503917292207e-05\n",
            "--> Variable: 2019-11-05 Importancia: 0.00016865264897911338\n",
            "--> Variable: 2019-11-06 Importancia: 0.0002728013082940125\n",
            "--> Variable: 2019-11-07 Importancia: 0.0009119849698395889\n",
            "--> Variable: 2019-11-08 Importancia: 0.00016154790696517235\n",
            "--> Variable: 2019-11-09 Importancia: 0.0002286917975559401\n",
            "--> Variable: 2019-11-10 Importancia: 0.0017822639957430187\n",
            "--> Variable: 2019-11-11 Importancia: 0.0009927225827956823\n",
            "--> Variable: 2019-11-13 Importancia: 8.060789546570247e-05\n",
            "--> Variable: 2019-11-14 Importancia: 0.0004515266493824437\n",
            "--> Variable: 2019-11-15 Importancia: 0.0003557120565312491\n",
            "--> Variable: 2019-11-16 Importancia: 8.505739217597486e-06\n",
            "--> Variable: 2019-11-17 Importancia: 0.0003845732495289409\n",
            "--> Variable: 2019-11-18 Importancia: 0.000452062961472568\n",
            "--> Variable: 2019-11-19 Importancia: 0.0009240662348156553\n",
            "--> Variable: 2019-11-20 Importancia: 0.000589660092815025\n",
            "--> Variable: 2019-11-21 Importancia: 0.000266641799106673\n",
            "--> Variable: 2019-11-22 Importancia: 0.0008217122273665059\n",
            "--> Variable: 2019-11-23 Importancia: 0.0005824059182697844\n",
            "--> Variable: 2019-11-24 Importancia: 0.00046085330857799513\n",
            "--> Variable: 2019-11-25 Importancia: 0.0006673637803113619\n",
            "--> Variable: 2019-11-26 Importancia: 0.00024100509844176751\n",
            "--> Variable: 2019-11-27 Importancia: 0.0011541941399204462\n",
            "--> Variable: 2019-11-28 Importancia: 0.00013520292003851224\n",
            "--> Variable: 2019-11-29 Importancia: 0.0019868673956962603\n",
            "--> Variable: 2019-11-30 Importancia: 0.0002695136389436981\n",
            "--> Variable: 2019-12-01 Importancia: 0.00012948752774563706\n",
            "--> Variable: 2019-12-02 Importancia: 0.000752932196360325\n",
            "--> Variable: 2019-12-03 Importancia: 9.405179077240284e-05\n",
            "--> Variable: 2019-12-04 Importancia: 0.0004923987290949629\n",
            "--> Variable: 2019-12-05 Importancia: 0.00015748376732699858\n",
            "--> Variable: 2019-12-06 Importancia: 0.00039687705468605816\n",
            "--> Variable: 2019-12-07 Importancia: 0.0015799080337944302\n",
            "--> Variable: 2019-12-08 Importancia: 0.0020473703562992906\n",
            "--> Variable: 2019-12-09 Importancia: 0.00111473700552328\n",
            "--> Variable: 2019-12-10 Importancia: 0.0001192361886644637\n",
            "--> Variable: 2019-12-11 Importancia: 0.0003714550440114143\n",
            "--> Variable: 2019-12-12 Importancia: 0.00013516706904482634\n",
            "--> Variable: 2019-12-13 Importancia: 1.8050901788629043e-05\n",
            "--> Variable: 2019-12-14 Importancia: 0.0008089042912257356\n",
            "--> Variable: 2019-12-15 Importancia: 0.0002730260245807935\n",
            "--> Variable: 2019-12-16 Importancia: 0.0005413161891993989\n",
            "--> Variable: 2019-12-17 Importancia: 0.0007850806361714211\n",
            "--> Variable: 2019-12-18 Importancia: 0.0009181981491235881\n",
            "--> Variable: 2019-12-19 Importancia: 0.00022710060810056553\n",
            "--> Variable: 2019-12-20 Importancia: 0.0017696775748453598\n",
            "--> Variable: 2019-12-21 Importancia: 0.0011501884967829471\n",
            "--> Variable: 2019-12-22 Importancia: 0.0005643434866431347\n",
            "--> Variable: 2019-12-23 Importancia: 0.002332849874598436\n",
            "--> Variable: 2019-12-24 Importancia: 0.0025926933296948\n",
            "--> Variable: 2019-12-26 Importancia: 0.0015280644150360717\n",
            "--> Variable: 2019-12-27 Importancia: 0.00021370582986997397\n",
            "--> Variable: 2019-12-28 Importancia: 0.0008606506136027561\n",
            "--> Variable: 2019-12-29 Importancia: 0.0005674650536487264\n",
            "--> Variable: 2019-12-30 Importancia: 0.00019062645031737998\n",
            "--> Variable: 2019-12-31 Importancia: 0.00077496055258779\n",
            "--> Variable: 2020-01-02 Importancia: 0.0002755943669265529\n",
            "--> Variable: 2020-01-03 Importancia: 0.0\n",
            "--> Variable: 2020-01-04 Importancia: 0.0006951273971185233\n",
            "--> Variable: 2020-01-05 Importancia: 0.00026488860338776387\n",
            "--> Variable: 2020-01-06 Importancia: 0.00013576773513936048\n",
            "--> Variable: 2020-01-07 Importancia: 0.00037218934475237426\n",
            "--> Variable: 2020-01-08 Importancia: 0.000293417591140548\n",
            "--> Variable: 2020-01-09 Importancia: 7.418066195992002e-05\n",
            "--> Variable: 2020-01-10 Importancia: 0.0010611834956015902\n",
            "--> Variable: 2020-01-11 Importancia: 0.00013785129368606487\n",
            "--> Variable: 2020-01-13 Importancia: 9.71455894093069e-05\n",
            "--> Variable: 2020-01-14 Importancia: 0.0002262976980072642\n",
            "--> Variable: 2020-01-15 Importancia: 1.145209313953899e-05\n",
            "--> Variable: 2020-01-17 Importancia: 0.0\n",
            "--> Variable: 2020-01-18 Importancia: 5.191431775374094e-05\n",
            "--> Variable: 2020-01-19 Importancia: 2.0142446446016648e-05\n",
            "--> Variable: 2020-01-20 Importancia: 0.0006368029721619706\n",
            "--> Variable: 2020-01-21 Importancia: 0.00018703594434472796\n",
            "--> Variable: 2020-01-22 Importancia: 0.00010201474044733829\n",
            "--> Variable: 2020-01-25 Importancia: 0.0010527530712790656\n",
            "--> Variable: 2020-01-26 Importancia: 0.0\n",
            "--> Variable: 2020-01-27 Importancia: 0.0002351208483510792\n",
            "--> Variable: 2020-01-28 Importancia: 3.641127868572673e-05\n",
            "--> Variable: 2020-01-29 Importancia: 1.9661673067005844e-05\n",
            "--> Variable: 2020-01-30 Importancia: 5.230279335041463e-05\n",
            "--> Variable: 2020-01-31 Importancia: 0.0001886114859928181\n",
            "--> Variable: 2020-02-01 Importancia: 0.0013060200544558276\n",
            "--> Variable: 2020-02-02 Importancia: 0.0001622967577651456\n",
            "--> Variable: 2020-02-03 Importancia: 0.0007352414462213959\n",
            "--> Variable: 2020-02-04 Importancia: 0.0013709121290165277\n",
            "--> Variable: 2020-02-05 Importancia: 0.0007092343445014506\n",
            "--> Variable: 2020-02-06 Importancia: 0.0003567274153422903\n",
            "--> Variable: 2020-02-07 Importancia: 0.0011032862679257543\n",
            "--> Variable: 2020-02-08 Importancia: 0.0002675560809246942\n",
            "--> Variable: 2020-02-09 Importancia: 0.002357325152527782\n",
            "--> Variable: 2020-02-10 Importancia: 0.0008031598055906197\n",
            "--> Variable: 2020-02-11 Importancia: 0.0012789025151692284\n",
            "--> Variable: 2020-02-12 Importancia: 0.0025308706089404182\n",
            "--> Variable: 2020-02-13 Importancia: 0.0014750653580606217\n",
            "--> Variable: 2020-02-14 Importancia: 0.0006855802939842403\n",
            "--> Variable: 2020-02-15 Importancia: 0.0015656568239508456\n",
            "--> Variable: 2020-02-16 Importancia: 0.001278719585845561\n",
            "--> Variable: 2020-02-17 Importancia: 0.00028824201657734667\n",
            "--> Variable: 2020-02-18 Importancia: 0.0007407338881570254\n",
            "--> Variable: 2020-02-19 Importancia: 0.0006681840368502362\n",
            "--> Variable: 2020-02-20 Importancia: 0.0010563470051061733\n",
            "--> Variable: 2020-02-21 Importancia: 0.0007214645063815276\n",
            "--> Variable: 2020-02-22 Importancia: 0.0004864586586287865\n",
            "--> Variable: 2020-02-23 Importancia: 0.0003715578445154019\n",
            "--> Variable: 2020-02-24 Importancia: 0.0005420942494137181\n",
            "--> Variable: 2020-02-25 Importancia: 0.0002935558397646541\n",
            "--> Variable: 2020-02-26 Importancia: 9.833647532456005e-05\n",
            "--> Variable: 2020-02-27 Importancia: 0.0\n",
            "--> Variable: 2020-02-28 Importancia: 0.0004122410970619601\n",
            "--> Variable: 2020-02-29 Importancia: 0.0\n",
            "--> Variable: 2020-03-01 Importancia: 0.001655316175036521\n",
            "--> Variable: 2020-03-02 Importancia: 0.0006994382987226175\n",
            "--> Variable: 2020-03-03 Importancia: 0.0004955139147172805\n",
            "--> Variable: 2020-03-04 Importancia: 0.0008455211588485393\n",
            "--> Variable: 2020-03-05 Importancia: 0.0004216932981745002\n",
            "--> Variable: 2020-03-06 Importancia: 0.0004686294106118302\n",
            "--> Variable: 2020-03-07 Importancia: 0.001085021939226421\n",
            "--> Variable: 2020-03-08 Importancia: 0.0002494912796210702\n",
            "--> Variable: 2020-03-09 Importancia: 0.0009821118283325262\n",
            "--> Variable: 2020-03-10 Importancia: 0.0008623867154693556\n",
            "--> Variable: 2020-03-11 Importancia: 0.0004794078578578301\n",
            "--> Variable: 2020-03-12 Importancia: 0.0007513706819135567\n",
            "--> Variable: 2020-03-13 Importancia: 0.0012299034859835918\n",
            "--> Variable: 2020-03-14 Importancia: 0.0013736132751331067\n",
            "--> Variable: 2020-03-15 Importancia: 0.0007568333281802228\n",
            "--> Variable: 2020-03-16 Importancia: 0.0020167781481178607\n",
            "--> Variable: 2020-03-17 Importancia: 0.0008198290439298104\n",
            "--> Variable: 2020-03-18 Importancia: 0.0009254369436058068\n",
            "--> Variable: 2020-03-19 Importancia: 0.0004096270949179736\n",
            "--> Variable: 2020-03-20 Importancia: 0.00016441820840826138\n",
            "--> Variable: 2020-03-21 Importancia: 2.5892769493661185e-05\n",
            "--> Variable: 2020-03-25 Importancia: 0.0003081989000708533\n",
            "--> Variable: 2020-03-26 Importancia: 0.0014442013589242519\n",
            "--> Variable: 2020-03-27 Importancia: 0.0006462678667127522\n",
            "--> Variable: 2020-03-28 Importancia: 5.733428688808887e-05\n",
            "--> Variable: 2020-03-29 Importancia: 9.587274640792111e-05\n",
            "--> Variable: 2020-03-30 Importancia: 5.83887003097494e-06\n",
            "--> Variable: 2020-03-31 Importancia: 0.0\n",
            "--> Variable: 2020-04-01 Importancia: 0.00023867635532257594\n",
            "--> Variable: 2020-04-02 Importancia: 0.0\n",
            "--> Variable: 2020-04-03 Importancia: 0.0003564021805082727\n",
            "--> Variable: 2020-04-04 Importancia: 0.0010854500149488908\n",
            "--> Variable: 2020-04-05 Importancia: 0.0009332394137879294\n",
            "--> Variable: 2020-04-06 Importancia: 4.5659106723995775e-05\n",
            "--> Variable: 2020-04-07 Importancia: 0.0004619045559676804\n",
            "--> Variable: 2020-04-08 Importancia: 0.0007747991244829176\n",
            "--> Variable: 2020-04-09 Importancia: 2.598011070598068e-05\n",
            "--> Variable: 2020-04-10 Importancia: 0.0002315301892819049\n",
            "--> Variable: 2020-04-11 Importancia: 0.0006297180023404361\n",
            "--> Variable: 2020-04-12 Importancia: 0.0006904991355411951\n",
            "--> Variable: 2020-04-13 Importancia: 2.68145720499644e-05\n",
            "--> Variable: 2020-04-14 Importancia: 0.0010631220346973714\n",
            "--> Variable: 2020-04-15 Importancia: 0.00017547459311150485\n",
            "--> Variable: 2020-04-16 Importancia: 0.000239982305138104\n",
            "--> Variable: 2020-04-17 Importancia: 0.0007384046809966665\n",
            "--> Variable: 2020-04-18 Importancia: 0.0013650721769555333\n",
            "--> Variable: 2020-04-19 Importancia: 6.145753707974627e-05\n",
            "--> Variable: 2020-04-20 Importancia: 9.91059149415917e-05\n",
            "--> Variable: 2020-04-21 Importancia: 0.0002710845834828539\n",
            "--> Variable: 2020-04-22 Importancia: 0.0017029949912033577\n",
            "--> Variable: 2020-04-23 Importancia: 0.00012574928637108885\n",
            "--> Variable: 2020-04-24 Importancia: 4.0832607382432e-05\n",
            "--> Variable: 2020-04-25 Importancia: 8.076615312644476e-05\n",
            "--> Variable: 2020-04-26 Importancia: 0.00016696205819446438\n",
            "--> Variable: 2020-04-27 Importancia: 0.00010435071492153746\n",
            "--> Variable: 2020-04-28 Importancia: 0.0001465572650971974\n",
            "--> Variable: 2020-04-29 Importancia: 0.0006398023793606117\n",
            "--> Variable: 2020-04-30 Importancia: 0.0004669282500105437\n",
            "--> Variable: 2020-05-02 Importancia: 0.0001653833928469\n",
            "--> Variable: 2020-05-03 Importancia: 0.0007872588001582027\n",
            "--> Variable: 2020-05-04 Importancia: 0.0013300562960373377\n",
            "--> Variable: 2020-05-05 Importancia: 0.002238982590827067\n",
            "--> Variable: 2020-05-06 Importancia: 0.00013053097239360773\n",
            "--> Variable: 2020-05-07 Importancia: 0.0004711543816709923\n",
            "--> Variable: 2020-05-08 Importancia: 0.00010027843879056099\n",
            "--> Variable: 2020-05-09 Importancia: 4.728638463228757e-05\n",
            "--> Variable: 2020-05-10 Importancia: 0.0008004801600782352\n",
            "--> Variable: 2020-05-11 Importancia: 0.00021218971621225213\n",
            "--> Variable: 2020-05-12 Importancia: 0.00036897484193115337\n",
            "--> Variable: 2020-05-13 Importancia: 0.0010916286959124907\n",
            "--> Variable: 2020-05-14 Importancia: 0.00040917155783860295\n",
            "--> Variable: 2020-05-15 Importancia: 0.0019668473503262245\n",
            "--> Variable: 2020-05-16 Importancia: 0.0005458339670480043\n",
            "--> Variable: 2020-05-17 Importancia: 0.00030385867473549014\n",
            "--> Variable: 2020-05-18 Importancia: 0.0002843515897767861\n",
            "--> Variable: 2020-05-19 Importancia: 0.00017921938235363863\n",
            "--> Variable: 2020-05-20 Importancia: 0.00026160981141121827\n",
            "--> Variable: 2020-05-21 Importancia: 0.0023614655440363304\n",
            "--> Variable: 2020-05-22 Importancia: 0.0008158254870324609\n",
            "--> Variable: 2020-05-23 Importancia: 0.0010154143146226839\n",
            "--> Variable: 2020-05-24 Importancia: 0.001670051994253231\n",
            "--> Variable: 2020-05-25 Importancia: 0.00020019232421530117\n",
            "--> Variable: 2020-05-26 Importancia: 0.0007195603656473912\n",
            "--> Variable: 2020-05-27 Importancia: 0.00010125613972684794\n",
            "--> Variable: 2020-05-28 Importancia: 5.756476968248841e-05\n",
            "--> Variable: 2020-05-29 Importancia: 0.00014667808545126251\n",
            "--> Variable: 2020-05-30 Importancia: 0.0009584452597096505\n",
            "--> Variable: 2020-05-31 Importancia: 0.0007677306208881718\n",
            "--> Variable: 2020-06-01 Importancia: 3.1011449693389865e-05\n",
            "--> Variable: 2020-06-02 Importancia: 0.0004946688999193072\n",
            "--> Variable: 2020-06-03 Importancia: 0.00032945611476749363\n",
            "--> Variable: 2020-06-04 Importancia: 0.0003106670785511268\n",
            "--> Variable: 2020-06-05 Importancia: 0.0012465113498253736\n",
            "--> Variable: 2020-06-06 Importancia: 0.00010763143025600934\n",
            "--> Variable: 2020-06-07 Importancia: 0.00024063297524962117\n",
            "--> Variable: 2020-06-08 Importancia: 0.0001290203467825612\n",
            "--> Variable: 2020-06-09 Importancia: 3.94885581677433e-05\n",
            "--> Variable: 2020-06-10 Importancia: 0.0007792341214063517\n",
            "--> Variable: 2020-06-11 Importancia: 0.0005504652184667519\n",
            "--> Variable: 2020-06-12 Importancia: 0.0008283520589923981\n",
            "--> Variable: 2020-06-13 Importancia: 0.0002946658825949931\n",
            "--> Variable: 2020-06-14 Importancia: 3.9040854542938736e-05\n",
            "--> Variable: 2020-06-15 Importancia: 0.0003698584373461533\n",
            "--> Variable: 2020-06-16 Importancia: 0.0002930910038053367\n",
            "--> Variable: 2020-06-17 Importancia: 0.0\n",
            "--> Variable: 2020-06-18 Importancia: 2.656045060020249e-05\n",
            "--> Variable: 2020-06-19 Importancia: 0.0002247823872893073\n",
            "--> Variable: 2020-06-20 Importancia: 9.968489785840884e-05\n",
            "--> Variable: 2020-06-21 Importancia: 0.00019712666475658246\n",
            "--> Variable: 2020-06-22 Importancia: 0.0004892807506561524\n",
            "--> Variable: 20000564 Importancia: 0.002671199024625346\n",
            "--> Variable: 20000770 Importancia: 0.0\n",
            "--> Variable: 20000778 Importancia: 0.0009273553342312836\n",
            "--> Variable: 20000847 Importancia: 0.0029686555221279626\n",
            "--> Variable: 20000868 Importancia: 0.0020904064569690415\n",
            "--> Variable: 20000875 Importancia: 0.0034046455204744188\n",
            "--> Variable: 20000905 Importancia: 0.0022115248059571923\n",
            "--> Variable: 20000964 Importancia: 0.0015577564558983932\n",
            "--> Variable: 20001014 Importancia: 0.0022742973058488274\n",
            "--> Variable: 20001236 Importancia: 0.0006072216891715767\n",
            "--> Variable: 20001237 Importancia: 0.0008443171427704134\n",
            "--> Variable: 20001512 Importancia: 0.002498491313439862\n",
            "--> Variable: 20001526 Importancia: 0.0006378745538059913\n",
            "--> Variable: 20002297 Importancia: 0.0034470334569516475\n",
            "--> Variable: 20002520 Importancia: 0.0005615286137455184\n",
            "--> Variable: 20002787 Importancia: 0.0016563220896689901\n",
            "--> Variable: 20003239 Importancia: 0.0024179905357459815\n",
            "--> Variable: 20003244 Importancia: 0.0005704180707665783\n",
            "--> Variable: 20003260 Importancia: 0.0018390155277066666\n",
            "--> Variable: 20003278 Importancia: 0.0025897475985312973\n",
            "--> Variable: 20003408 Importancia: 0.0019905224016179154\n",
            "--> Variable: 20003778 Importancia: 0.0027289713449847996\n",
            "--> Variable: 20003779 Importancia: 0.002008462193290022\n",
            "--> Variable: 20003858 Importancia: 0.0008499072790215404\n",
            "--> Variable: 20004398 Importancia: 0.0015440976410174985\n",
            "--> Variable: 20004884 Importancia: 0.0010168337840847942\n",
            "--> Variable: 20004895 Importancia: 0.005576987953326484\n",
            "--> Variable: 20005055 Importancia: 0.0009851488498441889\n",
            "--> Variable: 20005968 Importancia: 0.004577486383041582\n",
            "--> Variable: 20006912 Importancia: 0.001706947292634053\n"
          ],
          "name": "stdout"
        }
      ]
    },
    {
      "cell_type": "code",
      "metadata": {
        "colab_type": "code",
        "id": "jQL8kOHwDLbE",
        "colab": {}
      },
      "source": [
        ""
      ],
      "execution_count": 87,
      "outputs": []
    },
    {
      "cell_type": "markdown",
      "metadata": {
        "id": "9llfz7TSCrKS",
        "colab_type": "text"
      },
      "source": [
        "# Predicción Tdem (seg)"
      ]
    },
    {
      "cell_type": "markdown",
      "metadata": {
        "id": "5eSA_Jp4r6IC",
        "colab_type": "text"
      },
      "source": [
        "##Regresión Lineal"
      ]
    },
    {
      "cell_type": "markdown",
      "metadata": {
        "id": "wTtezhKduLpe",
        "colab_type": "text"
      },
      "source": [
        "Importamos y seleccionamos las variables que ocuparemos en el modelo"
      ]
    },
    {
      "cell_type": "code",
      "metadata": {
        "id": "ChVSMO0Cr4-7",
        "colab_type": "code",
        "colab": {}
      },
      "source": [
        "from sklearn.model_selection import train_test_split\n",
        "X = df_scaled[['Turno','Equipo','Movimiento (t)','Cargas (u)','Edad del empleado','Número de personal']]\n",
        "y = df_scaled['tdem (seg)']"
      ],
      "execution_count": 90,
      "outputs": []
    },
    {
      "cell_type": "markdown",
      "metadata": {
        "id": "P-0GbgVZuSuI",
        "colab_type": "text"
      },
      "source": [
        "Creamos la data de entrenamiento y test"
      ]
    },
    {
      "cell_type": "code",
      "metadata": {
        "id": "wgmUxF2gtWD9",
        "colab_type": "code",
        "colab": {}
      },
      "source": [
        "X_train, X_test, y_train, y_test = train_test_split(X, y, test_size=0.4, random_state=42)"
      ],
      "execution_count": 91,
      "outputs": []
    },
    {
      "cell_type": "markdown",
      "metadata": {
        "id": "IdH7MOj6uXBy",
        "colab_type": "text"
      },
      "source": [
        "Importamos el modelo de regresion lineal, creamos la regresion y generamos el .fit con la data de entrenamiento"
      ]
    },
    {
      "cell_type": "code",
      "metadata": {
        "id": "mVUxbFtdts_0",
        "colab_type": "code",
        "colab": {
          "base_uri": "https://localhost:8080/",
          "height": 34
        },
        "outputId": "ce8d9f73-d345-4adf-aa36-8d687643d575"
      },
      "source": [
        "from sklearn import linear_model\n",
        "modelo = linear_model.LinearRegression()\n",
        "modelo.fit(X_train,y_train)"
      ],
      "execution_count": 92,
      "outputs": [
        {
          "output_type": "execute_result",
          "data": {
            "text/plain": [
              "LinearRegression(copy_X=True, fit_intercept=True, n_jobs=None, normalize=False)"
            ]
          },
          "metadata": {
            "tags": []
          },
          "execution_count": 92
        }
      ]
    },
    {
      "cell_type": "markdown",
      "metadata": {
        "id": "R2yh12ieunWw",
        "colab_type": "text"
      },
      "source": [
        "\n",
        "Predicción con la data de test"
      ]
    },
    {
      "cell_type": "code",
      "metadata": {
        "id": "ZMgMttIgtu_r",
        "colab_type": "code",
        "colab": {}
      },
      "source": [
        "y_pred = modelo.predict(X_test)"
      ],
      "execution_count": 93,
      "outputs": []
    },
    {
      "cell_type": "code",
      "metadata": {
        "id": "D3XNkjLuuuVb",
        "colab_type": "code",
        "colab": {
          "base_uri": "https://localhost:8080/",
          "height": 235
        },
        "outputId": "e799f1d2-3ec2-47ce-bf2d-821fe98cb502"
      },
      "source": [
        "pd.DataFrame(modelo.coef_,X.columns,columns=['Coefficient'])"
      ],
      "execution_count": 94,
      "outputs": [
        {
          "output_type": "execute_result",
          "data": {
            "text/html": [
              "<div>\n",
              "<style scoped>\n",
              "    .dataframe tbody tr th:only-of-type {\n",
              "        vertical-align: middle;\n",
              "    }\n",
              "\n",
              "    .dataframe tbody tr th {\n",
              "        vertical-align: top;\n",
              "    }\n",
              "\n",
              "    .dataframe thead th {\n",
              "        text-align: right;\n",
              "    }\n",
              "</style>\n",
              "<table border=\"1\" class=\"dataframe\">\n",
              "  <thead>\n",
              "    <tr style=\"text-align: right;\">\n",
              "      <th></th>\n",
              "      <th>Coefficient</th>\n",
              "    </tr>\n",
              "  </thead>\n",
              "  <tbody>\n",
              "    <tr>\n",
              "      <th>Turno</th>\n",
              "      <td>384.053100</td>\n",
              "    </tr>\n",
              "    <tr>\n",
              "      <th>Equipo</th>\n",
              "      <td>4.424534</td>\n",
              "    </tr>\n",
              "    <tr>\n",
              "      <th>Movimiento (t)</th>\n",
              "      <td>-4486.534038</td>\n",
              "    </tr>\n",
              "    <tr>\n",
              "      <th>Cargas (u)</th>\n",
              "      <td>5106.005129</td>\n",
              "    </tr>\n",
              "    <tr>\n",
              "      <th>Edad del empleado</th>\n",
              "      <td>119.484760</td>\n",
              "    </tr>\n",
              "    <tr>\n",
              "      <th>Número de personal</th>\n",
              "      <td>0.092851</td>\n",
              "    </tr>\n",
              "  </tbody>\n",
              "</table>\n",
              "</div>"
            ],
            "text/plain": [
              "                    Coefficient\n",
              "Turno                384.053100\n",
              "Equipo                 4.424534\n",
              "Movimiento (t)     -4486.534038\n",
              "Cargas (u)          5106.005129\n",
              "Edad del empleado    119.484760\n",
              "Número de personal     0.092851"
            ]
          },
          "metadata": {
            "tags": []
          },
          "execution_count": 94
        }
      ]
    },
    {
      "cell_type": "code",
      "metadata": {
        "id": "d20e-eUGt3T1",
        "colab_type": "code",
        "colab": {
          "base_uri": "https://localhost:8080/",
          "height": 356
        },
        "outputId": "ffbd652e-8924-4184-f8bb-a91a6049b5aa"
      },
      "source": [
        "plt.figure(figsize=(10,5))\n",
        "sns.scatterplot(y_test,y_pred,color='blue',alpha=0.5)"
      ],
      "execution_count": 95,
      "outputs": [
        {
          "output_type": "execute_result",
          "data": {
            "text/plain": [
              "<matplotlib.axes._subplots.AxesSubplot at 0x7fa7f2351588>"
            ]
          },
          "metadata": {
            "tags": []
          },
          "execution_count": 95
        },
        {
          "output_type": "display_data",
          "data": {
            "image/png": "[encoded data removed]",
            "text/plain": [
              "<Figure size 720x360 with 1 Axes>"
            ]
          },
          "metadata": {
            "tags": []
          }
        }
      ]
    },
    {
      "cell_type": "markdown",
      "metadata": {
        "id": "Yjx6NaQRu4z0",
        "colab_type": "text"
      },
      "source": [
        "Residuales"
      ]
    },
    {
      "cell_type": "code",
      "metadata": {
        "id": "NYTICpJht_jG",
        "colab_type": "code",
        "colab": {
          "base_uri": "https://localhost:8080/",
          "height": 302
        },
        "outputId": "5db8ae9f-8bc9-435c-8f9d-212462f43d66"
      },
      "source": [
        "sns.distplot((y_test-y_pred),bins=50)"
      ],
      "execution_count": 96,
      "outputs": [
        {
          "output_type": "execute_result",
          "data": {
            "text/plain": [
              "<matplotlib.axes._subplots.AxesSubplot at 0x7fa7f20eae10>"
            ]
          },
          "metadata": {
            "tags": []
          },
          "execution_count": 96
        },
        {
          "output_type": "display_data",
          "data": {
            "image/png": "[encoded data removed]",
            "text/plain": [
              "<Figure size 432x288 with 1 Axes>"
            ]
          },
          "metadata": {
            "tags": []
          }
        }
      ]
    },
    {
      "cell_type": "markdown",
      "metadata": {
        "id": "znH6r_o5u6Gy",
        "colab_type": "text"
      },
      "source": [
        "Error Cuadratico Medio"
      ]
    },
    {
      "cell_type": "code",
      "metadata": {
        "id": "V_tHE-MTuDNr",
        "colab_type": "code",
        "colab": {
          "base_uri": "https://localhost:8080/",
          "height": 34
        },
        "outputId": "580c6331-5261-4d19-95d1-f31ddd67e86e"
      },
      "source": [
        "from sklearn import metrics\n",
        "print(f'Error Cuadrático Medio: {metrics.mean_squared_error(y_test,y_pred)}')"
      ],
      "execution_count": 97,
      "outputs": [
        {
          "output_type": "stream",
          "text": [
            "Error Cuadrático Medio: 3938166.559714267\n"
          ],
          "name": "stdout"
        }
      ]
    },
    {
      "cell_type": "markdown",
      "metadata": {
        "id": "fJjWgM1zu8-M",
        "colab_type": "text"
      },
      "source": [
        "Se peude decir que la regresion lineal no en el mejor modelo para este tipo de data"
      ]
    },
    {
      "cell_type": "code",
      "metadata": {
        "id": "CQ2jFjGgvLvv",
        "colab_type": "code",
        "colab": {}
      },
      "source": [
        ""
      ],
      "execution_count": 97,
      "outputs": []
    },
    {
      "cell_type": "markdown",
      "metadata": {
        "id": "2_0hj4rxgIip",
        "colab_type": "text"
      },
      "source": [
        "##Regresión Logística"
      ]
    },
    {
      "cell_type": "markdown",
      "metadata": {
        "id": "Nkh9lMF0j6vg",
        "colab_type": "text"
      },
      "source": [
        "Generamos nuestro data de entrenamiento y le eliminamos las columnas que no ocuparemos en el modolamiento"
      ]
    },
    {
      "cell_type": "code",
      "metadata": {
        "id": "n1SgIpEegXix",
        "colab_type": "code",
        "colab": {}
      },
      "source": [
        "filtro = ['Demora (bin)','Cargas (u)','Movimiento (t)','Edad del empleado']\n",
        "train = df_scaled[filtro]"
      ],
      "execution_count": 311,
      "outputs": []
    },
    {
      "cell_type": "code",
      "metadata": {
        "id": "SonQhALaWA80",
        "colab_type": "code",
        "colab": {
          "base_uri": "https://localhost:8080/",
          "height": 204
        },
        "outputId": "0427a224-693e-4913-da9c-992f53d8d812"
      },
      "source": [
        "train.info()"
      ],
      "execution_count": 312,
      "outputs": [
        {
          "output_type": "stream",
          "text": [
            "<class 'pandas.core.frame.DataFrame'>\n",
            "RangeIndex: 1825 entries, 0 to 1824\n",
            "Data columns (total 4 columns):\n",
            " #   Column             Non-Null Count  Dtype  \n",
            "---  ------             --------------  -----  \n",
            " 0   Demora (bin)       1825 non-null   int64  \n",
            " 1   Cargas (u)         1825 non-null   float64\n",
            " 2   Movimiento (t)     1825 non-null   float64\n",
            " 3   Edad del empleado  1825 non-null   float64\n",
            "dtypes: float64(3), int64(1)\n",
            "memory usage: 57.2 KB\n"
          ],
          "name": "stdout"
        }
      ]
    },
    {
      "cell_type": "markdown",
      "metadata": {
        "id": "L6ScVyuOiJT9",
        "colab_type": "text"
      },
      "source": [
        "Creamos nuestras variables dummies"
      ]
    },
    {
      "cell_type": "code",
      "metadata": {
        "id": "eIEsZe8VI0H5",
        "colab_type": "code",
        "colab": {}
      },
      "source": [
        "unidad = pd.get_dummies(df_scaled['Unidad organizativa'])\n",
        "posicion = pd.get_dummies(df_scaled['Posición'])\n",
        "turno = pd.get_dummies(df_scaled['Turno'])\n",
        "fecha = pd.get_dummies(df_scaled['Fecha'])\n",
        "numero_personal = pd.get_dummies(df_scaled['Número de personal'])"
      ],
      "execution_count": 313,
      "outputs": []
    },
    {
      "cell_type": "markdown",
      "metadata": {
        "id": "2IBV0cQ8jZ7q",
        "colab_type": "text"
      },
      "source": [
        "Agregamos las variables dummies a la data de entrenamiento"
      ]
    },
    {
      "cell_type": "code",
      "metadata": {
        "id": "rIuvZ0pXiG-A",
        "colab_type": "code",
        "colab": {}
      },
      "source": [
        "train = pd.concat([train,unidad,posicion,turno,fecha,numero_personal],axis=1)"
      ],
      "execution_count": 314,
      "outputs": []
    },
    {
      "cell_type": "code",
      "metadata": {
        "id": "XBgfpXe9kzoh",
        "colab_type": "code",
        "colab": {
          "base_uri": "https://localhost:8080/",
          "height": 338
        },
        "outputId": "ce8a749d-1e5a-4657-af6f-5db92efae1c3"
      },
      "source": [
        "train.head()"
      ],
      "execution_count": 315,
      "outputs": [
        {
          "output_type": "execute_result",
          "data": {
            "text/html": [
              "<div>\n",
              "<style scoped>\n",
              "    .dataframe tbody tr th:only-of-type {\n",
              "        vertical-align: middle;\n",
              "    }\n",
              "\n",
              "    .dataframe tbody tr th {\n",
              "        vertical-align: top;\n",
              "    }\n",
              "\n",
              "    .dataframe thead th {\n",
              "        text-align: right;\n",
              "    }\n",
              "</style>\n",
              "<table border=\"1\" class=\"dataframe\">\n",
              "  <thead>\n",
              "    <tr style=\"text-align: right;\">\n",
              "      <th></th>\n",
              "      <th>Demora (bin)</th>\n",
              "      <th>Cargas (u)</th>\n",
              "      <th>Movimiento (t)</th>\n",
              "      <th>Edad del empleado</th>\n",
              "      <th>ADMINISTRACION SUPTCIA PLANTAS</th>\n",
              "      <th>ALJIBES MLC</th>\n",
              "      <th>CAMIONES CAT 793F MLC</th>\n",
              "      <th>CAMIONES KOMATSU 830E MLC</th>\n",
              "      <th>CARGADORES FRONTALES MLC</th>\n",
              "      <th>GEOLOGIA DE PRODUCCION</th>\n",
              "      <th>INGENIERIA DE PROCESOS</th>\n",
              "      <th>MANTENIMIENTO MINA</th>\n",
              "      <th>MOTONIVELADORAS MLC</th>\n",
              "      <th>PALAS HIDRAULICAS MLC</th>\n",
              "      <th>PLANIFICACION MANTTO. MINA</th>\n",
              "      <th>SERVICIO SOCIAL VHUASCO</th>\n",
              "      <th>SISTEMAS DE CONTROL Y POTENCIA</th>\n",
              "      <th>TRACTORES NEUMATICOS MLC</th>\n",
              "      <th>TRACTORES ORUGA MLC</th>\n",
              "      <th>ASISTENTE GEOLOGIA</th>\n",
              "      <th>AYUDANTE ADMINISTRATIVO</th>\n",
              "      <th>CONTROLADOR PLANIFICACION</th>\n",
              "      <th>ELECTRICO I</th>\n",
              "      <th>ELECTRICO III</th>\n",
              "      <th>INGENIERO DE PROCESOS</th>\n",
              "      <th>JEFE SISTEMAS DE CONTROL Y POTENCIA</th>\n",
              "      <th>MECANICO I</th>\n",
              "      <th>MECANICO III</th>\n",
              "      <th>OPERADOR ELECTRICO II PLANTA</th>\n",
              "      <th>OPERADOR I</th>\n",
              "      <th>OPERADOR II</th>\n",
              "      <th>OPERADOR III</th>\n",
              "      <th>OPERADOR MECANICO III PLANTA</th>\n",
              "      <th>PLANIFICADOR MANTENIMIENTO MINA</th>\n",
              "      <th>1</th>\n",
              "      <th>2</th>\n",
              "      <th>2019-07-01</th>\n",
              "      <th>2019-07-02</th>\n",
              "      <th>2019-07-03</th>\n",
              "      <th>2019-07-04</th>\n",
              "      <th>...</th>\n",
              "      <th>2020-06-13</th>\n",
              "      <th>2020-06-14</th>\n",
              "      <th>2020-06-15</th>\n",
              "      <th>2020-06-16</th>\n",
              "      <th>2020-06-17</th>\n",
              "      <th>2020-06-18</th>\n",
              "      <th>2020-06-19</th>\n",
              "      <th>2020-06-20</th>\n",
              "      <th>2020-06-21</th>\n",
              "      <th>2020-06-22</th>\n",
              "      <th>20000564</th>\n",
              "      <th>20000770</th>\n",
              "      <th>20000778</th>\n",
              "      <th>20000847</th>\n",
              "      <th>20000868</th>\n",
              "      <th>20000875</th>\n",
              "      <th>20000905</th>\n",
              "      <th>20000964</th>\n",
              "      <th>20001014</th>\n",
              "      <th>20001236</th>\n",
              "      <th>20001237</th>\n",
              "      <th>20001512</th>\n",
              "      <th>20001526</th>\n",
              "      <th>20002297</th>\n",
              "      <th>20002520</th>\n",
              "      <th>20002787</th>\n",
              "      <th>20003239</th>\n",
              "      <th>20003244</th>\n",
              "      <th>20003260</th>\n",
              "      <th>20003278</th>\n",
              "      <th>20003408</th>\n",
              "      <th>20003778</th>\n",
              "      <th>20003779</th>\n",
              "      <th>20003858</th>\n",
              "      <th>20004398</th>\n",
              "      <th>20004884</th>\n",
              "      <th>20004895</th>\n",
              "      <th>20005055</th>\n",
              "      <th>20005968</th>\n",
              "      <th>20006912</th>\n",
              "    </tr>\n",
              "  </thead>\n",
              "  <tbody>\n",
              "    <tr>\n",
              "      <th>0</th>\n",
              "      <td>0</td>\n",
              "      <td>0.668797</td>\n",
              "      <td>0.625564</td>\n",
              "      <td>-1.424177</td>\n",
              "      <td>0</td>\n",
              "      <td>0</td>\n",
              "      <td>0</td>\n",
              "      <td>0</td>\n",
              "      <td>0</td>\n",
              "      <td>0</td>\n",
              "      <td>0</td>\n",
              "      <td>1</td>\n",
              "      <td>0</td>\n",
              "      <td>0</td>\n",
              "      <td>0</td>\n",
              "      <td>0</td>\n",
              "      <td>0</td>\n",
              "      <td>0</td>\n",
              "      <td>0</td>\n",
              "      <td>0</td>\n",
              "      <td>0</td>\n",
              "      <td>0</td>\n",
              "      <td>0</td>\n",
              "      <td>1</td>\n",
              "      <td>0</td>\n",
              "      <td>0</td>\n",
              "      <td>0</td>\n",
              "      <td>0</td>\n",
              "      <td>0</td>\n",
              "      <td>0</td>\n",
              "      <td>0</td>\n",
              "      <td>0</td>\n",
              "      <td>0</td>\n",
              "      <td>0</td>\n",
              "      <td>0</td>\n",
              "      <td>1</td>\n",
              "      <td>1</td>\n",
              "      <td>0</td>\n",
              "      <td>0</td>\n",
              "      <td>0</td>\n",
              "      <td>...</td>\n",
              "      <td>0</td>\n",
              "      <td>0</td>\n",
              "      <td>0</td>\n",
              "      <td>0</td>\n",
              "      <td>0</td>\n",
              "      <td>0</td>\n",
              "      <td>0</td>\n",
              "      <td>0</td>\n",
              "      <td>0</td>\n",
              "      <td>0</td>\n",
              "      <td>0</td>\n",
              "      <td>0</td>\n",
              "      <td>0</td>\n",
              "      <td>0</td>\n",
              "      <td>0</td>\n",
              "      <td>0</td>\n",
              "      <td>0</td>\n",
              "      <td>0</td>\n",
              "      <td>0</td>\n",
              "      <td>0</td>\n",
              "      <td>0</td>\n",
              "      <td>0</td>\n",
              "      <td>0</td>\n",
              "      <td>0</td>\n",
              "      <td>0</td>\n",
              "      <td>1</td>\n",
              "      <td>0</td>\n",
              "      <td>0</td>\n",
              "      <td>0</td>\n",
              "      <td>0</td>\n",
              "      <td>0</td>\n",
              "      <td>0</td>\n",
              "      <td>0</td>\n",
              "      <td>0</td>\n",
              "      <td>0</td>\n",
              "      <td>0</td>\n",
              "      <td>0</td>\n",
              "      <td>0</td>\n",
              "      <td>0</td>\n",
              "      <td>0</td>\n",
              "    </tr>\n",
              "    <tr>\n",
              "      <th>1</th>\n",
              "      <td>0</td>\n",
              "      <td>-1.277362</td>\n",
              "      <td>-1.268354</td>\n",
              "      <td>0.729983</td>\n",
              "      <td>0</td>\n",
              "      <td>0</td>\n",
              "      <td>0</td>\n",
              "      <td>0</td>\n",
              "      <td>0</td>\n",
              "      <td>0</td>\n",
              "      <td>0</td>\n",
              "      <td>1</td>\n",
              "      <td>0</td>\n",
              "      <td>0</td>\n",
              "      <td>0</td>\n",
              "      <td>0</td>\n",
              "      <td>0</td>\n",
              "      <td>0</td>\n",
              "      <td>0</td>\n",
              "      <td>0</td>\n",
              "      <td>0</td>\n",
              "      <td>0</td>\n",
              "      <td>0</td>\n",
              "      <td>0</td>\n",
              "      <td>0</td>\n",
              "      <td>0</td>\n",
              "      <td>1</td>\n",
              "      <td>0</td>\n",
              "      <td>0</td>\n",
              "      <td>0</td>\n",
              "      <td>0</td>\n",
              "      <td>0</td>\n",
              "      <td>0</td>\n",
              "      <td>0</td>\n",
              "      <td>0</td>\n",
              "      <td>1</td>\n",
              "      <td>1</td>\n",
              "      <td>0</td>\n",
              "      <td>0</td>\n",
              "      <td>0</td>\n",
              "      <td>...</td>\n",
              "      <td>0</td>\n",
              "      <td>0</td>\n",
              "      <td>0</td>\n",
              "      <td>0</td>\n",
              "      <td>0</td>\n",
              "      <td>0</td>\n",
              "      <td>0</td>\n",
              "      <td>0</td>\n",
              "      <td>0</td>\n",
              "      <td>0</td>\n",
              "      <td>0</td>\n",
              "      <td>0</td>\n",
              "      <td>0</td>\n",
              "      <td>0</td>\n",
              "      <td>0</td>\n",
              "      <td>1</td>\n",
              "      <td>0</td>\n",
              "      <td>0</td>\n",
              "      <td>0</td>\n",
              "      <td>0</td>\n",
              "      <td>0</td>\n",
              "      <td>0</td>\n",
              "      <td>0</td>\n",
              "      <td>0</td>\n",
              "      <td>0</td>\n",
              "      <td>0</td>\n",
              "      <td>0</td>\n",
              "      <td>0</td>\n",
              "      <td>0</td>\n",
              "      <td>0</td>\n",
              "      <td>0</td>\n",
              "      <td>0</td>\n",
              "      <td>0</td>\n",
              "      <td>0</td>\n",
              "      <td>0</td>\n",
              "      <td>0</td>\n",
              "      <td>0</td>\n",
              "      <td>0</td>\n",
              "      <td>0</td>\n",
              "      <td>0</td>\n",
              "    </tr>\n",
              "    <tr>\n",
              "      <th>2</th>\n",
              "      <td>1</td>\n",
              "      <td>0.836983</td>\n",
              "      <td>0.853396</td>\n",
              "      <td>1.419314</td>\n",
              "      <td>1</td>\n",
              "      <td>0</td>\n",
              "      <td>0</td>\n",
              "      <td>0</td>\n",
              "      <td>0</td>\n",
              "      <td>0</td>\n",
              "      <td>0</td>\n",
              "      <td>0</td>\n",
              "      <td>0</td>\n",
              "      <td>0</td>\n",
              "      <td>0</td>\n",
              "      <td>0</td>\n",
              "      <td>0</td>\n",
              "      <td>0</td>\n",
              "      <td>0</td>\n",
              "      <td>0</td>\n",
              "      <td>0</td>\n",
              "      <td>0</td>\n",
              "      <td>0</td>\n",
              "      <td>0</td>\n",
              "      <td>0</td>\n",
              "      <td>0</td>\n",
              "      <td>0</td>\n",
              "      <td>0</td>\n",
              "      <td>1</td>\n",
              "      <td>0</td>\n",
              "      <td>0</td>\n",
              "      <td>0</td>\n",
              "      <td>0</td>\n",
              "      <td>0</td>\n",
              "      <td>0</td>\n",
              "      <td>1</td>\n",
              "      <td>1</td>\n",
              "      <td>0</td>\n",
              "      <td>0</td>\n",
              "      <td>0</td>\n",
              "      <td>...</td>\n",
              "      <td>0</td>\n",
              "      <td>0</td>\n",
              "      <td>0</td>\n",
              "      <td>0</td>\n",
              "      <td>0</td>\n",
              "      <td>0</td>\n",
              "      <td>0</td>\n",
              "      <td>0</td>\n",
              "      <td>0</td>\n",
              "      <td>0</td>\n",
              "      <td>0</td>\n",
              "      <td>0</td>\n",
              "      <td>0</td>\n",
              "      <td>0</td>\n",
              "      <td>0</td>\n",
              "      <td>0</td>\n",
              "      <td>0</td>\n",
              "      <td>0</td>\n",
              "      <td>1</td>\n",
              "      <td>0</td>\n",
              "      <td>0</td>\n",
              "      <td>0</td>\n",
              "      <td>0</td>\n",
              "      <td>0</td>\n",
              "      <td>0</td>\n",
              "      <td>0</td>\n",
              "      <td>0</td>\n",
              "      <td>0</td>\n",
              "      <td>0</td>\n",
              "      <td>0</td>\n",
              "      <td>0</td>\n",
              "      <td>0</td>\n",
              "      <td>0</td>\n",
              "      <td>0</td>\n",
              "      <td>0</td>\n",
              "      <td>0</td>\n",
              "      <td>0</td>\n",
              "      <td>0</td>\n",
              "      <td>0</td>\n",
              "      <td>0</td>\n",
              "    </tr>\n",
              "    <tr>\n",
              "      <th>3</th>\n",
              "      <td>0</td>\n",
              "      <td>1.990262</td>\n",
              "      <td>1.963414</td>\n",
              "      <td>0.212984</td>\n",
              "      <td>0</td>\n",
              "      <td>0</td>\n",
              "      <td>1</td>\n",
              "      <td>0</td>\n",
              "      <td>0</td>\n",
              "      <td>0</td>\n",
              "      <td>0</td>\n",
              "      <td>0</td>\n",
              "      <td>0</td>\n",
              "      <td>0</td>\n",
              "      <td>0</td>\n",
              "      <td>0</td>\n",
              "      <td>0</td>\n",
              "      <td>0</td>\n",
              "      <td>0</td>\n",
              "      <td>0</td>\n",
              "      <td>0</td>\n",
              "      <td>0</td>\n",
              "      <td>0</td>\n",
              "      <td>0</td>\n",
              "      <td>0</td>\n",
              "      <td>0</td>\n",
              "      <td>0</td>\n",
              "      <td>0</td>\n",
              "      <td>0</td>\n",
              "      <td>0</td>\n",
              "      <td>0</td>\n",
              "      <td>1</td>\n",
              "      <td>0</td>\n",
              "      <td>0</td>\n",
              "      <td>1</td>\n",
              "      <td>0</td>\n",
              "      <td>0</td>\n",
              "      <td>1</td>\n",
              "      <td>0</td>\n",
              "      <td>0</td>\n",
              "      <td>...</td>\n",
              "      <td>0</td>\n",
              "      <td>0</td>\n",
              "      <td>0</td>\n",
              "      <td>0</td>\n",
              "      <td>0</td>\n",
              "      <td>0</td>\n",
              "      <td>0</td>\n",
              "      <td>0</td>\n",
              "      <td>0</td>\n",
              "      <td>0</td>\n",
              "      <td>0</td>\n",
              "      <td>0</td>\n",
              "      <td>0</td>\n",
              "      <td>0</td>\n",
              "      <td>0</td>\n",
              "      <td>0</td>\n",
              "      <td>0</td>\n",
              "      <td>0</td>\n",
              "      <td>0</td>\n",
              "      <td>0</td>\n",
              "      <td>0</td>\n",
              "      <td>0</td>\n",
              "      <td>0</td>\n",
              "      <td>0</td>\n",
              "      <td>0</td>\n",
              "      <td>0</td>\n",
              "      <td>0</td>\n",
              "      <td>0</td>\n",
              "      <td>0</td>\n",
              "      <td>0</td>\n",
              "      <td>0</td>\n",
              "      <td>0</td>\n",
              "      <td>0</td>\n",
              "      <td>0</td>\n",
              "      <td>0</td>\n",
              "      <td>0</td>\n",
              "      <td>1</td>\n",
              "      <td>0</td>\n",
              "      <td>0</td>\n",
              "      <td>0</td>\n",
              "    </tr>\n",
              "    <tr>\n",
              "      <th>4</th>\n",
              "      <td>0</td>\n",
              "      <td>-1.397495</td>\n",
              "      <td>-1.392686</td>\n",
              "      <td>-1.079512</td>\n",
              "      <td>0</td>\n",
              "      <td>0</td>\n",
              "      <td>0</td>\n",
              "      <td>0</td>\n",
              "      <td>0</td>\n",
              "      <td>0</td>\n",
              "      <td>0</td>\n",
              "      <td>1</td>\n",
              "      <td>0</td>\n",
              "      <td>0</td>\n",
              "      <td>0</td>\n",
              "      <td>0</td>\n",
              "      <td>0</td>\n",
              "      <td>0</td>\n",
              "      <td>0</td>\n",
              "      <td>0</td>\n",
              "      <td>0</td>\n",
              "      <td>0</td>\n",
              "      <td>0</td>\n",
              "      <td>0</td>\n",
              "      <td>0</td>\n",
              "      <td>0</td>\n",
              "      <td>0</td>\n",
              "      <td>1</td>\n",
              "      <td>0</td>\n",
              "      <td>0</td>\n",
              "      <td>0</td>\n",
              "      <td>0</td>\n",
              "      <td>0</td>\n",
              "      <td>0</td>\n",
              "      <td>1</td>\n",
              "      <td>0</td>\n",
              "      <td>0</td>\n",
              "      <td>1</td>\n",
              "      <td>0</td>\n",
              "      <td>0</td>\n",
              "      <td>...</td>\n",
              "      <td>0</td>\n",
              "      <td>0</td>\n",
              "      <td>0</td>\n",
              "      <td>0</td>\n",
              "      <td>0</td>\n",
              "      <td>0</td>\n",
              "      <td>0</td>\n",
              "      <td>0</td>\n",
              "      <td>0</td>\n",
              "      <td>0</td>\n",
              "      <td>0</td>\n",
              "      <td>0</td>\n",
              "      <td>0</td>\n",
              "      <td>0</td>\n",
              "      <td>0</td>\n",
              "      <td>0</td>\n",
              "      <td>0</td>\n",
              "      <td>0</td>\n",
              "      <td>0</td>\n",
              "      <td>0</td>\n",
              "      <td>0</td>\n",
              "      <td>0</td>\n",
              "      <td>0</td>\n",
              "      <td>0</td>\n",
              "      <td>0</td>\n",
              "      <td>0</td>\n",
              "      <td>0</td>\n",
              "      <td>0</td>\n",
              "      <td>0</td>\n",
              "      <td>1</td>\n",
              "      <td>0</td>\n",
              "      <td>0</td>\n",
              "      <td>0</td>\n",
              "      <td>0</td>\n",
              "      <td>0</td>\n",
              "      <td>0</td>\n",
              "      <td>0</td>\n",
              "      <td>0</td>\n",
              "      <td>0</td>\n",
              "      <td>0</td>\n",
              "    </tr>\n",
              "  </tbody>\n",
              "</table>\n",
              "<p>5 rows × 408 columns</p>\n",
              "</div>"
            ],
            "text/plain": [
              "   Demora (bin)  Cargas (u)  Movimiento (t)  ...  20005055  20005968  20006912\n",
              "0             0    0.668797        0.625564  ...         0         0         0\n",
              "1             0   -1.277362       -1.268354  ...         0         0         0\n",
              "2             1    0.836983        0.853396  ...         0         0         0\n",
              "3             0    1.990262        1.963414  ...         0         0         0\n",
              "4             0   -1.397495       -1.392686  ...         0         0         0\n",
              "\n",
              "[5 rows x 408 columns]"
            ]
          },
          "metadata": {
            "tags": []
          },
          "execution_count": 315
        }
      ]
    },
    {
      "cell_type": "markdown",
      "metadata": {
        "id": "BdL-JpfjmMfM",
        "colab_type": "text"
      },
      "source": [
        "Creamos nuestra data de entrenamiento y de test"
      ]
    },
    {
      "cell_type": "code",
      "metadata": {
        "id": "RxspgsE0kish",
        "colab_type": "code",
        "colab": {}
      },
      "source": [
        "from sklearn.model_selection import train_test_split\n",
        "X_train, X_test, y_train, y_test = train_test_split(train.drop('Demora (bin)',axis=1),\n",
        "                                                    train['Demora (bin)'],\n",
        "                                                    test_size=0.30,random_state=42)"
      ],
      "execution_count": 317,
      "outputs": []
    },
    {
      "cell_type": "markdown",
      "metadata": {
        "id": "twww7wKAniGm",
        "colab_type": "text"
      },
      "source": [
        "Importamos el modelo, creamos la regresión y entrenamos con nuestra data de entrenamiento"
      ]
    },
    {
      "cell_type": "code",
      "metadata": {
        "id": "3U42X6YkmHph",
        "colab_type": "code",
        "colab": {
          "base_uri": "https://localhost:8080/",
          "height": 102
        },
        "outputId": "c199ba36-674d-4e2a-cdb0-008b391aacc6"
      },
      "source": [
        "from sklearn.linear_model import LogisticRegression\n",
        "modelo = LogisticRegression()\n",
        "modelo.fit(X_train,y_train)"
      ],
      "execution_count": 318,
      "outputs": [
        {
          "output_type": "execute_result",
          "data": {
            "text/plain": [
              "LogisticRegression(C=1.0, class_weight=None, dual=False, fit_intercept=True,\n",
              "                   intercept_scaling=1, l1_ratio=None, max_iter=100,\n",
              "                   multi_class='auto', n_jobs=None, penalty='l2',\n",
              "                   random_state=None, solver='lbfgs', tol=0.0001, verbose=0,\n",
              "                   warm_start=False)"
            ]
          },
          "metadata": {
            "tags": []
          },
          "execution_count": 318
        }
      ]
    },
    {
      "cell_type": "markdown",
      "metadata": {
        "id": "l0hxfk1-nw7N",
        "colab_type": "text"
      },
      "source": [
        "Predicción con la data de test"
      ]
    },
    {
      "cell_type": "code",
      "metadata": {
        "id": "Yso-AHXEmdnq",
        "colab_type": "code",
        "colab": {}
      },
      "source": [
        "y_pred = modelo.predict(X_test)"
      ],
      "execution_count": 319,
      "outputs": []
    },
    {
      "cell_type": "markdown",
      "metadata": {
        "id": "DivMnBkQqvqR",
        "colab_type": "text"
      },
      "source": [
        "Evaluacion del modelo"
      ]
    },
    {
      "cell_type": "code",
      "metadata": {
        "id": "V-9LGlaCqrLQ",
        "colab_type": "code",
        "colab": {
          "base_uri": "https://localhost:8080/",
          "height": 170
        },
        "outputId": "02653543-8b06-42e2-db25-d7c004167797"
      },
      "source": [
        "from sklearn.metrics import classification_report\n",
        "print(classification_report(y_test,y_pred))"
      ],
      "execution_count": 320,
      "outputs": [
        {
          "output_type": "stream",
          "text": [
            "              precision    recall  f1-score   support\n",
            "\n",
            "           0       0.69      0.70      0.70       270\n",
            "           1       0.71      0.70      0.70       278\n",
            "\n",
            "    accuracy                           0.70       548\n",
            "   macro avg       0.70      0.70      0.70       548\n",
            "weighted avg       0.70      0.70      0.70       548\n",
            "\n"
          ],
          "name": "stdout"
        }
      ]
    },
    {
      "cell_type": "code",
      "metadata": {
        "id": "rWHM5yv_tNcI",
        "colab_type": "code",
        "colab": {
          "base_uri": "https://localhost:8080/",
          "height": 51
        },
        "outputId": "228d2b51-40b1-446c-85d4-af2a468481b7"
      },
      "source": [
        "from sklearn.metrics import confusion_matrix\n",
        "print(confusion_matrix(y_test,y_pred))"
      ],
      "execution_count": 321,
      "outputs": [
        {
          "output_type": "stream",
          "text": [
            "[[189  81]\n",
            " [ 83 195]]\n"
          ],
          "name": "stdout"
        }
      ]
    },
    {
      "cell_type": "code",
      "metadata": {
        "id": "woAieHYInHeq",
        "colab_type": "code",
        "colab": {}
      },
      "source": [
        ""
      ],
      "execution_count": 321,
      "outputs": []
    },
    {
      "cell_type": "markdown",
      "metadata": {
        "id": "krBNDhgjmS0_",
        "colab_type": "text"
      },
      "source": [
        "##Decision Tree"
      ]
    },
    {
      "cell_type": "code",
      "metadata": {
        "id": "wSyEDYDNmXFf",
        "colab_type": "code",
        "colab": {}
      },
      "source": [
        "from sklearn.tree import DecisionTreeClassifier"
      ],
      "execution_count": 322,
      "outputs": []
    },
    {
      "cell_type": "code",
      "metadata": {
        "id": "HfoH7o8Fmcnu",
        "colab_type": "code",
        "colab": {}
      },
      "source": [
        "modelo = DecisionTreeClassifier()"
      ],
      "execution_count": 323,
      "outputs": []
    },
    {
      "cell_type": "code",
      "metadata": {
        "id": "FTLVu9H_mgcR",
        "colab_type": "code",
        "colab": {
          "base_uri": "https://localhost:8080/",
          "height": 119
        },
        "outputId": "c404d60c-6f0b-49b6-8a86-e3a1bc2d0c36"
      },
      "source": [
        "modelo.fit(X_train,y_train)"
      ],
      "execution_count": 324,
      "outputs": [
        {
          "output_type": "execute_result",
          "data": {
            "text/plain": [
              "DecisionTreeClassifier(ccp_alpha=0.0, class_weight=None, criterion='gini',\n",
              "                       max_depth=None, max_features=None, max_leaf_nodes=None,\n",
              "                       min_impurity_decrease=0.0, min_impurity_split=None,\n",
              "                       min_samples_leaf=1, min_samples_split=2,\n",
              "                       min_weight_fraction_leaf=0.0, presort='deprecated',\n",
              "                       random_state=None, splitter='best')"
            ]
          },
          "metadata": {
            "tags": []
          },
          "execution_count": 324
        }
      ]
    },
    {
      "cell_type": "code",
      "metadata": {
        "id": "S5-YjZkEmnZE",
        "colab_type": "code",
        "colab": {}
      },
      "source": [
        "y_pred = modelo.predict(X_test)"
      ],
      "execution_count": 325,
      "outputs": []
    },
    {
      "cell_type": "code",
      "metadata": {
        "id": "d8QtDO0Smu2J",
        "colab_type": "code",
        "colab": {
          "base_uri": "https://localhost:8080/",
          "height": 170
        },
        "outputId": "312963d2-e8b7-4dcd-facf-9a750d1a8130"
      },
      "source": [
        "print(classification_report(y_test,y_pred))"
      ],
      "execution_count": 326,
      "outputs": [
        {
          "output_type": "stream",
          "text": [
            "              precision    recall  f1-score   support\n",
            "\n",
            "           0       0.63      0.61      0.62       270\n",
            "           1       0.64      0.65      0.64       278\n",
            "\n",
            "    accuracy                           0.63       548\n",
            "   macro avg       0.63      0.63      0.63       548\n",
            "weighted avg       0.63      0.63      0.63       548\n",
            "\n"
          ],
          "name": "stdout"
        }
      ]
    },
    {
      "cell_type": "code",
      "metadata": {
        "id": "pOoJYCI2mzJb",
        "colab_type": "code",
        "colab": {
          "base_uri": "https://localhost:8080/",
          "height": 51
        },
        "outputId": "06ac0814-4371-4d65-fca5-5d91f0b62ea8"
      },
      "source": [
        "print(confusion_matrix(y_test,y_pred))"
      ],
      "execution_count": 327,
      "outputs": [
        {
          "output_type": "stream",
          "text": [
            "[[166 104]\n",
            " [ 97 181]]\n"
          ],
          "name": "stdout"
        }
      ]
    },
    {
      "cell_type": "code",
      "metadata": {
        "id": "DHn1ydsKnGGu",
        "colab_type": "code",
        "colab": {}
      },
      "source": [
        ""
      ],
      "execution_count": 327,
      "outputs": []
    },
    {
      "cell_type": "markdown",
      "metadata": {
        "id": "E3WtD4UjwzfN",
        "colab_type": "text"
      },
      "source": [
        "##Random Forest"
      ]
    },
    {
      "cell_type": "code",
      "metadata": {
        "id": "dhr2ntGx52OS",
        "colab_type": "code",
        "colab": {}
      },
      "source": [
        "from sklearn.ensemble import RandomForestClassifier"
      ],
      "execution_count": 328,
      "outputs": []
    },
    {
      "cell_type": "code",
      "metadata": {
        "id": "Pj51QmvAnl0F",
        "colab_type": "code",
        "colab": {}
      },
      "source": [
        "modelo = RandomForestClassifier(n_estimators=100)"
      ],
      "execution_count": 329,
      "outputs": []
    },
    {
      "cell_type": "code",
      "metadata": {
        "id": "W6fdOGJTnoSO",
        "colab_type": "code",
        "colab": {
          "base_uri": "https://localhost:8080/",
          "height": 153
        },
        "outputId": "968cee93-7bf0-4f66-b0d9-11ccb001fad9"
      },
      "source": [
        "modelo.fit(X_train,y_train)"
      ],
      "execution_count": 330,
      "outputs": [
        {
          "output_type": "execute_result",
          "data": {
            "text/plain": [
              "RandomForestClassifier(bootstrap=True, ccp_alpha=0.0, class_weight=None,\n",
              "                       criterion='gini', max_depth=None, max_features='auto',\n",
              "                       max_leaf_nodes=None, max_samples=None,\n",
              "                       min_impurity_decrease=0.0, min_impurity_split=None,\n",
              "                       min_samples_leaf=1, min_samples_split=2,\n",
              "                       min_weight_fraction_leaf=0.0, n_estimators=100,\n",
              "                       n_jobs=None, oob_score=False, random_state=None,\n",
              "                       verbose=0, warm_start=False)"
            ]
          },
          "metadata": {
            "tags": []
          },
          "execution_count": 330
        }
      ]
    },
    {
      "cell_type": "code",
      "metadata": {
        "id": "Qdy2dxCan5Rk",
        "colab_type": "code",
        "colab": {}
      },
      "source": [
        "y_pred = modelo.predict(X_test)"
      ],
      "execution_count": 331,
      "outputs": []
    },
    {
      "cell_type": "code",
      "metadata": {
        "id": "pn436TkWn9X5",
        "colab_type": "code",
        "colab": {
          "base_uri": "https://localhost:8080/",
          "height": 170
        },
        "outputId": "6a96b0a8-2571-430f-e168-7ec1d2dbb37e"
      },
      "source": [
        "print(classification_report(y_test,y_pred))"
      ],
      "execution_count": 332,
      "outputs": [
        {
          "output_type": "stream",
          "text": [
            "              precision    recall  f1-score   support\n",
            "\n",
            "           0       0.69      0.61      0.65       270\n",
            "           1       0.66      0.73      0.69       278\n",
            "\n",
            "    accuracy                           0.67       548\n",
            "   macro avg       0.68      0.67      0.67       548\n",
            "weighted avg       0.67      0.67      0.67       548\n",
            "\n"
          ],
          "name": "stdout"
        }
      ]
    },
    {
      "cell_type": "code",
      "metadata": {
        "id": "5WagY7vGn_sr",
        "colab_type": "code",
        "colab": {
          "base_uri": "https://localhost:8080/",
          "height": 51
        },
        "outputId": "70e759aa-7af5-417d-cced-6df8686962a6"
      },
      "source": [
        "print(confusion_matrix(y_test,y_pred))"
      ],
      "execution_count": 333,
      "outputs": [
        {
          "output_type": "stream",
          "text": [
            "[[166 104]\n",
            " [ 75 203]]\n"
          ],
          "name": "stdout"
        }
      ]
    },
    {
      "cell_type": "code",
      "metadata": {
        "id": "H6eDOV-KoBwj",
        "colab_type": "code",
        "colab": {}
      },
      "source": [
        ""
      ],
      "execution_count": 333,
      "outputs": []
    },
    {
      "cell_type": "markdown",
      "metadata": {
        "id": "BS4PbU6qoYfx",
        "colab_type": "text"
      },
      "source": [
        "###Importancia de las variables"
      ]
    },
    {
      "cell_type": "code",
      "metadata": {
        "id": "dvE3XPZso60o",
        "colab_type": "code",
        "colab": {}
      },
      "source": [
        "importancia = list(modelo.feature_importances_)"
      ],
      "execution_count": 334,
      "outputs": []
    },
    {
      "cell_type": "code",
      "metadata": {
        "id": "kaDNxbsmpADg",
        "colab_type": "code",
        "colab": {
          "base_uri": "https://localhost:8080/",
          "height": 1000
        },
        "outputId": "42805795-0371-4b9e-84ef-d09dfe4404d9"
      },
      "source": [
        "for i in range(len(importancia)):\n",
        "  print(f'--> Variable: {train.columns[i+1]} Importancia: {importancia[i]}')"
      ],
      "execution_count": 335,
      "outputs": [
        {
          "output_type": "stream",
          "text": [
            "--> Variable: Cargas (u) Importancia: 0.1884431124698413\n",
            "--> Variable: Movimiento (t) Importancia: 0.18495571082332632\n",
            "--> Variable: Edad del empleado Importancia: 0.025629689505329036\n",
            "--> Variable: ADMINISTRACION SUPTCIA PLANTAS Importancia: 0.0029610700566996963\n",
            "--> Variable: ALJIBES MLC Importancia: 0.0017331586310243671\n",
            "--> Variable: CAMIONES CAT 793F MLC Importancia: 0.003932026275960212\n",
            "--> Variable: CAMIONES KOMATSU 830E MLC Importancia: 0.0018402260209738597\n",
            "--> Variable: CARGADORES FRONTALES MLC Importancia: 0.0016531597475424277\n",
            "--> Variable: GEOLOGIA DE PRODUCCION Importancia: 0.0024984296704441593\n",
            "--> Variable: INGENIERIA DE PROCESOS Importancia: 0.0009090835902346975\n",
            "--> Variable: MANTENIMIENTO MINA Importancia: 0.004481748686696006\n",
            "--> Variable: MOTONIVELADORAS MLC Importancia: 0.0016891678949107936\n",
            "--> Variable: PALAS HIDRAULICAS MLC Importancia: 0.0011070040949095134\n",
            "--> Variable: PLANIFICACION MANTTO. MINA Importancia: 0.001445597332725908\n",
            "--> Variable: SERVICIO SOCIAL VHUASCO Importancia: 0.0021216973136220754\n",
            "--> Variable: SISTEMAS DE CONTROL Y POTENCIA Importancia: 0.0\n",
            "--> Variable: TRACTORES NEUMATICOS MLC Importancia: 0.0008983696060837386\n",
            "--> Variable: TRACTORES ORUGA MLC Importancia: 0.0024361609121549303\n",
            "--> Variable: ASISTENTE GEOLOGIA Importancia: 0.0022495316477337754\n",
            "--> Variable: AYUDANTE ADMINISTRATIVO Importancia: 0.0018806401631407442\n",
            "--> Variable: CONTROLADOR PLANIFICACION Importancia: 0.001220561659369919\n",
            "--> Variable: ELECTRICO I Importancia: 0.0019434338552135075\n",
            "--> Variable: ELECTRICO III Importancia: 0.0022516027047551246\n",
            "--> Variable: INGENIERO DE PROCESOS Importancia: 0.0008596379408888532\n",
            "--> Variable: JEFE SISTEMAS DE CONTROL Y POTENCIA Importancia: 0.0\n",
            "--> Variable: MECANICO I Importancia: 0.004849385443017089\n",
            "--> Variable: MECANICO III Importancia: 0.0028274624492097317\n",
            "--> Variable: OPERADOR ELECTRICO II PLANTA Importancia: 0.0026033338117935918\n",
            "--> Variable: OPERADOR I Importancia: 0.0031160293314255955\n",
            "--> Variable: OPERADOR II Importancia: 0.002391822592895249\n",
            "--> Variable: OPERADOR III Importancia: 0.004078648548875592\n",
            "--> Variable: OPERADOR MECANICO III PLANTA Importancia: 0.002207146779855032\n",
            "--> Variable: PLANIFICADOR MANTENIMIENTO MINA Importancia: 0.000726335506645132\n",
            "--> Variable: 1 Importancia: 0.012796112220839935\n",
            "--> Variable: 2 Importancia: 0.011841430631488068\n",
            "--> Variable: 2019-07-01 Importancia: 0.0013577816140788973\n",
            "--> Variable: 2019-07-02 Importancia: 0.004708738642715654\n",
            "--> Variable: 2019-07-03 Importancia: 0.0009689748731328163\n",
            "--> Variable: 2019-07-04 Importancia: 0.0026011440947477597\n",
            "--> Variable: 2019-07-05 Importancia: 0.003957159222738226\n",
            "--> Variable: 2019-07-06 Importancia: 0.004131728419971427\n",
            "--> Variable: 2019-07-07 Importancia: 0.0020802028233693304\n",
            "--> Variable: 2019-07-08 Importancia: 0.0019163710568068913\n",
            "--> Variable: 2019-07-09 Importancia: 0.001352565783139875\n",
            "--> Variable: 2019-07-10 Importancia: 0.0006807540443919705\n",
            "--> Variable: 2019-07-11 Importancia: 0.0021072874808189673\n",
            "--> Variable: 2019-07-12 Importancia: 0.002303166747546822\n",
            "--> Variable: 2019-07-13 Importancia: 0.004549949776965325\n",
            "--> Variable: 2019-07-14 Importancia: 0.0021999801701205173\n",
            "--> Variable: 2019-07-15 Importancia: 0.002889732350607851\n",
            "--> Variable: 2019-07-16 Importancia: 0.0025414588496983064\n",
            "--> Variable: 2019-07-17 Importancia: 0.0017186213510202697\n",
            "--> Variable: 2019-07-18 Importancia: 0.0016841589785069702\n",
            "--> Variable: 2019-07-19 Importancia: 0.0012215471808756817\n",
            "--> Variable: 2019-07-20 Importancia: 0.001171568151068197\n",
            "--> Variable: 2019-07-21 Importancia: 0.0032698234235985246\n",
            "--> Variable: 2019-07-22 Importancia: 0.0015058620585250667\n",
            "--> Variable: 2019-07-23 Importancia: 0.0011593529573942344\n",
            "--> Variable: 2019-07-24 Importancia: 0.004811306247055328\n",
            "--> Variable: 2019-07-25 Importancia: 0.0006465745159868285\n",
            "--> Variable: 2019-07-26 Importancia: 0.0014616014977947356\n",
            "--> Variable: 2019-07-27 Importancia: 0.0006553001067077142\n",
            "--> Variable: 2019-07-28 Importancia: 0.000626909097613055\n",
            "--> Variable: 2019-07-29 Importancia: 0.001362253596846376\n",
            "--> Variable: 2019-07-30 Importancia: 0.0002836530436738562\n",
            "--> Variable: 2019-07-31 Importancia: 0.0027416387725145907\n",
            "--> Variable: 2019-08-01 Importancia: 0.0017313556727283886\n",
            "--> Variable: 2019-08-02 Importancia: 0.0004478866924269135\n",
            "--> Variable: 2019-08-03 Importancia: 0.0004213188594636047\n",
            "--> Variable: 2019-08-04 Importancia: 0.0020942916652477088\n",
            "--> Variable: 2019-08-05 Importancia: 0.0012137239634516731\n",
            "--> Variable: 2019-08-06 Importancia: 0.0017045918938966861\n",
            "--> Variable: 2019-08-07 Importancia: 0.0016376909052139663\n",
            "--> Variable: 2019-08-08 Importancia: 0.002199152573685319\n",
            "--> Variable: 2019-08-09 Importancia: 0.0014391868113138554\n",
            "--> Variable: 2019-08-10 Importancia: 0.0018260557571445533\n",
            "--> Variable: 2019-08-11 Importancia: 0.0017047203388935945\n",
            "--> Variable: 2019-08-12 Importancia: 0.003727996738466391\n",
            "--> Variable: 2019-08-13 Importancia: 0.0017806538080929577\n",
            "--> Variable: 2019-08-14 Importancia: 0.0016612409744987666\n",
            "--> Variable: 2019-08-15 Importancia: 0.0017350331358022184\n",
            "--> Variable: 2019-08-16 Importancia: 0.002492436893504495\n",
            "--> Variable: 2019-08-17 Importancia: 0.003099849651829774\n",
            "--> Variable: 2019-08-18 Importancia: 0.0027055487508944797\n",
            "--> Variable: 2019-08-19 Importancia: 0.0012145635160491328\n",
            "--> Variable: 2019-08-20 Importancia: 0.0009379968704255213\n",
            "--> Variable: 2019-08-21 Importancia: 0.001187801724381371\n",
            "--> Variable: 2019-08-22 Importancia: 0.0001999671625554217\n",
            "--> Variable: 2019-08-23 Importancia: 0.0010895433323379377\n",
            "--> Variable: 2019-08-24 Importancia: 0.0010482178572686557\n",
            "--> Variable: 2019-08-25 Importancia: 0.0008418931491045531\n",
            "--> Variable: 2019-08-26 Importancia: 0.0024630760450140014\n",
            "--> Variable: 2019-08-27 Importancia: 0.001761851006203506\n",
            "--> Variable: 2019-08-28 Importancia: 0.002355338025948773\n",
            "--> Variable: 2019-08-29 Importancia: 0.0008328529771268099\n",
            "--> Variable: 2019-08-30 Importancia: 0.0012065044378190453\n",
            "--> Variable: 2019-08-31 Importancia: 0.0009405748224999136\n",
            "--> Variable: 2019-09-01 Importancia: 0.0006205172863391061\n",
            "--> Variable: 2019-09-02 Importancia: 0.003626459927158602\n",
            "--> Variable: 2019-09-03 Importancia: 0.0029161193376483897\n",
            "--> Variable: 2019-09-04 Importancia: 0.0040501440131784725\n",
            "--> Variable: 2019-09-05 Importancia: 0.0010323348621460655\n",
            "--> Variable: 2019-09-06 Importancia: 0.0017171742399553164\n",
            "--> Variable: 2019-09-07 Importancia: 0.002182529903010515\n",
            "--> Variable: 2019-09-08 Importancia: 0.0\n",
            "--> Variable: 2019-09-09 Importancia: 5.4194965201089494e-05\n",
            "--> Variable: 2019-09-10 Importancia: 0.0004399416643188106\n",
            "--> Variable: 2019-09-11 Importancia: 0.0002785507143812636\n",
            "--> Variable: 2019-09-12 Importancia: 0.0033404437786590897\n",
            "--> Variable: 2019-09-13 Importancia: 0.0030254264296353263\n",
            "--> Variable: 2019-09-14 Importancia: 0.0032025947259386317\n",
            "--> Variable: 2019-09-15 Importancia: 0.00212572211862882\n",
            "--> Variable: 2019-09-16 Importancia: 0.00012060331919742396\n",
            "--> Variable: 2019-09-17 Importancia: 0.0003189854186315456\n",
            "--> Variable: 2019-09-20 Importancia: 0.0012196673144972373\n",
            "--> Variable: 2019-09-21 Importancia: 0.0015399891772014127\n",
            "--> Variable: 2019-09-22 Importancia: 0.001299213932257238\n",
            "--> Variable: 2019-09-23 Importancia: 0.0007146038233547567\n",
            "--> Variable: 2019-09-24 Importancia: 0.002313664816321133\n",
            "--> Variable: 2019-09-25 Importancia: 0.000860727564715364\n",
            "--> Variable: 2019-09-26 Importancia: 0.0003711041764958492\n",
            "--> Variable: 2019-09-27 Importancia: 0.0009896945929747972\n",
            "--> Variable: 2019-09-28 Importancia: 0.0018529292848270637\n",
            "--> Variable: 2019-09-29 Importancia: 0.0008832289710523802\n",
            "--> Variable: 2019-09-30 Importancia: 0.001441982480929482\n",
            "--> Variable: 2019-10-01 Importancia: 0.0013003796121095054\n",
            "--> Variable: 2019-10-02 Importancia: 0.0012290930215925083\n",
            "--> Variable: 2019-10-03 Importancia: 0.0011157236393053846\n",
            "--> Variable: 2019-10-04 Importancia: 0.0011595925535602966\n",
            "--> Variable: 2019-10-05 Importancia: 0.0021565445720874614\n",
            "--> Variable: 2019-10-06 Importancia: 0.0008258958215534776\n",
            "--> Variable: 2019-10-07 Importancia: 0.0008383791894384638\n",
            "--> Variable: 2019-10-08 Importancia: 0.001781032762610976\n",
            "--> Variable: 2019-10-09 Importancia: 0.001988468023363999\n",
            "--> Variable: 2019-10-10 Importancia: 0.0009249025597898156\n",
            "--> Variable: 2019-10-11 Importancia: 0.001546559658138355\n",
            "--> Variable: 2019-10-12 Importancia: 0.0004565974632229438\n",
            "--> Variable: 2019-10-13 Importancia: 0.0010430368498000283\n",
            "--> Variable: 2019-10-14 Importancia: 0.0019354398238662133\n",
            "--> Variable: 2019-10-15 Importancia: 0.0019536292889224633\n",
            "--> Variable: 2019-10-16 Importancia: 0.0006018865613356798\n",
            "--> Variable: 2019-10-17 Importancia: 0.003023069386459203\n",
            "--> Variable: 2019-10-18 Importancia: 0.0006897229996370606\n",
            "--> Variable: 2019-10-19 Importancia: 0.00038982782935103775\n",
            "--> Variable: 2019-10-20 Importancia: 0.0010580902256475822\n",
            "--> Variable: 2019-10-21 Importancia: 8.605580551619783e-05\n",
            "--> Variable: 2019-10-22 Importancia: 0.002096859134020946\n",
            "--> Variable: 2019-10-23 Importancia: 0.002888170773902465\n",
            "--> Variable: 2019-10-26 Importancia: 0.0015725776475253386\n",
            "--> Variable: 2019-10-27 Importancia: 0.0011393126435401567\n",
            "--> Variable: 2019-10-28 Importancia: 0.002345764490438734\n",
            "--> Variable: 2019-10-30 Importancia: 0.0007513821229066881\n",
            "--> Variable: 2019-10-31 Importancia: 0.00023537234479214814\n",
            "--> Variable: 2019-11-01 Importancia: 0.0014023763171388405\n",
            "--> Variable: 2019-11-02 Importancia: 0.0007905612506915178\n",
            "--> Variable: 2019-11-03 Importancia: 0.0013145374987791165\n",
            "--> Variable: 2019-11-04 Importancia: 0.00036048290599954825\n",
            "--> Variable: 2019-11-05 Importancia: 0.0003186470975538696\n",
            "--> Variable: 2019-11-06 Importancia: 0.0014742840534035823\n",
            "--> Variable: 2019-11-07 Importancia: 0.0028522591697685727\n",
            "--> Variable: 2019-11-08 Importancia: 0.0005726163955814532\n",
            "--> Variable: 2019-11-09 Importancia: 0.002153324648563393\n",
            "--> Variable: 2019-11-10 Importancia: 0.003642482145000489\n",
            "--> Variable: 2019-11-11 Importancia: 0.0012308770270256367\n",
            "--> Variable: 2019-11-13 Importancia: 0.0007148850155447511\n",
            "--> Variable: 2019-11-14 Importancia: 0.00037018033312980766\n",
            "--> Variable: 2019-11-15 Importancia: 0.0009126772151428196\n",
            "--> Variable: 2019-11-16 Importancia: 0.0013028109114741097\n",
            "--> Variable: 2019-11-17 Importancia: 0.001924231460530631\n",
            "--> Variable: 2019-11-18 Importancia: 0.0019399802993711388\n",
            "--> Variable: 2019-11-19 Importancia: 0.0008324708010111417\n",
            "--> Variable: 2019-11-20 Importancia: 0.0007271927603062784\n",
            "--> Variable: 2019-11-21 Importancia: 0.0014588548059154215\n",
            "--> Variable: 2019-11-22 Importancia: 0.001261232149851338\n",
            "--> Variable: 2019-11-23 Importancia: 0.0006460033878241625\n",
            "--> Variable: 2019-11-24 Importancia: 0.0021547307574553694\n",
            "--> Variable: 2019-11-25 Importancia: 0.0011110901045298064\n",
            "--> Variable: 2019-11-26 Importancia: 0.0008673625475718283\n",
            "--> Variable: 2019-11-27 Importancia: 0.0019695766115821866\n",
            "--> Variable: 2019-11-28 Importancia: 0.002197749416548301\n",
            "--> Variable: 2019-11-29 Importancia: 0.0015288327617945896\n",
            "--> Variable: 2019-11-30 Importancia: 0.0007472401152091233\n",
            "--> Variable: 2019-12-01 Importancia: 0.0004521444280945071\n",
            "--> Variable: 2019-12-02 Importancia: 0.0015709977191111712\n",
            "--> Variable: 2019-12-03 Importancia: 0.00039089722157388545\n",
            "--> Variable: 2019-12-04 Importancia: 0.0014575525327472092\n",
            "--> Variable: 2019-12-05 Importancia: 0.0004563328196110087\n",
            "--> Variable: 2019-12-06 Importancia: 0.0023725780088709775\n",
            "--> Variable: 2019-12-07 Importancia: 0.002037792577776074\n",
            "--> Variable: 2019-12-08 Importancia: 0.001448555624582286\n",
            "--> Variable: 2019-12-09 Importancia: 0.002607650569239679\n",
            "--> Variable: 2019-12-10 Importancia: 0.0009034313658760794\n",
            "--> Variable: 2019-12-11 Importancia: 0.0007194739870755261\n",
            "--> Variable: 2019-12-12 Importancia: 0.0010796788744472966\n",
            "--> Variable: 2019-12-13 Importancia: 0.0004632681974214325\n",
            "--> Variable: 2019-12-14 Importancia: 0.0022139491210379798\n",
            "--> Variable: 2019-12-15 Importancia: 0.001087118834331388\n",
            "--> Variable: 2019-12-16 Importancia: 0.00037750117732657446\n",
            "--> Variable: 2019-12-17 Importancia: 0.0005816944233642319\n",
            "--> Variable: 2019-12-18 Importancia: 0.0013581816000407525\n",
            "--> Variable: 2019-12-19 Importancia: 0.0007059941780715019\n",
            "--> Variable: 2019-12-20 Importancia: 0.0018592021376686277\n",
            "--> Variable: 2019-12-21 Importancia: 0.0018122555925971123\n",
            "--> Variable: 2019-12-22 Importancia: 0.0015510560062678002\n",
            "--> Variable: 2019-12-23 Importancia: 0.0012563073497966599\n",
            "--> Variable: 2019-12-24 Importancia: 0.0011146910201418256\n",
            "--> Variable: 2019-12-26 Importancia: 0.0018343900901057007\n",
            "--> Variable: 2019-12-27 Importancia: 0.0007986243505549104\n",
            "--> Variable: 2019-12-28 Importancia: 0.0005458065853186597\n",
            "--> Variable: 2019-12-29 Importancia: 0.0016447758337065988\n",
            "--> Variable: 2019-12-30 Importancia: 0.0032783886380425876\n",
            "--> Variable: 2019-12-31 Importancia: 0.001967919512101681\n",
            "--> Variable: 2020-01-02 Importancia: 0.0015852976457050782\n",
            "--> Variable: 2020-01-03 Importancia: 0.0\n",
            "--> Variable: 2020-01-04 Importancia: 0.0003310642323774793\n",
            "--> Variable: 2020-01-05 Importancia: 0.00057264804322677\n",
            "--> Variable: 2020-01-06 Importancia: 0.0010452698272546742\n",
            "--> Variable: 2020-01-07 Importancia: 0.00040979492029812937\n",
            "--> Variable: 2020-01-08 Importancia: 0.0007663012340442581\n",
            "--> Variable: 2020-01-09 Importancia: 1.9754474038611137e-05\n",
            "--> Variable: 2020-01-10 Importancia: 0.00043362093046072747\n",
            "--> Variable: 2020-01-11 Importancia: 0.00045736483096481327\n",
            "--> Variable: 2020-01-13 Importancia: 3.567527269332549e-05\n",
            "--> Variable: 2020-01-14 Importancia: 0.0005161932206856849\n",
            "--> Variable: 2020-01-15 Importancia: 0.0009887167966260632\n",
            "--> Variable: 2020-01-17 Importancia: 0.0\n",
            "--> Variable: 2020-01-18 Importancia: 9.407726863258593e-05\n",
            "--> Variable: 2020-01-19 Importancia: 0.00015373989858491927\n",
            "--> Variable: 2020-01-20 Importancia: 0.0006335581513168626\n",
            "--> Variable: 2020-01-21 Importancia: 0.00037304021453483135\n",
            "--> Variable: 2020-01-22 Importancia: 0.0003617655185338473\n",
            "--> Variable: 2020-01-25 Importancia: 0.0007931845118493024\n",
            "--> Variable: 2020-01-26 Importancia: 0.0\n",
            "--> Variable: 2020-01-27 Importancia: 0.0002825095825716538\n",
            "--> Variable: 2020-01-28 Importancia: 7.262524773260844e-05\n",
            "--> Variable: 2020-01-29 Importancia: 0.0012522752361573105\n",
            "--> Variable: 2020-01-30 Importancia: 0.0013056068210987749\n",
            "--> Variable: 2020-01-31 Importancia: 0.000523343751796786\n",
            "--> Variable: 2020-02-01 Importancia: 0.002293263567732294\n",
            "--> Variable: 2020-02-02 Importancia: 0.00027540373291955596\n",
            "--> Variable: 2020-02-03 Importancia: 0.0017555926757763676\n",
            "--> Variable: 2020-02-04 Importancia: 0.001524800371080738\n",
            "--> Variable: 2020-02-05 Importancia: 0.0004998054069365364\n",
            "--> Variable: 2020-02-06 Importancia: 0.0020753996182475472\n",
            "--> Variable: 2020-02-07 Importancia: 0.0013032456257717833\n",
            "--> Variable: 2020-02-08 Importancia: 0.0003344007988958322\n",
            "--> Variable: 2020-02-09 Importancia: 0.0009822972946574016\n",
            "--> Variable: 2020-02-10 Importancia: 0.0005650341112255537\n",
            "--> Variable: 2020-02-11 Importancia: 0.0014885806601864166\n",
            "--> Variable: 2020-02-12 Importancia: 0.0034520669512855453\n",
            "--> Variable: 2020-02-13 Importancia: 0.0010425638149730995\n",
            "--> Variable: 2020-02-14 Importancia: 0.002076518479813525\n",
            "--> Variable: 2020-02-15 Importancia: 0.0023158618186335227\n",
            "--> Variable: 2020-02-16 Importancia: 0.002998701321676794\n",
            "--> Variable: 2020-02-17 Importancia: 0.0011688590348781654\n",
            "--> Variable: 2020-02-18 Importancia: 0.00131445081750907\n",
            "--> Variable: 2020-02-19 Importancia: 0.0007548107297478051\n",
            "--> Variable: 2020-02-20 Importancia: 0.0011909087639767407\n",
            "--> Variable: 2020-02-21 Importancia: 0.0009548807286869846\n",
            "--> Variable: 2020-02-22 Importancia: 0.0008513853946076355\n",
            "--> Variable: 2020-02-23 Importancia: 0.0009410168938490392\n",
            "--> Variable: 2020-02-24 Importancia: 0.0011240658413854535\n",
            "--> Variable: 2020-02-25 Importancia: 0.0008252522013378821\n",
            "--> Variable: 2020-02-26 Importancia: 0.0005065063641874094\n",
            "--> Variable: 2020-02-27 Importancia: 0.0\n",
            "--> Variable: 2020-02-28 Importancia: 0.003432498829660542\n",
            "--> Variable: 2020-02-29 Importancia: 0.0\n",
            "--> Variable: 2020-03-01 Importancia: 0.0011898880701588666\n",
            "--> Variable: 2020-03-02 Importancia: 0.0011235562113462382\n",
            "--> Variable: 2020-03-03 Importancia: 0.000298146964511962\n",
            "--> Variable: 2020-03-04 Importancia: 0.00017742500012508252\n",
            "--> Variable: 2020-03-05 Importancia: 0.0017140418965664707\n",
            "--> Variable: 2020-03-06 Importancia: 0.0006298547248091636\n",
            "--> Variable: 2020-03-07 Importancia: 0.0012729341016741536\n",
            "--> Variable: 2020-03-08 Importancia: 0.0008170987876688995\n",
            "--> Variable: 2020-03-09 Importancia: 0.0007771218815683597\n",
            "--> Variable: 2020-03-10 Importancia: 0.0015673227235056977\n",
            "--> Variable: 2020-03-11 Importancia: 0.002198903137638539\n",
            "--> Variable: 2020-03-12 Importancia: 0.0015317232642717766\n",
            "--> Variable: 2020-03-13 Importancia: 0.0021796018834202967\n",
            "--> Variable: 2020-03-14 Importancia: 0.001965129102544077\n",
            "--> Variable: 2020-03-15 Importancia: 0.00021223599677705666\n",
            "--> Variable: 2020-03-16 Importancia: 0.0024846606436114277\n",
            "--> Variable: 2020-03-17 Importancia: 0.0011885080849212526\n",
            "--> Variable: 2020-03-18 Importancia: 0.0009839864303633104\n",
            "--> Variable: 2020-03-19 Importancia: 0.00152789949119866\n",
            "--> Variable: 2020-03-20 Importancia: 0.0002953772231600024\n",
            "--> Variable: 2020-03-21 Importancia: 0.0011977588346745534\n",
            "--> Variable: 2020-03-25 Importancia: 0.000777207220230687\n",
            "--> Variable: 2020-03-26 Importancia: 0.002263074723363388\n",
            "--> Variable: 2020-03-27 Importancia: 0.0008434936087374958\n",
            "--> Variable: 2020-03-28 Importancia: 0.0013267527070726403\n",
            "--> Variable: 2020-03-29 Importancia: 0.0004710432937765651\n",
            "--> Variable: 2020-03-30 Importancia: 0.001033979279315067\n",
            "--> Variable: 2020-03-31 Importancia: 0.0\n",
            "--> Variable: 2020-04-01 Importancia: 0.0002680673515002984\n",
            "--> Variable: 2020-04-02 Importancia: 0.0\n",
            "--> Variable: 2020-04-03 Importancia: 0.0009815922216974565\n",
            "--> Variable: 2020-04-04 Importancia: 0.0007297133234546515\n",
            "--> Variable: 2020-04-05 Importancia: 0.0010924298499940272\n",
            "--> Variable: 2020-04-06 Importancia: 0.00034685538381657366\n",
            "--> Variable: 2020-04-07 Importancia: 0.000718188849736172\n",
            "--> Variable: 2020-04-08 Importancia: 0.0010671271575641108\n",
            "--> Variable: 2020-04-09 Importancia: 3.1104277844348066e-05\n",
            "--> Variable: 2020-04-10 Importancia: 0.00035822536506080927\n",
            "--> Variable: 2020-04-11 Importancia: 0.0009316419944807139\n",
            "--> Variable: 2020-04-12 Importancia: 0.0016519788602691382\n",
            "--> Variable: 2020-04-13 Importancia: 0.0008296918918762247\n",
            "--> Variable: 2020-04-14 Importancia: 0.0007972044662955824\n",
            "--> Variable: 2020-04-15 Importancia: 0.0021697173090187132\n",
            "--> Variable: 2020-04-16 Importancia: 0.0002488713530970687\n",
            "--> Variable: 2020-04-17 Importancia: 0.0008747564409057228\n",
            "--> Variable: 2020-04-18 Importancia: 0.0005085212097682852\n",
            "--> Variable: 2020-04-19 Importancia: 1.144237539057034e-05\n",
            "--> Variable: 2020-04-20 Importancia: 0.0008151201398489255\n",
            "--> Variable: 2020-04-21 Importancia: 0.0015710404077470227\n",
            "--> Variable: 2020-04-22 Importancia: 0.0008087176212634524\n",
            "--> Variable: 2020-04-23 Importancia: 0.0013125832296658234\n",
            "--> Variable: 2020-04-24 Importancia: 0.0006957846296162144\n",
            "--> Variable: 2020-04-25 Importancia: 0.0010775254687704764\n",
            "--> Variable: 2020-04-26 Importancia: 0.0014574354976067988\n",
            "--> Variable: 2020-04-27 Importancia: 0.0012298224149930753\n",
            "--> Variable: 2020-04-28 Importancia: 0.0016443611324599796\n",
            "--> Variable: 2020-04-29 Importancia: 0.0005859126092347501\n",
            "--> Variable: 2020-04-30 Importancia: 0.0008996503418971886\n",
            "--> Variable: 2020-05-02 Importancia: 0.0015656512908568778\n",
            "--> Variable: 2020-05-03 Importancia: 0.000499596174566596\n",
            "--> Variable: 2020-05-04 Importancia: 0.001897037521445729\n",
            "--> Variable: 2020-05-05 Importancia: 0.001725564384733822\n",
            "--> Variable: 2020-05-06 Importancia: 0.0014459943193792476\n",
            "--> Variable: 2020-05-07 Importancia: 0.0008389714349850791\n",
            "--> Variable: 2020-05-08 Importancia: 0.001091171378798111\n",
            "--> Variable: 2020-05-09 Importancia: 0.00035658501299548986\n",
            "--> Variable: 2020-05-10 Importancia: 0.00024036040445754952\n",
            "--> Variable: 2020-05-11 Importancia: 0.0017775168774873317\n",
            "--> Variable: 2020-05-12 Importancia: 7.403866303901838e-05\n",
            "--> Variable: 2020-05-13 Importancia: 0.0019082703339050064\n",
            "--> Variable: 2020-05-14 Importancia: 0.0017523679486912188\n",
            "--> Variable: 2020-05-15 Importancia: 0.003005181067271526\n",
            "--> Variable: 2020-05-16 Importancia: 0.0005260087753924596\n",
            "--> Variable: 2020-05-17 Importancia: 0.0014578462748924706\n",
            "--> Variable: 2020-05-18 Importancia: 0.0009510948429147455\n",
            "--> Variable: 2020-05-19 Importancia: 0.0006003014415389903\n",
            "--> Variable: 2020-05-20 Importancia: 0.0019518979852862772\n",
            "--> Variable: 2020-05-21 Importancia: 0.0017128662578852441\n",
            "--> Variable: 2020-05-22 Importancia: 0.0021039226285230524\n",
            "--> Variable: 2020-05-23 Importancia: 0.0012740173371781178\n",
            "--> Variable: 2020-05-24 Importancia: 0.0025518080189950347\n",
            "--> Variable: 2020-05-25 Importancia: 0.0003369252338142724\n",
            "--> Variable: 2020-05-26 Importancia: 0.0008469225259290596\n",
            "--> Variable: 2020-05-27 Importancia: 0.0005653957078430431\n",
            "--> Variable: 2020-05-28 Importancia: 0.00023767329767271163\n",
            "--> Variable: 2020-05-29 Importancia: 0.0017771435039307957\n",
            "--> Variable: 2020-05-30 Importancia: 0.000835301160645157\n",
            "--> Variable: 2020-05-31 Importancia: 0.0015323434774300803\n",
            "--> Variable: 2020-06-01 Importancia: 0.0007374023191187588\n",
            "--> Variable: 2020-06-02 Importancia: 0.0012528259872608316\n",
            "--> Variable: 2020-06-03 Importancia: 0.0019454864603604377\n",
            "--> Variable: 2020-06-04 Importancia: 0.0013878182076037231\n",
            "--> Variable: 2020-06-05 Importancia: 0.003083033058330773\n",
            "--> Variable: 2020-06-06 Importancia: 0.0007658321650302641\n",
            "--> Variable: 2020-06-07 Importancia: 0.0011367128404786687\n",
            "--> Variable: 2020-06-08 Importancia: 0.0008410898638684875\n",
            "--> Variable: 2020-06-09 Importancia: 0.0011914690388177254\n",
            "--> Variable: 2020-06-10 Importancia: 0.001989102556649992\n",
            "--> Variable: 2020-06-11 Importancia: 0.0009042701890168031\n",
            "--> Variable: 2020-06-12 Importancia: 0.0011061831056175212\n",
            "--> Variable: 2020-06-13 Importancia: 0.0005792352787236851\n",
            "--> Variable: 2020-06-14 Importancia: 0.0011031043583933431\n",
            "--> Variable: 2020-06-15 Importancia: 0.0005423850192069983\n",
            "--> Variable: 2020-06-16 Importancia: 0.0004943273243657554\n",
            "--> Variable: 2020-06-17 Importancia: 0.0\n",
            "--> Variable: 2020-06-18 Importancia: 5.899923037446846e-06\n",
            "--> Variable: 2020-06-19 Importancia: 0.0012267237976536411\n",
            "--> Variable: 2020-06-20 Importancia: 0.0009610796551347061\n",
            "--> Variable: 2020-06-21 Importancia: 0.0006749559247037737\n",
            "--> Variable: 2020-06-22 Importancia: 0.00046448150520095425\n",
            "--> Variable: 20000564 Importancia: 0.0020920937789244854\n",
            "--> Variable: 20000770 Importancia: 0.0\n",
            "--> Variable: 20000778 Importancia: 0.001580187167364549\n",
            "--> Variable: 20000847 Importancia: 0.002362182605466963\n",
            "--> Variable: 20000868 Importancia: 0.0023331184347089814\n",
            "--> Variable: 20000875 Importancia: 0.006726313545468277\n",
            "--> Variable: 20000905 Importancia: 0.003315501769201876\n",
            "--> Variable: 20000964 Importancia: 0.0017645624304501032\n",
            "--> Variable: 20001014 Importancia: 0.0027774634622300285\n",
            "--> Variable: 20001236 Importancia: 0.0011741736243441124\n",
            "--> Variable: 20001237 Importancia: 0.0017311765635320037\n",
            "--> Variable: 20001512 Importancia: 0.0035200649209591976\n",
            "--> Variable: 20001526 Importancia: 0.001557717494069722\n",
            "--> Variable: 20002297 Importancia: 0.0027395422653476937\n",
            "--> Variable: 20002520 Importancia: 0.00276996335276016\n",
            "--> Variable: 20002787 Importancia: 0.001654763685175291\n",
            "--> Variable: 20003239 Importancia: 0.0018254384309911282\n",
            "--> Variable: 20003244 Importancia: 0.00033851308572101544\n",
            "--> Variable: 20003260 Importancia: 0.0028369035334982516\n",
            "--> Variable: 20003278 Importancia: 0.003908913811243632\n",
            "--> Variable: 20003408 Importancia: 0.002657983184742641\n",
            "--> Variable: 20003778 Importancia: 0.0014825599314913236\n",
            "--> Variable: 20003779 Importancia: 0.0056181236165554795\n",
            "--> Variable: 20003858 Importancia: 0.0006180509439727757\n",
            "--> Variable: 20004398 Importancia: 0.0025164705475073123\n",
            "--> Variable: 20004884 Importancia: 0.0009799801012016795\n",
            "--> Variable: 20004895 Importancia: 0.003465413205693652\n",
            "--> Variable: 20005055 Importancia: 0.0010607677846071334\n",
            "--> Variable: 20005968 Importancia: 0.00379999192983472\n",
            "--> Variable: 20006912 Importancia: 0.0027911761419281878\n"
          ],
          "name": "stdout"
        }
      ]
    },
    {
      "cell_type": "code",
      "metadata": {
        "id": "sLH2I5mHqqXM",
        "colab_type": "code",
        "colab": {}
      },
      "source": [
        ""
      ],
      "execution_count": null,
      "outputs": []
    }
  ]
}