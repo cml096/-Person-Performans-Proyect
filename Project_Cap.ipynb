{
  "nbformat": 4,
  "nbformat_minor": 0,
  "metadata": {
    "colab": {
      "name": "Project_Cap.ipynb",
      "provenance": [],
      "toc_visible": true,
      "authorship_tag": "ABX9TyPnrjYm3QgxY598XB9JESSv",
      "include_colab_link": true
    },
    "kernelspec": {
      "name": "python3",
      "display_name": "Python 3"
    }
  },
  "cells": [
    {
      "cell_type": "markdown",
      "metadata": {
        "id": "view-in-github",
        "colab_type": "text"
      },
      "source": [
        "<a href=\"https://colab.research.google.com/github/cml096/GoogleColabRepo/blob/master/Project_Cap.ipynb\" target=\"_parent\"><img src=\"https://colab.research.google.com/assets/colab-badge.svg\" alt=\"Open In Colab\"/></a>"
      ]
    },
    {
      "cell_type": "code",
      "metadata": {
        "id": "bfjRMmOi_4zY",
        "colab_type": "code",
        "colab": {
          "base_uri": "https://localhost:8080/",
          "height": 71
        },
        "outputId": "150db4c0-a3d0-4fd9-93d3-92cdfc19da07"
      },
      "source": [
        "import pandas as pd\n",
        "import numpy as np\n",
        "import matplotlib.pyplot as plt\n",
        "import seaborn as sns; sns.set()"
      ],
      "execution_count": 1,
      "outputs": [
        {
          "output_type": "stream",
          "text": [
            "/usr/local/lib/python3.6/dist-packages/statsmodels/tools/_testing.py:19: FutureWarning: pandas.util.testing is deprecated. Use the functions in the public API at pandas.testing instead.\n",
            "  import pandas.util.testing as tm\n"
          ],
          "name": "stderr"
        }
      ]
    },
    {
      "cell_type": "code",
      "metadata": {
        "id": "lOoAro9AAeYm",
        "colab_type": "code",
        "colab": {}
      },
      "source": [
        "df = pd.read_excel('Rendimiento CMP V2.xlsx', sheet_name='MinaMLC')"
      ],
      "execution_count": 2,
      "outputs": []
    },
    {
      "cell_type": "markdown",
      "metadata": {
        "id": "mnml7k7xDO3x",
        "colab_type": "text"
      },
      "source": [
        "#Preparando Data"
      ]
    },
    {
      "cell_type": "markdown",
      "metadata": {
        "id": "Ydy1pKXbJENh",
        "colab_type": "text"
      },
      "source": [
        "##Filtro"
      ]
    },
    {
      "cell_type": "code",
      "metadata": {
        "id": "oeqeTKI6An_b",
        "colab_type": "code",
        "colab": {}
      },
      "source": [
        "df_ = df[df['División de personal'] == 'CMP VALLE DEL HUASCO']"
      ],
      "execution_count": 3,
      "outputs": []
    },
    {
      "cell_type": "code",
      "metadata": {
        "id": "JMYxllHkAyZm",
        "colab_type": "code",
        "colab": {}
      },
      "source": [
        "df_test_minera_colorado = df_[df_['Subdivisión de personal'] == 'MINA LOS COLORA']"
      ],
      "execution_count": 4,
      "outputs": []
    },
    {
      "cell_type": "markdown",
      "metadata": {
        "id": "ZobQtfMTCTA4",
        "colab_type": "text"
      },
      "source": [
        "##Variables no utilizables"
      ]
    },
    {
      "cell_type": "code",
      "metadata": {
        "id": "MdJOzeeLORIi",
        "colab_type": "code",
        "colab": {}
      },
      "source": [
        "df_ = df_test_minera_colorado"
      ],
      "execution_count": 5,
      "outputs": []
    },
    {
      "cell_type": "code",
      "metadata": {
        "id": "so1DVpxDCYMj",
        "colab_type": "code",
        "colab": {}
      },
      "source": [
        "filtro = ['R-ef (t/h)',\n",
        "          'División de personal',\n",
        "          'Cod. División',\n",
        "          'Subdivisión de personal',\n",
        "          'Cod. Subdivisión',\n",
        "          'Cod. Unidad',\n",
        "          'Cod. Posición',\n",
        "          'Fecha de nacimiento',\n",
        "          'Grupo de personal']"
      ],
      "execution_count": 6,
      "outputs": []
    },
    {
      "cell_type": "code",
      "metadata": {
        "id": "9MTspI-pA8t9",
        "colab_type": "code",
        "colab": {}
      },
      "source": [
        "df_.drop(filtro,axis=1,inplace=True)"
      ],
      "execution_count": 7,
      "outputs": []
    },
    {
      "cell_type": "markdown",
      "metadata": {
        "id": "lCD_A-nDJK7d",
        "colab_type": "text"
      },
      "source": [
        "##Divición \"Fecha\""
      ]
    },
    {
      "cell_type": "markdown",
      "metadata": {
        "id": "pP9hln0KEVHu",
        "colab_type": "text"
      },
      "source": [
        "Cambiamos nombre columna \"Dia\" por \"Fecha\""
      ]
    },
    {
      "cell_type": "code",
      "metadata": {
        "id": "Puep8M1IEaKo",
        "colab_type": "code",
        "colab": {}
      },
      "source": [
        "df_ = df_.rename(columns={'Dia':'Fecha'})"
      ],
      "execution_count": 8,
      "outputs": []
    },
    {
      "cell_type": "markdown",
      "metadata": {
        "id": "IUN9cem0DtGN",
        "colab_type": "text"
      },
      "source": [
        "Divición de la variable \"Fecha\""
      ]
    },
    {
      "cell_type": "code",
      "metadata": {
        "id": "QK1n8qAzDoIF",
        "colab_type": "code",
        "colab": {}
      },
      "source": [
        "def dia(fecha):\n",
        "  aux = str(fecha.date()).split('-')\n",
        "  dia = str(aux[2])\n",
        "  return dia\n",
        "\n",
        "def mes(fecha):\n",
        "  aux = str(fecha.date()).split('-')\n",
        "  mes = str(aux[1])\n",
        "  return mes\n",
        "\n",
        "def ano(fecha):\n",
        "  aux = str(fecha.date()).split('-')\n",
        "  ano = str(aux[0])\n",
        "  return ano"
      ],
      "execution_count": 9,
      "outputs": []
    },
    {
      "cell_type": "markdown",
      "metadata": {
        "id": "kVJvroYrD5am",
        "colab_type": "text"
      },
      "source": [
        "Anexamos columna \"Dia\", \"Mes\" y \"Año\""
      ]
    },
    {
      "cell_type": "code",
      "metadata": {
        "id": "OMbw02jQD4lX",
        "colab_type": "code",
        "colab": {}
      },
      "source": [
        "df_['Dia'] = df_.apply(lambda row : dia(row['Fecha']),axis=1)\n",
        "df_['Mes'] = df_.apply(lambda row : mes(row['Fecha']),axis=1)\n",
        "df_['Año'] = df_.apply(lambda row : ano(row['Fecha']),axis=1)"
      ],
      "execution_count": 10,
      "outputs": []
    },
    {
      "cell_type": "markdown",
      "metadata": {
        "id": "qms9V5O-U-FM",
        "colab_type": "text"
      },
      "source": [
        "##Columna \"Turno\", \"Equipo\", \"Número de personal\", \"Fecha de alta\" y \"Fecha\""
      ]
    },
    {
      "cell_type": "code",
      "metadata": {
        "id": "wQu9QYGlVD93",
        "colab_type": "code",
        "colab": {}
      },
      "source": [
        "df_['Turno'] = df_['Turno'].astype(str)"
      ],
      "execution_count": 11,
      "outputs": []
    },
    {
      "cell_type": "code",
      "metadata": {
        "id": "kXh7pxcjZHxY",
        "colab_type": "code",
        "colab": {}
      },
      "source": [
        "df_['Equipo'] = df_['Equipo'].astype(str)"
      ],
      "execution_count": 12,
      "outputs": []
    },
    {
      "cell_type": "code",
      "metadata": {
        "id": "PtR8tcjWFWXW",
        "colab_type": "code",
        "colab": {}
      },
      "source": [
        "df_['Número de personal'] = df_['Número de personal'].astype(str)"
      ],
      "execution_count": 13,
      "outputs": []
    },
    {
      "cell_type": "code",
      "metadata": {
        "id": "24fsG0PbGlGi",
        "colab_type": "code",
        "colab": {}
      },
      "source": [
        "df_['Fecha'] = df_['Fecha'].astype(str)"
      ],
      "execution_count": 14,
      "outputs": []
    },
    {
      "cell_type": "code",
      "metadata": {
        "id": "p3FYLBOr9NPi",
        "colab_type": "code",
        "colab": {}
      },
      "source": [
        "df_['Fecha de alta'] = df_['Fecha de alta'].astype(str)"
      ],
      "execution_count": 15,
      "outputs": []
    },
    {
      "cell_type": "markdown",
      "metadata": {
        "id": "b-1ZWp5rJQMU",
        "colab_type": "text"
      },
      "source": [
        "## \"Eficiencia\""
      ]
    },
    {
      "cell_type": "markdown",
      "metadata": {
        "id": "riFjrzkBqOSq",
        "colab_type": "text"
      },
      "source": [
        "Esta eficiencia se ocupara para gráficas e análisis del comportamiento de dicha variables para sacar estimados que nos ayudaran a calcular la próxima variable"
      ]
    },
    {
      "cell_type": "code",
      "metadata": {
        "id": "VPnDWwfLW4WC",
        "colab_type": "code",
        "colab": {}
      },
      "source": [
        "filtro = ['Fecha','Turno','Cargas (u)','Movimiento (t)','tdem (seg)','Edad del empleado','Equipo']\n",
        "df_aux = df_.drop(filtro, axis=1)"
      ],
      "execution_count": 16,
      "outputs": []
    },
    {
      "cell_type": "markdown",
      "metadata": {
        "id": "Gez3gzN3Jiw8",
        "colab_type": "text"
      },
      "source": [
        "Agrupamos por \"unidad organizativa\" y lo almacenamos en un data frame"
      ]
    },
    {
      "cell_type": "code",
      "metadata": {
        "id": "A4beub7RCKxv",
        "colab_type": "code",
        "colab": {}
      },
      "source": [
        "group = df_aux.groupby(['Unidad organizativa']).max()\n",
        "df_group = pd.DataFrame(group)"
      ],
      "execution_count": 17,
      "outputs": []
    },
    {
      "cell_type": "code",
      "metadata": {
        "id": "FKGDm6mCaeRC",
        "colab_type": "code",
        "colab": {}
      },
      "source": [
        "#df_group"
      ],
      "execution_count": 18,
      "outputs": []
    },
    {
      "cell_type": "markdown",
      "metadata": {
        "id": "0L2OQju5Jlpy",
        "colab_type": "text"
      },
      "source": [
        "Creamos un array que contiene las tefe max de cada Unidad organizativa"
      ]
    },
    {
      "cell_type": "code",
      "metadata": {
        "id": "2OU0K21gRa-9",
        "colab_type": "code",
        "colab": {}
      },
      "source": [
        "def genera(data,filto):\n",
        "  lista = []\n",
        "  for index, row in data.iterrows():\n",
        "    valor = row[filtro]\n",
        "    lista.append([index,valor])\n",
        "  return lista"
      ],
      "execution_count": 19,
      "outputs": []
    },
    {
      "cell_type": "code",
      "metadata": {
        "id": "d41Yi2QDHQTQ",
        "colab_type": "code",
        "colab": {}
      },
      "source": [
        "filtro = ['tefe (seg)']\n",
        "max_por_unidad = genera(df_group,filtro)"
      ],
      "execution_count": 20,
      "outputs": []
    },
    {
      "cell_type": "markdown",
      "metadata": {
        "id": "GZH-_ZQCJx7q",
        "colab_type": "text"
      },
      "source": [
        "Agregamos la columna \"Eficiencia\" que generaremos con la fórmula\n",
        "* (tefe x c/a tupla)*100/tefe_max = porcentaje de eficiencia en dicho día"
      ]
    },
    {
      "cell_type": "code",
      "metadata": {
        "id": "lwB2VZxESM05",
        "colab_type": "code",
        "colab": {}
      },
      "source": [
        "def rellena(data,lista,filtro):\n",
        "  aux = []\n",
        "  for index, row in data.iterrows():\n",
        "    unidad = row['Unidad organizativa']\n",
        "    valor = row[filtro]\n",
        "    for unidad_max,valor_max in lista:\n",
        "      if unidad == unidad_max:\n",
        "        if float(valor_max.values) == 0:\n",
        "          aux.append(0.0)\n",
        "        else:\n",
        "          resultado = (valor)/valor_max\n",
        "          aux.append(float(resultado.values))\n",
        "  return aux"
      ],
      "execution_count": 21,
      "outputs": []
    },
    {
      "cell_type": "code",
      "metadata": {
        "id": "PsM0ane-HC2A",
        "colab_type": "code",
        "colab": {}
      },
      "source": [
        "eficiencia = rellena(df_,max_por_unidad,filtro)"
      ],
      "execution_count": 22,
      "outputs": []
    },
    {
      "cell_type": "markdown",
      "metadata": {
        "id": "xN29jN0HJ24C",
        "colab_type": "text"
      },
      "source": [
        "Le agregamos una columna al data frame"
      ]
    },
    {
      "cell_type": "code",
      "metadata": {
        "id": "MHsQH7VSHEvV",
        "colab_type": "code",
        "colab": {}
      },
      "source": [
        "df_['Eficiencia'] = eficiencia"
      ],
      "execution_count": 23,
      "outputs": []
    },
    {
      "cell_type": "markdown",
      "metadata": {
        "id": "q8kaHf9QL9Tw",
        "colab_type": "text"
      },
      "source": [
        "### \"Eficiencia (bin)\""
      ]
    },
    {
      "cell_type": "markdown",
      "metadata": {
        "id": "LrQR8VgsqpqT",
        "colab_type": "text"
      },
      "source": [
        "Variable que será asignada al campo y, variable a predecir"
      ]
    },
    {
      "cell_type": "code",
      "metadata": {
        "id": "4vZcw2hopCdm",
        "colab_type": "code",
        "colab": {}
      },
      "source": [
        "group = df_aux.groupby(['Unidad organizativa']).median()\n",
        "df_group = pd.DataFrame(group)"
      ],
      "execution_count": 24,
      "outputs": []
    },
    {
      "cell_type": "code",
      "metadata": {
        "id": "TkuwM2RupC6w",
        "colab_type": "code",
        "colab": {}
      },
      "source": [
        "media_por_unidad = genera(df_group,filtro)"
      ],
      "execution_count": 25,
      "outputs": []
    },
    {
      "cell_type": "markdown",
      "metadata": {
        "id": "fZMZWbL-ICtW",
        "colab_type": "text"
      },
      "source": [
        "Generaremos una función la cual será la encargada de rellenar un arreglo de 1 y 0 el cual lo retornara, acá compararemos cada tefe (seg) en x unidad organizativa con la mediana tefe (seg) pro cada unidad sacada anteriormente."
      ]
    },
    {
      "cell_type": "code",
      "metadata": {
        "id": "QJx9wUVZS5_m",
        "colab_type": "code",
        "colab": {}
      },
      "source": [
        "def rellena_binaria(data,lista,filtro):\n",
        "  aux = []\n",
        "  for index, row in data.iterrows():\n",
        "    unidad = row['Unidad organizativa']\n",
        "    valor = row[filtro].values\n",
        "    for unidad_median,valor_median in lista:\n",
        "      valor_median = valor_median.values\n",
        "      if unidad == unidad_median:\n",
        "        if valor >= valor_median:\n",
        "          aux.append(1)\n",
        "        elif valor < valor_median:\n",
        "          aux.append(0)\n",
        "  return aux"
      ],
      "execution_count": 26,
      "outputs": []
    },
    {
      "cell_type": "code",
      "metadata": {
        "id": "j4eZdXp6TX5v",
        "colab_type": "code",
        "colab": {}
      },
      "source": [
        "eficiencia_binaria = rellena_binaria(df_,media_por_unidad,filtro)"
      ],
      "execution_count": 27,
      "outputs": []
    },
    {
      "cell_type": "code",
      "metadata": {
        "id": "kRHAppHITnfb",
        "colab_type": "code",
        "colab": {}
      },
      "source": [
        "df_['Eficiencia (bin)'] = eficiencia_binaria"
      ],
      "execution_count": 28,
      "outputs": []
    },
    {
      "cell_type": "markdown",
      "metadata": {
        "id": "5bL3myvIJAcR",
        "colab_type": "text"
      },
      "source": [
        "##\"Demora\""
      ]
    },
    {
      "cell_type": "code",
      "metadata": {
        "id": "x4QnFICgKa55",
        "colab_type": "code",
        "colab": {}
      },
      "source": [
        "filtro = ['Fecha','Turno','Cargas (u)','Movimiento (t)','tefe (seg)','Edad del empleado','Equipo','Eficiencia (bin)','Eficiencia']\n",
        "df_aux = df_.drop(filtro, axis=1)"
      ],
      "execution_count": 29,
      "outputs": []
    },
    {
      "cell_type": "markdown",
      "metadata": {
        "id": "agHX9d0uMJtZ",
        "colab_type": "text"
      },
      "source": [
        "agrupamos por unidad organizativa y calculamos la maxima tdem (seg)"
      ]
    },
    {
      "cell_type": "code",
      "metadata": {
        "id": "lCuCDeWbL4Mc",
        "colab_type": "code",
        "colab": {}
      },
      "source": [
        "group = df_aux.groupby(['Unidad organizativa']).max()\n",
        "df_group = pd.DataFrame(group)"
      ],
      "execution_count": 30,
      "outputs": []
    },
    {
      "cell_type": "code",
      "metadata": {
        "id": "VCaz9AKWbBdT",
        "colab_type": "code",
        "colab": {}
      },
      "source": [
        "#df_group"
      ],
      "execution_count": 31,
      "outputs": []
    },
    {
      "cell_type": "code",
      "metadata": {
        "id": "d7YL9T8RKh6d",
        "colab_type": "code",
        "colab": {}
      },
      "source": [
        "filtro = ['tdem (seg)']\n",
        "max_por_unidad = genera(df_group,filtro)"
      ],
      "execution_count": 32,
      "outputs": []
    },
    {
      "cell_type": "code",
      "metadata": {
        "id": "Uxz5b9lyMZKm",
        "colab_type": "code",
        "colab": {}
      },
      "source": [
        "demora = rellena(df_,max_por_unidad,filtro)"
      ],
      "execution_count": 33,
      "outputs": []
    },
    {
      "cell_type": "code",
      "metadata": {
        "id": "mKN9OjzgMVbf",
        "colab_type": "code",
        "colab": {}
      },
      "source": [
        "df_['Demora'] = demora"
      ],
      "execution_count": 34,
      "outputs": []
    },
    {
      "cell_type": "markdown",
      "metadata": {
        "id": "zme3dvCuXYaI",
        "colab_type": "text"
      },
      "source": [
        "###\"Demora (bin)\""
      ]
    },
    {
      "cell_type": "code",
      "metadata": {
        "id": "L3Sm-S4tsnqC",
        "colab_type": "code",
        "colab": {}
      },
      "source": [
        "group = df_aux.groupby(['Unidad organizativa']).median()\n",
        "df_group = pd.DataFrame(group)"
      ],
      "execution_count": 35,
      "outputs": []
    },
    {
      "cell_type": "code",
      "metadata": {
        "id": "W5XS1iGYsnUh",
        "colab_type": "code",
        "colab": {}
      },
      "source": [
        "media_por_unidad = genera(df_group,filtro)"
      ],
      "execution_count": 36,
      "outputs": []
    },
    {
      "cell_type": "markdown",
      "metadata": {
        "id": "cMeNBSpccIa6",
        "colab_type": "text"
      },
      "source": [
        "Llamamos a la función rellena_binaria() que nos retornara un array relleno de 1 y 0.\n",
        "\n",
        "\n",
        "*   1 si se cumple\n",
        "*   0 si no\n",
        "\n"
      ]
    },
    {
      "cell_type": "code",
      "metadata": {
        "id": "2uwsU-8kXdxH",
        "colab_type": "code",
        "colab": {}
      },
      "source": [
        "demora_binaria = rellena_binaria(df_,media_por_unidad,filtro)"
      ],
      "execution_count": 37,
      "outputs": []
    },
    {
      "cell_type": "code",
      "metadata": {
        "id": "VXUAqMlzbzxx",
        "colab_type": "code",
        "colab": {}
      },
      "source": [
        "df_['Demora (bin)'] = demora_binaria"
      ],
      "execution_count": 38,
      "outputs": []
    },
    {
      "cell_type": "markdown",
      "metadata": {
        "id": "-xDzyWKIm7Ak",
        "colab_type": "text"
      },
      "source": [
        "##Estandarizar"
      ]
    },
    {
      "cell_type": "code",
      "metadata": {
        "id": "wJucXSmbt6S1",
        "colab_type": "code",
        "colab": {}
      },
      "source": [
        "from sklearn.preprocessing import StandardScaler"
      ],
      "execution_count": 39,
      "outputs": []
    },
    {
      "cell_type": "code",
      "metadata": {
        "id": "uUcbriIDnATQ",
        "colab_type": "code",
        "colab": {}
      },
      "source": [
        "filtro = ['Cargas (u)','Movimiento (t)','Edad del empleado','tefe (seg)','tdem (seg)']\n",
        "aux = df_[filtro]\n",
        "scaled = pd.DataFrame(StandardScaler().fit_transform(aux), columns= aux.columns)"
      ],
      "execution_count": 40,
      "outputs": []
    },
    {
      "cell_type": "code",
      "metadata": {
        "id": "kLQr8u6v39Gf",
        "colab_type": "code",
        "colab": {}
      },
      "source": [
        "aux = df_.drop(filtro,axis=1)\n",
        "\n",
        "scaled.reset_index(drop=True, inplace=True)\n",
        "aux.reset_index(drop=True, inplace=True)\n",
        "\n",
        "df_scaled = pd.concat([aux,scaled],axis=1)"
      ],
      "execution_count": 41,
      "outputs": []
    },
    {
      "cell_type": "markdown",
      "metadata": {
        "id": "rY2w9jZ0aot_",
        "colab_type": "text"
      },
      "source": [
        "##Data a ocupar"
      ]
    },
    {
      "cell_type": "code",
      "metadata": {
        "id": "zvu0cobYatY1",
        "colab_type": "code",
        "colab": {
          "base_uri": "https://localhost:8080/",
          "height": 476
        },
        "outputId": "d5699ce5-05f4-4f78-f02a-666dc57970b3"
      },
      "source": [
        "df_scaled.info()"
      ],
      "execution_count": 42,
      "outputs": [
        {
          "output_type": "stream",
          "text": [
            "<class 'pandas.core.frame.DataFrame'>\n",
            "RangeIndex: 1825 entries, 0 to 1824\n",
            "Data columns (total 20 columns):\n",
            " #   Column                                    Non-Null Count  Dtype  \n",
            "---  ------                                    --------------  -----  \n",
            " 0   Fecha                                     1825 non-null   object \n",
            " 1   Turno                                     1825 non-null   object \n",
            " 2   Equipo                                    1825 non-null   object \n",
            " 3   Número de personal                        1825 non-null   object \n",
            " 4   Unidad organizativa                       1825 non-null   object \n",
            " 5   Posición                                  1825 non-null   object \n",
            " 6   Fecha de alta                             1825 non-null   object \n",
            " 7   Status empleado para Gestión tiempos per  1825 non-null   object \n",
            " 8   Dia                                       1825 non-null   object \n",
            " 9   Mes                                       1825 non-null   object \n",
            " 10  Año                                       1825 non-null   object \n",
            " 11  Eficiencia                                1825 non-null   float64\n",
            " 12  Eficiencia (bin)                          1825 non-null   int64  \n",
            " 13  Demora                                    1825 non-null   float64\n",
            " 14  Demora (bin)                              1825 non-null   int64  \n",
            " 15  Cargas (u)                                1825 non-null   float64\n",
            " 16  Movimiento (t)                            1825 non-null   float64\n",
            " 17  Edad del empleado                         1825 non-null   float64\n",
            " 18  tefe (seg)                                1825 non-null   float64\n",
            " 19  tdem (seg)                                1825 non-null   float64\n",
            "dtypes: float64(7), int64(2), object(11)\n",
            "memory usage: 285.3+ KB\n"
          ],
          "name": "stdout"
        }
      ]
    },
    {
      "cell_type": "code",
      "metadata": {
        "id": "moyMI-nGrhzf",
        "colab_type": "code",
        "colab": {
          "base_uri": "https://localhost:8080/",
          "height": 385
        },
        "outputId": "36c7abe0-45f9-48c3-8c30-fbb4b23d9fa8"
      },
      "source": [
        "df_scaled.describe()"
      ],
      "execution_count": 43,
      "outputs": [
        {
          "output_type": "execute_result",
          "data": {
            "text/html": [
              "<div>\n",
              "<style scoped>\n",
              "    .dataframe tbody tr th:only-of-type {\n",
              "        vertical-align: middle;\n",
              "    }\n",
              "\n",
              "    .dataframe tbody tr th {\n",
              "        vertical-align: top;\n",
              "    }\n",
              "\n",
              "    .dataframe thead th {\n",
              "        text-align: right;\n",
              "    }\n",
              "</style>\n",
              "<table border=\"1\" class=\"dataframe\">\n",
              "  <thead>\n",
              "    <tr style=\"text-align: right;\">\n",
              "      <th></th>\n",
              "      <th>Eficiencia</th>\n",
              "      <th>Eficiencia (bin)</th>\n",
              "      <th>Demora</th>\n",
              "      <th>Demora (bin)</th>\n",
              "      <th>Cargas (u)</th>\n",
              "      <th>Movimiento (t)</th>\n",
              "      <th>Edad del empleado</th>\n",
              "      <th>tefe (seg)</th>\n",
              "      <th>tdem (seg)</th>\n",
              "    </tr>\n",
              "  </thead>\n",
              "  <tbody>\n",
              "    <tr>\n",
              "      <th>count</th>\n",
              "      <td>1825.000000</td>\n",
              "      <td>1825.000000</td>\n",
              "      <td>1825.000000</td>\n",
              "      <td>1825.000000</td>\n",
              "      <td>1.825000e+03</td>\n",
              "      <td>1.825000e+03</td>\n",
              "      <td>1.825000e+03</td>\n",
              "      <td>1.825000e+03</td>\n",
              "      <td>1.825000e+03</td>\n",
              "    </tr>\n",
              "    <tr>\n",
              "      <th>mean</th>\n",
              "      <td>0.539415</td>\n",
              "      <td>0.501918</td>\n",
              "      <td>0.168630</td>\n",
              "      <td>0.503562</td>\n",
              "      <td>-3.650048e-17</td>\n",
              "      <td>1.030530e-16</td>\n",
              "      <td>4.127596e-16</td>\n",
              "      <td>1.727690e-17</td>\n",
              "      <td>6.278083e-17</td>\n",
              "    </tr>\n",
              "    <tr>\n",
              "      <th>std</th>\n",
              "      <td>0.272621</td>\n",
              "      <td>0.500133</td>\n",
              "      <td>0.183135</td>\n",
              "      <td>0.500124</td>\n",
              "      <td>1.000274e+00</td>\n",
              "      <td>1.000274e+00</td>\n",
              "      <td>1.000274e+00</td>\n",
              "      <td>1.000274e+00</td>\n",
              "      <td>1.000274e+00</td>\n",
              "    </tr>\n",
              "    <tr>\n",
              "      <th>min</th>\n",
              "      <td>0.003304</td>\n",
              "      <td>0.000000</td>\n",
              "      <td>0.000000</td>\n",
              "      <td>0.000000</td>\n",
              "      <td>-1.541655e+00</td>\n",
              "      <td>-1.539155e+00</td>\n",
              "      <td>-1.682677e+00</td>\n",
              "      <td>-1.968526e+00</td>\n",
              "      <td>-9.407032e-01</td>\n",
              "    </tr>\n",
              "    <tr>\n",
              "      <th>25%</th>\n",
              "      <td>0.319562</td>\n",
              "      <td>0.000000</td>\n",
              "      <td>0.037751</td>\n",
              "      <td>0.000000</td>\n",
              "      <td>-8.208556e-01</td>\n",
              "      <td>-8.153912e-01</td>\n",
              "      <td>-9.933453e-01</td>\n",
              "      <td>-8.166345e-01</td>\n",
              "      <td>-7.094064e-01</td>\n",
              "    </tr>\n",
              "    <tr>\n",
              "      <th>50%</th>\n",
              "      <td>0.547570</td>\n",
              "      <td>1.000000</td>\n",
              "      <td>0.113754</td>\n",
              "      <td>1.000000</td>\n",
              "      <td>-1.000562e-01</td>\n",
              "      <td>-9.836510e-02</td>\n",
              "      <td>2.129845e-01</td>\n",
              "      <td>6.657307e-02</td>\n",
              "      <td>-2.835655e-01</td>\n",
              "    </tr>\n",
              "    <tr>\n",
              "      <th>75%</th>\n",
              "      <td>0.788964</td>\n",
              "      <td>1.000000</td>\n",
              "      <td>0.240643</td>\n",
              "      <td>1.000000</td>\n",
              "      <td>6.928232e-01</td>\n",
              "      <td>6.566728e-01</td>\n",
              "      <td>9.884822e-01</td>\n",
              "      <td>8.968264e-01</td>\n",
              "      <td>3.902335e-01</td>\n",
              "    </tr>\n",
              "    <tr>\n",
              "      <th>max</th>\n",
              "      <td>1.000000</td>\n",
              "      <td>1.000000</td>\n",
              "      <td>1.000000</td>\n",
              "      <td>1.000000</td>\n",
              "      <td>3.551994e+00</td>\n",
              "      <td>3.616645e+00</td>\n",
              "      <td>1.591647e+00</td>\n",
              "      <td>1.893767e+00</td>\n",
              "      <td>7.995096e+00</td>\n",
              "    </tr>\n",
              "  </tbody>\n",
              "</table>\n",
              "</div>"
            ],
            "text/plain": [
              "        Eficiencia  Eficiencia (bin)  ...    tefe (seg)    tdem (seg)\n",
              "count  1825.000000       1825.000000  ...  1.825000e+03  1.825000e+03\n",
              "mean      0.539415          0.501918  ...  1.727690e-17  6.278083e-17\n",
              "std       0.272621          0.500133  ...  1.000274e+00  1.000274e+00\n",
              "min       0.003304          0.000000  ... -1.968526e+00 -9.407032e-01\n",
              "25%       0.319562          0.000000  ... -8.166345e-01 -7.094064e-01\n",
              "50%       0.547570          1.000000  ...  6.657307e-02 -2.835655e-01\n",
              "75%       0.788964          1.000000  ...  8.968264e-01  3.902335e-01\n",
              "max       1.000000          1.000000  ...  1.893767e+00  7.995096e+00\n",
              "\n",
              "[8 rows x 9 columns]"
            ]
          },
          "metadata": {
            "tags": []
          },
          "execution_count": 43
        }
      ]
    },
    {
      "cell_type": "code",
      "metadata": {
        "id": "RMr6szyta5S3",
        "colab_type": "code",
        "colab": {
          "base_uri": "https://localhost:8080/",
          "height": 649
        },
        "outputId": "164f73df-4767-4bdd-8895-1fae46b98981"
      },
      "source": [
        "df_scaled.head()"
      ],
      "execution_count": 44,
      "outputs": [
        {
          "output_type": "execute_result",
          "data": {
            "text/html": [
              "<div>\n",
              "<style scoped>\n",
              "    .dataframe tbody tr th:only-of-type {\n",
              "        vertical-align: middle;\n",
              "    }\n",
              "\n",
              "    .dataframe tbody tr th {\n",
              "        vertical-align: top;\n",
              "    }\n",
              "\n",
              "    .dataframe thead th {\n",
              "        text-align: right;\n",
              "    }\n",
              "</style>\n",
              "<table border=\"1\" class=\"dataframe\">\n",
              "  <thead>\n",
              "    <tr style=\"text-align: right;\">\n",
              "      <th></th>\n",
              "      <th>Fecha</th>\n",
              "      <th>Turno</th>\n",
              "      <th>Equipo</th>\n",
              "      <th>Número de personal</th>\n",
              "      <th>Unidad organizativa</th>\n",
              "      <th>Posición</th>\n",
              "      <th>Fecha de alta</th>\n",
              "      <th>Status empleado para Gestión tiempos per</th>\n",
              "      <th>Dia</th>\n",
              "      <th>Mes</th>\n",
              "      <th>Año</th>\n",
              "      <th>Eficiencia</th>\n",
              "      <th>Eficiencia (bin)</th>\n",
              "      <th>Demora</th>\n",
              "      <th>Demora (bin)</th>\n",
              "      <th>Cargas (u)</th>\n",
              "      <th>Movimiento (t)</th>\n",
              "      <th>Edad del empleado</th>\n",
              "      <th>tefe (seg)</th>\n",
              "      <th>tdem (seg)</th>\n",
              "    </tr>\n",
              "  </thead>\n",
              "  <tbody>\n",
              "    <tr>\n",
              "      <th>0</th>\n",
              "      <td>2019-07-01</td>\n",
              "      <td>2</td>\n",
              "      <td>211</td>\n",
              "      <td>20002787</td>\n",
              "      <td>MANTENIMIENTO MINA</td>\n",
              "      <td>ELECTRICO III</td>\n",
              "      <td>2011-10-01</td>\n",
              "      <td>1 - Evaluación de tiempos, real</td>\n",
              "      <td>01</td>\n",
              "      <td>07</td>\n",
              "      <td>2019</td>\n",
              "      <td>0.505260</td>\n",
              "      <td>0</td>\n",
              "      <td>0.058532</td>\n",
              "      <td>0</td>\n",
              "      <td>0.668797</td>\n",
              "      <td>0.625564</td>\n",
              "      <td>-1.424177</td>\n",
              "      <td>-0.023231</td>\n",
              "      <td>-0.541814</td>\n",
              "    </tr>\n",
              "    <tr>\n",
              "      <th>1</th>\n",
              "      <td>2019-07-01</td>\n",
              "      <td>2</td>\n",
              "      <td>213</td>\n",
              "      <td>20000875</td>\n",
              "      <td>MANTENIMIENTO MINA</td>\n",
              "      <td>MECANICO I</td>\n",
              "      <td>1997-03-19</td>\n",
              "      <td>1 - Evaluación de tiempos, real</td>\n",
              "      <td>01</td>\n",
              "      <td>07</td>\n",
              "      <td>2019</td>\n",
              "      <td>0.131334</td>\n",
              "      <td>0</td>\n",
              "      <td>0.026390</td>\n",
              "      <td>0</td>\n",
              "      <td>-1.277362</td>\n",
              "      <td>-1.268354</td>\n",
              "      <td>0.729983</td>\n",
              "      <td>-1.472102</td>\n",
              "      <td>-0.760860</td>\n",
              "    </tr>\n",
              "    <tr>\n",
              "      <th>2</th>\n",
              "      <td>2019-07-01</td>\n",
              "      <td>2</td>\n",
              "      <td>307</td>\n",
              "      <td>20001014</td>\n",
              "      <td>ADMINISTRACION SUPTCIA PLANTAS</td>\n",
              "      <td>OPERADOR ELECTRICO II PLANTA</td>\n",
              "      <td>1998-03-31</td>\n",
              "      <td>1 - Evaluación de tiempos, real</td>\n",
              "      <td>01</td>\n",
              "      <td>07</td>\n",
              "      <td>2019</td>\n",
              "      <td>0.917188</td>\n",
              "      <td>1</td>\n",
              "      <td>0.197434</td>\n",
              "      <td>1</td>\n",
              "      <td>0.836983</td>\n",
              "      <td>0.853396</td>\n",
              "      <td>1.419314</td>\n",
              "      <td>1.232658</td>\n",
              "      <td>0.431886</td>\n",
              "    </tr>\n",
              "    <tr>\n",
              "      <th>3</th>\n",
              "      <td>2019-07-02</td>\n",
              "      <td>1</td>\n",
              "      <td>211</td>\n",
              "      <td>20004895</td>\n",
              "      <td>CAMIONES CAT 793F MLC</td>\n",
              "      <td>OPERADOR III</td>\n",
              "      <td>2013-09-01</td>\n",
              "      <td>1 - Evaluación de tiempos, real</td>\n",
              "      <td>02</td>\n",
              "      <td>07</td>\n",
              "      <td>2019</td>\n",
              "      <td>0.904444</td>\n",
              "      <td>1</td>\n",
              "      <td>0.103806</td>\n",
              "      <td>0</td>\n",
              "      <td>1.990262</td>\n",
              "      <td>1.963414</td>\n",
              "      <td>0.212984</td>\n",
              "      <td>1.411265</td>\n",
              "      <td>-0.470269</td>\n",
              "    </tr>\n",
              "    <tr>\n",
              "      <th>4</th>\n",
              "      <td>2019-07-02</td>\n",
              "      <td>1</td>\n",
              "      <td>213</td>\n",
              "      <td>20003278</td>\n",
              "      <td>MANTENIMIENTO MINA</td>\n",
              "      <td>MECANICO III</td>\n",
              "      <td>2011-04-01</td>\n",
              "      <td>1 - Evaluación de tiempos, real</td>\n",
              "      <td>02</td>\n",
              "      <td>07</td>\n",
              "      <td>2019</td>\n",
              "      <td>0.069553</td>\n",
              "      <td>0</td>\n",
              "      <td>0.004818</td>\n",
              "      <td>0</td>\n",
              "      <td>-1.397495</td>\n",
              "      <td>-1.392686</td>\n",
              "      <td>-1.079512</td>\n",
              "      <td>-1.711488</td>\n",
              "      <td>-0.907871</td>\n",
              "    </tr>\n",
              "  </tbody>\n",
              "</table>\n",
              "</div>"
            ],
            "text/plain": [
              "        Fecha Turno Equipo  ... Edad del empleado tefe (seg) tdem (seg)\n",
              "0  2019-07-01     2    211  ...         -1.424177  -0.023231  -0.541814\n",
              "1  2019-07-01     2    213  ...          0.729983  -1.472102  -0.760860\n",
              "2  2019-07-01     2    307  ...          1.419314   1.232658   0.431886\n",
              "3  2019-07-02     1    211  ...          0.212984   1.411265  -0.470269\n",
              "4  2019-07-02     1    213  ...         -1.079512  -1.711488  -0.907871\n",
              "\n",
              "[5 rows x 20 columns]"
            ]
          },
          "metadata": {
            "tags": []
          },
          "execution_count": 44
        }
      ]
    },
    {
      "cell_type": "markdown",
      "metadata": {
        "colab_type": "text",
        "id": "je6SL8JBDLZY"
      },
      "source": [
        "# Predicción Tefe (seg)"
      ]
    },
    {
      "cell_type": "markdown",
      "metadata": {
        "colab_type": "text",
        "id": "HC_sP6orDLZf"
      },
      "source": [
        "##Regresión Lineal"
      ]
    },
    {
      "cell_type": "markdown",
      "metadata": {
        "colab_type": "text",
        "id": "tALuPVm2DLZg"
      },
      "source": [
        "Importamos y seleccionamos las variables que ocuparemos en el modelo"
      ]
    },
    {
      "cell_type": "code",
      "metadata": {
        "colab_type": "code",
        "id": "3JAsK_2nDLZg",
        "colab": {}
      },
      "source": [
        "from sklearn.model_selection import train_test_split\n",
        "X = df_scaled[['Turno','Equipo','Movimiento (t)','Cargas (u)','Edad del empleado','Número de personal']]\n",
        "y = df_scaled['tefe (seg)']"
      ],
      "execution_count": 45,
      "outputs": []
    },
    {
      "cell_type": "markdown",
      "metadata": {
        "colab_type": "text",
        "id": "Y0GKRyyiDLZo"
      },
      "source": [
        "Creamos la data de entrenamiento y test"
      ]
    },
    {
      "cell_type": "code",
      "metadata": {
        "colab_type": "code",
        "id": "dnXGnnfNDLZp",
        "colab": {}
      },
      "source": [
        "X_train, X_test, y_train, y_test = train_test_split(X, y, test_size=0.4, random_state=42)"
      ],
      "execution_count": 46,
      "outputs": []
    },
    {
      "cell_type": "markdown",
      "metadata": {
        "colab_type": "text",
        "id": "p3H9K1eTDLZr"
      },
      "source": [
        "Importamos el modelo de regresion lineal, creamos la regresion y generamos el .fit con la data de entrenamiento"
      ]
    },
    {
      "cell_type": "code",
      "metadata": {
        "colab_type": "code",
        "id": "hpMlC1wrDLZs",
        "colab": {
          "base_uri": "https://localhost:8080/",
          "height": 54
        },
        "outputId": "cd9a8c70-0bb8-40db-e0da-fae23bf8a60e"
      },
      "source": [
        "from sklearn import linear_model\n",
        "modelo = linear_model.LinearRegression()\n",
        "modelo.fit(X_train,y_train)"
      ],
      "execution_count": 47,
      "outputs": [
        {
          "output_type": "execute_result",
          "data": {
            "text/plain": [
              "LinearRegression(copy_X=True, fit_intercept=True, n_jobs=None, normalize=False)"
            ]
          },
          "metadata": {
            "tags": []
          },
          "execution_count": 47
        }
      ]
    },
    {
      "cell_type": "markdown",
      "metadata": {
        "colab_type": "text",
        "id": "3PAP_uDSDLZv"
      },
      "source": [
        "\n",
        "Predicción con la data de test"
      ]
    },
    {
      "cell_type": "code",
      "metadata": {
        "colab_type": "code",
        "id": "dOP7b8rvDLZw",
        "colab": {}
      },
      "source": [
        "y_pred = modelo.predict(X_test)"
      ],
      "execution_count": 48,
      "outputs": []
    },
    {
      "cell_type": "code",
      "metadata": {
        "colab_type": "code",
        "id": "chNHP2oJDLZy",
        "colab": {
          "base_uri": "https://localhost:8080/",
          "height": 235
        },
        "outputId": "05e7c908-60f5-41b2-be8d-75922b77b23b"
      },
      "source": [
        "pd.DataFrame(modelo.coef_,X.columns,columns=['Coefficient'])"
      ],
      "execution_count": 49,
      "outputs": [
        {
          "output_type": "execute_result",
          "data": {
            "text/html": [
              "<div>\n",
              "<style scoped>\n",
              "    .dataframe tbody tr th:only-of-type {\n",
              "        vertical-align: middle;\n",
              "    }\n",
              "\n",
              "    .dataframe tbody tr th {\n",
              "        vertical-align: top;\n",
              "    }\n",
              "\n",
              "    .dataframe thead th {\n",
              "        text-align: right;\n",
              "    }\n",
              "</style>\n",
              "<table border=\"1\" class=\"dataframe\">\n",
              "  <thead>\n",
              "    <tr style=\"text-align: right;\">\n",
              "      <th></th>\n",
              "      <th>Coefficient</th>\n",
              "    </tr>\n",
              "  </thead>\n",
              "  <tbody>\n",
              "    <tr>\n",
              "      <th>Turno</th>\n",
              "      <td>-0.025161</td>\n",
              "    </tr>\n",
              "    <tr>\n",
              "      <th>Equipo</th>\n",
              "      <td>0.007549</td>\n",
              "    </tr>\n",
              "    <tr>\n",
              "      <th>Movimiento (t)</th>\n",
              "      <td>-0.021779</td>\n",
              "    </tr>\n",
              "    <tr>\n",
              "      <th>Cargas (u)</th>\n",
              "      <td>1.034880</td>\n",
              "    </tr>\n",
              "    <tr>\n",
              "      <th>Edad del empleado</th>\n",
              "      <td>-0.019140</td>\n",
              "    </tr>\n",
              "    <tr>\n",
              "      <th>Número de personal</th>\n",
              "      <td>-0.000012</td>\n",
              "    </tr>\n",
              "  </tbody>\n",
              "</table>\n",
              "</div>"
            ],
            "text/plain": [
              "                    Coefficient\n",
              "Turno                 -0.025161\n",
              "Equipo                 0.007549\n",
              "Movimiento (t)        -0.021779\n",
              "Cargas (u)             1.034880\n",
              "Edad del empleado     -0.019140\n",
              "Número de personal    -0.000012"
            ]
          },
          "metadata": {
            "tags": []
          },
          "execution_count": 49
        }
      ]
    },
    {
      "cell_type": "code",
      "metadata": {
        "colab_type": "code",
        "id": "aDyCLmlWDLZ0",
        "colab": {
          "base_uri": "https://localhost:8080/",
          "height": 356
        },
        "outputId": "9977ebc6-a834-4a54-9ff9-c6e45a4ec94b"
      },
      "source": [
        "plt.figure(figsize=(10,5))\n",
        "sns.scatterplot(y_test,y_pred,color='blue',alpha=0.5)"
      ],
      "execution_count": 50,
      "outputs": [
        {
          "output_type": "execute_result",
          "data": {
            "text/plain": [
              "<matplotlib.axes._subplots.AxesSubplot at 0x7efdfaec24a8>"
            ]
          },
          "metadata": {
            "tags": []
          },
          "execution_count": 50
        },
        {
          "output_type": "display_data",
          "data": {
            "image/png": "[encoded data removed]",
            "text/plain": [
              "<Figure size 720x360 with 1 Axes>"
            ]
          },
          "metadata": {
            "tags": [],
            "needs_background": "light"
          }
        }
      ]
    },
    {
      "cell_type": "markdown",
      "metadata": {
        "colab_type": "text",
        "id": "wlZ-QJ-3DLZ2"
      },
      "source": [
        "Residuales"
      ]
    },
    {
      "cell_type": "code",
      "metadata": {
        "colab_type": "code",
        "id": "VjqIRdvbDLZ3",
        "colab": {
          "base_uri": "https://localhost:8080/",
          "height": 302
        },
        "outputId": "e824e3f7-d7d3-4b3b-aab3-12e4656f96f8"
      },
      "source": [
        "sns.distplot((y_test-y_pred),bins=50)"
      ],
      "execution_count": 51,
      "outputs": [
        {
          "output_type": "execute_result",
          "data": {
            "text/plain": [
              "<matplotlib.axes._subplots.AxesSubplot at 0x7efdfaeb63c8>"
            ]
          },
          "metadata": {
            "tags": []
          },
          "execution_count": 51
        },
        {
          "output_type": "display_data",
          "data": {
            "image/png": "[encoded data removed]",
            "text/plain": [
              "<Figure size 432x288 with 1 Axes>"
            ]
          },
          "metadata": {
            "tags": [],
            "needs_background": "light"
          }
        }
      ]
    },
    {
      "cell_type": "markdown",
      "metadata": {
        "colab_type": "text",
        "id": "f4Z3F9QEDLZ7"
      },
      "source": [
        "Error Cuadratico Medio"
      ]
    },
    {
      "cell_type": "code",
      "metadata": {
        "colab_type": "code",
        "id": "KWItWBcaDLZ7",
        "colab": {
          "base_uri": "https://localhost:8080/",
          "height": 34
        },
        "outputId": "16a16f02-98bf-43fb-9338-fcc2b0565af0"
      },
      "source": [
        "from sklearn import metrics\n",
        "print(f'Error Cuadrático Medio: {metrics.mean_squared_error(y_test,y_pred)}')"
      ],
      "execution_count": 52,
      "outputs": [
        {
          "output_type": "stream",
          "text": [
            "Error Cuadrático Medio: 0.18060972165442052\n"
          ],
          "name": "stdout"
        }
      ]
    },
    {
      "cell_type": "markdown",
      "metadata": {
        "colab_type": "text",
        "id": "e02goRc9DLZ9"
      },
      "source": [
        "Se peude decir que la regresion lineal no en el mejor modelo para este tipo de data"
      ]
    },
    {
      "cell_type": "code",
      "metadata": {
        "colab_type": "code",
        "id": "1QwsoLYzDLZ-",
        "colab": {}
      },
      "source": [
        ""
      ],
      "execution_count": 52,
      "outputs": []
    },
    {
      "cell_type": "markdown",
      "metadata": {
        "colab_type": "text",
        "id": "APBxAhfrDLaA"
      },
      "source": [
        "##Regresión Logística"
      ]
    },
    {
      "cell_type": "markdown",
      "metadata": {
        "colab_type": "text",
        "id": "1_4VLqIuDLaA"
      },
      "source": [
        "Generamos nuestro data de entrenamiento y le eliminamos las columnas que no ocuparemos en el modolamiento"
      ]
    },
    {
      "cell_type": "code",
      "metadata": {
        "colab_type": "code",
        "id": "3BG5anjQDLaB",
        "colab": {}
      },
      "source": [
        "filtro = ['Eficiencia (bin)','Cargas (u)','Movimiento (t)','Edad del empleado']\n",
        "train = df_scaled[filtro]"
      ],
      "execution_count": 147,
      "outputs": []
    },
    {
      "cell_type": "markdown",
      "metadata": {
        "id": "kFJYea6zg6it",
        "colab_type": "text"
      },
      "source": [
        "Nos quedamos con los datos numericos"
      ]
    },
    {
      "cell_type": "code",
      "metadata": {
        "colab_type": "code",
        "id": "mTZtpujJDLaD",
        "colab": {
          "base_uri": "https://localhost:8080/",
          "height": 204
        },
        "outputId": "467df5fd-d0ab-48ee-c162-c4a9fbc8a73d"
      },
      "source": [
        "train.info()"
      ],
      "execution_count": 148,
      "outputs": [
        {
          "output_type": "stream",
          "text": [
            "<class 'pandas.core.frame.DataFrame'>\n",
            "RangeIndex: 1825 entries, 0 to 1824\n",
            "Data columns (total 4 columns):\n",
            " #   Column             Non-Null Count  Dtype  \n",
            "---  ------             --------------  -----  \n",
            " 0   Eficiencia (bin)   1825 non-null   int64  \n",
            " 1   Cargas (u)         1825 non-null   float64\n",
            " 2   Movimiento (t)     1825 non-null   float64\n",
            " 3   Edad del empleado  1825 non-null   float64\n",
            "dtypes: float64(3), int64(1)\n",
            "memory usage: 57.2 KB\n"
          ],
          "name": "stdout"
        }
      ]
    },
    {
      "cell_type": "markdown",
      "metadata": {
        "colab_type": "text",
        "id": "d4OXaczxDLaF"
      },
      "source": [
        "Creamos nuestras variables dummies"
      ]
    },
    {
      "cell_type": "code",
      "metadata": {
        "colab_type": "code",
        "id": "86zqbHY3DLaG",
        "colab": {}
      },
      "source": [
        "unidad = pd.get_dummies(df_scaled['Unidad organizativa'])\n",
        "posicion = pd.get_dummies(df_scaled['Posición'])\n",
        "turno = pd.get_dummies(df_scaled['Turno'])\n",
        "fecha = pd.get_dummies(df_scaled['Fecha'])\n",
        "numero_personal = pd.get_dummies(df_scaled['Número de personal'])\n",
        "alta = pd.get_dummies(df_scaled['Fecha de alta'])\n",
        "status = pd.get_dummies(df_scaled['Status empleado para Gestión tiempos per'])"
      ],
      "execution_count": 149,
      "outputs": []
    },
    {
      "cell_type": "markdown",
      "metadata": {
        "colab_type": "text",
        "id": "P5GM_4PXDLaI"
      },
      "source": [
        "Agregamos las variables dummies a la data de entrenamiento"
      ]
    },
    {
      "cell_type": "code",
      "metadata": {
        "colab_type": "code",
        "id": "oZ1QbAv0DLaI",
        "colab": {}
      },
      "source": [
        "train = pd.concat([train,unidad,posicion,turno,fecha,numero_personal,alta,status],axis=1)"
      ],
      "execution_count": 150,
      "outputs": []
    },
    {
      "cell_type": "code",
      "metadata": {
        "colab_type": "code",
        "id": "k7R5Y_r4DLaL",
        "colab": {
          "base_uri": "https://localhost:8080/",
          "height": 338
        },
        "outputId": "0df8ac2d-daa0-4b99-ef01-661836eb614f"
      },
      "source": [
        "train.head()"
      ],
      "execution_count": 151,
      "outputs": [
        {
          "output_type": "execute_result",
          "data": {
            "text/html": [
              "<div>\n",
              "<style scoped>\n",
              "    .dataframe tbody tr th:only-of-type {\n",
              "        vertical-align: middle;\n",
              "    }\n",
              "\n",
              "    .dataframe tbody tr th {\n",
              "        vertical-align: top;\n",
              "    }\n",
              "\n",
              "    .dataframe thead th {\n",
              "        text-align: right;\n",
              "    }\n",
              "</style>\n",
              "<table border=\"1\" class=\"dataframe\">\n",
              "  <thead>\n",
              "    <tr style=\"text-align: right;\">\n",
              "      <th></th>\n",
              "      <th>Eficiencia (bin)</th>\n",
              "      <th>Cargas (u)</th>\n",
              "      <th>Movimiento (t)</th>\n",
              "      <th>Edad del empleado</th>\n",
              "      <th>ADMINISTRACION SUPTCIA PLANTAS</th>\n",
              "      <th>ALJIBES MLC</th>\n",
              "      <th>CAMIONES CAT 793F MLC</th>\n",
              "      <th>CAMIONES KOMATSU 830E MLC</th>\n",
              "      <th>CARGADORES FRONTALES MLC</th>\n",
              "      <th>GEOLOGIA DE PRODUCCION</th>\n",
              "      <th>INGENIERIA DE PROCESOS</th>\n",
              "      <th>MANTENIMIENTO MINA</th>\n",
              "      <th>MOTONIVELADORAS MLC</th>\n",
              "      <th>PALAS HIDRAULICAS MLC</th>\n",
              "      <th>PLANIFICACION MANTTO. MINA</th>\n",
              "      <th>SERVICIO SOCIAL VHUASCO</th>\n",
              "      <th>SISTEMAS DE CONTROL Y POTENCIA</th>\n",
              "      <th>TRACTORES NEUMATICOS MLC</th>\n",
              "      <th>TRACTORES ORUGA MLC</th>\n",
              "      <th>ASISTENTE GEOLOGIA</th>\n",
              "      <th>AYUDANTE ADMINISTRATIVO</th>\n",
              "      <th>CONTROLADOR PLANIFICACION</th>\n",
              "      <th>ELECTRICO I</th>\n",
              "      <th>ELECTRICO III</th>\n",
              "      <th>INGENIERO DE PROCESOS</th>\n",
              "      <th>JEFE SISTEMAS DE CONTROL Y POTENCIA</th>\n",
              "      <th>MECANICO I</th>\n",
              "      <th>MECANICO III</th>\n",
              "      <th>OPERADOR ELECTRICO II PLANTA</th>\n",
              "      <th>OPERADOR I</th>\n",
              "      <th>OPERADOR II</th>\n",
              "      <th>OPERADOR III</th>\n",
              "      <th>OPERADOR MECANICO III PLANTA</th>\n",
              "      <th>PLANIFICADOR MANTENIMIENTO MINA</th>\n",
              "      <th>1</th>\n",
              "      <th>2</th>\n",
              "      <th>2019-07-01</th>\n",
              "      <th>2019-07-02</th>\n",
              "      <th>2019-07-03</th>\n",
              "      <th>2019-07-04</th>\n",
              "      <th>...</th>\n",
              "      <th>20003244</th>\n",
              "      <th>20003260</th>\n",
              "      <th>20003278</th>\n",
              "      <th>20003408</th>\n",
              "      <th>20003778</th>\n",
              "      <th>20003779</th>\n",
              "      <th>20003858</th>\n",
              "      <th>20004398</th>\n",
              "      <th>20004884</th>\n",
              "      <th>20004895</th>\n",
              "      <th>20005055</th>\n",
              "      <th>20005968</th>\n",
              "      <th>20006912</th>\n",
              "      <th>1988-09-01</th>\n",
              "      <th>1996-07-01</th>\n",
              "      <th>1996-09-23</th>\n",
              "      <th>1996-12-17</th>\n",
              "      <th>1997-02-01</th>\n",
              "      <th>1997-03-19</th>\n",
              "      <th>1997-12-01</th>\n",
              "      <th>1998-03-25</th>\n",
              "      <th>1998-03-31</th>\n",
              "      <th>2003-05-30</th>\n",
              "      <th>2003-06-01</th>\n",
              "      <th>2006-02-16</th>\n",
              "      <th>2006-03-29</th>\n",
              "      <th>2008-08-12</th>\n",
              "      <th>2011-01-17</th>\n",
              "      <th>2011-04-01</th>\n",
              "      <th>2011-07-01</th>\n",
              "      <th>2011-10-01</th>\n",
              "      <th>2012-02-20</th>\n",
              "      <th>2012-11-07</th>\n",
              "      <th>2013-03-01</th>\n",
              "      <th>2013-09-01</th>\n",
              "      <th>2013-11-01</th>\n",
              "      <th>2017-03-08</th>\n",
              "      <th>2019-06-03</th>\n",
              "      <th>1 - Evaluación de tiempos, real</th>\n",
              "      <th>9 - Evaluación de tiempos, teórico</th>\n",
              "    </tr>\n",
              "  </thead>\n",
              "  <tbody>\n",
              "    <tr>\n",
              "      <th>0</th>\n",
              "      <td>0</td>\n",
              "      <td>0.668797</td>\n",
              "      <td>0.625564</td>\n",
              "      <td>-1.424177</td>\n",
              "      <td>0</td>\n",
              "      <td>0</td>\n",
              "      <td>0</td>\n",
              "      <td>0</td>\n",
              "      <td>0</td>\n",
              "      <td>0</td>\n",
              "      <td>0</td>\n",
              "      <td>1</td>\n",
              "      <td>0</td>\n",
              "      <td>0</td>\n",
              "      <td>0</td>\n",
              "      <td>0</td>\n",
              "      <td>0</td>\n",
              "      <td>0</td>\n",
              "      <td>0</td>\n",
              "      <td>0</td>\n",
              "      <td>0</td>\n",
              "      <td>0</td>\n",
              "      <td>0</td>\n",
              "      <td>1</td>\n",
              "      <td>0</td>\n",
              "      <td>0</td>\n",
              "      <td>0</td>\n",
              "      <td>0</td>\n",
              "      <td>0</td>\n",
              "      <td>0</td>\n",
              "      <td>0</td>\n",
              "      <td>0</td>\n",
              "      <td>0</td>\n",
              "      <td>0</td>\n",
              "      <td>0</td>\n",
              "      <td>1</td>\n",
              "      <td>1</td>\n",
              "      <td>0</td>\n",
              "      <td>0</td>\n",
              "      <td>0</td>\n",
              "      <td>...</td>\n",
              "      <td>0</td>\n",
              "      <td>0</td>\n",
              "      <td>0</td>\n",
              "      <td>0</td>\n",
              "      <td>0</td>\n",
              "      <td>0</td>\n",
              "      <td>0</td>\n",
              "      <td>0</td>\n",
              "      <td>0</td>\n",
              "      <td>0</td>\n",
              "      <td>0</td>\n",
              "      <td>0</td>\n",
              "      <td>0</td>\n",
              "      <td>0</td>\n",
              "      <td>0</td>\n",
              "      <td>0</td>\n",
              "      <td>0</td>\n",
              "      <td>0</td>\n",
              "      <td>0</td>\n",
              "      <td>0</td>\n",
              "      <td>0</td>\n",
              "      <td>0</td>\n",
              "      <td>0</td>\n",
              "      <td>0</td>\n",
              "      <td>0</td>\n",
              "      <td>0</td>\n",
              "      <td>0</td>\n",
              "      <td>0</td>\n",
              "      <td>0</td>\n",
              "      <td>0</td>\n",
              "      <td>1</td>\n",
              "      <td>0</td>\n",
              "      <td>0</td>\n",
              "      <td>0</td>\n",
              "      <td>0</td>\n",
              "      <td>0</td>\n",
              "      <td>0</td>\n",
              "      <td>0</td>\n",
              "      <td>1</td>\n",
              "      <td>0</td>\n",
              "    </tr>\n",
              "    <tr>\n",
              "      <th>1</th>\n",
              "      <td>0</td>\n",
              "      <td>-1.277362</td>\n",
              "      <td>-1.268354</td>\n",
              "      <td>0.729983</td>\n",
              "      <td>0</td>\n",
              "      <td>0</td>\n",
              "      <td>0</td>\n",
              "      <td>0</td>\n",
              "      <td>0</td>\n",
              "      <td>0</td>\n",
              "      <td>0</td>\n",
              "      <td>1</td>\n",
              "      <td>0</td>\n",
              "      <td>0</td>\n",
              "      <td>0</td>\n",
              "      <td>0</td>\n",
              "      <td>0</td>\n",
              "      <td>0</td>\n",
              "      <td>0</td>\n",
              "      <td>0</td>\n",
              "      <td>0</td>\n",
              "      <td>0</td>\n",
              "      <td>0</td>\n",
              "      <td>0</td>\n",
              "      <td>0</td>\n",
              "      <td>0</td>\n",
              "      <td>1</td>\n",
              "      <td>0</td>\n",
              "      <td>0</td>\n",
              "      <td>0</td>\n",
              "      <td>0</td>\n",
              "      <td>0</td>\n",
              "      <td>0</td>\n",
              "      <td>0</td>\n",
              "      <td>0</td>\n",
              "      <td>1</td>\n",
              "      <td>1</td>\n",
              "      <td>0</td>\n",
              "      <td>0</td>\n",
              "      <td>0</td>\n",
              "      <td>...</td>\n",
              "      <td>0</td>\n",
              "      <td>0</td>\n",
              "      <td>0</td>\n",
              "      <td>0</td>\n",
              "      <td>0</td>\n",
              "      <td>0</td>\n",
              "      <td>0</td>\n",
              "      <td>0</td>\n",
              "      <td>0</td>\n",
              "      <td>0</td>\n",
              "      <td>0</td>\n",
              "      <td>0</td>\n",
              "      <td>0</td>\n",
              "      <td>0</td>\n",
              "      <td>0</td>\n",
              "      <td>0</td>\n",
              "      <td>0</td>\n",
              "      <td>0</td>\n",
              "      <td>1</td>\n",
              "      <td>0</td>\n",
              "      <td>0</td>\n",
              "      <td>0</td>\n",
              "      <td>0</td>\n",
              "      <td>0</td>\n",
              "      <td>0</td>\n",
              "      <td>0</td>\n",
              "      <td>0</td>\n",
              "      <td>0</td>\n",
              "      <td>0</td>\n",
              "      <td>0</td>\n",
              "      <td>0</td>\n",
              "      <td>0</td>\n",
              "      <td>0</td>\n",
              "      <td>0</td>\n",
              "      <td>0</td>\n",
              "      <td>0</td>\n",
              "      <td>0</td>\n",
              "      <td>0</td>\n",
              "      <td>1</td>\n",
              "      <td>0</td>\n",
              "    </tr>\n",
              "    <tr>\n",
              "      <th>2</th>\n",
              "      <td>1</td>\n",
              "      <td>0.836983</td>\n",
              "      <td>0.853396</td>\n",
              "      <td>1.419314</td>\n",
              "      <td>1</td>\n",
              "      <td>0</td>\n",
              "      <td>0</td>\n",
              "      <td>0</td>\n",
              "      <td>0</td>\n",
              "      <td>0</td>\n",
              "      <td>0</td>\n",
              "      <td>0</td>\n",
              "      <td>0</td>\n",
              "      <td>0</td>\n",
              "      <td>0</td>\n",
              "      <td>0</td>\n",
              "      <td>0</td>\n",
              "      <td>0</td>\n",
              "      <td>0</td>\n",
              "      <td>0</td>\n",
              "      <td>0</td>\n",
              "      <td>0</td>\n",
              "      <td>0</td>\n",
              "      <td>0</td>\n",
              "      <td>0</td>\n",
              "      <td>0</td>\n",
              "      <td>0</td>\n",
              "      <td>0</td>\n",
              "      <td>1</td>\n",
              "      <td>0</td>\n",
              "      <td>0</td>\n",
              "      <td>0</td>\n",
              "      <td>0</td>\n",
              "      <td>0</td>\n",
              "      <td>0</td>\n",
              "      <td>1</td>\n",
              "      <td>1</td>\n",
              "      <td>0</td>\n",
              "      <td>0</td>\n",
              "      <td>0</td>\n",
              "      <td>...</td>\n",
              "      <td>0</td>\n",
              "      <td>0</td>\n",
              "      <td>0</td>\n",
              "      <td>0</td>\n",
              "      <td>0</td>\n",
              "      <td>0</td>\n",
              "      <td>0</td>\n",
              "      <td>0</td>\n",
              "      <td>0</td>\n",
              "      <td>0</td>\n",
              "      <td>0</td>\n",
              "      <td>0</td>\n",
              "      <td>0</td>\n",
              "      <td>0</td>\n",
              "      <td>0</td>\n",
              "      <td>0</td>\n",
              "      <td>0</td>\n",
              "      <td>0</td>\n",
              "      <td>0</td>\n",
              "      <td>0</td>\n",
              "      <td>0</td>\n",
              "      <td>1</td>\n",
              "      <td>0</td>\n",
              "      <td>0</td>\n",
              "      <td>0</td>\n",
              "      <td>0</td>\n",
              "      <td>0</td>\n",
              "      <td>0</td>\n",
              "      <td>0</td>\n",
              "      <td>0</td>\n",
              "      <td>0</td>\n",
              "      <td>0</td>\n",
              "      <td>0</td>\n",
              "      <td>0</td>\n",
              "      <td>0</td>\n",
              "      <td>0</td>\n",
              "      <td>0</td>\n",
              "      <td>0</td>\n",
              "      <td>1</td>\n",
              "      <td>0</td>\n",
              "    </tr>\n",
              "    <tr>\n",
              "      <th>3</th>\n",
              "      <td>1</td>\n",
              "      <td>1.990262</td>\n",
              "      <td>1.963414</td>\n",
              "      <td>0.212984</td>\n",
              "      <td>0</td>\n",
              "      <td>0</td>\n",
              "      <td>1</td>\n",
              "      <td>0</td>\n",
              "      <td>0</td>\n",
              "      <td>0</td>\n",
              "      <td>0</td>\n",
              "      <td>0</td>\n",
              "      <td>0</td>\n",
              "      <td>0</td>\n",
              "      <td>0</td>\n",
              "      <td>0</td>\n",
              "      <td>0</td>\n",
              "      <td>0</td>\n",
              "      <td>0</td>\n",
              "      <td>0</td>\n",
              "      <td>0</td>\n",
              "      <td>0</td>\n",
              "      <td>0</td>\n",
              "      <td>0</td>\n",
              "      <td>0</td>\n",
              "      <td>0</td>\n",
              "      <td>0</td>\n",
              "      <td>0</td>\n",
              "      <td>0</td>\n",
              "      <td>0</td>\n",
              "      <td>0</td>\n",
              "      <td>1</td>\n",
              "      <td>0</td>\n",
              "      <td>0</td>\n",
              "      <td>1</td>\n",
              "      <td>0</td>\n",
              "      <td>0</td>\n",
              "      <td>1</td>\n",
              "      <td>0</td>\n",
              "      <td>0</td>\n",
              "      <td>...</td>\n",
              "      <td>0</td>\n",
              "      <td>0</td>\n",
              "      <td>0</td>\n",
              "      <td>0</td>\n",
              "      <td>0</td>\n",
              "      <td>0</td>\n",
              "      <td>0</td>\n",
              "      <td>0</td>\n",
              "      <td>0</td>\n",
              "      <td>1</td>\n",
              "      <td>0</td>\n",
              "      <td>0</td>\n",
              "      <td>0</td>\n",
              "      <td>0</td>\n",
              "      <td>0</td>\n",
              "      <td>0</td>\n",
              "      <td>0</td>\n",
              "      <td>0</td>\n",
              "      <td>0</td>\n",
              "      <td>0</td>\n",
              "      <td>0</td>\n",
              "      <td>0</td>\n",
              "      <td>0</td>\n",
              "      <td>0</td>\n",
              "      <td>0</td>\n",
              "      <td>0</td>\n",
              "      <td>0</td>\n",
              "      <td>0</td>\n",
              "      <td>0</td>\n",
              "      <td>0</td>\n",
              "      <td>0</td>\n",
              "      <td>0</td>\n",
              "      <td>0</td>\n",
              "      <td>0</td>\n",
              "      <td>1</td>\n",
              "      <td>0</td>\n",
              "      <td>0</td>\n",
              "      <td>0</td>\n",
              "      <td>1</td>\n",
              "      <td>0</td>\n",
              "    </tr>\n",
              "    <tr>\n",
              "      <th>4</th>\n",
              "      <td>0</td>\n",
              "      <td>-1.397495</td>\n",
              "      <td>-1.392686</td>\n",
              "      <td>-1.079512</td>\n",
              "      <td>0</td>\n",
              "      <td>0</td>\n",
              "      <td>0</td>\n",
              "      <td>0</td>\n",
              "      <td>0</td>\n",
              "      <td>0</td>\n",
              "      <td>0</td>\n",
              "      <td>1</td>\n",
              "      <td>0</td>\n",
              "      <td>0</td>\n",
              "      <td>0</td>\n",
              "      <td>0</td>\n",
              "      <td>0</td>\n",
              "      <td>0</td>\n",
              "      <td>0</td>\n",
              "      <td>0</td>\n",
              "      <td>0</td>\n",
              "      <td>0</td>\n",
              "      <td>0</td>\n",
              "      <td>0</td>\n",
              "      <td>0</td>\n",
              "      <td>0</td>\n",
              "      <td>0</td>\n",
              "      <td>1</td>\n",
              "      <td>0</td>\n",
              "      <td>0</td>\n",
              "      <td>0</td>\n",
              "      <td>0</td>\n",
              "      <td>0</td>\n",
              "      <td>0</td>\n",
              "      <td>1</td>\n",
              "      <td>0</td>\n",
              "      <td>0</td>\n",
              "      <td>1</td>\n",
              "      <td>0</td>\n",
              "      <td>0</td>\n",
              "      <td>...</td>\n",
              "      <td>0</td>\n",
              "      <td>0</td>\n",
              "      <td>1</td>\n",
              "      <td>0</td>\n",
              "      <td>0</td>\n",
              "      <td>0</td>\n",
              "      <td>0</td>\n",
              "      <td>0</td>\n",
              "      <td>0</td>\n",
              "      <td>0</td>\n",
              "      <td>0</td>\n",
              "      <td>0</td>\n",
              "      <td>0</td>\n",
              "      <td>0</td>\n",
              "      <td>0</td>\n",
              "      <td>0</td>\n",
              "      <td>0</td>\n",
              "      <td>0</td>\n",
              "      <td>0</td>\n",
              "      <td>0</td>\n",
              "      <td>0</td>\n",
              "      <td>0</td>\n",
              "      <td>0</td>\n",
              "      <td>0</td>\n",
              "      <td>0</td>\n",
              "      <td>0</td>\n",
              "      <td>0</td>\n",
              "      <td>0</td>\n",
              "      <td>1</td>\n",
              "      <td>0</td>\n",
              "      <td>0</td>\n",
              "      <td>0</td>\n",
              "      <td>0</td>\n",
              "      <td>0</td>\n",
              "      <td>0</td>\n",
              "      <td>0</td>\n",
              "      <td>0</td>\n",
              "      <td>0</td>\n",
              "      <td>1</td>\n",
              "      <td>0</td>\n",
              "    </tr>\n",
              "  </tbody>\n",
              "</table>\n",
              "<p>5 rows × 435 columns</p>\n",
              "</div>"
            ],
            "text/plain": [
              "   Eficiencia (bin)  ...  9 - Evaluación de tiempos, teórico\n",
              "0                 0  ...                                   0\n",
              "1                 0  ...                                   0\n",
              "2                 1  ...                                   0\n",
              "3                 1  ...                                   0\n",
              "4                 0  ...                                   0\n",
              "\n",
              "[5 rows x 435 columns]"
            ]
          },
          "metadata": {
            "tags": []
          },
          "execution_count": 151
        }
      ]
    },
    {
      "cell_type": "markdown",
      "metadata": {
        "colab_type": "text",
        "id": "oQMDd_dZDLaN"
      },
      "source": [
        "Creamos nuestra data de entrenamiento y de test"
      ]
    },
    {
      "cell_type": "code",
      "metadata": {
        "colab_type": "code",
        "id": "cjxgoFL5DLaO",
        "colab": {}
      },
      "source": [
        "from sklearn.model_selection import train_test_split\n",
        "X_train, X_test, y_train, y_test = train_test_split(train.drop('Eficiencia (bin)',axis=1),\n",
        "                                                    train['Eficiencia (bin)'],\n",
        "                                                    test_size=0.30,random_state=42)"
      ],
      "execution_count": 152,
      "outputs": []
    },
    {
      "cell_type": "markdown",
      "metadata": {
        "colab_type": "text",
        "id": "LiQ8ZnM4DLaQ"
      },
      "source": [
        "Importamos el modelo, creamos la regresión y entrenamos con nuestra data de entrenamiento"
      ]
    },
    {
      "cell_type": "code",
      "metadata": {
        "colab_type": "code",
        "id": "uMfw6G_YDLaQ",
        "colab": {
          "base_uri": "https://localhost:8080/",
          "height": 102
        },
        "outputId": "6e22919d-70e7-4743-e1c7-56be28062bda"
      },
      "source": [
        "from sklearn.linear_model import LogisticRegression\n",
        "modelo = LogisticRegression()\n",
        "modelo.fit(X_train,y_train)"
      ],
      "execution_count": 123,
      "outputs": [
        {
          "output_type": "execute_result",
          "data": {
            "text/plain": [
              "LogisticRegression(C=1.0, class_weight=None, dual=False, fit_intercept=True,\n",
              "                   intercept_scaling=1, l1_ratio=None, max_iter=100,\n",
              "                   multi_class='auto', n_jobs=None, penalty='l2',\n",
              "                   random_state=None, solver='lbfgs', tol=0.0001, verbose=0,\n",
              "                   warm_start=False)"
            ]
          },
          "metadata": {
            "tags": []
          },
          "execution_count": 123
        }
      ]
    },
    {
      "cell_type": "markdown",
      "metadata": {
        "colab_type": "text",
        "id": "fXBP0qxZDLaT"
      },
      "source": [
        "Predicción con la data de test"
      ]
    },
    {
      "cell_type": "code",
      "metadata": {
        "colab_type": "code",
        "id": "radV2Av1DLaT",
        "colab": {}
      },
      "source": [
        "y_pred = modelo.predict(X_test)"
      ],
      "execution_count": 89,
      "outputs": []
    },
    {
      "cell_type": "markdown",
      "metadata": {
        "colab_type": "text",
        "id": "2R6jaBOdDLaV"
      },
      "source": [
        "Evaluacion del modelo"
      ]
    },
    {
      "cell_type": "code",
      "metadata": {
        "colab_type": "code",
        "id": "ftaWbTmiDLaW",
        "colab": {
          "base_uri": "https://localhost:8080/",
          "height": 170
        },
        "outputId": "1ef052fb-b769-4149-dd44-f749b2252421"
      },
      "source": [
        "from sklearn.metrics import classification_report\n",
        "print(classification_report(y_test,y_pred))"
      ],
      "execution_count": 90,
      "outputs": [
        {
          "output_type": "stream",
          "text": [
            "              precision    recall  f1-score   support\n",
            "\n",
            "           0       0.86      0.89      0.87       261\n",
            "           1       0.90      0.87      0.88       287\n",
            "\n",
            "    accuracy                           0.88       548\n",
            "   macro avg       0.88      0.88      0.88       548\n",
            "weighted avg       0.88      0.88      0.88       548\n",
            "\n"
          ],
          "name": "stdout"
        }
      ]
    },
    {
      "cell_type": "code",
      "metadata": {
        "colab_type": "code",
        "id": "YIQz075qDLaY",
        "colab": {
          "base_uri": "https://localhost:8080/",
          "height": 51
        },
        "outputId": "9bfd21dc-9ca3-477b-ed8e-c4f5777d7b57"
      },
      "source": [
        "from sklearn.metrics import confusion_matrix\n",
        "cnf_matrix = confusion_matrix(y_test,y_pred)\n",
        "print(cnf_matrix)"
      ],
      "execution_count": 91,
      "outputs": [
        {
          "output_type": "stream",
          "text": [
            "[[232  29]\n",
            " [ 38 249]]\n"
          ],
          "name": "stdout"
        }
      ]
    },
    {
      "cell_type": "code",
      "metadata": {
        "id": "lMxOZG8bzwxM",
        "colab_type": "code",
        "colab": {
          "base_uri": "https://localhost:8080/",
          "height": 344
        },
        "outputId": "44e1ec6f-23e7-4046-cfb2-df0be511072e"
      },
      "source": [
        "class_names=[0,1] # name  of classes\n",
        "fig, ax = plt.subplots()\n",
        "tick_marks = np.arange(len(class_names))\n",
        "plt.xticks(tick_marks, class_names)\n",
        "plt.yticks(tick_marks, class_names)\n",
        "# create heatmap\n",
        "sns.heatmap(pd.DataFrame(cnf_matrix), annot=True, cmap=\"YlGnBu\" ,fmt='g')\n",
        "ax.xaxis.set_label_position(\"top\")\n",
        "plt.tight_layout()\n",
        "plt.title('Matriz de Confusión', y=1.1)\n",
        "plt.ylabel('Actual Eficiencia')\n",
        "plt.xlabel('Predicción Eficiencia')"
      ],
      "execution_count": 92,
      "outputs": [
        {
          "output_type": "execute_result",
          "data": {
            "text/plain": [
              "Text(0.5, 257.44, 'Predicción Eficiencia')"
            ]
          },
          "metadata": {
            "tags": []
          },
          "execution_count": 92
        },
        {
          "output_type": "display_data",
          "data": {
            "image/png": "[encoded data removed]",
            "text/plain": [
              "<Figure size 432x288 with 2 Axes>"
            ]
          },
          "metadata": {
            "tags": [],
            "needs_background": "light"
          }
        }
      ]
    },
    {
      "cell_type": "code",
      "metadata": {
        "colab_type": "code",
        "id": "Ihb6NtU5DLab",
        "colab": {
          "base_uri": "https://localhost:8080/",
          "height": 85
        },
        "outputId": "59443ce2-5da5-40df-eac9-8b183f082e44"
      },
      "source": [
        "print(\"Eficiencia\")\n",
        "print(\"Accuracy:\",metrics.accuracy_score(y_test, y_pred))\n",
        "print(\"Precision:\",metrics.precision_score(y_test, y_pred))\n",
        "print(\"Recall:\",metrics.recall_score(y_test, y_pred))"
      ],
      "execution_count": 93,
      "outputs": [
        {
          "output_type": "stream",
          "text": [
            "Eficiencia\n",
            "Accuracy: 0.8777372262773723\n",
            "Precision: 0.89568345323741\n",
            "Recall: 0.867595818815331\n"
          ],
          "name": "stdout"
        }
      ]
    },
    {
      "cell_type": "markdown",
      "metadata": {
        "id": "ghwtEBgV64Qu",
        "colab_type": "text"
      },
      "source": [
        "Curva ROC\n",
        "La curva de la característica operativa del receptor (ROC) es un gráfico de la tasa de verdaderos positivos contra la tasa de falsos positivos. Muestra la compensación entre sensibilidad y especificidad."
      ]
    },
    {
      "cell_type": "code",
      "metadata": {
        "id": "e-s8ovCR2bcE",
        "colab_type": "code",
        "colab": {
          "base_uri": "https://localhost:8080/",
          "height": 268
        },
        "outputId": "d39f6a66-a173-409c-cdda-f8225e8b35b3"
      },
      "source": [
        "y_pred_proba = modelo.predict_proba(X_test)[::,1]\n",
        "fpr, tpr, _ = metrics.roc_curve(y_test,  y_pred_proba)\n",
        "auc = metrics.roc_auc_score(y_test, y_pred_proba)\n",
        "plt.plot(fpr,tpr,label=\"data 1, auc=\"+str(auc))\n",
        "plt.legend(loc=4)\n",
        "plt.show()"
      ],
      "execution_count": 95,
      "outputs": [
        {
          "output_type": "display_data",
          "data": {
            "image/png": "[encoded data removed]",
            "text/plain": [
              "<Figure size 432x288 with 1 Axes>"
            ]
          },
          "metadata": {
            "tags": [],
            "needs_background": "light"
          }
        }
      ]
    },
    {
      "cell_type": "markdown",
      "metadata": {
        "id": "UPCQdSAU7CTh",
        "colab_type": "text"
      },
      "source": [
        "La puntuación AUC para el caso es 0,95. La puntuación AUC 1 representa un clasificador perfecto y 0,5 representa un clasificador sin valor."
      ]
    },
    {
      "cell_type": "code",
      "metadata": {
        "id": "yzteWhmz6n_5",
        "colab_type": "code",
        "colab": {}
      },
      "source": [
        ""
      ],
      "execution_count": null,
      "outputs": []
    },
    {
      "cell_type": "markdown",
      "metadata": {
        "colab_type": "text",
        "id": "hkmsUibRDLad"
      },
      "source": [
        "##Decision Tree"
      ]
    },
    {
      "cell_type": "code",
      "metadata": {
        "colab_type": "code",
        "id": "56i5CuDoDLad",
        "colab": {}
      },
      "source": [
        "from sklearn.tree import DecisionTreeClassifier"
      ],
      "execution_count": null,
      "outputs": []
    },
    {
      "cell_type": "code",
      "metadata": {
        "colab_type": "code",
        "id": "yyZ6n_VzDLai",
        "colab": {}
      },
      "source": [
        "modelo = DecisionTreeClassifier()"
      ],
      "execution_count": null,
      "outputs": []
    },
    {
      "cell_type": "code",
      "metadata": {
        "colab_type": "code",
        "id": "SI7HLGC7DLal",
        "colab": {
          "base_uri": "https://localhost:8080/",
          "height": 119
        },
        "outputId": "3df79328-9db1-400c-cbb8-7ce5e9a793fc"
      },
      "source": [
        "modelo.fit(X_train,y_train)"
      ],
      "execution_count": null,
      "outputs": [
        {
          "output_type": "execute_result",
          "data": {
            "text/plain": [
              "DecisionTreeClassifier(ccp_alpha=0.0, class_weight=None, criterion='gini',\n",
              "                       max_depth=None, max_features=None, max_leaf_nodes=None,\n",
              "                       min_impurity_decrease=0.0, min_impurity_split=None,\n",
              "                       min_samples_leaf=1, min_samples_split=2,\n",
              "                       min_weight_fraction_leaf=0.0, presort='deprecated',\n",
              "                       random_state=None, splitter='best')"
            ]
          },
          "metadata": {
            "tags": []
          },
          "execution_count": 113
        }
      ]
    },
    {
      "cell_type": "code",
      "metadata": {
        "colab_type": "code",
        "id": "NCAaGd3cDLao",
        "colab": {}
      },
      "source": [
        "y_pred = modelo.predict(X_test)"
      ],
      "execution_count": null,
      "outputs": []
    },
    {
      "cell_type": "code",
      "metadata": {
        "colab_type": "code",
        "id": "aqa7GV0dDLaq",
        "colab": {
          "base_uri": "https://localhost:8080/",
          "height": 170
        },
        "outputId": "47b339ad-1f60-44ff-c241-59ca13daacb9"
      },
      "source": [
        "print(classification_report(y_test,y_pred))"
      ],
      "execution_count": null,
      "outputs": [
        {
          "output_type": "stream",
          "text": [
            "              precision    recall  f1-score   support\n",
            "\n",
            "           0       0.84      0.84      0.84       261\n",
            "           1       0.85      0.85      0.85       287\n",
            "\n",
            "    accuracy                           0.85       548\n",
            "   macro avg       0.85      0.85      0.85       548\n",
            "weighted avg       0.85      0.85      0.85       548\n",
            "\n"
          ],
          "name": "stdout"
        }
      ]
    },
    {
      "cell_type": "code",
      "metadata": {
        "colab_type": "code",
        "id": "OOkpKdFCDLas",
        "colab": {
          "base_uri": "https://localhost:8080/",
          "height": 51
        },
        "outputId": "a7ff10c7-7899-4964-bcb8-e44a56254855"
      },
      "source": [
        "print(confusion_matrix(y_test,y_pred))"
      ],
      "execution_count": null,
      "outputs": [
        {
          "output_type": "stream",
          "text": [
            "[[219  42]\n",
            " [ 42 245]]\n"
          ],
          "name": "stdout"
        }
      ]
    },
    {
      "cell_type": "code",
      "metadata": {
        "colab_type": "code",
        "id": "AQohMA-nDLau",
        "colab": {}
      },
      "source": [
        ""
      ],
      "execution_count": null,
      "outputs": []
    },
    {
      "cell_type": "markdown",
      "metadata": {
        "colab_type": "text",
        "id": "mmX4-aJqDLaw"
      },
      "source": [
        "##Random Forest"
      ]
    },
    {
      "cell_type": "code",
      "metadata": {
        "colab_type": "code",
        "id": "VP0a6lvpDLaw",
        "colab": {}
      },
      "source": [
        "from sklearn.ensemble import RandomForestClassifier"
      ],
      "execution_count": 153,
      "outputs": []
    },
    {
      "cell_type": "code",
      "metadata": {
        "colab_type": "code",
        "id": "TytbAUiWDLay",
        "colab": {}
      },
      "source": [
        "modelo = RandomForestClassifier(n_estimators=100)"
      ],
      "execution_count": 154,
      "outputs": []
    },
    {
      "cell_type": "code",
      "metadata": {
        "colab_type": "code",
        "id": "FX_35u9NDLa1",
        "colab": {
          "base_uri": "https://localhost:8080/",
          "height": 153
        },
        "outputId": "8f043ea6-0c75-478a-9c0b-7a2ba01aa32c"
      },
      "source": [
        "modelo.fit(X_train,y_train)"
      ],
      "execution_count": 155,
      "outputs": [
        {
          "output_type": "execute_result",
          "data": {
            "text/plain": [
              "RandomForestClassifier(bootstrap=True, ccp_alpha=0.0, class_weight=None,\n",
              "                       criterion='gini', max_depth=None, max_features='auto',\n",
              "                       max_leaf_nodes=None, max_samples=None,\n",
              "                       min_impurity_decrease=0.0, min_impurity_split=None,\n",
              "                       min_samples_leaf=1, min_samples_split=2,\n",
              "                       min_weight_fraction_leaf=0.0, n_estimators=100,\n",
              "                       n_jobs=None, oob_score=False, random_state=None,\n",
              "                       verbose=0, warm_start=False)"
            ]
          },
          "metadata": {
            "tags": []
          },
          "execution_count": 155
        }
      ]
    },
    {
      "cell_type": "code",
      "metadata": {
        "colab_type": "code",
        "id": "hWK66jt7DLa4",
        "colab": {}
      },
      "source": [
        "y_pred = modelo.predict(X_test)"
      ],
      "execution_count": 156,
      "outputs": []
    },
    {
      "cell_type": "code",
      "metadata": {
        "colab_type": "code",
        "id": "bOmZFih7DLa6",
        "colab": {
          "base_uri": "https://localhost:8080/",
          "height": 170
        },
        "outputId": "59a183f2-e09c-4e7e-8403-faded39797fd"
      },
      "source": [
        "print(classification_report(y_test,y_pred))"
      ],
      "execution_count": 157,
      "outputs": [
        {
          "output_type": "stream",
          "text": [
            "              precision    recall  f1-score   support\n",
            "\n",
            "           0       0.88      0.88      0.88       261\n",
            "           1       0.89      0.89      0.89       287\n",
            "\n",
            "    accuracy                           0.88       548\n",
            "   macro avg       0.88      0.88      0.88       548\n",
            "weighted avg       0.88      0.88      0.88       548\n",
            "\n"
          ],
          "name": "stdout"
        }
      ]
    },
    {
      "cell_type": "code",
      "metadata": {
        "colab_type": "code",
        "id": "r4-ZyWbMDLa8",
        "colab": {
          "base_uri": "https://localhost:8080/",
          "height": 51
        },
        "outputId": "8a18fef8-98cc-4609-cbe9-929addafb930"
      },
      "source": [
        "from sklearn.metrics import confusion_matrix\n",
        "cnf_matrix = confusion_matrix(y_test,y_pred)\n",
        "print(cnf_matrix)"
      ],
      "execution_count": 158,
      "outputs": [
        {
          "output_type": "stream",
          "text": [
            "[[229  32]\n",
            " [ 32 255]]\n"
          ],
          "name": "stdout"
        }
      ]
    },
    {
      "cell_type": "code",
      "metadata": {
        "id": "HpDH5y7bFOB1",
        "colab_type": "code",
        "colab": {
          "base_uri": "https://localhost:8080/",
          "height": 344
        },
        "outputId": "36c77665-d694-4535-9343-9322e04456d4"
      },
      "source": [
        "class_names=[0,1] # name  of classes\n",
        "fig, ax = plt.subplots()\n",
        "tick_marks = np.arange(len(class_names))\n",
        "plt.xticks(tick_marks, class_names)\n",
        "plt.yticks(tick_marks, class_names)\n",
        "# create heatmap\n",
        "sns.heatmap(pd.DataFrame(cnf_matrix), annot=True, cmap=\"YlGnBu\" ,fmt='g')\n",
        "ax.xaxis.set_label_position(\"top\")\n",
        "plt.tight_layout()\n",
        "plt.title('Matriz de Confusión', y=1.1)\n",
        "plt.ylabel('Actual Eficiencia')\n",
        "plt.xlabel('Predicción Eficiencia')"
      ],
      "execution_count": 159,
      "outputs": [
        {
          "output_type": "execute_result",
          "data": {
            "text/plain": [
              "Text(0.5, 257.44, 'Predicción Eficiencia')"
            ]
          },
          "metadata": {
            "tags": []
          },
          "execution_count": 159
        },
        {
          "output_type": "display_data",
          "data": {
            "image/png": "[encoded data removed]",
            "text/plain": [
              "<Figure size 432x288 with 2 Axes>"
            ]
          },
          "metadata": {
            "tags": [],
            "needs_background": "light"
          }
        }
      ]
    },
    {
      "cell_type": "code",
      "metadata": {
        "colab_type": "code",
        "id": "NwK7J-aIDLa-",
        "colab": {
          "base_uri": "https://localhost:8080/",
          "height": 85
        },
        "outputId": "32beb4b1-0bde-4237-bfaf-175067e5e4d1"
      },
      "source": [
        "print(\"Eficiencia\")\n",
        "print(\"Accuracy:\",metrics.accuracy_score(y_test, y_pred))\n",
        "print(\"Precision:\",metrics.precision_score(y_test, y_pred))\n",
        "print(\"Recall:\",metrics.recall_score(y_test, y_pred))"
      ],
      "execution_count": 160,
      "outputs": [
        {
          "output_type": "stream",
          "text": [
            "Eficiencia\n",
            "Accuracy: 0.8832116788321168\n",
            "Precision: 0.8885017421602788\n",
            "Recall: 0.8885017421602788\n"
          ],
          "name": "stdout"
        }
      ]
    },
    {
      "cell_type": "code",
      "metadata": {
        "id": "7KE8mhjoFUd9",
        "colab_type": "code",
        "colab": {}
      },
      "source": [
        ""
      ],
      "execution_count": null,
      "outputs": []
    },
    {
      "cell_type": "markdown",
      "metadata": {
        "colab_type": "text",
        "id": "ny4KK08EDLbA"
      },
      "source": [
        "###Importancia de las variables"
      ]
    },
    {
      "cell_type": "code",
      "metadata": {
        "colab_type": "code",
        "id": "K5kvx8N-DLbB",
        "colab": {}
      },
      "source": [
        "importancia = list(modelo.feature_importances_)"
      ],
      "execution_count": 161,
      "outputs": []
    },
    {
      "cell_type": "code",
      "metadata": {
        "colab_type": "code",
        "id": "p5oSVgkNDLbD",
        "colab": {
          "base_uri": "https://localhost:8080/",
          "height": 1000
        },
        "outputId": "d3067ec2-4559-4390-bb67-83e0b4fa313d"
      },
      "source": [
        "for i in range(len(importancia)):\n",
        "  print(f'--> Variable: {train.columns[i+1]} Importancia: {importancia[i]}')"
      ],
      "execution_count": 162,
      "outputs": [
        {
          "output_type": "stream",
          "text": [
            "--> Variable: Cargas (u) Importancia: 0.3252360263681271\n",
            "--> Variable: Movimiento (t) Importancia: 0.3052136031992976\n",
            "--> Variable: Edad del empleado Importancia: 0.014677319966475555\n",
            "--> Variable: ADMINISTRACION SUPTCIA PLANTAS Importancia: 0.0016591826451637967\n",
            "--> Variable: ALJIBES MLC Importancia: 0.000427315068644714\n",
            "--> Variable: CAMIONES CAT 793F MLC Importancia: 0.002231548941330314\n",
            "--> Variable: CAMIONES KOMATSU 830E MLC Importancia: 0.0011173666161608331\n",
            "--> Variable: CARGADORES FRONTALES MLC Importancia: 0.0006970010444161969\n",
            "--> Variable: GEOLOGIA DE PRODUCCION Importancia: 0.0007979895891750559\n",
            "--> Variable: INGENIERIA DE PROCESOS Importancia: 0.00038385885038947417\n",
            "--> Variable: MANTENIMIENTO MINA Importancia: 0.0020317681836089364\n",
            "--> Variable: MOTONIVELADORAS MLC Importancia: 0.0029094184386335596\n",
            "--> Variable: PALAS HIDRAULICAS MLC Importancia: 0.00044724880735982306\n",
            "--> Variable: PLANIFICACION MANTTO. MINA Importancia: 0.0004707120082004645\n",
            "--> Variable: SERVICIO SOCIAL VHUASCO Importancia: 0.0011699889386826614\n",
            "--> Variable: SISTEMAS DE CONTROL Y POTENCIA Importancia: 0.0\n",
            "--> Variable: TRACTORES NEUMATICOS MLC Importancia: 0.0010408405818968696\n",
            "--> Variable: TRACTORES ORUGA MLC Importancia: 0.0016784676774474869\n",
            "--> Variable: ASISTENTE GEOLOGIA Importancia: 0.0008875187878369266\n",
            "--> Variable: AYUDANTE ADMINISTRATIVO Importancia: 0.0012810842856567273\n",
            "--> Variable: CONTROLADOR PLANIFICACION Importancia: 0.00045032368583290553\n",
            "--> Variable: ELECTRICO I Importancia: 0.0016230087981728225\n",
            "--> Variable: ELECTRICO III Importancia: 0.0010184308718382033\n",
            "--> Variable: INGENIERO DE PROCESOS Importancia: 0.0006661994318710517\n",
            "--> Variable: JEFE SISTEMAS DE CONTROL Y POTENCIA Importancia: 0.0\n",
            "--> Variable: MECANICO I Importancia: 0.0012937390346318648\n",
            "--> Variable: MECANICO III Importancia: 0.002055008165040356\n",
            "--> Variable: OPERADOR ELECTRICO II PLANTA Importancia: 0.0017766775549259756\n",
            "--> Variable: OPERADOR I Importancia: 0.0018052970418396194\n",
            "--> Variable: OPERADOR II Importancia: 0.0019289333943445352\n",
            "--> Variable: OPERADOR III Importancia: 0.0020407965230477953\n",
            "--> Variable: OPERADOR MECANICO III PLANTA Importancia: 0.004118142028441445\n",
            "--> Variable: PLANIFICADOR MANTENIMIENTO MINA Importancia: 0.0006387849342673399\n",
            "--> Variable: 1 Importancia: 0.0072440640910747915\n",
            "--> Variable: 2 Importancia: 0.00702497408406466\n",
            "--> Variable: 2019-07-01 Importancia: 0.0012381660956093906\n",
            "--> Variable: 2019-07-02 Importancia: 0.0016999895437653006\n",
            "--> Variable: 2019-07-03 Importancia: 0.0011216861582792157\n",
            "--> Variable: 2019-07-04 Importancia: 0.0004808845204754463\n",
            "--> Variable: 2019-07-05 Importancia: 0.000549759215618446\n",
            "--> Variable: 2019-07-06 Importancia: 0.00028796788544116643\n",
            "--> Variable: 2019-07-07 Importancia: 0.00029126589117070957\n",
            "--> Variable: 2019-07-08 Importancia: 0.001660446648135593\n",
            "--> Variable: 2019-07-09 Importancia: 0.002912338303163689\n",
            "--> Variable: 2019-07-10 Importancia: 0.0008625227646969154\n",
            "--> Variable: 2019-07-11 Importancia: 0.00045595207319850615\n",
            "--> Variable: 2019-07-12 Importancia: 0.0018137239699674132\n",
            "--> Variable: 2019-07-13 Importancia: 0.0005589584403518923\n",
            "--> Variable: 2019-07-14 Importancia: 0.002224513449658705\n",
            "--> Variable: 2019-07-15 Importancia: 0.0005677850336794733\n",
            "--> Variable: 2019-07-16 Importancia: 0.001827550857212543\n",
            "--> Variable: 2019-07-17 Importancia: 0.002836143009743213\n",
            "--> Variable: 2019-07-18 Importancia: 0.002443537878607103\n",
            "--> Variable: 2019-07-19 Importancia: 0.0018097098685123975\n",
            "--> Variable: 2019-07-20 Importancia: 0.00039138964756397013\n",
            "--> Variable: 2019-07-21 Importancia: 0.0013146090506332413\n",
            "--> Variable: 2019-07-22 Importancia: 0.0004760624541396396\n",
            "--> Variable: 2019-07-23 Importancia: 0.0015351587889657823\n",
            "--> Variable: 2019-07-24 Importancia: 0.0016429095169209565\n",
            "--> Variable: 2019-07-25 Importancia: 0.0007775732716294114\n",
            "--> Variable: 2019-07-26 Importancia: 0.0006582859899406954\n",
            "--> Variable: 2019-07-27 Importancia: 0.0005425710813039346\n",
            "--> Variable: 2019-07-28 Importancia: 0.0004555843138287307\n",
            "--> Variable: 2019-07-29 Importancia: 0.0020454832114515154\n",
            "--> Variable: 2019-07-30 Importancia: 8.077873872514268e-05\n",
            "--> Variable: 2019-07-31 Importancia: 0.0009164065322714781\n",
            "--> Variable: 2019-08-01 Importancia: 0.0012955044237881325\n",
            "--> Variable: 2019-08-02 Importancia: 0.0018907664999212482\n",
            "--> Variable: 2019-08-03 Importancia: 0.0009999612873418694\n",
            "--> Variable: 2019-08-04 Importancia: 0.00035048979528062103\n",
            "--> Variable: 2019-08-05 Importancia: 0.0011079869747774153\n",
            "--> Variable: 2019-08-06 Importancia: 0.0007290322819472866\n",
            "--> Variable: 2019-08-07 Importancia: 0.0007605554210266366\n",
            "--> Variable: 2019-08-08 Importancia: 9.251670523262812e-05\n",
            "--> Variable: 2019-08-09 Importancia: 0.00015464250884679348\n",
            "--> Variable: 2019-08-10 Importancia: 0.0006484901337286538\n",
            "--> Variable: 2019-08-11 Importancia: 0.00034725309155324735\n",
            "--> Variable: 2019-08-12 Importancia: 0.0002998126110009181\n",
            "--> Variable: 2019-08-13 Importancia: 0.0011255795751204409\n",
            "--> Variable: 2019-08-14 Importancia: 0.0010391358161323694\n",
            "--> Variable: 2019-08-15 Importancia: 0.0019197075728572149\n",
            "--> Variable: 2019-08-16 Importancia: 0.0023798301578339823\n",
            "--> Variable: 2019-08-17 Importancia: 0.0011423407170997634\n",
            "--> Variable: 2019-08-18 Importancia: 0.0020645428923048866\n",
            "--> Variable: 2019-08-19 Importancia: 0.000310699138938586\n",
            "--> Variable: 2019-08-20 Importancia: 0.00026902102948988816\n",
            "--> Variable: 2019-08-21 Importancia: 0.0017915877137460786\n",
            "--> Variable: 2019-08-22 Importancia: 0.0001682056408263201\n",
            "--> Variable: 2019-08-23 Importancia: 0.0013077396643527922\n",
            "--> Variable: 2019-08-24 Importancia: 0.001122198176962021\n",
            "--> Variable: 2019-08-25 Importancia: 0.00019339427471825964\n",
            "--> Variable: 2019-08-26 Importancia: 0.002862176198596054\n",
            "--> Variable: 2019-08-27 Importancia: 0.0011965276782000627\n",
            "--> Variable: 2019-08-28 Importancia: 0.00016214541942645593\n",
            "--> Variable: 2019-08-29 Importancia: 0.0010573530848912809\n",
            "--> Variable: 2019-08-30 Importancia: 0.0010656832509213004\n",
            "--> Variable: 2019-08-31 Importancia: 0.00018306514675228353\n",
            "--> Variable: 2019-09-01 Importancia: 0.0004913784788603209\n",
            "--> Variable: 2019-09-02 Importancia: 0.0006423771976511318\n",
            "--> Variable: 2019-09-03 Importancia: 0.0005197099998575259\n",
            "--> Variable: 2019-09-04 Importancia: 0.0006645961649487033\n",
            "--> Variable: 2019-09-05 Importancia: 0.0014578060801631288\n",
            "--> Variable: 2019-09-06 Importancia: 0.0005122964373132754\n",
            "--> Variable: 2019-09-07 Importancia: 0.00032622367831660617\n",
            "--> Variable: 2019-09-08 Importancia: 0.0\n",
            "--> Variable: 2019-09-09 Importancia: 5.813621778662862e-05\n",
            "--> Variable: 2019-09-10 Importancia: 0.0004179196522436799\n",
            "--> Variable: 2019-09-11 Importancia: 0.00024890172811599013\n",
            "--> Variable: 2019-09-12 Importancia: 0.0018732389909733274\n",
            "--> Variable: 2019-09-13 Importancia: 0.0008723117446523048\n",
            "--> Variable: 2019-09-14 Importancia: 0.002306285783778311\n",
            "--> Variable: 2019-09-15 Importancia: 0.0006995309623074677\n",
            "--> Variable: 2019-09-16 Importancia: 2.198576214649725e-05\n",
            "--> Variable: 2019-09-17 Importancia: 0.00041687158186533486\n",
            "--> Variable: 2019-09-20 Importancia: 0.0002496955151442804\n",
            "--> Variable: 2019-09-21 Importancia: 0.0001116761718436159\n",
            "--> Variable: 2019-09-22 Importancia: 0.0006525781961066442\n",
            "--> Variable: 2019-09-23 Importancia: 0.000950224541560477\n",
            "--> Variable: 2019-09-24 Importancia: 0.000273567408266439\n",
            "--> Variable: 2019-09-25 Importancia: 0.0001133045651532443\n",
            "--> Variable: 2019-09-26 Importancia: 0.0005219299680818356\n",
            "--> Variable: 2019-09-27 Importancia: 8.165949008863956e-05\n",
            "--> Variable: 2019-09-28 Importancia: 0.0005447137997440839\n",
            "--> Variable: 2019-09-29 Importancia: 0.00019842309662620336\n",
            "--> Variable: 2019-09-30 Importancia: 0.000950616172893431\n",
            "--> Variable: 2019-10-01 Importancia: 0.0001358984636285759\n",
            "--> Variable: 2019-10-02 Importancia: 0.00020128177335851334\n",
            "--> Variable: 2019-10-03 Importancia: 0.00024895860844988566\n",
            "--> Variable: 2019-10-04 Importancia: 0.0006893188100966174\n",
            "--> Variable: 2019-10-05 Importancia: 0.0006539545449083074\n",
            "--> Variable: 2019-10-06 Importancia: 0.0003280083641561902\n",
            "--> Variable: 2019-10-07 Importancia: 0.0007516546553495722\n",
            "--> Variable: 2019-10-08 Importancia: 0.0010408501328841636\n",
            "--> Variable: 2019-10-09 Importancia: 0.00019685520725078507\n",
            "--> Variable: 2019-10-10 Importancia: 0.0012731799569445886\n",
            "--> Variable: 2019-10-11 Importancia: 0.0005478842208796239\n",
            "--> Variable: 2019-10-12 Importancia: 0.0008630583315491011\n",
            "--> Variable: 2019-10-13 Importancia: 0.0004150544105910864\n",
            "--> Variable: 2019-10-14 Importancia: 0.00034484745503960535\n",
            "--> Variable: 2019-10-15 Importancia: 0.000643459310975244\n",
            "--> Variable: 2019-10-16 Importancia: 0.0004400820272047475\n",
            "--> Variable: 2019-10-17 Importancia: 0.0015294051310114731\n",
            "--> Variable: 2019-10-18 Importancia: 0.00016725010432752673\n",
            "--> Variable: 2019-10-19 Importancia: 0.0006299808927191017\n",
            "--> Variable: 2019-10-20 Importancia: 0.00030421848818006374\n",
            "--> Variable: 2019-10-21 Importancia: 0.00012864649052521642\n",
            "--> Variable: 2019-10-22 Importancia: 0.00201871692878503\n",
            "--> Variable: 2019-10-23 Importancia: 0.0007522995150762013\n",
            "--> Variable: 2019-10-26 Importancia: 0.00022200051673991385\n",
            "--> Variable: 2019-10-27 Importancia: 0.0015551159057964614\n",
            "--> Variable: 2019-10-28 Importancia: 0.000929874012773204\n",
            "--> Variable: 2019-10-30 Importancia: 0.00012794763135478258\n",
            "--> Variable: 2019-10-31 Importancia: 0.00014833450687580865\n",
            "--> Variable: 2019-11-01 Importancia: 0.0005246197920162276\n",
            "--> Variable: 2019-11-02 Importancia: 0.00017545336056714561\n",
            "--> Variable: 2019-11-03 Importancia: 0.0005937594543166234\n",
            "--> Variable: 2019-11-04 Importancia: 2.8299720364647705e-05\n",
            "--> Variable: 2019-11-05 Importancia: 0.0002577978191373179\n",
            "--> Variable: 2019-11-06 Importancia: 0.00024062613863418957\n",
            "--> Variable: 2019-11-07 Importancia: 0.001401456079371102\n",
            "--> Variable: 2019-11-08 Importancia: 0.00017914394847967082\n",
            "--> Variable: 2019-11-09 Importancia: 0.0001921360944641929\n",
            "--> Variable: 2019-11-10 Importancia: 0.0014597006157831558\n",
            "--> Variable: 2019-11-11 Importancia: 0.0012245194005454912\n",
            "--> Variable: 2019-11-13 Importancia: 0.00011561384365846819\n",
            "--> Variable: 2019-11-14 Importancia: 0.00015025730300933095\n",
            "--> Variable: 2019-11-15 Importancia: 0.0003182956605213719\n",
            "--> Variable: 2019-11-16 Importancia: 3.554472471822356e-05\n",
            "--> Variable: 2019-11-17 Importancia: 0.0002915377072892157\n",
            "--> Variable: 2019-11-18 Importancia: 0.00057308587614908\n",
            "--> Variable: 2019-11-19 Importancia: 0.0008317489229042399\n",
            "--> Variable: 2019-11-20 Importancia: 0.000689902809245167\n",
            "--> Variable: 2019-11-21 Importancia: 0.00021374476600972525\n",
            "--> Variable: 2019-11-22 Importancia: 0.00097580867257164\n",
            "--> Variable: 2019-11-23 Importancia: 0.00028321295641225107\n",
            "--> Variable: 2019-11-24 Importancia: 0.000584317159775533\n",
            "--> Variable: 2019-11-25 Importancia: 0.0008010290429072484\n",
            "--> Variable: 2019-11-26 Importancia: 0.0004027787965255387\n",
            "--> Variable: 2019-11-27 Importancia: 0.0011917285588978004\n",
            "--> Variable: 2019-11-28 Importancia: 2.5782700483667044e-05\n",
            "--> Variable: 2019-11-29 Importancia: 0.0013585895935199043\n",
            "--> Variable: 2019-11-30 Importancia: 0.00013185817074887917\n",
            "--> Variable: 2019-12-01 Importancia: 0.00012961508785928045\n",
            "--> Variable: 2019-12-02 Importancia: 0.0005727522362830192\n",
            "--> Variable: 2019-12-03 Importancia: 0.00014722203307946527\n",
            "--> Variable: 2019-12-04 Importancia: 0.0005562502140927857\n",
            "--> Variable: 2019-12-05 Importancia: 0.000258744716354935\n",
            "--> Variable: 2019-12-06 Importancia: 0.00033146378759031197\n",
            "--> Variable: 2019-12-07 Importancia: 0.0014665769044029159\n",
            "--> Variable: 2019-12-08 Importancia: 0.001990050349952865\n",
            "--> Variable: 2019-12-09 Importancia: 0.001089072451467251\n",
            "--> Variable: 2019-12-10 Importancia: 0.0002726703289517261\n",
            "--> Variable: 2019-12-11 Importancia: 0.0003387967888772355\n",
            "--> Variable: 2019-12-12 Importancia: 0.0001347444924921632\n",
            "--> Variable: 2019-12-13 Importancia: 5.752294819119693e-05\n",
            "--> Variable: 2019-12-14 Importancia: 0.00040514701306568185\n",
            "--> Variable: 2019-12-15 Importancia: 0.0002674760795699285\n",
            "--> Variable: 2019-12-16 Importancia: 0.0003885948072947453\n",
            "--> Variable: 2019-12-17 Importancia: 0.0010401173839066492\n",
            "--> Variable: 2019-12-18 Importancia: 0.0005357278468275553\n",
            "--> Variable: 2019-12-19 Importancia: 0.00017357661142340444\n",
            "--> Variable: 2019-12-20 Importancia: 0.0017092559340569913\n",
            "--> Variable: 2019-12-21 Importancia: 0.0010034783463937847\n",
            "--> Variable: 2019-12-22 Importancia: 0.00035390866738860337\n",
            "--> Variable: 2019-12-23 Importancia: 0.0019524120082603006\n",
            "--> Variable: 2019-12-24 Importancia: 0.001942931341016679\n",
            "--> Variable: 2019-12-26 Importancia: 0.0011570164272596845\n",
            "--> Variable: 2019-12-27 Importancia: 7.515519512730926e-05\n",
            "--> Variable: 2019-12-28 Importancia: 0.0008146463352447311\n",
            "--> Variable: 2019-12-29 Importancia: 0.0007073181747244864\n",
            "--> Variable: 2019-12-30 Importancia: 0.00016830426857595754\n",
            "--> Variable: 2019-12-31 Importancia: 0.0009872230843119985\n",
            "--> Variable: 2020-01-02 Importancia: 0.00038228841026156034\n",
            "--> Variable: 2020-01-03 Importancia: 0.0\n",
            "--> Variable: 2020-01-04 Importancia: 0.00044984279459989017\n",
            "--> Variable: 2020-01-05 Importancia: 0.0003093556383644261\n",
            "--> Variable: 2020-01-06 Importancia: 0.00017552605402052445\n",
            "--> Variable: 2020-01-07 Importancia: 0.000295641225600494\n",
            "--> Variable: 2020-01-08 Importancia: 5.571924215528204e-05\n",
            "--> Variable: 2020-01-09 Importancia: 0.00016978243651977293\n",
            "--> Variable: 2020-01-10 Importancia: 0.0010162422819035041\n",
            "--> Variable: 2020-01-11 Importancia: 0.0001632700189533211\n",
            "--> Variable: 2020-01-13 Importancia: 4.818272758971998e-05\n",
            "--> Variable: 2020-01-14 Importancia: 0.0002844301706993263\n",
            "--> Variable: 2020-01-15 Importancia: 8.978358483923598e-05\n",
            "--> Variable: 2020-01-17 Importancia: 0.0\n",
            "--> Variable: 2020-01-18 Importancia: 0.00018845891947725957\n",
            "--> Variable: 2020-01-19 Importancia: 8.786690407768704e-05\n",
            "--> Variable: 2020-01-20 Importancia: 0.0004833979645902108\n",
            "--> Variable: 2020-01-21 Importancia: 0.00015733695021234766\n",
            "--> Variable: 2020-01-22 Importancia: 0.00017236058382255962\n",
            "--> Variable: 2020-01-25 Importancia: 0.001023273369400101\n",
            "--> Variable: 2020-01-26 Importancia: 0.0\n",
            "--> Variable: 2020-01-27 Importancia: 0.00016387012864883013\n",
            "--> Variable: 2020-01-28 Importancia: 6.482306777013832e-05\n",
            "--> Variable: 2020-01-29 Importancia: 8.998109394509882e-05\n",
            "--> Variable: 2020-01-30 Importancia: 4.207768179169764e-05\n",
            "--> Variable: 2020-01-31 Importancia: 0.0001706613029845217\n",
            "--> Variable: 2020-02-01 Importancia: 0.0014406624391508785\n",
            "--> Variable: 2020-02-02 Importancia: 0.00015763268781421923\n",
            "--> Variable: 2020-02-03 Importancia: 0.0008864661420591515\n",
            "--> Variable: 2020-02-04 Importancia: 0.0009096790078443877\n",
            "--> Variable: 2020-02-05 Importancia: 0.0007425100695100655\n",
            "--> Variable: 2020-02-06 Importancia: 0.0003327791679298712\n",
            "--> Variable: 2020-02-07 Importancia: 0.0008041833729248879\n",
            "--> Variable: 2020-02-08 Importancia: 0.00015967093414621242\n",
            "--> Variable: 2020-02-09 Importancia: 0.0031989951175894066\n",
            "--> Variable: 2020-02-10 Importancia: 0.0007479429685512223\n",
            "--> Variable: 2020-02-11 Importancia: 0.0012731224217771343\n",
            "--> Variable: 2020-02-12 Importancia: 0.003191716255735123\n",
            "--> Variable: 2020-02-13 Importancia: 0.0011545008573585263\n",
            "--> Variable: 2020-02-14 Importancia: 0.0006485275711534663\n",
            "--> Variable: 2020-02-15 Importancia: 0.0012287727824220162\n",
            "--> Variable: 2020-02-16 Importancia: 0.0013387819226134455\n",
            "--> Variable: 2020-02-17 Importancia: 0.0003171440464020362\n",
            "--> Variable: 2020-02-18 Importancia: 0.0012304820035537694\n",
            "--> Variable: 2020-02-19 Importancia: 0.000468625006957802\n",
            "--> Variable: 2020-02-20 Importancia: 0.0014610823608383742\n",
            "--> Variable: 2020-02-21 Importancia: 0.000608397306870248\n",
            "--> Variable: 2020-02-22 Importancia: 0.00033764331599979815\n",
            "--> Variable: 2020-02-23 Importancia: 0.0006704478850198457\n",
            "--> Variable: 2020-02-24 Importancia: 0.0005009825808776425\n",
            "--> Variable: 2020-02-25 Importancia: 0.0006457414744151901\n",
            "--> Variable: 2020-02-26 Importancia: 0.00013159138780079521\n",
            "--> Variable: 2020-02-27 Importancia: 0.0\n",
            "--> Variable: 2020-02-28 Importancia: 0.0005148691717223472\n",
            "--> Variable: 2020-02-29 Importancia: 0.0\n",
            "--> Variable: 2020-03-01 Importancia: 0.0017499752186719841\n",
            "--> Variable: 2020-03-02 Importancia: 0.0004910575564485405\n",
            "--> Variable: 2020-03-03 Importancia: 0.0003233035680753382\n",
            "--> Variable: 2020-03-04 Importancia: 0.0004004198497454781\n",
            "--> Variable: 2020-03-05 Importancia: 0.00023135774286141676\n",
            "--> Variable: 2020-03-06 Importancia: 0.0004962371399446598\n",
            "--> Variable: 2020-03-07 Importancia: 0.0014884140915116491\n",
            "--> Variable: 2020-03-08 Importancia: 0.00021703586728552624\n",
            "--> Variable: 2020-03-09 Importancia: 0.0009395037927863667\n",
            "--> Variable: 2020-03-10 Importancia: 0.0010147017853805792\n",
            "--> Variable: 2020-03-11 Importancia: 0.00031997749439901515\n",
            "--> Variable: 2020-03-12 Importancia: 0.0006169921622235153\n",
            "--> Variable: 2020-03-13 Importancia: 0.001241976400737875\n",
            "--> Variable: 2020-03-14 Importancia: 0.0016435579918388904\n",
            "--> Variable: 2020-03-15 Importancia: 0.0005851301326649925\n",
            "--> Variable: 2020-03-16 Importancia: 0.0019309021207150965\n",
            "--> Variable: 2020-03-17 Importancia: 0.0010510286019171531\n",
            "--> Variable: 2020-03-18 Importancia: 0.0006209846115637683\n",
            "--> Variable: 2020-03-19 Importancia: 0.0003473044193417512\n",
            "--> Variable: 2020-03-20 Importancia: 0.00013950184160442387\n",
            "--> Variable: 2020-03-21 Importancia: 3.190048644227264e-05\n",
            "--> Variable: 2020-03-25 Importancia: 0.0001861499530262921\n",
            "--> Variable: 2020-03-26 Importancia: 0.0013275120622880169\n",
            "--> Variable: 2020-03-27 Importancia: 0.0007206056964349953\n",
            "--> Variable: 2020-03-28 Importancia: 9.726763122762184e-05\n",
            "--> Variable: 2020-03-29 Importancia: 6.214848185667857e-05\n",
            "--> Variable: 2020-03-30 Importancia: 4.8671657559852775e-05\n",
            "--> Variable: 2020-03-31 Importancia: 0.0\n",
            "--> Variable: 2020-04-01 Importancia: 0.00017482799523963816\n",
            "--> Variable: 2020-04-02 Importancia: 0.0\n",
            "--> Variable: 2020-04-03 Importancia: 0.0006108582084635437\n",
            "--> Variable: 2020-04-04 Importancia: 0.001584300187230548\n",
            "--> Variable: 2020-04-05 Importancia: 0.0007084683627281053\n",
            "--> Variable: 2020-04-06 Importancia: 2.7073766471854247e-05\n",
            "--> Variable: 2020-04-07 Importancia: 0.0004951393401283886\n",
            "--> Variable: 2020-04-08 Importancia: 0.0005532047105096107\n",
            "--> Variable: 2020-04-09 Importancia: 0.00013409345153246754\n",
            "--> Variable: 2020-04-10 Importancia: 0.00031947071915044056\n",
            "--> Variable: 2020-04-11 Importancia: 0.0008425292952139574\n",
            "--> Variable: 2020-04-12 Importancia: 0.00044662767992361416\n",
            "--> Variable: 2020-04-13 Importancia: 8.721811027332581e-05\n",
            "--> Variable: 2020-04-14 Importancia: 0.0005017749558267031\n",
            "--> Variable: 2020-04-15 Importancia: 9.73444730986743e-05\n",
            "--> Variable: 2020-04-16 Importancia: 0.00034003706540084724\n",
            "--> Variable: 2020-04-17 Importancia: 0.0006847514449368501\n",
            "--> Variable: 2020-04-18 Importancia: 0.001021943248716039\n",
            "--> Variable: 2020-04-19 Importancia: 3.0134229342425005e-05\n",
            "--> Variable: 2020-04-20 Importancia: 3.9158762556641604e-05\n",
            "--> Variable: 2020-04-21 Importancia: 0.00015142901558402248\n",
            "--> Variable: 2020-04-22 Importancia: 0.0015741234537419398\n",
            "--> Variable: 2020-04-23 Importancia: 9.328771048832673e-05\n",
            "--> Variable: 2020-04-24 Importancia: 6.933936579000267e-05\n",
            "--> Variable: 2020-04-25 Importancia: 5.582183221119186e-05\n",
            "--> Variable: 2020-04-26 Importancia: 0.00016282591390202403\n",
            "--> Variable: 2020-04-27 Importancia: 2.7462013904597694e-05\n",
            "--> Variable: 2020-04-28 Importancia: 0.00010995970068898902\n",
            "--> Variable: 2020-04-29 Importancia: 0.0006501163404190984\n",
            "--> Variable: 2020-04-30 Importancia: 0.0005751486579911202\n",
            "--> Variable: 2020-05-02 Importancia: 0.0002651707655334321\n",
            "--> Variable: 2020-05-03 Importancia: 0.0005972853957427906\n",
            "--> Variable: 2020-05-04 Importancia: 0.0008511185038420425\n",
            "--> Variable: 2020-05-05 Importancia: 0.0018796835755712225\n",
            "--> Variable: 2020-05-06 Importancia: 0.0001367519913513839\n",
            "--> Variable: 2020-05-07 Importancia: 0.0006677180787295261\n",
            "--> Variable: 2020-05-08 Importancia: 0.00017646692298618958\n",
            "--> Variable: 2020-05-09 Importancia: 0.00010452781528283415\n",
            "--> Variable: 2020-05-10 Importancia: 0.0009961695276606071\n",
            "--> Variable: 2020-05-11 Importancia: 0.0001821775727343227\n",
            "--> Variable: 2020-05-12 Importancia: 0.00017561448057018335\n",
            "--> Variable: 2020-05-13 Importancia: 0.0006517031739382593\n",
            "--> Variable: 2020-05-14 Importancia: 0.0006646693767968676\n",
            "--> Variable: 2020-05-15 Importancia: 0.00197854893751457\n",
            "--> Variable: 2020-05-16 Importancia: 0.000393570892502682\n",
            "--> Variable: 2020-05-17 Importancia: 0.00043930624123921744\n",
            "--> Variable: 2020-05-18 Importancia: 0.00045144639052456076\n",
            "--> Variable: 2020-05-19 Importancia: 0.00015971095569975466\n",
            "--> Variable: 2020-05-20 Importancia: 0.00014833659209918844\n",
            "--> Variable: 2020-05-21 Importancia: 0.0021614484469122466\n",
            "--> Variable: 2020-05-22 Importancia: 0.0005839274562055773\n",
            "--> Variable: 2020-05-23 Importancia: 0.001053351248367541\n",
            "--> Variable: 2020-05-24 Importancia: 0.0015088846216675\n",
            "--> Variable: 2020-05-25 Importancia: 0.0001954875618372215\n",
            "--> Variable: 2020-05-26 Importancia: 0.0006691200848179792\n",
            "--> Variable: 2020-05-27 Importancia: 0.0001749644994258826\n",
            "--> Variable: 2020-05-28 Importancia: 0.00014611088413834684\n",
            "--> Variable: 2020-05-29 Importancia: 7.060916070530327e-05\n",
            "--> Variable: 2020-05-30 Importancia: 0.0006625407606247375\n",
            "--> Variable: 2020-05-31 Importancia: 0.0010684173741054527\n",
            "--> Variable: 2020-06-01 Importancia: 9.405279173784186e-05\n",
            "--> Variable: 2020-06-02 Importancia: 0.0004113297349443331\n",
            "--> Variable: 2020-06-03 Importancia: 0.0005292945352155298\n",
            "--> Variable: 2020-06-04 Importancia: 0.0003398525560461817\n",
            "--> Variable: 2020-06-05 Importancia: 0.001266554517241687\n",
            "--> Variable: 2020-06-06 Importancia: 0.00029049775090694456\n",
            "--> Variable: 2020-06-07 Importancia: 9.848644024427816e-05\n",
            "--> Variable: 2020-06-08 Importancia: 0.00017013339412130343\n",
            "--> Variable: 2020-06-09 Importancia: 2.398743726021005e-07\n",
            "--> Variable: 2020-06-10 Importancia: 0.0006477443963467918\n",
            "--> Variable: 2020-06-11 Importancia: 0.0004467823100621379\n",
            "--> Variable: 2020-06-12 Importancia: 0.0008782094229470129\n",
            "--> Variable: 2020-06-13 Importancia: 0.00048016582668360884\n",
            "--> Variable: 2020-06-14 Importancia: 4.067051861595024e-05\n",
            "--> Variable: 2020-06-15 Importancia: 0.0003767866830311552\n",
            "--> Variable: 2020-06-16 Importancia: 9.600685068039848e-05\n",
            "--> Variable: 2020-06-17 Importancia: 0.0\n",
            "--> Variable: 2020-06-18 Importancia: 5.756111151088714e-05\n",
            "--> Variable: 2020-06-19 Importancia: 0.00030832573934994794\n",
            "--> Variable: 2020-06-20 Importancia: 4.407716261643377e-05\n",
            "--> Variable: 2020-06-21 Importancia: 0.00012072146623665681\n",
            "--> Variable: 2020-06-22 Importancia: 0.00051111116780225\n",
            "--> Variable: 20000564 Importancia: 0.0014880691280764974\n",
            "--> Variable: 20000770 Importancia: 0.0\n",
            "--> Variable: 20000778 Importancia: 0.0006223309531696057\n",
            "--> Variable: 20000847 Importancia: 0.0025264757883139395\n",
            "--> Variable: 20000868 Importancia: 0.0014168977547760022\n",
            "--> Variable: 20000875 Importancia: 0.0018320002862848772\n",
            "--> Variable: 20000905 Importancia: 0.0020781786983631685\n",
            "--> Variable: 20000964 Importancia: 0.0008139949375010753\n",
            "--> Variable: 20001014 Importancia: 0.0015271403767528635\n",
            "--> Variable: 20001236 Importancia: 0.00045908252274512435\n",
            "--> Variable: 20001237 Importancia: 0.0006771594803398721\n",
            "--> Variable: 20001512 Importancia: 0.001675109309646717\n",
            "--> Variable: 20001526 Importancia: 0.000382896406354935\n",
            "--> Variable: 20002297 Importancia: 0.002117137564470719\n",
            "--> Variable: 20002520 Importancia: 0.00046539071304725404\n",
            "--> Variable: 20002787 Importancia: 0.001296170987003515\n",
            "--> Variable: 20003239 Importancia: 0.0015316992170477828\n",
            "--> Variable: 20003244 Importancia: 0.0008595903507497744\n",
            "--> Variable: 20003260 Importancia: 0.0014404397938900726\n",
            "--> Variable: 20003278 Importancia: 0.0015144084370819278\n",
            "--> Variable: 20003408 Importancia: 0.0011387764644938626\n",
            "--> Variable: 20003778 Importancia: 0.0011638430795622384\n",
            "--> Variable: 20003779 Importancia: 0.0013146142250813075\n",
            "--> Variable: 20003858 Importancia: 0.0005114147072253597\n",
            "--> Variable: 20004398 Importancia: 0.001347033910879109\n",
            "--> Variable: 20004884 Importancia: 0.0009144582743384077\n",
            "--> Variable: 20004895 Importancia: 0.004151800845233407\n",
            "--> Variable: 20005055 Importancia: 0.00039636659175336554\n",
            "--> Variable: 20005968 Importancia: 0.0026922373905944484\n",
            "--> Variable: 20006912 Importancia: 0.0009579629362462148\n",
            "--> Variable: 1988-09-01 Importancia: 0.0018168267988758421\n",
            "--> Variable: 1996-07-01 Importancia: 0.0\n",
            "--> Variable: 1996-09-23 Importancia: 0.0008513081113403996\n",
            "--> Variable: 1996-12-17 Importancia: 0.002463561906189533\n",
            "--> Variable: 1997-02-01 Importancia: 0.0016088492141918217\n",
            "--> Variable: 1997-03-19 Importancia: 0.0022016149630682195\n",
            "--> Variable: 1997-12-01 Importancia: 0.0016409604034351485\n",
            "--> Variable: 1998-03-25 Importancia: 0.0006760827798014593\n",
            "--> Variable: 1998-03-31 Importancia: 0.0022903534206218713\n",
            "--> Variable: 2003-05-30 Importancia: 0.0007540481420871879\n",
            "--> Variable: 2003-06-01 Importancia: 0.000633566517473682\n",
            "--> Variable: 2006-02-16 Importancia: 0.0015199396507334514\n",
            "--> Variable: 2006-03-29 Importancia: 0.0002757163295972703\n",
            "--> Variable: 2008-08-12 Importancia: 0.0018269384990303014\n",
            "--> Variable: 2011-01-17 Importancia: 0.0003210530291192886\n",
            "--> Variable: 2011-04-01 Importancia: 0.002561488941519063\n",
            "--> Variable: 2011-07-01 Importancia: 0.0012045560917929186\n",
            "--> Variable: 2011-10-01 Importancia: 0.0016537802532601467\n",
            "--> Variable: 2012-02-20 Importancia: 0.0005926683791953096\n",
            "--> Variable: 2012-11-07 Importancia: 0.00102033313403771\n",
            "--> Variable: 2013-03-01 Importancia: 0.002388826388014127\n",
            "--> Variable: 2013-09-01 Importancia: 0.0025841160986346218\n",
            "--> Variable: 2013-11-01 Importancia: 0.0011248670790676408\n",
            "--> Variable: 2017-03-08 Importancia: 0.0024985467588337197\n",
            "--> Variable: 2019-06-03 Importancia: 0.000902521140502273\n",
            "--> Variable: 1 - Evaluación de tiempos, real Importancia: 0.0017570184870140905\n",
            "--> Variable: 9 - Evaluación de tiempos, teórico Importancia: 0.0011086055672483357\n"
          ],
          "name": "stdout"
        }
      ]
    },
    {
      "cell_type": "code",
      "metadata": {
        "colab_type": "code",
        "id": "jQL8kOHwDLbE",
        "colab": {}
      },
      "source": [
        ""
      ],
      "execution_count": null,
      "outputs": []
    },
    {
      "cell_type": "markdown",
      "metadata": {
        "id": "BmgqFp9ZXPY0",
        "colab_type": "text"
      },
      "source": [
        "##PCA"
      ]
    },
    {
      "cell_type": "code",
      "metadata": {
        "id": "UUiCbrPIXUE3",
        "colab_type": "code",
        "colab": {}
      },
      "source": [
        "from sklearn.decomposition import PCA"
      ],
      "execution_count": null,
      "outputs": []
    },
    {
      "cell_type": "code",
      "metadata": {
        "id": "bGZ-C3Rxhh6u",
        "colab_type": "code",
        "colab": {}
      },
      "source": [
        "pca = PCA(n_components=2)"
      ],
      "execution_count": null,
      "outputs": []
    },
    {
      "cell_type": "code",
      "metadata": {
        "id": "fB1BvwrOXnSB",
        "colab_type": "code",
        "colab": {
          "base_uri": "https://localhost:8080/",
          "height": 51
        },
        "outputId": "44e96b9e-ec0a-42ff-9d14-8013744099bb"
      },
      "source": [
        "pca.fit(train)"
      ],
      "execution_count": null,
      "outputs": [
        {
          "output_type": "execute_result",
          "data": {
            "text/plain": [
              "PCA(copy=True, iterated_power='auto', n_components=2, random_state=None,\n",
              "    svd_solver='auto', tol=0.0, whiten=False)"
            ]
          },
          "metadata": {
            "tags": []
          },
          "execution_count": 182
        }
      ]
    },
    {
      "cell_type": "code",
      "metadata": {
        "id": "W6A1TA2jg2Vk",
        "colab_type": "code",
        "colab": {}
      },
      "source": [
        "x_pca = pca.transform(train)"
      ],
      "execution_count": null,
      "outputs": []
    },
    {
      "cell_type": "code",
      "metadata": {
        "id": "ltpKhxPFhqSc",
        "colab_type": "code",
        "colab": {
          "base_uri": "https://localhost:8080/",
          "height": 34
        },
        "outputId": "58b861dd-79e2-4615-de85-e863475e706d"
      },
      "source": [
        "x_pca.shape"
      ],
      "execution_count": null,
      "outputs": [
        {
          "output_type": "execute_result",
          "data": {
            "text/plain": [
              "(1825, 2)"
            ]
          },
          "metadata": {
            "tags": []
          },
          "execution_count": 184
        }
      ]
    },
    {
      "cell_type": "code",
      "metadata": {
        "id": "saiYGC-DiRV5",
        "colab_type": "code",
        "colab": {
          "base_uri": "https://localhost:8080/",
          "height": 427
        },
        "outputId": "ef3450a0-7e60-4789-8dfa-1d4210802a86"
      },
      "source": [
        "plt.figure(figsize=(8,6))\n",
        "ax = sns.scatterplot(x_pca[:,0],x_pca[:,1], hue=train['Eficiencia (bin)'], alpha=0.3)\n",
        "plt.xlabel('Componente Principal 1')\n",
        "plt.ylabel('Componente Principal 2')\n",
        "plt.title('PCA')"
      ],
      "execution_count": null,
      "outputs": [
        {
          "output_type": "execute_result",
          "data": {
            "text/plain": [
              "Text(0.5, 1.0, 'PCA')"
            ]
          },
          "metadata": {
            "tags": []
          },
          "execution_count": 185
        },
        {
          "output_type": "display_data",
          "data": {
            "image/png": "[encoded data removed]",
            "text/plain": [
              "<Figure size 576x432 with 1 Axes>"
            ]
          },
          "metadata": {
            "tags": []
          }
        }
      ]
    },
    {
      "cell_type": "code",
      "metadata": {
        "id": "TPhDDNFSAsb2",
        "colab_type": "code",
        "colab": {}
      },
      "source": [
        ""
      ],
      "execution_count": null,
      "outputs": []
    },
    {
      "cell_type": "markdown",
      "metadata": {
        "id": "9llfz7TSCrKS",
        "colab_type": "text"
      },
      "source": [
        "# Predicción Tdem (seg)"
      ]
    },
    {
      "cell_type": "markdown",
      "metadata": {
        "id": "5eSA_Jp4r6IC",
        "colab_type": "text"
      },
      "source": [
        "##Regresión Lineal"
      ]
    },
    {
      "cell_type": "markdown",
      "metadata": {
        "id": "wTtezhKduLpe",
        "colab_type": "text"
      },
      "source": [
        "Importamos y seleccionamos las variables que ocuparemos en el modelo"
      ]
    },
    {
      "cell_type": "code",
      "metadata": {
        "id": "ChVSMO0Cr4-7",
        "colab_type": "code",
        "colab": {}
      },
      "source": [
        "from sklearn.model_selection import train_test_split\n",
        "X = df_scaled[['Turno','Equipo','Movimiento (t)','Cargas (u)','Edad del empleado']]\n",
        "y = df_scaled['tdem (seg)']"
      ],
      "execution_count": null,
      "outputs": []
    },
    {
      "cell_type": "markdown",
      "metadata": {
        "id": "P-0GbgVZuSuI",
        "colab_type": "text"
      },
      "source": [
        "Creamos la data de entrenamiento y test"
      ]
    },
    {
      "cell_type": "code",
      "metadata": {
        "id": "wgmUxF2gtWD9",
        "colab_type": "code",
        "colab": {}
      },
      "source": [
        "X_train, X_test, y_train, y_test = train_test_split(X, y, test_size=0.4, random_state=42)"
      ],
      "execution_count": null,
      "outputs": []
    },
    {
      "cell_type": "markdown",
      "metadata": {
        "id": "IdH7MOj6uXBy",
        "colab_type": "text"
      },
      "source": [
        "Importamos el modelo de regresion lineal, creamos la regresion y generamos el .fit con la data de entrenamiento"
      ]
    },
    {
      "cell_type": "code",
      "metadata": {
        "id": "mVUxbFtdts_0",
        "colab_type": "code",
        "colab": {
          "base_uri": "https://localhost:8080/",
          "height": 34
        },
        "outputId": "26a92d5e-05cd-4b6d-8643-cbee23d5049e"
      },
      "source": [
        "from sklearn import linear_model\n",
        "modelo = linear_model.LinearRegression()\n",
        "modelo.fit(X_train,y_train)"
      ],
      "execution_count": null,
      "outputs": [
        {
          "output_type": "execute_result",
          "data": {
            "text/plain": [
              "LinearRegression(copy_X=True, fit_intercept=True, n_jobs=None, normalize=False)"
            ]
          },
          "metadata": {
            "tags": []
          },
          "execution_count": 138
        }
      ]
    },
    {
      "cell_type": "markdown",
      "metadata": {
        "id": "R2yh12ieunWw",
        "colab_type": "text"
      },
      "source": [
        "\n",
        "Predicción con la data de test"
      ]
    },
    {
      "cell_type": "code",
      "metadata": {
        "id": "ZMgMttIgtu_r",
        "colab_type": "code",
        "colab": {}
      },
      "source": [
        "y_pred = modelo.predict(X_test)"
      ],
      "execution_count": null,
      "outputs": []
    },
    {
      "cell_type": "code",
      "metadata": {
        "id": "D3XNkjLuuuVb",
        "colab_type": "code",
        "colab": {
          "base_uri": "https://localhost:8080/",
          "height": 204
        },
        "outputId": "4ea37abd-a2cb-4dd8-c8e3-49b8363c86ad"
      },
      "source": [
        "pd.DataFrame(modelo.coef_,X.columns,columns=['Coefficient'])"
      ],
      "execution_count": null,
      "outputs": [
        {
          "output_type": "execute_result",
          "data": {
            "text/html": [
              "<div>\n",
              "<style scoped>\n",
              "    .dataframe tbody tr th:only-of-type {\n",
              "        vertical-align: middle;\n",
              "    }\n",
              "\n",
              "    .dataframe tbody tr th {\n",
              "        vertical-align: top;\n",
              "    }\n",
              "\n",
              "    .dataframe thead th {\n",
              "        text-align: right;\n",
              "    }\n",
              "</style>\n",
              "<table border=\"1\" class=\"dataframe\">\n",
              "  <thead>\n",
              "    <tr style=\"text-align: right;\">\n",
              "      <th></th>\n",
              "      <th>Coefficient</th>\n",
              "    </tr>\n",
              "  </thead>\n",
              "  <tbody>\n",
              "    <tr>\n",
              "      <th>Turno</th>\n",
              "      <td>0.188476</td>\n",
              "    </tr>\n",
              "    <tr>\n",
              "      <th>Equipo</th>\n",
              "      <td>0.002288</td>\n",
              "    </tr>\n",
              "    <tr>\n",
              "      <th>Movimiento (t)</th>\n",
              "      <td>-2.403934</td>\n",
              "    </tr>\n",
              "    <tr>\n",
              "      <th>Cargas (u)</th>\n",
              "      <td>2.713557</td>\n",
              "    </tr>\n",
              "    <tr>\n",
              "      <th>Edad del empleado</th>\n",
              "      <td>-0.005269</td>\n",
              "    </tr>\n",
              "  </tbody>\n",
              "</table>\n",
              "</div>"
            ],
            "text/plain": [
              "                   Coefficient\n",
              "Turno                 0.188476\n",
              "Equipo                0.002288\n",
              "Movimiento (t)       -2.403934\n",
              "Cargas (u)            2.713557\n",
              "Edad del empleado    -0.005269"
            ]
          },
          "metadata": {
            "tags": []
          },
          "execution_count": 140
        }
      ]
    },
    {
      "cell_type": "code",
      "metadata": {
        "id": "d20e-eUGt3T1",
        "colab_type": "code",
        "colab": {
          "base_uri": "https://localhost:8080/",
          "height": 356
        },
        "outputId": "33e5b5e2-fd0e-4485-cece-d3a119e8f212"
      },
      "source": [
        "plt.figure(figsize=(10,5))\n",
        "sns.scatterplot(y_test,y_pred,color='blue',alpha=0.5)"
      ],
      "execution_count": null,
      "outputs": [
        {
          "output_type": "execute_result",
          "data": {
            "text/plain": [
              "<matplotlib.axes._subplots.AxesSubplot at 0x7fabad8a66a0>"
            ]
          },
          "metadata": {
            "tags": []
          },
          "execution_count": 141
        },
        {
          "output_type": "display_data",
          "data": {
            "image/png": "[encoded data removed]",
            "text/plain": [
              "<Figure size 720x360 with 1 Axes>"
            ]
          },
          "metadata": {
            "tags": []
          }
        }
      ]
    },
    {
      "cell_type": "markdown",
      "metadata": {
        "id": "Yjx6NaQRu4z0",
        "colab_type": "text"
      },
      "source": [
        "Residuales"
      ]
    },
    {
      "cell_type": "code",
      "metadata": {
        "id": "NYTICpJht_jG",
        "colab_type": "code",
        "colab": {
          "base_uri": "https://localhost:8080/",
          "height": 302
        },
        "outputId": "de7dc6ef-f7c5-4291-e8d1-456c1680a8c9"
      },
      "source": [
        "sns.distplot((y_test-y_pred),bins=50)"
      ],
      "execution_count": null,
      "outputs": [
        {
          "output_type": "execute_result",
          "data": {
            "text/plain": [
              "<matplotlib.axes._subplots.AxesSubplot at 0x7faba7d12cc0>"
            ]
          },
          "metadata": {
            "tags": []
          },
          "execution_count": 142
        },
        {
          "output_type": "display_data",
          "data": {
            "image/png": "[encoded data removed]",
            "text/plain": [
              "<Figure size 432x288 with 1 Axes>"
            ]
          },
          "metadata": {
            "tags": []
          }
        }
      ]
    },
    {
      "cell_type": "markdown",
      "metadata": {
        "id": "znH6r_o5u6Gy",
        "colab_type": "text"
      },
      "source": [
        "Error Cuadratico Medio"
      ]
    },
    {
      "cell_type": "code",
      "metadata": {
        "id": "V_tHE-MTuDNr",
        "colab_type": "code",
        "colab": {
          "base_uri": "https://localhost:8080/",
          "height": 34
        },
        "outputId": "43c3f775-6069-4ced-b2da-2e9822ee5307"
      },
      "source": [
        "from sklearn import metrics\n",
        "print(f'Error Cuadrático Medio: {metrics.mean_squared_error(y_test,y_pred)}')"
      ],
      "execution_count": null,
      "outputs": [
        {
          "output_type": "stream",
          "text": [
            "Error Cuadrático Medio: 0.9489034464801674\n"
          ],
          "name": "stdout"
        }
      ]
    },
    {
      "cell_type": "markdown",
      "metadata": {
        "id": "fJjWgM1zu8-M",
        "colab_type": "text"
      },
      "source": [
        "Se peude decir que la regresion lineal no en el mejor modelo para este tipo de data"
      ]
    },
    {
      "cell_type": "code",
      "metadata": {
        "id": "CQ2jFjGgvLvv",
        "colab_type": "code",
        "colab": {}
      },
      "source": [
        ""
      ],
      "execution_count": null,
      "outputs": []
    },
    {
      "cell_type": "markdown",
      "metadata": {
        "id": "2_0hj4rxgIip",
        "colab_type": "text"
      },
      "source": [
        "##Regresión Logística"
      ]
    },
    {
      "cell_type": "markdown",
      "metadata": {
        "id": "Nkh9lMF0j6vg",
        "colab_type": "text"
      },
      "source": [
        "Generamos nuestro data de entrenamiento y le eliminamos las columnas que no ocuparemos en el modolamiento"
      ]
    },
    {
      "cell_type": "code",
      "metadata": {
        "id": "n1SgIpEegXix",
        "colab_type": "code",
        "colab": {}
      },
      "source": [
        "filtro = ['Demora (bin)','Cargas (u)','Movimiento (t)','Edad del empleado']\n",
        "train = df_scaled[filtro]"
      ],
      "execution_count": 132,
      "outputs": []
    },
    {
      "cell_type": "code",
      "metadata": {
        "id": "SonQhALaWA80",
        "colab_type": "code",
        "colab": {
          "base_uri": "https://localhost:8080/",
          "height": 204
        },
        "outputId": "2655007a-448e-428a-eab0-dbb5e7238fbc"
      },
      "source": [
        "train.info()"
      ],
      "execution_count": 133,
      "outputs": [
        {
          "output_type": "stream",
          "text": [
            "<class 'pandas.core.frame.DataFrame'>\n",
            "RangeIndex: 1825 entries, 0 to 1824\n",
            "Data columns (total 4 columns):\n",
            " #   Column             Non-Null Count  Dtype  \n",
            "---  ------             --------------  -----  \n",
            " 0   Demora (bin)       1825 non-null   int64  \n",
            " 1   Cargas (u)         1825 non-null   float64\n",
            " 2   Movimiento (t)     1825 non-null   float64\n",
            " 3   Edad del empleado  1825 non-null   float64\n",
            "dtypes: float64(3), int64(1)\n",
            "memory usage: 57.2 KB\n"
          ],
          "name": "stdout"
        }
      ]
    },
    {
      "cell_type": "markdown",
      "metadata": {
        "id": "L6ScVyuOiJT9",
        "colab_type": "text"
      },
      "source": [
        "Creamos nuestras variables dummies"
      ]
    },
    {
      "cell_type": "code",
      "metadata": {
        "id": "eIEsZe8VI0H5",
        "colab_type": "code",
        "colab": {}
      },
      "source": [
        "unidad = pd.get_dummies(df_scaled['Unidad organizativa'])\n",
        "posicion = pd.get_dummies(df_scaled['Posición'])\n",
        "turno = pd.get_dummies(df_scaled['Turno'])\n",
        "fecha = pd.get_dummies(df_scaled['Fecha'])\n",
        "numero_personal = pd.get_dummies(df_scaled['Número de personal'])\n",
        "alta = pd.get_dummies(df_scaled['Fecha de alta'])\n",
        "status = pd.get_dummies(df_scaled['Status empleado para Gestión tiempos per'])"
      ],
      "execution_count": 134,
      "outputs": []
    },
    {
      "cell_type": "markdown",
      "metadata": {
        "id": "2IBV0cQ8jZ7q",
        "colab_type": "text"
      },
      "source": [
        "Agregamos las variables dummies a la data de entrenamiento"
      ]
    },
    {
      "cell_type": "code",
      "metadata": {
        "id": "rIuvZ0pXiG-A",
        "colab_type": "code",
        "colab": {}
      },
      "source": [
        "train = pd.concat([train,unidad,posicion,turno,fecha,numero_personal,alta,status],axis=1)"
      ],
      "execution_count": 135,
      "outputs": []
    },
    {
      "cell_type": "code",
      "metadata": {
        "id": "XBgfpXe9kzoh",
        "colab_type": "code",
        "colab": {
          "base_uri": "https://localhost:8080/",
          "height": 338
        },
        "outputId": "44aa2446-647d-4ebc-c436-6053febf30aa"
      },
      "source": [
        "train.head()"
      ],
      "execution_count": 136,
      "outputs": [
        {
          "output_type": "execute_result",
          "data": {
            "text/html": [
              "<div>\n",
              "<style scoped>\n",
              "    .dataframe tbody tr th:only-of-type {\n",
              "        vertical-align: middle;\n",
              "    }\n",
              "\n",
              "    .dataframe tbody tr th {\n",
              "        vertical-align: top;\n",
              "    }\n",
              "\n",
              "    .dataframe thead th {\n",
              "        text-align: right;\n",
              "    }\n",
              "</style>\n",
              "<table border=\"1\" class=\"dataframe\">\n",
              "  <thead>\n",
              "    <tr style=\"text-align: right;\">\n",
              "      <th></th>\n",
              "      <th>Demora (bin)</th>\n",
              "      <th>Cargas (u)</th>\n",
              "      <th>Movimiento (t)</th>\n",
              "      <th>Edad del empleado</th>\n",
              "      <th>ADMINISTRACION SUPTCIA PLANTAS</th>\n",
              "      <th>ALJIBES MLC</th>\n",
              "      <th>CAMIONES CAT 793F MLC</th>\n",
              "      <th>CAMIONES KOMATSU 830E MLC</th>\n",
              "      <th>CARGADORES FRONTALES MLC</th>\n",
              "      <th>GEOLOGIA DE PRODUCCION</th>\n",
              "      <th>INGENIERIA DE PROCESOS</th>\n",
              "      <th>MANTENIMIENTO MINA</th>\n",
              "      <th>MOTONIVELADORAS MLC</th>\n",
              "      <th>PALAS HIDRAULICAS MLC</th>\n",
              "      <th>PLANIFICACION MANTTO. MINA</th>\n",
              "      <th>SERVICIO SOCIAL VHUASCO</th>\n",
              "      <th>SISTEMAS DE CONTROL Y POTENCIA</th>\n",
              "      <th>TRACTORES NEUMATICOS MLC</th>\n",
              "      <th>TRACTORES ORUGA MLC</th>\n",
              "      <th>ASISTENTE GEOLOGIA</th>\n",
              "      <th>AYUDANTE ADMINISTRATIVO</th>\n",
              "      <th>CONTROLADOR PLANIFICACION</th>\n",
              "      <th>ELECTRICO I</th>\n",
              "      <th>ELECTRICO III</th>\n",
              "      <th>INGENIERO DE PROCESOS</th>\n",
              "      <th>JEFE SISTEMAS DE CONTROL Y POTENCIA</th>\n",
              "      <th>MECANICO I</th>\n",
              "      <th>MECANICO III</th>\n",
              "      <th>OPERADOR ELECTRICO II PLANTA</th>\n",
              "      <th>OPERADOR I</th>\n",
              "      <th>OPERADOR II</th>\n",
              "      <th>OPERADOR III</th>\n",
              "      <th>OPERADOR MECANICO III PLANTA</th>\n",
              "      <th>PLANIFICADOR MANTENIMIENTO MINA</th>\n",
              "      <th>1</th>\n",
              "      <th>2</th>\n",
              "      <th>2019-07-01</th>\n",
              "      <th>2019-07-02</th>\n",
              "      <th>2019-07-03</th>\n",
              "      <th>2019-07-04</th>\n",
              "      <th>...</th>\n",
              "      <th>20003244</th>\n",
              "      <th>20003260</th>\n",
              "      <th>20003278</th>\n",
              "      <th>20003408</th>\n",
              "      <th>20003778</th>\n",
              "      <th>20003779</th>\n",
              "      <th>20003858</th>\n",
              "      <th>20004398</th>\n",
              "      <th>20004884</th>\n",
              "      <th>20004895</th>\n",
              "      <th>20005055</th>\n",
              "      <th>20005968</th>\n",
              "      <th>20006912</th>\n",
              "      <th>1988-09-01</th>\n",
              "      <th>1996-07-01</th>\n",
              "      <th>1996-09-23</th>\n",
              "      <th>1996-12-17</th>\n",
              "      <th>1997-02-01</th>\n",
              "      <th>1997-03-19</th>\n",
              "      <th>1997-12-01</th>\n",
              "      <th>1998-03-25</th>\n",
              "      <th>1998-03-31</th>\n",
              "      <th>2003-05-30</th>\n",
              "      <th>2003-06-01</th>\n",
              "      <th>2006-02-16</th>\n",
              "      <th>2006-03-29</th>\n",
              "      <th>2008-08-12</th>\n",
              "      <th>2011-01-17</th>\n",
              "      <th>2011-04-01</th>\n",
              "      <th>2011-07-01</th>\n",
              "      <th>2011-10-01</th>\n",
              "      <th>2012-02-20</th>\n",
              "      <th>2012-11-07</th>\n",
              "      <th>2013-03-01</th>\n",
              "      <th>2013-09-01</th>\n",
              "      <th>2013-11-01</th>\n",
              "      <th>2017-03-08</th>\n",
              "      <th>2019-06-03</th>\n",
              "      <th>1 - Evaluación de tiempos, real</th>\n",
              "      <th>9 - Evaluación de tiempos, teórico</th>\n",
              "    </tr>\n",
              "  </thead>\n",
              "  <tbody>\n",
              "    <tr>\n",
              "      <th>0</th>\n",
              "      <td>0</td>\n",
              "      <td>0.668797</td>\n",
              "      <td>0.625564</td>\n",
              "      <td>-1.424177</td>\n",
              "      <td>0</td>\n",
              "      <td>0</td>\n",
              "      <td>0</td>\n",
              "      <td>0</td>\n",
              "      <td>0</td>\n",
              "      <td>0</td>\n",
              "      <td>0</td>\n",
              "      <td>1</td>\n",
              "      <td>0</td>\n",
              "      <td>0</td>\n",
              "      <td>0</td>\n",
              "      <td>0</td>\n",
              "      <td>0</td>\n",
              "      <td>0</td>\n",
              "      <td>0</td>\n",
              "      <td>0</td>\n",
              "      <td>0</td>\n",
              "      <td>0</td>\n",
              "      <td>0</td>\n",
              "      <td>1</td>\n",
              "      <td>0</td>\n",
              "      <td>0</td>\n",
              "      <td>0</td>\n",
              "      <td>0</td>\n",
              "      <td>0</td>\n",
              "      <td>0</td>\n",
              "      <td>0</td>\n",
              "      <td>0</td>\n",
              "      <td>0</td>\n",
              "      <td>0</td>\n",
              "      <td>0</td>\n",
              "      <td>1</td>\n",
              "      <td>1</td>\n",
              "      <td>0</td>\n",
              "      <td>0</td>\n",
              "      <td>0</td>\n",
              "      <td>...</td>\n",
              "      <td>0</td>\n",
              "      <td>0</td>\n",
              "      <td>0</td>\n",
              "      <td>0</td>\n",
              "      <td>0</td>\n",
              "      <td>0</td>\n",
              "      <td>0</td>\n",
              "      <td>0</td>\n",
              "      <td>0</td>\n",
              "      <td>0</td>\n",
              "      <td>0</td>\n",
              "      <td>0</td>\n",
              "      <td>0</td>\n",
              "      <td>0</td>\n",
              "      <td>0</td>\n",
              "      <td>0</td>\n",
              "      <td>0</td>\n",
              "      <td>0</td>\n",
              "      <td>0</td>\n",
              "      <td>0</td>\n",
              "      <td>0</td>\n",
              "      <td>0</td>\n",
              "      <td>0</td>\n",
              "      <td>0</td>\n",
              "      <td>0</td>\n",
              "      <td>0</td>\n",
              "      <td>0</td>\n",
              "      <td>0</td>\n",
              "      <td>0</td>\n",
              "      <td>0</td>\n",
              "      <td>1</td>\n",
              "      <td>0</td>\n",
              "      <td>0</td>\n",
              "      <td>0</td>\n",
              "      <td>0</td>\n",
              "      <td>0</td>\n",
              "      <td>0</td>\n",
              "      <td>0</td>\n",
              "      <td>1</td>\n",
              "      <td>0</td>\n",
              "    </tr>\n",
              "    <tr>\n",
              "      <th>1</th>\n",
              "      <td>0</td>\n",
              "      <td>-1.277362</td>\n",
              "      <td>-1.268354</td>\n",
              "      <td>0.729983</td>\n",
              "      <td>0</td>\n",
              "      <td>0</td>\n",
              "      <td>0</td>\n",
              "      <td>0</td>\n",
              "      <td>0</td>\n",
              "      <td>0</td>\n",
              "      <td>0</td>\n",
              "      <td>1</td>\n",
              "      <td>0</td>\n",
              "      <td>0</td>\n",
              "      <td>0</td>\n",
              "      <td>0</td>\n",
              "      <td>0</td>\n",
              "      <td>0</td>\n",
              "      <td>0</td>\n",
              "      <td>0</td>\n",
              "      <td>0</td>\n",
              "      <td>0</td>\n",
              "      <td>0</td>\n",
              "      <td>0</td>\n",
              "      <td>0</td>\n",
              "      <td>0</td>\n",
              "      <td>1</td>\n",
              "      <td>0</td>\n",
              "      <td>0</td>\n",
              "      <td>0</td>\n",
              "      <td>0</td>\n",
              "      <td>0</td>\n",
              "      <td>0</td>\n",
              "      <td>0</td>\n",
              "      <td>0</td>\n",
              "      <td>1</td>\n",
              "      <td>1</td>\n",
              "      <td>0</td>\n",
              "      <td>0</td>\n",
              "      <td>0</td>\n",
              "      <td>...</td>\n",
              "      <td>0</td>\n",
              "      <td>0</td>\n",
              "      <td>0</td>\n",
              "      <td>0</td>\n",
              "      <td>0</td>\n",
              "      <td>0</td>\n",
              "      <td>0</td>\n",
              "      <td>0</td>\n",
              "      <td>0</td>\n",
              "      <td>0</td>\n",
              "      <td>0</td>\n",
              "      <td>0</td>\n",
              "      <td>0</td>\n",
              "      <td>0</td>\n",
              "      <td>0</td>\n",
              "      <td>0</td>\n",
              "      <td>0</td>\n",
              "      <td>0</td>\n",
              "      <td>1</td>\n",
              "      <td>0</td>\n",
              "      <td>0</td>\n",
              "      <td>0</td>\n",
              "      <td>0</td>\n",
              "      <td>0</td>\n",
              "      <td>0</td>\n",
              "      <td>0</td>\n",
              "      <td>0</td>\n",
              "      <td>0</td>\n",
              "      <td>0</td>\n",
              "      <td>0</td>\n",
              "      <td>0</td>\n",
              "      <td>0</td>\n",
              "      <td>0</td>\n",
              "      <td>0</td>\n",
              "      <td>0</td>\n",
              "      <td>0</td>\n",
              "      <td>0</td>\n",
              "      <td>0</td>\n",
              "      <td>1</td>\n",
              "      <td>0</td>\n",
              "    </tr>\n",
              "    <tr>\n",
              "      <th>2</th>\n",
              "      <td>1</td>\n",
              "      <td>0.836983</td>\n",
              "      <td>0.853396</td>\n",
              "      <td>1.419314</td>\n",
              "      <td>1</td>\n",
              "      <td>0</td>\n",
              "      <td>0</td>\n",
              "      <td>0</td>\n",
              "      <td>0</td>\n",
              "      <td>0</td>\n",
              "      <td>0</td>\n",
              "      <td>0</td>\n",
              "      <td>0</td>\n",
              "      <td>0</td>\n",
              "      <td>0</td>\n",
              "      <td>0</td>\n",
              "      <td>0</td>\n",
              "      <td>0</td>\n",
              "      <td>0</td>\n",
              "      <td>0</td>\n",
              "      <td>0</td>\n",
              "      <td>0</td>\n",
              "      <td>0</td>\n",
              "      <td>0</td>\n",
              "      <td>0</td>\n",
              "      <td>0</td>\n",
              "      <td>0</td>\n",
              "      <td>0</td>\n",
              "      <td>1</td>\n",
              "      <td>0</td>\n",
              "      <td>0</td>\n",
              "      <td>0</td>\n",
              "      <td>0</td>\n",
              "      <td>0</td>\n",
              "      <td>0</td>\n",
              "      <td>1</td>\n",
              "      <td>1</td>\n",
              "      <td>0</td>\n",
              "      <td>0</td>\n",
              "      <td>0</td>\n",
              "      <td>...</td>\n",
              "      <td>0</td>\n",
              "      <td>0</td>\n",
              "      <td>0</td>\n",
              "      <td>0</td>\n",
              "      <td>0</td>\n",
              "      <td>0</td>\n",
              "      <td>0</td>\n",
              "      <td>0</td>\n",
              "      <td>0</td>\n",
              "      <td>0</td>\n",
              "      <td>0</td>\n",
              "      <td>0</td>\n",
              "      <td>0</td>\n",
              "      <td>0</td>\n",
              "      <td>0</td>\n",
              "      <td>0</td>\n",
              "      <td>0</td>\n",
              "      <td>0</td>\n",
              "      <td>0</td>\n",
              "      <td>0</td>\n",
              "      <td>0</td>\n",
              "      <td>1</td>\n",
              "      <td>0</td>\n",
              "      <td>0</td>\n",
              "      <td>0</td>\n",
              "      <td>0</td>\n",
              "      <td>0</td>\n",
              "      <td>0</td>\n",
              "      <td>0</td>\n",
              "      <td>0</td>\n",
              "      <td>0</td>\n",
              "      <td>0</td>\n",
              "      <td>0</td>\n",
              "      <td>0</td>\n",
              "      <td>0</td>\n",
              "      <td>0</td>\n",
              "      <td>0</td>\n",
              "      <td>0</td>\n",
              "      <td>1</td>\n",
              "      <td>0</td>\n",
              "    </tr>\n",
              "    <tr>\n",
              "      <th>3</th>\n",
              "      <td>0</td>\n",
              "      <td>1.990262</td>\n",
              "      <td>1.963414</td>\n",
              "      <td>0.212984</td>\n",
              "      <td>0</td>\n",
              "      <td>0</td>\n",
              "      <td>1</td>\n",
              "      <td>0</td>\n",
              "      <td>0</td>\n",
              "      <td>0</td>\n",
              "      <td>0</td>\n",
              "      <td>0</td>\n",
              "      <td>0</td>\n",
              "      <td>0</td>\n",
              "      <td>0</td>\n",
              "      <td>0</td>\n",
              "      <td>0</td>\n",
              "      <td>0</td>\n",
              "      <td>0</td>\n",
              "      <td>0</td>\n",
              "      <td>0</td>\n",
              "      <td>0</td>\n",
              "      <td>0</td>\n",
              "      <td>0</td>\n",
              "      <td>0</td>\n",
              "      <td>0</td>\n",
              "      <td>0</td>\n",
              "      <td>0</td>\n",
              "      <td>0</td>\n",
              "      <td>0</td>\n",
              "      <td>0</td>\n",
              "      <td>1</td>\n",
              "      <td>0</td>\n",
              "      <td>0</td>\n",
              "      <td>1</td>\n",
              "      <td>0</td>\n",
              "      <td>0</td>\n",
              "      <td>1</td>\n",
              "      <td>0</td>\n",
              "      <td>0</td>\n",
              "      <td>...</td>\n",
              "      <td>0</td>\n",
              "      <td>0</td>\n",
              "      <td>0</td>\n",
              "      <td>0</td>\n",
              "      <td>0</td>\n",
              "      <td>0</td>\n",
              "      <td>0</td>\n",
              "      <td>0</td>\n",
              "      <td>0</td>\n",
              "      <td>1</td>\n",
              "      <td>0</td>\n",
              "      <td>0</td>\n",
              "      <td>0</td>\n",
              "      <td>0</td>\n",
              "      <td>0</td>\n",
              "      <td>0</td>\n",
              "      <td>0</td>\n",
              "      <td>0</td>\n",
              "      <td>0</td>\n",
              "      <td>0</td>\n",
              "      <td>0</td>\n",
              "      <td>0</td>\n",
              "      <td>0</td>\n",
              "      <td>0</td>\n",
              "      <td>0</td>\n",
              "      <td>0</td>\n",
              "      <td>0</td>\n",
              "      <td>0</td>\n",
              "      <td>0</td>\n",
              "      <td>0</td>\n",
              "      <td>0</td>\n",
              "      <td>0</td>\n",
              "      <td>0</td>\n",
              "      <td>0</td>\n",
              "      <td>1</td>\n",
              "      <td>0</td>\n",
              "      <td>0</td>\n",
              "      <td>0</td>\n",
              "      <td>1</td>\n",
              "      <td>0</td>\n",
              "    </tr>\n",
              "    <tr>\n",
              "      <th>4</th>\n",
              "      <td>0</td>\n",
              "      <td>-1.397495</td>\n",
              "      <td>-1.392686</td>\n",
              "      <td>-1.079512</td>\n",
              "      <td>0</td>\n",
              "      <td>0</td>\n",
              "      <td>0</td>\n",
              "      <td>0</td>\n",
              "      <td>0</td>\n",
              "      <td>0</td>\n",
              "      <td>0</td>\n",
              "      <td>1</td>\n",
              "      <td>0</td>\n",
              "      <td>0</td>\n",
              "      <td>0</td>\n",
              "      <td>0</td>\n",
              "      <td>0</td>\n",
              "      <td>0</td>\n",
              "      <td>0</td>\n",
              "      <td>0</td>\n",
              "      <td>0</td>\n",
              "      <td>0</td>\n",
              "      <td>0</td>\n",
              "      <td>0</td>\n",
              "      <td>0</td>\n",
              "      <td>0</td>\n",
              "      <td>0</td>\n",
              "      <td>1</td>\n",
              "      <td>0</td>\n",
              "      <td>0</td>\n",
              "      <td>0</td>\n",
              "      <td>0</td>\n",
              "      <td>0</td>\n",
              "      <td>0</td>\n",
              "      <td>1</td>\n",
              "      <td>0</td>\n",
              "      <td>0</td>\n",
              "      <td>1</td>\n",
              "      <td>0</td>\n",
              "      <td>0</td>\n",
              "      <td>...</td>\n",
              "      <td>0</td>\n",
              "      <td>0</td>\n",
              "      <td>1</td>\n",
              "      <td>0</td>\n",
              "      <td>0</td>\n",
              "      <td>0</td>\n",
              "      <td>0</td>\n",
              "      <td>0</td>\n",
              "      <td>0</td>\n",
              "      <td>0</td>\n",
              "      <td>0</td>\n",
              "      <td>0</td>\n",
              "      <td>0</td>\n",
              "      <td>0</td>\n",
              "      <td>0</td>\n",
              "      <td>0</td>\n",
              "      <td>0</td>\n",
              "      <td>0</td>\n",
              "      <td>0</td>\n",
              "      <td>0</td>\n",
              "      <td>0</td>\n",
              "      <td>0</td>\n",
              "      <td>0</td>\n",
              "      <td>0</td>\n",
              "      <td>0</td>\n",
              "      <td>0</td>\n",
              "      <td>0</td>\n",
              "      <td>0</td>\n",
              "      <td>1</td>\n",
              "      <td>0</td>\n",
              "      <td>0</td>\n",
              "      <td>0</td>\n",
              "      <td>0</td>\n",
              "      <td>0</td>\n",
              "      <td>0</td>\n",
              "      <td>0</td>\n",
              "      <td>0</td>\n",
              "      <td>0</td>\n",
              "      <td>1</td>\n",
              "      <td>0</td>\n",
              "    </tr>\n",
              "  </tbody>\n",
              "</table>\n",
              "<p>5 rows × 435 columns</p>\n",
              "</div>"
            ],
            "text/plain": [
              "   Demora (bin)  ...  9 - Evaluación de tiempos, teórico\n",
              "0             0  ...                                   0\n",
              "1             0  ...                                   0\n",
              "2             1  ...                                   0\n",
              "3             0  ...                                   0\n",
              "4             0  ...                                   0\n",
              "\n",
              "[5 rows x 435 columns]"
            ]
          },
          "metadata": {
            "tags": []
          },
          "execution_count": 136
        }
      ]
    },
    {
      "cell_type": "markdown",
      "metadata": {
        "id": "BdL-JpfjmMfM",
        "colab_type": "text"
      },
      "source": [
        "Creamos nuestra data de entrenamiento y de test"
      ]
    },
    {
      "cell_type": "code",
      "metadata": {
        "id": "RxspgsE0kish",
        "colab_type": "code",
        "colab": {}
      },
      "source": [
        "from sklearn.model_selection import train_test_split\n",
        "X_train, X_test, y_train, y_test = train_test_split(train.drop('Demora (bin)',axis=1),\n",
        "                                                    train['Demora (bin)'],\n",
        "                                                    test_size=0.30,random_state=42)"
      ],
      "execution_count": 137,
      "outputs": []
    },
    {
      "cell_type": "markdown",
      "metadata": {
        "id": "twww7wKAniGm",
        "colab_type": "text"
      },
      "source": [
        "Importamos el modelo, creamos la regresión y entrenamos con nuestra data de entrenamiento"
      ]
    },
    {
      "cell_type": "code",
      "metadata": {
        "id": "3U42X6YkmHph",
        "colab_type": "code",
        "colab": {
          "base_uri": "https://localhost:8080/",
          "height": 102
        },
        "outputId": "f4852450-2f00-4e3f-e167-d2bb447fa87b"
      },
      "source": [
        "from sklearn.linear_model import LogisticRegression\n",
        "modelo = LogisticRegression()\n",
        "modelo.fit(X_train,y_train)"
      ],
      "execution_count": 74,
      "outputs": [
        {
          "output_type": "execute_result",
          "data": {
            "text/plain": [
              "LogisticRegression(C=1.0, class_weight=None, dual=False, fit_intercept=True,\n",
              "                   intercept_scaling=1, l1_ratio=None, max_iter=100,\n",
              "                   multi_class='auto', n_jobs=None, penalty='l2',\n",
              "                   random_state=None, solver='lbfgs', tol=0.0001, verbose=0,\n",
              "                   warm_start=False)"
            ]
          },
          "metadata": {
            "tags": []
          },
          "execution_count": 74
        }
      ]
    },
    {
      "cell_type": "markdown",
      "metadata": {
        "id": "l0hxfk1-nw7N",
        "colab_type": "text"
      },
      "source": [
        "Predicción con la data de test"
      ]
    },
    {
      "cell_type": "code",
      "metadata": {
        "id": "Yso-AHXEmdnq",
        "colab_type": "code",
        "colab": {}
      },
      "source": [
        "y_pred = modelo.predict(X_test)"
      ],
      "execution_count": 75,
      "outputs": []
    },
    {
      "cell_type": "markdown",
      "metadata": {
        "id": "DivMnBkQqvqR",
        "colab_type": "text"
      },
      "source": [
        "Evaluacion del modelo"
      ]
    },
    {
      "cell_type": "code",
      "metadata": {
        "id": "V-9LGlaCqrLQ",
        "colab_type": "code",
        "colab": {
          "base_uri": "https://localhost:8080/",
          "height": 170
        },
        "outputId": "76646237-42a4-4024-aff1-eede4e98a7c4"
      },
      "source": [
        "from sklearn.metrics import classification_report\n",
        "print(classification_report(y_test,y_pred))"
      ],
      "execution_count": 76,
      "outputs": [
        {
          "output_type": "stream",
          "text": [
            "              precision    recall  f1-score   support\n",
            "\n",
            "           0       0.69      0.70      0.70       270\n",
            "           1       0.71      0.70      0.70       278\n",
            "\n",
            "    accuracy                           0.70       548\n",
            "   macro avg       0.70      0.70      0.70       548\n",
            "weighted avg       0.70      0.70      0.70       548\n",
            "\n"
          ],
          "name": "stdout"
        }
      ]
    },
    {
      "cell_type": "code",
      "metadata": {
        "id": "rWHM5yv_tNcI",
        "colab_type": "code",
        "colab": {
          "base_uri": "https://localhost:8080/",
          "height": 51
        },
        "outputId": "ff8385d0-e84a-4878-e3d5-7beeaee9f2bd"
      },
      "source": [
        "from sklearn.metrics import confusion_matrix\n",
        "cnf_matrix = confusion_matrix(y_test,y_pred)\n",
        "print(cnf_matrix)"
      ],
      "execution_count": 77,
      "outputs": [
        {
          "output_type": "stream",
          "text": [
            "[[189  81]\n",
            " [ 84 194]]\n"
          ],
          "name": "stdout"
        }
      ]
    },
    {
      "cell_type": "code",
      "metadata": {
        "id": "woAieHYInHeq",
        "colab_type": "code",
        "colab": {
          "base_uri": "https://localhost:8080/",
          "height": 344
        },
        "outputId": "de2cac74-e482-441f-8681-c08ec71717dd"
      },
      "source": [
        "class_names=[0,1] # name  of classes\n",
        "fig, ax = plt.subplots()\n",
        "tick_marks = np.arange(len(class_names))\n",
        "plt.xticks(tick_marks, class_names)\n",
        "plt.yticks(tick_marks, class_names)\n",
        "# create heatmap\n",
        "sns.heatmap(pd.DataFrame(cnf_matrix), annot=True, cmap=\"YlGnBu\" ,fmt='g')\n",
        "ax.xaxis.set_label_position(\"top\")\n",
        "plt.tight_layout()\n",
        "plt.title('Matriz de Confusión', y=1.1)\n",
        "plt.ylabel('Actual Demora')\n",
        "plt.xlabel('Predicción Demora')"
      ],
      "execution_count": 78,
      "outputs": [
        {
          "output_type": "execute_result",
          "data": {
            "text/plain": [
              "Text(0.5, 257.44, 'Predicción Demora')"
            ]
          },
          "metadata": {
            "tags": []
          },
          "execution_count": 78
        },
        {
          "output_type": "display_data",
          "data": {
            "image/png": "[encoded data removed]",
            "text/plain": [
              "<Figure size 432x288 with 2 Axes>"
            ]
          },
          "metadata": {
            "tags": [],
            "needs_background": "light"
          }
        }
      ]
    },
    {
      "cell_type": "code",
      "metadata": {
        "id": "HAGT2HY44b0y",
        "colab_type": "code",
        "colab": {
          "base_uri": "https://localhost:8080/",
          "height": 85
        },
        "outputId": "349b1804-4b7d-4544-9527-5b4eaa2336ea"
      },
      "source": [
        "print(\"Demora\")\n",
        "print(\"Accuracy:\",metrics.accuracy_score(y_test, y_pred))\n",
        "print(\"Precision:\",metrics.precision_score(y_test, y_pred))\n",
        "print(\"Recall:\",metrics.recall_score(y_test, y_pred))"
      ],
      "execution_count": 81,
      "outputs": [
        {
          "output_type": "stream",
          "text": [
            "Demora\n",
            "Accuracy: 0.698905109489051\n",
            "Precision: 0.7054545454545454\n",
            "Recall: 0.697841726618705\n"
          ],
          "name": "stdout"
        }
      ]
    },
    {
      "cell_type": "code",
      "metadata": {
        "id": "DrhTkw4S4cOs",
        "colab_type": "code",
        "colab": {}
      },
      "source": [
        ""
      ],
      "execution_count": null,
      "outputs": []
    },
    {
      "cell_type": "code",
      "metadata": {
        "id": "OtkjaBvA4ckc",
        "colab_type": "code",
        "colab": {}
      },
      "source": [
        ""
      ],
      "execution_count": null,
      "outputs": []
    },
    {
      "cell_type": "markdown",
      "metadata": {
        "id": "krBNDhgjmS0_",
        "colab_type": "text"
      },
      "source": [
        "##Decision Tree"
      ]
    },
    {
      "cell_type": "code",
      "metadata": {
        "id": "wSyEDYDNmXFf",
        "colab_type": "code",
        "colab": {}
      },
      "source": [
        "from sklearn.tree import DecisionTreeClassifier"
      ],
      "execution_count": null,
      "outputs": []
    },
    {
      "cell_type": "code",
      "metadata": {
        "id": "HfoH7o8Fmcnu",
        "colab_type": "code",
        "colab": {}
      },
      "source": [
        "modelo = DecisionTreeClassifier()"
      ],
      "execution_count": null,
      "outputs": []
    },
    {
      "cell_type": "code",
      "metadata": {
        "id": "FTLVu9H_mgcR",
        "colab_type": "code",
        "colab": {
          "base_uri": "https://localhost:8080/",
          "height": 119
        },
        "outputId": "2e72fabc-9ccb-4b16-c735-76ba18e75ec6"
      },
      "source": [
        "modelo.fit(X_train,y_train)"
      ],
      "execution_count": null,
      "outputs": [
        {
          "output_type": "execute_result",
          "data": {
            "text/plain": [
              "DecisionTreeClassifier(ccp_alpha=0.0, class_weight=None, criterion='gini',\n",
              "                       max_depth=None, max_features=None, max_leaf_nodes=None,\n",
              "                       min_impurity_decrease=0.0, min_impurity_split=None,\n",
              "                       min_samples_leaf=1, min_samples_split=2,\n",
              "                       min_weight_fraction_leaf=0.0, presort='deprecated',\n",
              "                       random_state=None, splitter='best')"
            ]
          },
          "metadata": {
            "tags": []
          },
          "execution_count": 156
        }
      ]
    },
    {
      "cell_type": "code",
      "metadata": {
        "id": "S5-YjZkEmnZE",
        "colab_type": "code",
        "colab": {}
      },
      "source": [
        "y_pred = modelo.predict(X_test)"
      ],
      "execution_count": null,
      "outputs": []
    },
    {
      "cell_type": "code",
      "metadata": {
        "id": "d8QtDO0Smu2J",
        "colab_type": "code",
        "colab": {
          "base_uri": "https://localhost:8080/",
          "height": 170
        },
        "outputId": "aad75f89-72d2-4079-8dce-fb6f6df52a19"
      },
      "source": [
        "print(classification_report(y_test,y_pred))"
      ],
      "execution_count": null,
      "outputs": [
        {
          "output_type": "stream",
          "text": [
            "              precision    recall  f1-score   support\n",
            "\n",
            "           0       0.65      0.59      0.62       270\n",
            "           1       0.63      0.69      0.66       278\n",
            "\n",
            "    accuracy                           0.64       548\n",
            "   macro avg       0.64      0.64      0.64       548\n",
            "weighted avg       0.64      0.64      0.64       548\n",
            "\n"
          ],
          "name": "stdout"
        }
      ]
    },
    {
      "cell_type": "code",
      "metadata": {
        "id": "pOoJYCI2mzJb",
        "colab_type": "code",
        "colab": {
          "base_uri": "https://localhost:8080/",
          "height": 51
        },
        "outputId": "51e348fa-43f7-49e6-b060-6de39768dfb9"
      },
      "source": [
        "print(confusion_matrix(y_test,y_pred))"
      ],
      "execution_count": null,
      "outputs": [
        {
          "output_type": "stream",
          "text": [
            "[[159 111]\n",
            " [ 87 191]]\n"
          ],
          "name": "stdout"
        }
      ]
    },
    {
      "cell_type": "code",
      "metadata": {
        "id": "DHn1ydsKnGGu",
        "colab_type": "code",
        "colab": {}
      },
      "source": [
        ""
      ],
      "execution_count": null,
      "outputs": []
    },
    {
      "cell_type": "markdown",
      "metadata": {
        "id": "E3WtD4UjwzfN",
        "colab_type": "text"
      },
      "source": [
        "##Random Forest"
      ]
    },
    {
      "cell_type": "code",
      "metadata": {
        "id": "dhr2ntGx52OS",
        "colab_type": "code",
        "colab": {}
      },
      "source": [
        "from sklearn.ensemble import RandomForestClassifier"
      ],
      "execution_count": 138,
      "outputs": []
    },
    {
      "cell_type": "code",
      "metadata": {
        "id": "Pj51QmvAnl0F",
        "colab_type": "code",
        "colab": {}
      },
      "source": [
        "modelo = RandomForestClassifier(n_estimators=100)"
      ],
      "execution_count": 139,
      "outputs": []
    },
    {
      "cell_type": "code",
      "metadata": {
        "id": "W6fdOGJTnoSO",
        "colab_type": "code",
        "colab": {
          "base_uri": "https://localhost:8080/",
          "height": 153
        },
        "outputId": "9da76979-b261-441e-8c3f-e1e2895711b5"
      },
      "source": [
        "modelo.fit(X_train,y_train)"
      ],
      "execution_count": 140,
      "outputs": [
        {
          "output_type": "execute_result",
          "data": {
            "text/plain": [
              "RandomForestClassifier(bootstrap=True, ccp_alpha=0.0, class_weight=None,\n",
              "                       criterion='gini', max_depth=None, max_features='auto',\n",
              "                       max_leaf_nodes=None, max_samples=None,\n",
              "                       min_impurity_decrease=0.0, min_impurity_split=None,\n",
              "                       min_samples_leaf=1, min_samples_split=2,\n",
              "                       min_weight_fraction_leaf=0.0, n_estimators=100,\n",
              "                       n_jobs=None, oob_score=False, random_state=None,\n",
              "                       verbose=0, warm_start=False)"
            ]
          },
          "metadata": {
            "tags": []
          },
          "execution_count": 140
        }
      ]
    },
    {
      "cell_type": "code",
      "metadata": {
        "id": "Qdy2dxCan5Rk",
        "colab_type": "code",
        "colab": {}
      },
      "source": [
        "y_pred = modelo.predict(X_test)"
      ],
      "execution_count": 141,
      "outputs": []
    },
    {
      "cell_type": "code",
      "metadata": {
        "id": "pn436TkWn9X5",
        "colab_type": "code",
        "colab": {
          "base_uri": "https://localhost:8080/",
          "height": 170
        },
        "outputId": "69b75f0b-c20a-4e45-8d6f-c6a75cbcf1c5"
      },
      "source": [
        "print(classification_report(y_test,y_pred))"
      ],
      "execution_count": 142,
      "outputs": [
        {
          "output_type": "stream",
          "text": [
            "              precision    recall  f1-score   support\n",
            "\n",
            "           0       0.70      0.63      0.66       270\n",
            "           1       0.67      0.73      0.70       278\n",
            "\n",
            "    accuracy                           0.68       548\n",
            "   macro avg       0.69      0.68      0.68       548\n",
            "weighted avg       0.69      0.68      0.68       548\n",
            "\n"
          ],
          "name": "stdout"
        }
      ]
    },
    {
      "cell_type": "code",
      "metadata": {
        "id": "5WagY7vGn_sr",
        "colab_type": "code",
        "colab": {
          "base_uri": "https://localhost:8080/",
          "height": 51
        },
        "outputId": "23c1a70d-5960-4bbc-f14d-0ef1773cf598"
      },
      "source": [
        "from sklearn.metrics import confusion_matrix\n",
        "cnf_matrix = confusion_matrix(y_test,y_pred)\n",
        "print(cnf_matrix)"
      ],
      "execution_count": 143,
      "outputs": [
        {
          "output_type": "stream",
          "text": [
            "[[171  99]\n",
            " [ 74 204]]\n"
          ],
          "name": "stdout"
        }
      ]
    },
    {
      "cell_type": "code",
      "metadata": {
        "id": "SE2dOt53FBV2",
        "colab_type": "code",
        "colab": {
          "base_uri": "https://localhost:8080/",
          "height": 344
        },
        "outputId": "abbbb868-29fd-4c17-9eaf-a624b4687ef3"
      },
      "source": [
        "class_names=[0,1] # name  of classes\n",
        "fig, ax = plt.subplots()\n",
        "tick_marks = np.arange(len(class_names))\n",
        "plt.xticks(tick_marks, class_names)\n",
        "plt.yticks(tick_marks, class_names)\n",
        "# create heatmap\n",
        "sns.heatmap(pd.DataFrame(cnf_matrix), annot=True, cmap=\"YlGnBu\" ,fmt='g')\n",
        "ax.xaxis.set_label_position(\"top\")\n",
        "plt.tight_layout()\n",
        "plt.title('Matriz de Demora', y=1.1)\n",
        "plt.ylabel('Actual Demora')\n",
        "plt.xlabel('Predicción Demora')"
      ],
      "execution_count": 146,
      "outputs": [
        {
          "output_type": "execute_result",
          "data": {
            "text/plain": [
              "Text(0.5, 257.44, 'Predicción Demora')"
            ]
          },
          "metadata": {
            "tags": []
          },
          "execution_count": 146
        },
        {
          "output_type": "display_data",
          "data": {
            "image/png": "[encoded data removed]",
            "text/plain": [
              "<Figure size 432x288 with 2 Axes>"
            ]
          },
          "metadata": {
            "tags": [],
            "needs_background": "light"
          }
        }
      ]
    },
    {
      "cell_type": "code",
      "metadata": {
        "id": "H6eDOV-KoBwj",
        "colab_type": "code",
        "colab": {
          "base_uri": "https://localhost:8080/",
          "height": 85
        },
        "outputId": "76994a27-0a24-4be1-9918-72ebb1605f1d"
      },
      "source": [
        "print(\"Demora\")\n",
        "print(\"Accuracy:\",metrics.accuracy_score(y_test, y_pred))\n",
        "print(\"Precision:\",metrics.precision_score(y_test, y_pred))\n",
        "print(\"Recall:\",metrics.recall_score(y_test, y_pred))"
      ],
      "execution_count": 145,
      "outputs": [
        {
          "output_type": "stream",
          "text": [
            "Demora\n",
            "Accuracy: 0.6843065693430657\n",
            "Precision: 0.6732673267326733\n",
            "Recall: 0.7338129496402878\n"
          ],
          "name": "stdout"
        }
      ]
    },
    {
      "cell_type": "code",
      "metadata": {
        "id": "-uWlcWqCFHNI",
        "colab_type": "code",
        "colab": {}
      },
      "source": [
        ""
      ],
      "execution_count": null,
      "outputs": []
    },
    {
      "cell_type": "markdown",
      "metadata": {
        "id": "BS4PbU6qoYfx",
        "colab_type": "text"
      },
      "source": [
        "###Importancia de las variables"
      ]
    },
    {
      "cell_type": "code",
      "metadata": {
        "id": "dvE3XPZso60o",
        "colab_type": "code",
        "colab": {}
      },
      "source": [
        "importancia = list(modelo.feature_importances_)"
      ],
      "execution_count": null,
      "outputs": []
    },
    {
      "cell_type": "code",
      "metadata": {
        "id": "kaDNxbsmpADg",
        "colab_type": "code",
        "colab": {
          "base_uri": "https://localhost:8080/",
          "height": 1000
        },
        "outputId": "7e3788bf-a0db-4f3d-fa1c-ee4e5eb19cb5"
      },
      "source": [
        "for i in range(len(importancia)):\n",
        "  print(f'--> Variable: {train.columns[i+1]} Importancia: {importancia[i]}')"
      ],
      "execution_count": null,
      "outputs": [
        {
          "output_type": "stream",
          "text": [
            "--> Variable: Cargas (u) Importancia: 0.18166279691597353\n",
            "--> Variable: Movimiento (t) Importancia: 0.1964854972931927\n",
            "--> Variable: Edad del empleado Importancia: 0.018172518871310526\n",
            "--> Variable: ADMINISTRACION SUPTCIA PLANTAS Importancia: 0.0016601417272292906\n",
            "--> Variable: ALJIBES MLC Importancia: 0.0013380132034131254\n",
            "--> Variable: CAMIONES CAT 793F MLC Importancia: 0.003381475970585395\n",
            "--> Variable: CAMIONES KOMATSU 830E MLC Importancia: 0.0016329948173863101\n",
            "--> Variable: CARGADORES FRONTALES MLC Importancia: 0.0009837298654311244\n",
            "--> Variable: GEOLOGIA DE PRODUCCION Importancia: 0.0014878585780114398\n",
            "--> Variable: INGENIERIA DE PROCESOS Importancia: 0.0005402486663897111\n",
            "--> Variable: MANTENIMIENTO MINA Importancia: 0.0034436039696326675\n",
            "--> Variable: MOTONIVELADORAS MLC Importancia: 0.0017164900146878093\n",
            "--> Variable: PALAS HIDRAULICAS MLC Importancia: 0.0008017109443043237\n",
            "--> Variable: PLANIFICACION MANTTO. MINA Importancia: 0.0006139526317577182\n",
            "--> Variable: SERVICIO SOCIAL VHUASCO Importancia: 0.0016486657112815034\n",
            "--> Variable: SISTEMAS DE CONTROL Y POTENCIA Importancia: 0.0\n",
            "--> Variable: TRACTORES NEUMATICOS MLC Importancia: 0.0007454803054304857\n",
            "--> Variable: TRACTORES ORUGA MLC Importancia: 0.001984632545895809\n",
            "--> Variable: ASISTENTE GEOLOGIA Importancia: 0.0013964453156916406\n",
            "--> Variable: AYUDANTE ADMINISTRATIVO Importancia: 0.0015703458317444321\n",
            "--> Variable: CONTROLADOR PLANIFICACION Importancia: 0.0010092362529875707\n",
            "--> Variable: ELECTRICO I Importancia: 0.0015502939453201747\n",
            "--> Variable: ELECTRICO III Importancia: 0.0013749761941170802\n",
            "--> Variable: INGENIERO DE PROCESOS Importancia: 0.0004647922091534977\n",
            "--> Variable: JEFE SISTEMAS DE CONTROL Y POTENCIA Importancia: 0.0\n",
            "--> Variable: MECANICO I Importancia: 0.0029487947662469394\n",
            "--> Variable: MECANICO III Importancia: 0.003310310922097154\n",
            "--> Variable: OPERADOR ELECTRICO II PLANTA Importancia: 0.001721099244260637\n",
            "--> Variable: OPERADOR I Importancia: 0.002493001258368242\n",
            "--> Variable: OPERADOR II Importancia: 0.002023466597751154\n",
            "--> Variable: OPERADOR III Importancia: 0.003491286797647088\n",
            "--> Variable: OPERADOR MECANICO III PLANTA Importancia: 0.001963084915571064\n",
            "--> Variable: PLANIFICADOR MANTENIMIENTO MINA Importancia: 0.0006805582699586357\n",
            "--> Variable: 1 Importancia: 0.012249248767125591\n",
            "--> Variable: 2 Importancia: 0.013623394565579806\n",
            "--> Variable: 2019-07-01 Importancia: 0.0014085307792922935\n",
            "--> Variable: 2019-07-02 Importancia: 0.004548566535638346\n",
            "--> Variable: 2019-07-03 Importancia: 0.001126533297622525\n",
            "--> Variable: 2019-07-04 Importancia: 0.002780129236633978\n",
            "--> Variable: 2019-07-05 Importancia: 0.003948304552909564\n",
            "--> Variable: 2019-07-06 Importancia: 0.003877764319500602\n",
            "--> Variable: 2019-07-07 Importancia: 0.0021862743652420824\n",
            "--> Variable: 2019-07-08 Importancia: 0.0018771081670867008\n",
            "--> Variable: 2019-07-09 Importancia: 0.001728285063475221\n",
            "--> Variable: 2019-07-10 Importancia: 0.0007315336164512305\n",
            "--> Variable: 2019-07-11 Importancia: 0.0020636773430048596\n",
            "--> Variable: 2019-07-12 Importancia: 0.0020495369961624228\n",
            "--> Variable: 2019-07-13 Importancia: 0.004046887987211356\n",
            "--> Variable: 2019-07-14 Importancia: 0.0021380150883244745\n",
            "--> Variable: 2019-07-15 Importancia: 0.002934118279202698\n",
            "--> Variable: 2019-07-16 Importancia: 0.002335925269418573\n",
            "--> Variable: 2019-07-17 Importancia: 0.0016662785250657175\n",
            "--> Variable: 2019-07-18 Importancia: 0.0013781807503839502\n",
            "--> Variable: 2019-07-19 Importancia: 0.0015628468077219842\n",
            "--> Variable: 2019-07-20 Importancia: 0.0012960253515367185\n",
            "--> Variable: 2019-07-21 Importancia: 0.0032344580895011456\n",
            "--> Variable: 2019-07-22 Importancia: 0.001557634380754285\n",
            "--> Variable: 2019-07-23 Importancia: 0.0011758360968740745\n",
            "--> Variable: 2019-07-24 Importancia: 0.0048513946112610585\n",
            "--> Variable: 2019-07-25 Importancia: 0.00048289476462075526\n",
            "--> Variable: 2019-07-26 Importancia: 0.0015427218387586961\n",
            "--> Variable: 2019-07-27 Importancia: 0.0007145011370229563\n",
            "--> Variable: 2019-07-28 Importancia: 0.0004579278511170095\n",
            "--> Variable: 2019-07-29 Importancia: 0.0010435996518695602\n",
            "--> Variable: 2019-07-30 Importancia: 0.000476213716848507\n",
            "--> Variable: 2019-07-31 Importancia: 0.0024675770311331827\n",
            "--> Variable: 2019-08-01 Importancia: 0.0015813606655715195\n",
            "--> Variable: 2019-08-02 Importancia: 0.00040057037292093404\n",
            "--> Variable: 2019-08-03 Importancia: 0.0003449885769574896\n",
            "--> Variable: 2019-08-04 Importancia: 0.001970934636464872\n",
            "--> Variable: 2019-08-05 Importancia: 0.0013197458751489114\n",
            "--> Variable: 2019-08-06 Importancia: 0.0014846978412400521\n",
            "--> Variable: 2019-08-07 Importancia: 0.0011666236445999135\n",
            "--> Variable: 2019-08-08 Importancia: 0.0020417176688805327\n",
            "--> Variable: 2019-08-09 Importancia: 0.0011608049413001234\n",
            "--> Variable: 2019-08-10 Importancia: 0.0022940631371435845\n",
            "--> Variable: 2019-08-11 Importancia: 0.001699282541509429\n",
            "--> Variable: 2019-08-12 Importancia: 0.003216388880804751\n",
            "--> Variable: 2019-08-13 Importancia: 0.0016761985772426658\n",
            "--> Variable: 2019-08-14 Importancia: 0.0015717204799347135\n",
            "--> Variable: 2019-08-15 Importancia: 0.0017469511175890679\n",
            "--> Variable: 2019-08-16 Importancia: 0.0026457434801380273\n",
            "--> Variable: 2019-08-17 Importancia: 0.002802638244166967\n",
            "--> Variable: 2019-08-18 Importancia: 0.0020744931419200813\n",
            "--> Variable: 2019-08-19 Importancia: 0.0008730339531407729\n",
            "--> Variable: 2019-08-20 Importancia: 0.0009526490897231785\n",
            "--> Variable: 2019-08-21 Importancia: 0.0013028996490998502\n",
            "--> Variable: 2019-08-22 Importancia: 0.00038857892118701875\n",
            "--> Variable: 2019-08-23 Importancia: 0.0011030921420960382\n",
            "--> Variable: 2019-08-24 Importancia: 0.0008772600359802531\n",
            "--> Variable: 2019-08-25 Importancia: 0.0010989520812227935\n",
            "--> Variable: 2019-08-26 Importancia: 0.00228103762164295\n",
            "--> Variable: 2019-08-27 Importancia: 0.0019572475388340803\n",
            "--> Variable: 2019-08-28 Importancia: 0.0021614286710597854\n",
            "--> Variable: 2019-08-29 Importancia: 0.0009380508008378953\n",
            "--> Variable: 2019-08-30 Importancia: 0.0011226126956852308\n",
            "--> Variable: 2019-08-31 Importancia: 0.000980945795443085\n",
            "--> Variable: 2019-09-01 Importancia: 0.000885813614072544\n",
            "--> Variable: 2019-09-02 Importancia: 0.0034345145374159764\n",
            "--> Variable: 2019-09-03 Importancia: 0.002779977824101175\n",
            "--> Variable: 2019-09-04 Importancia: 0.00363741536280555\n",
            "--> Variable: 2019-09-05 Importancia: 0.0008770649168587959\n",
            "--> Variable: 2019-09-06 Importancia: 0.001756865109523969\n",
            "--> Variable: 2019-09-07 Importancia: 0.0026298553029455384\n",
            "--> Variable: 2019-09-08 Importancia: 0.0\n",
            "--> Variable: 2019-09-09 Importancia: 0.0002816256627059857\n",
            "--> Variable: 2019-09-10 Importancia: 0.0005262401695828204\n",
            "--> Variable: 2019-09-11 Importancia: 0.0003302319295350163\n",
            "--> Variable: 2019-09-12 Importancia: 0.002569045982807437\n",
            "--> Variable: 2019-09-13 Importancia: 0.002535329980544139\n",
            "--> Variable: 2019-09-14 Importancia: 0.002920680428902967\n",
            "--> Variable: 2019-09-15 Importancia: 0.002335317639219708\n",
            "--> Variable: 2019-09-16 Importancia: 0.00010837352123254244\n",
            "--> Variable: 2019-09-17 Importancia: 0.0004085811082224821\n",
            "--> Variable: 2019-09-20 Importancia: 0.0013010823443293765\n",
            "--> Variable: 2019-09-21 Importancia: 0.0013435057224976388\n",
            "--> Variable: 2019-09-22 Importancia: 0.00131013541213987\n",
            "--> Variable: 2019-09-23 Importancia: 0.0006111248077726157\n",
            "--> Variable: 2019-09-24 Importancia: 0.0025820280284638403\n",
            "--> Variable: 2019-09-25 Importancia: 0.0008355665866891547\n",
            "--> Variable: 2019-09-26 Importancia: 0.0006064103692063426\n",
            "--> Variable: 2019-09-27 Importancia: 0.0011552415437208758\n",
            "--> Variable: 2019-09-28 Importancia: 0.0018137852065664092\n",
            "--> Variable: 2019-09-29 Importancia: 0.0009301266284824046\n",
            "--> Variable: 2019-09-30 Importancia: 0.001112855755153187\n",
            "--> Variable: 2019-10-01 Importancia: 0.0014856431003016485\n",
            "--> Variable: 2019-10-02 Importancia: 0.0014489317368122211\n",
            "--> Variable: 2019-10-03 Importancia: 0.0009620423869983403\n",
            "--> Variable: 2019-10-04 Importancia: 0.0008490180868676731\n",
            "--> Variable: 2019-10-05 Importancia: 0.0019832976125848485\n",
            "--> Variable: 2019-10-06 Importancia: 0.0007689711801213291\n",
            "--> Variable: 2019-10-07 Importancia: 0.0008344011689166971\n",
            "--> Variable: 2019-10-08 Importancia: 0.0014169381710263784\n",
            "--> Variable: 2019-10-09 Importancia: 0.001717088096465888\n",
            "--> Variable: 2019-10-10 Importancia: 0.0011926077471819086\n",
            "--> Variable: 2019-10-11 Importancia: 0.0013741696524383726\n",
            "--> Variable: 2019-10-12 Importancia: 0.0004927875244821703\n",
            "--> Variable: 2019-10-13 Importancia: 0.0007383985901957889\n",
            "--> Variable: 2019-10-14 Importancia: 0.0019364734214253766\n",
            "--> Variable: 2019-10-15 Importancia: 0.0019250356717315992\n",
            "--> Variable: 2019-10-16 Importancia: 0.0007700024519401488\n",
            "--> Variable: 2019-10-17 Importancia: 0.002468848247345082\n",
            "--> Variable: 2019-10-18 Importancia: 0.0005472970519124746\n",
            "--> Variable: 2019-10-19 Importancia: 0.00043862459993855904\n",
            "--> Variable: 2019-10-20 Importancia: 0.0009786630442199175\n",
            "--> Variable: 2019-10-21 Importancia: 7.667002441721762e-05\n",
            "--> Variable: 2019-10-22 Importancia: 0.0025541741883417625\n",
            "--> Variable: 2019-10-23 Importancia: 0.002924889394784309\n",
            "--> Variable: 2019-10-26 Importancia: 0.0012315161871484616\n",
            "--> Variable: 2019-10-27 Importancia: 0.0009608592059456791\n",
            "--> Variable: 2019-10-28 Importancia: 0.0021347103990972103\n",
            "--> Variable: 2019-10-30 Importancia: 0.0011418347148438683\n",
            "--> Variable: 2019-10-31 Importancia: 0.0001233280908631536\n",
            "--> Variable: 2019-11-01 Importancia: 0.0008470636229628497\n",
            "--> Variable: 2019-11-02 Importancia: 0.0008182174479114341\n",
            "--> Variable: 2019-11-03 Importancia: 0.0011378683967514683\n",
            "--> Variable: 2019-11-04 Importancia: 0.0003828787716288575\n",
            "--> Variable: 2019-11-05 Importancia: 0.0003346416732926331\n",
            "--> Variable: 2019-11-06 Importancia: 0.0013257121060936356\n",
            "--> Variable: 2019-11-07 Importancia: 0.0027218694101256114\n",
            "--> Variable: 2019-11-08 Importancia: 0.0008692302550386025\n",
            "--> Variable: 2019-11-09 Importancia: 0.00250143629344551\n",
            "--> Variable: 2019-11-10 Importancia: 0.0037091991564394662\n",
            "--> Variable: 2019-11-11 Importancia: 0.0016440921030050953\n",
            "--> Variable: 2019-11-13 Importancia: 0.0009970266360660226\n",
            "--> Variable: 2019-11-14 Importancia: 0.00031127534094549717\n",
            "--> Variable: 2019-11-15 Importancia: 0.0008626057921728912\n",
            "--> Variable: 2019-11-16 Importancia: 0.001162851306588923\n",
            "--> Variable: 2019-11-17 Importancia: 0.00211233981434721\n",
            "--> Variable: 2019-11-18 Importancia: 0.0018690756379673018\n",
            "--> Variable: 2019-11-19 Importancia: 0.0007205655373787684\n",
            "--> Variable: 2019-11-20 Importancia: 0.0007480469917356035\n",
            "--> Variable: 2019-11-21 Importancia: 0.0012861768576192408\n",
            "--> Variable: 2019-11-22 Importancia: 0.0013860791765071265\n",
            "--> Variable: 2019-11-23 Importancia: 0.0006565008873571968\n",
            "--> Variable: 2019-11-24 Importancia: 0.001743499729022272\n",
            "--> Variable: 2019-11-25 Importancia: 0.0010782862664955434\n",
            "--> Variable: 2019-11-26 Importancia: 0.0010220153362161537\n",
            "--> Variable: 2019-11-27 Importancia: 0.0019890384401809787\n",
            "--> Variable: 2019-11-28 Importancia: 0.0016124593378622758\n",
            "--> Variable: 2019-11-29 Importancia: 0.0014520754840519259\n",
            "--> Variable: 2019-11-30 Importancia: 0.0007035699601712798\n",
            "--> Variable: 2019-12-01 Importancia: 0.000559616463034175\n",
            "--> Variable: 2019-12-02 Importancia: 0.0013651249680966915\n",
            "--> Variable: 2019-12-03 Importancia: 0.00017479247049255724\n",
            "--> Variable: 2019-12-04 Importancia: 0.0013716668063552334\n",
            "--> Variable: 2019-12-05 Importancia: 0.0005041036448850817\n",
            "--> Variable: 2019-12-06 Importancia: 0.002276187012002047\n",
            "--> Variable: 2019-12-07 Importancia: 0.0021866186269147952\n",
            "--> Variable: 2019-12-08 Importancia: 0.0016180844331785621\n",
            "--> Variable: 2019-12-09 Importancia: 0.002500651140689379\n",
            "--> Variable: 2019-12-10 Importancia: 0.0008874675154737281\n",
            "--> Variable: 2019-12-11 Importancia: 0.000819097959495061\n",
            "--> Variable: 2019-12-12 Importancia: 0.0009488598769129452\n",
            "--> Variable: 2019-12-13 Importancia: 0.0006260999678992386\n",
            "--> Variable: 2019-12-14 Importancia: 0.002119217457521627\n",
            "--> Variable: 2019-12-15 Importancia: 0.0012064733319227167\n",
            "--> Variable: 2019-12-16 Importancia: 0.0004459932877772783\n",
            "--> Variable: 2019-12-17 Importancia: 0.0006950626499620125\n",
            "--> Variable: 2019-12-18 Importancia: 0.0012906188121850767\n",
            "--> Variable: 2019-12-19 Importancia: 0.0007373834293247921\n",
            "--> Variable: 2019-12-20 Importancia: 0.002107869621542567\n",
            "--> Variable: 2019-12-21 Importancia: 0.0017790079166752149\n",
            "--> Variable: 2019-12-22 Importancia: 0.001673167035645003\n",
            "--> Variable: 2019-12-23 Importancia: 0.0013577303768679539\n",
            "--> Variable: 2019-12-24 Importancia: 0.0011336229535275463\n",
            "--> Variable: 2019-12-26 Importancia: 0.0015336225636276562\n",
            "--> Variable: 2019-12-27 Importancia: 0.0008539477049966574\n",
            "--> Variable: 2019-12-28 Importancia: 0.0008931494930534259\n",
            "--> Variable: 2019-12-29 Importancia: 0.0016041822081961075\n",
            "--> Variable: 2019-12-30 Importancia: 0.0033374290120693987\n",
            "--> Variable: 2019-12-31 Importancia: 0.002161152871724059\n",
            "--> Variable: 2020-01-02 Importancia: 0.0011102379999991649\n",
            "--> Variable: 2020-01-03 Importancia: 0.0\n",
            "--> Variable: 2020-01-04 Importancia: 0.00044136033403086765\n",
            "--> Variable: 2020-01-05 Importancia: 0.00045602043213193897\n",
            "--> Variable: 2020-01-06 Importancia: 0.0012698818058122893\n",
            "--> Variable: 2020-01-07 Importancia: 0.00048684890232988427\n",
            "--> Variable: 2020-01-08 Importancia: 0.0007630020026757196\n",
            "--> Variable: 2020-01-09 Importancia: 5.2845045664953616e-05\n",
            "--> Variable: 2020-01-10 Importancia: 0.0004333308579155995\n",
            "--> Variable: 2020-01-11 Importancia: 0.00042857628713800934\n",
            "--> Variable: 2020-01-13 Importancia: 0.00012926452528231192\n",
            "--> Variable: 2020-01-14 Importancia: 0.0006225445191100592\n",
            "--> Variable: 2020-01-15 Importancia: 0.0012907225469467203\n",
            "--> Variable: 2020-01-17 Importancia: 0.0\n",
            "--> Variable: 2020-01-18 Importancia: 0.0001546592902513307\n",
            "--> Variable: 2020-01-19 Importancia: 0.00015111022464127586\n",
            "--> Variable: 2020-01-20 Importancia: 0.0003211435580220535\n",
            "--> Variable: 2020-01-21 Importancia: 0.0007188792534792602\n",
            "--> Variable: 2020-01-22 Importancia: 0.0003183118162009525\n",
            "--> Variable: 2020-01-25 Importancia: 0.0007245491407057031\n",
            "--> Variable: 2020-01-26 Importancia: 0.0\n",
            "--> Variable: 2020-01-27 Importancia: 0.0002824858753730174\n",
            "--> Variable: 2020-01-28 Importancia: 3.9811297521635816e-05\n",
            "--> Variable: 2020-01-29 Importancia: 0.0009624458713726075\n",
            "--> Variable: 2020-01-30 Importancia: 0.001295760101789651\n",
            "--> Variable: 2020-01-31 Importancia: 0.0005992721597198706\n",
            "--> Variable: 2020-02-01 Importancia: 0.0021347563717712837\n",
            "--> Variable: 2020-02-02 Importancia: 0.00027250077855049817\n",
            "--> Variable: 2020-02-03 Importancia: 0.001332373442016667\n",
            "--> Variable: 2020-02-04 Importancia: 0.0021134959491945753\n",
            "--> Variable: 2020-02-05 Importancia: 0.0005664942177895734\n",
            "--> Variable: 2020-02-06 Importancia: 0.002098346182839941\n",
            "--> Variable: 2020-02-07 Importancia: 0.0008761703738127322\n",
            "--> Variable: 2020-02-08 Importancia: 0.00021223921712358598\n",
            "--> Variable: 2020-02-09 Importancia: 0.0008431555146567532\n",
            "--> Variable: 2020-02-10 Importancia: 0.0005205848113436276\n",
            "--> Variable: 2020-02-11 Importancia: 0.0017363281354166869\n",
            "--> Variable: 2020-02-12 Importancia: 0.003050995348414945\n",
            "--> Variable: 2020-02-13 Importancia: 0.0012671495519715676\n",
            "--> Variable: 2020-02-14 Importancia: 0.0023917691335756507\n",
            "--> Variable: 2020-02-15 Importancia: 0.002433029982782828\n",
            "--> Variable: 2020-02-16 Importancia: 0.0027674202940678612\n",
            "--> Variable: 2020-02-17 Importancia: 0.0011853987062955002\n",
            "--> Variable: 2020-02-18 Importancia: 0.0011345856330268894\n",
            "--> Variable: 2020-02-19 Importancia: 0.00106003023267081\n",
            "--> Variable: 2020-02-20 Importancia: 0.0009148635579283765\n",
            "--> Variable: 2020-02-21 Importancia: 0.0007786290582598021\n",
            "--> Variable: 2020-02-22 Importancia: 0.0010988770328586239\n",
            "--> Variable: 2020-02-23 Importancia: 0.0008453412035688722\n",
            "--> Variable: 2020-02-24 Importancia: 0.00123635395998495\n",
            "--> Variable: 2020-02-25 Importancia: 0.0007110294038988606\n",
            "--> Variable: 2020-02-26 Importancia: 0.0003187093409673296\n",
            "--> Variable: 2020-02-27 Importancia: 0.0\n",
            "--> Variable: 2020-02-28 Importancia: 0.00380478085682125\n",
            "--> Variable: 2020-02-29 Importancia: 0.0\n",
            "--> Variable: 2020-03-01 Importancia: 0.0008808491592276356\n",
            "--> Variable: 2020-03-02 Importancia: 0.0012645104074184275\n",
            "--> Variable: 2020-03-03 Importancia: 0.0003345270269840682\n",
            "--> Variable: 2020-03-04 Importancia: 0.0003498587093334586\n",
            "--> Variable: 2020-03-05 Importancia: 0.0014410720840113212\n",
            "--> Variable: 2020-03-06 Importancia: 0.0010496380429496062\n",
            "--> Variable: 2020-03-07 Importancia: 0.0011982849977783495\n",
            "--> Variable: 2020-03-08 Importancia: 0.0012539729142302524\n",
            "--> Variable: 2020-03-09 Importancia: 0.0011116709686387221\n",
            "--> Variable: 2020-03-10 Importancia: 0.001299725302761541\n",
            "--> Variable: 2020-03-11 Importancia: 0.002197172381374356\n",
            "--> Variable: 2020-03-12 Importancia: 0.0015238170060615278\n",
            "--> Variable: 2020-03-13 Importancia: 0.0020407906237616593\n",
            "--> Variable: 2020-03-14 Importancia: 0.001769067581035441\n",
            "--> Variable: 2020-03-15 Importancia: 0.00025872230660845745\n",
            "--> Variable: 2020-03-16 Importancia: 0.0023363757334654276\n",
            "--> Variable: 2020-03-17 Importancia: 0.001457532948429465\n",
            "--> Variable: 2020-03-18 Importancia: 0.0008891313666234427\n",
            "--> Variable: 2020-03-19 Importancia: 0.0019482571515869553\n",
            "--> Variable: 2020-03-20 Importancia: 0.00024832804753631443\n",
            "--> Variable: 2020-03-21 Importancia: 0.0012697678558650646\n",
            "--> Variable: 2020-03-25 Importancia: 0.000929669264342431\n",
            "--> Variable: 2020-03-26 Importancia: 0.002440272856859712\n",
            "--> Variable: 2020-03-27 Importancia: 0.0009427510915125438\n",
            "--> Variable: 2020-03-28 Importancia: 0.001117254774662006\n",
            "--> Variable: 2020-03-29 Importancia: 0.0004402615237855105\n",
            "--> Variable: 2020-03-30 Importancia: 0.001096942495715185\n",
            "--> Variable: 2020-03-31 Importancia: 0.0\n",
            "--> Variable: 2020-04-01 Importancia: 0.0002623485770951639\n",
            "--> Variable: 2020-04-02 Importancia: 0.0\n",
            "--> Variable: 2020-04-03 Importancia: 0.0005007365864808152\n",
            "--> Variable: 2020-04-04 Importancia: 0.0006035435877326008\n",
            "--> Variable: 2020-04-05 Importancia: 0.001575778992035641\n",
            "--> Variable: 2020-04-06 Importancia: 0.0002814721645103424\n",
            "--> Variable: 2020-04-07 Importancia: 0.0008420482247015015\n",
            "--> Variable: 2020-04-08 Importancia: 0.0010932990896963695\n",
            "--> Variable: 2020-04-09 Importancia: 2.310849310220815e-05\n",
            "--> Variable: 2020-04-10 Importancia: 0.00027491591290877937\n",
            "--> Variable: 2020-04-11 Importancia: 0.0005754972821526736\n",
            "--> Variable: 2020-04-12 Importancia: 0.0016456476337960864\n",
            "--> Variable: 2020-04-13 Importancia: 0.0012213290855767986\n",
            "--> Variable: 2020-04-14 Importancia: 0.0007388687182114665\n",
            "--> Variable: 2020-04-15 Importancia: 0.0019736280596219847\n",
            "--> Variable: 2020-04-16 Importancia: 0.00021754292709495193\n",
            "--> Variable: 2020-04-17 Importancia: 0.001136341357450696\n",
            "--> Variable: 2020-04-18 Importancia: 0.0005740172933992155\n",
            "--> Variable: 2020-04-19 Importancia: 4.37926111916639e-05\n",
            "--> Variable: 2020-04-20 Importancia: 0.0007943546452328766\n",
            "--> Variable: 2020-04-21 Importancia: 0.0013234337658936987\n",
            "--> Variable: 2020-04-22 Importancia: 0.001002759574769426\n",
            "--> Variable: 2020-04-23 Importancia: 0.001266183278591379\n",
            "--> Variable: 2020-04-24 Importancia: 0.0005335193857586396\n",
            "--> Variable: 2020-04-25 Importancia: 0.0011631172102243182\n",
            "--> Variable: 2020-04-26 Importancia: 0.001432552098272229\n",
            "--> Variable: 2020-04-27 Importancia: 0.0011453490264838788\n",
            "--> Variable: 2020-04-28 Importancia: 0.001274714679202872\n",
            "--> Variable: 2020-04-29 Importancia: 0.0004301223060297259\n",
            "--> Variable: 2020-04-30 Importancia: 0.001091687704223978\n",
            "--> Variable: 2020-05-02 Importancia: 0.0011014964326088571\n",
            "--> Variable: 2020-05-03 Importancia: 0.0004744173039327454\n",
            "--> Variable: 2020-05-04 Importancia: 0.001771987978356891\n",
            "--> Variable: 2020-05-05 Importancia: 0.0016876256394249914\n",
            "--> Variable: 2020-05-06 Importancia: 0.0014764090583463845\n",
            "--> Variable: 2020-05-07 Importancia: 0.0007185319856510316\n",
            "--> Variable: 2020-05-08 Importancia: 0.001028434011492322\n",
            "--> Variable: 2020-05-09 Importancia: 0.0005988722709946418\n",
            "--> Variable: 2020-05-10 Importancia: 0.0004524728641853943\n",
            "--> Variable: 2020-05-11 Importancia: 0.0014900210645682748\n",
            "--> Variable: 2020-05-12 Importancia: 5.7937833691943874e-05\n",
            "--> Variable: 2020-05-13 Importancia: 0.001810312440792966\n",
            "--> Variable: 2020-05-14 Importancia: 0.0011877355594089767\n",
            "--> Variable: 2020-05-15 Importancia: 0.0023164774322356665\n",
            "--> Variable: 2020-05-16 Importancia: 0.0006877851915066148\n",
            "--> Variable: 2020-05-17 Importancia: 0.0018142147995458035\n",
            "--> Variable: 2020-05-18 Importancia: 0.0008804643238920262\n",
            "--> Variable: 2020-05-19 Importancia: 0.0007624213477349759\n",
            "--> Variable: 2020-05-20 Importancia: 0.0022734501674019176\n",
            "--> Variable: 2020-05-21 Importancia: 0.0011896449357976157\n",
            "--> Variable: 2020-05-22 Importancia: 0.0026711779073370573\n",
            "--> Variable: 2020-05-23 Importancia: 0.0017064061497731396\n",
            "--> Variable: 2020-05-24 Importancia: 0.0019194108560110748\n",
            "--> Variable: 2020-05-25 Importancia: 0.00038147466555945545\n",
            "--> Variable: 2020-05-26 Importancia: 0.0011271025184435067\n",
            "--> Variable: 2020-05-27 Importancia: 0.0009059212460489527\n",
            "--> Variable: 2020-05-28 Importancia: 0.00023095715006616498\n",
            "--> Variable: 2020-05-29 Importancia: 0.001995438158755227\n",
            "--> Variable: 2020-05-30 Importancia: 0.0007272170167045159\n",
            "--> Variable: 2020-05-31 Importancia: 0.0011956806828411928\n",
            "--> Variable: 2020-06-01 Importancia: 0.0006099431473483559\n",
            "--> Variable: 2020-06-02 Importancia: 0.001213133190479622\n",
            "--> Variable: 2020-06-03 Importancia: 0.0019075514641099173\n",
            "--> Variable: 2020-06-04 Importancia: 0.0015481757166684717\n",
            "--> Variable: 2020-06-05 Importancia: 0.002896306133253152\n",
            "--> Variable: 2020-06-06 Importancia: 0.0009703984433912024\n",
            "--> Variable: 2020-06-07 Importancia: 0.0015366999824193094\n",
            "--> Variable: 2020-06-08 Importancia: 0.0008408904845669619\n",
            "--> Variable: 2020-06-09 Importancia: 0.0016540395112381626\n",
            "--> Variable: 2020-06-10 Importancia: 0.002024571283733052\n",
            "--> Variable: 2020-06-11 Importancia: 0.0006105909804498421\n",
            "--> Variable: 2020-06-12 Importancia: 0.0011955089248996992\n",
            "--> Variable: 2020-06-13 Importancia: 0.0008209894888124312\n",
            "--> Variable: 2020-06-14 Importancia: 0.0011061811752651183\n",
            "--> Variable: 2020-06-15 Importancia: 0.000483858614896109\n",
            "--> Variable: 2020-06-16 Importancia: 0.0005680302539845458\n",
            "--> Variable: 2020-06-17 Importancia: 0.0\n",
            "--> Variable: 2020-06-18 Importancia: 1.4779089705318237e-05\n",
            "--> Variable: 2020-06-19 Importancia: 0.001458979175355751\n",
            "--> Variable: 2020-06-20 Importancia: 0.0005888340034959069\n",
            "--> Variable: 2020-06-21 Importancia: 0.0006492143060952167\n",
            "--> Variable: 2020-06-22 Importancia: 0.0005508580363697483\n",
            "--> Variable: 20000564 Importancia: 0.001451995790707056\n",
            "--> Variable: 20000770 Importancia: 0.0\n",
            "--> Variable: 20000778 Importancia: 0.000602492981926879\n",
            "--> Variable: 20000847 Importancia: 0.0019405870517686557\n",
            "--> Variable: 20000868 Importancia: 0.0017698895141819823\n",
            "--> Variable: 20000875 Importancia: 0.00446271969549296\n",
            "--> Variable: 20000905 Importancia: 0.0015468500638463531\n",
            "--> Variable: 20000964 Importancia: 0.0009554741619477243\n",
            "--> Variable: 20001014 Importancia: 0.0019891864502213654\n",
            "--> Variable: 20001236 Importancia: 0.0006474475021799093\n",
            "--> Variable: 20001237 Importancia: 0.0011426271889111367\n",
            "--> Variable: 20001512 Importancia: 0.0018033743263706876\n",
            "--> Variable: 20001526 Importancia: 0.00114399877140654\n",
            "--> Variable: 20002297 Importancia: 0.001984211719171213\n",
            "--> Variable: 20002520 Importancia: 0.001418120190194637\n",
            "--> Variable: 20002787 Importancia: 0.0014654562449514046\n",
            "--> Variable: 20003239 Importancia: 0.0016230964496883077\n",
            "--> Variable: 20003244 Importancia: 0.0004095019125008056\n",
            "--> Variable: 20003260 Importancia: 0.002011328761633896\n",
            "--> Variable: 20003278 Importancia: 0.002836640815980448\n",
            "--> Variable: 20003408 Importancia: 0.001612935983817255\n",
            "--> Variable: 20003778 Importancia: 0.0016033879412800467\n",
            "--> Variable: 20003779 Importancia: 0.004482896405504273\n",
            "--> Variable: 20003858 Importancia: 0.000533004116428567\n",
            "--> Variable: 20004398 Importancia: 0.0013873356442532403\n",
            "--> Variable: 20004884 Importancia: 0.0008351518006550926\n",
            "--> Variable: 20004895 Importancia: 0.002668375166677889\n",
            "--> Variable: 20005055 Importancia: 0.0009725612258447188\n",
            "--> Variable: 20005968 Importancia: 0.0024800906102220234\n",
            "--> Variable: 20006912 Importancia: 0.0015204960701386291\n",
            "--> Variable: 1988-09-01 Importancia: 0.0016315060539054472\n",
            "--> Variable: 1996-07-01 Importancia: 0.0\n",
            "--> Variable: 1996-09-23 Importancia: 0.0006312549297508558\n",
            "--> Variable: 1996-12-17 Importancia: 0.0013630280532875602\n",
            "--> Variable: 1997-02-01 Importancia: 0.0014873426351863393\n",
            "--> Variable: 1997-03-19 Importancia: 0.0050525898768637514\n",
            "--> Variable: 1997-12-01 Importancia: 0.0017412973324859803\n",
            "--> Variable: 1998-03-25 Importancia: 0.001097570814109538\n",
            "--> Variable: 1998-03-31 Importancia: 0.002262872348150722\n",
            "--> Variable: 2003-05-30 Importancia: 0.0007719249113932004\n",
            "--> Variable: 2003-06-01 Importancia: 0.0011117954617346063\n",
            "--> Variable: 2006-02-16 Importancia: 0.002511021186433281\n",
            "--> Variable: 2006-03-29 Importancia: 0.000929301931443123\n",
            "--> Variable: 2008-08-12 Importancia: 0.0018909998020275839\n",
            "--> Variable: 2011-01-17 Importancia: 0.0017061779332414027\n",
            "--> Variable: 2011-04-01 Importancia: 0.003195824193570994\n",
            "--> Variable: 2011-07-01 Importancia: 0.0016711424645409509\n",
            "--> Variable: 2011-10-01 Importancia: 0.0013464521408815026\n",
            "--> Variable: 2012-02-20 Importancia: 0.0004816972132064577\n",
            "--> Variable: 2012-11-07 Importancia: 0.00165674988559901\n",
            "--> Variable: 2013-03-01 Importancia: 0.002068009795010029\n",
            "--> Variable: 2013-09-01 Importancia: 0.0023105665216910723\n",
            "--> Variable: 2013-11-01 Importancia: 0.0009035577080386131\n",
            "--> Variable: 2017-03-08 Importancia: 0.002266587489389056\n",
            "--> Variable: 2019-06-03 Importancia: 0.0012509778035786016\n",
            "--> Variable: 1 - Evaluación de tiempos, real Importancia: 0.001876154732531615\n",
            "--> Variable: 9 - Evaluación de tiempos, teórico Importancia: 0.0017350639587273885\n"
          ],
          "name": "stdout"
        }
      ]
    },
    {
      "cell_type": "code",
      "metadata": {
        "id": "sLH2I5mHqqXM",
        "colab_type": "code",
        "colab": {}
      },
      "source": [
        ""
      ],
      "execution_count": null,
      "outputs": []
    },
    {
      "cell_type": "markdown",
      "metadata": {
        "colab_type": "text",
        "id": "VclFUGM2kD6I"
      },
      "source": [
        "##PCA"
      ]
    },
    {
      "cell_type": "code",
      "metadata": {
        "colab_type": "code",
        "id": "6l0XtmsfkD6N",
        "colab": {}
      },
      "source": [
        "from sklearn.decomposition import PCA"
      ],
      "execution_count": null,
      "outputs": []
    },
    {
      "cell_type": "code",
      "metadata": {
        "colab_type": "code",
        "id": "DA01spFYkD6S",
        "colab": {}
      },
      "source": [
        "pca = PCA(n_components=2)"
      ],
      "execution_count": null,
      "outputs": []
    },
    {
      "cell_type": "code",
      "metadata": {
        "colab_type": "code",
        "id": "JYgEhJDgkD6X",
        "colab": {
          "base_uri": "https://localhost:8080/",
          "height": 51
        },
        "outputId": "f0905f99-1867-425d-be2d-3c76a7dfd01b"
      },
      "source": [
        "pca.fit(train)"
      ],
      "execution_count": null,
      "outputs": [
        {
          "output_type": "execute_result",
          "data": {
            "text/plain": [
              "PCA(copy=True, iterated_power='auto', n_components=2, random_state=None,\n",
              "    svd_solver='auto', tol=0.0, whiten=False)"
            ]
          },
          "metadata": {
            "tags": []
          },
          "execution_count": 170
        }
      ]
    },
    {
      "cell_type": "code",
      "metadata": {
        "colab_type": "code",
        "id": "aqeUrCnukD6b",
        "colab": {}
      },
      "source": [
        "x_pca = pca.transform(train)"
      ],
      "execution_count": null,
      "outputs": []
    },
    {
      "cell_type": "code",
      "metadata": {
        "colab_type": "code",
        "id": "b1fzOhtMkD6e",
        "colab": {
          "base_uri": "https://localhost:8080/",
          "height": 136
        },
        "outputId": "5f9e1f49-7efb-4bfb-ad94-3c0bbe9b3144"
      },
      "source": [
        "x_pca"
      ],
      "execution_count": null,
      "outputs": [
        {
          "output_type": "execute_result",
          "data": {
            "text/plain": [
              "array([[ 1.13266069,  1.08099939],\n",
              "       [-1.88372593, -0.59687472],\n",
              "       [ 0.8557531 , -1.71390945],\n",
              "       ...,\n",
              "       [ 0.05194789,  0.66490807],\n",
              "       [-1.21845897, -0.22172233],\n",
              "       [-2.51339979, -0.69984712]])"
            ]
          },
          "metadata": {
            "tags": []
          },
          "execution_count": 172
        }
      ]
    },
    {
      "cell_type": "code",
      "metadata": {
        "colab_type": "code",
        "id": "6C1Wn1ULkD6h",
        "colab": {
          "base_uri": "https://localhost:8080/",
          "height": 34
        },
        "outputId": "1f340510-f556-4651-c9b5-a3782c8be551"
      },
      "source": [
        "x_pca.shape"
      ],
      "execution_count": null,
      "outputs": [
        {
          "output_type": "execute_result",
          "data": {
            "text/plain": [
              "(1825, 2)"
            ]
          },
          "metadata": {
            "tags": []
          },
          "execution_count": 173
        }
      ]
    },
    {
      "cell_type": "code",
      "metadata": {
        "colab_type": "code",
        "id": "32b3BmdEkD6m",
        "colab": {
          "base_uri": "https://localhost:8080/",
          "height": 427
        },
        "outputId": "7b7d0383-d413-407d-a72f-4b5dd148db84"
      },
      "source": [
        "plt.figure(figsize=(8,6))\n",
        "ax = sns.scatterplot(x_pca[:,0],x_pca[:,1], hue=train['Demora (bin)'], alpha=0.3)\n",
        "plt.xlabel('Componente Principal 1')\n",
        "plt.ylabel('Componente Principal 2')\n",
        "plt.title('PCA')"
      ],
      "execution_count": null,
      "outputs": [
        {
          "output_type": "execute_result",
          "data": {
            "text/plain": [
              "Text(0.5, 1.0, 'PCA')"
            ]
          },
          "metadata": {
            "tags": []
          },
          "execution_count": 174
        },
        {
          "output_type": "display_data",
          "data": {
            "image/png": "[encoded data removed]",
            "text/plain": [
              "<Figure size 576x432 with 1 Axes>"
            ]
          },
          "metadata": {
            "tags": []
          }
        }
      ]
    },
    {
      "cell_type": "code",
      "metadata": {
        "id": "497bZrR0kYiu",
        "colab_type": "code",
        "colab": {}
      },
      "source": [
        ""
      ],
      "execution_count": null,
      "outputs": []
    }
  ]
}