{
  "nbformat": 4,
  "nbformat_minor": 0,
  "metadata": {
    "colab": {
      "name": "Análisis_Variables.ipynb",
      "provenance": [],
      "authorship_tag": "ABX9TyP3Pc/5Y6v3DecfeJyNCmBp",
      "include_colab_link": true
    },
    "kernelspec": {
      "name": "python3",
      "display_name": "Python 3"
    }
  },
  "cells": [
    {
      "cell_type": "markdown",
      "metadata": {
        "id": "view-in-github",
        "colab_type": "text"
      },
      "source": [
        "<a href=\"https://colab.research.google.com/github/cml096/GoogleColabRepo/blob/master/An%C3%A1lisis_Variables.ipynb\" target=\"_parent\"><img src=\"https://colab.research.google.com/assets/colab-badge.svg\" alt=\"Open In Colab\"/></a>"
      ]
    },
    {
      "cell_type": "code",
      "metadata": {
        "id": "t_xaq6anviJk"
      },
      "source": [
        "import pandas as pd\n",
        "df = pd.read_excel('OperTot - PowerView_ARCH1.xlsx')"
      ],
      "execution_count": 2,
      "outputs": []
    },
    {
      "cell_type": "code",
      "metadata": {
        "id": "khsuGaDgu2yn"
      },
      "source": [
        "list_drop = ['ID','shiftindex','crew#','unit#','tmcat08','tmcat09','tmcat10','tmcat11','tmcat12','tmcat13','tmcat14','tmcat15','tmcat16','tmcat17','tmcat18','tmcat19']\n",
        "df.drop(list_drop,axis=1,inplace=True)"
      ],
      "execution_count": 3,
      "outputs": []
    },
    {
      "cell_type": "code",
      "metadata": {
        "id": "EUmVHKDDvkz1"
      },
      "source": [
        "df[\"shift#\"] = df[\"shift#\"].astype(str)\n",
        "df.totaltons = df.totaltons.astype(int)"
      ],
      "execution_count": 3,
      "outputs": []
    },
    {
      "cell_type": "code",
      "metadata": {
        "id": "mm7dQ4xrwl17"
      },
      "source": [
        "df_loads = df[(df.unit == 'Camion') | (df.unit == 'Pala')]\n",
        "df_times = df[(df.unit == 'Aljibe') | (df.unit == 'Auxil') | (df.unit == 'Moto') | (df.unit == 'Perforadora') | (df.unit == 'Tractor')]"
      ],
      "execution_count": 6,
      "outputs": []
    },
    {
      "cell_type": "code",
      "metadata": {
        "id": "Fb7doEyOvkmb"
      },
      "source": [
        "import seaborn as sns\n",
        "import matplotlib.pyplot as plt"
      ],
      "execution_count": 4,
      "outputs": []
    },
    {
      "cell_type": "markdown",
      "metadata": {
        "id": "fABbrR1qxJip"
      },
      "source": [
        "# Cargas (Data 1)"
      ]
    },
    {
      "cell_type": "code",
      "metadata": {
        "id": "S1FlU5YkxTsO",
        "outputId": "67d85e5c-46ee-4322-88fd-82a6e8de473e",
        "colab": {
          "base_uri": "https://localhost:8080/",
          "height": 102
        }
      },
      "source": [
        "df_loads.columns"
      ],
      "execution_count": 15,
      "outputs": [
        {
          "output_type": "execute_result",
          "data": {
            "text/plain": [
              "Index(['shiftdate', 'shift#', 'start', 'crew', 'eqmtid', 'logintime', 'locid',\n",
              "       'operid', 'totaltime', 'pit', 'unit', 'totalloads', 'totaltons',\n",
              "       'loadtime', 'idletime', 'spottime', 'loadcnt', 'tmcat00', 'tmcat01',\n",
              "       'tmcat02', 'tmcat03', 'tmcat04', 'tmcat05', 'tmcat06', 'tmcat07'],\n",
              "      dtype='object')"
            ]
          },
          "metadata": {
            "tags": []
          },
          "execution_count": 15
        }
      ]
    },
    {
      "cell_type": "code",
      "metadata": {
        "id": "SFoNxpQIxR_n",
        "outputId": "1599462d-6a33-4dee-9228-71e62cfe505e",
        "colab": {
          "base_uri": "https://localhost:8080/",
          "height": 164
        }
      },
      "source": [
        "sns.displot(data=df_loads,x='totalloads')"
      ],
      "execution_count": 1,
      "outputs": [
        {
          "output_type": "error",
          "ename": "NameError",
          "evalue": "ignored",
          "traceback": [
            "\u001b[0;31m---------------------------------------------------------------------------\u001b[0m",
            "\u001b[0;31mNameError\u001b[0m                                 Traceback (most recent call last)",
            "\u001b[0;32m<ipython-input-1-8b1c83378701>\u001b[0m in \u001b[0;36m<module>\u001b[0;34m()\u001b[0m\n\u001b[0;32m----> 1\u001b[0;31m \u001b[0msns\u001b[0m\u001b[0;34m.\u001b[0m\u001b[0mdisplot\u001b[0m\u001b[0;34m(\u001b[0m\u001b[0mdata\u001b[0m\u001b[0;34m=\u001b[0m\u001b[0mdf_loads\u001b[0m\u001b[0;34m,\u001b[0m\u001b[0mx\u001b[0m\u001b[0;34m=\u001b[0m\u001b[0;34m'totalloads'\u001b[0m\u001b[0;34m)\u001b[0m\u001b[0;34m\u001b[0m\u001b[0;34m\u001b[0m\u001b[0m\n\u001b[0m",
            "\u001b[0;31mNameError\u001b[0m: name 'sns' is not defined"
          ]
        }
      ]
    },
    {
      "cell_type": "markdown",
      "metadata": {
        "id": "OkDYZbcNxJVt"
      },
      "source": [
        "#Tiempos (Data 2)"
      ]
    }
  ]
}