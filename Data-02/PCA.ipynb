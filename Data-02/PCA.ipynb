{
  "nbformat": 4,
  "nbformat_minor": 0,
  "metadata": {
    "colab": {
      "name": "PCA.ipynb",
      "provenance": [],
      "collapsed_sections": [],
      "authorship_tag": "ABX9TyMtyQhqvoe7CwTWDfus9OWL",
      "include_colab_link": true
    },
    "kernelspec": {
      "name": "python3",
      "display_name": "Python 3"
    }
  },
  "cells": [
    {
      "cell_type": "markdown",
      "metadata": {
        "id": "view-in-github",
        "colab_type": "text"
      },
      "source": [
        "<a href=\"https://colab.research.google.com/github/cml096/GoogleColabRepo/blob/master/PCA.ipynb\" target=\"_parent\"><img src=\"https://colab.research.google.com/assets/colab-badge.svg\" alt=\"Open In Colab\"/></a>"
      ]
    },
    {
      "cell_type": "code",
      "metadata": {
        "id": "Mld5lVRYvG-F"
      },
      "source": [
        "import pandas as pd\n",
        "df = pd.read_excel('OperTot - PowerView_ARCH1.xlsx')"
      ],
      "execution_count": 67,
      "outputs": []
    },
    {
      "cell_type": "code",
      "metadata": {
        "id": "Px87fxa6xLjd"
      },
      "source": [
        "list_drop = ['ID','shiftindex','crew#','unit#','tmcat08','tmcat09','tmcat10','tmcat11','tmcat12','tmcat13','tmcat14','tmcat15','tmcat16','tmcat17','tmcat18','tmcat19']\n",
        "df.drop(list_drop,axis=1,inplace=True)"
      ],
      "execution_count": 68,
      "outputs": []
    },
    {
      "cell_type": "code",
      "metadata": {
        "id": "DLVKwzeFx2AX"
      },
      "source": [
        "df['shift#'] = df['shift#'].astype(str)\n",
        "df.totaltons = df.totaltons.astype(int)"
      ],
      "execution_count": 69,
      "outputs": []
    },
    {
      "cell_type": "markdown",
      "metadata": {
        "id": "p9gS_tgUWEn1"
      },
      "source": [
        "Sacamos Columnas no numericas"
      ]
    },
    {
      "cell_type": "code",
      "metadata": {
        "id": "_O5g7SWWzjGl"
      },
      "source": [
        "list_drop = ['shiftdate','crew','eqmtid','locid','operid','pit','unit']\n",
        "df_numeric = df.drop(list_drop,axis=1)"
      ],
      "execution_count": 71,
      "outputs": []
    },
    {
      "cell_type": "markdown",
      "metadata": {
        "id": "bjKmLaOmWIRm"
      },
      "source": [
        "Dividimos la data en dos mustras\n"
      ]
    },
    {
      "cell_type": "code",
      "metadata": {
        "id": "azoS1-rsSyLP"
      },
      "source": [
        "df_numeric_loads = df[(df.unit == 'Camion') | (df.unit == 'Pala')]\n",
        "df_numeric_times = df[(df.unit == 'Aljibe') | (df.unit == 'Auxil') | (df.unit == 'Moto') | (df.unit == 'Perforadora') | (df.unit == 'Tractor')]"
      ],
      "execution_count": 74,
      "outputs": []
    },
    {
      "cell_type": "markdown",
      "metadata": {
        "id": "CRXYcKurWNS-"
      },
      "source": [
        "unit = Camion and Pala"
      ]
    },
    {
      "cell_type": "code",
      "metadata": {
        "id": "Zy2XJbxHUXQj",
        "outputId": "f47dcb90-1fea-4585-ce4a-efe796818cac",
        "colab": {
          "base_uri": "https://localhost:8080/",
          "height": 162
        }
      },
      "source": [
        "group = df_numeric_loads.groupby(['unit']).mean()\n",
        "pd.DataFrame(group)"
      ],
      "execution_count": 75,
      "outputs": [
        {
          "output_type": "execute_result",
          "data": {
            "text/html": [
              "<div>\n",
              "<style scoped>\n",
              "    .dataframe tbody tr th:only-of-type {\n",
              "        vertical-align: middle;\n",
              "    }\n",
              "\n",
              "    .dataframe tbody tr th {\n",
              "        vertical-align: top;\n",
              "    }\n",
              "\n",
              "    .dataframe thead th {\n",
              "        text-align: right;\n",
              "    }\n",
              "</style>\n",
              "<table border=\"1\" class=\"dataframe\">\n",
              "  <thead>\n",
              "    <tr style=\"text-align: right;\">\n",
              "      <th></th>\n",
              "      <th>start</th>\n",
              "      <th>logintime</th>\n",
              "      <th>totaltime</th>\n",
              "      <th>totalloads</th>\n",
              "      <th>totaltons</th>\n",
              "      <th>loadtime</th>\n",
              "      <th>idletime</th>\n",
              "      <th>spottime</th>\n",
              "      <th>loadcnt</th>\n",
              "      <th>tmcat00</th>\n",
              "      <th>tmcat01</th>\n",
              "      <th>tmcat02</th>\n",
              "      <th>tmcat03</th>\n",
              "      <th>tmcat04</th>\n",
              "      <th>tmcat05</th>\n",
              "      <th>tmcat06</th>\n",
              "      <th>tmcat07</th>\n",
              "    </tr>\n",
              "    <tr>\n",
              "      <th>unit</th>\n",
              "      <th></th>\n",
              "      <th></th>\n",
              "      <th></th>\n",
              "      <th></th>\n",
              "      <th></th>\n",
              "      <th></th>\n",
              "      <th></th>\n",
              "      <th></th>\n",
              "      <th></th>\n",
              "      <th></th>\n",
              "      <th></th>\n",
              "      <th></th>\n",
              "      <th></th>\n",
              "      <th></th>\n",
              "      <th></th>\n",
              "      <th></th>\n",
              "      <th></th>\n",
              "    </tr>\n",
              "  </thead>\n",
              "  <tbody>\n",
              "    <tr>\n",
              "      <th>Camion</th>\n",
              "      <td>7519.509440</td>\n",
              "      <td>5629.299231</td>\n",
              "      <td>21851.475822</td>\n",
              "      <td>4.842773</td>\n",
              "      <td>1116.057985</td>\n",
              "      <td>970.177685</td>\n",
              "      <td>566.206964</td>\n",
              "      <td>272.307496</td>\n",
              "      <td>4.842773</td>\n",
              "      <td>21851.475822</td>\n",
              "      <td>8411.557044</td>\n",
              "      <td>0.207197</td>\n",
              "      <td>430.369193</td>\n",
              "      <td>3749.310383</td>\n",
              "      <td>5953.508059</td>\n",
              "      <td>2474.425941</td>\n",
              "      <td>833.342029</td>\n",
              "    </tr>\n",
              "    <tr>\n",
              "      <th>Pala</th>\n",
              "      <td>8189.362178</td>\n",
              "      <td>7270.051548</td>\n",
              "      <td>21990.563857</td>\n",
              "      <td>10.075047</td>\n",
              "      <td>2322.016785</td>\n",
              "      <td>2018.003357</td>\n",
              "      <td>2620.770496</td>\n",
              "      <td>561.663409</td>\n",
              "      <td>10.075047</td>\n",
              "      <td>21990.563857</td>\n",
              "      <td>5202.382730</td>\n",
              "      <td>0.380530</td>\n",
              "      <td>659.149310</td>\n",
              "      <td>7504.098844</td>\n",
              "      <td>2608.651921</td>\n",
              "      <td>5120.305893</td>\n",
              "      <td>895.594629</td>\n",
              "    </tr>\n",
              "  </tbody>\n",
              "</table>\n",
              "</div>"
            ],
            "text/plain": [
              "              start    logintime  ...      tmcat06     tmcat07\n",
              "unit                              ...                         \n",
              "Camion  7519.509440  5629.299231  ...  2474.425941  833.342029\n",
              "Pala    8189.362178  7270.051548  ...  5120.305893  895.594629\n",
              "\n",
              "[2 rows x 17 columns]"
            ]
          },
          "metadata": {
            "tags": []
          },
          "execution_count": 75
        }
      ]
    },
    {
      "cell_type": "markdown",
      "metadata": {
        "id": "cvaca99yWYQU"
      },
      "source": [
        "data set loads == 0"
      ]
    },
    {
      "cell_type": "code",
      "metadata": {
        "id": "LoGxnQ6fV0Ef",
        "outputId": "15d66f8d-33ad-431f-95fc-96ad7aa79dc2",
        "colab": {
          "base_uri": "https://localhost:8080/",
          "height": 255
        }
      },
      "source": [
        "group = df_numeric_times.groupby(['unit']).sum()\n",
        "pd.DataFrame(group)"
      ],
      "execution_count": 76,
      "outputs": [
        {
          "output_type": "execute_result",
          "data": {
            "text/html": [
              "<div>\n",
              "<style scoped>\n",
              "    .dataframe tbody tr th:only-of-type {\n",
              "        vertical-align: middle;\n",
              "    }\n",
              "\n",
              "    .dataframe tbody tr th {\n",
              "        vertical-align: top;\n",
              "    }\n",
              "\n",
              "    .dataframe thead th {\n",
              "        text-align: right;\n",
              "    }\n",
              "</style>\n",
              "<table border=\"1\" class=\"dataframe\">\n",
              "  <thead>\n",
              "    <tr style=\"text-align: right;\">\n",
              "      <th></th>\n",
              "      <th>start</th>\n",
              "      <th>logintime</th>\n",
              "      <th>totaltime</th>\n",
              "      <th>totalloads</th>\n",
              "      <th>totaltons</th>\n",
              "      <th>loadtime</th>\n",
              "      <th>idletime</th>\n",
              "      <th>spottime</th>\n",
              "      <th>loadcnt</th>\n",
              "      <th>tmcat00</th>\n",
              "      <th>tmcat01</th>\n",
              "      <th>tmcat02</th>\n",
              "      <th>tmcat03</th>\n",
              "      <th>tmcat04</th>\n",
              "      <th>tmcat05</th>\n",
              "      <th>tmcat06</th>\n",
              "      <th>tmcat07</th>\n",
              "    </tr>\n",
              "    <tr>\n",
              "      <th>unit</th>\n",
              "      <th></th>\n",
              "      <th></th>\n",
              "      <th></th>\n",
              "      <th></th>\n",
              "      <th></th>\n",
              "      <th></th>\n",
              "      <th></th>\n",
              "      <th></th>\n",
              "      <th></th>\n",
              "      <th></th>\n",
              "      <th></th>\n",
              "      <th></th>\n",
              "      <th></th>\n",
              "      <th></th>\n",
              "      <th></th>\n",
              "      <th></th>\n",
              "      <th></th>\n",
              "    </tr>\n",
              "  </thead>\n",
              "  <tbody>\n",
              "    <tr>\n",
              "      <th>Aljibe</th>\n",
              "      <td>46281600</td>\n",
              "      <td>19166621</td>\n",
              "      <td>150301236</td>\n",
              "      <td>0</td>\n",
              "      <td>0</td>\n",
              "      <td>0</td>\n",
              "      <td>0</td>\n",
              "      <td>0</td>\n",
              "      <td>0</td>\n",
              "      <td>150301236</td>\n",
              "      <td>40094924</td>\n",
              "      <td>0</td>\n",
              "      <td>8570556</td>\n",
              "      <td>62532053</td>\n",
              "      <td>22917736</td>\n",
              "      <td>14632361</td>\n",
              "      <td>1553606</td>\n",
              "    </tr>\n",
              "    <tr>\n",
              "      <th>Auxil</th>\n",
              "      <td>6912000</td>\n",
              "      <td>339621</td>\n",
              "      <td>37575309</td>\n",
              "      <td>0</td>\n",
              "      <td>0</td>\n",
              "      <td>0</td>\n",
              "      <td>0</td>\n",
              "      <td>0</td>\n",
              "      <td>0</td>\n",
              "      <td>37575309</td>\n",
              "      <td>692374</td>\n",
              "      <td>0</td>\n",
              "      <td>151791</td>\n",
              "      <td>13316459</td>\n",
              "      <td>19220113</td>\n",
              "      <td>4194572</td>\n",
              "      <td>0</td>\n",
              "    </tr>\n",
              "    <tr>\n",
              "      <th>Moto</th>\n",
              "      <td>26942400</td>\n",
              "      <td>17179045</td>\n",
              "      <td>75150618</td>\n",
              "      <td>0</td>\n",
              "      <td>0</td>\n",
              "      <td>0</td>\n",
              "      <td>0</td>\n",
              "      <td>0</td>\n",
              "      <td>0</td>\n",
              "      <td>75150618</td>\n",
              "      <td>30432528</td>\n",
              "      <td>0</td>\n",
              "      <td>843633</td>\n",
              "      <td>9984214</td>\n",
              "      <td>25836590</td>\n",
              "      <td>4652780</td>\n",
              "      <td>3400873</td>\n",
              "    </tr>\n",
              "    <tr>\n",
              "      <th>Perforadora</th>\n",
              "      <td>111110400</td>\n",
              "      <td>106728314</td>\n",
              "      <td>255441345</td>\n",
              "      <td>0</td>\n",
              "      <td>0</td>\n",
              "      <td>0</td>\n",
              "      <td>0</td>\n",
              "      <td>0</td>\n",
              "      <td>0</td>\n",
              "      <td>255441345</td>\n",
              "      <td>60602775</td>\n",
              "      <td>10681</td>\n",
              "      <td>12082501</td>\n",
              "      <td>27420912</td>\n",
              "      <td>102176361</td>\n",
              "      <td>44610119</td>\n",
              "      <td>8537996</td>\n",
              "    </tr>\n",
              "    <tr>\n",
              "      <th>Tractor</th>\n",
              "      <td>117532800</td>\n",
              "      <td>58437316</td>\n",
              "      <td>369972981</td>\n",
              "      <td>0</td>\n",
              "      <td>0</td>\n",
              "      <td>0</td>\n",
              "      <td>0</td>\n",
              "      <td>0</td>\n",
              "      <td>0</td>\n",
              "      <td>369972981</td>\n",
              "      <td>155144421</td>\n",
              "      <td>0</td>\n",
              "      <td>5995213</td>\n",
              "      <td>37942621</td>\n",
              "      <td>102918537</td>\n",
              "      <td>56849809</td>\n",
              "      <td>11122380</td>\n",
              "    </tr>\n",
              "  </tbody>\n",
              "</table>\n",
              "</div>"
            ],
            "text/plain": [
              "                 start  logintime  totaltime  ...    tmcat05   tmcat06   tmcat07\n",
              "unit                                          ...                               \n",
              "Aljibe        46281600   19166621  150301236  ...   22917736  14632361   1553606\n",
              "Auxil          6912000     339621   37575309  ...   19220113   4194572         0\n",
              "Moto          26942400   17179045   75150618  ...   25836590   4652780   3400873\n",
              "Perforadora  111110400  106728314  255441345  ...  102176361  44610119   8537996\n",
              "Tractor      117532800   58437316  369972981  ...  102918537  56849809  11122380\n",
              "\n",
              "[5 rows x 17 columns]"
            ]
          },
          "metadata": {
            "tags": []
          },
          "execution_count": 76
        }
      ]
    },
    {
      "cell_type": "code",
      "metadata": {
        "id": "yEDruSwyYtkn",
        "outputId": "54011883-b931-43ee-fc4a-0b7bb6630e3e",
        "colab": {
          "base_uri": "https://localhost:8080/",
          "height": 102
        }
      },
      "source": [
        "list_drop = ['shiftdate','crew','eqmtid','locid','operid','pit','unit']\n",
        "df_numeric_loads.drop(list_drop,axis=1,inplace=True)\n",
        "df_numeric_times.drop(list_drop,axis=1,inplace=True)"
      ],
      "execution_count": 29,
      "outputs": [
        {
          "output_type": "stream",
          "text": [
            "/usr/local/lib/python3.6/dist-packages/pandas/core/frame.py:4169: SettingWithCopyWarning: \n",
            "A value is trying to be set on a copy of a slice from a DataFrame\n",
            "\n",
            "See the caveats in the documentation: https://pandas.pydata.org/pandas-docs/stable/user_guide/indexing.html#returning-a-view-versus-a-copy\n",
            "  errors=errors,\n"
          ],
          "name": "stderr"
        }
      ]
    },
    {
      "cell_type": "markdown",
      "metadata": {
        "id": "OsjflDZEWyV9"
      },
      "source": [
        "Drop columns whose mean is equals to 0 (?) "
      ]
    },
    {
      "cell_type": "code",
      "metadata": {
        "id": "B4ixRSKYAhql"
      },
      "source": [
        "list_drop = ['totalloads','totaltons','loadtime','idletime','spottime','loadcnt']\n",
        "#df_numeric_times = df_numeric_times.drop(list_drop,axis=1)"
      ],
      "execution_count": 107,
      "outputs": []
    },
    {
      "cell_type": "code",
      "metadata": {
        "id": "gEEaDFN3CDb-"
      },
      "source": [
        "#df_numeric_times.info()"
      ],
      "execution_count": null,
      "outputs": []
    },
    {
      "cell_type": "markdown",
      "metadata": {
        "id": "ILRHwKZ8Qnqi"
      },
      "source": [
        "#PCA"
      ]
    },
    {
      "cell_type": "markdown",
      "metadata": {
        "id": "kMjJegdT5qH7"
      },
      "source": [
        "Standar scaler"
      ]
    },
    {
      "cell_type": "code",
      "metadata": {
        "id": "e1WjL5cq1eQy"
      },
      "source": [
        "from sklearn.preprocessing import StandardScaler\n",
        "df_scaler_loads = StandardScaler().fit_transform(df_numeric_loads)\n",
        "df_scaler_times = StandardScaler().fit_transform(df_numeric_times)"
      ],
      "execution_count": 50,
      "outputs": []
    },
    {
      "cell_type": "markdown",
      "metadata": {
        "id": "XOHNgWPwiwtC"
      },
      "source": [
        "PCA - Loads"
      ]
    },
    {
      "cell_type": "code",
      "metadata": {
        "id": "hZnmnBNf0Ihe"
      },
      "source": [
        "from sklearn.decomposition import PCA\n",
        "pca = PCA(n_components=5)\n",
        "pca_scaler_loads = pca.fit_transform(df_scaler_loads)"
      ],
      "execution_count": 61,
      "outputs": []
    },
    {
      "cell_type": "markdown",
      "metadata": {
        "id": "yZx5_d_8X8T6"
      },
      "source": [
        "most important components in df_scaler_loads"
      ]
    },
    {
      "cell_type": "code",
      "metadata": {
        "id": "JC7LYJv81ttu"
      },
      "source": [
        "import numpy as np\n",
        "n_pcs= pca.components_.shape[0]\n",
        "most_important = [np.abs(pca.components_[i]).argmax() for i in range(n_pcs)]\n",
        "initial_feature_names = df_numeric_loads.columns.values.tolist()\n",
        "most_important_names_loads = [initial_feature_names[most_important[i]] for i in range(n_pcs)]"
      ],
      "execution_count": 62,
      "outputs": []
    },
    {
      "cell_type": "markdown",
      "metadata": {
        "id": "PVXwBflLi0zv"
      },
      "source": [
        "PCA - Times"
      ]
    },
    {
      "cell_type": "code",
      "metadata": {
        "id": "GD5ZqO8Hi6GL"
      },
      "source": [
        "pca_ = PCA(n_components=5)\n",
        "pca_scaler_times = pca_.fit_transform(df_scaler_times)"
      ],
      "execution_count": 63,
      "outputs": []
    },
    {
      "cell_type": "markdown",
      "metadata": {
        "id": "9Bn16iG2YFy2"
      },
      "source": [
        "most important components in df_scaler_times\n"
      ]
    },
    {
      "cell_type": "code",
      "metadata": {
        "id": "lpPpYHq1YHri"
      },
      "source": [
        "import numpy as np\n",
        "n_pcs= pca_.components_.shape[0]\n",
        "most_important = [np.abs(pca_.components_[i]).argmax() for i in range(n_pcs)]\n",
        "initial_feature_names = df_numeric_times.columns.values.tolist()\n",
        "most_important_names_times = [initial_feature_names[most_important[i]] for i in range(n_pcs)]"
      ],
      "execution_count": 64,
      "outputs": []
    },
    {
      "cell_type": "markdown",
      "metadata": {
        "id": "WqJNCzxQjDXy"
      },
      "source": [
        "Result:"
      ]
    },
    {
      "cell_type": "code",
      "metadata": {
        "id": "mqSzL4ZX5wwB",
        "outputId": "40744800-c5e8-4b4d-c7f6-368f90f13181",
        "colab": {
          "base_uri": "https://localhost:8080/",
          "height": 51
        }
      },
      "source": [
        "print(f'data con carga (Camion y Pala) = {most_important_names_loads}')\n",
        "print(f'data sin carga (resto) = {most_important_names_times}')"
      ],
      "execution_count": 65,
      "outputs": [
        {
          "output_type": "stream",
          "text": [
            "data con carga (Camion y Pala) = ['totalloads', 'totaltime', 'start', 'tmcat03', 'tmcat04']\n",
            "data sin carga (resto) = ['totaltime', 'start', 'tmcat01', 'tmcat04', 'tmcat06']\n"
          ],
          "name": "stdout"
        }
      ]
    },
    {
      "cell_type": "code",
      "metadata": {
        "id": "i8RNjqYe6BVh"
      },
      "source": [
        ""
      ],
      "execution_count": 114,
      "outputs": []
    }
  ]
}