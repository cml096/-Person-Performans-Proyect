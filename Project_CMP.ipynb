{
  "nbformat": 4,
  "nbformat_minor": 0,
  "metadata": {
    "colab": {
      "name": "Project_Cap.ipynb",
      "provenance": [],
      "toc_visible": true,
      "authorship_tag": "ABX9TyO7M8UieuPOLvKLjEIdyq27",
      "include_colab_link": true
    },
    "kernelspec": {
      "name": "python3",
      "display_name": "Python 3"
    }
  },
  "cells": [
    {
      "cell_type": "markdown",
      "metadata": {
        "id": "view-in-github",
        "colab_type": "text"
      },
      "source": [
        "<a href=\"https://colab.research.google.com/github/cml096/GoogleColabRepo/blob/master/Project_Cap.ipynb\" target=\"_parent\"><img src=\"https://colab.research.google.com/assets/colab-badge.svg\" alt=\"Open In Colab\"/></a>"
      ]
    },
    {
      "cell_type": "code",
      "metadata": {
        "id": "bfjRMmOi_4zY",
        "colab_type": "code",
        "colab": {}
      },
      "source": [
        "import pandas as pd\n",
        "import numpy as np\n",
        "import matplotlib.pyplot as plt\n",
        "import seaborn as sns; sns.set()"
      ],
      "execution_count": 230,
      "outputs": []
    },
    {
      "cell_type": "code",
      "metadata": {
        "id": "lOoAro9AAeYm",
        "colab_type": "code",
        "colab": {}
      },
      "source": [
        "df = pd.read_excel('Rendimiento CMP V2.xlsx', sheet_name='MinaMLC')"
      ],
      "execution_count": 231,
      "outputs": []
    },
    {
      "cell_type": "markdown",
      "metadata": {
        "id": "mnml7k7xDO3x",
        "colab_type": "text"
      },
      "source": [
        "#Preparando Data"
      ]
    },
    {
      "cell_type": "markdown",
      "metadata": {
        "id": "Ydy1pKXbJENh",
        "colab_type": "text"
      },
      "source": [
        "##Filtro"
      ]
    },
    {
      "cell_type": "code",
      "metadata": {
        "id": "oeqeTKI6An_b",
        "colab_type": "code",
        "colab": {}
      },
      "source": [
        "df_ = df[df['División de personal'] == 'CMP VALLE DEL HUASCO']"
      ],
      "execution_count": 232,
      "outputs": []
    },
    {
      "cell_type": "code",
      "metadata": {
        "id": "JMYxllHkAyZm",
        "colab_type": "code",
        "colab": {}
      },
      "source": [
        "df_test_minera_colorado = df_[df_['Subdivisión de personal'] == 'MINA LOS COLORA']"
      ],
      "execution_count": 233,
      "outputs": []
    },
    {
      "cell_type": "markdown",
      "metadata": {
        "id": "ZobQtfMTCTA4",
        "colab_type": "text"
      },
      "source": [
        "##Variables no utilizables"
      ]
    },
    {
      "cell_type": "code",
      "metadata": {
        "id": "MdJOzeeLORIi",
        "colab_type": "code",
        "colab": {}
      },
      "source": [
        "df_ = df_test_minera_colorado"
      ],
      "execution_count": 234,
      "outputs": []
    },
    {
      "cell_type": "code",
      "metadata": {
        "id": "so1DVpxDCYMj",
        "colab_type": "code",
        "colab": {}
      },
      "source": [
        "filtro = ['R-ef (t/h)',\n",
        "          'División de personal',\n",
        "          'Cod. División',\n",
        "          'Subdivisión de personal',\n",
        "          'Cod. Subdivisión',\n",
        "          'Cod. Unidad',\n",
        "          'Cod. Posición',\n",
        "          'Fecha de nacimiento',\n",
        "          'Grupo de personal']"
      ],
      "execution_count": 235,
      "outputs": []
    },
    {
      "cell_type": "code",
      "metadata": {
        "id": "9MTspI-pA8t9",
        "colab_type": "code",
        "colab": {}
      },
      "source": [
        "df_.drop(filtro,axis=1,inplace=True)"
      ],
      "execution_count": 236,
      "outputs": []
    },
    {
      "cell_type": "markdown",
      "metadata": {
        "id": "lCD_A-nDJK7d",
        "colab_type": "text"
      },
      "source": [
        "##Divición \"Fecha\""
      ]
    },
    {
      "cell_type": "markdown",
      "metadata": {
        "id": "pP9hln0KEVHu",
        "colab_type": "text"
      },
      "source": [
        "Cambiamos nombre columna \"Dia\" por \"Fecha\""
      ]
    },
    {
      "cell_type": "code",
      "metadata": {
        "id": "Puep8M1IEaKo",
        "colab_type": "code",
        "colab": {}
      },
      "source": [
        "df_ = df_.rename(columns={'Dia':'Fecha'})"
      ],
      "execution_count": 237,
      "outputs": []
    },
    {
      "cell_type": "markdown",
      "metadata": {
        "id": "IUN9cem0DtGN",
        "colab_type": "text"
      },
      "source": [
        "Divición de la variable \"Fecha\""
      ]
    },
    {
      "cell_type": "code",
      "metadata": {
        "id": "QK1n8qAzDoIF",
        "colab_type": "code",
        "colab": {}
      },
      "source": [
        "def dia(fecha):\n",
        "  aux = str(fecha.date()).split('-')\n",
        "  dia = str(aux[2])\n",
        "  return dia\n",
        "\n",
        "def mes(fecha):\n",
        "  aux = str(fecha.date()).split('-')\n",
        "  mes = str(aux[1])\n",
        "  return mes\n",
        "\n",
        "def ano(fecha):\n",
        "  aux = str(fecha.date()).split('-')\n",
        "  ano = str(aux[0])\n",
        "  return ano"
      ],
      "execution_count": 238,
      "outputs": []
    },
    {
      "cell_type": "markdown",
      "metadata": {
        "id": "kVJvroYrD5am",
        "colab_type": "text"
      },
      "source": [
        "Anexamos columna \"Dia\", \"Mes\" y \"Año\""
      ]
    },
    {
      "cell_type": "code",
      "metadata": {
        "id": "OMbw02jQD4lX",
        "colab_type": "code",
        "colab": {}
      },
      "source": [
        "df_['Dia'] = df_.apply(lambda row : dia(row['Fecha']),axis=1)\n",
        "df_['Mes'] = df_.apply(lambda row : mes(row['Fecha']),axis=1)\n",
        "df_['Año'] = df_.apply(lambda row : ano(row['Fecha']),axis=1)"
      ],
      "execution_count": 239,
      "outputs": []
    },
    {
      "cell_type": "markdown",
      "metadata": {
        "id": "qms9V5O-U-FM",
        "colab_type": "text"
      },
      "source": [
        "##Columna \"Turno\", \"Equipo\", \"Número de personal\", \"Fecha de alta\" y \"Fecha\""
      ]
    },
    {
      "cell_type": "code",
      "metadata": {
        "id": "wQu9QYGlVD93",
        "colab_type": "code",
        "colab": {}
      },
      "source": [
        "df_['Turno'] = df_['Turno'].astype(str)"
      ],
      "execution_count": 240,
      "outputs": []
    },
    {
      "cell_type": "code",
      "metadata": {
        "id": "kXh7pxcjZHxY",
        "colab_type": "code",
        "colab": {}
      },
      "source": [
        "df_['Equipo'] = df_['Equipo'].astype(str)"
      ],
      "execution_count": 241,
      "outputs": []
    },
    {
      "cell_type": "code",
      "metadata": {
        "id": "PtR8tcjWFWXW",
        "colab_type": "code",
        "colab": {}
      },
      "source": [
        "df_['Número de personal'] = df_['Número de personal'].astype(str)"
      ],
      "execution_count": 242,
      "outputs": []
    },
    {
      "cell_type": "code",
      "metadata": {
        "id": "24fsG0PbGlGi",
        "colab_type": "code",
        "colab": {}
      },
      "source": [
        "df_['Fecha'] = df_['Fecha'].astype(str)"
      ],
      "execution_count": 243,
      "outputs": []
    },
    {
      "cell_type": "code",
      "metadata": {
        "id": "p3FYLBOr9NPi",
        "colab_type": "code",
        "colab": {}
      },
      "source": [
        "df_['Fecha de alta'] = df_['Fecha de alta'].astype(str)"
      ],
      "execution_count": 244,
      "outputs": []
    },
    {
      "cell_type": "markdown",
      "metadata": {
        "id": "b-1ZWp5rJQMU",
        "colab_type": "text"
      },
      "source": [
        "## \"Eficiencia\""
      ]
    },
    {
      "cell_type": "markdown",
      "metadata": {
        "id": "riFjrzkBqOSq",
        "colab_type": "text"
      },
      "source": [
        "Esta eficiencia se ocupara para gráficas e análisis del comportamiento de dicha variables para sacar estimados que nos ayudaran a calcular la próxima variable"
      ]
    },
    {
      "cell_type": "code",
      "metadata": {
        "id": "VPnDWwfLW4WC",
        "colab_type": "code",
        "colab": {}
      },
      "source": [
        "filtro = ['Unidad organizativa','tefe (seg)']\n",
        "df_aux = df_[filtro]"
      ],
      "execution_count": 245,
      "outputs": []
    },
    {
      "cell_type": "markdown",
      "metadata": {
        "id": "Gez3gzN3Jiw8",
        "colab_type": "text"
      },
      "source": [
        "Agrupamos por \"unidad organizativa\" y lo almacenamos en un data frame"
      ]
    },
    {
      "cell_type": "code",
      "metadata": {
        "id": "A4beub7RCKxv",
        "colab_type": "code",
        "colab": {}
      },
      "source": [
        "group = df_aux.groupby(['Unidad organizativa']).max()\n",
        "df_group = pd.DataFrame(group)"
      ],
      "execution_count": 246,
      "outputs": []
    },
    {
      "cell_type": "code",
      "metadata": {
        "id": "FKGDm6mCaeRC",
        "colab_type": "code",
        "colab": {}
      },
      "source": [
        "#df_group"
      ],
      "execution_count": 247,
      "outputs": []
    },
    {
      "cell_type": "markdown",
      "metadata": {
        "id": "0L2OQju5Jlpy",
        "colab_type": "text"
      },
      "source": [
        "Creamos un array que contiene las tefe max de cada Unidad organizativa"
      ]
    },
    {
      "cell_type": "code",
      "metadata": {
        "id": "2OU0K21gRa-9",
        "colab_type": "code",
        "colab": {}
      },
      "source": [
        "def genera(data,filto):\n",
        "  lista = []\n",
        "  for index, row in data.iterrows():\n",
        "    valor = row[filtro]\n",
        "    lista.append([index,valor])\n",
        "  return lista"
      ],
      "execution_count": 248,
      "outputs": []
    },
    {
      "cell_type": "code",
      "metadata": {
        "id": "d41Yi2QDHQTQ",
        "colab_type": "code",
        "colab": {}
      },
      "source": [
        "filtro = ['tefe (seg)']\n",
        "max_por_unidad = genera(df_group,filtro)"
      ],
      "execution_count": 249,
      "outputs": []
    },
    {
      "cell_type": "markdown",
      "metadata": {
        "id": "GZH-_ZQCJx7q",
        "colab_type": "text"
      },
      "source": [
        "Agregamos la columna \"Eficiencia\" que generaremos con la fórmula\n",
        "* (valor x c/a tupla)*100/valor_max = porcentaje de eficiencia en dicho día"
      ]
    },
    {
      "cell_type": "code",
      "metadata": {
        "id": "lwB2VZxESM05",
        "colab_type": "code",
        "colab": {}
      },
      "source": [
        "def rellena(data,lista,filtro):\n",
        "  aux = []\n",
        "  for index, row in data.iterrows():\n",
        "    unidad = row['Unidad organizativa']\n",
        "    valor = row[filtro]\n",
        "    for unidad_max,valor_max in lista:\n",
        "      if unidad == unidad_max:\n",
        "        if float(valor_max.values) == 0:\n",
        "          aux.append(0.0)\n",
        "        else:\n",
        "          resultado = (valor)/valor_max\n",
        "          aux.append(float(resultado.values))\n",
        "  return aux"
      ],
      "execution_count": 250,
      "outputs": []
    },
    {
      "cell_type": "code",
      "metadata": {
        "id": "PsM0ane-HC2A",
        "colab_type": "code",
        "colab": {}
      },
      "source": [
        "eficiencia = rellena(df_,max_por_unidad,filtro)"
      ],
      "execution_count": 251,
      "outputs": []
    },
    {
      "cell_type": "markdown",
      "metadata": {
        "id": "xN29jN0HJ24C",
        "colab_type": "text"
      },
      "source": [
        "Le agregamos una columna al data frame"
      ]
    },
    {
      "cell_type": "code",
      "metadata": {
        "id": "MHsQH7VSHEvV",
        "colab_type": "code",
        "colab": {}
      },
      "source": [
        "df_['Eficiencia'] = eficiencia"
      ],
      "execution_count": 252,
      "outputs": []
    },
    {
      "cell_type": "markdown",
      "metadata": {
        "id": "q8kaHf9QL9Tw",
        "colab_type": "text"
      },
      "source": [
        "### \"Eficiencia (bin)\""
      ]
    },
    {
      "cell_type": "markdown",
      "metadata": {
        "id": "LrQR8VgsqpqT",
        "colab_type": "text"
      },
      "source": [
        "Variable que será asignada al campo y, variable a predecir"
      ]
    },
    {
      "cell_type": "code",
      "metadata": {
        "id": "4vZcw2hopCdm",
        "colab_type": "code",
        "colab": {}
      },
      "source": [
        "group = df_aux.groupby(['Unidad organizativa']).median()\n",
        "df_group = pd.DataFrame(group)"
      ],
      "execution_count": 253,
      "outputs": []
    },
    {
      "cell_type": "code",
      "metadata": {
        "id": "hSHL8ErDAGht",
        "colab_type": "code",
        "colab": {
          "base_uri": "https://localhost:8080/",
          "height": 51
        },
        "outputId": "712568ad-d5bc-4e34-ea1e-5ecf2fe8de3e"
      },
      "source": [
        "df_group.mean()/3600"
      ],
      "execution_count": 254,
      "outputs": [
        {
          "output_type": "execute_result",
          "data": {
            "text/plain": [
              "tefe (seg)    5.769231\n",
              "dtype: float64"
            ]
          },
          "metadata": {
            "tags": []
          },
          "execution_count": 254
        }
      ]
    },
    {
      "cell_type": "code",
      "metadata": {
        "id": "TkuwM2RupC6w",
        "colab_type": "code",
        "colab": {}
      },
      "source": [
        "media_por_unidad = genera(df_group,filtro)"
      ],
      "execution_count": 255,
      "outputs": []
    },
    {
      "cell_type": "markdown",
      "metadata": {
        "id": "fZMZWbL-ICtW",
        "colab_type": "text"
      },
      "source": [
        "Generaremos una función la cual será la encargada de rellenar un arreglo de 1 y 0 el cual lo retornara, acá compararemos cada tefe (seg) en x unidad organizativa con la mediana tefe (seg) pro cada unidad sacada anteriormente."
      ]
    },
    {
      "cell_type": "code",
      "metadata": {
        "id": "QJx9wUVZS5_m",
        "colab_type": "code",
        "colab": {}
      },
      "source": [
        "def rellena_binaria(data,lista,filtro):\n",
        "  aux = []\n",
        "  for index, row in data.iterrows():\n",
        "    unidad = row['Unidad organizativa']\n",
        "    valor = row[filtro].values\n",
        "    for unidad_median,valor_median in lista:\n",
        "      valor_median = valor_median.values\n",
        "      if unidad == unidad_median:\n",
        "        if valor >= valor_median:\n",
        "          aux.append(1)\n",
        "        elif valor < valor_median:\n",
        "          aux.append(0)\n",
        "  return aux"
      ],
      "execution_count": 256,
      "outputs": []
    },
    {
      "cell_type": "markdown",
      "metadata": {
        "id": "is8CpQ4BDTZO",
        "colab_type": "text"
      },
      "source": [
        "Llamos a la variable rellen_binaria() que nos retornara un arreglo con 1 y 0:\n",
        "\n",
        "*   1 si la tefe de la tupla es >= 6,16 horas aprox\n",
        "*   0 si la tefe de la tupla es < 6,16 horas aprox\n",
        "\n"
      ]
    },
    {
      "cell_type": "code",
      "metadata": {
        "id": "j4eZdXp6TX5v",
        "colab_type": "code",
        "colab": {}
      },
      "source": [
        "eficiencia_binaria = rellena_binaria(df_,media_por_unidad,filtro)"
      ],
      "execution_count": 257,
      "outputs": []
    },
    {
      "cell_type": "markdown",
      "metadata": {
        "id": "Pj0lH_jlDzIY",
        "colab_type": "text"
      },
      "source": [
        "Agreamos el arrglo a la data"
      ]
    },
    {
      "cell_type": "code",
      "metadata": {
        "id": "kRHAppHITnfb",
        "colab_type": "code",
        "colab": {}
      },
      "source": [
        "df_['Eficiencia (bin)'] = eficiencia_binaria"
      ],
      "execution_count": 258,
      "outputs": []
    },
    {
      "cell_type": "markdown",
      "metadata": {
        "id": "5bL3myvIJAcR",
        "colab_type": "text"
      },
      "source": [
        "##\"Demora\""
      ]
    },
    {
      "cell_type": "code",
      "metadata": {
        "id": "x4QnFICgKa55",
        "colab_type": "code",
        "colab": {}
      },
      "source": [
        "filtro = ['Unidad organizativa','tdem (seg)']\n",
        "df_aux = df_[filtro]"
      ],
      "execution_count": 259,
      "outputs": []
    },
    {
      "cell_type": "markdown",
      "metadata": {
        "id": "agHX9d0uMJtZ",
        "colab_type": "text"
      },
      "source": [
        "agrupamos por unidad organizativa y calculamos la maxima tdem (seg)"
      ]
    },
    {
      "cell_type": "code",
      "metadata": {
        "id": "lCuCDeWbL4Mc",
        "colab_type": "code",
        "colab": {}
      },
      "source": [
        "group = df_aux.groupby(['Unidad organizativa']).max()\n",
        "df_group = pd.DataFrame(group)"
      ],
      "execution_count": 260,
      "outputs": []
    },
    {
      "cell_type": "code",
      "metadata": {
        "id": "VCaz9AKWbBdT",
        "colab_type": "code",
        "colab": {}
      },
      "source": [
        "#df_group"
      ],
      "execution_count": 261,
      "outputs": []
    },
    {
      "cell_type": "markdown",
      "metadata": {
        "id": "NN_zqc_f-NNj",
        "colab_type": "text"
      },
      "source": [
        "Generamos un array que tenga la Unidad y su tdem maxima"
      ]
    },
    {
      "cell_type": "code",
      "metadata": {
        "id": "d7YL9T8RKh6d",
        "colab_type": "code",
        "colab": {}
      },
      "source": [
        "filtro = ['tdem (seg)']\n",
        "max_por_unidad = genera(df_group,filtro)"
      ],
      "execution_count": 262,
      "outputs": []
    },
    {
      "cell_type": "markdown",
      "metadata": {
        "id": "Ud1bBRMH-Tor",
        "colab_type": "text"
      },
      "source": [
        "Funcion rellena se encarga de ir comparando por unidad organizativa y ir sacando un porcentaje tomando como referencia la tdem maxima ingresada en el array"
      ]
    },
    {
      "cell_type": "code",
      "metadata": {
        "id": "Uxz5b9lyMZKm",
        "colab_type": "code",
        "colab": {}
      },
      "source": [
        "demora = rellena(df_,max_por_unidad,filtro)"
      ],
      "execution_count": 263,
      "outputs": []
    },
    {
      "cell_type": "markdown",
      "metadata": {
        "id": "G0_C80X8EXho",
        "colab_type": "text"
      },
      "source": [
        "Agregamos el arreglo a la data"
      ]
    },
    {
      "cell_type": "code",
      "metadata": {
        "id": "mKN9OjzgMVbf",
        "colab_type": "code",
        "colab": {}
      },
      "source": [
        "df_['Demora'] = demora"
      ],
      "execution_count": 264,
      "outputs": []
    },
    {
      "cell_type": "markdown",
      "metadata": {
        "id": "zme3dvCuXYaI",
        "colab_type": "text"
      },
      "source": [
        "###\"Demora (bin)\""
      ]
    },
    {
      "cell_type": "code",
      "metadata": {
        "id": "L3Sm-S4tsnqC",
        "colab_type": "code",
        "colab": {}
      },
      "source": [
        "group = df_aux.groupby(['Unidad organizativa']).median()\n",
        "df_group = pd.DataFrame(group)"
      ],
      "execution_count": 265,
      "outputs": []
    },
    {
      "cell_type": "code",
      "metadata": {
        "id": "9nD3gqBD_Nyk",
        "colab_type": "code",
        "colab": {
          "base_uri": "https://localhost:8080/",
          "height": 51
        },
        "outputId": "efbbf58d-e6a7-4ab5-fcd5-8e45a1bc95e1"
      },
      "source": [
        "df_group.mean()/60"
      ],
      "execution_count": 266,
      "outputs": [
        {
          "output_type": "execute_result",
          "data": {
            "text/plain": [
              "tdem (seg)    25.643889\n",
              "dtype: float64"
            ]
          },
          "metadata": {
            "tags": []
          },
          "execution_count": 266
        }
      ]
    },
    {
      "cell_type": "code",
      "metadata": {
        "id": "W5XS1iGYsnUh",
        "colab_type": "code",
        "colab": {}
      },
      "source": [
        "media_por_unidad = genera(df_group,filtro)"
      ],
      "execution_count": 267,
      "outputs": []
    },
    {
      "cell_type": "markdown",
      "metadata": {
        "id": "cMeNBSpccIa6",
        "colab_type": "text"
      },
      "source": [
        "Llamamos a la función rellena_binaria() que nos retornara un array relleno de 1 y 0.\n",
        "\n",
        "\n",
        "*   1 si la tdem de la tupla es >= a 26.04 min aprox\n",
        "*   0 si la tdem de la tupla es < a 26.04 min aprox\n",
        "\n"
      ]
    },
    {
      "cell_type": "code",
      "metadata": {
        "id": "2uwsU-8kXdxH",
        "colab_type": "code",
        "colab": {}
      },
      "source": [
        "demora_binaria = rellena_binaria(df_,media_por_unidad,filtro)"
      ],
      "execution_count": 268,
      "outputs": []
    },
    {
      "cell_type": "markdown",
      "metadata": {
        "id": "EP-9CfadEtxX",
        "colab_type": "text"
      },
      "source": [
        "Agregamos el arreglo a la data"
      ]
    },
    {
      "cell_type": "code",
      "metadata": {
        "id": "VXUAqMlzbzxx",
        "colab_type": "code",
        "colab": {}
      },
      "source": [
        "df_['Demora (bin)'] = demora_binaria"
      ],
      "execution_count": 269,
      "outputs": []
    },
    {
      "cell_type": "markdown",
      "metadata": {
        "id": "-xDzyWKIm7Ak",
        "colab_type": "text"
      },
      "source": [
        "##Estandarizar"
      ]
    },
    {
      "cell_type": "code",
      "metadata": {
        "id": "wJucXSmbt6S1",
        "colab_type": "code",
        "colab": {}
      },
      "source": [
        "from sklearn.preprocessing import StandardScaler"
      ],
      "execution_count": 270,
      "outputs": []
    },
    {
      "cell_type": "code",
      "metadata": {
        "id": "uUcbriIDnATQ",
        "colab_type": "code",
        "colab": {}
      },
      "source": [
        "filtro = ['Cargas (u)','Movimiento (t)','Edad del empleado','tefe (seg)','tdem (seg)']\n",
        "aux = df_[filtro]\n",
        "scaled = pd.DataFrame(StandardScaler().fit_transform(aux), columns= aux.columns)"
      ],
      "execution_count": 271,
      "outputs": []
    },
    {
      "cell_type": "code",
      "metadata": {
        "id": "kLQr8u6v39Gf",
        "colab_type": "code",
        "colab": {}
      },
      "source": [
        "aux = df_.drop(filtro,axis=1)\n",
        "\n",
        "scaled.reset_index(drop=True, inplace=True)\n",
        "aux.reset_index(drop=True, inplace=True)\n",
        "\n",
        "df_scaled = pd.concat([aux,scaled],axis=1)"
      ],
      "execution_count": 272,
      "outputs": []
    },
    {
      "cell_type": "markdown",
      "metadata": {
        "id": "rY2w9jZ0aot_",
        "colab_type": "text"
      },
      "source": [
        "##Data a ocupar"
      ]
    },
    {
      "cell_type": "code",
      "metadata": {
        "id": "zvu0cobYatY1",
        "colab_type": "code",
        "colab": {
          "base_uri": "https://localhost:8080/",
          "height": 476
        },
        "outputId": "ea93cca4-db44-416b-9fb3-f5e32f7789c6"
      },
      "source": [
        "df_scaled.info()"
      ],
      "execution_count": 273,
      "outputs": [
        {
          "output_type": "stream",
          "text": [
            "<class 'pandas.core.frame.DataFrame'>\n",
            "RangeIndex: 1825 entries, 0 to 1824\n",
            "Data columns (total 20 columns):\n",
            " #   Column                                    Non-Null Count  Dtype  \n",
            "---  ------                                    --------------  -----  \n",
            " 0   Fecha                                     1825 non-null   object \n",
            " 1   Turno                                     1825 non-null   object \n",
            " 2   Equipo                                    1825 non-null   object \n",
            " 3   Número de personal                        1825 non-null   object \n",
            " 4   Unidad organizativa                       1825 non-null   object \n",
            " 5   Posición                                  1825 non-null   object \n",
            " 6   Fecha de alta                             1825 non-null   object \n",
            " 7   Status empleado para Gestión tiempos per  1825 non-null   object \n",
            " 8   Dia                                       1825 non-null   object \n",
            " 9   Mes                                       1825 non-null   object \n",
            " 10  Año                                       1825 non-null   object \n",
            " 11  Eficiencia                                1825 non-null   float64\n",
            " 12  Eficiencia (bin)                          1825 non-null   int64  \n",
            " 13  Demora                                    1825 non-null   float64\n",
            " 14  Demora (bin)                              1825 non-null   int64  \n",
            " 15  Cargas (u)                                1825 non-null   float64\n",
            " 16  Movimiento (t)                            1825 non-null   float64\n",
            " 17  Edad del empleado                         1825 non-null   float64\n",
            " 18  tefe (seg)                                1825 non-null   float64\n",
            " 19  tdem (seg)                                1825 non-null   float64\n",
            "dtypes: float64(7), int64(2), object(11)\n",
            "memory usage: 285.3+ KB\n"
          ],
          "name": "stdout"
        }
      ]
    },
    {
      "cell_type": "code",
      "metadata": {
        "id": "M_sELg8kr4GY",
        "colab_type": "code",
        "colab": {
          "base_uri": "https://localhost:8080/",
          "height": 362
        },
        "outputId": "090239aa-9115-4388-f717-2d71a1c5882f"
      },
      "source": [
        "df_scaled.corr()"
      ],
      "execution_count": 274,
      "outputs": [
        {
          "output_type": "execute_result",
          "data": {
            "text/html": [
              "<div>\n",
              "<style scoped>\n",
              "    .dataframe tbody tr th:only-of-type {\n",
              "        vertical-align: middle;\n",
              "    }\n",
              "\n",
              "    .dataframe tbody tr th {\n",
              "        vertical-align: top;\n",
              "    }\n",
              "\n",
              "    .dataframe thead th {\n",
              "        text-align: right;\n",
              "    }\n",
              "</style>\n",
              "<table border=\"1\" class=\"dataframe\">\n",
              "  <thead>\n",
              "    <tr style=\"text-align: right;\">\n",
              "      <th></th>\n",
              "      <th>Eficiencia</th>\n",
              "      <th>Eficiencia (bin)</th>\n",
              "      <th>Demora</th>\n",
              "      <th>Demora (bin)</th>\n",
              "      <th>Cargas (u)</th>\n",
              "      <th>Movimiento (t)</th>\n",
              "      <th>Edad del empleado</th>\n",
              "      <th>tefe (seg)</th>\n",
              "      <th>tdem (seg)</th>\n",
              "    </tr>\n",
              "  </thead>\n",
              "  <tbody>\n",
              "    <tr>\n",
              "      <th>Eficiencia</th>\n",
              "      <td>1.000000</td>\n",
              "      <td>0.852115</td>\n",
              "      <td>0.359725</td>\n",
              "      <td>0.435001</td>\n",
              "      <td>0.839772</td>\n",
              "      <td>0.836531</td>\n",
              "      <td>0.018236</td>\n",
              "      <td>0.989911</td>\n",
              "      <td>0.355801</td>\n",
              "    </tr>\n",
              "    <tr>\n",
              "      <th>Eficiencia (bin)</th>\n",
              "      <td>0.852115</td>\n",
              "      <td>1.000000</td>\n",
              "      <td>0.332332</td>\n",
              "      <td>0.402726</td>\n",
              "      <td>0.718551</td>\n",
              "      <td>0.716090</td>\n",
              "      <td>0.034953</td>\n",
              "      <td>0.852287</td>\n",
              "      <td>0.337132</td>\n",
              "    </tr>\n",
              "    <tr>\n",
              "      <th>Demora</th>\n",
              "      <td>0.359725</td>\n",
              "      <td>0.332332</td>\n",
              "      <td>1.000000</td>\n",
              "      <td>0.641177</td>\n",
              "      <td>0.262900</td>\n",
              "      <td>0.259030</td>\n",
              "      <td>0.014580</td>\n",
              "      <td>0.341535</td>\n",
              "      <td>0.917966</td>\n",
              "    </tr>\n",
              "    <tr>\n",
              "      <th>Demora (bin)</th>\n",
              "      <td>0.435001</td>\n",
              "      <td>0.402726</td>\n",
              "      <td>0.641177</td>\n",
              "      <td>1.000000</td>\n",
              "      <td>0.354970</td>\n",
              "      <td>0.351297</td>\n",
              "      <td>0.022056</td>\n",
              "      <td>0.431415</td>\n",
              "      <td>0.661347</td>\n",
              "    </tr>\n",
              "    <tr>\n",
              "      <th>Cargas (u)</th>\n",
              "      <td>0.839772</td>\n",
              "      <td>0.718551</td>\n",
              "      <td>0.262900</td>\n",
              "      <td>0.354970</td>\n",
              "      <td>1.000000</td>\n",
              "      <td>0.998852</td>\n",
              "      <td>-0.133268</td>\n",
              "      <td>0.843994</td>\n",
              "      <td>0.276562</td>\n",
              "    </tr>\n",
              "    <tr>\n",
              "      <th>Movimiento (t)</th>\n",
              "      <td>0.836531</td>\n",
              "      <td>0.716090</td>\n",
              "      <td>0.259030</td>\n",
              "      <td>0.351297</td>\n",
              "      <td>0.998852</td>\n",
              "      <td>1.000000</td>\n",
              "      <td>-0.134124</td>\n",
              "      <td>0.841990</td>\n",
              "      <td>0.270693</td>\n",
              "    </tr>\n",
              "    <tr>\n",
              "      <th>Edad del empleado</th>\n",
              "      <td>0.018236</td>\n",
              "      <td>0.034953</td>\n",
              "      <td>0.014580</td>\n",
              "      <td>0.022056</td>\n",
              "      <td>-0.133268</td>\n",
              "      <td>-0.134124</td>\n",
              "      <td>1.000000</td>\n",
              "      <td>0.043733</td>\n",
              "      <td>0.014747</td>\n",
              "    </tr>\n",
              "    <tr>\n",
              "      <th>tefe (seg)</th>\n",
              "      <td>0.989911</td>\n",
              "      <td>0.852287</td>\n",
              "      <td>0.341535</td>\n",
              "      <td>0.431415</td>\n",
              "      <td>0.843994</td>\n",
              "      <td>0.841990</td>\n",
              "      <td>0.043733</td>\n",
              "      <td>1.000000</td>\n",
              "      <td>0.338067</td>\n",
              "    </tr>\n",
              "    <tr>\n",
              "      <th>tdem (seg)</th>\n",
              "      <td>0.355801</td>\n",
              "      <td>0.337132</td>\n",
              "      <td>0.917966</td>\n",
              "      <td>0.661347</td>\n",
              "      <td>0.276562</td>\n",
              "      <td>0.270693</td>\n",
              "      <td>0.014747</td>\n",
              "      <td>0.338067</td>\n",
              "      <td>1.000000</td>\n",
              "    </tr>\n",
              "  </tbody>\n",
              "</table>\n",
              "</div>"
            ],
            "text/plain": [
              "                   Eficiencia  Eficiencia (bin)  ...  tefe (seg)  tdem (seg)\n",
              "Eficiencia           1.000000          0.852115  ...    0.989911    0.355801\n",
              "Eficiencia (bin)     0.852115          1.000000  ...    0.852287    0.337132\n",
              "Demora               0.359725          0.332332  ...    0.341535    0.917966\n",
              "Demora (bin)         0.435001          0.402726  ...    0.431415    0.661347\n",
              "Cargas (u)           0.839772          0.718551  ...    0.843994    0.276562\n",
              "Movimiento (t)       0.836531          0.716090  ...    0.841990    0.270693\n",
              "Edad del empleado    0.018236          0.034953  ...    0.043733    0.014747\n",
              "tefe (seg)           0.989911          0.852287  ...    1.000000    0.338067\n",
              "tdem (seg)           0.355801          0.337132  ...    0.338067    1.000000\n",
              "\n",
              "[9 rows x 9 columns]"
            ]
          },
          "metadata": {
            "tags": []
          },
          "execution_count": 274
        }
      ]
    },
    {
      "cell_type": "code",
      "metadata": {
        "id": "moyMI-nGrhzf",
        "colab_type": "code",
        "colab": {
          "base_uri": "https://localhost:8080/",
          "height": 365
        },
        "outputId": "4f4b1f26-baea-4202-e722-cf5b102dfa91"
      },
      "source": [
        "df_scaled.describe()"
      ],
      "execution_count": 275,
      "outputs": [
        {
          "output_type": "execute_result",
          "data": {
            "text/html": [
              "<div>\n",
              "<style scoped>\n",
              "    .dataframe tbody tr th:only-of-type {\n",
              "        vertical-align: middle;\n",
              "    }\n",
              "\n",
              "    .dataframe tbody tr th {\n",
              "        vertical-align: top;\n",
              "    }\n",
              "\n",
              "    .dataframe thead th {\n",
              "        text-align: right;\n",
              "    }\n",
              "</style>\n",
              "<table border=\"1\" class=\"dataframe\">\n",
              "  <thead>\n",
              "    <tr style=\"text-align: right;\">\n",
              "      <th></th>\n",
              "      <th>Eficiencia</th>\n",
              "      <th>Eficiencia (bin)</th>\n",
              "      <th>Demora</th>\n",
              "      <th>Demora (bin)</th>\n",
              "      <th>Cargas (u)</th>\n",
              "      <th>Movimiento (t)</th>\n",
              "      <th>Edad del empleado</th>\n",
              "      <th>tefe (seg)</th>\n",
              "      <th>tdem (seg)</th>\n",
              "    </tr>\n",
              "  </thead>\n",
              "  <tbody>\n",
              "    <tr>\n",
              "      <th>count</th>\n",
              "      <td>1825.000000</td>\n",
              "      <td>1825.000000</td>\n",
              "      <td>1825.000000</td>\n",
              "      <td>1825.000000</td>\n",
              "      <td>1.825000e+03</td>\n",
              "      <td>1.825000e+03</td>\n",
              "      <td>1.825000e+03</td>\n",
              "      <td>1.825000e+03</td>\n",
              "      <td>1.825000e+03</td>\n",
              "    </tr>\n",
              "    <tr>\n",
              "      <th>mean</th>\n",
              "      <td>0.539415</td>\n",
              "      <td>0.501918</td>\n",
              "      <td>0.168630</td>\n",
              "      <td>0.503562</td>\n",
              "      <td>-3.650048e-17</td>\n",
              "      <td>1.030530e-16</td>\n",
              "      <td>4.127596e-16</td>\n",
              "      <td>1.727690e-17</td>\n",
              "      <td>6.278083e-17</td>\n",
              "    </tr>\n",
              "    <tr>\n",
              "      <th>std</th>\n",
              "      <td>0.272621</td>\n",
              "      <td>0.500133</td>\n",
              "      <td>0.183135</td>\n",
              "      <td>0.500124</td>\n",
              "      <td>1.000274e+00</td>\n",
              "      <td>1.000274e+00</td>\n",
              "      <td>1.000274e+00</td>\n",
              "      <td>1.000274e+00</td>\n",
              "      <td>1.000274e+00</td>\n",
              "    </tr>\n",
              "    <tr>\n",
              "      <th>min</th>\n",
              "      <td>0.003304</td>\n",
              "      <td>0.000000</td>\n",
              "      <td>0.000000</td>\n",
              "      <td>0.000000</td>\n",
              "      <td>-1.541655e+00</td>\n",
              "      <td>-1.539155e+00</td>\n",
              "      <td>-1.682677e+00</td>\n",
              "      <td>-1.968526e+00</td>\n",
              "      <td>-9.407032e-01</td>\n",
              "    </tr>\n",
              "    <tr>\n",
              "      <th>25%</th>\n",
              "      <td>0.319562</td>\n",
              "      <td>0.000000</td>\n",
              "      <td>0.037751</td>\n",
              "      <td>0.000000</td>\n",
              "      <td>-8.208556e-01</td>\n",
              "      <td>-8.153912e-01</td>\n",
              "      <td>-9.933453e-01</td>\n",
              "      <td>-8.166345e-01</td>\n",
              "      <td>-7.094064e-01</td>\n",
              "    </tr>\n",
              "    <tr>\n",
              "      <th>50%</th>\n",
              "      <td>0.547570</td>\n",
              "      <td>1.000000</td>\n",
              "      <td>0.113754</td>\n",
              "      <td>1.000000</td>\n",
              "      <td>-1.000562e-01</td>\n",
              "      <td>-9.836510e-02</td>\n",
              "      <td>2.129845e-01</td>\n",
              "      <td>6.657307e-02</td>\n",
              "      <td>-2.835655e-01</td>\n",
              "    </tr>\n",
              "    <tr>\n",
              "      <th>75%</th>\n",
              "      <td>0.788964</td>\n",
              "      <td>1.000000</td>\n",
              "      <td>0.240643</td>\n",
              "      <td>1.000000</td>\n",
              "      <td>6.928232e-01</td>\n",
              "      <td>6.566728e-01</td>\n",
              "      <td>9.884822e-01</td>\n",
              "      <td>8.968264e-01</td>\n",
              "      <td>3.902335e-01</td>\n",
              "    </tr>\n",
              "    <tr>\n",
              "      <th>max</th>\n",
              "      <td>1.000000</td>\n",
              "      <td>1.000000</td>\n",
              "      <td>1.000000</td>\n",
              "      <td>1.000000</td>\n",
              "      <td>3.551994e+00</td>\n",
              "      <td>3.616645e+00</td>\n",
              "      <td>1.591647e+00</td>\n",
              "      <td>1.893767e+00</td>\n",
              "      <td>7.995096e+00</td>\n",
              "    </tr>\n",
              "  </tbody>\n",
              "</table>\n",
              "</div>"
            ],
            "text/plain": [
              "        Eficiencia  Eficiencia (bin)  ...    tefe (seg)    tdem (seg)\n",
              "count  1825.000000       1825.000000  ...  1.825000e+03  1.825000e+03\n",
              "mean      0.539415          0.501918  ...  1.727690e-17  6.278083e-17\n",
              "std       0.272621          0.500133  ...  1.000274e+00  1.000274e+00\n",
              "min       0.003304          0.000000  ... -1.968526e+00 -9.407032e-01\n",
              "25%       0.319562          0.000000  ... -8.166345e-01 -7.094064e-01\n",
              "50%       0.547570          1.000000  ...  6.657307e-02 -2.835655e-01\n",
              "75%       0.788964          1.000000  ...  8.968264e-01  3.902335e-01\n",
              "max       1.000000          1.000000  ...  1.893767e+00  7.995096e+00\n",
              "\n",
              "[8 rows x 9 columns]"
            ]
          },
          "metadata": {
            "tags": []
          },
          "execution_count": 275
        }
      ]
    },
    {
      "cell_type": "code",
      "metadata": {
        "id": "RMr6szyta5S3",
        "colab_type": "code",
        "colab": {
          "base_uri": "https://localhost:8080/",
          "height": 649
        },
        "outputId": "aaa7a7bf-3fe9-4c73-b655-b2569dcdf940"
      },
      "source": [
        "df_scaled.head()"
      ],
      "execution_count": 276,
      "outputs": [
        {
          "output_type": "execute_result",
          "data": {
            "text/html": [
              "<div>\n",
              "<style scoped>\n",
              "    .dataframe tbody tr th:only-of-type {\n",
              "        vertical-align: middle;\n",
              "    }\n",
              "\n",
              "    .dataframe tbody tr th {\n",
              "        vertical-align: top;\n",
              "    }\n",
              "\n",
              "    .dataframe thead th {\n",
              "        text-align: right;\n",
              "    }\n",
              "</style>\n",
              "<table border=\"1\" class=\"dataframe\">\n",
              "  <thead>\n",
              "    <tr style=\"text-align: right;\">\n",
              "      <th></th>\n",
              "      <th>Fecha</th>\n",
              "      <th>Turno</th>\n",
              "      <th>Equipo</th>\n",
              "      <th>Número de personal</th>\n",
              "      <th>Unidad organizativa</th>\n",
              "      <th>Posición</th>\n",
              "      <th>Fecha de alta</th>\n",
              "      <th>Status empleado para Gestión tiempos per</th>\n",
              "      <th>Dia</th>\n",
              "      <th>Mes</th>\n",
              "      <th>Año</th>\n",
              "      <th>Eficiencia</th>\n",
              "      <th>Eficiencia (bin)</th>\n",
              "      <th>Demora</th>\n",
              "      <th>Demora (bin)</th>\n",
              "      <th>Cargas (u)</th>\n",
              "      <th>Movimiento (t)</th>\n",
              "      <th>Edad del empleado</th>\n",
              "      <th>tefe (seg)</th>\n",
              "      <th>tdem (seg)</th>\n",
              "    </tr>\n",
              "  </thead>\n",
              "  <tbody>\n",
              "    <tr>\n",
              "      <th>0</th>\n",
              "      <td>2019-07-01</td>\n",
              "      <td>2</td>\n",
              "      <td>211</td>\n",
              "      <td>20002787</td>\n",
              "      <td>MANTENIMIENTO MINA</td>\n",
              "      <td>ELECTRICO III</td>\n",
              "      <td>2011-10-01</td>\n",
              "      <td>1 - Evaluación de tiempos, real</td>\n",
              "      <td>01</td>\n",
              "      <td>07</td>\n",
              "      <td>2019</td>\n",
              "      <td>0.505260</td>\n",
              "      <td>0</td>\n",
              "      <td>0.058532</td>\n",
              "      <td>0</td>\n",
              "      <td>0.668797</td>\n",
              "      <td>0.625564</td>\n",
              "      <td>-1.424177</td>\n",
              "      <td>-0.023231</td>\n",
              "      <td>-0.541814</td>\n",
              "    </tr>\n",
              "    <tr>\n",
              "      <th>1</th>\n",
              "      <td>2019-07-01</td>\n",
              "      <td>2</td>\n",
              "      <td>213</td>\n",
              "      <td>20000875</td>\n",
              "      <td>MANTENIMIENTO MINA</td>\n",
              "      <td>MECANICO I</td>\n",
              "      <td>1997-03-19</td>\n",
              "      <td>1 - Evaluación de tiempos, real</td>\n",
              "      <td>01</td>\n",
              "      <td>07</td>\n",
              "      <td>2019</td>\n",
              "      <td>0.131334</td>\n",
              "      <td>0</td>\n",
              "      <td>0.026390</td>\n",
              "      <td>0</td>\n",
              "      <td>-1.277362</td>\n",
              "      <td>-1.268354</td>\n",
              "      <td>0.729983</td>\n",
              "      <td>-1.472102</td>\n",
              "      <td>-0.760860</td>\n",
              "    </tr>\n",
              "    <tr>\n",
              "      <th>2</th>\n",
              "      <td>2019-07-01</td>\n",
              "      <td>2</td>\n",
              "      <td>307</td>\n",
              "      <td>20001014</td>\n",
              "      <td>ADMINISTRACION SUPTCIA PLANTAS</td>\n",
              "      <td>OPERADOR ELECTRICO II PLANTA</td>\n",
              "      <td>1998-03-31</td>\n",
              "      <td>1 - Evaluación de tiempos, real</td>\n",
              "      <td>01</td>\n",
              "      <td>07</td>\n",
              "      <td>2019</td>\n",
              "      <td>0.917188</td>\n",
              "      <td>1</td>\n",
              "      <td>0.197434</td>\n",
              "      <td>1</td>\n",
              "      <td>0.836983</td>\n",
              "      <td>0.853396</td>\n",
              "      <td>1.419314</td>\n",
              "      <td>1.232658</td>\n",
              "      <td>0.431886</td>\n",
              "    </tr>\n",
              "    <tr>\n",
              "      <th>3</th>\n",
              "      <td>2019-07-02</td>\n",
              "      <td>1</td>\n",
              "      <td>211</td>\n",
              "      <td>20004895</td>\n",
              "      <td>CAMIONES CAT 793F MLC</td>\n",
              "      <td>OPERADOR III</td>\n",
              "      <td>2013-09-01</td>\n",
              "      <td>1 - Evaluación de tiempos, real</td>\n",
              "      <td>02</td>\n",
              "      <td>07</td>\n",
              "      <td>2019</td>\n",
              "      <td>0.904444</td>\n",
              "      <td>1</td>\n",
              "      <td>0.103806</td>\n",
              "      <td>0</td>\n",
              "      <td>1.990262</td>\n",
              "      <td>1.963414</td>\n",
              "      <td>0.212984</td>\n",
              "      <td>1.411265</td>\n",
              "      <td>-0.470269</td>\n",
              "    </tr>\n",
              "    <tr>\n",
              "      <th>4</th>\n",
              "      <td>2019-07-02</td>\n",
              "      <td>1</td>\n",
              "      <td>213</td>\n",
              "      <td>20003278</td>\n",
              "      <td>MANTENIMIENTO MINA</td>\n",
              "      <td>MECANICO III</td>\n",
              "      <td>2011-04-01</td>\n",
              "      <td>1 - Evaluación de tiempos, real</td>\n",
              "      <td>02</td>\n",
              "      <td>07</td>\n",
              "      <td>2019</td>\n",
              "      <td>0.069553</td>\n",
              "      <td>0</td>\n",
              "      <td>0.004818</td>\n",
              "      <td>0</td>\n",
              "      <td>-1.397495</td>\n",
              "      <td>-1.392686</td>\n",
              "      <td>-1.079512</td>\n",
              "      <td>-1.711488</td>\n",
              "      <td>-0.907871</td>\n",
              "    </tr>\n",
              "  </tbody>\n",
              "</table>\n",
              "</div>"
            ],
            "text/plain": [
              "        Fecha Turno Equipo  ... Edad del empleado tefe (seg) tdem (seg)\n",
              "0  2019-07-01     2    211  ...         -1.424177  -0.023231  -0.541814\n",
              "1  2019-07-01     2    213  ...          0.729983  -1.472102  -0.760860\n",
              "2  2019-07-01     2    307  ...          1.419314   1.232658   0.431886\n",
              "3  2019-07-02     1    211  ...          0.212984   1.411265  -0.470269\n",
              "4  2019-07-02     1    213  ...         -1.079512  -1.711488  -0.907871\n",
              "\n",
              "[5 rows x 20 columns]"
            ]
          },
          "metadata": {
            "tags": []
          },
          "execution_count": 276
        }
      ]
    },
    {
      "cell_type": "markdown",
      "metadata": {
        "colab_type": "text",
        "id": "je6SL8JBDLZY"
      },
      "source": [
        "# Predicción Tefe (seg)"
      ]
    },
    {
      "cell_type": "markdown",
      "metadata": {
        "colab_type": "text",
        "id": "HC_sP6orDLZf"
      },
      "source": [
        "##Regresión Lineal"
      ]
    },
    {
      "cell_type": "markdown",
      "metadata": {
        "colab_type": "text",
        "id": "tALuPVm2DLZg"
      },
      "source": [
        "Importamos y seleccionamos las variables que ocuparemos en el modelo"
      ]
    },
    {
      "cell_type": "code",
      "metadata": {
        "colab_type": "code",
        "id": "3JAsK_2nDLZg",
        "colab": {}
      },
      "source": [
        "from sklearn.model_selection import train_test_split\n",
        "X = df_scaled[['Turno','Equipo','Movimiento (t)','Cargas (u)','Edad del empleado','Número de personal']]\n",
        "y = df_scaled['tefe (seg)']"
      ],
      "execution_count": 295,
      "outputs": []
    },
    {
      "cell_type": "markdown",
      "metadata": {
        "colab_type": "text",
        "id": "Y0GKRyyiDLZo"
      },
      "source": [
        "Creamos la data de entrenamiento y test"
      ]
    },
    {
      "cell_type": "code",
      "metadata": {
        "colab_type": "code",
        "id": "dnXGnnfNDLZp",
        "colab": {}
      },
      "source": [
        "X_train, X_test, y_train, y_test = train_test_split(X, y, test_size=0.4, random_state=42)"
      ],
      "execution_count": 296,
      "outputs": []
    },
    {
      "cell_type": "markdown",
      "metadata": {
        "colab_type": "text",
        "id": "p3H9K1eTDLZr"
      },
      "source": [
        "Importamos el modelo de regresion lineal, creamos la regresion y generamos el .fit con la data de entrenamiento"
      ]
    },
    {
      "cell_type": "code",
      "metadata": {
        "colab_type": "code",
        "id": "hpMlC1wrDLZs",
        "colab": {
          "base_uri": "https://localhost:8080/",
          "height": 34
        },
        "outputId": "d0cc4362-bc39-4d17-f225-b2c23b0f6b31"
      },
      "source": [
        "from sklearn import linear_model\n",
        "modelo = linear_model.LinearRegression()\n",
        "modelo.fit(X_train,y_train)"
      ],
      "execution_count": 297,
      "outputs": [
        {
          "output_type": "execute_result",
          "data": {
            "text/plain": [
              "LinearRegression(copy_X=True, fit_intercept=True, n_jobs=None, normalize=False)"
            ]
          },
          "metadata": {
            "tags": []
          },
          "execution_count": 297
        }
      ]
    },
    {
      "cell_type": "markdown",
      "metadata": {
        "colab_type": "text",
        "id": "3PAP_uDSDLZv"
      },
      "source": [
        "\n",
        "Predicción con la data de test"
      ]
    },
    {
      "cell_type": "code",
      "metadata": {
        "colab_type": "code",
        "id": "dOP7b8rvDLZw",
        "colab": {}
      },
      "source": [
        "y_pred = modelo.predict(X_test)"
      ],
      "execution_count": 298,
      "outputs": []
    },
    {
      "cell_type": "code",
      "metadata": {
        "colab_type": "code",
        "id": "chNHP2oJDLZy",
        "colab": {
          "base_uri": "https://localhost:8080/",
          "height": 235
        },
        "outputId": "08c3be4e-3efa-4149-ae2f-69a239aba828"
      },
      "source": [
        "pd.DataFrame(modelo.coef_,X.columns,columns=['Coefficient'])"
      ],
      "execution_count": 299,
      "outputs": [
        {
          "output_type": "execute_result",
          "data": {
            "text/html": [
              "<div>\n",
              "<style scoped>\n",
              "    .dataframe tbody tr th:only-of-type {\n",
              "        vertical-align: middle;\n",
              "    }\n",
              "\n",
              "    .dataframe tbody tr th {\n",
              "        vertical-align: top;\n",
              "    }\n",
              "\n",
              "    .dataframe thead th {\n",
              "        text-align: right;\n",
              "    }\n",
              "</style>\n",
              "<table border=\"1\" class=\"dataframe\">\n",
              "  <thead>\n",
              "    <tr style=\"text-align: right;\">\n",
              "      <th></th>\n",
              "      <th>Coefficient</th>\n",
              "    </tr>\n",
              "  </thead>\n",
              "  <tbody>\n",
              "    <tr>\n",
              "      <th>Turno</th>\n",
              "      <td>-0.025161</td>\n",
              "    </tr>\n",
              "    <tr>\n",
              "      <th>Equipo</th>\n",
              "      <td>0.007549</td>\n",
              "    </tr>\n",
              "    <tr>\n",
              "      <th>Movimiento (t)</th>\n",
              "      <td>-0.021779</td>\n",
              "    </tr>\n",
              "    <tr>\n",
              "      <th>Cargas (u)</th>\n",
              "      <td>1.034880</td>\n",
              "    </tr>\n",
              "    <tr>\n",
              "      <th>Edad del empleado</th>\n",
              "      <td>-0.019140</td>\n",
              "    </tr>\n",
              "    <tr>\n",
              "      <th>Número de personal</th>\n",
              "      <td>-0.000012</td>\n",
              "    </tr>\n",
              "  </tbody>\n",
              "</table>\n",
              "</div>"
            ],
            "text/plain": [
              "                    Coefficient\n",
              "Turno                 -0.025161\n",
              "Equipo                 0.007549\n",
              "Movimiento (t)        -0.021779\n",
              "Cargas (u)             1.034880\n",
              "Edad del empleado     -0.019140\n",
              "Número de personal    -0.000012"
            ]
          },
          "metadata": {
            "tags": []
          },
          "execution_count": 299
        }
      ]
    },
    {
      "cell_type": "code",
      "metadata": {
        "colab_type": "code",
        "id": "aDyCLmlWDLZ0",
        "colab": {
          "base_uri": "https://localhost:8080/",
          "height": 356
        },
        "outputId": "de15a60d-6210-4d78-cfd5-c04d7ec6b4e4"
      },
      "source": [
        "plt.figure(figsize=(10,5))\n",
        "sns.scatterplot(y_test,y_pred,color='blue',alpha=0.5)"
      ],
      "execution_count": 300,
      "outputs": [
        {
          "output_type": "execute_result",
          "data": {
            "text/plain": [
              "<matplotlib.axes._subplots.AxesSubplot at 0x7f782a6af978>"
            ]
          },
          "metadata": {
            "tags": []
          },
          "execution_count": 300
        },
        {
          "output_type": "display_data",
          "data": {
            "image/png": "[encoded data removed]",
            "text/plain": [
              "<Figure size 720x360 with 1 Axes>"
            ]
          },
          "metadata": {
            "tags": []
          }
        }
      ]
    },
    {
      "cell_type": "markdown",
      "metadata": {
        "colab_type": "text",
        "id": "wlZ-QJ-3DLZ2"
      },
      "source": [
        "Residuales"
      ]
    },
    {
      "cell_type": "code",
      "metadata": {
        "colab_type": "code",
        "id": "VjqIRdvbDLZ3",
        "colab": {
          "base_uri": "https://localhost:8080/",
          "height": 302
        },
        "outputId": "df503520-1480-4097-bd34-95b88620ad08"
      },
      "source": [
        "sns.distplot((y_test-y_pred),bins=50)"
      ],
      "execution_count": 301,
      "outputs": [
        {
          "output_type": "execute_result",
          "data": {
            "text/plain": [
              "<matplotlib.axes._subplots.AxesSubplot at 0x7f782a6af198>"
            ]
          },
          "metadata": {
            "tags": []
          },
          "execution_count": 301
        },
        {
          "output_type": "display_data",
          "data": {
            "image/png": "[encoded data removed]",
            "text/plain": [
              "<Figure size 432x288 with 1 Axes>"
            ]
          },
          "metadata": {
            "tags": []
          }
        }
      ]
    },
    {
      "cell_type": "markdown",
      "metadata": {
        "colab_type": "text",
        "id": "f4Z3F9QEDLZ7"
      },
      "source": [
        "Error Cuadratico Medio"
      ]
    },
    {
      "cell_type": "code",
      "metadata": {
        "colab_type": "code",
        "id": "KWItWBcaDLZ7",
        "colab": {
          "base_uri": "https://localhost:8080/",
          "height": 34
        },
        "outputId": "ab68e5be-e956-472c-d6c2-f68ac84b03a0"
      },
      "source": [
        "from sklearn import metrics\n",
        "print(f'Error Cuadrático Medio: {metrics.mean_squared_error(y_test,y_pred)}')"
      ],
      "execution_count": 302,
      "outputs": [
        {
          "output_type": "stream",
          "text": [
            "Error Cuadrático Medio: 0.18060972165442052\n"
          ],
          "name": "stdout"
        }
      ]
    },
    {
      "cell_type": "markdown",
      "metadata": {
        "colab_type": "text",
        "id": "e02goRc9DLZ9"
      },
      "source": [
        "Se peude decir que la regresion lineal no en el mejor modelo para este tipo de data"
      ]
    },
    {
      "cell_type": "code",
      "metadata": {
        "colab_type": "code",
        "id": "1QwsoLYzDLZ-",
        "colab": {}
      },
      "source": [
        ""
      ],
      "execution_count": 302,
      "outputs": []
    },
    {
      "cell_type": "markdown",
      "metadata": {
        "colab_type": "text",
        "id": "APBxAhfrDLaA"
      },
      "source": [
        "##Regresión Logística"
      ]
    },
    {
      "cell_type": "markdown",
      "metadata": {
        "colab_type": "text",
        "id": "1_4VLqIuDLaA"
      },
      "source": [
        "Generamos nuestro data de entrenamiento y le eliminamos las columnas que no ocuparemos en el modolamiento"
      ]
    },
    {
      "cell_type": "code",
      "metadata": {
        "colab_type": "code",
        "id": "3BG5anjQDLaB",
        "colab": {}
      },
      "source": [
        "filtro = ['Eficiencia (bin)','Cargas (u)','Movimiento (t)','Edad del empleado']\n",
        "train = df_scaled[filtro]"
      ],
      "execution_count": 303,
      "outputs": []
    },
    {
      "cell_type": "markdown",
      "metadata": {
        "id": "kFJYea6zg6it",
        "colab_type": "text"
      },
      "source": [
        "Nos quedamos con los datos numericos"
      ]
    },
    {
      "cell_type": "code",
      "metadata": {
        "colab_type": "code",
        "id": "mTZtpujJDLaD",
        "colab": {
          "base_uri": "https://localhost:8080/",
          "height": 204
        },
        "outputId": "5fed2782-126e-4573-c6c4-00a54cbe349b"
      },
      "source": [
        "train.info()"
      ],
      "execution_count": 304,
      "outputs": [
        {
          "output_type": "stream",
          "text": [
            "<class 'pandas.core.frame.DataFrame'>\n",
            "RangeIndex: 1825 entries, 0 to 1824\n",
            "Data columns (total 4 columns):\n",
            " #   Column             Non-Null Count  Dtype  \n",
            "---  ------             --------------  -----  \n",
            " 0   Eficiencia (bin)   1825 non-null   int64  \n",
            " 1   Cargas (u)         1825 non-null   float64\n",
            " 2   Movimiento (t)     1825 non-null   float64\n",
            " 3   Edad del empleado  1825 non-null   float64\n",
            "dtypes: float64(3), int64(1)\n",
            "memory usage: 57.2 KB\n"
          ],
          "name": "stdout"
        }
      ]
    },
    {
      "cell_type": "markdown",
      "metadata": {
        "colab_type": "text",
        "id": "d4OXaczxDLaF"
      },
      "source": [
        "Creamos nuestras variables dummies"
      ]
    },
    {
      "cell_type": "code",
      "metadata": {
        "colab_type": "code",
        "id": "86zqbHY3DLaG",
        "colab": {}
      },
      "source": [
        "unidad = pd.get_dummies(df_scaled['Unidad organizativa'])\n",
        "posicion = pd.get_dummies(df_scaled['Posición'])\n",
        "turno = pd.get_dummies(df_scaled['Turno'])\n",
        "fecha = pd.get_dummies(df_scaled['Fecha'])\n",
        "numero_personal = pd.get_dummies(df_scaled['Número de personal'])\n",
        "alta = pd.get_dummies(df_scaled['Fecha de alta'])\n",
        "status = pd.get_dummies(df_scaled['Status empleado para Gestión tiempos per'])"
      ],
      "execution_count": 305,
      "outputs": []
    },
    {
      "cell_type": "markdown",
      "metadata": {
        "colab_type": "text",
        "id": "P5GM_4PXDLaI"
      },
      "source": [
        "Agregamos las variables dummies a la data de entrenamiento"
      ]
    },
    {
      "cell_type": "code",
      "metadata": {
        "colab_type": "code",
        "id": "oZ1QbAv0DLaI",
        "colab": {}
      },
      "source": [
        "train = pd.concat([train,unidad,posicion,turno,fecha,numero_personal,alta,status],axis=1)"
      ],
      "execution_count": 306,
      "outputs": []
    },
    {
      "cell_type": "code",
      "metadata": {
        "colab_type": "code",
        "id": "k7R5Y_r4DLaL",
        "colab": {
          "base_uri": "https://localhost:8080/",
          "height": 338
        },
        "outputId": "467e6037-492a-438a-bf9e-ea6c294d507c"
      },
      "source": [
        "train.head()"
      ],
      "execution_count": 307,
      "outputs": [
        {
          "output_type": "execute_result",
          "data": {
            "text/html": [
              "<div>\n",
              "<style scoped>\n",
              "    .dataframe tbody tr th:only-of-type {\n",
              "        vertical-align: middle;\n",
              "    }\n",
              "\n",
              "    .dataframe tbody tr th {\n",
              "        vertical-align: top;\n",
              "    }\n",
              "\n",
              "    .dataframe thead th {\n",
              "        text-align: right;\n",
              "    }\n",
              "</style>\n",
              "<table border=\"1\" class=\"dataframe\">\n",
              "  <thead>\n",
              "    <tr style=\"text-align: right;\">\n",
              "      <th></th>\n",
              "      <th>Eficiencia (bin)</th>\n",
              "      <th>Cargas (u)</th>\n",
              "      <th>Movimiento (t)</th>\n",
              "      <th>Edad del empleado</th>\n",
              "      <th>ADMINISTRACION SUPTCIA PLANTAS</th>\n",
              "      <th>ALJIBES MLC</th>\n",
              "      <th>CAMIONES CAT 793F MLC</th>\n",
              "      <th>CAMIONES KOMATSU 830E MLC</th>\n",
              "      <th>CARGADORES FRONTALES MLC</th>\n",
              "      <th>GEOLOGIA DE PRODUCCION</th>\n",
              "      <th>INGENIERIA DE PROCESOS</th>\n",
              "      <th>MANTENIMIENTO MINA</th>\n",
              "      <th>MOTONIVELADORAS MLC</th>\n",
              "      <th>PALAS HIDRAULICAS MLC</th>\n",
              "      <th>PLANIFICACION MANTTO. MINA</th>\n",
              "      <th>SERVICIO SOCIAL VHUASCO</th>\n",
              "      <th>SISTEMAS DE CONTROL Y POTENCIA</th>\n",
              "      <th>TRACTORES NEUMATICOS MLC</th>\n",
              "      <th>TRACTORES ORUGA MLC</th>\n",
              "      <th>ASISTENTE GEOLOGIA</th>\n",
              "      <th>AYUDANTE ADMINISTRATIVO</th>\n",
              "      <th>CONTROLADOR PLANIFICACION</th>\n",
              "      <th>ELECTRICO I</th>\n",
              "      <th>ELECTRICO III</th>\n",
              "      <th>INGENIERO DE PROCESOS</th>\n",
              "      <th>JEFE SISTEMAS DE CONTROL Y POTENCIA</th>\n",
              "      <th>MECANICO I</th>\n",
              "      <th>MECANICO III</th>\n",
              "      <th>OPERADOR ELECTRICO II PLANTA</th>\n",
              "      <th>OPERADOR I</th>\n",
              "      <th>OPERADOR II</th>\n",
              "      <th>OPERADOR III</th>\n",
              "      <th>OPERADOR MECANICO III PLANTA</th>\n",
              "      <th>PLANIFICADOR MANTENIMIENTO MINA</th>\n",
              "      <th>1</th>\n",
              "      <th>2</th>\n",
              "      <th>2019-07-01</th>\n",
              "      <th>2019-07-02</th>\n",
              "      <th>2019-07-03</th>\n",
              "      <th>2019-07-04</th>\n",
              "      <th>...</th>\n",
              "      <th>20003244</th>\n",
              "      <th>20003260</th>\n",
              "      <th>20003278</th>\n",
              "      <th>20003408</th>\n",
              "      <th>20003778</th>\n",
              "      <th>20003779</th>\n",
              "      <th>20003858</th>\n",
              "      <th>20004398</th>\n",
              "      <th>20004884</th>\n",
              "      <th>20004895</th>\n",
              "      <th>20005055</th>\n",
              "      <th>20005968</th>\n",
              "      <th>20006912</th>\n",
              "      <th>1988-09-01</th>\n",
              "      <th>1996-07-01</th>\n",
              "      <th>1996-09-23</th>\n",
              "      <th>1996-12-17</th>\n",
              "      <th>1997-02-01</th>\n",
              "      <th>1997-03-19</th>\n",
              "      <th>1997-12-01</th>\n",
              "      <th>1998-03-25</th>\n",
              "      <th>1998-03-31</th>\n",
              "      <th>2003-05-30</th>\n",
              "      <th>2003-06-01</th>\n",
              "      <th>2006-02-16</th>\n",
              "      <th>2006-03-29</th>\n",
              "      <th>2008-08-12</th>\n",
              "      <th>2011-01-17</th>\n",
              "      <th>2011-04-01</th>\n",
              "      <th>2011-07-01</th>\n",
              "      <th>2011-10-01</th>\n",
              "      <th>2012-02-20</th>\n",
              "      <th>2012-11-07</th>\n",
              "      <th>2013-03-01</th>\n",
              "      <th>2013-09-01</th>\n",
              "      <th>2013-11-01</th>\n",
              "      <th>2017-03-08</th>\n",
              "      <th>2019-06-03</th>\n",
              "      <th>1 - Evaluación de tiempos, real</th>\n",
              "      <th>9 - Evaluación de tiempos, teórico</th>\n",
              "    </tr>\n",
              "  </thead>\n",
              "  <tbody>\n",
              "    <tr>\n",
              "      <th>0</th>\n",
              "      <td>0</td>\n",
              "      <td>0.668797</td>\n",
              "      <td>0.625564</td>\n",
              "      <td>-1.424177</td>\n",
              "      <td>0</td>\n",
              "      <td>0</td>\n",
              "      <td>0</td>\n",
              "      <td>0</td>\n",
              "      <td>0</td>\n",
              "      <td>0</td>\n",
              "      <td>0</td>\n",
              "      <td>1</td>\n",
              "      <td>0</td>\n",
              "      <td>0</td>\n",
              "      <td>0</td>\n",
              "      <td>0</td>\n",
              "      <td>0</td>\n",
              "      <td>0</td>\n",
              "      <td>0</td>\n",
              "      <td>0</td>\n",
              "      <td>0</td>\n",
              "      <td>0</td>\n",
              "      <td>0</td>\n",
              "      <td>1</td>\n",
              "      <td>0</td>\n",
              "      <td>0</td>\n",
              "      <td>0</td>\n",
              "      <td>0</td>\n",
              "      <td>0</td>\n",
              "      <td>0</td>\n",
              "      <td>0</td>\n",
              "      <td>0</td>\n",
              "      <td>0</td>\n",
              "      <td>0</td>\n",
              "      <td>0</td>\n",
              "      <td>1</td>\n",
              "      <td>1</td>\n",
              "      <td>0</td>\n",
              "      <td>0</td>\n",
              "      <td>0</td>\n",
              "      <td>...</td>\n",
              "      <td>0</td>\n",
              "      <td>0</td>\n",
              "      <td>0</td>\n",
              "      <td>0</td>\n",
              "      <td>0</td>\n",
              "      <td>0</td>\n",
              "      <td>0</td>\n",
              "      <td>0</td>\n",
              "      <td>0</td>\n",
              "      <td>0</td>\n",
              "      <td>0</td>\n",
              "      <td>0</td>\n",
              "      <td>0</td>\n",
              "      <td>0</td>\n",
              "      <td>0</td>\n",
              "      <td>0</td>\n",
              "      <td>0</td>\n",
              "      <td>0</td>\n",
              "      <td>0</td>\n",
              "      <td>0</td>\n",
              "      <td>0</td>\n",
              "      <td>0</td>\n",
              "      <td>0</td>\n",
              "      <td>0</td>\n",
              "      <td>0</td>\n",
              "      <td>0</td>\n",
              "      <td>0</td>\n",
              "      <td>0</td>\n",
              "      <td>0</td>\n",
              "      <td>0</td>\n",
              "      <td>1</td>\n",
              "      <td>0</td>\n",
              "      <td>0</td>\n",
              "      <td>0</td>\n",
              "      <td>0</td>\n",
              "      <td>0</td>\n",
              "      <td>0</td>\n",
              "      <td>0</td>\n",
              "      <td>1</td>\n",
              "      <td>0</td>\n",
              "    </tr>\n",
              "    <tr>\n",
              "      <th>1</th>\n",
              "      <td>0</td>\n",
              "      <td>-1.277362</td>\n",
              "      <td>-1.268354</td>\n",
              "      <td>0.729983</td>\n",
              "      <td>0</td>\n",
              "      <td>0</td>\n",
              "      <td>0</td>\n",
              "      <td>0</td>\n",
              "      <td>0</td>\n",
              "      <td>0</td>\n",
              "      <td>0</td>\n",
              "      <td>1</td>\n",
              "      <td>0</td>\n",
              "      <td>0</td>\n",
              "      <td>0</td>\n",
              "      <td>0</td>\n",
              "      <td>0</td>\n",
              "      <td>0</td>\n",
              "      <td>0</td>\n",
              "      <td>0</td>\n",
              "      <td>0</td>\n",
              "      <td>0</td>\n",
              "      <td>0</td>\n",
              "      <td>0</td>\n",
              "      <td>0</td>\n",
              "      <td>0</td>\n",
              "      <td>1</td>\n",
              "      <td>0</td>\n",
              "      <td>0</td>\n",
              "      <td>0</td>\n",
              "      <td>0</td>\n",
              "      <td>0</td>\n",
              "      <td>0</td>\n",
              "      <td>0</td>\n",
              "      <td>0</td>\n",
              "      <td>1</td>\n",
              "      <td>1</td>\n",
              "      <td>0</td>\n",
              "      <td>0</td>\n",
              "      <td>0</td>\n",
              "      <td>...</td>\n",
              "      <td>0</td>\n",
              "      <td>0</td>\n",
              "      <td>0</td>\n",
              "      <td>0</td>\n",
              "      <td>0</td>\n",
              "      <td>0</td>\n",
              "      <td>0</td>\n",
              "      <td>0</td>\n",
              "      <td>0</td>\n",
              "      <td>0</td>\n",
              "      <td>0</td>\n",
              "      <td>0</td>\n",
              "      <td>0</td>\n",
              "      <td>0</td>\n",
              "      <td>0</td>\n",
              "      <td>0</td>\n",
              "      <td>0</td>\n",
              "      <td>0</td>\n",
              "      <td>1</td>\n",
              "      <td>0</td>\n",
              "      <td>0</td>\n",
              "      <td>0</td>\n",
              "      <td>0</td>\n",
              "      <td>0</td>\n",
              "      <td>0</td>\n",
              "      <td>0</td>\n",
              "      <td>0</td>\n",
              "      <td>0</td>\n",
              "      <td>0</td>\n",
              "      <td>0</td>\n",
              "      <td>0</td>\n",
              "      <td>0</td>\n",
              "      <td>0</td>\n",
              "      <td>0</td>\n",
              "      <td>0</td>\n",
              "      <td>0</td>\n",
              "      <td>0</td>\n",
              "      <td>0</td>\n",
              "      <td>1</td>\n",
              "      <td>0</td>\n",
              "    </tr>\n",
              "    <tr>\n",
              "      <th>2</th>\n",
              "      <td>1</td>\n",
              "      <td>0.836983</td>\n",
              "      <td>0.853396</td>\n",
              "      <td>1.419314</td>\n",
              "      <td>1</td>\n",
              "      <td>0</td>\n",
              "      <td>0</td>\n",
              "      <td>0</td>\n",
              "      <td>0</td>\n",
              "      <td>0</td>\n",
              "      <td>0</td>\n",
              "      <td>0</td>\n",
              "      <td>0</td>\n",
              "      <td>0</td>\n",
              "      <td>0</td>\n",
              "      <td>0</td>\n",
              "      <td>0</td>\n",
              "      <td>0</td>\n",
              "      <td>0</td>\n",
              "      <td>0</td>\n",
              "      <td>0</td>\n",
              "      <td>0</td>\n",
              "      <td>0</td>\n",
              "      <td>0</td>\n",
              "      <td>0</td>\n",
              "      <td>0</td>\n",
              "      <td>0</td>\n",
              "      <td>0</td>\n",
              "      <td>1</td>\n",
              "      <td>0</td>\n",
              "      <td>0</td>\n",
              "      <td>0</td>\n",
              "      <td>0</td>\n",
              "      <td>0</td>\n",
              "      <td>0</td>\n",
              "      <td>1</td>\n",
              "      <td>1</td>\n",
              "      <td>0</td>\n",
              "      <td>0</td>\n",
              "      <td>0</td>\n",
              "      <td>...</td>\n",
              "      <td>0</td>\n",
              "      <td>0</td>\n",
              "      <td>0</td>\n",
              "      <td>0</td>\n",
              "      <td>0</td>\n",
              "      <td>0</td>\n",
              "      <td>0</td>\n",
              "      <td>0</td>\n",
              "      <td>0</td>\n",
              "      <td>0</td>\n",
              "      <td>0</td>\n",
              "      <td>0</td>\n",
              "      <td>0</td>\n",
              "      <td>0</td>\n",
              "      <td>0</td>\n",
              "      <td>0</td>\n",
              "      <td>0</td>\n",
              "      <td>0</td>\n",
              "      <td>0</td>\n",
              "      <td>0</td>\n",
              "      <td>0</td>\n",
              "      <td>1</td>\n",
              "      <td>0</td>\n",
              "      <td>0</td>\n",
              "      <td>0</td>\n",
              "      <td>0</td>\n",
              "      <td>0</td>\n",
              "      <td>0</td>\n",
              "      <td>0</td>\n",
              "      <td>0</td>\n",
              "      <td>0</td>\n",
              "      <td>0</td>\n",
              "      <td>0</td>\n",
              "      <td>0</td>\n",
              "      <td>0</td>\n",
              "      <td>0</td>\n",
              "      <td>0</td>\n",
              "      <td>0</td>\n",
              "      <td>1</td>\n",
              "      <td>0</td>\n",
              "    </tr>\n",
              "    <tr>\n",
              "      <th>3</th>\n",
              "      <td>1</td>\n",
              "      <td>1.990262</td>\n",
              "      <td>1.963414</td>\n",
              "      <td>0.212984</td>\n",
              "      <td>0</td>\n",
              "      <td>0</td>\n",
              "      <td>1</td>\n",
              "      <td>0</td>\n",
              "      <td>0</td>\n",
              "      <td>0</td>\n",
              "      <td>0</td>\n",
              "      <td>0</td>\n",
              "      <td>0</td>\n",
              "      <td>0</td>\n",
              "      <td>0</td>\n",
              "      <td>0</td>\n",
              "      <td>0</td>\n",
              "      <td>0</td>\n",
              "      <td>0</td>\n",
              "      <td>0</td>\n",
              "      <td>0</td>\n",
              "      <td>0</td>\n",
              "      <td>0</td>\n",
              "      <td>0</td>\n",
              "      <td>0</td>\n",
              "      <td>0</td>\n",
              "      <td>0</td>\n",
              "      <td>0</td>\n",
              "      <td>0</td>\n",
              "      <td>0</td>\n",
              "      <td>0</td>\n",
              "      <td>1</td>\n",
              "      <td>0</td>\n",
              "      <td>0</td>\n",
              "      <td>1</td>\n",
              "      <td>0</td>\n",
              "      <td>0</td>\n",
              "      <td>1</td>\n",
              "      <td>0</td>\n",
              "      <td>0</td>\n",
              "      <td>...</td>\n",
              "      <td>0</td>\n",
              "      <td>0</td>\n",
              "      <td>0</td>\n",
              "      <td>0</td>\n",
              "      <td>0</td>\n",
              "      <td>0</td>\n",
              "      <td>0</td>\n",
              "      <td>0</td>\n",
              "      <td>0</td>\n",
              "      <td>1</td>\n",
              "      <td>0</td>\n",
              "      <td>0</td>\n",
              "      <td>0</td>\n",
              "      <td>0</td>\n",
              "      <td>0</td>\n",
              "      <td>0</td>\n",
              "      <td>0</td>\n",
              "      <td>0</td>\n",
              "      <td>0</td>\n",
              "      <td>0</td>\n",
              "      <td>0</td>\n",
              "      <td>0</td>\n",
              "      <td>0</td>\n",
              "      <td>0</td>\n",
              "      <td>0</td>\n",
              "      <td>0</td>\n",
              "      <td>0</td>\n",
              "      <td>0</td>\n",
              "      <td>0</td>\n",
              "      <td>0</td>\n",
              "      <td>0</td>\n",
              "      <td>0</td>\n",
              "      <td>0</td>\n",
              "      <td>0</td>\n",
              "      <td>1</td>\n",
              "      <td>0</td>\n",
              "      <td>0</td>\n",
              "      <td>0</td>\n",
              "      <td>1</td>\n",
              "      <td>0</td>\n",
              "    </tr>\n",
              "    <tr>\n",
              "      <th>4</th>\n",
              "      <td>0</td>\n",
              "      <td>-1.397495</td>\n",
              "      <td>-1.392686</td>\n",
              "      <td>-1.079512</td>\n",
              "      <td>0</td>\n",
              "      <td>0</td>\n",
              "      <td>0</td>\n",
              "      <td>0</td>\n",
              "      <td>0</td>\n",
              "      <td>0</td>\n",
              "      <td>0</td>\n",
              "      <td>1</td>\n",
              "      <td>0</td>\n",
              "      <td>0</td>\n",
              "      <td>0</td>\n",
              "      <td>0</td>\n",
              "      <td>0</td>\n",
              "      <td>0</td>\n",
              "      <td>0</td>\n",
              "      <td>0</td>\n",
              "      <td>0</td>\n",
              "      <td>0</td>\n",
              "      <td>0</td>\n",
              "      <td>0</td>\n",
              "      <td>0</td>\n",
              "      <td>0</td>\n",
              "      <td>0</td>\n",
              "      <td>1</td>\n",
              "      <td>0</td>\n",
              "      <td>0</td>\n",
              "      <td>0</td>\n",
              "      <td>0</td>\n",
              "      <td>0</td>\n",
              "      <td>0</td>\n",
              "      <td>1</td>\n",
              "      <td>0</td>\n",
              "      <td>0</td>\n",
              "      <td>1</td>\n",
              "      <td>0</td>\n",
              "      <td>0</td>\n",
              "      <td>...</td>\n",
              "      <td>0</td>\n",
              "      <td>0</td>\n",
              "      <td>1</td>\n",
              "      <td>0</td>\n",
              "      <td>0</td>\n",
              "      <td>0</td>\n",
              "      <td>0</td>\n",
              "      <td>0</td>\n",
              "      <td>0</td>\n",
              "      <td>0</td>\n",
              "      <td>0</td>\n",
              "      <td>0</td>\n",
              "      <td>0</td>\n",
              "      <td>0</td>\n",
              "      <td>0</td>\n",
              "      <td>0</td>\n",
              "      <td>0</td>\n",
              "      <td>0</td>\n",
              "      <td>0</td>\n",
              "      <td>0</td>\n",
              "      <td>0</td>\n",
              "      <td>0</td>\n",
              "      <td>0</td>\n",
              "      <td>0</td>\n",
              "      <td>0</td>\n",
              "      <td>0</td>\n",
              "      <td>0</td>\n",
              "      <td>0</td>\n",
              "      <td>1</td>\n",
              "      <td>0</td>\n",
              "      <td>0</td>\n",
              "      <td>0</td>\n",
              "      <td>0</td>\n",
              "      <td>0</td>\n",
              "      <td>0</td>\n",
              "      <td>0</td>\n",
              "      <td>0</td>\n",
              "      <td>0</td>\n",
              "      <td>1</td>\n",
              "      <td>0</td>\n",
              "    </tr>\n",
              "  </tbody>\n",
              "</table>\n",
              "<p>5 rows × 435 columns</p>\n",
              "</div>"
            ],
            "text/plain": [
              "   Eficiencia (bin)  ...  9 - Evaluación de tiempos, teórico\n",
              "0                 0  ...                                   0\n",
              "1                 0  ...                                   0\n",
              "2                 1  ...                                   0\n",
              "3                 1  ...                                   0\n",
              "4                 0  ...                                   0\n",
              "\n",
              "[5 rows x 435 columns]"
            ]
          },
          "metadata": {
            "tags": []
          },
          "execution_count": 307
        }
      ]
    },
    {
      "cell_type": "markdown",
      "metadata": {
        "colab_type": "text",
        "id": "oQMDd_dZDLaN"
      },
      "source": [
        "Creamos nuestra data de entrenamiento y de test"
      ]
    },
    {
      "cell_type": "code",
      "metadata": {
        "colab_type": "code",
        "id": "cjxgoFL5DLaO",
        "colab": {}
      },
      "source": [
        "from sklearn.model_selection import train_test_split\n",
        "X_train, X_test, y_train, y_test = train_test_split(train.drop('Eficiencia (bin)',axis=1),\n",
        "                                                    train['Eficiencia (bin)'],\n",
        "                                                    test_size=0.30,random_state=42)"
      ],
      "execution_count": 308,
      "outputs": []
    },
    {
      "cell_type": "markdown",
      "metadata": {
        "colab_type": "text",
        "id": "LiQ8ZnM4DLaQ"
      },
      "source": [
        "Importamos el modelo, creamos la regresión y entrenamos con nuestra data de entrenamiento"
      ]
    },
    {
      "cell_type": "code",
      "metadata": {
        "colab_type": "code",
        "id": "uMfw6G_YDLaQ",
        "colab": {
          "base_uri": "https://localhost:8080/",
          "height": 102
        },
        "outputId": "d68129f8-92f9-4e2f-ec7c-760d59204ae8"
      },
      "source": [
        "from sklearn.linear_model import LogisticRegression\n",
        "modelo = LogisticRegression()\n",
        "modelo.fit(X_train,y_train)"
      ],
      "execution_count": 309,
      "outputs": [
        {
          "output_type": "execute_result",
          "data": {
            "text/plain": [
              "LogisticRegression(C=1.0, class_weight=None, dual=False, fit_intercept=True,\n",
              "                   intercept_scaling=1, l1_ratio=None, max_iter=100,\n",
              "                   multi_class='auto', n_jobs=None, penalty='l2',\n",
              "                   random_state=None, solver='lbfgs', tol=0.0001, verbose=0,\n",
              "                   warm_start=False)"
            ]
          },
          "metadata": {
            "tags": []
          },
          "execution_count": 309
        }
      ]
    },
    {
      "cell_type": "markdown",
      "metadata": {
        "colab_type": "text",
        "id": "fXBP0qxZDLaT"
      },
      "source": [
        "Predicción con la data de test"
      ]
    },
    {
      "cell_type": "code",
      "metadata": {
        "colab_type": "code",
        "id": "radV2Av1DLaT",
        "colab": {}
      },
      "source": [
        "y_pred = modelo.predict(X_test)"
      ],
      "execution_count": 310,
      "outputs": []
    },
    {
      "cell_type": "markdown",
      "metadata": {
        "colab_type": "text",
        "id": "2R6jaBOdDLaV"
      },
      "source": [
        "Evaluacion del modelo"
      ]
    },
    {
      "cell_type": "code",
      "metadata": {
        "colab_type": "code",
        "id": "ftaWbTmiDLaW",
        "colab": {
          "base_uri": "https://localhost:8080/",
          "height": 170
        },
        "outputId": "615d443e-200f-4123-8435-f7f64089cac2"
      },
      "source": [
        "from sklearn.metrics import classification_report\n",
        "print(classification_report(y_test,y_pred))"
      ],
      "execution_count": 311,
      "outputs": [
        {
          "output_type": "stream",
          "text": [
            "              precision    recall  f1-score   support\n",
            "\n",
            "           0       0.86      0.89      0.87       261\n",
            "           1       0.90      0.87      0.88       287\n",
            "\n",
            "    accuracy                           0.88       548\n",
            "   macro avg       0.88      0.88      0.88       548\n",
            "weighted avg       0.88      0.88      0.88       548\n",
            "\n"
          ],
          "name": "stdout"
        }
      ]
    },
    {
      "cell_type": "code",
      "metadata": {
        "colab_type": "code",
        "id": "YIQz075qDLaY",
        "colab": {
          "base_uri": "https://localhost:8080/",
          "height": 51
        },
        "outputId": "bf9ddaec-3568-4b6d-db1c-04479b95210b"
      },
      "source": [
        "from sklearn.metrics import confusion_matrix\n",
        "cnf_matrix = confusion_matrix(y_test,y_pred)\n",
        "print(cnf_matrix)"
      ],
      "execution_count": 312,
      "outputs": [
        {
          "output_type": "stream",
          "text": [
            "[[232  29]\n",
            " [ 38 249]]\n"
          ],
          "name": "stdout"
        }
      ]
    },
    {
      "cell_type": "code",
      "metadata": {
        "id": "lMxOZG8bzwxM",
        "colab_type": "code",
        "colab": {
          "base_uri": "https://localhost:8080/",
          "height": 340
        },
        "outputId": "243430d9-893f-4b44-9d2c-4264714a79b4"
      },
      "source": [
        "class_names=[0,1] # name  of classes\n",
        "fig, ax = plt.subplots()\n",
        "tick_marks = np.arange(len(class_names))\n",
        "plt.xticks(tick_marks, class_names)\n",
        "plt.yticks(tick_marks, class_names)\n",
        "# create heatmap\n",
        "sns.heatmap(pd.DataFrame(cnf_matrix), annot=True, cmap=\"YlGnBu\" ,fmt='g')\n",
        "ax.xaxis.set_label_position(\"top\")\n",
        "plt.tight_layout()\n",
        "plt.title('Matriz de Confusión', y=1.1)\n",
        "plt.ylabel('Actual Eficiencia')\n",
        "plt.xlabel('Predicción Eficiencia')"
      ],
      "execution_count": 313,
      "outputs": [
        {
          "output_type": "execute_result",
          "data": {
            "text/plain": [
              "Text(0.5, 257.44, 'Predicción Eficiencia')"
            ]
          },
          "metadata": {
            "tags": []
          },
          "execution_count": 313
        },
        {
          "output_type": "display_data",
          "data": {
            "image/png": "[encoded data removed]",
            "text/plain": [
              "<Figure size 432x288 with 2 Axes>"
            ]
          },
          "metadata": {
            "tags": []
          }
        }
      ]
    },
    {
      "cell_type": "code",
      "metadata": {
        "colab_type": "code",
        "id": "Ihb6NtU5DLab",
        "colab": {
          "base_uri": "https://localhost:8080/",
          "height": 85
        },
        "outputId": "f7a7f135-e708-4fa1-95d9-937a52a950d6"
      },
      "source": [
        "print(\"Eficiencia\")\n",
        "print(\"Accuracy:\",metrics.accuracy_score(y_test, y_pred))\n",
        "print(\"Precision:\",metrics.precision_score(y_test, y_pred))\n",
        "print(\"Recall:\",metrics.recall_score(y_test, y_pred))"
      ],
      "execution_count": 314,
      "outputs": [
        {
          "output_type": "stream",
          "text": [
            "Eficiencia\n",
            "Accuracy: 0.8777372262773723\n",
            "Precision: 0.89568345323741\n",
            "Recall: 0.867595818815331\n"
          ],
          "name": "stdout"
        }
      ]
    },
    {
      "cell_type": "markdown",
      "metadata": {
        "id": "ghwtEBgV64Qu",
        "colab_type": "text"
      },
      "source": [
        "Curva ROC\n",
        "La curva de la característica operativa del receptor (ROC) es un gráfico de la tasa de verdaderos positivos contra la tasa de falsos positivos. Muestra la compensación entre sensibilidad y especificidad."
      ]
    },
    {
      "cell_type": "code",
      "metadata": {
        "id": "e-s8ovCR2bcE",
        "colab_type": "code",
        "colab": {
          "base_uri": "https://localhost:8080/",
          "height": 268
        },
        "outputId": "b60f377a-884d-450e-ba23-76f6098eeb4f"
      },
      "source": [
        "y_pred_proba = modelo.predict_proba(X_test)[::,1]\n",
        "fpr, tpr, _ = metrics.roc_curve(y_test,  y_pred_proba)\n",
        "auc = metrics.roc_auc_score(y_test, y_pred_proba)\n",
        "plt.plot(fpr,tpr,label=\"data 1, auc=\"+str(auc))\n",
        "plt.legend(loc=4)\n",
        "plt.show()"
      ],
      "execution_count": 315,
      "outputs": [
        {
          "output_type": "display_data",
          "data": {
            "image/png": "[encoded data removed]",
            "text/plain": [
              "<Figure size 432x288 with 1 Axes>"
            ]
          },
          "metadata": {
            "tags": []
          }
        }
      ]
    },
    {
      "cell_type": "markdown",
      "metadata": {
        "id": "UPCQdSAU7CTh",
        "colab_type": "text"
      },
      "source": [
        "La puntuación AUC para el caso es 0,95. La puntuación AUC 1 representa un clasificador perfecto y 0,5 representa un clasificador sin valor."
      ]
    },
    {
      "cell_type": "code",
      "metadata": {
        "id": "yzteWhmz6n_5",
        "colab_type": "code",
        "colab": {}
      },
      "source": [
        ""
      ],
      "execution_count": 315,
      "outputs": []
    },
    {
      "cell_type": "markdown",
      "metadata": {
        "colab_type": "text",
        "id": "hkmsUibRDLad"
      },
      "source": [
        "##Decision Tree"
      ]
    },
    {
      "cell_type": "code",
      "metadata": {
        "colab_type": "code",
        "id": "56i5CuDoDLad",
        "colab": {}
      },
      "source": [
        "from sklearn.tree import DecisionTreeClassifier"
      ],
      "execution_count": 316,
      "outputs": []
    },
    {
      "cell_type": "code",
      "metadata": {
        "colab_type": "code",
        "id": "yyZ6n_VzDLai",
        "colab": {}
      },
      "source": [
        "modelo = DecisionTreeClassifier()"
      ],
      "execution_count": 317,
      "outputs": []
    },
    {
      "cell_type": "code",
      "metadata": {
        "colab_type": "code",
        "id": "SI7HLGC7DLal",
        "colab": {
          "base_uri": "https://localhost:8080/",
          "height": 119
        },
        "outputId": "52b0c8a6-a192-4df2-af33-3c36096579b6"
      },
      "source": [
        "modelo.fit(X_train,y_train)"
      ],
      "execution_count": 318,
      "outputs": [
        {
          "output_type": "execute_result",
          "data": {
            "text/plain": [
              "DecisionTreeClassifier(ccp_alpha=0.0, class_weight=None, criterion='gini',\n",
              "                       max_depth=None, max_features=None, max_leaf_nodes=None,\n",
              "                       min_impurity_decrease=0.0, min_impurity_split=None,\n",
              "                       min_samples_leaf=1, min_samples_split=2,\n",
              "                       min_weight_fraction_leaf=0.0, presort='deprecated',\n",
              "                       random_state=None, splitter='best')"
            ]
          },
          "metadata": {
            "tags": []
          },
          "execution_count": 318
        }
      ]
    },
    {
      "cell_type": "code",
      "metadata": {
        "colab_type": "code",
        "id": "NCAaGd3cDLao",
        "colab": {}
      },
      "source": [
        "y_pred = modelo.predict(X_test)"
      ],
      "execution_count": 319,
      "outputs": []
    },
    {
      "cell_type": "code",
      "metadata": {
        "colab_type": "code",
        "id": "aqa7GV0dDLaq",
        "colab": {
          "base_uri": "https://localhost:8080/",
          "height": 170
        },
        "outputId": "72664b6e-53bb-4521-bb0a-7089541f4aeb"
      },
      "source": [
        "print(classification_report(y_test,y_pred))"
      ],
      "execution_count": 320,
      "outputs": [
        {
          "output_type": "stream",
          "text": [
            "              precision    recall  f1-score   support\n",
            "\n",
            "           0       0.85      0.84      0.84       261\n",
            "           1       0.85      0.86      0.86       287\n",
            "\n",
            "    accuracy                           0.85       548\n",
            "   macro avg       0.85      0.85      0.85       548\n",
            "weighted avg       0.85      0.85      0.85       548\n",
            "\n"
          ],
          "name": "stdout"
        }
      ]
    },
    {
      "cell_type": "code",
      "metadata": {
        "colab_type": "code",
        "id": "OOkpKdFCDLas",
        "colab": {
          "base_uri": "https://localhost:8080/",
          "height": 51
        },
        "outputId": "e6e11d5d-0492-432a-9c2c-fc045a678046"
      },
      "source": [
        "print(confusion_matrix(y_test,y_pred))"
      ],
      "execution_count": 321,
      "outputs": [
        {
          "output_type": "stream",
          "text": [
            "[[218  43]\n",
            " [ 39 248]]\n"
          ],
          "name": "stdout"
        }
      ]
    },
    {
      "cell_type": "code",
      "metadata": {
        "colab_type": "code",
        "id": "AQohMA-nDLau",
        "colab": {}
      },
      "source": [
        ""
      ],
      "execution_count": 321,
      "outputs": []
    },
    {
      "cell_type": "markdown",
      "metadata": {
        "colab_type": "text",
        "id": "mmX4-aJqDLaw"
      },
      "source": [
        "##Random Forest"
      ]
    },
    {
      "cell_type": "code",
      "metadata": {
        "colab_type": "code",
        "id": "VP0a6lvpDLaw",
        "colab": {}
      },
      "source": [
        "from sklearn.ensemble import RandomForestClassifier"
      ],
      "execution_count": 322,
      "outputs": []
    },
    {
      "cell_type": "code",
      "metadata": {
        "colab_type": "code",
        "id": "TytbAUiWDLay",
        "colab": {}
      },
      "source": [
        "modelo = RandomForestClassifier(n_estimators=100)"
      ],
      "execution_count": 323,
      "outputs": []
    },
    {
      "cell_type": "code",
      "metadata": {
        "colab_type": "code",
        "id": "FX_35u9NDLa1",
        "colab": {
          "base_uri": "https://localhost:8080/",
          "height": 153
        },
        "outputId": "52efa780-3a2f-4073-cb5c-4b8791554e44"
      },
      "source": [
        "modelo.fit(X_train,y_train)"
      ],
      "execution_count": 324,
      "outputs": [
        {
          "output_type": "execute_result",
          "data": {
            "text/plain": [
              "RandomForestClassifier(bootstrap=True, ccp_alpha=0.0, class_weight=None,\n",
              "                       criterion='gini', max_depth=None, max_features='auto',\n",
              "                       max_leaf_nodes=None, max_samples=None,\n",
              "                       min_impurity_decrease=0.0, min_impurity_split=None,\n",
              "                       min_samples_leaf=1, min_samples_split=2,\n",
              "                       min_weight_fraction_leaf=0.0, n_estimators=100,\n",
              "                       n_jobs=None, oob_score=False, random_state=None,\n",
              "                       verbose=0, warm_start=False)"
            ]
          },
          "metadata": {
            "tags": []
          },
          "execution_count": 324
        }
      ]
    },
    {
      "cell_type": "code",
      "metadata": {
        "colab_type": "code",
        "id": "hWK66jt7DLa4",
        "colab": {}
      },
      "source": [
        "y_pred = modelo.predict(X_test)"
      ],
      "execution_count": 325,
      "outputs": []
    },
    {
      "cell_type": "code",
      "metadata": {
        "colab_type": "code",
        "id": "bOmZFih7DLa6",
        "colab": {
          "base_uri": "https://localhost:8080/",
          "height": 170
        },
        "outputId": "54282597-141a-4b0a-be20-ae8deba694d2"
      },
      "source": [
        "print(classification_report(y_test,y_pred))"
      ],
      "execution_count": 326,
      "outputs": [
        {
          "output_type": "stream",
          "text": [
            "              precision    recall  f1-score   support\n",
            "\n",
            "           0       0.88      0.87      0.87       261\n",
            "           1       0.88      0.89      0.89       287\n",
            "\n",
            "    accuracy                           0.88       548\n",
            "   macro avg       0.88      0.88      0.88       548\n",
            "weighted avg       0.88      0.88      0.88       548\n",
            "\n"
          ],
          "name": "stdout"
        }
      ]
    },
    {
      "cell_type": "code",
      "metadata": {
        "colab_type": "code",
        "id": "r4-ZyWbMDLa8",
        "colab": {
          "base_uri": "https://localhost:8080/",
          "height": 51
        },
        "outputId": "f9d2093f-f2dc-454b-e867-f664fc550d26"
      },
      "source": [
        "from sklearn.metrics import confusion_matrix\n",
        "cnf_matrix = confusion_matrix(y_test,y_pred)\n",
        "print(cnf_matrix)"
      ],
      "execution_count": 327,
      "outputs": [
        {
          "output_type": "stream",
          "text": [
            "[[226  35]\n",
            " [ 31 256]]\n"
          ],
          "name": "stdout"
        }
      ]
    },
    {
      "cell_type": "code",
      "metadata": {
        "id": "HpDH5y7bFOB1",
        "colab_type": "code",
        "colab": {
          "base_uri": "https://localhost:8080/",
          "height": 340
        },
        "outputId": "c5d10838-568d-4546-c5fc-7c4a7956b6a8"
      },
      "source": [
        "class_names=[0,1] # name  of classes\n",
        "fig, ax = plt.subplots()\n",
        "tick_marks = np.arange(len(class_names))\n",
        "plt.xticks(tick_marks, class_names)\n",
        "plt.yticks(tick_marks, class_names)\n",
        "# create heatmap\n",
        "sns.heatmap(pd.DataFrame(cnf_matrix), annot=True, cmap=\"YlGnBu\" ,fmt='g')\n",
        "ax.xaxis.set_label_position(\"top\")\n",
        "plt.tight_layout()\n",
        "plt.title('Matriz de Confusión', y=1.1)\n",
        "plt.ylabel('Actual Eficiencia')\n",
        "plt.xlabel('Predicción Eficiencia')"
      ],
      "execution_count": 328,
      "outputs": [
        {
          "output_type": "execute_result",
          "data": {
            "text/plain": [
              "Text(0.5, 257.44, 'Predicción Eficiencia')"
            ]
          },
          "metadata": {
            "tags": []
          },
          "execution_count": 328
        },
        {
          "output_type": "display_data",
          "data": {
            "image/png": "[encoded data removed]",
            "text/plain": [
              "<Figure size 432x288 with 2 Axes>"
            ]
          },
          "metadata": {
            "tags": []
          }
        }
      ]
    },
    {
      "cell_type": "code",
      "metadata": {
        "colab_type": "code",
        "id": "NwK7J-aIDLa-",
        "colab": {
          "base_uri": "https://localhost:8080/",
          "height": 85
        },
        "outputId": "248ac225-7db9-45f8-e6ea-b3722b37e2c3"
      },
      "source": [
        "print(\"Eficiencia\")\n",
        "print(\"Accuracy:\",metrics.accuracy_score(y_test, y_pred))\n",
        "print(\"Precision:\",metrics.precision_score(y_test, y_pred))\n",
        "print(\"Recall:\",metrics.recall_score(y_test, y_pred))"
      ],
      "execution_count": 329,
      "outputs": [
        {
          "output_type": "stream",
          "text": [
            "Eficiencia\n",
            "Accuracy: 0.8795620437956204\n",
            "Precision: 0.8797250859106529\n",
            "Recall: 0.89198606271777\n"
          ],
          "name": "stdout"
        }
      ]
    },
    {
      "cell_type": "code",
      "metadata": {
        "id": "7KE8mhjoFUd9",
        "colab_type": "code",
        "colab": {}
      },
      "source": [
        ""
      ],
      "execution_count": 329,
      "outputs": []
    },
    {
      "cell_type": "markdown",
      "metadata": {
        "colab_type": "text",
        "id": "ny4KK08EDLbA"
      },
      "source": [
        "###Importancia de las variables"
      ]
    },
    {
      "cell_type": "code",
      "metadata": {
        "colab_type": "code",
        "id": "K5kvx8N-DLbB",
        "colab": {}
      },
      "source": [
        "importancia = list(modelo.feature_importances_)"
      ],
      "execution_count": 330,
      "outputs": []
    },
    {
      "cell_type": "code",
      "metadata": {
        "colab_type": "code",
        "id": "jQL8kOHwDLbE",
        "colab": {}
      },
      "source": [
        "for i in range(len(importancia)):\n",
        "  print(f'--> Variable: {train.columns[i+1]} Importancia: {importancia[i]}')"
      ],
      "execution_count": null,
      "outputs": []
    },
    {
      "cell_type": "code",
      "metadata": {
        "id": "oJbE-oh-KFdd",
        "colab_type": "code",
        "colab": {}
      },
      "source": [
        ""
      ],
      "execution_count": null,
      "outputs": []
    },
    {
      "cell_type": "markdown",
      "metadata": {
        "id": "BmgqFp9ZXPY0",
        "colab_type": "text"
      },
      "source": [
        "##PCA"
      ]
    },
    {
      "cell_type": "code",
      "metadata": {
        "id": "UUiCbrPIXUE3",
        "colab_type": "code",
        "colab": {}
      },
      "source": [
        "from sklearn.decomposition import PCA"
      ],
      "execution_count": null,
      "outputs": []
    },
    {
      "cell_type": "code",
      "metadata": {
        "id": "bGZ-C3Rxhh6u",
        "colab_type": "code",
        "colab": {}
      },
      "source": [
        "pca = PCA(n_components=2)"
      ],
      "execution_count": null,
      "outputs": []
    },
    {
      "cell_type": "code",
      "metadata": {
        "id": "fB1BvwrOXnSB",
        "colab_type": "code",
        "colab": {
          "base_uri": "https://localhost:8080/",
          "height": 51
        },
        "outputId": "44e96b9e-ec0a-42ff-9d14-8013744099bb"
      },
      "source": [
        "pca.fit(train)"
      ],
      "execution_count": null,
      "outputs": [
        {
          "output_type": "execute_result",
          "data": {
            "text/plain": [
              "PCA(copy=True, iterated_power='auto', n_components=2, random_state=None,\n",
              "    svd_solver='auto', tol=0.0, whiten=False)"
            ]
          },
          "metadata": {
            "tags": []
          },
          "execution_count": 182
        }
      ]
    },
    {
      "cell_type": "code",
      "metadata": {
        "id": "W6A1TA2jg2Vk",
        "colab_type": "code",
        "colab": {}
      },
      "source": [
        "x_pca = pca.transform(train)"
      ],
      "execution_count": null,
      "outputs": []
    },
    {
      "cell_type": "code",
      "metadata": {
        "id": "ltpKhxPFhqSc",
        "colab_type": "code",
        "colab": {
          "base_uri": "https://localhost:8080/",
          "height": 34
        },
        "outputId": "58b861dd-79e2-4615-de85-e863475e706d"
      },
      "source": [
        "x_pca.shape"
      ],
      "execution_count": null,
      "outputs": [
        {
          "output_type": "execute_result",
          "data": {
            "text/plain": [
              "(1825, 2)"
            ]
          },
          "metadata": {
            "tags": []
          },
          "execution_count": 184
        }
      ]
    },
    {
      "cell_type": "code",
      "metadata": {
        "id": "saiYGC-DiRV5",
        "colab_type": "code",
        "colab": {
          "base_uri": "https://localhost:8080/",
          "height": 427
        },
        "outputId": "ef3450a0-7e60-4789-8dfa-1d4210802a86"
      },
      "source": [
        "plt.figure(figsize=(8,6))\n",
        "ax = sns.scatterplot(x_pca[:,0],x_pca[:,1], hue=train['Eficiencia (bin)'], alpha=0.3)\n",
        "plt.xlabel('Componente Principal 1')\n",
        "plt.ylabel('Componente Principal 2')\n",
        "plt.title('PCA')"
      ],
      "execution_count": null,
      "outputs": [
        {
          "output_type": "execute_result",
          "data": {
            "text/plain": [
              "Text(0.5, 1.0, 'PCA')"
            ]
          },
          "metadata": {
            "tags": []
          },
          "execution_count": 185
        },
        {
          "output_type": "display_data",
          "data": {
            "image/png": "[encoded data removed]",
            "text/plain": [
              "<Figure size 576x432 with 1 Axes>"
            ]
          },
          "metadata": {
            "tags": []
          }
        }
      ]
    },
    {
      "cell_type": "code",
      "metadata": {
        "id": "TPhDDNFSAsb2",
        "colab_type": "code",
        "colab": {}
      },
      "source": [
        ""
      ],
      "execution_count": null,
      "outputs": []
    },
    {
      "cell_type": "markdown",
      "metadata": {
        "id": "9llfz7TSCrKS",
        "colab_type": "text"
      },
      "source": [
        "# Predicción Tdem (seg)"
      ]
    },
    {
      "cell_type": "markdown",
      "metadata": {
        "id": "5eSA_Jp4r6IC",
        "colab_type": "text"
      },
      "source": [
        "##Regresión Lineal"
      ]
    },
    {
      "cell_type": "markdown",
      "metadata": {
        "id": "wTtezhKduLpe",
        "colab_type": "text"
      },
      "source": [
        "Importamos y seleccionamos las variables que ocuparemos en el modelo"
      ]
    },
    {
      "cell_type": "code",
      "metadata": {
        "id": "ChVSMO0Cr4-7",
        "colab_type": "code",
        "colab": {}
      },
      "source": [
        "from sklearn.model_selection import train_test_split\n",
        "X = df_scaled[['Turno','Equipo','Movimiento (t)','Cargas (u)','Edad del empleado']]\n",
        "y = df_scaled['tdem (seg)']"
      ],
      "execution_count": 332,
      "outputs": []
    },
    {
      "cell_type": "markdown",
      "metadata": {
        "id": "P-0GbgVZuSuI",
        "colab_type": "text"
      },
      "source": [
        "Creamos la data de entrenamiento y test"
      ]
    },
    {
      "cell_type": "code",
      "metadata": {
        "id": "wgmUxF2gtWD9",
        "colab_type": "code",
        "colab": {}
      },
      "source": [
        "X_train, X_test, y_train, y_test = train_test_split(X, y, test_size=0.4, random_state=42)"
      ],
      "execution_count": 333,
      "outputs": []
    },
    {
      "cell_type": "markdown",
      "metadata": {
        "id": "IdH7MOj6uXBy",
        "colab_type": "text"
      },
      "source": [
        "Importamos el modelo de regresion lineal, creamos la regresion y generamos el .fit con la data de entrenamiento"
      ]
    },
    {
      "cell_type": "code",
      "metadata": {
        "id": "mVUxbFtdts_0",
        "colab_type": "code",
        "colab": {
          "base_uri": "https://localhost:8080/",
          "height": 34
        },
        "outputId": "507de8f1-95e1-406d-8935-bc0ae9099725"
      },
      "source": [
        "from sklearn import linear_model\n",
        "modelo = linear_model.LinearRegression()\n",
        "modelo.fit(X_train,y_train)"
      ],
      "execution_count": 334,
      "outputs": [
        {
          "output_type": "execute_result",
          "data": {
            "text/plain": [
              "LinearRegression(copy_X=True, fit_intercept=True, n_jobs=None, normalize=False)"
            ]
          },
          "metadata": {
            "tags": []
          },
          "execution_count": 334
        }
      ]
    },
    {
      "cell_type": "markdown",
      "metadata": {
        "id": "R2yh12ieunWw",
        "colab_type": "text"
      },
      "source": [
        "\n",
        "Predicción con la data de test"
      ]
    },
    {
      "cell_type": "code",
      "metadata": {
        "id": "ZMgMttIgtu_r",
        "colab_type": "code",
        "colab": {}
      },
      "source": [
        "y_pred = modelo.predict(X_test)"
      ],
      "execution_count": 335,
      "outputs": []
    },
    {
      "cell_type": "code",
      "metadata": {
        "id": "D3XNkjLuuuVb",
        "colab_type": "code",
        "colab": {
          "base_uri": "https://localhost:8080/",
          "height": 204
        },
        "outputId": "56bd0940-acc5-42dc-c588-0d6372b07f61"
      },
      "source": [
        "pd.DataFrame(modelo.coef_,X.columns,columns=['Coefficient'])"
      ],
      "execution_count": 336,
      "outputs": [
        {
          "output_type": "execute_result",
          "data": {
            "text/html": [
              "<div>\n",
              "<style scoped>\n",
              "    .dataframe tbody tr th:only-of-type {\n",
              "        vertical-align: middle;\n",
              "    }\n",
              "\n",
              "    .dataframe tbody tr th {\n",
              "        vertical-align: top;\n",
              "    }\n",
              "\n",
              "    .dataframe thead th {\n",
              "        text-align: right;\n",
              "    }\n",
              "</style>\n",
              "<table border=\"1\" class=\"dataframe\">\n",
              "  <thead>\n",
              "    <tr style=\"text-align: right;\">\n",
              "      <th></th>\n",
              "      <th>Coefficient</th>\n",
              "    </tr>\n",
              "  </thead>\n",
              "  <tbody>\n",
              "    <tr>\n",
              "      <th>Turno</th>\n",
              "      <td>0.188476</td>\n",
              "    </tr>\n",
              "    <tr>\n",
              "      <th>Equipo</th>\n",
              "      <td>0.002288</td>\n",
              "    </tr>\n",
              "    <tr>\n",
              "      <th>Movimiento (t)</th>\n",
              "      <td>-2.403934</td>\n",
              "    </tr>\n",
              "    <tr>\n",
              "      <th>Cargas (u)</th>\n",
              "      <td>2.713557</td>\n",
              "    </tr>\n",
              "    <tr>\n",
              "      <th>Edad del empleado</th>\n",
              "      <td>-0.005269</td>\n",
              "    </tr>\n",
              "  </tbody>\n",
              "</table>\n",
              "</div>"
            ],
            "text/plain": [
              "                   Coefficient\n",
              "Turno                 0.188476\n",
              "Equipo                0.002288\n",
              "Movimiento (t)       -2.403934\n",
              "Cargas (u)            2.713557\n",
              "Edad del empleado    -0.005269"
            ]
          },
          "metadata": {
            "tags": []
          },
          "execution_count": 336
        }
      ]
    },
    {
      "cell_type": "code",
      "metadata": {
        "id": "d20e-eUGt3T1",
        "colab_type": "code",
        "colab": {
          "base_uri": "https://localhost:8080/",
          "height": 356
        },
        "outputId": "89b0972b-0c07-4fd0-ea44-3032e0690eb1"
      },
      "source": [
        "plt.figure(figsize=(10,5))\n",
        "sns.scatterplot(y_test,y_pred,color='blue',alpha=0.5)"
      ],
      "execution_count": 337,
      "outputs": [
        {
          "output_type": "execute_result",
          "data": {
            "text/plain": [
              "<matplotlib.axes._subplots.AxesSubplot at 0x7f7836d615f8>"
            ]
          },
          "metadata": {
            "tags": []
          },
          "execution_count": 337
        },
        {
          "output_type": "display_data",
          "data": {
            "image/png": "[encoded data removed]",
            "text/plain": [
              "<Figure size 720x360 with 1 Axes>"
            ]
          },
          "metadata": {
            "tags": []
          }
        }
      ]
    },
    {
      "cell_type": "markdown",
      "metadata": {
        "id": "Yjx6NaQRu4z0",
        "colab_type": "text"
      },
      "source": [
        "Residuales"
      ]
    },
    {
      "cell_type": "code",
      "metadata": {
        "id": "NYTICpJht_jG",
        "colab_type": "code",
        "colab": {
          "base_uri": "https://localhost:8080/",
          "height": 302
        },
        "outputId": "3288b2af-e8f2-4b95-ad6e-a5324d25a005"
      },
      "source": [
        "sns.distplot((y_test-y_pred),bins=50)"
      ],
      "execution_count": 338,
      "outputs": [
        {
          "output_type": "execute_result",
          "data": {
            "text/plain": [
              "<matplotlib.axes._subplots.AxesSubplot at 0x7f782a592198>"
            ]
          },
          "metadata": {
            "tags": []
          },
          "execution_count": 338
        },
        {
          "output_type": "display_data",
          "data": {
            "image/png": "[encoded data removed]",
            "text/plain": [
              "<Figure size 432x288 with 1 Axes>"
            ]
          },
          "metadata": {
            "tags": []
          }
        }
      ]
    },
    {
      "cell_type": "markdown",
      "metadata": {
        "id": "znH6r_o5u6Gy",
        "colab_type": "text"
      },
      "source": [
        "Error Cuadratico Medio"
      ]
    },
    {
      "cell_type": "code",
      "metadata": {
        "id": "V_tHE-MTuDNr",
        "colab_type": "code",
        "colab": {
          "base_uri": "https://localhost:8080/",
          "height": 34
        },
        "outputId": "a1462cab-cdab-4f93-ebfe-f3ee4ab4e3ba"
      },
      "source": [
        "from sklearn import metrics\n",
        "print(f'Error Cuadrático Medio: {metrics.mean_squared_error(y_test,y_pred)}')"
      ],
      "execution_count": 339,
      "outputs": [
        {
          "output_type": "stream",
          "text": [
            "Error Cuadrático Medio: 0.9489034464801674\n"
          ],
          "name": "stdout"
        }
      ]
    },
    {
      "cell_type": "markdown",
      "metadata": {
        "id": "fJjWgM1zu8-M",
        "colab_type": "text"
      },
      "source": [
        "Se peude decir que la regresion lineal no en el mejor modelo para este tipo de data"
      ]
    },
    {
      "cell_type": "code",
      "metadata": {
        "id": "CQ2jFjGgvLvv",
        "colab_type": "code",
        "colab": {}
      },
      "source": [
        ""
      ],
      "execution_count": 339,
      "outputs": []
    },
    {
      "cell_type": "markdown",
      "metadata": {
        "id": "2_0hj4rxgIip",
        "colab_type": "text"
      },
      "source": [
        "##Regresión Logística"
      ]
    },
    {
      "cell_type": "markdown",
      "metadata": {
        "id": "Nkh9lMF0j6vg",
        "colab_type": "text"
      },
      "source": [
        "Generamos nuestro data de entrenamiento y le eliminamos las columnas que no ocuparemos en el modolamiento"
      ]
    },
    {
      "cell_type": "code",
      "metadata": {
        "id": "n1SgIpEegXix",
        "colab_type": "code",
        "colab": {}
      },
      "source": [
        "filtro = ['Demora (bin)','Cargas (u)','Movimiento (t)','Edad del empleado']\n",
        "train = df_scaled[filtro]"
      ],
      "execution_count": 340,
      "outputs": []
    },
    {
      "cell_type": "code",
      "metadata": {
        "id": "SonQhALaWA80",
        "colab_type": "code",
        "colab": {
          "base_uri": "https://localhost:8080/",
          "height": 204
        },
        "outputId": "ecbced47-e42a-45f7-d7ef-270491e9b20c"
      },
      "source": [
        "train.info()"
      ],
      "execution_count": 341,
      "outputs": [
        {
          "output_type": "stream",
          "text": [
            "<class 'pandas.core.frame.DataFrame'>\n",
            "RangeIndex: 1825 entries, 0 to 1824\n",
            "Data columns (total 4 columns):\n",
            " #   Column             Non-Null Count  Dtype  \n",
            "---  ------             --------------  -----  \n",
            " 0   Demora (bin)       1825 non-null   int64  \n",
            " 1   Cargas (u)         1825 non-null   float64\n",
            " 2   Movimiento (t)     1825 non-null   float64\n",
            " 3   Edad del empleado  1825 non-null   float64\n",
            "dtypes: float64(3), int64(1)\n",
            "memory usage: 57.2 KB\n"
          ],
          "name": "stdout"
        }
      ]
    },
    {
      "cell_type": "markdown",
      "metadata": {
        "id": "L6ScVyuOiJT9",
        "colab_type": "text"
      },
      "source": [
        "Creamos nuestras variables dummies"
      ]
    },
    {
      "cell_type": "code",
      "metadata": {
        "id": "eIEsZe8VI0H5",
        "colab_type": "code",
        "colab": {}
      },
      "source": [
        "unidad = pd.get_dummies(df_scaled['Unidad organizativa'])\n",
        "posicion = pd.get_dummies(df_scaled['Posición'])\n",
        "turno = pd.get_dummies(df_scaled['Turno'])\n",
        "fecha = pd.get_dummies(df_scaled['Fecha'])\n",
        "numero_personal = pd.get_dummies(df_scaled['Número de personal'])\n",
        "alta = pd.get_dummies(df_scaled['Fecha de alta'])\n",
        "status = pd.get_dummies(df_scaled['Status empleado para Gestión tiempos per'])"
      ],
      "execution_count": 342,
      "outputs": []
    },
    {
      "cell_type": "markdown",
      "metadata": {
        "id": "2IBV0cQ8jZ7q",
        "colab_type": "text"
      },
      "source": [
        "Agregamos las variables dummies a la data de entrenamiento"
      ]
    },
    {
      "cell_type": "code",
      "metadata": {
        "id": "rIuvZ0pXiG-A",
        "colab_type": "code",
        "colab": {}
      },
      "source": [
        "train = pd.concat([train,unidad,posicion,turno,fecha,numero_personal,alta,status],axis=1)"
      ],
      "execution_count": 343,
      "outputs": []
    },
    {
      "cell_type": "code",
      "metadata": {
        "id": "XBgfpXe9kzoh",
        "colab_type": "code",
        "colab": {
          "base_uri": "https://localhost:8080/",
          "height": 338
        },
        "outputId": "d1187cdb-3811-4b19-9c5a-6708c5c62b69"
      },
      "source": [
        "train.head()"
      ],
      "execution_count": 344,
      "outputs": [
        {
          "output_type": "execute_result",
          "data": {
            "text/html": [
              "<div>\n",
              "<style scoped>\n",
              "    .dataframe tbody tr th:only-of-type {\n",
              "        vertical-align: middle;\n",
              "    }\n",
              "\n",
              "    .dataframe tbody tr th {\n",
              "        vertical-align: top;\n",
              "    }\n",
              "\n",
              "    .dataframe thead th {\n",
              "        text-align: right;\n",
              "    }\n",
              "</style>\n",
              "<table border=\"1\" class=\"dataframe\">\n",
              "  <thead>\n",
              "    <tr style=\"text-align: right;\">\n",
              "      <th></th>\n",
              "      <th>Demora (bin)</th>\n",
              "      <th>Cargas (u)</th>\n",
              "      <th>Movimiento (t)</th>\n",
              "      <th>Edad del empleado</th>\n",
              "      <th>ADMINISTRACION SUPTCIA PLANTAS</th>\n",
              "      <th>ALJIBES MLC</th>\n",
              "      <th>CAMIONES CAT 793F MLC</th>\n",
              "      <th>CAMIONES KOMATSU 830E MLC</th>\n",
              "      <th>CARGADORES FRONTALES MLC</th>\n",
              "      <th>GEOLOGIA DE PRODUCCION</th>\n",
              "      <th>INGENIERIA DE PROCESOS</th>\n",
              "      <th>MANTENIMIENTO MINA</th>\n",
              "      <th>MOTONIVELADORAS MLC</th>\n",
              "      <th>PALAS HIDRAULICAS MLC</th>\n",
              "      <th>PLANIFICACION MANTTO. MINA</th>\n",
              "      <th>SERVICIO SOCIAL VHUASCO</th>\n",
              "      <th>SISTEMAS DE CONTROL Y POTENCIA</th>\n",
              "      <th>TRACTORES NEUMATICOS MLC</th>\n",
              "      <th>TRACTORES ORUGA MLC</th>\n",
              "      <th>ASISTENTE GEOLOGIA</th>\n",
              "      <th>AYUDANTE ADMINISTRATIVO</th>\n",
              "      <th>CONTROLADOR PLANIFICACION</th>\n",
              "      <th>ELECTRICO I</th>\n",
              "      <th>ELECTRICO III</th>\n",
              "      <th>INGENIERO DE PROCESOS</th>\n",
              "      <th>JEFE SISTEMAS DE CONTROL Y POTENCIA</th>\n",
              "      <th>MECANICO I</th>\n",
              "      <th>MECANICO III</th>\n",
              "      <th>OPERADOR ELECTRICO II PLANTA</th>\n",
              "      <th>OPERADOR I</th>\n",
              "      <th>OPERADOR II</th>\n",
              "      <th>OPERADOR III</th>\n",
              "      <th>OPERADOR MECANICO III PLANTA</th>\n",
              "      <th>PLANIFICADOR MANTENIMIENTO MINA</th>\n",
              "      <th>1</th>\n",
              "      <th>2</th>\n",
              "      <th>2019-07-01</th>\n",
              "      <th>2019-07-02</th>\n",
              "      <th>2019-07-03</th>\n",
              "      <th>2019-07-04</th>\n",
              "      <th>...</th>\n",
              "      <th>20003244</th>\n",
              "      <th>20003260</th>\n",
              "      <th>20003278</th>\n",
              "      <th>20003408</th>\n",
              "      <th>20003778</th>\n",
              "      <th>20003779</th>\n",
              "      <th>20003858</th>\n",
              "      <th>20004398</th>\n",
              "      <th>20004884</th>\n",
              "      <th>20004895</th>\n",
              "      <th>20005055</th>\n",
              "      <th>20005968</th>\n",
              "      <th>20006912</th>\n",
              "      <th>1988-09-01</th>\n",
              "      <th>1996-07-01</th>\n",
              "      <th>1996-09-23</th>\n",
              "      <th>1996-12-17</th>\n",
              "      <th>1997-02-01</th>\n",
              "      <th>1997-03-19</th>\n",
              "      <th>1997-12-01</th>\n",
              "      <th>1998-03-25</th>\n",
              "      <th>1998-03-31</th>\n",
              "      <th>2003-05-30</th>\n",
              "      <th>2003-06-01</th>\n",
              "      <th>2006-02-16</th>\n",
              "      <th>2006-03-29</th>\n",
              "      <th>2008-08-12</th>\n",
              "      <th>2011-01-17</th>\n",
              "      <th>2011-04-01</th>\n",
              "      <th>2011-07-01</th>\n",
              "      <th>2011-10-01</th>\n",
              "      <th>2012-02-20</th>\n",
              "      <th>2012-11-07</th>\n",
              "      <th>2013-03-01</th>\n",
              "      <th>2013-09-01</th>\n",
              "      <th>2013-11-01</th>\n",
              "      <th>2017-03-08</th>\n",
              "      <th>2019-06-03</th>\n",
              "      <th>1 - Evaluación de tiempos, real</th>\n",
              "      <th>9 - Evaluación de tiempos, teórico</th>\n",
              "    </tr>\n",
              "  </thead>\n",
              "  <tbody>\n",
              "    <tr>\n",
              "      <th>0</th>\n",
              "      <td>0</td>\n",
              "      <td>0.668797</td>\n",
              "      <td>0.625564</td>\n",
              "      <td>-1.424177</td>\n",
              "      <td>0</td>\n",
              "      <td>0</td>\n",
              "      <td>0</td>\n",
              "      <td>0</td>\n",
              "      <td>0</td>\n",
              "      <td>0</td>\n",
              "      <td>0</td>\n",
              "      <td>1</td>\n",
              "      <td>0</td>\n",
              "      <td>0</td>\n",
              "      <td>0</td>\n",
              "      <td>0</td>\n",
              "      <td>0</td>\n",
              "      <td>0</td>\n",
              "      <td>0</td>\n",
              "      <td>0</td>\n",
              "      <td>0</td>\n",
              "      <td>0</td>\n",
              "      <td>0</td>\n",
              "      <td>1</td>\n",
              "      <td>0</td>\n",
              "      <td>0</td>\n",
              "      <td>0</td>\n",
              "      <td>0</td>\n",
              "      <td>0</td>\n",
              "      <td>0</td>\n",
              "      <td>0</td>\n",
              "      <td>0</td>\n",
              "      <td>0</td>\n",
              "      <td>0</td>\n",
              "      <td>0</td>\n",
              "      <td>1</td>\n",
              "      <td>1</td>\n",
              "      <td>0</td>\n",
              "      <td>0</td>\n",
              "      <td>0</td>\n",
              "      <td>...</td>\n",
              "      <td>0</td>\n",
              "      <td>0</td>\n",
              "      <td>0</td>\n",
              "      <td>0</td>\n",
              "      <td>0</td>\n",
              "      <td>0</td>\n",
              "      <td>0</td>\n",
              "      <td>0</td>\n",
              "      <td>0</td>\n",
              "      <td>0</td>\n",
              "      <td>0</td>\n",
              "      <td>0</td>\n",
              "      <td>0</td>\n",
              "      <td>0</td>\n",
              "      <td>0</td>\n",
              "      <td>0</td>\n",
              "      <td>0</td>\n",
              "      <td>0</td>\n",
              "      <td>0</td>\n",
              "      <td>0</td>\n",
              "      <td>0</td>\n",
              "      <td>0</td>\n",
              "      <td>0</td>\n",
              "      <td>0</td>\n",
              "      <td>0</td>\n",
              "      <td>0</td>\n",
              "      <td>0</td>\n",
              "      <td>0</td>\n",
              "      <td>0</td>\n",
              "      <td>0</td>\n",
              "      <td>1</td>\n",
              "      <td>0</td>\n",
              "      <td>0</td>\n",
              "      <td>0</td>\n",
              "      <td>0</td>\n",
              "      <td>0</td>\n",
              "      <td>0</td>\n",
              "      <td>0</td>\n",
              "      <td>1</td>\n",
              "      <td>0</td>\n",
              "    </tr>\n",
              "    <tr>\n",
              "      <th>1</th>\n",
              "      <td>0</td>\n",
              "      <td>-1.277362</td>\n",
              "      <td>-1.268354</td>\n",
              "      <td>0.729983</td>\n",
              "      <td>0</td>\n",
              "      <td>0</td>\n",
              "      <td>0</td>\n",
              "      <td>0</td>\n",
              "      <td>0</td>\n",
              "      <td>0</td>\n",
              "      <td>0</td>\n",
              "      <td>1</td>\n",
              "      <td>0</td>\n",
              "      <td>0</td>\n",
              "      <td>0</td>\n",
              "      <td>0</td>\n",
              "      <td>0</td>\n",
              "      <td>0</td>\n",
              "      <td>0</td>\n",
              "      <td>0</td>\n",
              "      <td>0</td>\n",
              "      <td>0</td>\n",
              "      <td>0</td>\n",
              "      <td>0</td>\n",
              "      <td>0</td>\n",
              "      <td>0</td>\n",
              "      <td>1</td>\n",
              "      <td>0</td>\n",
              "      <td>0</td>\n",
              "      <td>0</td>\n",
              "      <td>0</td>\n",
              "      <td>0</td>\n",
              "      <td>0</td>\n",
              "      <td>0</td>\n",
              "      <td>0</td>\n",
              "      <td>1</td>\n",
              "      <td>1</td>\n",
              "      <td>0</td>\n",
              "      <td>0</td>\n",
              "      <td>0</td>\n",
              "      <td>...</td>\n",
              "      <td>0</td>\n",
              "      <td>0</td>\n",
              "      <td>0</td>\n",
              "      <td>0</td>\n",
              "      <td>0</td>\n",
              "      <td>0</td>\n",
              "      <td>0</td>\n",
              "      <td>0</td>\n",
              "      <td>0</td>\n",
              "      <td>0</td>\n",
              "      <td>0</td>\n",
              "      <td>0</td>\n",
              "      <td>0</td>\n",
              "      <td>0</td>\n",
              "      <td>0</td>\n",
              "      <td>0</td>\n",
              "      <td>0</td>\n",
              "      <td>0</td>\n",
              "      <td>1</td>\n",
              "      <td>0</td>\n",
              "      <td>0</td>\n",
              "      <td>0</td>\n",
              "      <td>0</td>\n",
              "      <td>0</td>\n",
              "      <td>0</td>\n",
              "      <td>0</td>\n",
              "      <td>0</td>\n",
              "      <td>0</td>\n",
              "      <td>0</td>\n",
              "      <td>0</td>\n",
              "      <td>0</td>\n",
              "      <td>0</td>\n",
              "      <td>0</td>\n",
              "      <td>0</td>\n",
              "      <td>0</td>\n",
              "      <td>0</td>\n",
              "      <td>0</td>\n",
              "      <td>0</td>\n",
              "      <td>1</td>\n",
              "      <td>0</td>\n",
              "    </tr>\n",
              "    <tr>\n",
              "      <th>2</th>\n",
              "      <td>1</td>\n",
              "      <td>0.836983</td>\n",
              "      <td>0.853396</td>\n",
              "      <td>1.419314</td>\n",
              "      <td>1</td>\n",
              "      <td>0</td>\n",
              "      <td>0</td>\n",
              "      <td>0</td>\n",
              "      <td>0</td>\n",
              "      <td>0</td>\n",
              "      <td>0</td>\n",
              "      <td>0</td>\n",
              "      <td>0</td>\n",
              "      <td>0</td>\n",
              "      <td>0</td>\n",
              "      <td>0</td>\n",
              "      <td>0</td>\n",
              "      <td>0</td>\n",
              "      <td>0</td>\n",
              "      <td>0</td>\n",
              "      <td>0</td>\n",
              "      <td>0</td>\n",
              "      <td>0</td>\n",
              "      <td>0</td>\n",
              "      <td>0</td>\n",
              "      <td>0</td>\n",
              "      <td>0</td>\n",
              "      <td>0</td>\n",
              "      <td>1</td>\n",
              "      <td>0</td>\n",
              "      <td>0</td>\n",
              "      <td>0</td>\n",
              "      <td>0</td>\n",
              "      <td>0</td>\n",
              "      <td>0</td>\n",
              "      <td>1</td>\n",
              "      <td>1</td>\n",
              "      <td>0</td>\n",
              "      <td>0</td>\n",
              "      <td>0</td>\n",
              "      <td>...</td>\n",
              "      <td>0</td>\n",
              "      <td>0</td>\n",
              "      <td>0</td>\n",
              "      <td>0</td>\n",
              "      <td>0</td>\n",
              "      <td>0</td>\n",
              "      <td>0</td>\n",
              "      <td>0</td>\n",
              "      <td>0</td>\n",
              "      <td>0</td>\n",
              "      <td>0</td>\n",
              "      <td>0</td>\n",
              "      <td>0</td>\n",
              "      <td>0</td>\n",
              "      <td>0</td>\n",
              "      <td>0</td>\n",
              "      <td>0</td>\n",
              "      <td>0</td>\n",
              "      <td>0</td>\n",
              "      <td>0</td>\n",
              "      <td>0</td>\n",
              "      <td>1</td>\n",
              "      <td>0</td>\n",
              "      <td>0</td>\n",
              "      <td>0</td>\n",
              "      <td>0</td>\n",
              "      <td>0</td>\n",
              "      <td>0</td>\n",
              "      <td>0</td>\n",
              "      <td>0</td>\n",
              "      <td>0</td>\n",
              "      <td>0</td>\n",
              "      <td>0</td>\n",
              "      <td>0</td>\n",
              "      <td>0</td>\n",
              "      <td>0</td>\n",
              "      <td>0</td>\n",
              "      <td>0</td>\n",
              "      <td>1</td>\n",
              "      <td>0</td>\n",
              "    </tr>\n",
              "    <tr>\n",
              "      <th>3</th>\n",
              "      <td>0</td>\n",
              "      <td>1.990262</td>\n",
              "      <td>1.963414</td>\n",
              "      <td>0.212984</td>\n",
              "      <td>0</td>\n",
              "      <td>0</td>\n",
              "      <td>1</td>\n",
              "      <td>0</td>\n",
              "      <td>0</td>\n",
              "      <td>0</td>\n",
              "      <td>0</td>\n",
              "      <td>0</td>\n",
              "      <td>0</td>\n",
              "      <td>0</td>\n",
              "      <td>0</td>\n",
              "      <td>0</td>\n",
              "      <td>0</td>\n",
              "      <td>0</td>\n",
              "      <td>0</td>\n",
              "      <td>0</td>\n",
              "      <td>0</td>\n",
              "      <td>0</td>\n",
              "      <td>0</td>\n",
              "      <td>0</td>\n",
              "      <td>0</td>\n",
              "      <td>0</td>\n",
              "      <td>0</td>\n",
              "      <td>0</td>\n",
              "      <td>0</td>\n",
              "      <td>0</td>\n",
              "      <td>0</td>\n",
              "      <td>1</td>\n",
              "      <td>0</td>\n",
              "      <td>0</td>\n",
              "      <td>1</td>\n",
              "      <td>0</td>\n",
              "      <td>0</td>\n",
              "      <td>1</td>\n",
              "      <td>0</td>\n",
              "      <td>0</td>\n",
              "      <td>...</td>\n",
              "      <td>0</td>\n",
              "      <td>0</td>\n",
              "      <td>0</td>\n",
              "      <td>0</td>\n",
              "      <td>0</td>\n",
              "      <td>0</td>\n",
              "      <td>0</td>\n",
              "      <td>0</td>\n",
              "      <td>0</td>\n",
              "      <td>1</td>\n",
              "      <td>0</td>\n",
              "      <td>0</td>\n",
              "      <td>0</td>\n",
              "      <td>0</td>\n",
              "      <td>0</td>\n",
              "      <td>0</td>\n",
              "      <td>0</td>\n",
              "      <td>0</td>\n",
              "      <td>0</td>\n",
              "      <td>0</td>\n",
              "      <td>0</td>\n",
              "      <td>0</td>\n",
              "      <td>0</td>\n",
              "      <td>0</td>\n",
              "      <td>0</td>\n",
              "      <td>0</td>\n",
              "      <td>0</td>\n",
              "      <td>0</td>\n",
              "      <td>0</td>\n",
              "      <td>0</td>\n",
              "      <td>0</td>\n",
              "      <td>0</td>\n",
              "      <td>0</td>\n",
              "      <td>0</td>\n",
              "      <td>1</td>\n",
              "      <td>0</td>\n",
              "      <td>0</td>\n",
              "      <td>0</td>\n",
              "      <td>1</td>\n",
              "      <td>0</td>\n",
              "    </tr>\n",
              "    <tr>\n",
              "      <th>4</th>\n",
              "      <td>0</td>\n",
              "      <td>-1.397495</td>\n",
              "      <td>-1.392686</td>\n",
              "      <td>-1.079512</td>\n",
              "      <td>0</td>\n",
              "      <td>0</td>\n",
              "      <td>0</td>\n",
              "      <td>0</td>\n",
              "      <td>0</td>\n",
              "      <td>0</td>\n",
              "      <td>0</td>\n",
              "      <td>1</td>\n",
              "      <td>0</td>\n",
              "      <td>0</td>\n",
              "      <td>0</td>\n",
              "      <td>0</td>\n",
              "      <td>0</td>\n",
              "      <td>0</td>\n",
              "      <td>0</td>\n",
              "      <td>0</td>\n",
              "      <td>0</td>\n",
              "      <td>0</td>\n",
              "      <td>0</td>\n",
              "      <td>0</td>\n",
              "      <td>0</td>\n",
              "      <td>0</td>\n",
              "      <td>0</td>\n",
              "      <td>1</td>\n",
              "      <td>0</td>\n",
              "      <td>0</td>\n",
              "      <td>0</td>\n",
              "      <td>0</td>\n",
              "      <td>0</td>\n",
              "      <td>0</td>\n",
              "      <td>1</td>\n",
              "      <td>0</td>\n",
              "      <td>0</td>\n",
              "      <td>1</td>\n",
              "      <td>0</td>\n",
              "      <td>0</td>\n",
              "      <td>...</td>\n",
              "      <td>0</td>\n",
              "      <td>0</td>\n",
              "      <td>1</td>\n",
              "      <td>0</td>\n",
              "      <td>0</td>\n",
              "      <td>0</td>\n",
              "      <td>0</td>\n",
              "      <td>0</td>\n",
              "      <td>0</td>\n",
              "      <td>0</td>\n",
              "      <td>0</td>\n",
              "      <td>0</td>\n",
              "      <td>0</td>\n",
              "      <td>0</td>\n",
              "      <td>0</td>\n",
              "      <td>0</td>\n",
              "      <td>0</td>\n",
              "      <td>0</td>\n",
              "      <td>0</td>\n",
              "      <td>0</td>\n",
              "      <td>0</td>\n",
              "      <td>0</td>\n",
              "      <td>0</td>\n",
              "      <td>0</td>\n",
              "      <td>0</td>\n",
              "      <td>0</td>\n",
              "      <td>0</td>\n",
              "      <td>0</td>\n",
              "      <td>1</td>\n",
              "      <td>0</td>\n",
              "      <td>0</td>\n",
              "      <td>0</td>\n",
              "      <td>0</td>\n",
              "      <td>0</td>\n",
              "      <td>0</td>\n",
              "      <td>0</td>\n",
              "      <td>0</td>\n",
              "      <td>0</td>\n",
              "      <td>1</td>\n",
              "      <td>0</td>\n",
              "    </tr>\n",
              "  </tbody>\n",
              "</table>\n",
              "<p>5 rows × 435 columns</p>\n",
              "</div>"
            ],
            "text/plain": [
              "   Demora (bin)  ...  9 - Evaluación de tiempos, teórico\n",
              "0             0  ...                                   0\n",
              "1             0  ...                                   0\n",
              "2             1  ...                                   0\n",
              "3             0  ...                                   0\n",
              "4             0  ...                                   0\n",
              "\n",
              "[5 rows x 435 columns]"
            ]
          },
          "metadata": {
            "tags": []
          },
          "execution_count": 344
        }
      ]
    },
    {
      "cell_type": "markdown",
      "metadata": {
        "id": "BdL-JpfjmMfM",
        "colab_type": "text"
      },
      "source": [
        "Creamos nuestra data de entrenamiento y de test"
      ]
    },
    {
      "cell_type": "code",
      "metadata": {
        "id": "RxspgsE0kish",
        "colab_type": "code",
        "colab": {}
      },
      "source": [
        "from sklearn.model_selection import train_test_split\n",
        "X_train, X_test, y_train, y_test = train_test_split(train.drop('Demora (bin)',axis=1),\n",
        "                                                    train['Demora (bin)'],\n",
        "                                                    test_size=0.30,random_state=42)"
      ],
      "execution_count": 345,
      "outputs": []
    },
    {
      "cell_type": "markdown",
      "metadata": {
        "id": "twww7wKAniGm",
        "colab_type": "text"
      },
      "source": [
        "Importamos el modelo, creamos la regresión y entrenamos con nuestra data de entrenamiento"
      ]
    },
    {
      "cell_type": "code",
      "metadata": {
        "id": "3U42X6YkmHph",
        "colab_type": "code",
        "colab": {
          "base_uri": "https://localhost:8080/",
          "height": 102
        },
        "outputId": "9e69b955-f90b-4a33-d454-992fdd11c0c5"
      },
      "source": [
        "from sklearn.linear_model import LogisticRegression\n",
        "modelo = LogisticRegression()\n",
        "modelo.fit(X_train,y_train)"
      ],
      "execution_count": 346,
      "outputs": [
        {
          "output_type": "execute_result",
          "data": {
            "text/plain": [
              "LogisticRegression(C=1.0, class_weight=None, dual=False, fit_intercept=True,\n",
              "                   intercept_scaling=1, l1_ratio=None, max_iter=100,\n",
              "                   multi_class='auto', n_jobs=None, penalty='l2',\n",
              "                   random_state=None, solver='lbfgs', tol=0.0001, verbose=0,\n",
              "                   warm_start=False)"
            ]
          },
          "metadata": {
            "tags": []
          },
          "execution_count": 346
        }
      ]
    },
    {
      "cell_type": "markdown",
      "metadata": {
        "id": "l0hxfk1-nw7N",
        "colab_type": "text"
      },
      "source": [
        "Predicción con la data de test"
      ]
    },
    {
      "cell_type": "code",
      "metadata": {
        "id": "Yso-AHXEmdnq",
        "colab_type": "code",
        "colab": {}
      },
      "source": [
        "y_pred = modelo.predict(X_test)"
      ],
      "execution_count": 347,
      "outputs": []
    },
    {
      "cell_type": "markdown",
      "metadata": {
        "id": "DivMnBkQqvqR",
        "colab_type": "text"
      },
      "source": [
        "Evaluacion del modelo"
      ]
    },
    {
      "cell_type": "code",
      "metadata": {
        "id": "V-9LGlaCqrLQ",
        "colab_type": "code",
        "colab": {
          "base_uri": "https://localhost:8080/",
          "height": 170
        },
        "outputId": "53e68f19-d7ad-4d6d-df43-bb2f02650af8"
      },
      "source": [
        "from sklearn.metrics import classification_report\n",
        "print(classification_report(y_test,y_pred))"
      ],
      "execution_count": 348,
      "outputs": [
        {
          "output_type": "stream",
          "text": [
            "              precision    recall  f1-score   support\n",
            "\n",
            "           0       0.69      0.70      0.70       270\n",
            "           1       0.71      0.70      0.70       278\n",
            "\n",
            "    accuracy                           0.70       548\n",
            "   macro avg       0.70      0.70      0.70       548\n",
            "weighted avg       0.70      0.70      0.70       548\n",
            "\n"
          ],
          "name": "stdout"
        }
      ]
    },
    {
      "cell_type": "code",
      "metadata": {
        "id": "rWHM5yv_tNcI",
        "colab_type": "code",
        "colab": {
          "base_uri": "https://localhost:8080/",
          "height": 51
        },
        "outputId": "d31b7156-58d7-4f08-d5af-5ed9ac123274"
      },
      "source": [
        "from sklearn.metrics import confusion_matrix\n",
        "cnf_matrix = confusion_matrix(y_test,y_pred)\n",
        "print(cnf_matrix)"
      ],
      "execution_count": 349,
      "outputs": [
        {
          "output_type": "stream",
          "text": [
            "[[189  81]\n",
            " [ 84 194]]\n"
          ],
          "name": "stdout"
        }
      ]
    },
    {
      "cell_type": "code",
      "metadata": {
        "id": "woAieHYInHeq",
        "colab_type": "code",
        "colab": {
          "base_uri": "https://localhost:8080/",
          "height": 340
        },
        "outputId": "b860ce8d-1b7c-49c3-9d82-fae3f5b8416b"
      },
      "source": [
        "class_names=[0,1] # name  of classes\n",
        "fig, ax = plt.subplots()\n",
        "tick_marks = np.arange(len(class_names))\n",
        "plt.xticks(tick_marks, class_names)\n",
        "plt.yticks(tick_marks, class_names)\n",
        "# create heatmap\n",
        "sns.heatmap(pd.DataFrame(cnf_matrix), annot=True, cmap=\"YlGnBu\" ,fmt='g')\n",
        "ax.xaxis.set_label_position(\"top\")\n",
        "plt.tight_layout()\n",
        "plt.title('Matriz de Confusión', y=1.1)\n",
        "plt.ylabel('Actual Demora')\n",
        "plt.xlabel('Predicción Demora')"
      ],
      "execution_count": 350,
      "outputs": [
        {
          "output_type": "execute_result",
          "data": {
            "text/plain": [
              "Text(0.5, 257.44, 'Predicción Demora')"
            ]
          },
          "metadata": {
            "tags": []
          },
          "execution_count": 350
        },
        {
          "output_type": "display_data",
          "data": {
            "image/png": "[encoded data removed]",
            "text/plain": [
              "<Figure size 432x288 with 2 Axes>"
            ]
          },
          "metadata": {
            "tags": []
          }
        }
      ]
    },
    {
      "cell_type": "code",
      "metadata": {
        "id": "HAGT2HY44b0y",
        "colab_type": "code",
        "colab": {
          "base_uri": "https://localhost:8080/",
          "height": 85
        },
        "outputId": "e25d926f-d23c-42fc-e041-3cf23ca38bf0"
      },
      "source": [
        "print(\"Demora\")\n",
        "print(\"Accuracy:\",metrics.accuracy_score(y_test, y_pred))\n",
        "print(\"Precision:\",metrics.precision_score(y_test, y_pred))\n",
        "print(\"Recall:\",metrics.recall_score(y_test, y_pred))"
      ],
      "execution_count": 351,
      "outputs": [
        {
          "output_type": "stream",
          "text": [
            "Demora\n",
            "Accuracy: 0.698905109489051\n",
            "Precision: 0.7054545454545454\n",
            "Recall: 0.697841726618705\n"
          ],
          "name": "stdout"
        }
      ]
    },
    {
      "cell_type": "code",
      "metadata": {
        "id": "OtkjaBvA4ckc",
        "colab_type": "code",
        "colab": {}
      },
      "source": [
        ""
      ],
      "execution_count": 351,
      "outputs": []
    },
    {
      "cell_type": "markdown",
      "metadata": {
        "id": "krBNDhgjmS0_",
        "colab_type": "text"
      },
      "source": [
        "##Decision Tree"
      ]
    },
    {
      "cell_type": "code",
      "metadata": {
        "id": "wSyEDYDNmXFf",
        "colab_type": "code",
        "colab": {}
      },
      "source": [
        "from sklearn.tree import DecisionTreeClassifier"
      ],
      "execution_count": 352,
      "outputs": []
    },
    {
      "cell_type": "code",
      "metadata": {
        "id": "HfoH7o8Fmcnu",
        "colab_type": "code",
        "colab": {}
      },
      "source": [
        "modelo = DecisionTreeClassifier()"
      ],
      "execution_count": 353,
      "outputs": []
    },
    {
      "cell_type": "code",
      "metadata": {
        "id": "FTLVu9H_mgcR",
        "colab_type": "code",
        "colab": {
          "base_uri": "https://localhost:8080/",
          "height": 119
        },
        "outputId": "58c626cf-1dac-41d0-824a-eb3a9c91f2b5"
      },
      "source": [
        "modelo.fit(X_train,y_train)"
      ],
      "execution_count": 354,
      "outputs": [
        {
          "output_type": "execute_result",
          "data": {
            "text/plain": [
              "DecisionTreeClassifier(ccp_alpha=0.0, class_weight=None, criterion='gini',\n",
              "                       max_depth=None, max_features=None, max_leaf_nodes=None,\n",
              "                       min_impurity_decrease=0.0, min_impurity_split=None,\n",
              "                       min_samples_leaf=1, min_samples_split=2,\n",
              "                       min_weight_fraction_leaf=0.0, presort='deprecated',\n",
              "                       random_state=None, splitter='best')"
            ]
          },
          "metadata": {
            "tags": []
          },
          "execution_count": 354
        }
      ]
    },
    {
      "cell_type": "code",
      "metadata": {
        "id": "S5-YjZkEmnZE",
        "colab_type": "code",
        "colab": {}
      },
      "source": [
        "y_pred = modelo.predict(X_test)"
      ],
      "execution_count": 355,
      "outputs": []
    },
    {
      "cell_type": "code",
      "metadata": {
        "id": "d8QtDO0Smu2J",
        "colab_type": "code",
        "colab": {
          "base_uri": "https://localhost:8080/",
          "height": 170
        },
        "outputId": "8e7d3c76-0ea1-4352-8b3c-35a4523f4566"
      },
      "source": [
        "print(classification_report(y_test,y_pred))"
      ],
      "execution_count": 356,
      "outputs": [
        {
          "output_type": "stream",
          "text": [
            "              precision    recall  f1-score   support\n",
            "\n",
            "           0       0.65      0.61      0.63       270\n",
            "           1       0.65      0.68      0.66       278\n",
            "\n",
            "    accuracy                           0.65       548\n",
            "   macro avg       0.65      0.65      0.65       548\n",
            "weighted avg       0.65      0.65      0.65       548\n",
            "\n"
          ],
          "name": "stdout"
        }
      ]
    },
    {
      "cell_type": "code",
      "metadata": {
        "id": "pOoJYCI2mzJb",
        "colab_type": "code",
        "colab": {
          "base_uri": "https://localhost:8080/",
          "height": 51
        },
        "outputId": "f53d43ff-503d-4c7b-d576-270385da3a06"
      },
      "source": [
        "print(confusion_matrix(y_test,y_pred))"
      ],
      "execution_count": 357,
      "outputs": [
        {
          "output_type": "stream",
          "text": [
            "[[166 104]\n",
            " [ 89 189]]\n"
          ],
          "name": "stdout"
        }
      ]
    },
    {
      "cell_type": "code",
      "metadata": {
        "id": "DHn1ydsKnGGu",
        "colab_type": "code",
        "colab": {}
      },
      "source": [
        ""
      ],
      "execution_count": 357,
      "outputs": []
    },
    {
      "cell_type": "markdown",
      "metadata": {
        "id": "E3WtD4UjwzfN",
        "colab_type": "text"
      },
      "source": [
        "##Random Forest"
      ]
    },
    {
      "cell_type": "code",
      "metadata": {
        "id": "dhr2ntGx52OS",
        "colab_type": "code",
        "colab": {}
      },
      "source": [
        "from sklearn.ensemble import RandomForestClassifier"
      ],
      "execution_count": 358,
      "outputs": []
    },
    {
      "cell_type": "code",
      "metadata": {
        "id": "Pj51QmvAnl0F",
        "colab_type": "code",
        "colab": {}
      },
      "source": [
        "modelo = RandomForestClassifier(n_estimators=100)"
      ],
      "execution_count": 359,
      "outputs": []
    },
    {
      "cell_type": "code",
      "metadata": {
        "id": "W6fdOGJTnoSO",
        "colab_type": "code",
        "colab": {
          "base_uri": "https://localhost:8080/",
          "height": 153
        },
        "outputId": "a6afce3b-52cd-4e2e-87de-2d3d69613ce7"
      },
      "source": [
        "modelo.fit(X_train,y_train)"
      ],
      "execution_count": 360,
      "outputs": [
        {
          "output_type": "execute_result",
          "data": {
            "text/plain": [
              "RandomForestClassifier(bootstrap=True, ccp_alpha=0.0, class_weight=None,\n",
              "                       criterion='gini', max_depth=None, max_features='auto',\n",
              "                       max_leaf_nodes=None, max_samples=None,\n",
              "                       min_impurity_decrease=0.0, min_impurity_split=None,\n",
              "                       min_samples_leaf=1, min_samples_split=2,\n",
              "                       min_weight_fraction_leaf=0.0, n_estimators=100,\n",
              "                       n_jobs=None, oob_score=False, random_state=None,\n",
              "                       verbose=0, warm_start=False)"
            ]
          },
          "metadata": {
            "tags": []
          },
          "execution_count": 360
        }
      ]
    },
    {
      "cell_type": "code",
      "metadata": {
        "id": "Qdy2dxCan5Rk",
        "colab_type": "code",
        "colab": {}
      },
      "source": [
        "y_pred = modelo.predict(X_test)"
      ],
      "execution_count": 361,
      "outputs": []
    },
    {
      "cell_type": "code",
      "metadata": {
        "id": "pn436TkWn9X5",
        "colab_type": "code",
        "colab": {
          "base_uri": "https://localhost:8080/",
          "height": 170
        },
        "outputId": "f26d500e-7c9a-4de0-957e-72fc9acecd38"
      },
      "source": [
        "print(classification_report(y_test,y_pred))"
      ],
      "execution_count": 362,
      "outputs": [
        {
          "output_type": "stream",
          "text": [
            "              precision    recall  f1-score   support\n",
            "\n",
            "           0       0.72      0.65      0.68       270\n",
            "           1       0.69      0.75      0.72       278\n",
            "\n",
            "    accuracy                           0.70       548\n",
            "   macro avg       0.70      0.70      0.70       548\n",
            "weighted avg       0.70      0.70      0.70       548\n",
            "\n"
          ],
          "name": "stdout"
        }
      ]
    },
    {
      "cell_type": "code",
      "metadata": {
        "id": "5WagY7vGn_sr",
        "colab_type": "code",
        "colab": {
          "base_uri": "https://localhost:8080/",
          "height": 51
        },
        "outputId": "2d91a991-c440-4b67-e71d-7ad3ab2b4255"
      },
      "source": [
        "from sklearn.metrics import confusion_matrix\n",
        "cnf_matrix = confusion_matrix(y_test,y_pred)\n",
        "print(cnf_matrix)"
      ],
      "execution_count": 363,
      "outputs": [
        {
          "output_type": "stream",
          "text": [
            "[[175  95]\n",
            " [ 69 209]]\n"
          ],
          "name": "stdout"
        }
      ]
    },
    {
      "cell_type": "code",
      "metadata": {
        "id": "SE2dOt53FBV2",
        "colab_type": "code",
        "colab": {
          "base_uri": "https://localhost:8080/",
          "height": 340
        },
        "outputId": "a8485518-0cb6-4c7a-c032-c0c456babcb3"
      },
      "source": [
        "class_names=[0,1] # name  of classes\n",
        "fig, ax = plt.subplots()\n",
        "tick_marks = np.arange(len(class_names))\n",
        "plt.xticks(tick_marks, class_names)\n",
        "plt.yticks(tick_marks, class_names)\n",
        "# create heatmap\n",
        "sns.heatmap(pd.DataFrame(cnf_matrix), annot=True, cmap=\"YlGnBu\" ,fmt='g')\n",
        "ax.xaxis.set_label_position(\"top\")\n",
        "plt.tight_layout()\n",
        "plt.title('Matriz de Demora', y=1.1)\n",
        "plt.ylabel('Actual Demora')\n",
        "plt.xlabel('Predicción Demora')"
      ],
      "execution_count": 364,
      "outputs": [
        {
          "output_type": "execute_result",
          "data": {
            "text/plain": [
              "Text(0.5, 257.44, 'Predicción Demora')"
            ]
          },
          "metadata": {
            "tags": []
          },
          "execution_count": 364
        },
        {
          "output_type": "display_data",
          "data": {
            "image/png": "[encoded data removed]",
            "text/plain": [
              "<Figure size 432x288 with 2 Axes>"
            ]
          },
          "metadata": {
            "tags": []
          }
        }
      ]
    },
    {
      "cell_type": "code",
      "metadata": {
        "id": "H6eDOV-KoBwj",
        "colab_type": "code",
        "colab": {
          "base_uri": "https://localhost:8080/",
          "height": 85
        },
        "outputId": "3c14cbc8-b35f-4d5d-84fe-b073fd5b9971"
      },
      "source": [
        "print(\"Demora\")\n",
        "print(\"Accuracy:\",metrics.accuracy_score(y_test, y_pred))\n",
        "print(\"Precision:\",metrics.precision_score(y_test, y_pred))\n",
        "print(\"Recall:\",metrics.recall_score(y_test, y_pred))"
      ],
      "execution_count": 365,
      "outputs": [
        {
          "output_type": "stream",
          "text": [
            "Demora\n",
            "Accuracy: 0.7007299270072993\n",
            "Precision: 0.6875\n",
            "Recall: 0.7517985611510791\n"
          ],
          "name": "stdout"
        }
      ]
    },
    {
      "cell_type": "code",
      "metadata": {
        "id": "-uWlcWqCFHNI",
        "colab_type": "code",
        "colab": {}
      },
      "source": [
        ""
      ],
      "execution_count": 365,
      "outputs": []
    },
    {
      "cell_type": "markdown",
      "metadata": {
        "id": "BS4PbU6qoYfx",
        "colab_type": "text"
      },
      "source": [
        "###Importancia de las variables"
      ]
    },
    {
      "cell_type": "code",
      "metadata": {
        "id": "dvE3XPZso60o",
        "colab_type": "code",
        "colab": {}
      },
      "source": [
        "importancia = list(modelo.feature_importances_)"
      ],
      "execution_count": 366,
      "outputs": []
    },
    {
      "cell_type": "code",
      "metadata": {
        "id": "kaDNxbsmpADg",
        "colab_type": "code",
        "colab": {
          "base_uri": "https://localhost:8080/",
          "height": 1000
        },
        "outputId": "e524d9ce-304c-41b6-ea9f-9ab70affbdad"
      },
      "source": [
        "for i in range(len(importancia)):\n",
        "  print(f'--> Variable: {train.columns[i+1]} Importancia: {importancia[i]}')"
      ],
      "execution_count": 367,
      "outputs": [
        {
          "output_type": "stream",
          "text": [
            "--> Variable: Cargas (u) Importancia: 0.19502297446605726\n",
            "--> Variable: Movimiento (t) Importancia: 0.17947845377910887\n",
            "--> Variable: Edad del empleado Importancia: 0.01835328659731998\n",
            "--> Variable: ADMINISTRACION SUPTCIA PLANTAS Importancia: 0.0018637051073112148\n",
            "--> Variable: ALJIBES MLC Importancia: 0.0008638400349308106\n",
            "--> Variable: CAMIONES CAT 793F MLC Importancia: 0.00306257742606508\n",
            "--> Variable: CAMIONES KOMATSU 830E MLC Importancia: 0.0020038047181254316\n",
            "--> Variable: CARGADORES FRONTALES MLC Importancia: 0.0011047883207009389\n",
            "--> Variable: GEOLOGIA DE PRODUCCION Importancia: 0.0017090073041819234\n",
            "--> Variable: INGENIERIA DE PROCESOS Importancia: 0.0005064410705611621\n",
            "--> Variable: MANTENIMIENTO MINA Importancia: 0.002927367507156167\n",
            "--> Variable: MOTONIVELADORAS MLC Importancia: 0.0015258107157143516\n",
            "--> Variable: PALAS HIDRAULICAS MLC Importancia: 0.0007634872360766379\n",
            "--> Variable: PLANIFICACION MANTTO. MINA Importancia: 0.0009038606254843597\n",
            "--> Variable: SERVICIO SOCIAL VHUASCO Importancia: 0.001365554692079967\n",
            "--> Variable: SISTEMAS DE CONTROL Y POTENCIA Importancia: 0.0\n",
            "--> Variable: TRACTORES NEUMATICOS MLC Importancia: 0.0009690836388959176\n",
            "--> Variable: TRACTORES ORUGA MLC Importancia: 0.002160741575142491\n",
            "--> Variable: ASISTENTE GEOLOGIA Importancia: 0.0014597305172002835\n",
            "--> Variable: AYUDANTE ADMINISTRATIVO Importancia: 0.0014889054230907046\n",
            "--> Variable: CONTROLADOR PLANIFICACION Importancia: 0.0011744265845371655\n",
            "--> Variable: ELECTRICO I Importancia: 0.001631298911898119\n",
            "--> Variable: ELECTRICO III Importancia: 0.0016289614364318158\n",
            "--> Variable: INGENIERO DE PROCESOS Importancia: 0.00036769109663540325\n",
            "--> Variable: JEFE SISTEMAS DE CONTROL Y POTENCIA Importancia: 0.0\n",
            "--> Variable: MECANICO I Importancia: 0.0034550740789170108\n",
            "--> Variable: MECANICO III Importancia: 0.003205635768803843\n",
            "--> Variable: OPERADOR ELECTRICO II PLANTA Importancia: 0.0024524863018710336\n",
            "--> Variable: OPERADOR I Importancia: 0.0029574988086116085\n",
            "--> Variable: OPERADOR II Importancia: 0.0018238052459867528\n",
            "--> Variable: OPERADOR III Importancia: 0.003361064503077938\n",
            "--> Variable: OPERADOR MECANICO III PLANTA Importancia: 0.002392374736685769\n",
            "--> Variable: PLANIFICADOR MANTENIMIENTO MINA Importancia: 0.0007563964174788892\n",
            "--> Variable: 1 Importancia: 0.012639506435374646\n",
            "--> Variable: 2 Importancia: 0.012676289954940762\n",
            "--> Variable: 2019-07-01 Importancia: 0.001397999282312608\n",
            "--> Variable: 2019-07-02 Importancia: 0.004283371435468965\n",
            "--> Variable: 2019-07-03 Importancia: 0.0011866206185233027\n",
            "--> Variable: 2019-07-04 Importancia: 0.0024332614673661704\n",
            "--> Variable: 2019-07-05 Importancia: 0.0031245083884049395\n",
            "--> Variable: 2019-07-06 Importancia: 0.0036087575449269037\n",
            "--> Variable: 2019-07-07 Importancia: 0.0015743549021837516\n",
            "--> Variable: 2019-07-08 Importancia: 0.002094255561823997\n",
            "--> Variable: 2019-07-09 Importancia: 0.0016141034060705862\n",
            "--> Variable: 2019-07-10 Importancia: 0.0007212957042493081\n",
            "--> Variable: 2019-07-11 Importancia: 0.0020290240472846553\n",
            "--> Variable: 2019-07-12 Importancia: 0.001757495055020051\n",
            "--> Variable: 2019-07-13 Importancia: 0.003742866952207213\n",
            "--> Variable: 2019-07-14 Importancia: 0.002192597813299693\n",
            "--> Variable: 2019-07-15 Importancia: 0.002759436245339088\n",
            "--> Variable: 2019-07-16 Importancia: 0.0023906385913261986\n",
            "--> Variable: 2019-07-17 Importancia: 0.001995333574463903\n",
            "--> Variable: 2019-07-18 Importancia: 0.0017362158764129695\n",
            "--> Variable: 2019-07-19 Importancia: 0.001521241733097311\n",
            "--> Variable: 2019-07-20 Importancia: 0.001226682747948436\n",
            "--> Variable: 2019-07-21 Importancia: 0.003542559071956202\n",
            "--> Variable: 2019-07-22 Importancia: 0.0018641004853645262\n",
            "--> Variable: 2019-07-23 Importancia: 0.0010059696303201494\n",
            "--> Variable: 2019-07-24 Importancia: 0.004693063959183405\n",
            "--> Variable: 2019-07-25 Importancia: 0.0005942326467751219\n",
            "--> Variable: 2019-07-26 Importancia: 0.0013738929154902043\n",
            "--> Variable: 2019-07-27 Importancia: 0.0006207557560711226\n",
            "--> Variable: 2019-07-28 Importancia: 0.0007343110165329637\n",
            "--> Variable: 2019-07-29 Importancia: 0.00139314384229139\n",
            "--> Variable: 2019-07-30 Importancia: 0.0004267431952669483\n",
            "--> Variable: 2019-07-31 Importancia: 0.002489842201468541\n",
            "--> Variable: 2019-08-01 Importancia: 0.0018018530544865285\n",
            "--> Variable: 2019-08-02 Importancia: 0.0004942970770022015\n",
            "--> Variable: 2019-08-03 Importancia: 0.000421947136740418\n",
            "--> Variable: 2019-08-04 Importancia: 0.0021820917684241656\n",
            "--> Variable: 2019-08-05 Importancia: 0.001271812562822663\n",
            "--> Variable: 2019-08-06 Importancia: 0.0017691836966126345\n",
            "--> Variable: 2019-08-07 Importancia: 0.0011567652840599823\n",
            "--> Variable: 2019-08-08 Importancia: 0.002182295709869162\n",
            "--> Variable: 2019-08-09 Importancia: 0.0008659088518181986\n",
            "--> Variable: 2019-08-10 Importancia: 0.0023734266121875573\n",
            "--> Variable: 2019-08-11 Importancia: 0.0016687810077553526\n",
            "--> Variable: 2019-08-12 Importancia: 0.003440134727657197\n",
            "--> Variable: 2019-08-13 Importancia: 0.001686016948452967\n",
            "--> Variable: 2019-08-14 Importancia: 0.0015664701206015946\n",
            "--> Variable: 2019-08-15 Importancia: 0.0016404220404161527\n",
            "--> Variable: 2019-08-16 Importancia: 0.0026903531480599666\n",
            "--> Variable: 2019-08-17 Importancia: 0.003669053728889201\n",
            "--> Variable: 2019-08-18 Importancia: 0.0022828115540783948\n",
            "--> Variable: 2019-08-19 Importancia: 0.0008162079466793234\n",
            "--> Variable: 2019-08-20 Importancia: 0.0010816256082604998\n",
            "--> Variable: 2019-08-21 Importancia: 0.0010244817617520818\n",
            "--> Variable: 2019-08-22 Importancia: 0.00036061505363015257\n",
            "--> Variable: 2019-08-23 Importancia: 0.0014092552711837672\n",
            "--> Variable: 2019-08-24 Importancia: 0.0010311351530705231\n",
            "--> Variable: 2019-08-25 Importancia: 0.0009683634083446858\n",
            "--> Variable: 2019-08-26 Importancia: 0.0022181393520477833\n",
            "--> Variable: 2019-08-27 Importancia: 0.0023975375981616105\n",
            "--> Variable: 2019-08-28 Importancia: 0.0024160555501690903\n",
            "--> Variable: 2019-08-29 Importancia: 0.0009295569261388108\n",
            "--> Variable: 2019-08-30 Importancia: 0.0012267273944379573\n",
            "--> Variable: 2019-08-31 Importancia: 0.0010095173509078272\n",
            "--> Variable: 2019-09-01 Importancia: 0.0006905203689422643\n",
            "--> Variable: 2019-09-02 Importancia: 0.0029855253974873726\n",
            "--> Variable: 2019-09-03 Importancia: 0.0028766064962090607\n",
            "--> Variable: 2019-09-04 Importancia: 0.0036951750373023676\n",
            "--> Variable: 2019-09-05 Importancia: 0.0008020334076024903\n",
            "--> Variable: 2019-09-06 Importancia: 0.0017712448981002317\n",
            "--> Variable: 2019-09-07 Importancia: 0.0026230901713434587\n",
            "--> Variable: 2019-09-08 Importancia: 0.0\n",
            "--> Variable: 2019-09-09 Importancia: 0.00010644318421327842\n",
            "--> Variable: 2019-09-10 Importancia: 0.00044564974907488226\n",
            "--> Variable: 2019-09-11 Importancia: 0.00037899054724280023\n",
            "--> Variable: 2019-09-12 Importancia: 0.0028914363804862083\n",
            "--> Variable: 2019-09-13 Importancia: 0.0028207028111627516\n",
            "--> Variable: 2019-09-14 Importancia: 0.0028588415287029083\n",
            "--> Variable: 2019-09-15 Importancia: 0.0024042494608325186\n",
            "--> Variable: 2019-09-16 Importancia: 0.00024181822570803644\n",
            "--> Variable: 2019-09-17 Importancia: 0.0003217462730416537\n",
            "--> Variable: 2019-09-20 Importancia: 0.0013185697567512954\n",
            "--> Variable: 2019-09-21 Importancia: 0.001649111245528193\n",
            "--> Variable: 2019-09-22 Importancia: 0.0013977228494739217\n",
            "--> Variable: 2019-09-23 Importancia: 0.0007632434045949259\n",
            "--> Variable: 2019-09-24 Importancia: 0.0025498273585050865\n",
            "--> Variable: 2019-09-25 Importancia: 0.0011785026301141734\n",
            "--> Variable: 2019-09-26 Importancia: 0.0007836026687036294\n",
            "--> Variable: 2019-09-27 Importancia: 0.000982537215837264\n",
            "--> Variable: 2019-09-28 Importancia: 0.0018430500046805985\n",
            "--> Variable: 2019-09-29 Importancia: 0.0008170129505750366\n",
            "--> Variable: 2019-09-30 Importancia: 0.0012166216271419668\n",
            "--> Variable: 2019-10-01 Importancia: 0.0017455000358697172\n",
            "--> Variable: 2019-10-02 Importancia: 0.0010943397055881911\n",
            "--> Variable: 2019-10-03 Importancia: 0.0013538953682660272\n",
            "--> Variable: 2019-10-04 Importancia: 0.0009028297784299147\n",
            "--> Variable: 2019-10-05 Importancia: 0.0024473266239325255\n",
            "--> Variable: 2019-10-06 Importancia: 0.000882495639401031\n",
            "--> Variable: 2019-10-07 Importancia: 0.00121263814048145\n",
            "--> Variable: 2019-10-08 Importancia: 0.0014135622339397648\n",
            "--> Variable: 2019-10-09 Importancia: 0.0017087428849670019\n",
            "--> Variable: 2019-10-10 Importancia: 0.001178761449438409\n",
            "--> Variable: 2019-10-11 Importancia: 0.0013642850345655625\n",
            "--> Variable: 2019-10-12 Importancia: 0.0004833086466985052\n",
            "--> Variable: 2019-10-13 Importancia: 0.0007878937283699865\n",
            "--> Variable: 2019-10-14 Importancia: 0.0024949559374292836\n",
            "--> Variable: 2019-10-15 Importancia: 0.0019280251055322983\n",
            "--> Variable: 2019-10-16 Importancia: 0.0007058354581869671\n",
            "--> Variable: 2019-10-17 Importancia: 0.002706498205652467\n",
            "--> Variable: 2019-10-18 Importancia: 0.0005883899175535605\n",
            "--> Variable: 2019-10-19 Importancia: 0.0005046282670601246\n",
            "--> Variable: 2019-10-20 Importancia: 0.0010403572233160863\n",
            "--> Variable: 2019-10-21 Importancia: 0.00011492907809901313\n",
            "--> Variable: 2019-10-22 Importancia: 0.0025615844439907313\n",
            "--> Variable: 2019-10-23 Importancia: 0.00268619417357474\n",
            "--> Variable: 2019-10-26 Importancia: 0.0018515774684202601\n",
            "--> Variable: 2019-10-27 Importancia: 0.0012966869505320919\n",
            "--> Variable: 2019-10-28 Importancia: 0.0019172833791362312\n",
            "--> Variable: 2019-10-30 Importancia: 0.0006102521811598077\n",
            "--> Variable: 2019-10-31 Importancia: 0.00019489645084300132\n",
            "--> Variable: 2019-11-01 Importancia: 0.0009115829438866513\n",
            "--> Variable: 2019-11-02 Importancia: 0.0011378950768310902\n",
            "--> Variable: 2019-11-03 Importancia: 0.0012753727652676764\n",
            "--> Variable: 2019-11-04 Importancia: 0.0005494233638989723\n",
            "--> Variable: 2019-11-05 Importancia: 0.00036010563987356667\n",
            "--> Variable: 2019-11-06 Importancia: 0.001571058604082173\n",
            "--> Variable: 2019-11-07 Importancia: 0.00280135096261351\n",
            "--> Variable: 2019-11-08 Importancia: 0.0004855209050259302\n",
            "--> Variable: 2019-11-09 Importancia: 0.0023169732863210224\n",
            "--> Variable: 2019-11-10 Importancia: 0.002812230424755688\n",
            "--> Variable: 2019-11-11 Importancia: 0.0013520441144808512\n",
            "--> Variable: 2019-11-13 Importancia: 0.0006567755514580299\n",
            "--> Variable: 2019-11-14 Importancia: 0.000427035140865238\n",
            "--> Variable: 2019-11-15 Importancia: 0.0007453870602603124\n",
            "--> Variable: 2019-11-16 Importancia: 0.000971622705109755\n",
            "--> Variable: 2019-11-17 Importancia: 0.001937995443082489\n",
            "--> Variable: 2019-11-18 Importancia: 0.001548685811894865\n",
            "--> Variable: 2019-11-19 Importancia: 0.000966370713079452\n",
            "--> Variable: 2019-11-20 Importancia: 0.0008744516150800017\n",
            "--> Variable: 2019-11-21 Importancia: 0.0015015637846425458\n",
            "--> Variable: 2019-11-22 Importancia: 0.001151860436236771\n",
            "--> Variable: 2019-11-23 Importancia: 0.000581817210014457\n",
            "--> Variable: 2019-11-24 Importancia: 0.0020617325966814973\n",
            "--> Variable: 2019-11-25 Importancia: 0.0013562383070696517\n",
            "--> Variable: 2019-11-26 Importancia: 0.0009624851196836795\n",
            "--> Variable: 2019-11-27 Importancia: 0.001613670857884864\n",
            "--> Variable: 2019-11-28 Importancia: 0.001777630418207544\n",
            "--> Variable: 2019-11-29 Importancia: 0.0015532896964719652\n",
            "--> Variable: 2019-11-30 Importancia: 0.0007994097171811173\n",
            "--> Variable: 2019-12-01 Importancia: 0.0004378096485242286\n",
            "--> Variable: 2019-12-02 Importancia: 0.001740246052172053\n",
            "--> Variable: 2019-12-03 Importancia: 0.0002492692567115175\n",
            "--> Variable: 2019-12-04 Importancia: 0.0014603307869683901\n",
            "--> Variable: 2019-12-05 Importancia: 0.0004235826214914962\n",
            "--> Variable: 2019-12-06 Importancia: 0.00210232471045399\n",
            "--> Variable: 2019-12-07 Importancia: 0.0022537522063137937\n",
            "--> Variable: 2019-12-08 Importancia: 0.0019374591085682378\n",
            "--> Variable: 2019-12-09 Importancia: 0.0021812596395260056\n",
            "--> Variable: 2019-12-10 Importancia: 0.0007321804411353475\n",
            "--> Variable: 2019-12-11 Importancia: 0.0005480024773901631\n",
            "--> Variable: 2019-12-12 Importancia: 0.000879292544648537\n",
            "--> Variable: 2019-12-13 Importancia: 0.0005735182797534247\n",
            "--> Variable: 2019-12-14 Importancia: 0.0018603733829032942\n",
            "--> Variable: 2019-12-15 Importancia: 0.0014508063356828678\n",
            "--> Variable: 2019-12-16 Importancia: 0.00032995604732919195\n",
            "--> Variable: 2019-12-17 Importancia: 0.00040556996957390586\n",
            "--> Variable: 2019-12-18 Importancia: 0.0015194370797657428\n",
            "--> Variable: 2019-12-19 Importancia: 0.000932758827599604\n",
            "--> Variable: 2019-12-20 Importancia: 0.0015009402710587489\n",
            "--> Variable: 2019-12-21 Importancia: 0.0018158351930408236\n",
            "--> Variable: 2019-12-22 Importancia: 0.0017952645109403993\n",
            "--> Variable: 2019-12-23 Importancia: 0.0013631240348139834\n",
            "--> Variable: 2019-12-24 Importancia: 0.0011663875016741172\n",
            "--> Variable: 2019-12-26 Importancia: 0.002027817287164989\n",
            "--> Variable: 2019-12-27 Importancia: 0.0009432125658719648\n",
            "--> Variable: 2019-12-28 Importancia: 0.0007237118501250023\n",
            "--> Variable: 2019-12-29 Importancia: 0.0016380616150467055\n",
            "--> Variable: 2019-12-30 Importancia: 0.002972399079861028\n",
            "--> Variable: 2019-12-31 Importancia: 0.002109832386319053\n",
            "--> Variable: 2020-01-02 Importancia: 0.0012964573316426725\n",
            "--> Variable: 2020-01-03 Importancia: 0.0\n",
            "--> Variable: 2020-01-04 Importancia: 0.000306693276958425\n",
            "--> Variable: 2020-01-05 Importancia: 0.000497066987301901\n",
            "--> Variable: 2020-01-06 Importancia: 0.0010128493911809916\n",
            "--> Variable: 2020-01-07 Importancia: 0.00022931838159073273\n",
            "--> Variable: 2020-01-08 Importancia: 0.0006810884900638532\n",
            "--> Variable: 2020-01-09 Importancia: 3.375485583881845e-05\n",
            "--> Variable: 2020-01-10 Importancia: 0.0004937529380935379\n",
            "--> Variable: 2020-01-11 Importancia: 0.0003854293876907662\n",
            "--> Variable: 2020-01-13 Importancia: 8.267199453791785e-05\n",
            "--> Variable: 2020-01-14 Importancia: 0.0005464490682799241\n",
            "--> Variable: 2020-01-15 Importancia: 0.0010635910460795913\n",
            "--> Variable: 2020-01-17 Importancia: 0.0\n",
            "--> Variable: 2020-01-18 Importancia: 0.00016493805213754656\n",
            "--> Variable: 2020-01-19 Importancia: 7.238349379731544e-05\n",
            "--> Variable: 2020-01-20 Importancia: 0.0006088347190757806\n",
            "--> Variable: 2020-01-21 Importancia: 0.0004571678726979593\n",
            "--> Variable: 2020-01-22 Importancia: 0.00029816061033248817\n",
            "--> Variable: 2020-01-25 Importancia: 0.001056810801651034\n",
            "--> Variable: 2020-01-26 Importancia: 0.0\n",
            "--> Variable: 2020-01-27 Importancia: 0.00023237536439034269\n",
            "--> Variable: 2020-01-28 Importancia: 3.48847548498504e-05\n",
            "--> Variable: 2020-01-29 Importancia: 0.0011105105087091903\n",
            "--> Variable: 2020-01-30 Importancia: 0.001321412990472498\n",
            "--> Variable: 2020-01-31 Importancia: 0.0006803745914388771\n",
            "--> Variable: 2020-02-01 Importancia: 0.0018385439573258265\n",
            "--> Variable: 2020-02-02 Importancia: 0.0002484653925592152\n",
            "--> Variable: 2020-02-03 Importancia: 0.0014788520545980218\n",
            "--> Variable: 2020-02-04 Importancia: 0.001816888927501736\n",
            "--> Variable: 2020-02-05 Importancia: 0.0005851758193484829\n",
            "--> Variable: 2020-02-06 Importancia: 0.0023803339632187024\n",
            "--> Variable: 2020-02-07 Importancia: 0.0009151233339542158\n",
            "--> Variable: 2020-02-08 Importancia: 0.00023966715967145097\n",
            "--> Variable: 2020-02-09 Importancia: 0.0011000861914528663\n",
            "--> Variable: 2020-02-10 Importancia: 0.0005301331887323205\n",
            "--> Variable: 2020-02-11 Importancia: 0.0017608215823868806\n",
            "--> Variable: 2020-02-12 Importancia: 0.0029973099102854764\n",
            "--> Variable: 2020-02-13 Importancia: 0.0013138735542731692\n",
            "--> Variable: 2020-02-14 Importancia: 0.0020515358788463717\n",
            "--> Variable: 2020-02-15 Importancia: 0.002601426831393872\n",
            "--> Variable: 2020-02-16 Importancia: 0.0031581966830124884\n",
            "--> Variable: 2020-02-17 Importancia: 0.0015312586762902926\n",
            "--> Variable: 2020-02-18 Importancia: 0.0012103743003089248\n",
            "--> Variable: 2020-02-19 Importancia: 0.0013253778935162991\n",
            "--> Variable: 2020-02-20 Importancia: 0.0009743813275398144\n",
            "--> Variable: 2020-02-21 Importancia: 0.0006475524037647445\n",
            "--> Variable: 2020-02-22 Importancia: 0.0008173150192080764\n",
            "--> Variable: 2020-02-23 Importancia: 0.0005543394530122835\n",
            "--> Variable: 2020-02-24 Importancia: 0.001092876561112222\n",
            "--> Variable: 2020-02-25 Importancia: 0.0007957327665917286\n",
            "--> Variable: 2020-02-26 Importancia: 0.0004268721228828409\n",
            "--> Variable: 2020-02-27 Importancia: 0.0\n",
            "--> Variable: 2020-02-28 Importancia: 0.003444044823683053\n",
            "--> Variable: 2020-02-29 Importancia: 0.0\n",
            "--> Variable: 2020-03-01 Importancia: 0.0009495739885570094\n",
            "--> Variable: 2020-03-02 Importancia: 0.0012176911684405826\n",
            "--> Variable: 2020-03-03 Importancia: 0.00031295718028498593\n",
            "--> Variable: 2020-03-04 Importancia: 0.00038607630807625814\n",
            "--> Variable: 2020-03-05 Importancia: 0.0014002932106984883\n",
            "--> Variable: 2020-03-06 Importancia: 0.0007994025940190531\n",
            "--> Variable: 2020-03-07 Importancia: 0.0010212825643813553\n",
            "--> Variable: 2020-03-08 Importancia: 0.0009276752363245815\n",
            "--> Variable: 2020-03-09 Importancia: 0.001174926889696741\n",
            "--> Variable: 2020-03-10 Importancia: 0.0018727188451868925\n",
            "--> Variable: 2020-03-11 Importancia: 0.0026246287453213744\n",
            "--> Variable: 2020-03-12 Importancia: 0.0015441945266292108\n",
            "--> Variable: 2020-03-13 Importancia: 0.0023418355185025864\n",
            "--> Variable: 2020-03-14 Importancia: 0.001961619850799824\n",
            "--> Variable: 2020-03-15 Importancia: 0.00018669420594911784\n",
            "--> Variable: 2020-03-16 Importancia: 0.0025183494175854367\n",
            "--> Variable: 2020-03-17 Importancia: 0.0012665797457935245\n",
            "--> Variable: 2020-03-18 Importancia: 0.0010720182483586428\n",
            "--> Variable: 2020-03-19 Importancia: 0.0018322708846391293\n",
            "--> Variable: 2020-03-20 Importancia: 0.0002062986828041928\n",
            "--> Variable: 2020-03-21 Importancia: 0.001179841961522178\n",
            "--> Variable: 2020-03-25 Importancia: 0.0008026465914483931\n",
            "--> Variable: 2020-03-26 Importancia: 0.0019645767009290496\n",
            "--> Variable: 2020-03-27 Importancia: 0.0009155878408049797\n",
            "--> Variable: 2020-03-28 Importancia: 0.0013755075752717905\n",
            "--> Variable: 2020-03-29 Importancia: 0.00034094409725156594\n",
            "--> Variable: 2020-03-30 Importancia: 0.0008552242338846138\n",
            "--> Variable: 2020-03-31 Importancia: 0.0\n",
            "--> Variable: 2020-04-01 Importancia: 0.00023266366422550018\n",
            "--> Variable: 2020-04-02 Importancia: 0.0\n",
            "--> Variable: 2020-04-03 Importancia: 0.0004655594250322053\n",
            "--> Variable: 2020-04-04 Importancia: 0.000745464227945608\n",
            "--> Variable: 2020-04-05 Importancia: 0.0016709022550095809\n",
            "--> Variable: 2020-04-06 Importancia: 0.00042750970441364006\n",
            "--> Variable: 2020-04-07 Importancia: 0.000644510809704929\n",
            "--> Variable: 2020-04-08 Importancia: 0.0009169394413514087\n",
            "--> Variable: 2020-04-09 Importancia: 4.090796766257654e-05\n",
            "--> Variable: 2020-04-10 Importancia: 0.00031507887715730745\n",
            "--> Variable: 2020-04-11 Importancia: 0.0007460828704028115\n",
            "--> Variable: 2020-04-12 Importancia: 0.0019134736528587603\n",
            "--> Variable: 2020-04-13 Importancia: 0.0010301903871064865\n",
            "--> Variable: 2020-04-14 Importancia: 0.0008901840575566269\n",
            "--> Variable: 2020-04-15 Importancia: 0.0017060095440230882\n",
            "--> Variable: 2020-04-16 Importancia: 0.00030019611416483267\n",
            "--> Variable: 2020-04-17 Importancia: 0.0008293582284952903\n",
            "--> Variable: 2020-04-18 Importancia: 0.00046931518383286504\n",
            "--> Variable: 2020-04-19 Importancia: 7.386073068975942e-05\n",
            "--> Variable: 2020-04-20 Importancia: 0.0008718601318395095\n",
            "--> Variable: 2020-04-21 Importancia: 0.0012650392859385462\n",
            "--> Variable: 2020-04-22 Importancia: 0.0010020402807606526\n",
            "--> Variable: 2020-04-23 Importancia: 0.0012983803146452318\n",
            "--> Variable: 2020-04-24 Importancia: 0.000592733901969913\n",
            "--> Variable: 2020-04-25 Importancia: 0.001208875269898449\n",
            "--> Variable: 2020-04-26 Importancia: 0.0014816567306264279\n",
            "--> Variable: 2020-04-27 Importancia: 0.0010578517240637177\n",
            "--> Variable: 2020-04-28 Importancia: 0.0013870546631534139\n",
            "--> Variable: 2020-04-29 Importancia: 0.0003756231273062834\n",
            "--> Variable: 2020-04-30 Importancia: 0.0008607002683740438\n",
            "--> Variable: 2020-05-02 Importancia: 0.0011894242593354632\n",
            "--> Variable: 2020-05-03 Importancia: 0.0005544842258218517\n",
            "--> Variable: 2020-05-04 Importancia: 0.0012791850368898516\n",
            "--> Variable: 2020-05-05 Importancia: 0.0017417182968560946\n",
            "--> Variable: 2020-05-06 Importancia: 0.0014823046597573265\n",
            "--> Variable: 2020-05-07 Importancia: 0.0008261778992283195\n",
            "--> Variable: 2020-05-08 Importancia: 0.0008125765938503788\n",
            "--> Variable: 2020-05-09 Importancia: 0.000379577169893098\n",
            "--> Variable: 2020-05-10 Importancia: 0.0002886596514953634\n",
            "--> Variable: 2020-05-11 Importancia: 0.0013400723154227045\n",
            "--> Variable: 2020-05-12 Importancia: 0.00017405096662663329\n",
            "--> Variable: 2020-05-13 Importancia: 0.0015832218134824599\n",
            "--> Variable: 2020-05-14 Importancia: 0.0012765283429183741\n",
            "--> Variable: 2020-05-15 Importancia: 0.0023801345840161955\n",
            "--> Variable: 2020-05-16 Importancia: 0.0007412572077881336\n",
            "--> Variable: 2020-05-17 Importancia: 0.0018399297976002403\n",
            "--> Variable: 2020-05-18 Importancia: 0.0008999146235575434\n",
            "--> Variable: 2020-05-19 Importancia: 0.0007351089548819481\n",
            "--> Variable: 2020-05-20 Importancia: 0.0017530960138892827\n",
            "--> Variable: 2020-05-21 Importancia: 0.0012691784143835632\n",
            "--> Variable: 2020-05-22 Importancia: 0.0022152688951722027\n",
            "--> Variable: 2020-05-23 Importancia: 0.0015284507517340342\n",
            "--> Variable: 2020-05-24 Importancia: 0.0021639426887037475\n",
            "--> Variable: 2020-05-25 Importancia: 0.0002673270936143412\n",
            "--> Variable: 2020-05-26 Importancia: 0.0012469166671490448\n",
            "--> Variable: 2020-05-27 Importancia: 0.0006269725032262585\n",
            "--> Variable: 2020-05-28 Importancia: 0.00020620657048657487\n",
            "--> Variable: 2020-05-29 Importancia: 0.001315373582321762\n",
            "--> Variable: 2020-05-30 Importancia: 0.0005748856067204986\n",
            "--> Variable: 2020-05-31 Importancia: 0.0016153951170492157\n",
            "--> Variable: 2020-06-01 Importancia: 0.0005055969730261027\n",
            "--> Variable: 2020-06-02 Importancia: 0.0015174400237298346\n",
            "--> Variable: 2020-06-03 Importancia: 0.0024147412381879205\n",
            "--> Variable: 2020-06-04 Importancia: 0.0011284685160342217\n",
            "--> Variable: 2020-06-05 Importancia: 0.0025210344928433695\n",
            "--> Variable: 2020-06-06 Importancia: 0.0009729022869498618\n",
            "--> Variable: 2020-06-07 Importancia: 0.0011047101675973126\n",
            "--> Variable: 2020-06-08 Importancia: 0.0008111828545211893\n",
            "--> Variable: 2020-06-09 Importancia: 0.0008994815552950019\n",
            "--> Variable: 2020-06-10 Importancia: 0.002399629080701506\n",
            "--> Variable: 2020-06-11 Importancia: 0.0007994400243811363\n",
            "--> Variable: 2020-06-12 Importancia: 0.0014012279563964769\n",
            "--> Variable: 2020-06-13 Importancia: 0.0006883663299510974\n",
            "--> Variable: 2020-06-14 Importancia: 0.0012905013893106517\n",
            "--> Variable: 2020-06-15 Importancia: 0.0005389174700469023\n",
            "--> Variable: 2020-06-16 Importancia: 0.000587303552419277\n",
            "--> Variable: 2020-06-17 Importancia: 0.0\n",
            "--> Variable: 2020-06-18 Importancia: 3.2416328147245693e-05\n",
            "--> Variable: 2020-06-19 Importancia: 0.0018827918284604088\n",
            "--> Variable: 2020-06-20 Importancia: 0.00032793812349175643\n",
            "--> Variable: 2020-06-21 Importancia: 0.0006993378761181007\n",
            "--> Variable: 2020-06-22 Importancia: 0.000615830713149586\n",
            "--> Variable: 20000564 Importancia: 0.0012185742508174502\n",
            "--> Variable: 20000770 Importancia: 0.0\n",
            "--> Variable: 20000778 Importancia: 0.0009810592016387698\n",
            "--> Variable: 20000847 Importancia: 0.002097740066855087\n",
            "--> Variable: 20000868 Importancia: 0.0017569295313595832\n",
            "--> Variable: 20000875 Importancia: 0.005078954252800224\n",
            "--> Variable: 20000905 Importancia: 0.002054867941607539\n",
            "--> Variable: 20000964 Importancia: 0.0012976673179581507\n",
            "--> Variable: 20001014 Importancia: 0.002271659028322132\n",
            "--> Variable: 20001236 Importancia: 0.0008196715344151468\n",
            "--> Variable: 20001237 Importancia: 0.0011976696592300318\n",
            "--> Variable: 20001512 Importancia: 0.0022520401409000354\n",
            "--> Variable: 20001526 Importancia: 0.0008891173019461842\n",
            "--> Variable: 20002297 Importancia: 0.0019230350613476095\n",
            "--> Variable: 20002520 Importancia: 0.0010655153367996547\n",
            "--> Variable: 20002787 Importancia: 0.001165300471241324\n",
            "--> Variable: 20003239 Importancia: 0.0013044614869991763\n",
            "--> Variable: 20003244 Importancia: 0.00039096513303702346\n",
            "--> Variable: 20003260 Importancia: 0.0020994392291372416\n",
            "--> Variable: 20003278 Importancia: 0.003115293145749721\n",
            "--> Variable: 20003408 Importancia: 0.001899230879663818\n",
            "--> Variable: 20003778 Importancia: 0.0013203139712302918\n",
            "--> Variable: 20003779 Importancia: 0.005509167436323076\n",
            "--> Variable: 20003858 Importancia: 0.00041160085065445007\n",
            "--> Variable: 20004398 Importancia: 0.0015479556207226909\n",
            "--> Variable: 20004884 Importancia: 0.0010360485561077314\n",
            "--> Variable: 20004895 Importancia: 0.0027148932054164286\n",
            "--> Variable: 20005055 Importancia: 0.0005823553210322676\n",
            "--> Variable: 20005968 Importancia: 0.0032107771052161905\n",
            "--> Variable: 20006912 Importancia: 0.0012819408170555182\n",
            "--> Variable: 1988-09-01 Importancia: 0.0016559535807066884\n",
            "--> Variable: 1996-07-01 Importancia: 0.0\n",
            "--> Variable: 1996-09-23 Importancia: 0.0006167301403892157\n",
            "--> Variable: 1996-12-17 Importancia: 0.001251691727185016\n",
            "--> Variable: 1997-02-01 Importancia: 0.0016457014317284011\n",
            "--> Variable: 1997-03-19 Importancia: 0.003970864352232681\n",
            "--> Variable: 1997-12-01 Importancia: 0.002234354682727612\n",
            "--> Variable: 1998-03-25 Importancia: 0.0009585856398662087\n",
            "--> Variable: 1998-03-31 Importancia: 0.0013859934491374302\n",
            "--> Variable: 2003-05-30 Importancia: 0.0006451751584821944\n",
            "--> Variable: 2003-06-01 Importancia: 0.0011917765628776346\n",
            "--> Variable: 2006-02-16 Importancia: 0.0020386766022589763\n",
            "--> Variable: 2006-03-29 Importancia: 0.0006334386910736311\n",
            "--> Variable: 2008-08-12 Importancia: 0.001604981417653468\n",
            "--> Variable: 2011-01-17 Importancia: 0.0022133013696308992\n",
            "--> Variable: 2011-04-01 Importancia: 0.0034660691306038147\n",
            "--> Variable: 2011-07-01 Importancia: 0.0018574294959066643\n",
            "--> Variable: 2011-10-01 Importancia: 0.001519927765929648\n",
            "--> Variable: 2012-02-20 Importancia: 0.0005396963397104799\n",
            "--> Variable: 2012-11-07 Importancia: 0.0016278410211969312\n",
            "--> Variable: 2013-03-01 Importancia: 0.0015647714112514632\n",
            "--> Variable: 2013-09-01 Importancia: 0.002323926850894435\n",
            "--> Variable: 2013-11-01 Importancia: 0.0008885709927465407\n",
            "--> Variable: 2017-03-08 Importancia: 0.002632609505581924\n",
            "--> Variable: 2019-06-03 Importancia: 0.00141115917174076\n",
            "--> Variable: 1 - Evaluación de tiempos, real Importancia: 0.002205517381915831\n",
            "--> Variable: 9 - Evaluación de tiempos, teórico Importancia: 0.0020343415939146157\n"
          ],
          "name": "stdout"
        }
      ]
    },
    {
      "cell_type": "code",
      "metadata": {
        "id": "sLH2I5mHqqXM",
        "colab_type": "code",
        "colab": {}
      },
      "source": [
        ""
      ],
      "execution_count": null,
      "outputs": []
    },
    {
      "cell_type": "markdown",
      "metadata": {
        "colab_type": "text",
        "id": "VclFUGM2kD6I"
      },
      "source": [
        "##PCA"
      ]
    },
    {
      "cell_type": "code",
      "metadata": {
        "colab_type": "code",
        "id": "6l0XtmsfkD6N",
        "colab": {}
      },
      "source": [
        "from sklearn.decomposition import PCA"
      ],
      "execution_count": null,
      "outputs": []
    },
    {
      "cell_type": "code",
      "metadata": {
        "colab_type": "code",
        "id": "DA01spFYkD6S",
        "colab": {}
      },
      "source": [
        "pca = PCA(n_components=2)"
      ],
      "execution_count": null,
      "outputs": []
    },
    {
      "cell_type": "code",
      "metadata": {
        "colab_type": "code",
        "id": "JYgEhJDgkD6X",
        "colab": {
          "base_uri": "https://localhost:8080/",
          "height": 51
        },
        "outputId": "f0905f99-1867-425d-be2d-3c76a7dfd01b"
      },
      "source": [
        "pca.fit(train)"
      ],
      "execution_count": null,
      "outputs": [
        {
          "output_type": "execute_result",
          "data": {
            "text/plain": [
              "PCA(copy=True, iterated_power='auto', n_components=2, random_state=None,\n",
              "    svd_solver='auto', tol=0.0, whiten=False)"
            ]
          },
          "metadata": {
            "tags": []
          },
          "execution_count": 170
        }
      ]
    },
    {
      "cell_type": "code",
      "metadata": {
        "colab_type": "code",
        "id": "aqeUrCnukD6b",
        "colab": {}
      },
      "source": [
        "x_pca = pca.transform(train)"
      ],
      "execution_count": null,
      "outputs": []
    },
    {
      "cell_type": "code",
      "metadata": {
        "colab_type": "code",
        "id": "b1fzOhtMkD6e",
        "colab": {
          "base_uri": "https://localhost:8080/",
          "height": 136
        },
        "outputId": "5f9e1f49-7efb-4bfb-ad94-3c0bbe9b3144"
      },
      "source": [
        "x_pca"
      ],
      "execution_count": null,
      "outputs": [
        {
          "output_type": "execute_result",
          "data": {
            "text/plain": [
              "array([[ 1.13266069,  1.08099939],\n",
              "       [-1.88372593, -0.59687472],\n",
              "       [ 0.8557531 , -1.71390945],\n",
              "       ...,\n",
              "       [ 0.05194789,  0.66490807],\n",
              "       [-1.21845897, -0.22172233],\n",
              "       [-2.51339979, -0.69984712]])"
            ]
          },
          "metadata": {
            "tags": []
          },
          "execution_count": 172
        }
      ]
    },
    {
      "cell_type": "code",
      "metadata": {
        "colab_type": "code",
        "id": "6C1Wn1ULkD6h",
        "colab": {
          "base_uri": "https://localhost:8080/",
          "height": 34
        },
        "outputId": "1f340510-f556-4651-c9b5-a3782c8be551"
      },
      "source": [
        "x_pca.shape"
      ],
      "execution_count": null,
      "outputs": [
        {
          "output_type": "execute_result",
          "data": {
            "text/plain": [
              "(1825, 2)"
            ]
          },
          "metadata": {
            "tags": []
          },
          "execution_count": 173
        }
      ]
    },
    {
      "cell_type": "code",
      "metadata": {
        "colab_type": "code",
        "id": "32b3BmdEkD6m",
        "colab": {
          "base_uri": "https://localhost:8080/",
          "height": 427
        },
        "outputId": "7b7d0383-d413-407d-a72f-4b5dd148db84"
      },
      "source": [
        "plt.figure(figsize=(8,6))\n",
        "ax = sns.scatterplot(x_pca[:,0],x_pca[:,1], hue=train['Demora (bin)'], alpha=0.3)\n",
        "plt.xlabel('Componente Principal 1')\n",
        "plt.ylabel('Componente Principal 2')\n",
        "plt.title('PCA')"
      ],
      "execution_count": null,
      "outputs": [
        {
          "output_type": "execute_result",
          "data": {
            "text/plain": [
              "Text(0.5, 1.0, 'PCA')"
            ]
          },
          "metadata": {
            "tags": []
          },
          "execution_count": 174
        },
        {
          "output_type": "display_data",
          "data": {
            "image/png": "[encoded data removed]",
            "text/plain": [
              "<Figure size 576x432 with 1 Axes>"
            ]
          },
          "metadata": {
            "tags": []
          }
        }
      ]
    },
    {
      "cell_type": "code",
      "metadata": {
        "id": "497bZrR0kYiu",
        "colab_type": "code",
        "colab": {}
      },
      "source": [
        ""
      ],
      "execution_count": null,
      "outputs": []
    }
  ]
}