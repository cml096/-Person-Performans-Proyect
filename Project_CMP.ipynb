{
 "cells": [
  {
   "cell_type": "markdown",
   "metadata": {
    "colab_type": "text",
    "id": "view-in-github"
   },
   "source": [
    "<a href=\"https://colab.research.google.com/github/cml096/GoogleColabRepo/blob/master/Project_Cap.ipynb\" target=\"_parent\"><img src=\"https://colab.research.google.com/assets/colab-badge.svg\" alt=\"Open In Colab\"/></a>"
   ]
  },
  {
   "cell_type": "code",
   "execution_count": 1,
   "metadata": {
    "colab": {},
    "colab_type": "code",
    "id": "bfjRMmOi_4zY"
   },
   "outputs": [],
   "source": [
    "import pandas as pd\n",
    "import numpy as np\n",
    "import matplotlib.pyplot as plt\n",
    "import seaborn as sns; sns.set()"
   ]
  },
  {
   "cell_type": "code",
   "execution_count": 2,
   "metadata": {
    "colab": {},
    "colab_type": "code",
    "id": "lOoAro9AAeYm"
   },
   "outputs": [],
   "source": [
    "df = pd.read_excel('Rendimiento CMP V2.xlsx', sheet_name='MinaMLC')"
   ]
  },
  {
   "cell_type": "markdown",
   "metadata": {
    "colab_type": "text",
    "id": "mnml7k7xDO3x"
   },
   "source": [
    "#Preparando Data"
   ]
  },
  {
   "cell_type": "markdown",
   "metadata": {
    "colab_type": "text",
    "id": "Ydy1pKXbJENh"
   },
   "source": [
    "##Filtro"
   ]
  },
  {
   "cell_type": "code",
   "execution_count": 3,
   "metadata": {
    "colab": {},
    "colab_type": "code",
    "id": "oeqeTKI6An_b"
   },
   "outputs": [],
   "source": [
    "df_ = df[df['División de personal'] == 'CMP VALLE DEL HUASCO']"
   ]
  },
  {
   "cell_type": "code",
   "execution_count": 4,
   "metadata": {
    "colab": {},
    "colab_type": "code",
    "id": "JMYxllHkAyZm"
   },
   "outputs": [],
   "source": [
    "df_test_minera_colorado = df_[df_['Subdivisión de personal'] == 'MINA LOS COLORA']"
   ]
  },
  {
   "cell_type": "markdown",
   "metadata": {
    "colab_type": "text",
    "id": "ZobQtfMTCTA4"
   },
   "source": [
    "##Variables no utilizables"
   ]
  },
  {
   "cell_type": "code",
   "execution_count": 5,
   "metadata": {
    "colab": {},
    "colab_type": "code",
    "id": "MdJOzeeLORIi"
   },
   "outputs": [],
   "source": [
    "df_ = df_test_minera_colorado"
   ]
  },
  {
   "cell_type": "code",
   "execution_count": 6,
   "metadata": {
    "colab": {},
    "colab_type": "code",
    "id": "so1DVpxDCYMj"
   },
   "outputs": [],
   "source": [
    "filtro = ['R-ef (t/h)',\n",
    "          'División de personal',\n",
    "          'Cod. División',\n",
    "          'Subdivisión de personal',\n",
    "          'Cod. Subdivisión',\n",
    "          'Cod. Unidad',\n",
    "          'Cod. Posición',\n",
    "          'Fecha de nacimiento',\n",
    "          'Grupo de personal']"
   ]
  },
  {
   "cell_type": "code",
   "execution_count": 7,
   "metadata": {
    "colab": {},
    "colab_type": "code",
    "id": "9MTspI-pA8t9"
   },
   "outputs": [],
   "source": [
    "df_.drop(filtro,axis=1,inplace=True)"
   ]
  },
  {
   "cell_type": "markdown",
   "metadata": {
    "colab_type": "text",
    "id": "lCD_A-nDJK7d"
   },
   "source": [
    "##Divición \"Fecha\""
   ]
  },
  {
   "cell_type": "markdown",
   "metadata": {
    "colab_type": "text",
    "id": "pP9hln0KEVHu"
   },
   "source": [
    "Cambiamos nombre columna \"Dia\" por \"Fecha\""
   ]
  },
  {
   "cell_type": "code",
   "execution_count": 8,
   "metadata": {
    "colab": {},
    "colab_type": "code",
    "id": "Puep8M1IEaKo"
   },
   "outputs": [],
   "source": [
    "df_ = df_.rename(columns={'Dia':'Fecha'})"
   ]
  },
  {
   "cell_type": "markdown",
   "metadata": {
    "colab_type": "text",
    "id": "IUN9cem0DtGN"
   },
   "source": [
    "Divición de la variable \"Fecha\""
   ]
  },
  {
   "cell_type": "code",
   "execution_count": 9,
   "metadata": {
    "colab": {},
    "colab_type": "code",
    "id": "QK1n8qAzDoIF"
   },
   "outputs": [],
   "source": [
    "def dia(fecha):\n",
    "  aux = str(fecha.date()).split('-')\n",
    "  dia = str(aux[2])\n",
    "  return dia\n",
    "\n",
    "def mes(fecha):\n",
    "  aux = str(fecha.date()).split('-')\n",
    "  mes = str(aux[1])\n",
    "  return mes\n",
    "\n",
    "def ano(fecha):\n",
    "  aux = str(fecha.date()).split('-')\n",
    "  ano = str(aux[0])\n",
    "  return ano"
   ]
  },
  {
   "cell_type": "markdown",
   "metadata": {
    "colab_type": "text",
    "id": "kVJvroYrD5am"
   },
   "source": [
    "Anexamos columna \"Dia\", \"Mes\" y \"Año\""
   ]
  },
  {
   "cell_type": "code",
   "execution_count": 10,
   "metadata": {
    "colab": {},
    "colab_type": "code",
    "id": "OMbw02jQD4lX"
   },
   "outputs": [],
   "source": [
    "df_['Dia'] = df_.apply(lambda row : dia(row['Fecha']),axis=1)\n",
    "df_['Mes'] = df_.apply(lambda row : mes(row['Fecha']),axis=1)\n",
    "df_['Año'] = df_.apply(lambda row : ano(row['Fecha']),axis=1)"
   ]
  },
  {
   "cell_type": "markdown",
   "metadata": {
    "colab_type": "text",
    "id": "qms9V5O-U-FM"
   },
   "source": [
    "##Columna \"Turno\", \"Equipo\", \"Número de personal\", \"Fecha de alta\" y \"Fecha\""
   ]
  },
  {
   "cell_type": "code",
   "execution_count": 11,
   "metadata": {
    "colab": {},
    "colab_type": "code",
    "id": "wQu9QYGlVD93"
   },
   "outputs": [],
   "source": [
    "df_['Turno'] = df_['Turno'].astype(str)"
   ]
  },
  {
   "cell_type": "code",
   "execution_count": 12,
   "metadata": {
    "colab": {},
    "colab_type": "code",
    "id": "kXh7pxcjZHxY"
   },
   "outputs": [],
   "source": [
    "df_['Equipo'] = df_['Equipo'].astype(str)"
   ]
  },
  {
   "cell_type": "code",
   "execution_count": 13,
   "metadata": {
    "colab": {},
    "colab_type": "code",
    "id": "PtR8tcjWFWXW"
   },
   "outputs": [],
   "source": [
    "df_['Número de personal'] = df_['Número de personal'].astype(str)"
   ]
  },
  {
   "cell_type": "code",
   "execution_count": 14,
   "metadata": {
    "colab": {},
    "colab_type": "code",
    "id": "24fsG0PbGlGi"
   },
   "outputs": [],
   "source": [
    "df_['Fecha'] = df_['Fecha'].astype(str)"
   ]
  },
  {
   "cell_type": "code",
   "execution_count": 15,
   "metadata": {
    "colab": {},
    "colab_type": "code",
    "id": "p3FYLBOr9NPi"
   },
   "outputs": [],
   "source": [
    "df_['Fecha de alta'] = df_['Fecha de alta'].astype(str)"
   ]
  },
  {
   "cell_type": "markdown",
   "metadata": {
    "colab_type": "text",
    "id": "b-1ZWp5rJQMU"
   },
   "source": [
    "## \"Eficiencia\""
   ]
  },
  {
   "cell_type": "markdown",
   "metadata": {
    "colab_type": "text",
    "id": "riFjrzkBqOSq"
   },
   "source": [
    "Esta eficiencia se ocupara para gráficas e análisis del comportamiento de dicha variables para sacar estimados que nos ayudaran a calcular la próxima variable"
   ]
  },
  {
   "cell_type": "code",
   "execution_count": 16,
   "metadata": {
    "colab": {},
    "colab_type": "code",
    "id": "VPnDWwfLW4WC"
   },
   "outputs": [],
   "source": [
    "filtro = ['Unidad organizativa','tefe (seg)']\n",
    "df_aux = df_[filtro]"
   ]
  },
  {
   "cell_type": "markdown",
   "metadata": {
    "colab_type": "text",
    "id": "Gez3gzN3Jiw8"
   },
   "source": [
    "Agrupamos por \"unidad organizativa\" y lo almacenamos en un data frame"
   ]
  },
  {
   "cell_type": "code",
   "execution_count": 17,
   "metadata": {
    "colab": {},
    "colab_type": "code",
    "id": "A4beub7RCKxv"
   },
   "outputs": [],
   "source": [
    "group = df_aux.groupby(['Unidad organizativa']).max()\n",
    "df_group = pd.DataFrame(group)"
   ]
  },
  {
   "cell_type": "code",
   "execution_count": 18,
   "metadata": {
    "colab": {},
    "colab_type": "code",
    "id": "FKGDm6mCaeRC"
   },
   "outputs": [],
   "source": [
    "#df_group"
   ]
  },
  {
   "cell_type": "markdown",
   "metadata": {
    "colab_type": "text",
    "id": "0L2OQju5Jlpy"
   },
   "source": [
    "Creamos un array que contiene las tefe max de cada Unidad organizativa"
   ]
  },
  {
   "cell_type": "code",
   "execution_count": 19,
   "metadata": {
    "colab": {},
    "colab_type": "code",
    "id": "2OU0K21gRa-9"
   },
   "outputs": [],
   "source": [
    "def genera(data,filto):\n",
    "  lista = []\n",
    "  for index, row in data.iterrows():\n",
    "    valor = row[filtro]\n",
    "    lista.append([index,valor])\n",
    "  return lista"
   ]
  },
  {
   "cell_type": "code",
   "execution_count": 20,
   "metadata": {
    "colab": {},
    "colab_type": "code",
    "id": "d41Yi2QDHQTQ"
   },
   "outputs": [],
   "source": [
    "filtro = ['tefe (seg)']\n",
    "max_por_unidad = genera(df_group,filtro)"
   ]
  },
  {
   "cell_type": "markdown",
   "metadata": {
    "colab_type": "text",
    "id": "GZH-_ZQCJx7q"
   },
   "source": [
    "Agregamos la columna \"Eficiencia\" que generaremos con la fórmula\n",
    "* (valor x c/a tupla)*100/valor_max = porcentaje de eficiencia en dicho día"
   ]
  },
  {
   "cell_type": "code",
   "execution_count": 21,
   "metadata": {
    "colab": {},
    "colab_type": "code",
    "id": "lwB2VZxESM05"
   },
   "outputs": [],
   "source": [
    "def rellena(data,lista,filtro):\n",
    "  aux = []\n",
    "  for index, row in data.iterrows():\n",
    "    unidad = row['Unidad organizativa']\n",
    "    valor = row[filtro]\n",
    "    for unidad_max,valor_max in lista:\n",
    "      if unidad == unidad_max:\n",
    "        if float(valor_max.values) == 0:\n",
    "          aux.append(0.0)\n",
    "        else:\n",
    "          resultado = (valor)/valor_max\n",
    "          aux.append(float(resultado.values))\n",
    "  return aux"
   ]
  },
  {
   "cell_type": "code",
   "execution_count": 22,
   "metadata": {
    "colab": {},
    "colab_type": "code",
    "id": "PsM0ane-HC2A"
   },
   "outputs": [],
   "source": [
    "eficiencia = rellena(df_,max_por_unidad,filtro)"
   ]
  },
  {
   "cell_type": "markdown",
   "metadata": {
    "colab_type": "text",
    "id": "xN29jN0HJ24C"
   },
   "source": [
    "Le agregamos una columna al data frame"
   ]
  },
  {
   "cell_type": "code",
   "execution_count": 23,
   "metadata": {
    "colab": {},
    "colab_type": "code",
    "id": "MHsQH7VSHEvV"
   },
   "outputs": [],
   "source": [
    "df_['Eficiencia'] = eficiencia"
   ]
  },
  {
   "cell_type": "markdown",
   "metadata": {
    "colab_type": "text",
    "id": "q8kaHf9QL9Tw"
   },
   "source": [
    "### \"Eficiencia (bin)\""
   ]
  },
  {
   "cell_type": "markdown",
   "metadata": {
    "colab_type": "text",
    "id": "LrQR8VgsqpqT"
   },
   "source": [
    "Variable que será asignada al campo y, variable a predecir"
   ]
  },
  {
   "cell_type": "code",
   "execution_count": 24,
   "metadata": {
    "colab": {},
    "colab_type": "code",
    "id": "4vZcw2hopCdm"
   },
   "outputs": [],
   "source": [
    "group = df_aux.groupby(['Unidad organizativa']).median()\n",
    "df_group = pd.DataFrame(group)"
   ]
  },
  {
   "cell_type": "code",
   "execution_count": 25,
   "metadata": {
    "colab": {
     "base_uri": "https://localhost:8080/",
     "height": 51
    },
    "colab_type": "code",
    "id": "hSHL8ErDAGht",
    "outputId": "712568ad-d5bc-4e34-ea1e-5ecf2fe8de3e"
   },
   "outputs": [
    {
     "data": {
      "text/plain": [
       "tefe (seg)    5.769231\n",
       "dtype: float64"
      ]
     },
     "execution_count": 25,
     "metadata": {},
     "output_type": "execute_result"
    }
   ],
   "source": [
    "df_group.mean()/3600"
   ]
  },
  {
   "cell_type": "code",
   "execution_count": 26,
   "metadata": {
    "colab": {},
    "colab_type": "code",
    "id": "TkuwM2RupC6w"
   },
   "outputs": [],
   "source": [
    "media_por_unidad = genera(df_group,filtro)"
   ]
  },
  {
   "cell_type": "markdown",
   "metadata": {
    "colab_type": "text",
    "id": "fZMZWbL-ICtW"
   },
   "source": [
    "Generaremos una función la cual será la encargada de rellenar un arreglo de 1 y 0 el cual lo retornara, acá compararemos cada tefe (seg) en x unidad organizativa con la mediana tefe (seg) pro cada unidad sacada anteriormente."
   ]
  },
  {
   "cell_type": "code",
   "execution_count": 27,
   "metadata": {
    "colab": {},
    "colab_type": "code",
    "id": "QJx9wUVZS5_m"
   },
   "outputs": [],
   "source": [
    "def rellena_binaria(data,lista,filtro):\n",
    "  aux = []\n",
    "  for index, row in data.iterrows():\n",
    "    unidad = row['Unidad organizativa']\n",
    "    valor = row[filtro].values\n",
    "    for unidad_median,valor_median in lista:\n",
    "      valor_median = valor_median.values\n",
    "      if unidad == unidad_median:\n",
    "        if valor >= valor_median:\n",
    "          aux.append(1)\n",
    "        elif valor < valor_median:\n",
    "          aux.append(0)\n",
    "  return aux"
   ]
  },
  {
   "cell_type": "markdown",
   "metadata": {
    "colab_type": "text",
    "id": "is8CpQ4BDTZO"
   },
   "source": [
    "Llamos a la variable rellen_binaria() que nos retornara un arreglo con 1 y 0:\n",
    "\n",
    "*   1 si la tefe de la tupla es >= 6,16 horas aprox\n",
    "*   0 si la tefe de la tupla es < 6,16 horas aprox\n",
    "\n"
   ]
  },
  {
   "cell_type": "code",
   "execution_count": 28,
   "metadata": {
    "colab": {},
    "colab_type": "code",
    "id": "j4eZdXp6TX5v"
   },
   "outputs": [],
   "source": [
    "eficiencia_binaria = rellena_binaria(df_,media_por_unidad,filtro)"
   ]
  },
  {
   "cell_type": "markdown",
   "metadata": {
    "colab_type": "text",
    "id": "Pj0lH_jlDzIY"
   },
   "source": [
    "Agreamos el arrglo a la data"
   ]
  },
  {
   "cell_type": "code",
   "execution_count": 29,
   "metadata": {
    "colab": {},
    "colab_type": "code",
    "id": "kRHAppHITnfb"
   },
   "outputs": [],
   "source": [
    "df_['Eficiencia (bin)'] = eficiencia_binaria"
   ]
  },
  {
   "cell_type": "markdown",
   "metadata": {
    "colab_type": "text",
    "id": "5bL3myvIJAcR"
   },
   "source": [
    "##\"Demora\""
   ]
  },
  {
   "cell_type": "code",
   "execution_count": 30,
   "metadata": {
    "colab": {},
    "colab_type": "code",
    "id": "x4QnFICgKa55"
   },
   "outputs": [],
   "source": [
    "filtro = ['Unidad organizativa','tdem (seg)']\n",
    "df_aux = df_[filtro]"
   ]
  },
  {
   "cell_type": "markdown",
   "metadata": {
    "colab_type": "text",
    "id": "agHX9d0uMJtZ"
   },
   "source": [
    "agrupamos por unidad organizativa y calculamos la maxima tdem (seg)"
   ]
  },
  {
   "cell_type": "code",
   "execution_count": 31,
   "metadata": {
    "colab": {},
    "colab_type": "code",
    "id": "lCuCDeWbL4Mc"
   },
   "outputs": [],
   "source": [
    "group = df_aux.groupby(['Unidad organizativa']).max()\n",
    "df_group = pd.DataFrame(group)"
   ]
  },
  {
   "cell_type": "code",
   "execution_count": 32,
   "metadata": {
    "colab": {},
    "colab_type": "code",
    "id": "VCaz9AKWbBdT"
   },
   "outputs": [],
   "source": [
    "#df_group"
   ]
  },
  {
   "cell_type": "markdown",
   "metadata": {
    "colab_type": "text",
    "id": "NN_zqc_f-NNj"
   },
   "source": [
    "Generamos un array que tenga la Unidad y su tdem maxima"
   ]
  },
  {
   "cell_type": "code",
   "execution_count": 33,
   "metadata": {
    "colab": {},
    "colab_type": "code",
    "id": "d7YL9T8RKh6d"
   },
   "outputs": [],
   "source": [
    "filtro = ['tdem (seg)']\n",
    "max_por_unidad = genera(df_group,filtro)"
   ]
  },
  {
   "cell_type": "markdown",
   "metadata": {
    "colab_type": "text",
    "id": "Ud1bBRMH-Tor"
   },
   "source": [
    "Funcion rellena se encarga de ir comparando por unidad organizativa y ir sacando un porcentaje tomando como referencia la tdem maxima ingresada en el array"
   ]
  },
  {
   "cell_type": "code",
   "execution_count": 34,
   "metadata": {
    "colab": {},
    "colab_type": "code",
    "id": "Uxz5b9lyMZKm"
   },
   "outputs": [],
   "source": [
    "demora = rellena(df_,max_por_unidad,filtro)"
   ]
  },
  {
   "cell_type": "markdown",
   "metadata": {
    "colab_type": "text",
    "id": "G0_C80X8EXho"
   },
   "source": [
    "Agregamos el arreglo a la data"
   ]
  },
  {
   "cell_type": "code",
   "execution_count": 35,
   "metadata": {
    "colab": {},
    "colab_type": "code",
    "id": "mKN9OjzgMVbf"
   },
   "outputs": [],
   "source": [
    "df_['Demora'] = demora"
   ]
  },
  {
   "cell_type": "markdown",
   "metadata": {
    "colab_type": "text",
    "id": "zme3dvCuXYaI"
   },
   "source": [
    "###\"Demora (bin)\""
   ]
  },
  {
   "cell_type": "code",
   "execution_count": 36,
   "metadata": {
    "colab": {},
    "colab_type": "code",
    "id": "L3Sm-S4tsnqC"
   },
   "outputs": [],
   "source": [
    "group = df_aux.groupby(['Unidad organizativa']).median()\n",
    "df_group = pd.DataFrame(group)"
   ]
  },
  {
   "cell_type": "code",
   "execution_count": 37,
   "metadata": {
    "colab": {
     "base_uri": "https://localhost:8080/",
     "height": 51
    },
    "colab_type": "code",
    "id": "9nD3gqBD_Nyk",
    "outputId": "efbbf58d-e6a7-4ab5-fcd5-8e45a1bc95e1"
   },
   "outputs": [
    {
     "data": {
      "text/plain": [
       "tdem (seg)    25.643889\n",
       "dtype: float64"
      ]
     },
     "execution_count": 37,
     "metadata": {},
     "output_type": "execute_result"
    }
   ],
   "source": [
    "df_group.mean()/60"
   ]
  },
  {
   "cell_type": "code",
   "execution_count": 38,
   "metadata": {
    "colab": {},
    "colab_type": "code",
    "id": "W5XS1iGYsnUh"
   },
   "outputs": [],
   "source": [
    "media_por_unidad = genera(df_group,filtro)"
   ]
  },
  {
   "cell_type": "markdown",
   "metadata": {
    "colab_type": "text",
    "id": "cMeNBSpccIa6"
   },
   "source": [
    "Llamamos a la función rellena_binaria() que nos retornara un array relleno de 1 y 0.\n",
    "\n",
    "\n",
    "*   1 si la tdem de la tupla es >= a 26.04 min aprox\n",
    "*   0 si la tdem de la tupla es < a 26.04 min aprox\n",
    "\n"
   ]
  },
  {
   "cell_type": "code",
   "execution_count": 39,
   "metadata": {
    "colab": {},
    "colab_type": "code",
    "id": "2uwsU-8kXdxH"
   },
   "outputs": [],
   "source": [
    "demora_binaria = rellena_binaria(df_,media_por_unidad,filtro)"
   ]
  },
  {
   "cell_type": "markdown",
   "metadata": {
    "colab_type": "text",
    "id": "EP-9CfadEtxX"
   },
   "source": [
    "Agregamos el arreglo a la data"
   ]
  },
  {
   "cell_type": "code",
   "execution_count": 40,
   "metadata": {
    "colab": {},
    "colab_type": "code",
    "id": "VXUAqMlzbzxx"
   },
   "outputs": [],
   "source": [
    "df_['Demora (bin)'] = demora_binaria"
   ]
  },
  {
   "cell_type": "markdown",
   "metadata": {
    "colab_type": "text",
    "id": "-xDzyWKIm7Ak"
   },
   "source": [
    "##Estandarizar"
   ]
  },
  {
   "cell_type": "code",
   "execution_count": 41,
   "metadata": {
    "colab": {},
    "colab_type": "code",
    "id": "wJucXSmbt6S1"
   },
   "outputs": [],
   "source": [
    "from sklearn.preprocessing import StandardScaler"
   ]
  },
  {
   "cell_type": "code",
   "execution_count": 42,
   "metadata": {
    "colab": {},
    "colab_type": "code",
    "id": "uUcbriIDnATQ"
   },
   "outputs": [],
   "source": [
    "filtro = ['Cargas (u)','Movimiento (t)','Edad del empleado','tefe (seg)','tdem (seg)']\n",
    "aux = df_[filtro]\n",
    "scaled = pd.DataFrame(StandardScaler().fit_transform(aux), columns= aux.columns)"
   ]
  },
  {
   "cell_type": "code",
   "execution_count": 43,
   "metadata": {
    "colab": {},
    "colab_type": "code",
    "id": "kLQr8u6v39Gf"
   },
   "outputs": [],
   "source": [
    "aux = df_.drop(filtro,axis=1)\n",
    "\n",
    "scaled.reset_index(drop=True, inplace=True)\n",
    "aux.reset_index(drop=True, inplace=True)\n",
    "\n",
    "df_scaled = pd.concat([aux,scaled],axis=1)"
   ]
  },
  {
   "cell_type": "markdown",
   "metadata": {
    "colab_type": "text",
    "id": "rY2w9jZ0aot_"
   },
   "source": [
    "##Data a ocupar"
   ]
  },
  {
   "cell_type": "code",
   "execution_count": 44,
   "metadata": {
    "colab": {
     "base_uri": "https://localhost:8080/",
     "height": 476
    },
    "colab_type": "code",
    "id": "zvu0cobYatY1",
    "outputId": "ea93cca4-db44-416b-9fb3-f5e32f7789c6"
   },
   "outputs": [
    {
     "name": "stdout",
     "output_type": "stream",
     "text": [
      "<class 'pandas.core.frame.DataFrame'>\n",
      "RangeIndex: 1825 entries, 0 to 1824\n",
      "Data columns (total 20 columns):\n",
      " #   Column                                    Non-Null Count  Dtype  \n",
      "---  ------                                    --------------  -----  \n",
      " 0   Fecha                                     1825 non-null   object \n",
      " 1   Turno                                     1825 non-null   object \n",
      " 2   Equipo                                    1825 non-null   object \n",
      " 3   Número de personal                        1825 non-null   object \n",
      " 4   Unidad organizativa                       1825 non-null   object \n",
      " 5   Posición                                  1825 non-null   object \n",
      " 6   Fecha de alta                             1825 non-null   object \n",
      " 7   Status empleado para Gestión tiempos per  1825 non-null   object \n",
      " 8   Dia                                       1825 non-null   object \n",
      " 9   Mes                                       1825 non-null   object \n",
      " 10  Año                                       1825 non-null   object \n",
      " 11  Eficiencia                                1825 non-null   float64\n",
      " 12  Eficiencia (bin)                          1825 non-null   int64  \n",
      " 13  Demora                                    1825 non-null   float64\n",
      " 14  Demora (bin)                              1825 non-null   int64  \n",
      " 15  Cargas (u)                                1825 non-null   float64\n",
      " 16  Movimiento (t)                            1825 non-null   float64\n",
      " 17  Edad del empleado                         1825 non-null   float64\n",
      " 18  tefe (seg)                                1825 non-null   float64\n",
      " 19  tdem (seg)                                1825 non-null   float64\n",
      "dtypes: float64(7), int64(2), object(11)\n",
      "memory usage: 285.3+ KB\n"
     ]
    }
   ],
   "source": [
    "df_scaled.info()"
   ]
  },
  {
   "cell_type": "code",
   "execution_count": 45,
   "metadata": {
    "colab": {
     "base_uri": "https://localhost:8080/",
     "height": 362
    },
    "colab_type": "code",
    "id": "M_sELg8kr4GY",
    "outputId": "090239aa-9115-4388-f717-2d71a1c5882f"
   },
   "outputs": [
    {
     "data": {
      "text/html": [
       "<div>\n",
       "<style scoped>\n",
       "    .dataframe tbody tr th:only-of-type {\n",
       "        vertical-align: middle;\n",
       "    }\n",
       "\n",
       "    .dataframe tbody tr th {\n",
       "        vertical-align: top;\n",
       "    }\n",
       "\n",
       "    .dataframe thead th {\n",
       "        text-align: right;\n",
       "    }\n",
       "</style>\n",
       "<table border=\"1\" class=\"dataframe\">\n",
       "  <thead>\n",
       "    <tr style=\"text-align: right;\">\n",
       "      <th></th>\n",
       "      <th>Eficiencia</th>\n",
       "      <th>Eficiencia (bin)</th>\n",
       "      <th>Demora</th>\n",
       "      <th>Demora (bin)</th>\n",
       "      <th>Cargas (u)</th>\n",
       "      <th>Movimiento (t)</th>\n",
       "      <th>Edad del empleado</th>\n",
       "      <th>tefe (seg)</th>\n",
       "      <th>tdem (seg)</th>\n",
       "    </tr>\n",
       "  </thead>\n",
       "  <tbody>\n",
       "    <tr>\n",
       "      <th>Eficiencia</th>\n",
       "      <td>1.000000</td>\n",
       "      <td>0.852115</td>\n",
       "      <td>0.359725</td>\n",
       "      <td>0.435001</td>\n",
       "      <td>0.839772</td>\n",
       "      <td>0.836531</td>\n",
       "      <td>0.018236</td>\n",
       "      <td>0.989911</td>\n",
       "      <td>0.355801</td>\n",
       "    </tr>\n",
       "    <tr>\n",
       "      <th>Eficiencia (bin)</th>\n",
       "      <td>0.852115</td>\n",
       "      <td>1.000000</td>\n",
       "      <td>0.332332</td>\n",
       "      <td>0.402726</td>\n",
       "      <td>0.718551</td>\n",
       "      <td>0.716090</td>\n",
       "      <td>0.034953</td>\n",
       "      <td>0.852287</td>\n",
       "      <td>0.337132</td>\n",
       "    </tr>\n",
       "    <tr>\n",
       "      <th>Demora</th>\n",
       "      <td>0.359725</td>\n",
       "      <td>0.332332</td>\n",
       "      <td>1.000000</td>\n",
       "      <td>0.641177</td>\n",
       "      <td>0.262900</td>\n",
       "      <td>0.259030</td>\n",
       "      <td>0.014580</td>\n",
       "      <td>0.341535</td>\n",
       "      <td>0.917966</td>\n",
       "    </tr>\n",
       "    <tr>\n",
       "      <th>Demora (bin)</th>\n",
       "      <td>0.435001</td>\n",
       "      <td>0.402726</td>\n",
       "      <td>0.641177</td>\n",
       "      <td>1.000000</td>\n",
       "      <td>0.354970</td>\n",
       "      <td>0.351297</td>\n",
       "      <td>0.022056</td>\n",
       "      <td>0.431415</td>\n",
       "      <td>0.661347</td>\n",
       "    </tr>\n",
       "    <tr>\n",
       "      <th>Cargas (u)</th>\n",
       "      <td>0.839772</td>\n",
       "      <td>0.718551</td>\n",
       "      <td>0.262900</td>\n",
       "      <td>0.354970</td>\n",
       "      <td>1.000000</td>\n",
       "      <td>0.998852</td>\n",
       "      <td>-0.133268</td>\n",
       "      <td>0.843994</td>\n",
       "      <td>0.276562</td>\n",
       "    </tr>\n",
       "    <tr>\n",
       "      <th>Movimiento (t)</th>\n",
       "      <td>0.836531</td>\n",
       "      <td>0.716090</td>\n",
       "      <td>0.259030</td>\n",
       "      <td>0.351297</td>\n",
       "      <td>0.998852</td>\n",
       "      <td>1.000000</td>\n",
       "      <td>-0.134124</td>\n",
       "      <td>0.841990</td>\n",
       "      <td>0.270693</td>\n",
       "    </tr>\n",
       "    <tr>\n",
       "      <th>Edad del empleado</th>\n",
       "      <td>0.018236</td>\n",
       "      <td>0.034953</td>\n",
       "      <td>0.014580</td>\n",
       "      <td>0.022056</td>\n",
       "      <td>-0.133268</td>\n",
       "      <td>-0.134124</td>\n",
       "      <td>1.000000</td>\n",
       "      <td>0.043733</td>\n",
       "      <td>0.014747</td>\n",
       "    </tr>\n",
       "    <tr>\n",
       "      <th>tefe (seg)</th>\n",
       "      <td>0.989911</td>\n",
       "      <td>0.852287</td>\n",
       "      <td>0.341535</td>\n",
       "      <td>0.431415</td>\n",
       "      <td>0.843994</td>\n",
       "      <td>0.841990</td>\n",
       "      <td>0.043733</td>\n",
       "      <td>1.000000</td>\n",
       "      <td>0.338067</td>\n",
       "    </tr>\n",
       "    <tr>\n",
       "      <th>tdem (seg)</th>\n",
       "      <td>0.355801</td>\n",
       "      <td>0.337132</td>\n",
       "      <td>0.917966</td>\n",
       "      <td>0.661347</td>\n",
       "      <td>0.276562</td>\n",
       "      <td>0.270693</td>\n",
       "      <td>0.014747</td>\n",
       "      <td>0.338067</td>\n",
       "      <td>1.000000</td>\n",
       "    </tr>\n",
       "  </tbody>\n",
       "</table>\n",
       "</div>"
      ],
      "text/plain": [
       "                   Eficiencia  Eficiencia (bin)    Demora  Demora (bin)  \\\n",
       "Eficiencia           1.000000          0.852115  0.359725      0.435001   \n",
       "Eficiencia (bin)     0.852115          1.000000  0.332332      0.402726   \n",
       "Demora               0.359725          0.332332  1.000000      0.641177   \n",
       "Demora (bin)         0.435001          0.402726  0.641177      1.000000   \n",
       "Cargas (u)           0.839772          0.718551  0.262900      0.354970   \n",
       "Movimiento (t)       0.836531          0.716090  0.259030      0.351297   \n",
       "Edad del empleado    0.018236          0.034953  0.014580      0.022056   \n",
       "tefe (seg)           0.989911          0.852287  0.341535      0.431415   \n",
       "tdem (seg)           0.355801          0.337132  0.917966      0.661347   \n",
       "\n",
       "                   Cargas (u)  Movimiento (t)  Edad del empleado  tefe (seg)  \\\n",
       "Eficiencia           0.839772        0.836531           0.018236    0.989911   \n",
       "Eficiencia (bin)     0.718551        0.716090           0.034953    0.852287   \n",
       "Demora               0.262900        0.259030           0.014580    0.341535   \n",
       "Demora (bin)         0.354970        0.351297           0.022056    0.431415   \n",
       "Cargas (u)           1.000000        0.998852          -0.133268    0.843994   \n",
       "Movimiento (t)       0.998852        1.000000          -0.134124    0.841990   \n",
       "Edad del empleado   -0.133268       -0.134124           1.000000    0.043733   \n",
       "tefe (seg)           0.843994        0.841990           0.043733    1.000000   \n",
       "tdem (seg)           0.276562        0.270693           0.014747    0.338067   \n",
       "\n",
       "                   tdem (seg)  \n",
       "Eficiencia           0.355801  \n",
       "Eficiencia (bin)     0.337132  \n",
       "Demora               0.917966  \n",
       "Demora (bin)         0.661347  \n",
       "Cargas (u)           0.276562  \n",
       "Movimiento (t)       0.270693  \n",
       "Edad del empleado    0.014747  \n",
       "tefe (seg)           0.338067  \n",
       "tdem (seg)           1.000000  "
      ]
     },
     "execution_count": 45,
     "metadata": {},
     "output_type": "execute_result"
    }
   ],
   "source": [
    "df_scaled.corr()"
   ]
  },
  {
   "cell_type": "code",
   "execution_count": 46,
   "metadata": {
    "colab": {
     "base_uri": "https://localhost:8080/",
     "height": 365
    },
    "colab_type": "code",
    "id": "moyMI-nGrhzf",
    "outputId": "4f4b1f26-baea-4202-e722-cf5b102dfa91"
   },
   "outputs": [
    {
     "data": {
      "text/html": [
       "<div>\n",
       "<style scoped>\n",
       "    .dataframe tbody tr th:only-of-type {\n",
       "        vertical-align: middle;\n",
       "    }\n",
       "\n",
       "    .dataframe tbody tr th {\n",
       "        vertical-align: top;\n",
       "    }\n",
       "\n",
       "    .dataframe thead th {\n",
       "        text-align: right;\n",
       "    }\n",
       "</style>\n",
       "<table border=\"1\" class=\"dataframe\">\n",
       "  <thead>\n",
       "    <tr style=\"text-align: right;\">\n",
       "      <th></th>\n",
       "      <th>Eficiencia</th>\n",
       "      <th>Eficiencia (bin)</th>\n",
       "      <th>Demora</th>\n",
       "      <th>Demora (bin)</th>\n",
       "      <th>Cargas (u)</th>\n",
       "      <th>Movimiento (t)</th>\n",
       "      <th>Edad del empleado</th>\n",
       "      <th>tefe (seg)</th>\n",
       "      <th>tdem (seg)</th>\n",
       "    </tr>\n",
       "  </thead>\n",
       "  <tbody>\n",
       "    <tr>\n",
       "      <th>count</th>\n",
       "      <td>1825.000000</td>\n",
       "      <td>1825.000000</td>\n",
       "      <td>1825.000000</td>\n",
       "      <td>1825.000000</td>\n",
       "      <td>1.825000e+03</td>\n",
       "      <td>1.825000e+03</td>\n",
       "      <td>1.825000e+03</td>\n",
       "      <td>1.825000e+03</td>\n",
       "      <td>1.825000e+03</td>\n",
       "    </tr>\n",
       "    <tr>\n",
       "      <th>mean</th>\n",
       "      <td>0.539415</td>\n",
       "      <td>0.501918</td>\n",
       "      <td>0.168630</td>\n",
       "      <td>0.503562</td>\n",
       "      <td>-3.650048e-17</td>\n",
       "      <td>1.030530e-16</td>\n",
       "      <td>4.127596e-16</td>\n",
       "      <td>1.727690e-17</td>\n",
       "      <td>6.278083e-17</td>\n",
       "    </tr>\n",
       "    <tr>\n",
       "      <th>std</th>\n",
       "      <td>0.272621</td>\n",
       "      <td>0.500133</td>\n",
       "      <td>0.183135</td>\n",
       "      <td>0.500124</td>\n",
       "      <td>1.000274e+00</td>\n",
       "      <td>1.000274e+00</td>\n",
       "      <td>1.000274e+00</td>\n",
       "      <td>1.000274e+00</td>\n",
       "      <td>1.000274e+00</td>\n",
       "    </tr>\n",
       "    <tr>\n",
       "      <th>min</th>\n",
       "      <td>0.003304</td>\n",
       "      <td>0.000000</td>\n",
       "      <td>0.000000</td>\n",
       "      <td>0.000000</td>\n",
       "      <td>-1.541655e+00</td>\n",
       "      <td>-1.539155e+00</td>\n",
       "      <td>-1.682677e+00</td>\n",
       "      <td>-1.968526e+00</td>\n",
       "      <td>-9.407032e-01</td>\n",
       "    </tr>\n",
       "    <tr>\n",
       "      <th>25%</th>\n",
       "      <td>0.319562</td>\n",
       "      <td>0.000000</td>\n",
       "      <td>0.037751</td>\n",
       "      <td>0.000000</td>\n",
       "      <td>-8.208556e-01</td>\n",
       "      <td>-8.153912e-01</td>\n",
       "      <td>-9.933453e-01</td>\n",
       "      <td>-8.166345e-01</td>\n",
       "      <td>-7.094064e-01</td>\n",
       "    </tr>\n",
       "    <tr>\n",
       "      <th>50%</th>\n",
       "      <td>0.547570</td>\n",
       "      <td>1.000000</td>\n",
       "      <td>0.113754</td>\n",
       "      <td>1.000000</td>\n",
       "      <td>-1.000562e-01</td>\n",
       "      <td>-9.836510e-02</td>\n",
       "      <td>2.129845e-01</td>\n",
       "      <td>6.657307e-02</td>\n",
       "      <td>-2.835655e-01</td>\n",
       "    </tr>\n",
       "    <tr>\n",
       "      <th>75%</th>\n",
       "      <td>0.788964</td>\n",
       "      <td>1.000000</td>\n",
       "      <td>0.240643</td>\n",
       "      <td>1.000000</td>\n",
       "      <td>6.928232e-01</td>\n",
       "      <td>6.566728e-01</td>\n",
       "      <td>9.884822e-01</td>\n",
       "      <td>8.968264e-01</td>\n",
       "      <td>3.902335e-01</td>\n",
       "    </tr>\n",
       "    <tr>\n",
       "      <th>max</th>\n",
       "      <td>1.000000</td>\n",
       "      <td>1.000000</td>\n",
       "      <td>1.000000</td>\n",
       "      <td>1.000000</td>\n",
       "      <td>3.551994e+00</td>\n",
       "      <td>3.616645e+00</td>\n",
       "      <td>1.591647e+00</td>\n",
       "      <td>1.893767e+00</td>\n",
       "      <td>7.995096e+00</td>\n",
       "    </tr>\n",
       "  </tbody>\n",
       "</table>\n",
       "</div>"
      ],
      "text/plain": [
       "        Eficiencia  Eficiencia (bin)       Demora  Demora (bin)    Cargas (u)  \\\n",
       "count  1825.000000       1825.000000  1825.000000   1825.000000  1.825000e+03   \n",
       "mean      0.539415          0.501918     0.168630      0.503562 -3.650048e-17   \n",
       "std       0.272621          0.500133     0.183135      0.500124  1.000274e+00   \n",
       "min       0.003304          0.000000     0.000000      0.000000 -1.541655e+00   \n",
       "25%       0.319562          0.000000     0.037751      0.000000 -8.208556e-01   \n",
       "50%       0.547570          1.000000     0.113754      1.000000 -1.000562e-01   \n",
       "75%       0.788964          1.000000     0.240643      1.000000  6.928232e-01   \n",
       "max       1.000000          1.000000     1.000000      1.000000  3.551994e+00   \n",
       "\n",
       "       Movimiento (t)  Edad del empleado    tefe (seg)    tdem (seg)  \n",
       "count    1.825000e+03       1.825000e+03  1.825000e+03  1.825000e+03  \n",
       "mean     1.030530e-16       4.127596e-16  1.727690e-17  6.278083e-17  \n",
       "std      1.000274e+00       1.000274e+00  1.000274e+00  1.000274e+00  \n",
       "min     -1.539155e+00      -1.682677e+00 -1.968526e+00 -9.407032e-01  \n",
       "25%     -8.153912e-01      -9.933453e-01 -8.166345e-01 -7.094064e-01  \n",
       "50%     -9.836510e-02       2.129845e-01  6.657307e-02 -2.835655e-01  \n",
       "75%      6.566728e-01       9.884822e-01  8.968264e-01  3.902335e-01  \n",
       "max      3.616645e+00       1.591647e+00  1.893767e+00  7.995096e+00  "
      ]
     },
     "execution_count": 46,
     "metadata": {},
     "output_type": "execute_result"
    }
   ],
   "source": [
    "df_scaled.describe()"
   ]
  },
  {
   "cell_type": "code",
   "execution_count": 47,
   "metadata": {
    "colab": {
     "base_uri": "https://localhost:8080/",
     "height": 649
    },
    "colab_type": "code",
    "id": "RMr6szyta5S3",
    "outputId": "aaa7a7bf-3fe9-4c73-b655-b2569dcdf940"
   },
   "outputs": [
    {
     "data": {
      "text/html": [
       "<div>\n",
       "<style scoped>\n",
       "    .dataframe tbody tr th:only-of-type {\n",
       "        vertical-align: middle;\n",
       "    }\n",
       "\n",
       "    .dataframe tbody tr th {\n",
       "        vertical-align: top;\n",
       "    }\n",
       "\n",
       "    .dataframe thead th {\n",
       "        text-align: right;\n",
       "    }\n",
       "</style>\n",
       "<table border=\"1\" class=\"dataframe\">\n",
       "  <thead>\n",
       "    <tr style=\"text-align: right;\">\n",
       "      <th></th>\n",
       "      <th>Fecha</th>\n",
       "      <th>Turno</th>\n",
       "      <th>Equipo</th>\n",
       "      <th>Número de personal</th>\n",
       "      <th>Unidad organizativa</th>\n",
       "      <th>Posición</th>\n",
       "      <th>Fecha de alta</th>\n",
       "      <th>Status empleado para Gestión tiempos per</th>\n",
       "      <th>Dia</th>\n",
       "      <th>Mes</th>\n",
       "      <th>Año</th>\n",
       "      <th>Eficiencia</th>\n",
       "      <th>Eficiencia (bin)</th>\n",
       "      <th>Demora</th>\n",
       "      <th>Demora (bin)</th>\n",
       "      <th>Cargas (u)</th>\n",
       "      <th>Movimiento (t)</th>\n",
       "      <th>Edad del empleado</th>\n",
       "      <th>tefe (seg)</th>\n",
       "      <th>tdem (seg)</th>\n",
       "    </tr>\n",
       "  </thead>\n",
       "  <tbody>\n",
       "    <tr>\n",
       "      <th>0</th>\n",
       "      <td>2019-07-01</td>\n",
       "      <td>2</td>\n",
       "      <td>211</td>\n",
       "      <td>20002787</td>\n",
       "      <td>MANTENIMIENTO MINA</td>\n",
       "      <td>ELECTRICO III</td>\n",
       "      <td>2011-10-01</td>\n",
       "      <td>1 - Evaluación de tiempos, real</td>\n",
       "      <td>01</td>\n",
       "      <td>07</td>\n",
       "      <td>2019</td>\n",
       "      <td>0.505260</td>\n",
       "      <td>0</td>\n",
       "      <td>0.058532</td>\n",
       "      <td>0</td>\n",
       "      <td>0.668797</td>\n",
       "      <td>0.625564</td>\n",
       "      <td>-1.424177</td>\n",
       "      <td>-0.023231</td>\n",
       "      <td>-0.541814</td>\n",
       "    </tr>\n",
       "    <tr>\n",
       "      <th>1</th>\n",
       "      <td>2019-07-01</td>\n",
       "      <td>2</td>\n",
       "      <td>213</td>\n",
       "      <td>20000875</td>\n",
       "      <td>MANTENIMIENTO MINA</td>\n",
       "      <td>MECANICO I</td>\n",
       "      <td>1997-03-19</td>\n",
       "      <td>1 - Evaluación de tiempos, real</td>\n",
       "      <td>01</td>\n",
       "      <td>07</td>\n",
       "      <td>2019</td>\n",
       "      <td>0.131334</td>\n",
       "      <td>0</td>\n",
       "      <td>0.026390</td>\n",
       "      <td>0</td>\n",
       "      <td>-1.277362</td>\n",
       "      <td>-1.268354</td>\n",
       "      <td>0.729983</td>\n",
       "      <td>-1.472102</td>\n",
       "      <td>-0.760860</td>\n",
       "    </tr>\n",
       "    <tr>\n",
       "      <th>2</th>\n",
       "      <td>2019-07-01</td>\n",
       "      <td>2</td>\n",
       "      <td>307</td>\n",
       "      <td>20001014</td>\n",
       "      <td>ADMINISTRACION SUPTCIA PLANTAS</td>\n",
       "      <td>OPERADOR ELECTRICO II PLANTA</td>\n",
       "      <td>1998-03-31</td>\n",
       "      <td>1 - Evaluación de tiempos, real</td>\n",
       "      <td>01</td>\n",
       "      <td>07</td>\n",
       "      <td>2019</td>\n",
       "      <td>0.917188</td>\n",
       "      <td>1</td>\n",
       "      <td>0.197434</td>\n",
       "      <td>1</td>\n",
       "      <td>0.836983</td>\n",
       "      <td>0.853396</td>\n",
       "      <td>1.419314</td>\n",
       "      <td>1.232658</td>\n",
       "      <td>0.431886</td>\n",
       "    </tr>\n",
       "    <tr>\n",
       "      <th>3</th>\n",
       "      <td>2019-07-02</td>\n",
       "      <td>1</td>\n",
       "      <td>211</td>\n",
       "      <td>20004895</td>\n",
       "      <td>CAMIONES CAT 793F MLC</td>\n",
       "      <td>OPERADOR III</td>\n",
       "      <td>2013-09-01</td>\n",
       "      <td>1 - Evaluación de tiempos, real</td>\n",
       "      <td>02</td>\n",
       "      <td>07</td>\n",
       "      <td>2019</td>\n",
       "      <td>0.904444</td>\n",
       "      <td>1</td>\n",
       "      <td>0.103806</td>\n",
       "      <td>0</td>\n",
       "      <td>1.990262</td>\n",
       "      <td>1.963414</td>\n",
       "      <td>0.212984</td>\n",
       "      <td>1.411265</td>\n",
       "      <td>-0.470269</td>\n",
       "    </tr>\n",
       "    <tr>\n",
       "      <th>4</th>\n",
       "      <td>2019-07-02</td>\n",
       "      <td>1</td>\n",
       "      <td>213</td>\n",
       "      <td>20003278</td>\n",
       "      <td>MANTENIMIENTO MINA</td>\n",
       "      <td>MECANICO III</td>\n",
       "      <td>2011-04-01</td>\n",
       "      <td>1 - Evaluación de tiempos, real</td>\n",
       "      <td>02</td>\n",
       "      <td>07</td>\n",
       "      <td>2019</td>\n",
       "      <td>0.069553</td>\n",
       "      <td>0</td>\n",
       "      <td>0.004818</td>\n",
       "      <td>0</td>\n",
       "      <td>-1.397495</td>\n",
       "      <td>-1.392686</td>\n",
       "      <td>-1.079512</td>\n",
       "      <td>-1.711488</td>\n",
       "      <td>-0.907871</td>\n",
       "    </tr>\n",
       "  </tbody>\n",
       "</table>\n",
       "</div>"
      ],
      "text/plain": [
       "        Fecha Turno Equipo Número de personal             Unidad organizativa  \\\n",
       "0  2019-07-01     2    211           20002787              MANTENIMIENTO MINA   \n",
       "1  2019-07-01     2    213           20000875              MANTENIMIENTO MINA   \n",
       "2  2019-07-01     2    307           20001014  ADMINISTRACION SUPTCIA PLANTAS   \n",
       "3  2019-07-02     1    211           20004895           CAMIONES CAT 793F MLC   \n",
       "4  2019-07-02     1    213           20003278              MANTENIMIENTO MINA   \n",
       "\n",
       "                       Posición Fecha de alta  \\\n",
       "0                 ELECTRICO III    2011-10-01   \n",
       "1                    MECANICO I    1997-03-19   \n",
       "2  OPERADOR ELECTRICO II PLANTA    1998-03-31   \n",
       "3                  OPERADOR III    2013-09-01   \n",
       "4                  MECANICO III    2011-04-01   \n",
       "\n",
       "  Status empleado para Gestión tiempos per Dia Mes   Año  Eficiencia  \\\n",
       "0          1 - Evaluación de tiempos, real  01  07  2019    0.505260   \n",
       "1          1 - Evaluación de tiempos, real  01  07  2019    0.131334   \n",
       "2          1 - Evaluación de tiempos, real  01  07  2019    0.917188   \n",
       "3          1 - Evaluación de tiempos, real  02  07  2019    0.904444   \n",
       "4          1 - Evaluación de tiempos, real  02  07  2019    0.069553   \n",
       "\n",
       "   Eficiencia (bin)    Demora  Demora (bin)  Cargas (u)  Movimiento (t)  \\\n",
       "0                 0  0.058532             0    0.668797        0.625564   \n",
       "1                 0  0.026390             0   -1.277362       -1.268354   \n",
       "2                 1  0.197434             1    0.836983        0.853396   \n",
       "3                 1  0.103806             0    1.990262        1.963414   \n",
       "4                 0  0.004818             0   -1.397495       -1.392686   \n",
       "\n",
       "   Edad del empleado  tefe (seg)  tdem (seg)  \n",
       "0          -1.424177   -0.023231   -0.541814  \n",
       "1           0.729983   -1.472102   -0.760860  \n",
       "2           1.419314    1.232658    0.431886  \n",
       "3           0.212984    1.411265   -0.470269  \n",
       "4          -1.079512   -1.711488   -0.907871  "
      ]
     },
     "execution_count": 47,
     "metadata": {},
     "output_type": "execute_result"
    }
   ],
   "source": [
    "df_scaled.head()"
   ]
  },
  {
   "cell_type": "markdown",
   "metadata": {
    "colab_type": "text",
    "id": "je6SL8JBDLZY"
   },
   "source": [
    "# Predicción Tefe (seg)"
   ]
  },
  {
   "cell_type": "markdown",
   "metadata": {
    "colab_type": "text",
    "id": "HC_sP6orDLZf"
   },
   "source": [
    "##Regresión Lineal"
   ]
  },
  {
   "cell_type": "markdown",
   "metadata": {
    "colab_type": "text",
    "id": "tALuPVm2DLZg"
   },
   "source": [
    "Importamos y seleccionamos las variables que ocuparemos en el modelo"
   ]
  },
  {
   "cell_type": "code",
   "execution_count": 48,
   "metadata": {
    "colab": {},
    "colab_type": "code",
    "id": "3JAsK_2nDLZg"
   },
   "outputs": [],
   "source": [
    "from sklearn.model_selection import train_test_split\n",
    "X = df_scaled[['Equipo','Movimiento (t)','Cargas (u)','Edad del empleado','Número de personal']]\n",
    "y = df_scaled['tefe (seg)']"
   ]
  },
  {
   "cell_type": "markdown",
   "metadata": {
    "colab_type": "text",
    "id": "Y0GKRyyiDLZo"
   },
   "source": [
    "Creamos la data de entrenamiento y test"
   ]
  },
  {
   "cell_type": "code",
   "execution_count": 49,
   "metadata": {
    "colab": {},
    "colab_type": "code",
    "id": "dnXGnnfNDLZp"
   },
   "outputs": [],
   "source": [
    "X_train, X_test, y_train, y_test = train_test_split(X, y, test_size=0.4, random_state=42)"
   ]
  },
  {
   "cell_type": "markdown",
   "metadata": {
    "colab_type": "text",
    "id": "p3H9K1eTDLZr"
   },
   "source": [
    "Importamos el modelo de regresion lineal, creamos la regresion y generamos el .fit con la data de entrenamiento"
   ]
  },
  {
   "cell_type": "code",
   "execution_count": 50,
   "metadata": {
    "colab": {
     "base_uri": "https://localhost:8080/",
     "height": 34
    },
    "colab_type": "code",
    "id": "hpMlC1wrDLZs",
    "outputId": "d0cc4362-bc39-4d17-f225-b2c23b0f6b31"
   },
   "outputs": [
    {
     "data": {
      "text/plain": [
       "LinearRegression(copy_X=True, fit_intercept=True, n_jobs=None, normalize=False)"
      ]
     },
     "execution_count": 50,
     "metadata": {},
     "output_type": "execute_result"
    }
   ],
   "source": [
    "from sklearn import linear_model\n",
    "modelo = linear_model.LinearRegression()\n",
    "modelo.fit(X_train,y_train)"
   ]
  },
  {
   "cell_type": "markdown",
   "metadata": {
    "colab_type": "text",
    "id": "3PAP_uDSDLZv"
   },
   "source": [
    "\n",
    "Predicción con la data de test"
   ]
  },
  {
   "cell_type": "code",
   "execution_count": 51,
   "metadata": {
    "colab": {},
    "colab_type": "code",
    "id": "dOP7b8rvDLZw"
   },
   "outputs": [],
   "source": [
    "y_pred = modelo.predict(X_test)"
   ]
  },
  {
   "cell_type": "code",
   "execution_count": 52,
   "metadata": {
    "colab": {
     "base_uri": "https://localhost:8080/",
     "height": 235
    },
    "colab_type": "code",
    "id": "chNHP2oJDLZy",
    "outputId": "08c3be4e-3efa-4149-ae2f-69a239aba828"
   },
   "outputs": [
    {
     "data": {
      "text/html": [
       "<div>\n",
       "<style scoped>\n",
       "    .dataframe tbody tr th:only-of-type {\n",
       "        vertical-align: middle;\n",
       "    }\n",
       "\n",
       "    .dataframe tbody tr th {\n",
       "        vertical-align: top;\n",
       "    }\n",
       "\n",
       "    .dataframe thead th {\n",
       "        text-align: right;\n",
       "    }\n",
       "</style>\n",
       "<table border=\"1\" class=\"dataframe\">\n",
       "  <thead>\n",
       "    <tr style=\"text-align: right;\">\n",
       "      <th></th>\n",
       "      <th>Coefficient</th>\n",
       "    </tr>\n",
       "  </thead>\n",
       "  <tbody>\n",
       "    <tr>\n",
       "      <th>Equipo</th>\n",
       "      <td>0.007562</td>\n",
       "    </tr>\n",
       "    <tr>\n",
       "      <th>Movimiento (t)</th>\n",
       "      <td>-0.030384</td>\n",
       "    </tr>\n",
       "    <tr>\n",
       "      <th>Cargas (u)</th>\n",
       "      <td>1.044410</td>\n",
       "    </tr>\n",
       "    <tr>\n",
       "      <th>Edad del empleado</th>\n",
       "      <td>-0.019418</td>\n",
       "    </tr>\n",
       "    <tr>\n",
       "      <th>Número de personal</th>\n",
       "      <td>-0.000012</td>\n",
       "    </tr>\n",
       "  </tbody>\n",
       "</table>\n",
       "</div>"
      ],
      "text/plain": [
       "                    Coefficient\n",
       "Equipo                 0.007562\n",
       "Movimiento (t)        -0.030384\n",
       "Cargas (u)             1.044410\n",
       "Edad del empleado     -0.019418\n",
       "Número de personal    -0.000012"
      ]
     },
     "execution_count": 52,
     "metadata": {},
     "output_type": "execute_result"
    }
   ],
   "source": [
    "pd.DataFrame(modelo.coef_,X.columns,columns=['Coefficient'])"
   ]
  },
  {
   "cell_type": "code",
   "execution_count": 53,
   "metadata": {
    "colab": {
     "base_uri": "https://localhost:8080/",
     "height": 356
    },
    "colab_type": "code",
    "id": "aDyCLmlWDLZ0",
    "outputId": "de15a60d-6210-4d78-cfd5-c04d7ec6b4e4"
   },
   "outputs": [
    {
     "data": {
      "text/plain": [
       "<matplotlib.axes._subplots.AxesSubplot at 0x1764a08d808>"
      ]
     },
     "execution_count": 53,
     "metadata": {},
     "output_type": "execute_result"
    },
    {
     "data": {
      "image/png": "[encoded data removed]",
      "text/plain": [
       "<Figure size 720x360 with 1 Axes>"
      ]
     },
     "metadata": {},
     "output_type": "display_data"
    }
   ],
   "source": [
    "plt.figure(figsize=(10,5))\n",
    "sns.scatterplot(y_test,y_pred,color='blue',alpha=0.5)"
   ]
  },
  {
   "cell_type": "markdown",
   "metadata": {
    "colab_type": "text",
    "id": "wlZ-QJ-3DLZ2"
   },
   "source": [
    "Residuales"
   ]
  },
  {
   "cell_type": "code",
   "execution_count": 54,
   "metadata": {
    "colab": {
     "base_uri": "https://localhost:8080/",
     "height": 302
    },
    "colab_type": "code",
    "id": "VjqIRdvbDLZ3",
    "outputId": "df503520-1480-4097-bd34-95b88620ad08"
   },
   "outputs": [
    {
     "data": {
      "text/plain": [
       "<matplotlib.axes._subplots.AxesSubplot at 0x1764a9ec248>"
      ]
     },
     "execution_count": 54,
     "metadata": {},
     "output_type": "execute_result"
    },
    {
     "data": {
      "image/png": "[encoded data removed]",
      "text/plain": [
       "<Figure size 432x288 with 1 Axes>"
      ]
     },
     "metadata": {},
     "output_type": "display_data"
    }
   ],
   "source": [
    "sns.distplot((y_test-y_pred),bins=50)"
   ]
  },
  {
   "cell_type": "code",
   "execution_count": 55,
   "metadata": {},
   "outputs": [
    {
     "data": {
      "text/plain": [
       "<matplotlib.collections.PathCollection at 0x1764ab3ac48>"
      ]
     },
     "execution_count": 55,
     "metadata": {},
     "output_type": "execute_result"
    },
    {
     "data": {
      "image/png": "[encoded data removed]",
      "text/plain": [
       "<Figure size 432x288 with 1 Axes>"
      ]
     },
     "metadata": {},
     "output_type": "display_data"
    }
   ],
   "source": [
    "plt.scatter(y_pred,y_test-y_pred,c='blue',alpha=0.5)"
   ]
  },
  {
   "cell_type": "markdown",
   "metadata": {},
   "source": [
    "El clásico R^2"
   ]
  },
  {
   "cell_type": "code",
   "execution_count": 56,
   "metadata": {},
   "outputs": [
    {
     "data": {
      "text/plain": [
       "0.8207536991075962"
      ]
     },
     "execution_count": 56,
     "metadata": {},
     "output_type": "execute_result"
    }
   ],
   "source": [
    "from sklearn import metrics\n",
    "metrics.r2_score(y_test,y_pred)"
   ]
  },
  {
   "cell_type": "markdown",
   "metadata": {
    "colab_type": "text",
    "id": "f4Z3F9QEDLZ7"
   },
   "source": [
    "Error Cuadratico Medio"
   ]
  },
  {
   "cell_type": "code",
   "execution_count": 57,
   "metadata": {
    "colab": {
     "base_uri": "https://localhost:8080/",
     "height": 34
    },
    "colab_type": "code",
    "id": "KWItWBcaDLZ7",
    "outputId": "ab68e5be-e956-472c-d6c2-f68ac84b03a0"
   },
   "outputs": [
    {
     "name": "stdout",
     "output_type": "stream",
     "text": [
      "Error Cuadrático Medio: 0.1808601516250685\n"
     ]
    }
   ],
   "source": [
    "print(f'Error Cuadrático Medio: {metrics.mean_squared_error(y_test,y_pred)}')"
   ]
  },
  {
   "cell_type": "markdown",
   "metadata": {},
   "source": [
    "### Cross-Validation"
   ]
  },
  {
   "cell_type": "code",
   "execution_count": 58,
   "metadata": {},
   "outputs": [],
   "source": [
    "from sklearn.model_selection import cross_val_score"
   ]
  },
  {
   "cell_type": "code",
   "execution_count": 59,
   "metadata": {},
   "outputs": [],
   "source": [
    "cv_results = cross_val_score(modelo,X,y,scoring='r2',cv=10)"
   ]
  },
  {
   "cell_type": "code",
   "execution_count": 60,
   "metadata": {},
   "outputs": [
    {
     "data": {
      "text/plain": [
       "array([0.79168488, 0.76697057, 0.84489387, 0.85482338, 0.871183  ,\n",
       "       0.87842895, 0.77492979, 0.8103442 , 0.82432144, 0.76185042])"
      ]
     },
     "execution_count": 60,
     "metadata": {},
     "output_type": "execute_result"
    }
   ],
   "source": [
    "cv_results"
   ]
  },
  {
   "cell_type": "code",
   "execution_count": 61,
   "metadata": {},
   "outputs": [
    {
     "data": {
      "text/plain": [
       "0.817943049850592"
      ]
     },
     "execution_count": 61,
     "metadata": {},
     "output_type": "execute_result"
    }
   ],
   "source": [
    "cv_results.mean()"
   ]
  },
  {
   "cell_type": "markdown",
   "metadata": {
    "colab_type": "text",
    "id": "e02goRc9DLZ9"
   },
   "source": [
    "Se peude decir que la regresion lineal no en el mejor modelo para este tipo de data"
   ]
  },
  {
   "cell_type": "code",
   "execution_count": null,
   "metadata": {
    "colab": {},
    "colab_type": "code",
    "id": "1QwsoLYzDLZ-"
   },
   "outputs": [],
   "source": []
  },
  {
   "cell_type": "markdown",
   "metadata": {
    "colab_type": "text",
    "id": "APBxAhfrDLaA"
   },
   "source": [
    "##Regresión Logística"
   ]
  },
  {
   "cell_type": "markdown",
   "metadata": {
    "colab_type": "text",
    "id": "1_4VLqIuDLaA"
   },
   "source": [
    "Generamos nuestro data de entrenamiento y le eliminamos las columnas que no ocuparemos en el modolamiento"
   ]
  },
  {
   "cell_type": "code",
   "execution_count": 62,
   "metadata": {
    "colab": {},
    "colab_type": "code",
    "id": "3BG5anjQDLaB"
   },
   "outputs": [],
   "source": [
    "filtro = ['Eficiencia (bin)','Cargas (u)','Movimiento (t)','Edad del empleado']\n",
    "train = df_scaled[filtro]"
   ]
  },
  {
   "cell_type": "markdown",
   "metadata": {
    "colab_type": "text",
    "id": "kFJYea6zg6it"
   },
   "source": [
    "Nos quedamos con los datos numericos"
   ]
  },
  {
   "cell_type": "code",
   "execution_count": 63,
   "metadata": {
    "colab": {
     "base_uri": "https://localhost:8080/",
     "height": 204
    },
    "colab_type": "code",
    "id": "mTZtpujJDLaD",
    "outputId": "5fed2782-126e-4573-c6c4-00a54cbe349b"
   },
   "outputs": [
    {
     "name": "stdout",
     "output_type": "stream",
     "text": [
      "<class 'pandas.core.frame.DataFrame'>\n",
      "RangeIndex: 1825 entries, 0 to 1824\n",
      "Data columns (total 4 columns):\n",
      " #   Column             Non-Null Count  Dtype  \n",
      "---  ------             --------------  -----  \n",
      " 0   Eficiencia (bin)   1825 non-null   int64  \n",
      " 1   Cargas (u)         1825 non-null   float64\n",
      " 2   Movimiento (t)     1825 non-null   float64\n",
      " 3   Edad del empleado  1825 non-null   float64\n",
      "dtypes: float64(3), int64(1)\n",
      "memory usage: 57.2 KB\n"
     ]
    }
   ],
   "source": [
    "train.info()"
   ]
  },
  {
   "cell_type": "markdown",
   "metadata": {
    "colab_type": "text",
    "id": "d4OXaczxDLaF"
   },
   "source": [
    "Creamos nuestras variables dummies"
   ]
  },
  {
   "cell_type": "code",
   "execution_count": 64,
   "metadata": {
    "colab": {},
    "colab_type": "code",
    "id": "86zqbHY3DLaG"
   },
   "outputs": [],
   "source": [
    "unidad = pd.get_dummies(df_scaled['Unidad organizativa'])\n",
    "posicion = pd.get_dummies(df_scaled['Posición'])\n",
    "turno = pd.get_dummies(df_scaled['Turno'])\n",
    "fecha = pd.get_dummies(df_scaled['Fecha'])\n",
    "numero_personal = pd.get_dummies(df_scaled['Número de personal'])\n",
    "alta = pd.get_dummies(df_scaled['Fecha de alta'])\n",
    "status = pd.get_dummies(df_scaled['Status empleado para Gestión tiempos per'])"
   ]
  },
  {
   "cell_type": "markdown",
   "metadata": {
    "colab_type": "text",
    "id": "P5GM_4PXDLaI"
   },
   "source": [
    "Agregamos las variables dummies a la data de entrenamiento"
   ]
  },
  {
   "cell_type": "code",
   "execution_count": 65,
   "metadata": {
    "colab": {},
    "colab_type": "code",
    "id": "oZ1QbAv0DLaI"
   },
   "outputs": [],
   "source": [
    "train = pd.concat([train,unidad,posicion,turno,fecha,numero_personal,alta,status],axis=1)"
   ]
  },
  {
   "cell_type": "code",
   "execution_count": 66,
   "metadata": {
    "colab": {
     "base_uri": "https://localhost:8080/",
     "height": 338
    },
    "colab_type": "code",
    "id": "k7R5Y_r4DLaL",
    "outputId": "467e6037-492a-438a-bf9e-ea6c294d507c"
   },
   "outputs": [
    {
     "data": {
      "text/html": [
       "<div>\n",
       "<style scoped>\n",
       "    .dataframe tbody tr th:only-of-type {\n",
       "        vertical-align: middle;\n",
       "    }\n",
       "\n",
       "    .dataframe tbody tr th {\n",
       "        vertical-align: top;\n",
       "    }\n",
       "\n",
       "    .dataframe thead th {\n",
       "        text-align: right;\n",
       "    }\n",
       "</style>\n",
       "<table border=\"1\" class=\"dataframe\">\n",
       "  <thead>\n",
       "    <tr style=\"text-align: right;\">\n",
       "      <th></th>\n",
       "      <th>Eficiencia (bin)</th>\n",
       "      <th>Cargas (u)</th>\n",
       "      <th>Movimiento (t)</th>\n",
       "      <th>Edad del empleado</th>\n",
       "      <th>ADMINISTRACION SUPTCIA PLANTAS</th>\n",
       "      <th>ALJIBES MLC</th>\n",
       "      <th>CAMIONES CAT 793F MLC</th>\n",
       "      <th>CAMIONES KOMATSU 830E MLC</th>\n",
       "      <th>CARGADORES FRONTALES MLC</th>\n",
       "      <th>GEOLOGIA DE PRODUCCION</th>\n",
       "      <th>...</th>\n",
       "      <th>2011-10-01</th>\n",
       "      <th>2012-02-20</th>\n",
       "      <th>2012-11-07</th>\n",
       "      <th>2013-03-01</th>\n",
       "      <th>2013-09-01</th>\n",
       "      <th>2013-11-01</th>\n",
       "      <th>2017-03-08</th>\n",
       "      <th>2019-06-03</th>\n",
       "      <th>1 - Evaluación de tiempos, real</th>\n",
       "      <th>9 - Evaluación de tiempos, teórico</th>\n",
       "    </tr>\n",
       "  </thead>\n",
       "  <tbody>\n",
       "    <tr>\n",
       "      <th>0</th>\n",
       "      <td>0</td>\n",
       "      <td>0.668797</td>\n",
       "      <td>0.625564</td>\n",
       "      <td>-1.424177</td>\n",
       "      <td>0</td>\n",
       "      <td>0</td>\n",
       "      <td>0</td>\n",
       "      <td>0</td>\n",
       "      <td>0</td>\n",
       "      <td>0</td>\n",
       "      <td>...</td>\n",
       "      <td>1</td>\n",
       "      <td>0</td>\n",
       "      <td>0</td>\n",
       "      <td>0</td>\n",
       "      <td>0</td>\n",
       "      <td>0</td>\n",
       "      <td>0</td>\n",
       "      <td>0</td>\n",
       "      <td>1</td>\n",
       "      <td>0</td>\n",
       "    </tr>\n",
       "    <tr>\n",
       "      <th>1</th>\n",
       "      <td>0</td>\n",
       "      <td>-1.277362</td>\n",
       "      <td>-1.268354</td>\n",
       "      <td>0.729983</td>\n",
       "      <td>0</td>\n",
       "      <td>0</td>\n",
       "      <td>0</td>\n",
       "      <td>0</td>\n",
       "      <td>0</td>\n",
       "      <td>0</td>\n",
       "      <td>...</td>\n",
       "      <td>0</td>\n",
       "      <td>0</td>\n",
       "      <td>0</td>\n",
       "      <td>0</td>\n",
       "      <td>0</td>\n",
       "      <td>0</td>\n",
       "      <td>0</td>\n",
       "      <td>0</td>\n",
       "      <td>1</td>\n",
       "      <td>0</td>\n",
       "    </tr>\n",
       "    <tr>\n",
       "      <th>2</th>\n",
       "      <td>1</td>\n",
       "      <td>0.836983</td>\n",
       "      <td>0.853396</td>\n",
       "      <td>1.419314</td>\n",
       "      <td>1</td>\n",
       "      <td>0</td>\n",
       "      <td>0</td>\n",
       "      <td>0</td>\n",
       "      <td>0</td>\n",
       "      <td>0</td>\n",
       "      <td>...</td>\n",
       "      <td>0</td>\n",
       "      <td>0</td>\n",
       "      <td>0</td>\n",
       "      <td>0</td>\n",
       "      <td>0</td>\n",
       "      <td>0</td>\n",
       "      <td>0</td>\n",
       "      <td>0</td>\n",
       "      <td>1</td>\n",
       "      <td>0</td>\n",
       "    </tr>\n",
       "    <tr>\n",
       "      <th>3</th>\n",
       "      <td>1</td>\n",
       "      <td>1.990262</td>\n",
       "      <td>1.963414</td>\n",
       "      <td>0.212984</td>\n",
       "      <td>0</td>\n",
       "      <td>0</td>\n",
       "      <td>1</td>\n",
       "      <td>0</td>\n",
       "      <td>0</td>\n",
       "      <td>0</td>\n",
       "      <td>...</td>\n",
       "      <td>0</td>\n",
       "      <td>0</td>\n",
       "      <td>0</td>\n",
       "      <td>0</td>\n",
       "      <td>1</td>\n",
       "      <td>0</td>\n",
       "      <td>0</td>\n",
       "      <td>0</td>\n",
       "      <td>1</td>\n",
       "      <td>0</td>\n",
       "    </tr>\n",
       "    <tr>\n",
       "      <th>4</th>\n",
       "      <td>0</td>\n",
       "      <td>-1.397495</td>\n",
       "      <td>-1.392686</td>\n",
       "      <td>-1.079512</td>\n",
       "      <td>0</td>\n",
       "      <td>0</td>\n",
       "      <td>0</td>\n",
       "      <td>0</td>\n",
       "      <td>0</td>\n",
       "      <td>0</td>\n",
       "      <td>...</td>\n",
       "      <td>0</td>\n",
       "      <td>0</td>\n",
       "      <td>0</td>\n",
       "      <td>0</td>\n",
       "      <td>0</td>\n",
       "      <td>0</td>\n",
       "      <td>0</td>\n",
       "      <td>0</td>\n",
       "      <td>1</td>\n",
       "      <td>0</td>\n",
       "    </tr>\n",
       "  </tbody>\n",
       "</table>\n",
       "<p>5 rows × 435 columns</p>\n",
       "</div>"
      ],
      "text/plain": [
       "   Eficiencia (bin)  Cargas (u)  Movimiento (t)  Edad del empleado  \\\n",
       "0                 0    0.668797        0.625564          -1.424177   \n",
       "1                 0   -1.277362       -1.268354           0.729983   \n",
       "2                 1    0.836983        0.853396           1.419314   \n",
       "3                 1    1.990262        1.963414           0.212984   \n",
       "4                 0   -1.397495       -1.392686          -1.079512   \n",
       "\n",
       "   ADMINISTRACION SUPTCIA PLANTAS  ALJIBES MLC  CAMIONES CAT 793F MLC  \\\n",
       "0                               0            0                      0   \n",
       "1                               0            0                      0   \n",
       "2                               1            0                      0   \n",
       "3                               0            0                      1   \n",
       "4                               0            0                      0   \n",
       "\n",
       "   CAMIONES KOMATSU 830E MLC  CARGADORES FRONTALES MLC  \\\n",
       "0                          0                         0   \n",
       "1                          0                         0   \n",
       "2                          0                         0   \n",
       "3                          0                         0   \n",
       "4                          0                         0   \n",
       "\n",
       "   GEOLOGIA DE PRODUCCION  ...  2011-10-01  2012-02-20  2012-11-07  \\\n",
       "0                       0  ...           1           0           0   \n",
       "1                       0  ...           0           0           0   \n",
       "2                       0  ...           0           0           0   \n",
       "3                       0  ...           0           0           0   \n",
       "4                       0  ...           0           0           0   \n",
       "\n",
       "   2013-03-01  2013-09-01  2013-11-01  2017-03-08  2019-06-03  \\\n",
       "0           0           0           0           0           0   \n",
       "1           0           0           0           0           0   \n",
       "2           0           0           0           0           0   \n",
       "3           0           1           0           0           0   \n",
       "4           0           0           0           0           0   \n",
       "\n",
       "   1 - Evaluación de tiempos, real  9 - Evaluación de tiempos, teórico  \n",
       "0                                1                                   0  \n",
       "1                                1                                   0  \n",
       "2                                1                                   0  \n",
       "3                                1                                   0  \n",
       "4                                1                                   0  \n",
       "\n",
       "[5 rows x 435 columns]"
      ]
     },
     "execution_count": 66,
     "metadata": {},
     "output_type": "execute_result"
    }
   ],
   "source": [
    "train.head()"
   ]
  },
  {
   "cell_type": "markdown",
   "metadata": {
    "colab_type": "text",
    "id": "oQMDd_dZDLaN"
   },
   "source": [
    "Creamos nuestra data de entrenamiento y de test"
   ]
  },
  {
   "cell_type": "code",
   "execution_count": 67,
   "metadata": {
    "colab": {},
    "colab_type": "code",
    "id": "cjxgoFL5DLaO"
   },
   "outputs": [],
   "source": [
    "from sklearn.model_selection import train_test_split\n",
    "X_train, X_test, y_train, y_test = train_test_split(train.drop('Eficiencia (bin)',axis=1),\n",
    "                                                    train['Eficiencia (bin)'],\n",
    "                                                    test_size=0.30,random_state=42)"
   ]
  },
  {
   "cell_type": "markdown",
   "metadata": {
    "colab_type": "text",
    "id": "LiQ8ZnM4DLaQ"
   },
   "source": [
    "Importamos el modelo, creamos la regresión y entrenamos con nuestra data de entrenamiento"
   ]
  },
  {
   "cell_type": "code",
   "execution_count": 68,
   "metadata": {
    "colab": {
     "base_uri": "https://localhost:8080/",
     "height": 102
    },
    "colab_type": "code",
    "id": "uMfw6G_YDLaQ",
    "outputId": "d68129f8-92f9-4e2f-ec7c-760d59204ae8"
   },
   "outputs": [
    {
     "data": {
      "text/plain": [
       "LogisticRegression(C=1.0, class_weight=None, dual=False, fit_intercept=True,\n",
       "                   intercept_scaling=1, l1_ratio=None, max_iter=100,\n",
       "                   multi_class='auto', n_jobs=None, penalty='l2',\n",
       "                   random_state=None, solver='lbfgs', tol=0.0001, verbose=0,\n",
       "                   warm_start=False)"
      ]
     },
     "execution_count": 68,
     "metadata": {},
     "output_type": "execute_result"
    }
   ],
   "source": [
    "from sklearn.linear_model import LogisticRegression\n",
    "modelo = LogisticRegression()\n",
    "modelo.fit(X_train,y_train)"
   ]
  },
  {
   "cell_type": "markdown",
   "metadata": {
    "colab_type": "text",
    "id": "fXBP0qxZDLaT"
   },
   "source": [
    "Predicción con la data de test"
   ]
  },
  {
   "cell_type": "code",
   "execution_count": 69,
   "metadata": {
    "colab": {},
    "colab_type": "code",
    "id": "radV2Av1DLaT"
   },
   "outputs": [],
   "source": [
    "y_pred = modelo.predict(X_test)"
   ]
  },
  {
   "cell_type": "markdown",
   "metadata": {
    "colab_type": "text",
    "id": "2R6jaBOdDLaV"
   },
   "source": [
    "Evaluacion del modelo"
   ]
  },
  {
   "cell_type": "code",
   "execution_count": 70,
   "metadata": {
    "colab": {
     "base_uri": "https://localhost:8080/",
     "height": 170
    },
    "colab_type": "code",
    "id": "ftaWbTmiDLaW",
    "outputId": "615d443e-200f-4123-8435-f7f64089cac2"
   },
   "outputs": [
    {
     "name": "stdout",
     "output_type": "stream",
     "text": [
      "              precision    recall  f1-score   support\n",
      "\n",
      "           0       0.86      0.89      0.87       261\n",
      "           1       0.90      0.87      0.88       287\n",
      "\n",
      "    accuracy                           0.88       548\n",
      "   macro avg       0.88      0.88      0.88       548\n",
      "weighted avg       0.88      0.88      0.88       548\n",
      "\n"
     ]
    }
   ],
   "source": [
    "from sklearn.metrics import classification_report\n",
    "print(classification_report(y_test,y_pred))"
   ]
  },
  {
   "cell_type": "code",
   "execution_count": 71,
   "metadata": {
    "colab": {
     "base_uri": "https://localhost:8080/",
     "height": 51
    },
    "colab_type": "code",
    "id": "YIQz075qDLaY",
    "outputId": "bf9ddaec-3568-4b6d-db1c-04479b95210b"
   },
   "outputs": [
    {
     "name": "stdout",
     "output_type": "stream",
     "text": [
      "[[232  29]\n",
      " [ 38 249]]\n"
     ]
    }
   ],
   "source": [
    "from sklearn.metrics import confusion_matrix\n",
    "cnf_matrix = confusion_matrix(y_test,y_pred)\n",
    "print(cnf_matrix)"
   ]
  },
  {
   "cell_type": "code",
   "execution_count": 72,
   "metadata": {
    "colab": {
     "base_uri": "https://localhost:8080/",
     "height": 340
    },
    "colab_type": "code",
    "id": "lMxOZG8bzwxM",
    "outputId": "243430d9-893f-4b44-9d2c-4264714a79b4"
   },
   "outputs": [
    {
     "data": {
      "text/plain": [
       "Text(0.5, 257.44, 'Predicción Eficiencia')"
      ]
     },
     "execution_count": 72,
     "metadata": {},
     "output_type": "execute_result"
    },
    {
     "data": {
      "image/png": "[encoded data removed]",
      "text/plain": [
       "<Figure size 432x288 with 2 Axes>"
      ]
     },
     "metadata": {},
     "output_type": "display_data"
    }
   ],
   "source": [
    "class_names=[0,1] # name  of classes\n",
    "fig, ax = plt.subplots()\n",
    "tick_marks = np.arange(len(class_names))\n",
    "plt.xticks(tick_marks, class_names)\n",
    "plt.yticks(tick_marks, class_names)\n",
    "# create heatmap\n",
    "sns.heatmap(pd.DataFrame(cnf_matrix), annot=True, cmap=\"YlGnBu\" ,fmt='g')\n",
    "ax.xaxis.set_label_position(\"top\")\n",
    "plt.tight_layout()\n",
    "plt.title('Matriz de Confusión', y=1.1)\n",
    "plt.ylabel('Actual Eficiencia')\n",
    "plt.xlabel('Predicción Eficiencia')"
   ]
  },
  {
   "cell_type": "code",
   "execution_count": 73,
   "metadata": {
    "colab": {
     "base_uri": "https://localhost:8080/",
     "height": 85
    },
    "colab_type": "code",
    "id": "Ihb6NtU5DLab",
    "outputId": "f7a7f135-e708-4fa1-95d9-937a52a950d6"
   },
   "outputs": [
    {
     "name": "stdout",
     "output_type": "stream",
     "text": [
      "Eficiencia\n",
      "Accuracy: 0.8777372262773723\n",
      "Precision: 0.89568345323741\n",
      "Recall: 0.867595818815331\n"
     ]
    }
   ],
   "source": [
    "print(\"Eficiencia\")\n",
    "print(\"Accuracy:\",metrics.accuracy_score(y_test, y_pred))\n",
    "print(\"Precision:\",metrics.precision_score(y_test, y_pred))\n",
    "print(\"Recall:\",metrics.recall_score(y_test, y_pred))"
   ]
  },
  {
   "cell_type": "markdown",
   "metadata": {
    "colab_type": "text",
    "id": "ghwtEBgV64Qu"
   },
   "source": [
    "Curva ROC\n",
    "La curva de la característica operativa del receptor (ROC) es un gráfico de la tasa de verdaderos positivos contra la tasa de falsos positivos. Muestra la compensación entre sensibilidad y especificidad."
   ]
  },
  {
   "cell_type": "code",
   "execution_count": 74,
   "metadata": {
    "colab": {
     "base_uri": "https://localhost:8080/",
     "height": 268
    },
    "colab_type": "code",
    "id": "e-s8ovCR2bcE",
    "outputId": "b60f377a-884d-450e-ba23-76f6098eeb4f"
   },
   "outputs": [
    {
     "data": {
      "image/png": "[encoded data removed]",
      "text/plain": [
       "<Figure size 432x288 with 1 Axes>"
      ]
     },
     "metadata": {},
     "output_type": "display_data"
    }
   ],
   "source": [
    "y_pred_proba = modelo.predict_proba(X_test)[::,1]\n",
    "fpr, tpr, _ = metrics.roc_curve(y_test,  y_pred_proba)\n",
    "auc = metrics.roc_auc_score(y_test, y_pred_proba)\n",
    "plt.plot(fpr,tpr,label=\"data 1, auc=\"+str(auc))\n",
    "plt.legend(loc=4)\n",
    "plt.show()"
   ]
  },
  {
   "cell_type": "markdown",
   "metadata": {
    "colab_type": "text",
    "id": "UPCQdSAU7CTh"
   },
   "source": [
    "La puntuación AUC para el caso es 0,95. La puntuación AUC 1 representa un clasificador perfecto y 0,5 representa un clasificador sin valor."
   ]
  },
  {
   "cell_type": "code",
   "execution_count": null,
   "metadata": {
    "colab": {},
    "colab_type": "code",
    "id": "yzteWhmz6n_5"
   },
   "outputs": [],
   "source": []
  },
  {
   "cell_type": "markdown",
   "metadata": {
    "colab_type": "text",
    "id": "hkmsUibRDLad"
   },
   "source": [
    "##Decision Tree"
   ]
  },
  {
   "cell_type": "code",
   "execution_count": 75,
   "metadata": {
    "colab": {},
    "colab_type": "code",
    "id": "56i5CuDoDLad"
   },
   "outputs": [],
   "source": [
    "from sklearn.tree import DecisionTreeClassifier"
   ]
  },
  {
   "cell_type": "code",
   "execution_count": 76,
   "metadata": {
    "colab": {},
    "colab_type": "code",
    "id": "yyZ6n_VzDLai"
   },
   "outputs": [],
   "source": [
    "modelo = DecisionTreeClassifier()"
   ]
  },
  {
   "cell_type": "code",
   "execution_count": 77,
   "metadata": {
    "colab": {
     "base_uri": "https://localhost:8080/",
     "height": 119
    },
    "colab_type": "code",
    "id": "SI7HLGC7DLal",
    "outputId": "52b0c8a6-a192-4df2-af33-3c36096579b6"
   },
   "outputs": [
    {
     "data": {
      "text/plain": [
       "DecisionTreeClassifier(ccp_alpha=0.0, class_weight=None, criterion='gini',\n",
       "                       max_depth=None, max_features=None, max_leaf_nodes=None,\n",
       "                       min_impurity_decrease=0.0, min_impurity_split=None,\n",
       "                       min_samples_leaf=1, min_samples_split=2,\n",
       "                       min_weight_fraction_leaf=0.0, presort='deprecated',\n",
       "                       random_state=None, splitter='best')"
      ]
     },
     "execution_count": 77,
     "metadata": {},
     "output_type": "execute_result"
    }
   ],
   "source": [
    "modelo.fit(X_train,y_train)"
   ]
  },
  {
   "cell_type": "code",
   "execution_count": 78,
   "metadata": {
    "colab": {},
    "colab_type": "code",
    "id": "NCAaGd3cDLao"
   },
   "outputs": [],
   "source": [
    "y_pred = modelo.predict(X_test)"
   ]
  },
  {
   "cell_type": "code",
   "execution_count": 79,
   "metadata": {
    "colab": {
     "base_uri": "https://localhost:8080/",
     "height": 170
    },
    "colab_type": "code",
    "id": "aqa7GV0dDLaq",
    "outputId": "72664b6e-53bb-4521-bb0a-7089541f4aeb"
   },
   "outputs": [
    {
     "name": "stdout",
     "output_type": "stream",
     "text": [
      "              precision    recall  f1-score   support\n",
      "\n",
      "           0       0.84      0.83      0.83       261\n",
      "           1       0.84      0.85      0.85       287\n",
      "\n",
      "    accuracy                           0.84       548\n",
      "   macro avg       0.84      0.84      0.84       548\n",
      "weighted avg       0.84      0.84      0.84       548\n",
      "\n"
     ]
    }
   ],
   "source": [
    "print(classification_report(y_test,y_pred))"
   ]
  },
  {
   "cell_type": "code",
   "execution_count": 80,
   "metadata": {
    "colab": {
     "base_uri": "https://localhost:8080/",
     "height": 51
    },
    "colab_type": "code",
    "id": "OOkpKdFCDLas",
    "outputId": "e6e11d5d-0492-432a-9c2c-fc045a678046"
   },
   "outputs": [
    {
     "name": "stdout",
     "output_type": "stream",
     "text": [
      "[[216  45]\n",
      " [ 42 245]]\n"
     ]
    }
   ],
   "source": [
    "print(confusion_matrix(y_test,y_pred))"
   ]
  },
  {
   "cell_type": "code",
   "execution_count": null,
   "metadata": {
    "colab": {},
    "colab_type": "code",
    "id": "AQohMA-nDLau"
   },
   "outputs": [],
   "source": []
  },
  {
   "cell_type": "markdown",
   "metadata": {
    "colab_type": "text",
    "id": "mmX4-aJqDLaw"
   },
   "source": [
    "##Random Forest"
   ]
  },
  {
   "cell_type": "code",
   "execution_count": 81,
   "metadata": {
    "colab": {},
    "colab_type": "code",
    "id": "VP0a6lvpDLaw"
   },
   "outputs": [],
   "source": [
    "from sklearn.ensemble import RandomForestClassifier"
   ]
  },
  {
   "cell_type": "code",
   "execution_count": 82,
   "metadata": {
    "colab": {},
    "colab_type": "code",
    "id": "TytbAUiWDLay"
   },
   "outputs": [],
   "source": [
    "modelo = RandomForestClassifier(n_estimators=100)"
   ]
  },
  {
   "cell_type": "code",
   "execution_count": 83,
   "metadata": {
    "colab": {
     "base_uri": "https://localhost:8080/",
     "height": 153
    },
    "colab_type": "code",
    "id": "FX_35u9NDLa1",
    "outputId": "52efa780-3a2f-4073-cb5c-4b8791554e44"
   },
   "outputs": [
    {
     "data": {
      "text/plain": [
       "RandomForestClassifier(bootstrap=True, ccp_alpha=0.0, class_weight=None,\n",
       "                       criterion='gini', max_depth=None, max_features='auto',\n",
       "                       max_leaf_nodes=None, max_samples=None,\n",
       "                       min_impurity_decrease=0.0, min_impurity_split=None,\n",
       "                       min_samples_leaf=1, min_samples_split=2,\n",
       "                       min_weight_fraction_leaf=0.0, n_estimators=100,\n",
       "                       n_jobs=None, oob_score=False, random_state=None,\n",
       "                       verbose=0, warm_start=False)"
      ]
     },
     "execution_count": 83,
     "metadata": {},
     "output_type": "execute_result"
    }
   ],
   "source": [
    "modelo.fit(X_train,y_train)"
   ]
  },
  {
   "cell_type": "code",
   "execution_count": 84,
   "metadata": {
    "colab": {},
    "colab_type": "code",
    "id": "hWK66jt7DLa4"
   },
   "outputs": [],
   "source": [
    "y_pred = modelo.predict(X_test)"
   ]
  },
  {
   "cell_type": "code",
   "execution_count": 85,
   "metadata": {
    "colab": {
     "base_uri": "https://localhost:8080/",
     "height": 170
    },
    "colab_type": "code",
    "id": "bOmZFih7DLa6",
    "outputId": "54282597-141a-4b0a-be20-ae8deba694d2"
   },
   "outputs": [
    {
     "name": "stdout",
     "output_type": "stream",
     "text": [
      "              precision    recall  f1-score   support\n",
      "\n",
      "           0       0.88      0.87      0.87       261\n",
      "           1       0.88      0.89      0.89       287\n",
      "\n",
      "    accuracy                           0.88       548\n",
      "   macro avg       0.88      0.88      0.88       548\n",
      "weighted avg       0.88      0.88      0.88       548\n",
      "\n"
     ]
    }
   ],
   "source": [
    "print(classification_report(y_test,y_pred))"
   ]
  },
  {
   "cell_type": "code",
   "execution_count": 86,
   "metadata": {
    "colab": {
     "base_uri": "https://localhost:8080/",
     "height": 51
    },
    "colab_type": "code",
    "id": "r4-ZyWbMDLa8",
    "outputId": "f9d2093f-f2dc-454b-e867-f664fc550d26"
   },
   "outputs": [
    {
     "name": "stdout",
     "output_type": "stream",
     "text": [
      "[[227  34]\n",
      " [ 31 256]]\n"
     ]
    }
   ],
   "source": [
    "from sklearn.metrics import confusion_matrix\n",
    "cnf_matrix = confusion_matrix(y_test,y_pred)\n",
    "print(cnf_matrix)"
   ]
  },
  {
   "cell_type": "code",
   "execution_count": 87,
   "metadata": {
    "colab": {
     "base_uri": "https://localhost:8080/",
     "height": 340
    },
    "colab_type": "code",
    "id": "HpDH5y7bFOB1",
    "outputId": "c5d10838-568d-4546-c5fc-7c4a7956b6a8"
   },
   "outputs": [
    {
     "data": {
      "text/plain": [
       "Text(0.5, 257.44, 'Predicción Eficiencia')"
      ]
     },
     "execution_count": 87,
     "metadata": {},
     "output_type": "execute_result"
    },
    {
     "data": {
      "image/png": "[encoded data removed]",
      "text/plain": [
       "<Figure size 432x288 with 2 Axes>"
      ]
     },
     "metadata": {},
     "output_type": "display_data"
    }
   ],
   "source": [
    "class_names=[0,1] # name  of classes\n",
    "fig, ax = plt.subplots()\n",
    "tick_marks = np.arange(len(class_names))\n",
    "plt.xticks(tick_marks, class_names)\n",
    "plt.yticks(tick_marks, class_names)\n",
    "# create heatmap\n",
    "sns.heatmap(pd.DataFrame(cnf_matrix), annot=True, cmap=\"YlGnBu\" ,fmt='g')\n",
    "ax.xaxis.set_label_position(\"top\")\n",
    "plt.tight_layout()\n",
    "plt.title('Matriz de Confusión', y=1.1)\n",
    "plt.ylabel('Actual Eficiencia')\n",
    "plt.xlabel('Predicción Eficiencia')"
   ]
  },
  {
   "cell_type": "code",
   "execution_count": 88,
   "metadata": {
    "colab": {
     "base_uri": "https://localhost:8080/",
     "height": 85
    },
    "colab_type": "code",
    "id": "NwK7J-aIDLa-",
    "outputId": "248ac225-7db9-45f8-e6ea-b3722b37e2c3"
   },
   "outputs": [
    {
     "name": "stdout",
     "output_type": "stream",
     "text": [
      "Eficiencia\n",
      "Accuracy: 0.8813868613138686\n",
      "Precision: 0.8827586206896552\n",
      "Recall: 0.89198606271777\n"
     ]
    }
   ],
   "source": [
    "print(\"Eficiencia\")\n",
    "print(\"Accuracy:\",metrics.accuracy_score(y_test, y_pred))\n",
    "print(\"Precision:\",metrics.precision_score(y_test, y_pred))\n",
    "print(\"Recall:\",metrics.recall_score(y_test, y_pred))"
   ]
  },
  {
   "cell_type": "code",
   "execution_count": null,
   "metadata": {
    "colab": {},
    "colab_type": "code",
    "id": "7KE8mhjoFUd9"
   },
   "outputs": [],
   "source": []
  },
  {
   "cell_type": "markdown",
   "metadata": {
    "colab_type": "text",
    "id": "ny4KK08EDLbA"
   },
   "source": [
    "###Importancia de las variables"
   ]
  },
  {
   "cell_type": "code",
   "execution_count": 89,
   "metadata": {
    "colab": {},
    "colab_type": "code",
    "id": "K5kvx8N-DLbB"
   },
   "outputs": [],
   "source": [
    "importancia = list(modelo.feature_importances_)"
   ]
  },
  {
   "cell_type": "code",
   "execution_count": 90,
   "metadata": {
    "colab": {},
    "colab_type": "code",
    "id": "jQL8kOHwDLbE"
   },
   "outputs": [
    {
     "name": "stdout",
     "output_type": "stream",
     "text": [
      "--> Variable: Cargas (u) Importancia: 0.33277942761649176\n",
      "--> Variable: Movimiento (t) Importancia: 0.29258580874594836\n",
      "--> Variable: Edad del empleado Importancia: 0.01530564854694361\n",
      "--> Variable: ADMINISTRACION SUPTCIA PLANTAS Importancia: 0.0015600344475653876\n",
      "--> Variable: ALJIBES MLC Importancia: 0.000522714763012584\n",
      "--> Variable: CAMIONES CAT 793F MLC Importancia: 0.0020300225486019983\n",
      "--> Variable: CAMIONES KOMATSU 830E MLC Importancia: 0.0014269817985507582\n",
      "--> Variable: CARGADORES FRONTALES MLC Importancia: 0.0005741518279491065\n",
      "--> Variable: GEOLOGIA DE PRODUCCION Importancia: 0.0006333201035785414\n",
      "--> Variable: INGENIERIA DE PROCESOS Importancia: 0.0003417241048679263\n",
      "--> Variable: MANTENIMIENTO MINA Importancia: 0.0018043287241838806\n",
      "--> Variable: MOTONIVELADORAS MLC Importancia: 0.002040895451801484\n",
      "--> Variable: PALAS HIDRAULICAS MLC Importancia: 0.0007257745299292009\n",
      "--> Variable: PLANIFICACION MANTTO. MINA Importancia: 0.00045399278463605666\n",
      "--> Variable: SERVICIO SOCIAL VHUASCO Importancia: 0.002201449172438257\n",
      "--> Variable: SISTEMAS DE CONTROL Y POTENCIA Importancia: 0.0\n",
      "--> Variable: TRACTORES NEUMATICOS MLC Importancia: 0.0011074325248963167\n",
      "--> Variable: TRACTORES ORUGA MLC Importancia: 0.0009042948766094398\n",
      "--> Variable: ASISTENTE GEOLOGIA Importancia: 0.0008547853063874854\n",
      "--> Variable: AYUDANTE ADMINISTRATIVO Importancia: 0.001355278152156816\n",
      "--> Variable: CONTROLADOR PLANIFICACION Importancia: 0.0003702095331171288\n",
      "--> Variable: ELECTRICO I Importancia: 0.0028510242379943523\n",
      "--> Variable: ELECTRICO III Importancia: 0.0010945065557151927\n",
      "--> Variable: INGENIERO DE PROCESOS Importancia: 0.0004877577590990302\n",
      "--> Variable: JEFE SISTEMAS DE CONTROL Y POTENCIA Importancia: 0.0\n",
      "--> Variable: MECANICO I Importancia: 0.0013248936345881543\n",
      "--> Variable: MECANICO III Importancia: 0.0015114484528816288\n",
      "--> Variable: OPERADOR ELECTRICO II PLANTA Importancia: 0.0022034827272080543\n",
      "--> Variable: OPERADOR I Importancia: 0.001971874931221656\n",
      "--> Variable: OPERADOR II Importancia: 0.0014311667382961941\n",
      "--> Variable: OPERADOR III Importancia: 0.002316834846403115\n",
      "--> Variable: OPERADOR MECANICO III PLANTA Importancia: 0.0029545356720216643\n",
      "--> Variable: PLANIFICADOR MANTENIMIENTO MINA Importancia: 0.0005960456896334493\n",
      "--> Variable: 1 Importancia: 0.007343877250275939\n",
      "--> Variable: 2 Importancia: 0.007052147483394605\n",
      "--> Variable: 2019-07-01 Importancia: 0.0014578383386927665\n",
      "--> Variable: 2019-07-02 Importancia: 0.001836527907139883\n",
      "--> Variable: 2019-07-03 Importancia: 0.0014660052642936523\n",
      "--> Variable: 2019-07-04 Importancia: 0.0007025228394378066\n",
      "--> Variable: 2019-07-05 Importancia: 0.00036692520513038055\n",
      "--> Variable: 2019-07-06 Importancia: 0.0005208747717941969\n",
      "--> Variable: 2019-07-07 Importancia: 0.00023342797887897668\n",
      "--> Variable: 2019-07-08 Importancia: 0.0019025032847118995\n",
      "--> Variable: 2019-07-09 Importancia: 0.003136323203178905\n",
      "--> Variable: 2019-07-10 Importancia: 0.0009755714490304959\n",
      "--> Variable: 2019-07-11 Importancia: 0.0005875315577344401\n",
      "--> Variable: 2019-07-12 Importancia: 0.0015263515747455656\n",
      "--> Variable: 2019-07-13 Importancia: 0.0012711925826903129\n",
      "--> Variable: 2019-07-14 Importancia: 0.0020435433357076046\n",
      "--> Variable: 2019-07-15 Importancia: 0.0004047215865449799\n",
      "--> Variable: 2019-07-16 Importancia: 0.0016031723809578143\n",
      "--> Variable: 2019-07-17 Importancia: 0.003274303276348006\n",
      "--> Variable: 2019-07-18 Importancia: 0.0025058772887583533\n",
      "--> Variable: 2019-07-19 Importancia: 0.002032405689130219\n",
      "--> Variable: 2019-07-20 Importancia: 0.00045746260113588896\n",
      "--> Variable: 2019-07-21 Importancia: 0.0007873532752363063\n",
      "--> Variable: 2019-07-22 Importancia: 0.000450752619471883\n",
      "--> Variable: 2019-07-23 Importancia: 0.0013754118460163247\n",
      "--> Variable: 2019-07-24 Importancia: 0.001634725245597774\n",
      "--> Variable: 2019-07-25 Importancia: 0.0009498000066668991\n",
      "--> Variable: 2019-07-26 Importancia: 0.0006781139489540818\n",
      "--> Variable: 2019-07-27 Importancia: 0.0005013597612401402\n",
      "--> Variable: 2019-07-28 Importancia: 0.0006456343691473308\n",
      "--> Variable: 2019-07-29 Importancia: 0.001930839974006251\n",
      "--> Variable: 2019-07-30 Importancia: 0.00013747799852390202\n",
      "--> Variable: 2019-07-31 Importancia: 0.0008955517224405579\n",
      "--> Variable: 2019-08-01 Importancia: 0.0013137443760303591\n",
      "--> Variable: 2019-08-02 Importancia: 0.002133206040922252\n",
      "--> Variable: 2019-08-03 Importancia: 0.0014382774486655424\n",
      "--> Variable: 2019-08-04 Importancia: 0.000488778954523513\n",
      "--> Variable: 2019-08-05 Importancia: 0.0010006822433219398\n",
      "--> Variable: 2019-08-06 Importancia: 0.0007654105856703855\n",
      "--> Variable: 2019-08-07 Importancia: 0.0005319987663047442\n",
      "--> Variable: 2019-08-08 Importancia: 5.516120419847275e-05\n",
      "--> Variable: 2019-08-09 Importancia: 0.00019280809715121165\n",
      "--> Variable: 2019-08-10 Importancia: 0.0010247669329948351\n",
      "--> Variable: 2019-08-11 Importancia: 0.000383612423350257\n",
      "--> Variable: 2019-08-12 Importancia: 0.00014515643248184227\n",
      "--> Variable: 2019-08-13 Importancia: 0.0010383150379333036\n",
      "--> Variable: 2019-08-14 Importancia: 0.0010582236911648659\n",
      "--> Variable: 2019-08-15 Importancia: 0.002281496384112917\n",
      "--> Variable: 2019-08-16 Importancia: 0.0024239073280463044\n",
      "--> Variable: 2019-08-17 Importancia: 0.0015905463140197273\n",
      "--> Variable: 2019-08-18 Importancia: 0.0027015722584801697\n",
      "--> Variable: 2019-08-19 Importancia: 0.0003680547230230655\n",
      "--> Variable: 2019-08-20 Importancia: 0.0002377906225293229\n",
      "--> Variable: 2019-08-21 Importancia: 0.0015693003196921873\n",
      "--> Variable: 2019-08-22 Importancia: 0.00017266701985264247\n",
      "--> Variable: 2019-08-23 Importancia: 0.001703537909223981\n",
      "--> Variable: 2019-08-24 Importancia: 0.0009879465485616934\n",
      "--> Variable: 2019-08-25 Importancia: 0.00039966316415813156\n",
      "--> Variable: 2019-08-26 Importancia: 0.002667229973419301\n",
      "--> Variable: 2019-08-27 Importancia: 0.0011703612222832259\n",
      "--> Variable: 2019-08-28 Importancia: 0.00015847215159318798\n",
      "--> Variable: 2019-08-29 Importancia: 0.001398649048100142\n",
      "--> Variable: 2019-08-30 Importancia: 0.00102143889284309\n",
      "--> Variable: 2019-08-31 Importancia: 0.00024353781250368374\n",
      "--> Variable: 2019-09-01 Importancia: 0.0009058826251523552\n",
      "--> Variable: 2019-09-02 Importancia: 0.00044050264865371847\n",
      "--> Variable: 2019-09-03 Importancia: 0.00044718346688138336\n",
      "--> Variable: 2019-09-04 Importancia: 0.0006946047543545844\n",
      "--> Variable: 2019-09-05 Importancia: 0.0016810942327219738\n",
      "--> Variable: 2019-09-06 Importancia: 0.000505673434352046\n",
      "--> Variable: 2019-09-07 Importancia: 0.00036851518713438305\n",
      "--> Variable: 2019-09-08 Importancia: 0.0\n",
      "--> Variable: 2019-09-09 Importancia: 5.0106414615197526e-05\n",
      "--> Variable: 2019-09-10 Importancia: 0.00019348465240061387\n",
      "--> Variable: 2019-09-11 Importancia: 0.0002241007210490666\n",
      "--> Variable: 2019-09-12 Importancia: 0.0014060176210910684\n",
      "--> Variable: 2019-09-13 Importancia: 0.0007894750175772919\n",
      "--> Variable: 2019-09-14 Importancia: 0.002476918067542514\n",
      "--> Variable: 2019-09-15 Importancia: 0.0012273699793979994\n",
      "--> Variable: 2019-09-16 Importancia: 6.971151169828061e-06\n",
      "--> Variable: 2019-09-17 Importancia: 0.00019727629895152285\n",
      "--> Variable: 2019-09-20 Importancia: 0.0003766202695826243\n",
      "--> Variable: 2019-09-21 Importancia: 0.00013501946117438604\n",
      "--> Variable: 2019-09-22 Importancia: 0.0006026348955101479\n",
      "--> Variable: 2019-09-23 Importancia: 0.0007367715919172303\n",
      "--> Variable: 2019-09-24 Importancia: 0.00020491615607617044\n",
      "--> Variable: 2019-09-25 Importancia: 0.00013847305056380866\n",
      "--> Variable: 2019-09-26 Importancia: 0.000906634468696988\n",
      "--> Variable: 2019-09-27 Importancia: 5.999009084811836e-05\n",
      "--> Variable: 2019-09-28 Importancia: 0.0006612891230322666\n",
      "--> Variable: 2019-09-29 Importancia: 0.0003110610552633651\n",
      "--> Variable: 2019-09-30 Importancia: 0.000972116372756057\n",
      "--> Variable: 2019-10-01 Importancia: 0.00018018856613690652\n",
      "--> Variable: 2019-10-02 Importancia: 0.00015449043184546124\n",
      "--> Variable: 2019-10-03 Importancia: 0.00019481893199177572\n",
      "--> Variable: 2019-10-04 Importancia: 0.0008051641852641546\n",
      "--> Variable: 2019-10-05 Importancia: 0.0005281315478487693\n",
      "--> Variable: 2019-10-06 Importancia: 0.00041474989116810216\n",
      "--> Variable: 2019-10-07 Importancia: 0.0005491370948862355\n",
      "--> Variable: 2019-10-08 Importancia: 0.001030208268518828\n",
      "--> Variable: 2019-10-09 Importancia: 9.599810169200192e-05\n",
      "--> Variable: 2019-10-10 Importancia: 0.0010716478183732405\n",
      "--> Variable: 2019-10-11 Importancia: 0.00048488659718950116\n",
      "--> Variable: 2019-10-12 Importancia: 0.0007777351401432016\n",
      "--> Variable: 2019-10-13 Importancia: 0.0004801785434736362\n",
      "--> Variable: 2019-10-14 Importancia: 0.00033693367985897454\n",
      "--> Variable: 2019-10-15 Importancia: 0.0008029196660728331\n",
      "--> Variable: 2019-10-16 Importancia: 0.0005964958904877485\n",
      "--> Variable: 2019-10-17 Importancia: 0.0013841342104055604\n",
      "--> Variable: 2019-10-18 Importancia: 7.93920230607241e-05\n",
      "--> Variable: 2019-10-19 Importancia: 0.00034956892261690705\n",
      "--> Variable: 2019-10-20 Importancia: 0.000588819550811647\n",
      "--> Variable: 2019-10-21 Importancia: 6.538864330851599e-05\n",
      "--> Variable: 2019-10-22 Importancia: 0.001590127265825144\n",
      "--> Variable: 2019-10-23 Importancia: 0.0007620367856833321\n",
      "--> Variable: 2019-10-26 Importancia: 0.00036675827888367984\n",
      "--> Variable: 2019-10-27 Importancia: 0.0017902263481152868\n",
      "--> Variable: 2019-10-28 Importancia: 0.000911329345843972\n",
      "--> Variable: 2019-10-30 Importancia: 6.627971577891797e-05\n",
      "--> Variable: 2019-10-31 Importancia: 4.7378732884984016e-05\n",
      "--> Variable: 2019-11-01 Importancia: 0.00044345258554998035\n",
      "--> Variable: 2019-11-02 Importancia: 0.00025822150957670727\n",
      "--> Variable: 2019-11-03 Importancia: 0.0008659352186739216\n",
      "--> Variable: 2019-11-04 Importancia: 1.4534001097623203e-05\n",
      "--> Variable: 2019-11-05 Importancia: 5.260173745028025e-05\n",
      "--> Variable: 2019-11-06 Importancia: 0.0003323521263552942\n",
      "--> Variable: 2019-11-07 Importancia: 0.0018181838976898425\n",
      "--> Variable: 2019-11-08 Importancia: 0.00011316734065242606\n",
      "--> Variable: 2019-11-09 Importancia: 0.0001496076536234372\n",
      "--> Variable: 2019-11-10 Importancia: 0.0016047735498472006\n",
      "--> Variable: 2019-11-11 Importancia: 0.0016304555699619893\n",
      "--> Variable: 2019-11-13 Importancia: 9.086004150678096e-05\n",
      "--> Variable: 2019-11-14 Importancia: 0.00022638520490995628\n",
      "--> Variable: 2019-11-15 Importancia: 0.0005065885073486068\n",
      "--> Variable: 2019-11-16 Importancia: 6.602605337025989e-06\n",
      "--> Variable: 2019-11-17 Importancia: 0.0006216955027868907\n",
      "--> Variable: 2019-11-18 Importancia: 0.00036304989386905945\n",
      "--> Variable: 2019-11-19 Importancia: 0.0005364966070770685\n",
      "--> Variable: 2019-11-20 Importancia: 0.000559267905000468\n",
      "--> Variable: 2019-11-21 Importancia: 0.00015469582719976655\n",
      "--> Variable: 2019-11-22 Importancia: 0.0009467741250654796\n",
      "--> Variable: 2019-11-23 Importancia: 0.0004929846275258074\n",
      "--> Variable: 2019-11-24 Importancia: 0.0008231177289485245\n",
      "--> Variable: 2019-11-25 Importancia: 0.00086266848592621\n",
      "--> Variable: 2019-11-26 Importancia: 0.00030220523917802396\n",
      "--> Variable: 2019-11-27 Importancia: 0.0014809344216932551\n",
      "--> Variable: 2019-11-28 Importancia: 0.00012297461421295147\n",
      "--> Variable: 2019-11-29 Importancia: 0.001570385090994453\n",
      "--> Variable: 2019-11-30 Importancia: 0.00021145098211163642\n",
      "--> Variable: 2019-12-01 Importancia: 0.00015426967256160608\n",
      "--> Variable: 2019-12-02 Importancia: 0.0006788741791147165\n",
      "--> Variable: 2019-12-03 Importancia: 0.0001401331992806674\n",
      "--> Variable: 2019-12-04 Importancia: 0.0004718659982022743\n",
      "--> Variable: 2019-12-05 Importancia: 0.0001973137315406998\n",
      "--> Variable: 2019-12-06 Importancia: 0.00045749063063573825\n",
      "--> Variable: 2019-12-07 Importancia: 0.0012118023620271575\n",
      "--> Variable: 2019-12-08 Importancia: 0.0016499667274233478\n",
      "--> Variable: 2019-12-09 Importancia: 0.0015068157998849696\n",
      "--> Variable: 2019-12-10 Importancia: 6.062140397599244e-05\n",
      "--> Variable: 2019-12-11 Importancia: 0.0003964028825065197\n",
      "--> Variable: 2019-12-12 Importancia: 3.099402025773997e-05\n",
      "--> Variable: 2019-12-13 Importancia: 7.378305784055688e-05\n",
      "--> Variable: 2019-12-14 Importancia: 0.0005787119369181866\n",
      "--> Variable: 2019-12-15 Importancia: 0.00012328036030331474\n",
      "--> Variable: 2019-12-16 Importancia: 0.00047802240723286433\n",
      "--> Variable: 2019-12-17 Importancia: 0.001444162434859074\n",
      "--> Variable: 2019-12-18 Importancia: 0.000611915669563206\n",
      "--> Variable: 2019-12-19 Importancia: 0.0002497590105753716\n",
      "--> Variable: 2019-12-20 Importancia: 0.0017607717356175599\n",
      "--> Variable: 2019-12-21 Importancia: 0.001108461227497731\n",
      "--> Variable: 2019-12-22 Importancia: 0.000686642725276981\n",
      "--> Variable: 2019-12-23 Importancia: 0.0023040312400955643\n",
      "--> Variable: 2019-12-24 Importancia: 0.002146551534232638\n",
      "--> Variable: 2019-12-26 Importancia: 0.0013854781696792694\n",
      "--> Variable: 2019-12-27 Importancia: 0.00021267021835297343\n",
      "--> Variable: 2019-12-28 Importancia: 0.0008187522399900423\n",
      "--> Variable: 2019-12-29 Importancia: 0.0007945783995178007\n",
      "--> Variable: 2019-12-30 Importancia: 0.0003321325257173627\n",
      "--> Variable: 2019-12-31 Importancia: 0.0008387376391426266\n",
      "--> Variable: 2020-01-02 Importancia: 0.0003306963198430539\n",
      "--> Variable: 2020-01-03 Importancia: 0.0\n",
      "--> Variable: 2020-01-04 Importancia: 0.0004947198303405628\n",
      "--> Variable: 2020-01-05 Importancia: 0.0002412096521581478\n",
      "--> Variable: 2020-01-06 Importancia: 0.00013985911990836507\n",
      "--> Variable: 2020-01-07 Importancia: 0.000414761844899039\n",
      "--> Variable: 2020-01-08 Importancia: 0.0001871714777313082\n",
      "--> Variable: 2020-01-09 Importancia: 0.00012590194892154525\n",
      "--> Variable: 2020-01-10 Importancia: 0.0008020229720462999\n",
      "--> Variable: 2020-01-11 Importancia: 0.0003585998659499516\n",
      "--> Variable: 2020-01-13 Importancia: 4.318931890982123e-05\n",
      "--> Variable: 2020-01-14 Importancia: 0.00018994672576869943\n",
      "--> Variable: 2020-01-15 Importancia: 9.606482436642155e-05\n",
      "--> Variable: 2020-01-17 Importancia: 0.0\n",
      "--> Variable: 2020-01-18 Importancia: 6.583153629442368e-05\n",
      "--> Variable: 2020-01-19 Importancia: 7.791294261439551e-05\n",
      "--> Variable: 2020-01-20 Importancia: 0.000498112203592582\n",
      "--> Variable: 2020-01-21 Importancia: 7.607953014956109e-05\n",
      "--> Variable: 2020-01-22 Importancia: 0.00011401118703857708\n",
      "--> Variable: 2020-01-25 Importancia: 0.0010738005566114832\n",
      "--> Variable: 2020-01-26 Importancia: 0.0\n",
      "--> Variable: 2020-01-27 Importancia: 0.0003593851019846252\n",
      "--> Variable: 2020-01-28 Importancia: 1.2801692376361307e-05\n",
      "--> Variable: 2020-01-29 Importancia: 0.00013489427102184864\n",
      "--> Variable: 2020-01-30 Importancia: 3.2719936170855494e-05\n",
      "--> Variable: 2020-01-31 Importancia: 0.00011376186489587429\n",
      "--> Variable: 2020-02-01 Importancia: 0.0011222911189411892\n",
      "--> Variable: 2020-02-02 Importancia: 8.21252433818539e-05\n",
      "--> Variable: 2020-02-03 Importancia: 0.0009292911667691189\n",
      "--> Variable: 2020-02-04 Importancia: 0.0012369991350887506\n",
      "--> Variable: 2020-02-05 Importancia: 0.0009844053888270362\n",
      "--> Variable: 2020-02-06 Importancia: 0.0003156072023788884\n",
      "--> Variable: 2020-02-07 Importancia: 0.0008582228101068808\n",
      "--> Variable: 2020-02-08 Importancia: 0.00020361291239778088\n",
      "--> Variable: 2020-02-09 Importancia: 0.002466371065358424\n",
      "--> Variable: 2020-02-10 Importancia: 0.000816449088048859\n",
      "--> Variable: 2020-02-11 Importancia: 0.0009903436731570595\n",
      "--> Variable: 2020-02-12 Importancia: 0.002877365780788622\n",
      "--> Variable: 2020-02-13 Importancia: 0.0012318684531864809\n",
      "--> Variable: 2020-02-14 Importancia: 0.0006277041097723243\n",
      "--> Variable: 2020-02-15 Importancia: 0.001659815867775959\n",
      "--> Variable: 2020-02-16 Importancia: 0.001190867801683033\n",
      "--> Variable: 2020-02-17 Importancia: 0.00023169778695130493\n",
      "--> Variable: 2020-02-18 Importancia: 0.0009209132283550423\n",
      "--> Variable: 2020-02-19 Importancia: 0.0006813373757268121\n",
      "--> Variable: 2020-02-20 Importancia: 0.0014263929757087138\n",
      "--> Variable: 2020-02-21 Importancia: 0.0008574191487052782\n",
      "--> Variable: 2020-02-22 Importancia: 0.00010894354225291042\n",
      "--> Variable: 2020-02-23 Importancia: 0.0003731801601806177\n",
      "--> Variable: 2020-02-24 Importancia: 0.00045582625955861136\n",
      "--> Variable: 2020-02-25 Importancia: 0.0005432641590913236\n",
      "--> Variable: 2020-02-26 Importancia: 0.0001856099735609019\n",
      "--> Variable: 2020-02-27 Importancia: 0.0\n",
      "--> Variable: 2020-02-28 Importancia: 0.00038359034232612036\n",
      "--> Variable: 2020-02-29 Importancia: 0.0\n",
      "--> Variable: 2020-03-01 Importancia: 0.0020318024640640273\n",
      "--> Variable: 2020-03-02 Importancia: 0.0007335448251592827\n",
      "--> Variable: 2020-03-03 Importancia: 0.0005944041828448308\n",
      "--> Variable: 2020-03-04 Importancia: 0.0004222005181099477\n",
      "--> Variable: 2020-03-05 Importancia: 0.00037246855818227133\n",
      "--> Variable: 2020-03-06 Importancia: 0.00043671352961330756\n",
      "--> Variable: 2020-03-07 Importancia: 0.0013561262187495146\n",
      "--> Variable: 2020-03-08 Importancia: 0.00020582633959117822\n",
      "--> Variable: 2020-03-09 Importancia: 0.0009799216105797963\n",
      "--> Variable: 2020-03-10 Importancia: 0.0006347790521230336\n",
      "--> Variable: 2020-03-11 Importancia: 0.00036076554745650806\n",
      "--> Variable: 2020-03-12 Importancia: 0.0009280698417636224\n",
      "--> Variable: 2020-03-13 Importancia: 0.0014565276445013026\n",
      "--> Variable: 2020-03-14 Importancia: 0.0015951049101493291\n",
      "--> Variable: 2020-03-15 Importancia: 0.0006109439704033794\n",
      "--> Variable: 2020-03-16 Importancia: 0.001295004795719906\n",
      "--> Variable: 2020-03-17 Importancia: 0.0009832056452842345\n",
      "--> Variable: 2020-03-18 Importancia: 0.0011219600623662812\n",
      "--> Variable: 2020-03-19 Importancia: 0.00016720753317790198\n",
      "--> Variable: 2020-03-20 Importancia: 5.932841962213459e-05\n",
      "--> Variable: 2020-03-21 Importancia: 1.4796777382001628e-05\n",
      "--> Variable: 2020-03-25 Importancia: 0.0004145728125196168\n",
      "--> Variable: 2020-03-26 Importancia: 0.001060252450236\n",
      "--> Variable: 2020-03-27 Importancia: 0.0008027234104299716\n",
      "--> Variable: 2020-03-28 Importancia: 5.539268531390351e-05\n",
      "--> Variable: 2020-03-29 Importancia: 1.7858732645342466e-05\n",
      "--> Variable: 2020-03-30 Importancia: 8.630039338420833e-05\n",
      "--> Variable: 2020-03-31 Importancia: 0.0\n",
      "--> Variable: 2020-04-01 Importancia: 0.00023981548288052148\n",
      "--> Variable: 2020-04-02 Importancia: 0.0\n",
      "--> Variable: 2020-04-03 Importancia: 0.0005818630202808062\n",
      "--> Variable: 2020-04-04 Importancia: 0.0012811216537211292\n",
      "--> Variable: 2020-04-05 Importancia: 0.000898425270525769\n",
      "--> Variable: 2020-04-06 Importancia: 2.7187691333333597e-05\n",
      "--> Variable: 2020-04-07 Importancia: 0.0005846054142272065\n",
      "--> Variable: 2020-04-08 Importancia: 0.0007698606400204702\n",
      "--> Variable: 2020-04-09 Importancia: 0.00019140519885385278\n",
      "--> Variable: 2020-04-10 Importancia: 0.00035940715301099565\n",
      "--> Variable: 2020-04-11 Importancia: 0.001019667517104154\n",
      "--> Variable: 2020-04-12 Importancia: 0.0005654192595250627\n",
      "--> Variable: 2020-04-13 Importancia: 6.030852506151585e-05\n",
      "--> Variable: 2020-04-14 Importancia: 0.0005648567342020788\n",
      "--> Variable: 2020-04-15 Importancia: 0.0001708033802551855\n",
      "--> Variable: 2020-04-16 Importancia: 0.00037516134896377606\n",
      "--> Variable: 2020-04-17 Importancia: 0.0013167560634100488\n",
      "--> Variable: 2020-04-18 Importancia: 0.001192342965108993\n",
      "--> Variable: 2020-04-19 Importancia: 3.0259737314136536e-05\n",
      "--> Variable: 2020-04-20 Importancia: 0.00012772115565240472\n",
      "--> Variable: 2020-04-21 Importancia: 0.00030425142644601436\n",
      "--> Variable: 2020-04-22 Importancia: 0.0018090148529634994\n",
      "--> Variable: 2020-04-23 Importancia: 0.00010257377766308174\n",
      "--> Variable: 2020-04-24 Importancia: 5.6115586055799146e-05\n",
      "--> Variable: 2020-04-25 Importancia: 2.1621051350344135e-05\n",
      "--> Variable: 2020-04-26 Importancia: 0.00030558948629693094\n",
      "--> Variable: 2020-04-27 Importancia: 0.0002340960809743345\n",
      "--> Variable: 2020-04-28 Importancia: 0.00016939863284329534\n",
      "--> Variable: 2020-04-29 Importancia: 0.0007001128257953507\n",
      "--> Variable: 2020-04-30 Importancia: 0.00042960704894578453\n",
      "--> Variable: 2020-05-02 Importancia: 0.00032057394904517323\n",
      "--> Variable: 2020-05-03 Importancia: 0.00044699143726945235\n",
      "--> Variable: 2020-05-04 Importancia: 0.0009044335422812454\n",
      "--> Variable: 2020-05-05 Importancia: 0.0025464448235122017\n",
      "--> Variable: 2020-05-06 Importancia: 5.86807538631325e-05\n",
      "--> Variable: 2020-05-07 Importancia: 0.0004039779243313945\n",
      "--> Variable: 2020-05-08 Importancia: 0.00020640243418789008\n",
      "--> Variable: 2020-05-09 Importancia: 0.0001343914670485067\n",
      "--> Variable: 2020-05-10 Importancia: 0.0007901456525488278\n",
      "--> Variable: 2020-05-11 Importancia: 0.000151406672150718\n",
      "--> Variable: 2020-05-12 Importancia: 0.0002758390913202656\n",
      "--> Variable: 2020-05-13 Importancia: 0.0011868924717011757\n",
      "--> Variable: 2020-05-14 Importancia: 0.0003471116876552959\n",
      "--> Variable: 2020-05-15 Importancia: 0.0020647275369280794\n",
      "--> Variable: 2020-05-16 Importancia: 0.0005020860230021792\n",
      "--> Variable: 2020-05-17 Importancia: 0.00037341804734913566\n",
      "--> Variable: 2020-05-18 Importancia: 0.00030026668179684705\n",
      "--> Variable: 2020-05-19 Importancia: 0.00026101922336813473\n",
      "--> Variable: 2020-05-20 Importancia: 0.00019134436027002947\n",
      "--> Variable: 2020-05-21 Importancia: 0.002469763627402161\n",
      "--> Variable: 2020-05-22 Importancia: 0.0010310403804843504\n",
      "--> Variable: 2020-05-23 Importancia: 0.0010289614450747712\n",
      "--> Variable: 2020-05-24 Importancia: 0.0014460734479225365\n",
      "--> Variable: 2020-05-25 Importancia: 0.0001897440050859316\n",
      "--> Variable: 2020-05-26 Importancia: 0.00046058733393603956\n",
      "--> Variable: 2020-05-27 Importancia: 5.268721371002415e-05\n",
      "--> Variable: 2020-05-28 Importancia: 0.00018466436027908062\n",
      "--> Variable: 2020-05-29 Importancia: 0.00013474539348730207\n",
      "--> Variable: 2020-05-30 Importancia: 0.0007056994607416261\n",
      "--> Variable: 2020-05-31 Importancia: 0.0006207440078469105\n",
      "--> Variable: 2020-06-01 Importancia: 7.067786604753588e-05\n",
      "--> Variable: 2020-06-02 Importancia: 0.0003345356323311794\n",
      "--> Variable: 2020-06-03 Importancia: 0.00043102855621766976\n",
      "--> Variable: 2020-06-04 Importancia: 0.00010565810423293469\n",
      "--> Variable: 2020-06-05 Importancia: 0.0012680768894568172\n",
      "--> Variable: 2020-06-06 Importancia: 0.00020915473184997623\n",
      "--> Variable: 2020-06-07 Importancia: 0.00011525368863534326\n",
      "--> Variable: 2020-06-08 Importancia: 8.607963826596328e-05\n",
      "--> Variable: 2020-06-09 Importancia: 4.103519279332374e-05\n",
      "--> Variable: 2020-06-10 Importancia: 0.0006030870615616775\n",
      "--> Variable: 2020-06-11 Importancia: 0.00040248944671504106\n",
      "--> Variable: 2020-06-12 Importancia: 0.0008009040877033026\n",
      "--> Variable: 2020-06-13 Importancia: 0.000490455564009165\n",
      "--> Variable: 2020-06-14 Importancia: 8.416245561047915e-05\n",
      "--> Variable: 2020-06-15 Importancia: 0.00026991534323767783\n",
      "--> Variable: 2020-06-16 Importancia: 0.00013078398915440596\n",
      "--> Variable: 2020-06-17 Importancia: 0.0\n",
      "--> Variable: 2020-06-18 Importancia: 1.1604266864966863e-05\n",
      "--> Variable: 2020-06-19 Importancia: 0.0002880560795462304\n",
      "--> Variable: 2020-06-20 Importancia: 4.184295021735173e-05\n",
      "--> Variable: 2020-06-21 Importancia: 6.809039143679494e-05\n",
      "--> Variable: 2020-06-22 Importancia: 0.00048539301556600864\n",
      "--> Variable: 20000564 Importancia: 0.0015579721156479397\n",
      "--> Variable: 20000770 Importancia: 0.0\n",
      "--> Variable: 20000778 Importancia: 0.0008308416976522523\n",
      "--> Variable: 20000847 Importancia: 0.0015853455148885848\n",
      "--> Variable: 20000868 Importancia: 0.0013348810202015043\n",
      "--> Variable: 20000875 Importancia: 0.0017778708889751103\n",
      "--> Variable: 20000905 Importancia: 0.0018815624339654057\n",
      "--> Variable: 20000964 Importancia: 0.0011970987644535993\n",
      "--> Variable: 20001014 Importancia: 0.0016832505654987943\n",
      "--> Variable: 20001236 Importancia: 0.0006869555439493548\n",
      "--> Variable: 20001237 Importancia: 0.0007340250950695288\n",
      "--> Variable: 20001512 Importancia: 0.0013342562368062808\n",
      "--> Variable: 20001526 Importancia: 0.00036056405233090633\n",
      "--> Variable: 20002297 Importancia: 0.0020759999014569068\n",
      "--> Variable: 20002520 Importancia: 0.0005768071819163135\n",
      "--> Variable: 20002787 Importancia: 0.001193284271583402\n",
      "--> Variable: 20003239 Importancia: 0.0019391903592019537\n",
      "--> Variable: 20003244 Importancia: 0.0004072511325218055\n",
      "--> Variable: 20003260 Importancia: 0.001221564590099648\n",
      "--> Variable: 20003278 Importancia: 0.00116774800371743\n",
      "--> Variable: 20003408 Importancia: 0.0015503022416117724\n",
      "--> Variable: 20003778 Importancia: 0.001232020058293918\n",
      "--> Variable: 20003779 Importancia: 0.0016861358240936415\n",
      "--> Variable: 20003858 Importancia: 0.0005174831672385545\n",
      "--> Variable: 20004398 Importancia: 0.0007940104351713994\n",
      "--> Variable: 20004884 Importancia: 0.0009955284496506952\n",
      "--> Variable: 20004895 Importancia: 0.0028038286337601862\n",
      "--> Variable: 20005055 Importancia: 0.0009552888452649233\n",
      "--> Variable: 20005968 Importancia: 0.0026481722245083467\n",
      "--> Variable: 20006912 Importancia: 0.0010553320975387089\n",
      "--> Variable: 1988-09-01 Importancia: 0.0020401129436911623\n",
      "--> Variable: 1996-07-01 Importancia: 0.0\n",
      "--> Variable: 1996-09-23 Importancia: 0.0005628383057325702\n",
      "--> Variable: 1996-12-17 Importancia: 0.0022182745265446244\n",
      "--> Variable: 1997-02-01 Importancia: 0.0016312990337040004\n",
      "--> Variable: 1997-03-19 Importancia: 0.0020869571395445694\n",
      "--> Variable: 1997-12-01 Importancia: 0.0018584459522928223\n",
      "--> Variable: 1998-03-25 Importancia: 0.0009282231248171557\n",
      "--> Variable: 1998-03-31 Importancia: 0.0015589253160402659\n",
      "--> Variable: 2003-05-30 Importancia: 0.00041289649817975434\n",
      "--> Variable: 2003-06-01 Importancia: 0.0005608289049011108\n",
      "--> Variable: 2006-02-16 Importancia: 0.0013308341536593937\n",
      "--> Variable: 2006-03-29 Importancia: 0.0003078375752500098\n",
      "--> Variable: 2008-08-12 Importancia: 0.001897320232994102\n",
      "--> Variable: 2011-01-17 Importancia: 0.0003087731754143941\n",
      "--> Variable: 2011-04-01 Importancia: 0.002494393222625241\n",
      "--> Variable: 2011-07-01 Importancia: 0.0012474297550013654\n",
      "--> Variable: 2011-10-01 Importancia: 0.0012647610018114079\n",
      "--> Variable: 2012-02-20 Importancia: 0.0005554187614538859\n",
      "--> Variable: 2012-11-07 Importancia: 0.0011951549958030196\n",
      "--> Variable: 2013-03-01 Importancia: 0.002176365297124408\n",
      "--> Variable: 2013-09-01 Importancia: 0.0027078507530176976\n",
      "--> Variable: 2013-11-01 Importancia: 0.0006345802927702543\n",
      "--> Variable: 2017-03-08 Importancia: 0.003318322206288595\n",
      "--> Variable: 2019-06-03 Importancia: 0.0006140995378062752\n",
      "--> Variable: 1 - Evaluación de tiempos, real Importancia: 0.0012305935410328837\n",
      "--> Variable: 9 - Evaluación de tiempos, teórico Importancia: 0.0009420695160124579\n"
     ]
    }
   ],
   "source": [
    "for i in range(len(importancia)):\n",
    "  print(f'--> Variable: {train.columns[i+1]} Importancia: {importancia[i]}')"
   ]
  },
  {
   "cell_type": "code",
   "execution_count": null,
   "metadata": {
    "colab": {},
    "colab_type": "code",
    "id": "oJbE-oh-KFdd"
   },
   "outputs": [],
   "source": []
  },
  {
   "cell_type": "markdown",
   "metadata": {
    "colab_type": "text",
    "id": "BmgqFp9ZXPY0"
   },
   "source": [
    "##PCA"
   ]
  },
  {
   "cell_type": "code",
   "execution_count": 91,
   "metadata": {
    "colab": {},
    "colab_type": "code",
    "id": "UUiCbrPIXUE3"
   },
   "outputs": [],
   "source": [
    "from sklearn.decomposition import PCA"
   ]
  },
  {
   "cell_type": "code",
   "execution_count": 92,
   "metadata": {
    "colab": {},
    "colab_type": "code",
    "id": "bGZ-C3Rxhh6u"
   },
   "outputs": [],
   "source": [
    "pca = PCA(n_components=2)"
   ]
  },
  {
   "cell_type": "code",
   "execution_count": 93,
   "metadata": {
    "colab": {
     "base_uri": "https://localhost:8080/",
     "height": 51
    },
    "colab_type": "code",
    "id": "fB1BvwrOXnSB",
    "outputId": "44e96b9e-ec0a-42ff-9d14-8013744099bb"
   },
   "outputs": [
    {
     "data": {
      "text/plain": [
       "PCA(copy=True, iterated_power='auto', n_components=2, random_state=None,\n",
       "    svd_solver='auto', tol=0.0, whiten=False)"
      ]
     },
     "execution_count": 93,
     "metadata": {},
     "output_type": "execute_result"
    }
   ],
   "source": [
    "pca.fit(train)"
   ]
  },
  {
   "cell_type": "code",
   "execution_count": 94,
   "metadata": {
    "colab": {},
    "colab_type": "code",
    "id": "W6A1TA2jg2Vk"
   },
   "outputs": [],
   "source": [
    "x_pca = pca.transform(train)"
   ]
  },
  {
   "cell_type": "code",
   "execution_count": 95,
   "metadata": {
    "colab": {
     "base_uri": "https://localhost:8080/",
     "height": 34
    },
    "colab_type": "code",
    "id": "ltpKhxPFhqSc",
    "outputId": "58b861dd-79e2-4615-de85-e863475e706d"
   },
   "outputs": [
    {
     "data": {
      "text/plain": [
       "(1825, 2)"
      ]
     },
     "execution_count": 95,
     "metadata": {},
     "output_type": "execute_result"
    }
   ],
   "source": [
    "x_pca.shape"
   ]
  },
  {
   "cell_type": "code",
   "execution_count": 96,
   "metadata": {
    "colab": {
     "base_uri": "https://localhost:8080/",
     "height": 427
    },
    "colab_type": "code",
    "id": "saiYGC-DiRV5",
    "outputId": "ef3450a0-7e60-4789-8dfa-1d4210802a86"
   },
   "outputs": [
    {
     "data": {
      "text/plain": [
       "Text(0.5, 1.0, 'PCA')"
      ]
     },
     "execution_count": 96,
     "metadata": {},
     "output_type": "execute_result"
    },
    {
     "data": {
      "image/png": "[encoded data removed]",
      "text/plain": [
       "<Figure size 576x432 with 1 Axes>"
      ]
     },
     "metadata": {},
     "output_type": "display_data"
    }
   ],
   "source": [
    "plt.figure(figsize=(8,6))\n",
    "ax = sns.scatterplot(x_pca[:,0],x_pca[:,1], hue=train['Eficiencia (bin)'], alpha=0.3)\n",
    "plt.xlabel('Componente Principal 1')\n",
    "plt.ylabel('Componente Principal 2')\n",
    "plt.title('PCA')"
   ]
  },
  {
   "cell_type": "code",
   "execution_count": null,
   "metadata": {
    "colab": {},
    "colab_type": "code",
    "id": "TPhDDNFSAsb2"
   },
   "outputs": [],
   "source": []
  },
  {
   "cell_type": "markdown",
   "metadata": {
    "colab_type": "text",
    "id": "9llfz7TSCrKS"
   },
   "source": [
    "# Predicción Tdem (seg)"
   ]
  },
  {
   "cell_type": "markdown",
   "metadata": {
    "colab_type": "text",
    "id": "5eSA_Jp4r6IC"
   },
   "source": [
    "##Regresión Lineal"
   ]
  },
  {
   "cell_type": "markdown",
   "metadata": {
    "colab_type": "text",
    "id": "wTtezhKduLpe"
   },
   "source": [
    "Importamos y seleccionamos las variables que ocuparemos en el modelo"
   ]
  },
  {
   "cell_type": "code",
   "execution_count": 97,
   "metadata": {
    "colab": {},
    "colab_type": "code",
    "id": "ChVSMO0Cr4-7"
   },
   "outputs": [],
   "source": [
    "from sklearn.model_selection import train_test_split\n",
    "X = df_scaled[['Turno','Equipo','Movimiento (t)','Cargas (u)','Edad del empleado']]\n",
    "y = df_scaled['tdem (seg)']"
   ]
  },
  {
   "cell_type": "markdown",
   "metadata": {
    "colab_type": "text",
    "id": "P-0GbgVZuSuI"
   },
   "source": [
    "Creamos la data de entrenamiento y test"
   ]
  },
  {
   "cell_type": "code",
   "execution_count": 98,
   "metadata": {
    "colab": {},
    "colab_type": "code",
    "id": "wgmUxF2gtWD9"
   },
   "outputs": [],
   "source": [
    "X_train, X_test, y_train, y_test = train_test_split(X, y, test_size=0.4, random_state=42)"
   ]
  },
  {
   "cell_type": "markdown",
   "metadata": {
    "colab_type": "text",
    "id": "IdH7MOj6uXBy"
   },
   "source": [
    "Importamos el modelo de regresion lineal, creamos la regresion y generamos el .fit con la data de entrenamiento"
   ]
  },
  {
   "cell_type": "code",
   "execution_count": 99,
   "metadata": {
    "colab": {
     "base_uri": "https://localhost:8080/",
     "height": 34
    },
    "colab_type": "code",
    "id": "mVUxbFtdts_0",
    "outputId": "507de8f1-95e1-406d-8935-bc0ae9099725"
   },
   "outputs": [
    {
     "data": {
      "text/plain": [
       "LinearRegression(copy_X=True, fit_intercept=True, n_jobs=None, normalize=False)"
      ]
     },
     "execution_count": 99,
     "metadata": {},
     "output_type": "execute_result"
    }
   ],
   "source": [
    "from sklearn import linear_model\n",
    "modelo = linear_model.LinearRegression()\n",
    "modelo.fit(X_train,y_train)"
   ]
  },
  {
   "cell_type": "markdown",
   "metadata": {
    "colab_type": "text",
    "id": "R2yh12ieunWw"
   },
   "source": [
    "\n",
    "Predicción con la data de test"
   ]
  },
  {
   "cell_type": "code",
   "execution_count": 100,
   "metadata": {
    "colab": {},
    "colab_type": "code",
    "id": "ZMgMttIgtu_r"
   },
   "outputs": [],
   "source": [
    "y_pred = modelo.predict(X_test)"
   ]
  },
  {
   "cell_type": "code",
   "execution_count": 101,
   "metadata": {
    "colab": {
     "base_uri": "https://localhost:8080/",
     "height": 204
    },
    "colab_type": "code",
    "id": "D3XNkjLuuuVb",
    "outputId": "56bd0940-acc5-42dc-c588-0d6372b07f61"
   },
   "outputs": [
    {
     "data": {
      "text/html": [
       "<div>\n",
       "<style scoped>\n",
       "    .dataframe tbody tr th:only-of-type {\n",
       "        vertical-align: middle;\n",
       "    }\n",
       "\n",
       "    .dataframe tbody tr th {\n",
       "        vertical-align: top;\n",
       "    }\n",
       "\n",
       "    .dataframe thead th {\n",
       "        text-align: right;\n",
       "    }\n",
       "</style>\n",
       "<table border=\"1\" class=\"dataframe\">\n",
       "  <thead>\n",
       "    <tr style=\"text-align: right;\">\n",
       "      <th></th>\n",
       "      <th>Coefficient</th>\n",
       "    </tr>\n",
       "  </thead>\n",
       "  <tbody>\n",
       "    <tr>\n",
       "      <th>Turno</th>\n",
       "      <td>0.188476</td>\n",
       "    </tr>\n",
       "    <tr>\n",
       "      <th>Equipo</th>\n",
       "      <td>0.002288</td>\n",
       "    </tr>\n",
       "    <tr>\n",
       "      <th>Movimiento (t)</th>\n",
       "      <td>-2.403934</td>\n",
       "    </tr>\n",
       "    <tr>\n",
       "      <th>Cargas (u)</th>\n",
       "      <td>2.713557</td>\n",
       "    </tr>\n",
       "    <tr>\n",
       "      <th>Edad del empleado</th>\n",
       "      <td>-0.005269</td>\n",
       "    </tr>\n",
       "  </tbody>\n",
       "</table>\n",
       "</div>"
      ],
      "text/plain": [
       "                   Coefficient\n",
       "Turno                 0.188476\n",
       "Equipo                0.002288\n",
       "Movimiento (t)       -2.403934\n",
       "Cargas (u)            2.713557\n",
       "Edad del empleado    -0.005269"
      ]
     },
     "execution_count": 101,
     "metadata": {},
     "output_type": "execute_result"
    }
   ],
   "source": [
    "pd.DataFrame(modelo.coef_,X.columns,columns=['Coefficient'])"
   ]
  },
  {
   "cell_type": "code",
   "execution_count": 102,
   "metadata": {
    "colab": {
     "base_uri": "https://localhost:8080/",
     "height": 356
    },
    "colab_type": "code",
    "id": "d20e-eUGt3T1",
    "outputId": "89b0972b-0c07-4fd0-ea44-3032e0690eb1"
   },
   "outputs": [
    {
     "data": {
      "text/plain": [
       "<matplotlib.axes._subplots.AxesSubplot at 0x1764addacc8>"
      ]
     },
     "execution_count": 102,
     "metadata": {},
     "output_type": "execute_result"
    },
    {
     "data": {
      "image/png": "[encoded data removed]",
      "text/plain": [
       "<Figure size 720x360 with 1 Axes>"
      ]
     },
     "metadata": {},
     "output_type": "display_data"
    }
   ],
   "source": [
    "plt.figure(figsize=(10,5))\n",
    "sns.scatterplot(y_test,y_pred,color='blue',alpha=0.5)"
   ]
  },
  {
   "cell_type": "markdown",
   "metadata": {
    "colab_type": "text",
    "id": "Yjx6NaQRu4z0"
   },
   "source": [
    "Residuales"
   ]
  },
  {
   "cell_type": "code",
   "execution_count": 103,
   "metadata": {
    "colab": {
     "base_uri": "https://localhost:8080/",
     "height": 302
    },
    "colab_type": "code",
    "id": "NYTICpJht_jG",
    "outputId": "3288b2af-e8f2-4b95-ad6e-a5324d25a005"
   },
   "outputs": [
    {
     "data": {
      "text/plain": [
       "<matplotlib.axes._subplots.AxesSubplot at 0x1764ae44488>"
      ]
     },
     "execution_count": 103,
     "metadata": {},
     "output_type": "execute_result"
    },
    {
     "data": {
      "image/png": "[encoded data removed]",
      "text/plain": [
       "<Figure size 432x288 with 1 Axes>"
      ]
     },
     "metadata": {},
     "output_type": "display_data"
    }
   ],
   "source": [
    "sns.distplot((y_test-y_pred),bins=50)"
   ]
  },
  {
   "cell_type": "code",
   "execution_count": 104,
   "metadata": {},
   "outputs": [
    {
     "data": {
      "text/plain": [
       "<matplotlib.collections.PathCollection at 0x1764af67248>"
      ]
     },
     "execution_count": 104,
     "metadata": {},
     "output_type": "execute_result"
    },
    {
     "data": {
      "image/png": "[encoded data removed]",
      "text/plain": [
       "<Figure size 432x288 with 1 Axes>"
      ]
     },
     "metadata": {},
     "output_type": "display_data"
    }
   ],
   "source": [
    "plt.scatter(y_pred,y_test-y_pred,c='blue',alpha=0.5)"
   ]
  },
  {
   "cell_type": "markdown",
   "metadata": {},
   "source": [
    "El clásico R^2"
   ]
  },
  {
   "cell_type": "code",
   "execution_count": 105,
   "metadata": {},
   "outputs": [
    {
     "data": {
      "text/plain": [
       "0.1129656690321924"
      ]
     },
     "execution_count": 105,
     "metadata": {},
     "output_type": "execute_result"
    }
   ],
   "source": [
    "metrics.r2_score(y_test,y_pred)"
   ]
  },
  {
   "cell_type": "markdown",
   "metadata": {},
   "source": [
    "### Cross-Validation"
   ]
  },
  {
   "cell_type": "code",
   "execution_count": 106,
   "metadata": {},
   "outputs": [],
   "source": [
    "cv_results = cross_val_score(modelo,X,y,scoring='r2',cv=10)"
   ]
  },
  {
   "cell_type": "code",
   "execution_count": 107,
   "metadata": {},
   "outputs": [
    {
     "data": {
      "text/plain": [
       "array([ 0.11546606,  0.05463762, -0.03999514,  0.02606953,  0.20653066,\n",
       "        0.19764298,  0.07018255,  0.13086195,  0.03718708,  0.09825089])"
      ]
     },
     "execution_count": 107,
     "metadata": {},
     "output_type": "execute_result"
    }
   ],
   "source": [
    "cv_results"
   ]
  },
  {
   "cell_type": "code",
   "execution_count": 108,
   "metadata": {},
   "outputs": [
    {
     "data": {
      "text/plain": [
       "0.08968341872100105"
      ]
     },
     "execution_count": 108,
     "metadata": {},
     "output_type": "execute_result"
    }
   ],
   "source": [
    "cv_results.mean()"
   ]
  },
  {
   "cell_type": "markdown",
   "metadata": {
    "colab_type": "text",
    "id": "znH6r_o5u6Gy"
   },
   "source": [
    "Error Cuadratico Medio"
   ]
  },
  {
   "cell_type": "code",
   "execution_count": 109,
   "metadata": {
    "colab": {
     "base_uri": "https://localhost:8080/",
     "height": 34
    },
    "colab_type": "code",
    "id": "V_tHE-MTuDNr",
    "outputId": "a1462cab-cdab-4f93-ebfe-f3ee4ab4e3ba",
    "scrolled": false
   },
   "outputs": [
    {
     "name": "stdout",
     "output_type": "stream",
     "text": [
      "Error Cuadrático Medio: 0.9489034464801674\n"
     ]
    }
   ],
   "source": [
    "from sklearn import metrics\n",
    "print(f'Error Cuadrático Medio: {metrics.mean_squared_error(y_test,y_pred)}')"
   ]
  },
  {
   "cell_type": "markdown",
   "metadata": {
    "colab_type": "text",
    "id": "fJjWgM1zu8-M"
   },
   "source": [
    "Se peude decir que la regresion lineal no en el mejor modelo para este tipo de data"
   ]
  },
  {
   "cell_type": "markdown",
   "metadata": {
    "colab_type": "text",
    "id": "2_0hj4rxgIip"
   },
   "source": [
    "##Regresión Logística"
   ]
  },
  {
   "cell_type": "markdown",
   "metadata": {
    "colab_type": "text",
    "id": "Nkh9lMF0j6vg"
   },
   "source": [
    "Generamos nuestro data de entrenamiento y le eliminamos las columnas que no ocuparemos en el modolamiento"
   ]
  },
  {
   "cell_type": "code",
   "execution_count": 110,
   "metadata": {
    "colab": {},
    "colab_type": "code",
    "id": "n1SgIpEegXix"
   },
   "outputs": [],
   "source": [
    "filtro = ['Demora (bin)','Cargas (u)','Movimiento (t)','Edad del empleado']\n",
    "train = df_scaled[filtro]"
   ]
  },
  {
   "cell_type": "code",
   "execution_count": 111,
   "metadata": {
    "colab": {
     "base_uri": "https://localhost:8080/",
     "height": 204
    },
    "colab_type": "code",
    "id": "SonQhALaWA80",
    "outputId": "ecbced47-e42a-45f7-d7ef-270491e9b20c"
   },
   "outputs": [
    {
     "name": "stdout",
     "output_type": "stream",
     "text": [
      "<class 'pandas.core.frame.DataFrame'>\n",
      "RangeIndex: 1825 entries, 0 to 1824\n",
      "Data columns (total 4 columns):\n",
      " #   Column             Non-Null Count  Dtype  \n",
      "---  ------             --------------  -----  \n",
      " 0   Demora (bin)       1825 non-null   int64  \n",
      " 1   Cargas (u)         1825 non-null   float64\n",
      " 2   Movimiento (t)     1825 non-null   float64\n",
      " 3   Edad del empleado  1825 non-null   float64\n",
      "dtypes: float64(3), int64(1)\n",
      "memory usage: 57.2 KB\n"
     ]
    }
   ],
   "source": [
    "train.info()"
   ]
  },
  {
   "cell_type": "markdown",
   "metadata": {
    "colab_type": "text",
    "id": "L6ScVyuOiJT9"
   },
   "source": [
    "Creamos nuestras variables dummies"
   ]
  },
  {
   "cell_type": "code",
   "execution_count": 112,
   "metadata": {
    "colab": {},
    "colab_type": "code",
    "id": "eIEsZe8VI0H5"
   },
   "outputs": [],
   "source": [
    "unidad = pd.get_dummies(df_scaled['Unidad organizativa'])\n",
    "posicion = pd.get_dummies(df_scaled['Posición'])\n",
    "turno = pd.get_dummies(df_scaled['Turno'])\n",
    "fecha = pd.get_dummies(df_scaled['Fecha'])\n",
    "numero_personal = pd.get_dummies(df_scaled['Número de personal'])\n",
    "alta = pd.get_dummies(df_scaled['Fecha de alta'])\n",
    "status = pd.get_dummies(df_scaled['Status empleado para Gestión tiempos per'])"
   ]
  },
  {
   "cell_type": "markdown",
   "metadata": {
    "colab_type": "text",
    "id": "2IBV0cQ8jZ7q"
   },
   "source": [
    "Agregamos las variables dummies a la data de entrenamiento"
   ]
  },
  {
   "cell_type": "code",
   "execution_count": 113,
   "metadata": {
    "colab": {},
    "colab_type": "code",
    "id": "rIuvZ0pXiG-A"
   },
   "outputs": [],
   "source": [
    "train = pd.concat([train,unidad,posicion,turno,fecha,numero_personal,alta,status],axis=1)"
   ]
  },
  {
   "cell_type": "code",
   "execution_count": 114,
   "metadata": {
    "colab": {
     "base_uri": "https://localhost:8080/",
     "height": 338
    },
    "colab_type": "code",
    "id": "XBgfpXe9kzoh",
    "outputId": "d1187cdb-3811-4b19-9c5a-6708c5c62b69"
   },
   "outputs": [
    {
     "data": {
      "text/html": [
       "<div>\n",
       "<style scoped>\n",
       "    .dataframe tbody tr th:only-of-type {\n",
       "        vertical-align: middle;\n",
       "    }\n",
       "\n",
       "    .dataframe tbody tr th {\n",
       "        vertical-align: top;\n",
       "    }\n",
       "\n",
       "    .dataframe thead th {\n",
       "        text-align: right;\n",
       "    }\n",
       "</style>\n",
       "<table border=\"1\" class=\"dataframe\">\n",
       "  <thead>\n",
       "    <tr style=\"text-align: right;\">\n",
       "      <th></th>\n",
       "      <th>Demora (bin)</th>\n",
       "      <th>Cargas (u)</th>\n",
       "      <th>Movimiento (t)</th>\n",
       "      <th>Edad del empleado</th>\n",
       "      <th>ADMINISTRACION SUPTCIA PLANTAS</th>\n",
       "      <th>ALJIBES MLC</th>\n",
       "      <th>CAMIONES CAT 793F MLC</th>\n",
       "      <th>CAMIONES KOMATSU 830E MLC</th>\n",
       "      <th>CARGADORES FRONTALES MLC</th>\n",
       "      <th>GEOLOGIA DE PRODUCCION</th>\n",
       "      <th>...</th>\n",
       "      <th>2011-10-01</th>\n",
       "      <th>2012-02-20</th>\n",
       "      <th>2012-11-07</th>\n",
       "      <th>2013-03-01</th>\n",
       "      <th>2013-09-01</th>\n",
       "      <th>2013-11-01</th>\n",
       "      <th>2017-03-08</th>\n",
       "      <th>2019-06-03</th>\n",
       "      <th>1 - Evaluación de tiempos, real</th>\n",
       "      <th>9 - Evaluación de tiempos, teórico</th>\n",
       "    </tr>\n",
       "  </thead>\n",
       "  <tbody>\n",
       "    <tr>\n",
       "      <th>0</th>\n",
       "      <td>0</td>\n",
       "      <td>0.668797</td>\n",
       "      <td>0.625564</td>\n",
       "      <td>-1.424177</td>\n",
       "      <td>0</td>\n",
       "      <td>0</td>\n",
       "      <td>0</td>\n",
       "      <td>0</td>\n",
       "      <td>0</td>\n",
       "      <td>0</td>\n",
       "      <td>...</td>\n",
       "      <td>1</td>\n",
       "      <td>0</td>\n",
       "      <td>0</td>\n",
       "      <td>0</td>\n",
       "      <td>0</td>\n",
       "      <td>0</td>\n",
       "      <td>0</td>\n",
       "      <td>0</td>\n",
       "      <td>1</td>\n",
       "      <td>0</td>\n",
       "    </tr>\n",
       "    <tr>\n",
       "      <th>1</th>\n",
       "      <td>0</td>\n",
       "      <td>-1.277362</td>\n",
       "      <td>-1.268354</td>\n",
       "      <td>0.729983</td>\n",
       "      <td>0</td>\n",
       "      <td>0</td>\n",
       "      <td>0</td>\n",
       "      <td>0</td>\n",
       "      <td>0</td>\n",
       "      <td>0</td>\n",
       "      <td>...</td>\n",
       "      <td>0</td>\n",
       "      <td>0</td>\n",
       "      <td>0</td>\n",
       "      <td>0</td>\n",
       "      <td>0</td>\n",
       "      <td>0</td>\n",
       "      <td>0</td>\n",
       "      <td>0</td>\n",
       "      <td>1</td>\n",
       "      <td>0</td>\n",
       "    </tr>\n",
       "    <tr>\n",
       "      <th>2</th>\n",
       "      <td>1</td>\n",
       "      <td>0.836983</td>\n",
       "      <td>0.853396</td>\n",
       "      <td>1.419314</td>\n",
       "      <td>1</td>\n",
       "      <td>0</td>\n",
       "      <td>0</td>\n",
       "      <td>0</td>\n",
       "      <td>0</td>\n",
       "      <td>0</td>\n",
       "      <td>...</td>\n",
       "      <td>0</td>\n",
       "      <td>0</td>\n",
       "      <td>0</td>\n",
       "      <td>0</td>\n",
       "      <td>0</td>\n",
       "      <td>0</td>\n",
       "      <td>0</td>\n",
       "      <td>0</td>\n",
       "      <td>1</td>\n",
       "      <td>0</td>\n",
       "    </tr>\n",
       "    <tr>\n",
       "      <th>3</th>\n",
       "      <td>0</td>\n",
       "      <td>1.990262</td>\n",
       "      <td>1.963414</td>\n",
       "      <td>0.212984</td>\n",
       "      <td>0</td>\n",
       "      <td>0</td>\n",
       "      <td>1</td>\n",
       "      <td>0</td>\n",
       "      <td>0</td>\n",
       "      <td>0</td>\n",
       "      <td>...</td>\n",
       "      <td>0</td>\n",
       "      <td>0</td>\n",
       "      <td>0</td>\n",
       "      <td>0</td>\n",
       "      <td>1</td>\n",
       "      <td>0</td>\n",
       "      <td>0</td>\n",
       "      <td>0</td>\n",
       "      <td>1</td>\n",
       "      <td>0</td>\n",
       "    </tr>\n",
       "    <tr>\n",
       "      <th>4</th>\n",
       "      <td>0</td>\n",
       "      <td>-1.397495</td>\n",
       "      <td>-1.392686</td>\n",
       "      <td>-1.079512</td>\n",
       "      <td>0</td>\n",
       "      <td>0</td>\n",
       "      <td>0</td>\n",
       "      <td>0</td>\n",
       "      <td>0</td>\n",
       "      <td>0</td>\n",
       "      <td>...</td>\n",
       "      <td>0</td>\n",
       "      <td>0</td>\n",
       "      <td>0</td>\n",
       "      <td>0</td>\n",
       "      <td>0</td>\n",
       "      <td>0</td>\n",
       "      <td>0</td>\n",
       "      <td>0</td>\n",
       "      <td>1</td>\n",
       "      <td>0</td>\n",
       "    </tr>\n",
       "  </tbody>\n",
       "</table>\n",
       "<p>5 rows × 435 columns</p>\n",
       "</div>"
      ],
      "text/plain": [
       "   Demora (bin)  Cargas (u)  Movimiento (t)  Edad del empleado  \\\n",
       "0             0    0.668797        0.625564          -1.424177   \n",
       "1             0   -1.277362       -1.268354           0.729983   \n",
       "2             1    0.836983        0.853396           1.419314   \n",
       "3             0    1.990262        1.963414           0.212984   \n",
       "4             0   -1.397495       -1.392686          -1.079512   \n",
       "\n",
       "   ADMINISTRACION SUPTCIA PLANTAS  ALJIBES MLC  CAMIONES CAT 793F MLC  \\\n",
       "0                               0            0                      0   \n",
       "1                               0            0                      0   \n",
       "2                               1            0                      0   \n",
       "3                               0            0                      1   \n",
       "4                               0            0                      0   \n",
       "\n",
       "   CAMIONES KOMATSU 830E MLC  CARGADORES FRONTALES MLC  \\\n",
       "0                          0                         0   \n",
       "1                          0                         0   \n",
       "2                          0                         0   \n",
       "3                          0                         0   \n",
       "4                          0                         0   \n",
       "\n",
       "   GEOLOGIA DE PRODUCCION  ...  2011-10-01  2012-02-20  2012-11-07  \\\n",
       "0                       0  ...           1           0           0   \n",
       "1                       0  ...           0           0           0   \n",
       "2                       0  ...           0           0           0   \n",
       "3                       0  ...           0           0           0   \n",
       "4                       0  ...           0           0           0   \n",
       "\n",
       "   2013-03-01  2013-09-01  2013-11-01  2017-03-08  2019-06-03  \\\n",
       "0           0           0           0           0           0   \n",
       "1           0           0           0           0           0   \n",
       "2           0           0           0           0           0   \n",
       "3           0           1           0           0           0   \n",
       "4           0           0           0           0           0   \n",
       "\n",
       "   1 - Evaluación de tiempos, real  9 - Evaluación de tiempos, teórico  \n",
       "0                                1                                   0  \n",
       "1                                1                                   0  \n",
       "2                                1                                   0  \n",
       "3                                1                                   0  \n",
       "4                                1                                   0  \n",
       "\n",
       "[5 rows x 435 columns]"
      ]
     },
     "execution_count": 114,
     "metadata": {},
     "output_type": "execute_result"
    }
   ],
   "source": [
    "train.head()"
   ]
  },
  {
   "cell_type": "markdown",
   "metadata": {
    "colab_type": "text",
    "id": "BdL-JpfjmMfM"
   },
   "source": [
    "Creamos nuestra data de entrenamiento y de test"
   ]
  },
  {
   "cell_type": "code",
   "execution_count": 115,
   "metadata": {
    "colab": {},
    "colab_type": "code",
    "id": "RxspgsE0kish"
   },
   "outputs": [],
   "source": [
    "from sklearn.model_selection import train_test_split\n",
    "X_train, X_test, y_train, y_test = train_test_split(train.drop('Demora (bin)',axis=1),\n",
    "                                                    train['Demora (bin)'],\n",
    "                                                    test_size=0.30,random_state=42)"
   ]
  },
  {
   "cell_type": "markdown",
   "metadata": {
    "colab_type": "text",
    "id": "twww7wKAniGm"
   },
   "source": [
    "Importamos el modelo, creamos la regresión y entrenamos con nuestra data de entrenamiento"
   ]
  },
  {
   "cell_type": "code",
   "execution_count": 116,
   "metadata": {
    "colab": {
     "base_uri": "https://localhost:8080/",
     "height": 102
    },
    "colab_type": "code",
    "id": "3U42X6YkmHph",
    "outputId": "9e69b955-f90b-4a33-d454-992fdd11c0c5"
   },
   "outputs": [
    {
     "data": {
      "text/plain": [
       "LogisticRegression(C=1.0, class_weight=None, dual=False, fit_intercept=True,\n",
       "                   intercept_scaling=1, l1_ratio=None, max_iter=100,\n",
       "                   multi_class='auto', n_jobs=None, penalty='l2',\n",
       "                   random_state=None, solver='lbfgs', tol=0.0001, verbose=0,\n",
       "                   warm_start=False)"
      ]
     },
     "execution_count": 116,
     "metadata": {},
     "output_type": "execute_result"
    }
   ],
   "source": [
    "from sklearn.linear_model import LogisticRegression\n",
    "modelo = LogisticRegression()\n",
    "modelo.fit(X_train,y_train)"
   ]
  },
  {
   "cell_type": "markdown",
   "metadata": {
    "colab_type": "text",
    "id": "l0hxfk1-nw7N"
   },
   "source": [
    "Predicción con la data de test"
   ]
  },
  {
   "cell_type": "code",
   "execution_count": 117,
   "metadata": {
    "colab": {},
    "colab_type": "code",
    "id": "Yso-AHXEmdnq"
   },
   "outputs": [],
   "source": [
    "y_pred = modelo.predict(X_test)"
   ]
  },
  {
   "cell_type": "markdown",
   "metadata": {
    "colab_type": "text",
    "id": "DivMnBkQqvqR"
   },
   "source": [
    "Evaluacion del modelo"
   ]
  },
  {
   "cell_type": "code",
   "execution_count": 118,
   "metadata": {
    "colab": {
     "base_uri": "https://localhost:8080/",
     "height": 170
    },
    "colab_type": "code",
    "id": "V-9LGlaCqrLQ",
    "outputId": "53e68f19-d7ad-4d6d-df43-bb2f02650af8"
   },
   "outputs": [
    {
     "name": "stdout",
     "output_type": "stream",
     "text": [
      "              precision    recall  f1-score   support\n",
      "\n",
      "           0       0.69      0.70      0.70       270\n",
      "           1       0.71      0.70      0.70       278\n",
      "\n",
      "    accuracy                           0.70       548\n",
      "   macro avg       0.70      0.70      0.70       548\n",
      "weighted avg       0.70      0.70      0.70       548\n",
      "\n"
     ]
    }
   ],
   "source": [
    "from sklearn.metrics import classification_report\n",
    "print(classification_report(y_test,y_pred))"
   ]
  },
  {
   "cell_type": "code",
   "execution_count": 119,
   "metadata": {
    "colab": {
     "base_uri": "https://localhost:8080/",
     "height": 51
    },
    "colab_type": "code",
    "id": "rWHM5yv_tNcI",
    "outputId": "d31b7156-58d7-4f08-d5af-5ed9ac123274"
   },
   "outputs": [
    {
     "name": "stdout",
     "output_type": "stream",
     "text": [
      "[[189  81]\n",
      " [ 84 194]]\n"
     ]
    }
   ],
   "source": [
    "from sklearn.metrics import confusion_matrix\n",
    "cnf_matrix = confusion_matrix(y_test,y_pred)\n",
    "print(cnf_matrix)"
   ]
  },
  {
   "cell_type": "code",
   "execution_count": 120,
   "metadata": {
    "colab": {
     "base_uri": "https://localhost:8080/",
     "height": 340
    },
    "colab_type": "code",
    "id": "woAieHYInHeq",
    "outputId": "b860ce8d-1b7c-49c3-9d82-fae3f5b8416b"
   },
   "outputs": [
    {
     "data": {
      "text/plain": [
       "Text(0.5, 257.44, 'Predicción Demora')"
      ]
     },
     "execution_count": 120,
     "metadata": {},
     "output_type": "execute_result"
    },
    {
     "data": {
      "image/png": "[encoded data removed]",
      "text/plain": [
       "<Figure size 432x288 with 2 Axes>"
      ]
     },
     "metadata": {},
     "output_type": "display_data"
    }
   ],
   "source": [
    "class_names=[0,1] # name  of classes\n",
    "fig, ax = plt.subplots()\n",
    "tick_marks = np.arange(len(class_names))\n",
    "plt.xticks(tick_marks, class_names)\n",
    "plt.yticks(tick_marks, class_names)\n",
    "# create heatmap\n",
    "sns.heatmap(pd.DataFrame(cnf_matrix), annot=True, cmap=\"YlGnBu\" ,fmt='g')\n",
    "ax.xaxis.set_label_position(\"top\")\n",
    "plt.tight_layout()\n",
    "plt.title('Matriz de Confusión', y=1.1)\n",
    "plt.ylabel('Actual Demora')\n",
    "plt.xlabel('Predicción Demora')"
   ]
  },
  {
   "cell_type": "code",
   "execution_count": 121,
   "metadata": {
    "colab": {
     "base_uri": "https://localhost:8080/",
     "height": 85
    },
    "colab_type": "code",
    "id": "HAGT2HY44b0y",
    "outputId": "e25d926f-d23c-42fc-e041-3cf23ca38bf0"
   },
   "outputs": [
    {
     "name": "stdout",
     "output_type": "stream",
     "text": [
      "Demora\n",
      "Accuracy: 0.698905109489051\n",
      "Precision: 0.7054545454545454\n",
      "Recall: 0.697841726618705\n"
     ]
    }
   ],
   "source": [
    "print(\"Demora\")\n",
    "print(\"Accuracy:\",metrics.accuracy_score(y_test, y_pred))\n",
    "print(\"Precision:\",metrics.precision_score(y_test, y_pred))\n",
    "print(\"Recall:\",metrics.recall_score(y_test, y_pred))"
   ]
  },
  {
   "cell_type": "code",
   "execution_count": null,
   "metadata": {
    "colab": {},
    "colab_type": "code",
    "id": "OtkjaBvA4ckc"
   },
   "outputs": [],
   "source": []
  },
  {
   "cell_type": "markdown",
   "metadata": {
    "colab_type": "text",
    "id": "krBNDhgjmS0_"
   },
   "source": [
    "##Decision Tree"
   ]
  },
  {
   "cell_type": "code",
   "execution_count": 122,
   "metadata": {
    "colab": {},
    "colab_type": "code",
    "id": "wSyEDYDNmXFf"
   },
   "outputs": [],
   "source": [
    "from sklearn.tree import DecisionTreeClassifier"
   ]
  },
  {
   "cell_type": "code",
   "execution_count": 123,
   "metadata": {
    "colab": {},
    "colab_type": "code",
    "id": "HfoH7o8Fmcnu"
   },
   "outputs": [],
   "source": [
    "modelo = DecisionTreeClassifier()"
   ]
  },
  {
   "cell_type": "code",
   "execution_count": 124,
   "metadata": {
    "colab": {
     "base_uri": "https://localhost:8080/",
     "height": 119
    },
    "colab_type": "code",
    "id": "FTLVu9H_mgcR",
    "outputId": "58c626cf-1dac-41d0-824a-eb3a9c91f2b5"
   },
   "outputs": [
    {
     "data": {
      "text/plain": [
       "DecisionTreeClassifier(ccp_alpha=0.0, class_weight=None, criterion='gini',\n",
       "                       max_depth=None, max_features=None, max_leaf_nodes=None,\n",
       "                       min_impurity_decrease=0.0, min_impurity_split=None,\n",
       "                       min_samples_leaf=1, min_samples_split=2,\n",
       "                       min_weight_fraction_leaf=0.0, presort='deprecated',\n",
       "                       random_state=None, splitter='best')"
      ]
     },
     "execution_count": 124,
     "metadata": {},
     "output_type": "execute_result"
    }
   ],
   "source": [
    "modelo.fit(X_train,y_train)"
   ]
  },
  {
   "cell_type": "code",
   "execution_count": 125,
   "metadata": {
    "colab": {},
    "colab_type": "code",
    "id": "S5-YjZkEmnZE"
   },
   "outputs": [],
   "source": [
    "y_pred = modelo.predict(X_test)"
   ]
  },
  {
   "cell_type": "code",
   "execution_count": 126,
   "metadata": {
    "colab": {
     "base_uri": "https://localhost:8080/",
     "height": 170
    },
    "colab_type": "code",
    "id": "d8QtDO0Smu2J",
    "outputId": "8e7d3c76-0ea1-4352-8b3c-35a4523f4566"
   },
   "outputs": [
    {
     "name": "stdout",
     "output_type": "stream",
     "text": [
      "              precision    recall  f1-score   support\n",
      "\n",
      "           0       0.65      0.61      0.63       270\n",
      "           1       0.64      0.67      0.66       278\n",
      "\n",
      "    accuracy                           0.64       548\n",
      "   macro avg       0.64      0.64      0.64       548\n",
      "weighted avg       0.64      0.64      0.64       548\n",
      "\n"
     ]
    }
   ],
   "source": [
    "print(classification_report(y_test,y_pred))"
   ]
  },
  {
   "cell_type": "code",
   "execution_count": 127,
   "metadata": {
    "colab": {
     "base_uri": "https://localhost:8080/",
     "height": 51
    },
    "colab_type": "code",
    "id": "pOoJYCI2mzJb",
    "outputId": "f53d43ff-503d-4c7b-d576-270385da3a06"
   },
   "outputs": [
    {
     "name": "stdout",
     "output_type": "stream",
     "text": [
      "[[166 104]\n",
      " [ 91 187]]\n"
     ]
    }
   ],
   "source": [
    "print(confusion_matrix(y_test,y_pred))"
   ]
  },
  {
   "cell_type": "code",
   "execution_count": null,
   "metadata": {
    "colab": {},
    "colab_type": "code",
    "id": "DHn1ydsKnGGu"
   },
   "outputs": [],
   "source": []
  },
  {
   "cell_type": "markdown",
   "metadata": {
    "colab_type": "text",
    "id": "E3WtD4UjwzfN"
   },
   "source": [
    "##Random Forest"
   ]
  },
  {
   "cell_type": "code",
   "execution_count": 128,
   "metadata": {
    "colab": {},
    "colab_type": "code",
    "id": "dhr2ntGx52OS"
   },
   "outputs": [],
   "source": [
    "from sklearn.ensemble import RandomForestClassifier"
   ]
  },
  {
   "cell_type": "code",
   "execution_count": 129,
   "metadata": {
    "colab": {},
    "colab_type": "code",
    "id": "Pj51QmvAnl0F"
   },
   "outputs": [],
   "source": [
    "modelo = RandomForestClassifier(n_estimators=100)"
   ]
  },
  {
   "cell_type": "code",
   "execution_count": 130,
   "metadata": {
    "colab": {
     "base_uri": "https://localhost:8080/",
     "height": 153
    },
    "colab_type": "code",
    "id": "W6fdOGJTnoSO",
    "outputId": "a6afce3b-52cd-4e2e-87de-2d3d69613ce7"
   },
   "outputs": [
    {
     "data": {
      "text/plain": [
       "RandomForestClassifier(bootstrap=True, ccp_alpha=0.0, class_weight=None,\n",
       "                       criterion='gini', max_depth=None, max_features='auto',\n",
       "                       max_leaf_nodes=None, max_samples=None,\n",
       "                       min_impurity_decrease=0.0, min_impurity_split=None,\n",
       "                       min_samples_leaf=1, min_samples_split=2,\n",
       "                       min_weight_fraction_leaf=0.0, n_estimators=100,\n",
       "                       n_jobs=None, oob_score=False, random_state=None,\n",
       "                       verbose=0, warm_start=False)"
      ]
     },
     "execution_count": 130,
     "metadata": {},
     "output_type": "execute_result"
    }
   ],
   "source": [
    "modelo.fit(X_train,y_train)"
   ]
  },
  {
   "cell_type": "code",
   "execution_count": 131,
   "metadata": {
    "colab": {},
    "colab_type": "code",
    "id": "Qdy2dxCan5Rk"
   },
   "outputs": [],
   "source": [
    "y_pred = modelo.predict(X_test)"
   ]
  },
  {
   "cell_type": "code",
   "execution_count": 132,
   "metadata": {
    "colab": {
     "base_uri": "https://localhost:8080/",
     "height": 170
    },
    "colab_type": "code",
    "id": "pn436TkWn9X5",
    "outputId": "f26d500e-7c9a-4de0-957e-72fc9acecd38"
   },
   "outputs": [
    {
     "name": "stdout",
     "output_type": "stream",
     "text": [
      "              precision    recall  f1-score   support\n",
      "\n",
      "           0       0.71      0.65      0.68       270\n",
      "           1       0.68      0.74      0.71       278\n",
      "\n",
      "    accuracy                           0.69       548\n",
      "   macro avg       0.69      0.69      0.69       548\n",
      "weighted avg       0.69      0.69      0.69       548\n",
      "\n"
     ]
    }
   ],
   "source": [
    "print(classification_report(y_test,y_pred))"
   ]
  },
  {
   "cell_type": "code",
   "execution_count": 133,
   "metadata": {
    "colab": {
     "base_uri": "https://localhost:8080/",
     "height": 51
    },
    "colab_type": "code",
    "id": "5WagY7vGn_sr",
    "outputId": "2d91a991-c440-4b67-e71d-7ad3ab2b4255",
    "scrolled": true
   },
   "outputs": [
    {
     "name": "stdout",
     "output_type": "stream",
     "text": [
      "[[175  95]\n",
      " [ 73 205]]\n"
     ]
    }
   ],
   "source": [
    "from sklearn.metrics import confusion_matrix\n",
    "cnf_matrix = confusion_matrix(y_test,y_pred)\n",
    "print(cnf_matrix)"
   ]
  },
  {
   "cell_type": "code",
   "execution_count": 134,
   "metadata": {
    "colab": {
     "base_uri": "https://localhost:8080/",
     "height": 340
    },
    "colab_type": "code",
    "id": "SE2dOt53FBV2",
    "outputId": "a8485518-0cb6-4c7a-c032-c0c456babcb3"
   },
   "outputs": [
    {
     "data": {
      "text/plain": [
       "Text(0.5, 257.44, 'Predicción Demora')"
      ]
     },
     "execution_count": 134,
     "metadata": {},
     "output_type": "execute_result"
    },
    {
     "data": {
      "image/png": "[encoded data removed]",
      "text/plain": [
       "<Figure size 432x288 with 2 Axes>"
      ]
     },
     "metadata": {},
     "output_type": "display_data"
    }
   ],
   "source": [
    "class_names=[0,1] # name  of classes\n",
    "fig, ax = plt.subplots()\n",
    "tick_marks = np.arange(len(class_names))\n",
    "plt.xticks(tick_marks, class_names)\n",
    "plt.yticks(tick_marks, class_names)\n",
    "# create heatmap\n",
    "sns.heatmap(pd.DataFrame(cnf_matrix), annot=True, cmap=\"YlGnBu\" ,fmt='g')\n",
    "ax.xaxis.set_label_position(\"top\")\n",
    "plt.tight_layout()\n",
    "plt.title('Matriz de Demora', y=1.1)\n",
    "plt.ylabel('Actual Demora')\n",
    "plt.xlabel('Predicción Demora')"
   ]
  },
  {
   "cell_type": "code",
   "execution_count": 135,
   "metadata": {
    "colab": {
     "base_uri": "https://localhost:8080/",
     "height": 85
    },
    "colab_type": "code",
    "id": "H6eDOV-KoBwj",
    "outputId": "3c14cbc8-b35f-4d5d-84fe-b073fd5b9971"
   },
   "outputs": [
    {
     "name": "stdout",
     "output_type": "stream",
     "text": [
      "Demora\n",
      "Accuracy: 0.6934306569343066\n",
      "Precision: 0.6833333333333333\n",
      "Recall: 0.737410071942446\n"
     ]
    }
   ],
   "source": [
    "print(\"Demora\")\n",
    "print(\"Accuracy:\",metrics.accuracy_score(y_test, y_pred))\n",
    "print(\"Precision:\",metrics.precision_score(y_test, y_pred))\n",
    "print(\"Recall:\",metrics.recall_score(y_test, y_pred))"
   ]
  },
  {
   "cell_type": "code",
   "execution_count": null,
   "metadata": {
    "colab": {},
    "colab_type": "code",
    "id": "-uWlcWqCFHNI"
   },
   "outputs": [],
   "source": []
  },
  {
   "cell_type": "markdown",
   "metadata": {
    "colab_type": "text",
    "id": "BS4PbU6qoYfx"
   },
   "source": [
    "###Importancia de las variables"
   ]
  },
  {
   "cell_type": "code",
   "execution_count": 136,
   "metadata": {
    "colab": {},
    "colab_type": "code",
    "id": "dvE3XPZso60o"
   },
   "outputs": [],
   "source": [
    "importancia = list(modelo.feature_importances_)"
   ]
  },
  {
   "cell_type": "code",
   "execution_count": 137,
   "metadata": {
    "colab": {
     "base_uri": "https://localhost:8080/",
     "height": 1000
    },
    "colab_type": "code",
    "id": "kaDNxbsmpADg",
    "outputId": "e524d9ce-304c-41b6-ea9f-9ab70affbdad"
   },
   "outputs": [
    {
     "name": "stdout",
     "output_type": "stream",
     "text": [
      "--> Variable: Cargas (u) Importancia: 0.18767040675632096\n",
      "--> Variable: Movimiento (t) Importancia: 0.19546316478610806\n",
      "--> Variable: Edad del empleado Importancia: 0.017198568540654338\n",
      "--> Variable: ADMINISTRACION SUPTCIA PLANTAS Importancia: 0.0019479016571213599\n",
      "--> Variable: ALJIBES MLC Importancia: 0.001519353370320023\n",
      "--> Variable: CAMIONES CAT 793F MLC Importancia: 0.00261211746043863\n",
      "--> Variable: CAMIONES KOMATSU 830E MLC Importancia: 0.001663887666403095\n",
      "--> Variable: CARGADORES FRONTALES MLC Importancia: 0.0008820598053515653\n",
      "--> Variable: GEOLOGIA DE PRODUCCION Importancia: 0.0014185585691904156\n",
      "--> Variable: INGENIERIA DE PROCESOS Importancia: 0.00041677648198925796\n",
      "--> Variable: MANTENIMIENTO MINA Importancia: 0.0035618194393969693\n",
      "--> Variable: MOTONIVELADORAS MLC Importancia: 0.0014206455908089615\n",
      "--> Variable: PALAS HIDRAULICAS MLC Importancia: 0.00058947051137553\n",
      "--> Variable: PLANIFICACION MANTTO. MINA Importancia: 0.0011287684948457818\n",
      "--> Variable: SERVICIO SOCIAL VHUASCO Importancia: 0.0017864604417165502\n",
      "--> Variable: SISTEMAS DE CONTROL Y POTENCIA Importancia: 0.0\n",
      "--> Variable: TRACTORES NEUMATICOS MLC Importancia: 0.000871213064934653\n",
      "--> Variable: TRACTORES ORUGA MLC Importancia: 0.0018410737759822899\n",
      "--> Variable: ASISTENTE GEOLOGIA Importancia: 0.0018795601632248778\n",
      "--> Variable: AYUDANTE ADMINISTRATIVO Importancia: 0.0014506575055462845\n",
      "--> Variable: CONTROLADOR PLANIFICACION Importancia: 0.0010196829644871749\n",
      "--> Variable: ELECTRICO I Importancia: 0.0016236952387262366\n",
      "--> Variable: ELECTRICO III Importancia: 0.0017210207583754902\n",
      "--> Variable: INGENIERO DE PROCESOS Importancia: 0.0005489309006277318\n",
      "--> Variable: JEFE SISTEMAS DE CONTROL Y POTENCIA Importancia: 0.0\n",
      "--> Variable: MECANICO I Importancia: 0.003608770877824596\n",
      "--> Variable: MECANICO III Importancia: 0.002626004386208326\n",
      "--> Variable: OPERADOR ELECTRICO II PLANTA Importancia: 0.0020977956313668945\n",
      "--> Variable: OPERADOR I Importancia: 0.0021899326446812063\n",
      "--> Variable: OPERADOR II Importancia: 0.0015632020421121667\n",
      "--> Variable: OPERADOR III Importancia: 0.003490094140497515\n",
      "--> Variable: OPERADOR MECANICO III PLANTA Importancia: 0.0020997998042447865\n",
      "--> Variable: PLANIFICADOR MANTENIMIENTO MINA Importancia: 0.00041548129234237935\n",
      "--> Variable: 1 Importancia: 0.011481121557393661\n",
      "--> Variable: 2 Importancia: 0.012003036384917256\n",
      "--> Variable: 2019-07-01 Importancia: 0.0012098518141850497\n",
      "--> Variable: 2019-07-02 Importancia: 0.004013050065981377\n",
      "--> Variable: 2019-07-03 Importancia: 0.0012050215502117916\n",
      "--> Variable: 2019-07-04 Importancia: 0.0025385518944737173\n",
      "--> Variable: 2019-07-05 Importancia: 0.0038470336877348705\n",
      "--> Variable: 2019-07-06 Importancia: 0.003439168546021605\n",
      "--> Variable: 2019-07-07 Importancia: 0.0020062324225699852\n",
      "--> Variable: 2019-07-08 Importancia: 0.0017798007484061684\n",
      "--> Variable: 2019-07-09 Importancia: 0.0016936048186768084\n",
      "--> Variable: 2019-07-10 Importancia: 0.0005884767571455475\n",
      "--> Variable: 2019-07-11 Importancia: 0.0018347725159049452\n",
      "--> Variable: 2019-07-12 Importancia: 0.002107715056116745\n",
      "--> Variable: 2019-07-13 Importancia: 0.004262625393635347\n",
      "--> Variable: 2019-07-14 Importancia: 0.0023355533696432433\n",
      "--> Variable: 2019-07-15 Importancia: 0.0029647252570320854\n",
      "--> Variable: 2019-07-16 Importancia: 0.002108186176871906\n",
      "--> Variable: 2019-07-17 Importancia: 0.0013152444295583014\n",
      "--> Variable: 2019-07-18 Importancia: 0.0014930336625982637\n",
      "--> Variable: 2019-07-19 Importancia: 0.0015328795950722079\n",
      "--> Variable: 2019-07-20 Importancia: 0.0012645014381214295\n",
      "--> Variable: 2019-07-21 Importancia: 0.0029897431753841486\n",
      "--> Variable: 2019-07-22 Importancia: 0.001621606792690763\n",
      "--> Variable: 2019-07-23 Importancia: 0.00116405036417051\n",
      "--> Variable: 2019-07-24 Importancia: 0.004041130970779395\n",
      "--> Variable: 2019-07-25 Importancia: 0.0005275768468910033\n",
      "--> Variable: 2019-07-26 Importancia: 0.001425170020109979\n",
      "--> Variable: 2019-07-27 Importancia: 0.0006827192124754357\n",
      "--> Variable: 2019-07-28 Importancia: 0.0003031421099172173\n",
      "--> Variable: 2019-07-29 Importancia: 0.0013046876387823852\n",
      "--> Variable: 2019-07-30 Importancia: 0.00041540615734910114\n",
      "--> Variable: 2019-07-31 Importancia: 0.00266377580737832\n",
      "--> Variable: 2019-08-01 Importancia: 0.0018265142372528931\n",
      "--> Variable: 2019-08-02 Importancia: 0.00042169790561395813\n",
      "--> Variable: 2019-08-03 Importancia: 0.000493768812535001\n",
      "--> Variable: 2019-08-04 Importancia: 0.001987773962200948\n",
      "--> Variable: 2019-08-05 Importancia: 0.0012809431978284297\n",
      "--> Variable: 2019-08-06 Importancia: 0.001988300020857852\n",
      "--> Variable: 2019-08-07 Importancia: 0.0015196990436138695\n",
      "--> Variable: 2019-08-08 Importancia: 0.0017811830990337293\n",
      "--> Variable: 2019-08-09 Importancia: 0.0014030696944725212\n",
      "--> Variable: 2019-08-10 Importancia: 0.002332717484380987\n",
      "--> Variable: 2019-08-11 Importancia: 0.0016588596635084612\n",
      "--> Variable: 2019-08-12 Importancia: 0.0033327520296357626\n",
      "--> Variable: 2019-08-13 Importancia: 0.001843771819729364\n",
      "--> Variable: 2019-08-14 Importancia: 0.0014811504977451677\n",
      "--> Variable: 2019-08-15 Importancia: 0.0023095657800622747\n",
      "--> Variable: 2019-08-16 Importancia: 0.0022421271830000084\n",
      "--> Variable: 2019-08-17 Importancia: 0.002794775306290694\n",
      "--> Variable: 2019-08-18 Importancia: 0.0023195681838779\n",
      "--> Variable: 2019-08-19 Importancia: 0.0008614616260103708\n",
      "--> Variable: 2019-08-20 Importancia: 0.0007794260632389623\n",
      "--> Variable: 2019-08-21 Importancia: 0.001009005395626026\n",
      "--> Variable: 2019-08-22 Importancia: 0.0002629872776556297\n",
      "--> Variable: 2019-08-23 Importancia: 0.0010459783509191504\n",
      "--> Variable: 2019-08-24 Importancia: 0.0010832271485415742\n",
      "--> Variable: 2019-08-25 Importancia: 0.0009394452833799913\n",
      "--> Variable: 2019-08-26 Importancia: 0.0023720151542831196\n",
      "--> Variable: 2019-08-27 Importancia: 0.0018916358473173242\n",
      "--> Variable: 2019-08-28 Importancia: 0.001980160871079295\n",
      "--> Variable: 2019-08-29 Importancia: 0.0007443560685828727\n",
      "--> Variable: 2019-08-30 Importancia: 0.0006268222632649301\n",
      "--> Variable: 2019-08-31 Importancia: 0.0009796115764398568\n",
      "--> Variable: 2019-09-01 Importancia: 0.0007663333772683829\n",
      "--> Variable: 2019-09-02 Importancia: 0.00310105759335073\n",
      "--> Variable: 2019-09-03 Importancia: 0.0026381416306884087\n",
      "--> Variable: 2019-09-04 Importancia: 0.0037530065457064953\n",
      "--> Variable: 2019-09-05 Importancia: 0.0009551414442502916\n",
      "--> Variable: 2019-09-06 Importancia: 0.0017924449634100818\n",
      "--> Variable: 2019-09-07 Importancia: 0.002256767053218991\n",
      "--> Variable: 2019-09-08 Importancia: 0.0\n",
      "--> Variable: 2019-09-09 Importancia: 0.00027144915189115633\n",
      "--> Variable: 2019-09-10 Importancia: 0.0004874683208325536\n",
      "--> Variable: 2019-09-11 Importancia: 0.00029724719622423667\n",
      "--> Variable: 2019-09-12 Importancia: 0.0030662107586584956\n",
      "--> Variable: 2019-09-13 Importancia: 0.0029510475408475573\n",
      "--> Variable: 2019-09-14 Importancia: 0.0030506364760450144\n",
      "--> Variable: 2019-09-15 Importancia: 0.0018199260982246195\n",
      "--> Variable: 2019-09-16 Importancia: 0.0003046881893006594\n",
      "--> Variable: 2019-09-17 Importancia: 0.000487379878939864\n",
      "--> Variable: 2019-09-20 Importancia: 0.0015668589212830277\n",
      "--> Variable: 2019-09-21 Importancia: 0.0018303774269652886\n",
      "--> Variable: 2019-09-22 Importancia: 0.0013633652314894947\n",
      "--> Variable: 2019-09-23 Importancia: 0.0006901471238255743\n",
      "--> Variable: 2019-09-24 Importancia: 0.0027296493529556337\n",
      "--> Variable: 2019-09-25 Importancia: 0.0010163094396057253\n",
      "--> Variable: 2019-09-26 Importancia: 0.0003959761880904166\n",
      "--> Variable: 2019-09-27 Importancia: 0.0010197629879433914\n",
      "--> Variable: 2019-09-28 Importancia: 0.001283981180739387\n",
      "--> Variable: 2019-09-29 Importancia: 0.0010209801347963695\n",
      "--> Variable: 2019-09-30 Importancia: 0.0013191359023983675\n",
      "--> Variable: 2019-10-01 Importancia: 0.0018359024581396546\n",
      "--> Variable: 2019-10-02 Importancia: 0.0012387549415369095\n",
      "--> Variable: 2019-10-03 Importancia: 0.0011648320687165149\n",
      "--> Variable: 2019-10-04 Importancia: 0.0012606035597279414\n",
      "--> Variable: 2019-10-05 Importancia: 0.001874687526906345\n",
      "--> Variable: 2019-10-06 Importancia: 0.0007542849704171063\n",
      "--> Variable: 2019-10-07 Importancia: 0.0010124229090428833\n",
      "--> Variable: 2019-10-08 Importancia: 0.0017279105981987141\n",
      "--> Variable: 2019-10-09 Importancia: 0.0015651850436382078\n",
      "--> Variable: 2019-10-10 Importancia: 0.0012693927699688817\n",
      "--> Variable: 2019-10-11 Importancia: 0.0016317391710794168\n",
      "--> Variable: 2019-10-12 Importancia: 0.0003580057711931922\n",
      "--> Variable: 2019-10-13 Importancia: 0.0007384427329455383\n",
      "--> Variable: 2019-10-14 Importancia: 0.002123161913721954\n",
      "--> Variable: 2019-10-15 Importancia: 0.0020105224971275195\n",
      "--> Variable: 2019-10-16 Importancia: 0.0005015941588978058\n",
      "--> Variable: 2019-10-17 Importancia: 0.0028673940373518227\n",
      "--> Variable: 2019-10-18 Importancia: 0.0005435973852938225\n",
      "--> Variable: 2019-10-19 Importancia: 0.0005455990365686015\n",
      "--> Variable: 2019-10-20 Importancia: 0.0009714008032799245\n",
      "--> Variable: 2019-10-21 Importancia: 8.513147446800283e-05\n",
      "--> Variable: 2019-10-22 Importancia: 0.0020973810552021434\n",
      "--> Variable: 2019-10-23 Importancia: 0.0027039458802022988\n",
      "--> Variable: 2019-10-26 Importancia: 0.001326393034423762\n",
      "--> Variable: 2019-10-27 Importancia: 0.0012195371546386265\n",
      "--> Variable: 2019-10-28 Importancia: 0.002060635467950984\n",
      "--> Variable: 2019-10-30 Importancia: 0.0006089850547130694\n",
      "--> Variable: 2019-10-31 Importancia: 0.00020077454236678034\n",
      "--> Variable: 2019-11-01 Importancia: 0.0009008479211214213\n",
      "--> Variable: 2019-11-02 Importancia: 0.0008300033496181026\n",
      "--> Variable: 2019-11-03 Importancia: 0.001253235190565766\n",
      "--> Variable: 2019-11-04 Importancia: 0.0005441213491028999\n",
      "--> Variable: 2019-11-05 Importancia: 0.000248946121699332\n",
      "--> Variable: 2019-11-06 Importancia: 0.0013648433722328163\n",
      "--> Variable: 2019-11-07 Importancia: 0.002917188918733178\n",
      "--> Variable: 2019-11-08 Importancia: 0.0006745313120401282\n",
      "--> Variable: 2019-11-09 Importancia: 0.002570513577609435\n",
      "--> Variable: 2019-11-10 Importancia: 0.003075084896542715\n",
      "--> Variable: 2019-11-11 Importancia: 0.0015715341190836796\n",
      "--> Variable: 2019-11-13 Importancia: 0.0006963570089409269\n",
      "--> Variable: 2019-11-14 Importancia: 0.0003865661260014609\n",
      "--> Variable: 2019-11-15 Importancia: 0.0008487160972188741\n",
      "--> Variable: 2019-11-16 Importancia: 0.0008878867990341757\n",
      "--> Variable: 2019-11-17 Importancia: 0.0019117409350441995\n",
      "--> Variable: 2019-11-18 Importancia: 0.0017345107727217712\n",
      "--> Variable: 2019-11-19 Importancia: 0.00115199268375015\n",
      "--> Variable: 2019-11-20 Importancia: 0.0005736844017076982\n",
      "--> Variable: 2019-11-21 Importancia: 0.0015400564186105325\n",
      "--> Variable: 2019-11-22 Importancia: 0.0011414378907976227\n",
      "--> Variable: 2019-11-23 Importancia: 0.0008188489948109362\n",
      "--> Variable: 2019-11-24 Importancia: 0.0018996946565255912\n",
      "--> Variable: 2019-11-25 Importancia: 0.0010820786614932536\n",
      "--> Variable: 2019-11-26 Importancia: 0.0009141703784112899\n",
      "--> Variable: 2019-11-27 Importancia: 0.0016528871562611325\n",
      "--> Variable: 2019-11-28 Importancia: 0.0019093754930074689\n",
      "--> Variable: 2019-11-29 Importancia: 0.0018394974946437607\n",
      "--> Variable: 2019-11-30 Importancia: 0.0010886012480526843\n",
      "--> Variable: 2019-12-01 Importancia: 0.0007850850983739756\n",
      "--> Variable: 2019-12-02 Importancia: 0.0017331437318030849\n",
      "--> Variable: 2019-12-03 Importancia: 0.00038060137350232737\n",
      "--> Variable: 2019-12-04 Importancia: 0.0014717846688772893\n",
      "--> Variable: 2019-12-05 Importancia: 0.0004616833061989945\n",
      "--> Variable: 2019-12-06 Importancia: 0.002566685812175019\n",
      "--> Variable: 2019-12-07 Importancia: 0.002405955949769231\n",
      "--> Variable: 2019-12-08 Importancia: 0.001858581836684987\n",
      "--> Variable: 2019-12-09 Importancia: 0.002034099659728082\n",
      "--> Variable: 2019-12-10 Importancia: 0.00064027424387962\n",
      "--> Variable: 2019-12-11 Importancia: 0.0008466954487116279\n",
      "--> Variable: 2019-12-12 Importancia: 0.0011807093970340333\n",
      "--> Variable: 2019-12-13 Importancia: 0.000795261322684802\n",
      "--> Variable: 2019-12-14 Importancia: 0.00284225818325535\n",
      "--> Variable: 2019-12-15 Importancia: 0.0013220493767837032\n",
      "--> Variable: 2019-12-16 Importancia: 0.0006137697099520405\n",
      "--> Variable: 2019-12-17 Importancia: 0.0008233344756112293\n",
      "--> Variable: 2019-12-18 Importancia: 0.0013468231747292452\n",
      "--> Variable: 2019-12-19 Importancia: 0.0005075895589126602\n",
      "--> Variable: 2019-12-20 Importancia: 0.001681961967592727\n",
      "--> Variable: 2019-12-21 Importancia: 0.0015811081892501764\n",
      "--> Variable: 2019-12-22 Importancia: 0.0016419869844434387\n",
      "--> Variable: 2019-12-23 Importancia: 0.0012604464474139819\n",
      "--> Variable: 2019-12-24 Importancia: 0.0008989817850271452\n",
      "--> Variable: 2019-12-26 Importancia: 0.0017684645237068908\n",
      "--> Variable: 2019-12-27 Importancia: 0.0010683272116636957\n",
      "--> Variable: 2019-12-28 Importancia: 0.000930962252686542\n",
      "--> Variable: 2019-12-29 Importancia: 0.0016980095773997386\n",
      "--> Variable: 2019-12-30 Importancia: 0.0024062685616906393\n",
      "--> Variable: 2019-12-31 Importancia: 0.002585500249260889\n",
      "--> Variable: 2020-01-02 Importancia: 0.0010568474893649345\n",
      "--> Variable: 2020-01-03 Importancia: 0.0\n",
      "--> Variable: 2020-01-04 Importancia: 0.00036207078484337294\n",
      "--> Variable: 2020-01-05 Importancia: 0.00045980078075115764\n",
      "--> Variable: 2020-01-06 Importancia: 0.0011702174889098678\n",
      "--> Variable: 2020-01-07 Importancia: 0.0002367728888267458\n",
      "--> Variable: 2020-01-08 Importancia: 0.000930325172499392\n",
      "--> Variable: 2020-01-09 Importancia: 3.0378132621522044e-05\n",
      "--> Variable: 2020-01-10 Importancia: 0.00031292555184668237\n",
      "--> Variable: 2020-01-11 Importancia: 0.0004281416114829411\n",
      "--> Variable: 2020-01-13 Importancia: 0.00010773692895994147\n",
      "--> Variable: 2020-01-14 Importancia: 0.0007359876746433167\n",
      "--> Variable: 2020-01-15 Importancia: 0.0011846611837806596\n",
      "--> Variable: 2020-01-17 Importancia: 0.0\n",
      "--> Variable: 2020-01-18 Importancia: 0.00024677830322271946\n",
      "--> Variable: 2020-01-19 Importancia: 0.00011448420899029466\n",
      "--> Variable: 2020-01-20 Importancia: 0.0006694581648501967\n",
      "--> Variable: 2020-01-21 Importancia: 0.0004088035311417404\n",
      "--> Variable: 2020-01-22 Importancia: 0.00024452812430695225\n",
      "--> Variable: 2020-01-25 Importancia: 0.0005735198482490218\n",
      "--> Variable: 2020-01-26 Importancia: 0.0\n",
      "--> Variable: 2020-01-27 Importancia: 0.00023253589253820848\n",
      "--> Variable: 2020-01-28 Importancia: 8.500552848282523e-05\n",
      "--> Variable: 2020-01-29 Importancia: 0.0008144801690771258\n",
      "--> Variable: 2020-01-30 Importancia: 0.0011363728576607422\n",
      "--> Variable: 2020-01-31 Importancia: 0.0005897039734947994\n",
      "--> Variable: 2020-02-01 Importancia: 0.00221916697043684\n",
      "--> Variable: 2020-02-02 Importancia: 0.00026888840889045774\n",
      "--> Variable: 2020-02-03 Importancia: 0.00126831165581924\n",
      "--> Variable: 2020-02-04 Importancia: 0.0019329551025579663\n",
      "--> Variable: 2020-02-05 Importancia: 0.0007581060809200884\n",
      "--> Variable: 2020-02-06 Importancia: 0.0023174783372875984\n",
      "--> Variable: 2020-02-07 Importancia: 0.001072415787387921\n",
      "--> Variable: 2020-02-08 Importancia: 0.0002927005532536963\n",
      "--> Variable: 2020-02-09 Importancia: 0.0011311934601390373\n",
      "--> Variable: 2020-02-10 Importancia: 0.0005501124912018865\n",
      "--> Variable: 2020-02-11 Importancia: 0.0020465415954207524\n",
      "--> Variable: 2020-02-12 Importancia: 0.0029240331602793917\n",
      "--> Variable: 2020-02-13 Importancia: 0.0012828705708786937\n",
      "--> Variable: 2020-02-14 Importancia: 0.0020832123433168325\n",
      "--> Variable: 2020-02-15 Importancia: 0.0022931839247082304\n",
      "--> Variable: 2020-02-16 Importancia: 0.0028987379799408786\n",
      "--> Variable: 2020-02-17 Importancia: 0.0013971996504128876\n",
      "--> Variable: 2020-02-18 Importancia: 0.0008695283416086511\n",
      "--> Variable: 2020-02-19 Importancia: 0.001013919136426522\n",
      "--> Variable: 2020-02-20 Importancia: 0.001263612137071337\n",
      "--> Variable: 2020-02-21 Importancia: 0.0009041391581656836\n",
      "--> Variable: 2020-02-22 Importancia: 0.0010421653905096843\n",
      "--> Variable: 2020-02-23 Importancia: 0.0008260943113029696\n",
      "--> Variable: 2020-02-24 Importancia: 0.0015723256033763513\n",
      "--> Variable: 2020-02-25 Importancia: 0.0008515440831339822\n",
      "--> Variable: 2020-02-26 Importancia: 0.00036997915467780083\n",
      "--> Variable: 2020-02-27 Importancia: 0.0\n",
      "--> Variable: 2020-02-28 Importancia: 0.0037986202254387522\n",
      "--> Variable: 2020-02-29 Importancia: 0.0\n",
      "--> Variable: 2020-03-01 Importancia: 0.0013228714464164578\n",
      "--> Variable: 2020-03-02 Importancia: 0.0013826222543789131\n",
      "--> Variable: 2020-03-03 Importancia: 0.0004203770937570771\n",
      "--> Variable: 2020-03-04 Importancia: 0.0003186075424512691\n",
      "--> Variable: 2020-03-05 Importancia: 0.0015272146059366438\n",
      "--> Variable: 2020-03-06 Importancia: 0.0007297051703975176\n",
      "--> Variable: 2020-03-07 Importancia: 0.0010902986799567476\n",
      "--> Variable: 2020-03-08 Importancia: 0.0009409985181005033\n",
      "--> Variable: 2020-03-09 Importancia: 0.0009313336194994263\n",
      "--> Variable: 2020-03-10 Importancia: 0.0018406132831125974\n",
      "--> Variable: 2020-03-11 Importancia: 0.001971861616774303\n",
      "--> Variable: 2020-03-12 Importancia: 0.0015744285512219952\n",
      "--> Variable: 2020-03-13 Importancia: 0.0017646976432682219\n",
      "--> Variable: 2020-03-14 Importancia: 0.0017057901812426125\n",
      "--> Variable: 2020-03-15 Importancia: 0.00024804271730595836\n",
      "--> Variable: 2020-03-16 Importancia: 0.0019224700834329107\n",
      "--> Variable: 2020-03-17 Importancia: 0.0015246136998644077\n",
      "--> Variable: 2020-03-18 Importancia: 0.0010077779116151764\n",
      "--> Variable: 2020-03-19 Importancia: 0.0014916872995830541\n",
      "--> Variable: 2020-03-20 Importancia: 0.0003222756629352093\n",
      "--> Variable: 2020-03-21 Importancia: 0.0008733586221895377\n",
      "--> Variable: 2020-03-25 Importancia: 0.0007550958051807135\n",
      "--> Variable: 2020-03-26 Importancia: 0.002467552855843496\n",
      "--> Variable: 2020-03-27 Importancia: 0.0009086013822255468\n",
      "--> Variable: 2020-03-28 Importancia: 0.0010732751222454228\n",
      "--> Variable: 2020-03-29 Importancia: 0.00041511347785212836\n",
      "--> Variable: 2020-03-30 Importancia: 0.0010279269947275074\n",
      "--> Variable: 2020-03-31 Importancia: 0.0\n",
      "--> Variable: 2020-04-01 Importancia: 0.00033094582123686337\n",
      "--> Variable: 2020-04-02 Importancia: 0.0\n",
      "--> Variable: 2020-04-03 Importancia: 0.0005455817179853966\n",
      "--> Variable: 2020-04-04 Importancia: 0.0005967431701442566\n",
      "--> Variable: 2020-04-05 Importancia: 0.001225106335000217\n",
      "--> Variable: 2020-04-06 Importancia: 0.00038697074803327333\n",
      "--> Variable: 2020-04-07 Importancia: 0.0006916069542743929\n",
      "--> Variable: 2020-04-08 Importancia: 0.0011158158232067862\n",
      "--> Variable: 2020-04-09 Importancia: 1.1761373699311377e-05\n",
      "--> Variable: 2020-04-10 Importancia: 0.0003018350835868223\n",
      "--> Variable: 2020-04-11 Importancia: 0.0004979492795300104\n",
      "--> Variable: 2020-04-12 Importancia: 0.001757458130258354\n",
      "--> Variable: 2020-04-13 Importancia: 0.001001606313084268\n",
      "--> Variable: 2020-04-14 Importancia: 0.000838250988656156\n",
      "--> Variable: 2020-04-15 Importancia: 0.0020525643327828805\n",
      "--> Variable: 2020-04-16 Importancia: 0.0001686381997239328\n",
      "--> Variable: 2020-04-17 Importancia: 0.0007959900025183594\n",
      "--> Variable: 2020-04-18 Importancia: 0.0005029287841488444\n",
      "--> Variable: 2020-04-19 Importancia: 3.0625317229358846e-06\n",
      "--> Variable: 2020-04-20 Importancia: 0.0008204625315830813\n",
      "--> Variable: 2020-04-21 Importancia: 0.0016305294783131741\n",
      "--> Variable: 2020-04-22 Importancia: 0.0008987572611778869\n",
      "--> Variable: 2020-04-23 Importancia: 0.0012745604649029147\n",
      "--> Variable: 2020-04-24 Importancia: 0.0008444618299360992\n",
      "--> Variable: 2020-04-25 Importancia: 0.0013947198796738897\n",
      "--> Variable: 2020-04-26 Importancia: 0.0010707510555933364\n",
      "--> Variable: 2020-04-27 Importancia: 0.0012172468278018331\n",
      "--> Variable: 2020-04-28 Importancia: 0.0013601585869975385\n",
      "--> Variable: 2020-04-29 Importancia: 0.000498142089146192\n",
      "--> Variable: 2020-04-30 Importancia: 0.0008606658935466198\n",
      "--> Variable: 2020-05-02 Importancia: 0.0010166548405071301\n",
      "--> Variable: 2020-05-03 Importancia: 0.0004337233065258401\n",
      "--> Variable: 2020-05-04 Importancia: 0.0019273658597712448\n",
      "--> Variable: 2020-05-05 Importancia: 0.0016645019395470433\n",
      "--> Variable: 2020-05-06 Importancia: 0.0013416286488308663\n",
      "--> Variable: 2020-05-07 Importancia: 0.0009108988437522826\n",
      "--> Variable: 2020-05-08 Importancia: 0.00113074178033206\n",
      "--> Variable: 2020-05-09 Importancia: 0.00047722445674604875\n",
      "--> Variable: 2020-05-10 Importancia: 0.000550763508021267\n",
      "--> Variable: 2020-05-11 Importancia: 0.000989096189906086\n",
      "--> Variable: 2020-05-12 Importancia: 0.00013896494417223757\n",
      "--> Variable: 2020-05-13 Importancia: 0.0018732894745595347\n",
      "--> Variable: 2020-05-14 Importancia: 0.0012952544183156428\n",
      "--> Variable: 2020-05-15 Importancia: 0.0022995457727064523\n",
      "--> Variable: 2020-05-16 Importancia: 0.000459441053630247\n",
      "--> Variable: 2020-05-17 Importancia: 0.001387309990274135\n",
      "--> Variable: 2020-05-18 Importancia: 0.0006220789523603637\n",
      "--> Variable: 2020-05-19 Importancia: 0.000650848223997693\n",
      "--> Variable: 2020-05-20 Importancia: 0.0020053558677285296\n",
      "--> Variable: 2020-05-21 Importancia: 0.0009639545113480968\n",
      "--> Variable: 2020-05-22 Importancia: 0.0026723353521207155\n",
      "--> Variable: 2020-05-23 Importancia: 0.0012562642750234842\n",
      "--> Variable: 2020-05-24 Importancia: 0.0021708790169721543\n",
      "--> Variable: 2020-05-25 Importancia: 0.0003019112411837308\n",
      "--> Variable: 2020-05-26 Importancia: 0.0010320318038143969\n",
      "--> Variable: 2020-05-27 Importancia: 0.0006894032867097463\n",
      "--> Variable: 2020-05-28 Importancia: 0.00017921828474747566\n",
      "--> Variable: 2020-05-29 Importancia: 0.0014814487228597573\n",
      "--> Variable: 2020-05-30 Importancia: 0.0007888342815380296\n",
      "--> Variable: 2020-05-31 Importancia: 0.0014240799298030704\n",
      "--> Variable: 2020-06-01 Importancia: 0.0008834647549126307\n",
      "--> Variable: 2020-06-02 Importancia: 0.0013310886938563181\n",
      "--> Variable: 2020-06-03 Importancia: 0.0024655263716363658\n",
      "--> Variable: 2020-06-04 Importancia: 0.0015390534465663272\n",
      "--> Variable: 2020-06-05 Importancia: 0.0024910030475093787\n",
      "--> Variable: 2020-06-06 Importancia: 0.0007836155827578415\n",
      "--> Variable: 2020-06-07 Importancia: 0.0011699017719667172\n",
      "--> Variable: 2020-06-08 Importancia: 0.0006557251956883284\n",
      "--> Variable: 2020-06-09 Importancia: 0.0011549008752044204\n",
      "--> Variable: 2020-06-10 Importancia: 0.002397794029549678\n",
      "--> Variable: 2020-06-11 Importancia: 0.000770394463054526\n",
      "--> Variable: 2020-06-12 Importancia: 0.0012154458962290277\n",
      "--> Variable: 2020-06-13 Importancia: 0.0007980044084240957\n",
      "--> Variable: 2020-06-14 Importancia: 0.0011219523974276807\n",
      "--> Variable: 2020-06-15 Importancia: 0.0005481395684503624\n",
      "--> Variable: 2020-06-16 Importancia: 0.0005684430007514965\n",
      "--> Variable: 2020-06-17 Importancia: 0.0\n",
      "--> Variable: 2020-06-18 Importancia: 6.401822565898437e-05\n",
      "--> Variable: 2020-06-19 Importancia: 0.0016746435698473366\n",
      "--> Variable: 2020-06-20 Importancia: 0.0006798077399354696\n",
      "--> Variable: 2020-06-21 Importancia: 0.0006191184073323072\n",
      "--> Variable: 2020-06-22 Importancia: 0.0004608601435837428\n",
      "--> Variable: 20000564 Importancia: 0.0014951033563555122\n",
      "--> Variable: 20000770 Importancia: 0.0\n",
      "--> Variable: 20000778 Importancia: 0.0005608266583534368\n",
      "--> Variable: 20000847 Importancia: 0.0014396148904200522\n",
      "--> Variable: 20000868 Importancia: 0.002017230396226544\n",
      "--> Variable: 20000875 Importancia: 0.004276523578834493\n",
      "--> Variable: 20000905 Importancia: 0.0014847614715119725\n",
      "--> Variable: 20000964 Importancia: 0.001124591463933935\n",
      "--> Variable: 20001014 Importancia: 0.0018202549276761409\n",
      "--> Variable: 20001236 Importancia: 0.0006700208283481836\n",
      "--> Variable: 20001237 Importancia: 0.0014396217204251413\n",
      "--> Variable: 20001512 Importancia: 0.0017963618659440047\n",
      "--> Variable: 20001526 Importancia: 0.0008046960719206357\n",
      "--> Variable: 20002297 Importancia: 0.0020448636201345193\n",
      "--> Variable: 20002520 Importancia: 0.0016121321245712067\n",
      "--> Variable: 20002787 Importancia: 0.0013308869475735783\n",
      "--> Variable: 20003239 Importancia: 0.0016771663594689792\n",
      "--> Variable: 20003244 Importancia: 0.000253887644282027\n",
      "--> Variable: 20003260 Importancia: 0.001803076767660684\n",
      "--> Variable: 20003278 Importancia: 0.003301273143498802\n",
      "--> Variable: 20003408 Importancia: 0.001679921599765227\n",
      "--> Variable: 20003778 Importancia: 0.0015874864163183833\n",
      "--> Variable: 20003779 Importancia: 0.004060843847558224\n",
      "--> Variable: 20003858 Importancia: 0.0004370148022266026\n",
      "--> Variable: 20004398 Importancia: 0.002021600573149013\n",
      "--> Variable: 20004884 Importancia: 0.0008533773279235301\n",
      "--> Variable: 20004895 Importancia: 0.0028991933896909067\n",
      "--> Variable: 20005055 Importancia: 0.001422270941695454\n",
      "--> Variable: 20005968 Importancia: 0.002210611137212746\n",
      "--> Variable: 20006912 Importancia: 0.0014222606011691093\n",
      "--> Variable: 1988-09-01 Importancia: 0.0012311637778815892\n",
      "--> Variable: 1996-07-01 Importancia: 0.0\n",
      "--> Variable: 1996-09-23 Importancia: 0.000917724194461898\n",
      "--> Variable: 1996-12-17 Importancia: 0.0016602381496825854\n",
      "--> Variable: 1997-02-01 Importancia: 0.001549877395004863\n",
      "--> Variable: 1997-03-19 Importancia: 0.004316862666358687\n",
      "--> Variable: 1997-12-01 Importancia: 0.0019898954126670166\n",
      "--> Variable: 1998-03-25 Importancia: 0.0011463125052470484\n",
      "--> Variable: 1998-03-31 Importancia: 0.002112231913552646\n",
      "--> Variable: 2003-05-30 Importancia: 0.0006838174249537067\n",
      "--> Variable: 2003-06-01 Importancia: 0.0009655561247412833\n",
      "--> Variable: 2006-02-16 Importancia: 0.0024303933137799815\n",
      "--> Variable: 2006-03-29 Importancia: 0.0012555532049792057\n",
      "--> Variable: 2008-08-12 Importancia: 0.0019434796112760484\n",
      "--> Variable: 2011-01-17 Importancia: 0.0017969692843354146\n",
      "--> Variable: 2011-04-01 Importancia: 0.0032507922854861536\n",
      "--> Variable: 2011-07-01 Importancia: 0.0018842335041248394\n",
      "--> Variable: 2011-10-01 Importancia: 0.0013072925263257229\n",
      "--> Variable: 2012-02-20 Importancia: 0.0004519431800705672\n",
      "--> Variable: 2012-11-07 Importancia: 0.0014717334646405886\n",
      "--> Variable: 2013-03-01 Importancia: 0.0026804416019587914\n",
      "--> Variable: 2013-09-01 Importancia: 0.0023235647940748113\n",
      "--> Variable: 2013-11-01 Importancia: 0.0011125526056885709\n",
      "--> Variable: 2017-03-08 Importancia: 0.0026906039562557015\n",
      "--> Variable: 2019-06-03 Importancia: 0.001303818466970032\n",
      "--> Variable: 1 - Evaluación de tiempos, real Importancia: 0.0015925561801242683\n",
      "--> Variable: 9 - Evaluación de tiempos, teórico Importancia: 0.0024344049782117783\n"
     ]
    }
   ],
   "source": [
    "for i in range(len(importancia)):\n",
    "  print(f'--> Variable: {train.columns[i+1]} Importancia: {importancia[i]}')"
   ]
  },
  {
   "cell_type": "code",
   "execution_count": null,
   "metadata": {
    "colab": {},
    "colab_type": "code",
    "id": "sLH2I5mHqqXM"
   },
   "outputs": [],
   "source": []
  },
  {
   "cell_type": "markdown",
   "metadata": {
    "colab_type": "text",
    "id": "VclFUGM2kD6I"
   },
   "source": [
    "##PCA"
   ]
  },
  {
   "cell_type": "code",
   "execution_count": 138,
   "metadata": {
    "colab": {},
    "colab_type": "code",
    "id": "6l0XtmsfkD6N"
   },
   "outputs": [],
   "source": [
    "from sklearn.decomposition import PCA"
   ]
  },
  {
   "cell_type": "code",
   "execution_count": 139,
   "metadata": {
    "colab": {},
    "colab_type": "code",
    "id": "DA01spFYkD6S"
   },
   "outputs": [],
   "source": [
    "pca = PCA(n_components=2)"
   ]
  },
  {
   "cell_type": "code",
   "execution_count": 140,
   "metadata": {
    "colab": {
     "base_uri": "https://localhost:8080/",
     "height": 51
    },
    "colab_type": "code",
    "id": "JYgEhJDgkD6X",
    "outputId": "f0905f99-1867-425d-be2d-3c76a7dfd01b"
   },
   "outputs": [
    {
     "data": {
      "text/plain": [
       "PCA(copy=True, iterated_power='auto', n_components=2, random_state=None,\n",
       "    svd_solver='auto', tol=0.0, whiten=False)"
      ]
     },
     "execution_count": 140,
     "metadata": {},
     "output_type": "execute_result"
    }
   ],
   "source": [
    "pca.fit(train)"
   ]
  },
  {
   "cell_type": "code",
   "execution_count": 141,
   "metadata": {
    "colab": {},
    "colab_type": "code",
    "id": "aqeUrCnukD6b"
   },
   "outputs": [],
   "source": [
    "x_pca = pca.transform(train)"
   ]
  },
  {
   "cell_type": "code",
   "execution_count": 142,
   "metadata": {
    "colab": {
     "base_uri": "https://localhost:8080/",
     "height": 136
    },
    "colab_type": "code",
    "id": "b1fzOhtMkD6e",
    "outputId": "5f9e1f49-7efb-4bfb-ad94-3c0bbe9b3144"
   },
   "outputs": [
    {
     "data": {
      "text/plain": [
       "array([[ 1.13266069,  1.08099943],\n",
       "       [-1.88372593, -0.59687473],\n",
       "       [ 0.8557531 , -1.71390944],\n",
       "       ...,\n",
       "       [ 0.05194789,  0.66490803],\n",
       "       [-1.21845897, -0.22172233],\n",
       "       [-2.51339979, -0.69984712]])"
      ]
     },
     "execution_count": 142,
     "metadata": {},
     "output_type": "execute_result"
    }
   ],
   "source": [
    "x_pca"
   ]
  },
  {
   "cell_type": "code",
   "execution_count": 143,
   "metadata": {
    "colab": {
     "base_uri": "https://localhost:8080/",
     "height": 34
    },
    "colab_type": "code",
    "id": "6C1Wn1ULkD6h",
    "outputId": "1f340510-f556-4651-c9b5-a3782c8be551"
   },
   "outputs": [
    {
     "data": {
      "text/plain": [
       "(1825, 2)"
      ]
     },
     "execution_count": 143,
     "metadata": {},
     "output_type": "execute_result"
    }
   ],
   "source": [
    "x_pca.shape"
   ]
  },
  {
   "cell_type": "code",
   "execution_count": 144,
   "metadata": {
    "colab": {
     "base_uri": "https://localhost:8080/",
     "height": 427
    },
    "colab_type": "code",
    "id": "32b3BmdEkD6m",
    "outputId": "7b7d0383-d413-407d-a72f-4b5dd148db84"
   },
   "outputs": [
    {
     "data": {
      "text/plain": [
       "Text(0.5, 1.0, 'PCA')"
      ]
     },
     "execution_count": 144,
     "metadata": {},
     "output_type": "execute_result"
    },
    {
     "data": {
      "image/png": "[encoded data removed]",
      "text/plain": [
       "<Figure size 576x432 with 1 Axes>"
      ]
     },
     "metadata": {},
     "output_type": "display_data"
    }
   ],
   "source": [
    "plt.figure(figsize=(8,6))\n",
    "ax = sns.scatterplot(x_pca[:,0],x_pca[:,1], hue=train['Demora (bin)'], alpha=0.3)\n",
    "plt.xlabel('Componente Principal 1')\n",
    "plt.ylabel('Componente Principal 2')\n",
    "plt.title('PCA')"
   ]
  },
  {
   "cell_type": "code",
   "execution_count": null,
   "metadata": {
    "colab": {},
    "colab_type": "code",
    "id": "497bZrR0kYiu"
   },
   "outputs": [],
   "source": []
  }
 ],
 "metadata": {
  "colab": {
   "authorship_tag": "ABX9TyO7M8UieuPOLvKLjEIdyq27",
   "include_colab_link": true,
   "name": "Project_Cap.ipynb",
   "provenance": [],
   "toc_visible": true
  },
  "kernelspec": {
   "display_name": "Python 3",
   "language": "python",
   "name": "python3"
  },
  "language_info": {
   "codemirror_mode": {
    "name": "ipython",
    "version": 3
   },
   "file_extension": ".py",
   "mimetype": "text/x-python",
   "name": "python",
   "nbconvert_exporter": "python",
   "pygments_lexer": "ipython3",
   "version": "3.7.6"
  }
 },
 "nbformat": 4,
 "nbformat_minor": 1
}
