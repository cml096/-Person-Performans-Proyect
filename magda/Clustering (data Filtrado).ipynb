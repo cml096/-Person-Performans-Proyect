{
 "cells": [
  {
   "cell_type": "markdown",
   "metadata": {},
   "source": [
    "# Clustering con data filtrada\n",
    "En este jupyter se probarán modelos de clustering con la data filtrada tomando en cuenta solamente los datos de palas, con toneladas y tiempos efectivos distintos de cero, para asi clasificar segun el rendimiento."
   ]
  },
  {
   "cell_type": "code",
   "execution_count": 1,
   "metadata": {},
   "outputs": [],
   "source": [
    "import pandas as pd\n",
    "import numpy as np\n",
    "import matplotlib.pyplot as plt\n",
    "import seaborn as sns; sns.set()"
   ]
  },
  {
   "cell_type": "code",
   "execution_count": 2,
   "metadata": {},
   "outputs": [
    {
     "data": {
      "text/html": [
       "<div>\n",
       "<style scoped>\n",
       "    .dataframe tbody tr th:only-of-type {\n",
       "        vertical-align: middle;\n",
       "    }\n",
       "\n",
       "    .dataframe tbody tr th {\n",
       "        vertical-align: top;\n",
       "    }\n",
       "\n",
       "    .dataframe thead th {\n",
       "        text-align: right;\n",
       "    }\n",
       "</style>\n",
       "<table border=\"1\" class=\"dataframe\">\n",
       "  <thead>\n",
       "    <tr style=\"text-align: right;\">\n",
       "      <th></th>\n",
       "      <th>ID</th>\n",
       "      <th>shiftdate</th>\n",
       "      <th>shiftindex</th>\n",
       "      <th>shift#</th>\n",
       "      <th>start</th>\n",
       "      <th>crew#</th>\n",
       "      <th>crew</th>\n",
       "      <th>eqmtid</th>\n",
       "      <th>logintime</th>\n",
       "      <th>locid</th>\n",
       "      <th>...</th>\n",
       "      <th>tmcat10</th>\n",
       "      <th>tmcat11</th>\n",
       "      <th>tmcat12</th>\n",
       "      <th>tmcat13</th>\n",
       "      <th>tmcat14</th>\n",
       "      <th>tmcat15</th>\n",
       "      <th>tmcat16</th>\n",
       "      <th>tmcat17</th>\n",
       "      <th>tmcat18</th>\n",
       "      <th>tmcat19</th>\n",
       "    </tr>\n",
       "  </thead>\n",
       "  <tbody>\n",
       "    <tr>\n",
       "      <th>0</th>\n",
       "      <td>1</td>\n",
       "      <td>2019-07-01</td>\n",
       "      <td>36157</td>\n",
       "      <td>2</td>\n",
       "      <td>28800</td>\n",
       "      <td>4</td>\n",
       "      <td>G2</td>\n",
       "      <td>428</td>\n",
       "      <td>36957</td>\n",
       "      <td></td>\n",
       "      <td>...</td>\n",
       "      <td>0</td>\n",
       "      <td>0</td>\n",
       "      <td>0</td>\n",
       "      <td>0</td>\n",
       "      <td>0</td>\n",
       "      <td>0</td>\n",
       "      <td>0</td>\n",
       "      <td>0</td>\n",
       "      <td>0</td>\n",
       "      <td>0</td>\n",
       "    </tr>\n",
       "    <tr>\n",
       "      <th>1</th>\n",
       "      <td>2</td>\n",
       "      <td>2019-07-01</td>\n",
       "      <td>36157</td>\n",
       "      <td>2</td>\n",
       "      <td>28800</td>\n",
       "      <td>4</td>\n",
       "      <td>G2</td>\n",
       "      <td>429</td>\n",
       "      <td>0</td>\n",
       "      <td></td>\n",
       "      <td>...</td>\n",
       "      <td>0</td>\n",
       "      <td>0</td>\n",
       "      <td>0</td>\n",
       "      <td>0</td>\n",
       "      <td>0</td>\n",
       "      <td>0</td>\n",
       "      <td>0</td>\n",
       "      <td>0</td>\n",
       "      <td>0</td>\n",
       "      <td>0</td>\n",
       "    </tr>\n",
       "    <tr>\n",
       "      <th>2</th>\n",
       "      <td>3</td>\n",
       "      <td>2019-07-01</td>\n",
       "      <td>36157</td>\n",
       "      <td>2</td>\n",
       "      <td>28800</td>\n",
       "      <td>4</td>\n",
       "      <td>G2</td>\n",
       "      <td>429</td>\n",
       "      <td>3110</td>\n",
       "      <td></td>\n",
       "      <td>...</td>\n",
       "      <td>0</td>\n",
       "      <td>0</td>\n",
       "      <td>0</td>\n",
       "      <td>0</td>\n",
       "      <td>0</td>\n",
       "      <td>0</td>\n",
       "      <td>0</td>\n",
       "      <td>0</td>\n",
       "      <td>0</td>\n",
       "      <td>0</td>\n",
       "    </tr>\n",
       "    <tr>\n",
       "      <th>3</th>\n",
       "      <td>4</td>\n",
       "      <td>2019-07-01</td>\n",
       "      <td>36157</td>\n",
       "      <td>2</td>\n",
       "      <td>28800</td>\n",
       "      <td>4</td>\n",
       "      <td>G2</td>\n",
       "      <td>430</td>\n",
       "      <td>0</td>\n",
       "      <td></td>\n",
       "      <td>...</td>\n",
       "      <td>0</td>\n",
       "      <td>0</td>\n",
       "      <td>0</td>\n",
       "      <td>0</td>\n",
       "      <td>0</td>\n",
       "      <td>0</td>\n",
       "      <td>0</td>\n",
       "      <td>0</td>\n",
       "      <td>0</td>\n",
       "      <td>0</td>\n",
       "    </tr>\n",
       "    <tr>\n",
       "      <th>4</th>\n",
       "      <td>5</td>\n",
       "      <td>2019-07-01</td>\n",
       "      <td>36157</td>\n",
       "      <td>2</td>\n",
       "      <td>28800</td>\n",
       "      <td>4</td>\n",
       "      <td>G2</td>\n",
       "      <td>430</td>\n",
       "      <td>2776</td>\n",
       "      <td></td>\n",
       "      <td>...</td>\n",
       "      <td>0</td>\n",
       "      <td>0</td>\n",
       "      <td>0</td>\n",
       "      <td>0</td>\n",
       "      <td>0</td>\n",
       "      <td>0</td>\n",
       "      <td>0</td>\n",
       "      <td>0</td>\n",
       "      <td>0</td>\n",
       "      <td>0</td>\n",
       "    </tr>\n",
       "  </tbody>\n",
       "</table>\n",
       "<p>5 rows × 41 columns</p>\n",
       "</div>"
      ],
      "text/plain": [
       "   ID  shiftdate  shiftindex  shift#  start  crew# crew eqmtid  logintime  \\\n",
       "0   1 2019-07-01       36157       2  28800      4   G2    428      36957   \n",
       "1   2 2019-07-01       36157       2  28800      4   G2    429          0   \n",
       "2   3 2019-07-01       36157       2  28800      4   G2    429       3110   \n",
       "3   4 2019-07-01       36157       2  28800      4   G2    430          0   \n",
       "4   5 2019-07-01       36157       2  28800      4   G2    430       2776   \n",
       "\n",
       "  locid  ... tmcat10  tmcat11 tmcat12  tmcat13 tmcat14  tmcat15  tmcat16  \\\n",
       "0        ...       0        0       0        0       0        0        0   \n",
       "1        ...       0        0       0        0       0        0        0   \n",
       "2        ...       0        0       0        0       0        0        0   \n",
       "3        ...       0        0       0        0       0        0        0   \n",
       "4        ...       0        0       0        0       0        0        0   \n",
       "\n",
       "   tmcat17  tmcat18  tmcat19  \n",
       "0        0        0        0  \n",
       "1        0        0        0  \n",
       "2        0        0        0  \n",
       "3        0        0        0  \n",
       "4        0        0        0  \n",
       "\n",
       "[5 rows x 41 columns]"
      ]
     },
     "execution_count": 2,
     "metadata": {},
     "output_type": "execute_result"
    }
   ],
   "source": [
    "df = pd.read_excel('dataframe.xlsx', sheet_name='Hoja1')\n",
    "df.head()"
   ]
  },
  {
   "cell_type": "code",
   "execution_count": 3,
   "metadata": {},
   "outputs": [],
   "source": [
    "df.drop(columns=['tmcat00','tmcat08', 'tmcat09', 'tmcat10',\n",
    "       'tmcat11', 'tmcat12', 'tmcat13', 'tmcat14', 'tmcat15', 'tmcat16',\n",
    "       'tmcat17', 'tmcat18', 'tmcat19'],inplace=True)"
   ]
  },
  {
   "cell_type": "code",
   "execution_count": 4,
   "metadata": {},
   "outputs": [],
   "source": [
    "df = df.rename(columns={'shiftdate':'Fecha_carga'})\n",
    "df = df.rename(columns={'shiftindex':'indice_turno'})\n",
    "df = df.rename(columns={'shift#':'turno'})\n",
    "df = df.rename(columns={'start':'inicio_turno'})\n",
    "df = df.rename(columns={'crew#':'id_grupo'})\n",
    "df = df.rename(columns={'crew':'nom_grupo'})\n",
    "df = df.rename(columns={'eqmtid':'id_equipo_operado'})\n",
    "df = df.rename(columns={'logintime':'inicio_loginop'})\n",
    "df = df.rename(columns={'locid':'lugar_operacion'})\n",
    "df = df.rename(columns={'operid':'id_operador'})\n",
    "df = df.rename(columns={'totaltime':'duracion_login'})\n",
    "df = df.rename(columns={'pit':'area_mina'})\n",
    "df = df.rename(columns={'unit#':'id_tipoeq'})\n",
    "df = df.rename(columns={'unit':'glosa_tipoeq'})\n",
    "df = df.rename(columns={'unit#':'id_tipoeq'})\n",
    "df = df.rename(columns={'totalloads':'total_cargas'})\n",
    "df = df.rename(columns={'totaltons':'total_tons'})\n",
    "df = df.rename(columns={'loadtime':'ttotal_cargas'})\n",
    "df = df.rename(columns={'idletime':'ttotal_espera'})\n",
    "df = df.rename(columns={'spottime':'ttotal_aculatamiento'})\n",
    "df = df.rename(columns={'loadcnt':'contador_cargas'})\n",
    "#df = df.rename(columns={'tmcat00':''})\n",
    "df = df.rename(columns={'tmcat01':'t_efectivo'})\n",
    "df = df.rename(columns={'tmcat02':'t_noproductivo'})\n",
    "df = df.rename(columns={'tmcat03':'t_demoraoperacional'})\n",
    "df = df.rename(columns={'tmcat04':'t_reserva'})\n",
    "df = df.rename(columns={'tmcat05':'t_mantencionNP'})\n",
    "df = df.rename(columns={'tmcat06':'t_inhabil'})\n",
    "df = df.rename(columns={'tmcat07':'t_mantencionP'})"
   ]
  },
  {
   "cell_type": "code",
   "execution_count": 5,
   "metadata": {},
   "outputs": [
    {
     "data": {
      "text/html": [
       "<div>\n",
       "<style scoped>\n",
       "    .dataframe tbody tr th:only-of-type {\n",
       "        vertical-align: middle;\n",
       "    }\n",
       "\n",
       "    .dataframe tbody tr th {\n",
       "        vertical-align: top;\n",
       "    }\n",
       "\n",
       "    .dataframe thead th {\n",
       "        text-align: right;\n",
       "    }\n",
       "</style>\n",
       "<table border=\"1\" class=\"dataframe\">\n",
       "  <thead>\n",
       "    <tr style=\"text-align: right;\">\n",
       "      <th></th>\n",
       "      <th>ID</th>\n",
       "      <th>Fecha_carga</th>\n",
       "      <th>indice_turno</th>\n",
       "      <th>turno</th>\n",
       "      <th>inicio_turno</th>\n",
       "      <th>id_grupo</th>\n",
       "      <th>nom_grupo</th>\n",
       "      <th>id_equipo_operado</th>\n",
       "      <th>inicio_loginop</th>\n",
       "      <th>lugar_operacion</th>\n",
       "      <th>...</th>\n",
       "      <th>ttotal_espera</th>\n",
       "      <th>ttotal_aculatamiento</th>\n",
       "      <th>contador_cargas</th>\n",
       "      <th>t_efectivo</th>\n",
       "      <th>t_noproductivo</th>\n",
       "      <th>t_demoraoperacional</th>\n",
       "      <th>t_reserva</th>\n",
       "      <th>t_mantencionNP</th>\n",
       "      <th>t_inhabil</th>\n",
       "      <th>t_mantencionP</th>\n",
       "    </tr>\n",
       "  </thead>\n",
       "  <tbody>\n",
       "    <tr>\n",
       "      <th>0</th>\n",
       "      <td>1</td>\n",
       "      <td>2019-07-01</td>\n",
       "      <td>36157</td>\n",
       "      <td>2</td>\n",
       "      <td>28800</td>\n",
       "      <td>4</td>\n",
       "      <td>G2</td>\n",
       "      <td>428</td>\n",
       "      <td>36957</td>\n",
       "      <td></td>\n",
       "      <td>...</td>\n",
       "      <td>262</td>\n",
       "      <td>337</td>\n",
       "      <td>3</td>\n",
       "      <td>5784</td>\n",
       "      <td>0</td>\n",
       "      <td>459</td>\n",
       "      <td>0</td>\n",
       "      <td>0</td>\n",
       "      <td>0</td>\n",
       "      <td>0</td>\n",
       "    </tr>\n",
       "    <tr>\n",
       "      <th>1</th>\n",
       "      <td>2</td>\n",
       "      <td>2019-07-01</td>\n",
       "      <td>36157</td>\n",
       "      <td>2</td>\n",
       "      <td>28800</td>\n",
       "      <td>4</td>\n",
       "      <td>G2</td>\n",
       "      <td>429</td>\n",
       "      <td>0</td>\n",
       "      <td></td>\n",
       "      <td>...</td>\n",
       "      <td>0</td>\n",
       "      <td>0</td>\n",
       "      <td>1</td>\n",
       "      <td>0</td>\n",
       "      <td>0</td>\n",
       "      <td>0</td>\n",
       "      <td>3110</td>\n",
       "      <td>0</td>\n",
       "      <td>0</td>\n",
       "      <td>0</td>\n",
       "    </tr>\n",
       "    <tr>\n",
       "      <th>2</th>\n",
       "      <td>3</td>\n",
       "      <td>2019-07-01</td>\n",
       "      <td>36157</td>\n",
       "      <td>2</td>\n",
       "      <td>28800</td>\n",
       "      <td>4</td>\n",
       "      <td>G2</td>\n",
       "      <td>429</td>\n",
       "      <td>3110</td>\n",
       "      <td></td>\n",
       "      <td>...</td>\n",
       "      <td>1443</td>\n",
       "      <td>1334</td>\n",
       "      <td>19</td>\n",
       "      <td>29034</td>\n",
       "      <td>0</td>\n",
       "      <td>450</td>\n",
       "      <td>6264</td>\n",
       "      <td>0</td>\n",
       "      <td>4342</td>\n",
       "      <td>0</td>\n",
       "    </tr>\n",
       "    <tr>\n",
       "      <th>3</th>\n",
       "      <td>4</td>\n",
       "      <td>2019-07-01</td>\n",
       "      <td>36157</td>\n",
       "      <td>2</td>\n",
       "      <td>28800</td>\n",
       "      <td>4</td>\n",
       "      <td>G2</td>\n",
       "      <td>430</td>\n",
       "      <td>0</td>\n",
       "      <td></td>\n",
       "      <td>...</td>\n",
       "      <td>0</td>\n",
       "      <td>0</td>\n",
       "      <td>0</td>\n",
       "      <td>8</td>\n",
       "      <td>0</td>\n",
       "      <td>0</td>\n",
       "      <td>2768</td>\n",
       "      <td>0</td>\n",
       "      <td>0</td>\n",
       "      <td>0</td>\n",
       "    </tr>\n",
       "    <tr>\n",
       "      <th>4</th>\n",
       "      <td>5</td>\n",
       "      <td>2019-07-01</td>\n",
       "      <td>36157</td>\n",
       "      <td>2</td>\n",
       "      <td>28800</td>\n",
       "      <td>4</td>\n",
       "      <td>G2</td>\n",
       "      <td>430</td>\n",
       "      <td>2776</td>\n",
       "      <td></td>\n",
       "      <td>...</td>\n",
       "      <td>171</td>\n",
       "      <td>1744</td>\n",
       "      <td>19</td>\n",
       "      <td>30466</td>\n",
       "      <td>0</td>\n",
       "      <td>1042</td>\n",
       "      <td>4657</td>\n",
       "      <td>0</td>\n",
       "      <td>4259</td>\n",
       "      <td>0</td>\n",
       "    </tr>\n",
       "  </tbody>\n",
       "</table>\n",
       "<p>5 rows × 28 columns</p>\n",
       "</div>"
      ],
      "text/plain": [
       "   ID Fecha_carga  indice_turno  turno  inicio_turno  id_grupo nom_grupo  \\\n",
       "0   1  2019-07-01         36157      2         28800         4        G2   \n",
       "1   2  2019-07-01         36157      2         28800         4        G2   \n",
       "2   3  2019-07-01         36157      2         28800         4        G2   \n",
       "3   4  2019-07-01         36157      2         28800         4        G2   \n",
       "4   5  2019-07-01         36157      2         28800         4        G2   \n",
       "\n",
       "  id_equipo_operado  inicio_loginop lugar_operacion  ... ttotal_espera  \\\n",
       "0               428           36957                  ...           262   \n",
       "1               429               0                  ...             0   \n",
       "2               429            3110                  ...          1443   \n",
       "3               430               0                  ...             0   \n",
       "4               430            2776                  ...           171   \n",
       "\n",
       "   ttotal_aculatamiento contador_cargas  t_efectivo t_noproductivo  \\\n",
       "0                   337               3        5784              0   \n",
       "1                     0               1           0              0   \n",
       "2                  1334              19       29034              0   \n",
       "3                     0               0           8              0   \n",
       "4                  1744              19       30466              0   \n",
       "\n",
       "   t_demoraoperacional  t_reserva  t_mantencionNP  t_inhabil  t_mantencionP  \n",
       "0                  459          0               0          0              0  \n",
       "1                    0       3110               0          0              0  \n",
       "2                  450       6264               0       4342              0  \n",
       "3                    0       2768               0          0              0  \n",
       "4                 1042       4657               0       4259              0  \n",
       "\n",
       "[5 rows x 28 columns]"
      ]
     },
     "execution_count": 5,
     "metadata": {},
     "output_type": "execute_result"
    }
   ],
   "source": [
    "df.head()"
   ]
  },
  {
   "cell_type": "code",
   "execution_count": 6,
   "metadata": {},
   "outputs": [],
   "source": [
    "df.indice_turno = df.indice_turno.astype(int)\n",
    "df.inicio_turno = df.inicio_turno.astype(int)\n",
    "df.id_grupo = df.id_grupo.astype(int)\n",
    "df.inicio_loginop = df.inicio_loginop.astype(int)\n",
    "df.duracion_login = df.duracion_login.astype(int)\n",
    "df.total_cargas = df.total_cargas.astype(int)\n",
    "df.ttotal_cargas = df.ttotal_cargas.astype(int)\n",
    "df.ttotal_espera = df.ttotal_espera.astype(int)\n",
    "df.ttotal_aculatamiento = df.ttotal_aculatamiento.astype(int)\n",
    "df.contador_cargas = df.contador_cargas.astype(int)\n",
    "df.t_efectivo = df.t_efectivo.astype(int)\n",
    "df.t_noproductivo = df.t_noproductivo.astype(int)\n",
    "df.t_demoraoperacional = df.t_demoraoperacional.astype(int)\n",
    "df.t_reserva = df.t_reserva.astype(int)\n",
    "df.t_mantencionNP = df.t_mantencionNP.astype(int)\n",
    "df.t_inhabil = df.t_inhabil.astype(int)\n",
    "df.t_mantencionP = df.t_mantencionP.astype(int)\n",
    "df.total_tons = df.total_tons.astype(int)"
   ]
  },
  {
   "cell_type": "code",
   "execution_count": 8,
   "metadata": {
    "collapsed": true
   },
   "outputs": [
    {
     "name": "stdout",
     "output_type": "stream",
     "text": [
      "<class 'pandas.core.frame.DataFrame'>\n",
      "RangeIndex: 120441 entries, 0 to 120440\n",
      "Data columns (total 28 columns):\n",
      " #   Column                Non-Null Count   Dtype         \n",
      "---  ------                --------------   -----         \n",
      " 0   ID                    120441 non-null  int64         \n",
      " 1   Fecha_carga           120441 non-null  datetime64[ns]\n",
      " 2   indice_turno          120441 non-null  int32         \n",
      " 3   turno                 120441 non-null  int64         \n",
      " 4   inicio_turno          120441 non-null  int32         \n",
      " 5   id_grupo              120441 non-null  int32         \n",
      " 6   nom_grupo             120441 non-null  object        \n",
      " 7   id_equipo_operado     120441 non-null  object        \n",
      " 8   inicio_loginop        120441 non-null  int32         \n",
      " 9   lugar_operacion       120441 non-null  object        \n",
      " 10  id_operador           120441 non-null  object        \n",
      " 11  duracion_login        120441 non-null  int32         \n",
      " 12  area_mina             120441 non-null  object        \n",
      " 13  id_tipoeq             120441 non-null  int64         \n",
      " 14  glosa_tipoeq          120441 non-null  object        \n",
      " 15  total_cargas          120441 non-null  int32         \n",
      " 16  total_tons            120441 non-null  int32         \n",
      " 17  ttotal_cargas         120441 non-null  int32         \n",
      " 18  ttotal_espera         120441 non-null  int32         \n",
      " 19  ttotal_aculatamiento  120441 non-null  int32         \n",
      " 20  contador_cargas       120441 non-null  int32         \n",
      " 21  t_efectivo            120441 non-null  int32         \n",
      " 22  t_noproductivo        120441 non-null  int32         \n",
      " 23  t_demoraoperacional   120441 non-null  int32         \n",
      " 24  t_reserva             120441 non-null  int32         \n",
      " 25  t_mantencionNP        120441 non-null  int32         \n",
      " 26  t_inhabil             120441 non-null  int32         \n",
      " 27  t_mantencionP         120441 non-null  int32         \n",
      "dtypes: datetime64[ns](1), int32(18), int64(3), object(6)\n",
      "memory usage: 17.5+ MB\n"
     ]
    }
   ],
   "source": [
    "df.info()"
   ]
  },
  {
   "cell_type": "markdown",
   "metadata": {},
   "source": [
    "Tomamos en cuenta solo aquellos valores distintos de cero en total_tons"
   ]
  },
  {
   "cell_type": "code",
   "execution_count": 9,
   "metadata": {},
   "outputs": [],
   "source": [
    "#Filtro 1: camiones y palas\n",
    "df_loads = df[(df.glosa_tipoeq == 'Pala')]"
   ]
  },
  {
   "cell_type": "code",
   "execution_count": 10,
   "metadata": {},
   "outputs": [],
   "source": [
    "# Filtro 2: total tons y t efectivo >0\n",
    "df_sinceros= df_loads[df_loads.total_tons!=0]\n",
    "df_sinceros= df_loads[df_loads.t_efectivo!=0]"
   ]
  },
  {
   "cell_type": "code",
   "execution_count": 11,
   "metadata": {},
   "outputs": [
    {
     "data": {
      "text/html": [
       "<div>\n",
       "<style scoped>\n",
       "    .dataframe tbody tr th:only-of-type {\n",
       "        vertical-align: middle;\n",
       "    }\n",
       "\n",
       "    .dataframe tbody tr th {\n",
       "        vertical-align: top;\n",
       "    }\n",
       "\n",
       "    .dataframe thead th {\n",
       "        text-align: right;\n",
       "    }\n",
       "</style>\n",
       "<table border=\"1\" class=\"dataframe\">\n",
       "  <thead>\n",
       "    <tr style=\"text-align: right;\">\n",
       "      <th></th>\n",
       "      <th>ID</th>\n",
       "      <th>indice_turno</th>\n",
       "      <th>turno</th>\n",
       "      <th>inicio_turno</th>\n",
       "      <th>id_grupo</th>\n",
       "      <th>inicio_loginop</th>\n",
       "      <th>duracion_login</th>\n",
       "      <th>id_tipoeq</th>\n",
       "      <th>total_cargas</th>\n",
       "      <th>total_tons</th>\n",
       "      <th>...</th>\n",
       "      <th>ttotal_espera</th>\n",
       "      <th>ttotal_aculatamiento</th>\n",
       "      <th>contador_cargas</th>\n",
       "      <th>t_efectivo</th>\n",
       "      <th>t_noproductivo</th>\n",
       "      <th>t_demoraoperacional</th>\n",
       "      <th>t_reserva</th>\n",
       "      <th>t_mantencionNP</th>\n",
       "      <th>t_inhabil</th>\n",
       "      <th>t_mantencionP</th>\n",
       "    </tr>\n",
       "  </thead>\n",
       "  <tbody>\n",
       "    <tr>\n",
       "      <th>count</th>\n",
       "      <td>11303.000000</td>\n",
       "      <td>11303.000000</td>\n",
       "      <td>11303.000000</td>\n",
       "      <td>11303.000000</td>\n",
       "      <td>11303.000000</td>\n",
       "      <td>11303.000000</td>\n",
       "      <td>11303.000000</td>\n",
       "      <td>11303.0</td>\n",
       "      <td>11303.000000</td>\n",
       "      <td>11303.000000</td>\n",
       "      <td>...</td>\n",
       "      <td>11303.000000</td>\n",
       "      <td>11303.000000</td>\n",
       "      <td>11303.000000</td>\n",
       "      <td>11303.000000</td>\n",
       "      <td>11303.000000</td>\n",
       "      <td>11303.000000</td>\n",
       "      <td>11303.000000</td>\n",
       "      <td>11303.000000</td>\n",
       "      <td>11303.000000</td>\n",
       "      <td>11303.000000</td>\n",
       "    </tr>\n",
       "    <tr>\n",
       "      <th>mean</th>\n",
       "      <td>60005.347695</td>\n",
       "      <td>36567.354773</td>\n",
       "      <td>1.564010</td>\n",
       "      <td>10034.008670</td>\n",
       "      <td>2.416084</td>\n",
       "      <td>9700.342122</td>\n",
       "      <td>18421.932230</td>\n",
       "      <td>2.0</td>\n",
       "      <td>23.813147</td>\n",
       "      <td>5488.372733</td>\n",
       "      <td>...</td>\n",
       "      <td>6216.301601</td>\n",
       "      <td>1332.230027</td>\n",
       "      <td>23.813147</td>\n",
       "      <td>12339.722286</td>\n",
       "      <td>0.902592</td>\n",
       "      <td>1301.386623</td>\n",
       "      <td>1510.209325</td>\n",
       "      <td>266.463859</td>\n",
       "      <td>2918.506680</td>\n",
       "      <td>84.740865</td>\n",
       "    </tr>\n",
       "    <tr>\n",
       "      <th>std</th>\n",
       "      <td>36173.139989</td>\n",
       "      <td>267.218976</td>\n",
       "      <td>0.495908</td>\n",
       "      <td>21498.876949</td>\n",
       "      <td>1.122956</td>\n",
       "      <td>12373.527487</td>\n",
       "      <td>15590.991776</td>\n",
       "      <td>0.0</td>\n",
       "      <td>33.071438</td>\n",
       "      <td>7627.938888</td>\n",
       "      <td>...</td>\n",
       "      <td>9275.587772</td>\n",
       "      <td>1875.018278</td>\n",
       "      <td>33.071438</td>\n",
       "      <td>11707.031533</td>\n",
       "      <td>82.496018</td>\n",
       "      <td>2193.126176</td>\n",
       "      <td>4744.742925</td>\n",
       "      <td>1800.002219</td>\n",
       "      <td>7504.736058</td>\n",
       "      <td>1181.784328</td>\n",
       "    </tr>\n",
       "    <tr>\n",
       "      <th>min</th>\n",
       "      <td>46.000000</td>\n",
       "      <td>36156.000000</td>\n",
       "      <td>1.000000</td>\n",
       "      <td>-14400.000000</td>\n",
       "      <td>1.000000</td>\n",
       "      <td>0.000000</td>\n",
       "      <td>1.000000</td>\n",
       "      <td>2.0</td>\n",
       "      <td>0.000000</td>\n",
       "      <td>0.000000</td>\n",
       "      <td>...</td>\n",
       "      <td>0.000000</td>\n",
       "      <td>0.000000</td>\n",
       "      <td>0.000000</td>\n",
       "      <td>1.000000</td>\n",
       "      <td>0.000000</td>\n",
       "      <td>0.000000</td>\n",
       "      <td>0.000000</td>\n",
       "      <td>0.000000</td>\n",
       "      <td>0.000000</td>\n",
       "      <td>0.000000</td>\n",
       "    </tr>\n",
       "    <tr>\n",
       "      <th>25%</th>\n",
       "      <td>27638.500000</td>\n",
       "      <td>36327.000000</td>\n",
       "      <td>1.000000</td>\n",
       "      <td>-14400.000000</td>\n",
       "      <td>1.000000</td>\n",
       "      <td>464.000000</td>\n",
       "      <td>4588.500000</td>\n",
       "      <td>2.0</td>\n",
       "      <td>0.000000</td>\n",
       "      <td>0.000000</td>\n",
       "      <td>...</td>\n",
       "      <td>808.500000</td>\n",
       "      <td>0.000000</td>\n",
       "      <td>0.000000</td>\n",
       "      <td>2475.000000</td>\n",
       "      <td>0.000000</td>\n",
       "      <td>0.000000</td>\n",
       "      <td>0.000000</td>\n",
       "      <td>0.000000</td>\n",
       "      <td>0.000000</td>\n",
       "      <td>0.000000</td>\n",
       "    </tr>\n",
       "    <tr>\n",
       "      <th>50%</th>\n",
       "      <td>59022.000000</td>\n",
       "      <td>36536.000000</td>\n",
       "      <td>2.000000</td>\n",
       "      <td>28800.000000</td>\n",
       "      <td>2.000000</td>\n",
       "      <td>1461.000000</td>\n",
       "      <td>13553.000000</td>\n",
       "      <td>2.0</td>\n",
       "      <td>10.000000</td>\n",
       "      <td>2331.000000</td>\n",
       "      <td>...</td>\n",
       "      <td>2351.000000</td>\n",
       "      <td>535.000000</td>\n",
       "      <td>10.000000</td>\n",
       "      <td>8187.000000</td>\n",
       "      <td>0.000000</td>\n",
       "      <td>563.000000</td>\n",
       "      <td>0.000000</td>\n",
       "      <td>0.000000</td>\n",
       "      <td>0.000000</td>\n",
       "      <td>0.000000</td>\n",
       "    </tr>\n",
       "    <tr>\n",
       "      <th>75%</th>\n",
       "      <td>93184.500000</td>\n",
       "      <td>36820.000000</td>\n",
       "      <td>2.000000</td>\n",
       "      <td>28800.000000</td>\n",
       "      <td>3.000000</td>\n",
       "      <td>20002.000000</td>\n",
       "      <td>33189.000000</td>\n",
       "      <td>2.0</td>\n",
       "      <td>33.000000</td>\n",
       "      <td>7678.000000</td>\n",
       "      <td>...</td>\n",
       "      <td>6344.000000</td>\n",
       "      <td>1939.500000</td>\n",
       "      <td>33.000000</td>\n",
       "      <td>19630.500000</td>\n",
       "      <td>0.000000</td>\n",
       "      <td>1800.000000</td>\n",
       "      <td>0.000000</td>\n",
       "      <td>3.000000</td>\n",
       "      <td>3586.000000</td>\n",
       "      <td>0.000000</td>\n",
       "    </tr>\n",
       "    <tr>\n",
       "      <th>max</th>\n",
       "      <td>120393.000000</td>\n",
       "      <td>37027.000000</td>\n",
       "      <td>2.000000</td>\n",
       "      <td>72000.000000</td>\n",
       "      <td>4.000000</td>\n",
       "      <td>43175.000000</td>\n",
       "      <td>43200.000000</td>\n",
       "      <td>2.0</td>\n",
       "      <td>232.000000</td>\n",
       "      <td>50616.000000</td>\n",
       "      <td>...</td>\n",
       "      <td>43200.000000</td>\n",
       "      <td>13801.000000</td>\n",
       "      <td>232.000000</td>\n",
       "      <td>43200.000000</td>\n",
       "      <td>8704.000000</td>\n",
       "      <td>41400.000000</td>\n",
       "      <td>43182.000000</td>\n",
       "      <td>42088.000000</td>\n",
       "      <td>43171.000000</td>\n",
       "      <td>38403.000000</td>\n",
       "    </tr>\n",
       "  </tbody>\n",
       "</table>\n",
       "<p>8 rows × 21 columns</p>\n",
       "</div>"
      ],
      "text/plain": [
       "                  ID  indice_turno         turno  inicio_turno      id_grupo  \\\n",
       "count   11303.000000  11303.000000  11303.000000  11303.000000  11303.000000   \n",
       "mean    60005.347695  36567.354773      1.564010  10034.008670      2.416084   \n",
       "std     36173.139989    267.218976      0.495908  21498.876949      1.122956   \n",
       "min        46.000000  36156.000000      1.000000 -14400.000000      1.000000   \n",
       "25%     27638.500000  36327.000000      1.000000 -14400.000000      1.000000   \n",
       "50%     59022.000000  36536.000000      2.000000  28800.000000      2.000000   \n",
       "75%     93184.500000  36820.000000      2.000000  28800.000000      3.000000   \n",
       "max    120393.000000  37027.000000      2.000000  72000.000000      4.000000   \n",
       "\n",
       "       inicio_loginop  duracion_login  id_tipoeq  total_cargas    total_tons  \\\n",
       "count    11303.000000    11303.000000    11303.0  11303.000000  11303.000000   \n",
       "mean      9700.342122    18421.932230        2.0     23.813147   5488.372733   \n",
       "std      12373.527487    15590.991776        0.0     33.071438   7627.938888   \n",
       "min          0.000000        1.000000        2.0      0.000000      0.000000   \n",
       "25%        464.000000     4588.500000        2.0      0.000000      0.000000   \n",
       "50%       1461.000000    13553.000000        2.0     10.000000   2331.000000   \n",
       "75%      20002.000000    33189.000000        2.0     33.000000   7678.000000   \n",
       "max      43175.000000    43200.000000        2.0    232.000000  50616.000000   \n",
       "\n",
       "       ...  ttotal_espera  ttotal_aculatamiento  contador_cargas  \\\n",
       "count  ...   11303.000000          11303.000000     11303.000000   \n",
       "mean   ...    6216.301601           1332.230027        23.813147   \n",
       "std    ...    9275.587772           1875.018278        33.071438   \n",
       "min    ...       0.000000              0.000000         0.000000   \n",
       "25%    ...     808.500000              0.000000         0.000000   \n",
       "50%    ...    2351.000000            535.000000        10.000000   \n",
       "75%    ...    6344.000000           1939.500000        33.000000   \n",
       "max    ...   43200.000000          13801.000000       232.000000   \n",
       "\n",
       "         t_efectivo  t_noproductivo  t_demoraoperacional     t_reserva  \\\n",
       "count  11303.000000    11303.000000         11303.000000  11303.000000   \n",
       "mean   12339.722286        0.902592          1301.386623   1510.209325   \n",
       "std    11707.031533       82.496018          2193.126176   4744.742925   \n",
       "min        1.000000        0.000000             0.000000      0.000000   \n",
       "25%     2475.000000        0.000000             0.000000      0.000000   \n",
       "50%     8187.000000        0.000000           563.000000      0.000000   \n",
       "75%    19630.500000        0.000000          1800.000000      0.000000   \n",
       "max    43200.000000     8704.000000         41400.000000  43182.000000   \n",
       "\n",
       "       t_mantencionNP     t_inhabil  t_mantencionP  \n",
       "count    11303.000000  11303.000000   11303.000000  \n",
       "mean       266.463859   2918.506680      84.740865  \n",
       "std       1800.002219   7504.736058    1181.784328  \n",
       "min          0.000000      0.000000       0.000000  \n",
       "25%          0.000000      0.000000       0.000000  \n",
       "50%          0.000000      0.000000       0.000000  \n",
       "75%          3.000000   3586.000000       0.000000  \n",
       "max      42088.000000  43171.000000   38403.000000  \n",
       "\n",
       "[8 rows x 21 columns]"
      ]
     },
     "execution_count": 11,
     "metadata": {},
     "output_type": "execute_result"
    }
   ],
   "source": [
    "df_sinceros.describe()"
   ]
  },
  {
   "cell_type": "code",
   "execution_count": 12,
   "metadata": {},
   "outputs": [
    {
     "data": {
      "text/plain": [
       "array(['Pala'], dtype=object)"
      ]
     },
     "execution_count": 12,
     "metadata": {},
     "output_type": "execute_result"
    }
   ],
   "source": [
    "#Filtro de palas\n",
    "df_sinceros['glosa_tipoeq'].unique()"
   ]
  },
  {
   "cell_type": "code",
   "execution_count": 13,
   "metadata": {},
   "outputs": [
    {
     "name": "stderr",
     "output_type": "stream",
     "text": [
      "<ipython-input-13-5a481619c4b0>:2: SettingWithCopyWarning: \n",
      "A value is trying to be set on a copy of a slice from a DataFrame.\n",
      "Try using .loc[row_indexer,col_indexer] = value instead\n",
      "\n",
      "See the caveats in the documentation: https://pandas.pydata.org/pandas-docs/stable/user_guide/indexing.html#returning-a-view-versus-a-copy\n",
      "  df_sinceros['Rendimiento']=(df_sinceros['total_tons']/df_sinceros['t_efectivo'])*(1000/3600)\n"
     ]
    }
   ],
   "source": [
    "#Rendimiento= (total_tons/t_efectivo) * (1000/3600)\n",
    "df_sinceros['Rendimiento']=(df_sinceros['total_tons']/df_sinceros['t_efectivo'])*(1000/3600)"
   ]
  },
  {
   "cell_type": "code",
   "execution_count": 14,
   "metadata": {},
   "outputs": [
    {
     "data": {
      "text/plain": [
       "count    11303.000000\n",
       "mean         0.135628\n",
       "std          0.603687\n",
       "min          0.000000\n",
       "25%          0.000000\n",
       "50%          0.128173\n",
       "75%          0.190550\n",
       "max         55.482456\n",
       "Name: Rendimiento, dtype: float64"
      ]
     },
     "execution_count": 14,
     "metadata": {},
     "output_type": "execute_result"
    }
   ],
   "source": [
    "df_sinceros['Rendimiento'].describe()"
   ]
  },
  {
   "cell_type": "code",
   "execution_count": 15,
   "metadata": {},
   "outputs": [
    {
     "data": {
      "text/plain": [
       "0    0.0\n",
       "dtype: float64"
      ]
     },
     "execution_count": 15,
     "metadata": {},
     "output_type": "execute_result"
    }
   ],
   "source": [
    "df_sinceros['Rendimiento'].mode()"
   ]
  },
  {
   "cell_type": "code",
   "execution_count": 16,
   "metadata": {},
   "outputs": [
    {
     "name": "stderr",
     "output_type": "stream",
     "text": [
      "<ipython-input-16-f94cd99ecbf4>:2: SettingWithCopyWarning: \n",
      "A value is trying to be set on a copy of a slice from a DataFrame.\n",
      "Try using .loc[row_indexer,col_indexer] = value instead\n",
      "\n",
      "See the caveats in the documentation: https://pandas.pydata.org/pandas-docs/stable/user_guide/indexing.html#returning-a-view-versus-a-copy\n",
      "  df_sinceros['etiqueta']=df_sinceros['Rendimiento'].apply(lambda x : 1 if (x >= 1.1) else 0)\n"
     ]
    }
   ],
   "source": [
    "#Creación de etiquetas\n",
    "df_sinceros['etiqueta']=df_sinceros['Rendimiento'].apply(lambda x : 1 if (x >= 1.1) else 0)"
   ]
  },
  {
   "cell_type": "code",
   "execution_count": 20,
   "metadata": {},
   "outputs": [],
   "source": [
    "i = 0\n",
    "for x in df_sinceros['etiqueta']: \n",
    "    if x == 0:\n",
    "        i+=1"
   ]
  },
  {
   "cell_type": "code",
   "execution_count": 21,
   "metadata": {},
   "outputs": [
    {
     "data": {
      "text/plain": [
       "11276"
      ]
     },
     "execution_count": 21,
     "metadata": {},
     "output_type": "execute_result"
    }
   ],
   "source": [
    "i"
   ]
  },
  {
   "cell_type": "code",
   "execution_count": 54,
   "metadata": {},
   "outputs": [
    {
     "data": {
      "text/plain": [
       "Index(['ID', 'Fecha_carga', 'indice_turno', 'turno', 'inicio_turno',\n",
       "       'id_grupo', 'nom_grupo', 'id_equipo_operado', 'inicio_loginop',\n",
       "       'lugar_operacion', 'id_operador', 'duracion_login', 'area_mina',\n",
       "       'id_tipoeq', 'glosa_tipoeq', 'total_cargas', 'total_tons',\n",
       "       'ttotal_cargas', 'ttotal_espera', 'ttotal_aculatamiento',\n",
       "       'contador_cargas', 't_efectivo', 't_noproductivo',\n",
       "       't_demoraoperacional', 't_reserva', 't_mantencionNP', 't_inhabil',\n",
       "       't_mantencionP', 'Rendimiento', 'etiqueta'],\n",
       "      dtype='object')"
      ]
     },
     "execution_count": 54,
     "metadata": {},
     "output_type": "execute_result"
    }
   ],
   "source": [
    "df_sinceros.columns"
   ]
  },
  {
   "cell_type": "code",
   "execution_count": 73,
   "metadata": {},
   "outputs": [
    {
     "data": {
      "image/png": "[encoded data removed]",
      "text/plain": [
       "<Figure size 576x360 with 1 Axes>"
      ]
     },
     "metadata": {},
     "output_type": "display_data"
    }
   ],
   "source": [
    "plt.figure(figsize=(8,5))\n",
    "df_sinceros['etiqueta'].hist()\n",
    "plt.show()"
   ]
  },
  {
   "cell_type": "markdown",
   "metadata": {},
   "source": [
    "Despues de filtrar el dataset por palas y por toneladas totales y tiempos efectivos mayores a cero para poder calcular el rendimiento, nos percatamos de que hay una gran cantidad de rendimientos con un valor muy inferior a 3.1 de hecho gran parte de los rendimientos tiene valores entre 0 y 1. Debido a esto, al momento de clasificar en base al rendimiento (mayor a 3,1 = 1 y en caso contrario = 0) nos dio que un 99,88% de los datos clasificarian como 0 es decir menor a 3.1 Ktons/hora (valor entregado por CMP como parámetro a usar para clasificar)\n",
    "\n",
    "Probamos bajando el 3.1 a 1.1 y esta situación mejoro infimamente ya que ahora los datos etiquetados como 0 serian 99,83%."
   ]
  },
  {
   "cell_type": "markdown",
   "metadata": {},
   "source": [
    "# KNN"
   ]
  },
  {
   "cell_type": "markdown",
   "metadata": {},
   "source": [
    "The K-nearest neighbors (KNN) algorithm is a type of supervised machine learning algorithms.\n",
    "Es un algoritmo de aprendizaje perezoso ya que no tiene una fase de entrenamiento especializada. Más bien, usa todos los datos para entrenar mientras clasifica un nuevo punto de datos o instancia. KNN es un algoritmo de aprendizaje no paramétrico, lo que significa que no asume nada sobre los datos subyacentes. Esta es una característica extremadamente útil ya que la mayoría de los datos del mundo real realmente no siguen ninguna suposición teórica, p. separabilidad lineal, distribución uniforme, etc.\n",
    "\n",
    "La intuición detrás del algoritmo KNN es uno de los más simples de todos los algoritmos de aprendizaje automático supervisados. Simplemente calcula la distancia de un nuevo punto de datos a todos los demás puntos de datos de entrenamiento. La distancia puede ser de cualquier tipo, por ejemplo, euclidiana o de Manhattan, etc. A continuación, selecciona los puntos de datos K más cercanos, donde K puede ser cualquier número entero. Finalmente, asigna el punto de datos a la clase a la que pertenecen la mayoría de los K puntos de datos."
   ]
  },
  {
   "cell_type": "code",
   "execution_count": 22,
   "metadata": {},
   "outputs": [
    {
     "data": {
      "text/plain": [
       "45        0\n",
       "138       0\n",
       "139       0\n",
       "141       0\n",
       "142       0\n",
       "         ..\n",
       "120325    0\n",
       "120326    0\n",
       "120328    0\n",
       "120389    0\n",
       "120392    0\n",
       "Name: etiqueta, Length: 11303, dtype: int64"
      ]
     },
     "execution_count": 22,
     "metadata": {},
     "output_type": "execute_result"
    }
   ],
   "source": [
    "y=df_sinceros['etiqueta']\n",
    "y"
   ]
  },
  {
   "cell_type": "code",
   "execution_count": 24,
   "metadata": {},
   "outputs": [
    {
     "data": {
      "text/html": [
       "<div>\n",
       "<style scoped>\n",
       "    .dataframe tbody tr th:only-of-type {\n",
       "        vertical-align: middle;\n",
       "    }\n",
       "\n",
       "    .dataframe tbody tr th {\n",
       "        vertical-align: top;\n",
       "    }\n",
       "\n",
       "    .dataframe thead th {\n",
       "        text-align: right;\n",
       "    }\n",
       "</style>\n",
       "<table border=\"1\" class=\"dataframe\">\n",
       "  <thead>\n",
       "    <tr style=\"text-align: right;\">\n",
       "      <th></th>\n",
       "      <th>total_tons</th>\n",
       "      <th>ttotal_cargas</th>\n",
       "      <th>ttotal_espera</th>\n",
       "      <th>ttotal_aculatamiento</th>\n",
       "      <th>contador_cargas</th>\n",
       "      <th>t_efectivo</th>\n",
       "      <th>t_noproductivo</th>\n",
       "      <th>t_demoraoperacional</th>\n",
       "      <th>t_reserva</th>\n",
       "      <th>t_mantencionNP</th>\n",
       "      <th>t_inhabil</th>\n",
       "      <th>t_mantencionP</th>\n",
       "    </tr>\n",
       "  </thead>\n",
       "  <tbody>\n",
       "    <tr>\n",
       "      <th>45</th>\n",
       "      <td>23335</td>\n",
       "      <td>22347</td>\n",
       "      <td>5090</td>\n",
       "      <td>7656</td>\n",
       "      <td>100</td>\n",
       "      <td>35320</td>\n",
       "      <td>0</td>\n",
       "      <td>2801</td>\n",
       "      <td>0</td>\n",
       "      <td>0</td>\n",
       "      <td>1772</td>\n",
       "      <td>0</td>\n",
       "    </tr>\n",
       "    <tr>\n",
       "      <th>138</th>\n",
       "      <td>0</td>\n",
       "      <td>0</td>\n",
       "      <td>34200</td>\n",
       "      <td>0</td>\n",
       "      <td>0</td>\n",
       "      <td>34200</td>\n",
       "      <td>0</td>\n",
       "      <td>1800</td>\n",
       "      <td>0</td>\n",
       "      <td>0</td>\n",
       "      <td>7200</td>\n",
       "      <td>0</td>\n",
       "    </tr>\n",
       "    <tr>\n",
       "      <th>139</th>\n",
       "      <td>0</td>\n",
       "      <td>0</td>\n",
       "      <td>27000</td>\n",
       "      <td>0</td>\n",
       "      <td>0</td>\n",
       "      <td>27000</td>\n",
       "      <td>0</td>\n",
       "      <td>9000</td>\n",
       "      <td>0</td>\n",
       "      <td>0</td>\n",
       "      <td>7200</td>\n",
       "      <td>0</td>\n",
       "    </tr>\n",
       "    <tr>\n",
       "      <th>141</th>\n",
       "      <td>14648</td>\n",
       "      <td>6950</td>\n",
       "      <td>3566</td>\n",
       "      <td>3135</td>\n",
       "      <td>64</td>\n",
       "      <td>13651</td>\n",
       "      <td>0</td>\n",
       "      <td>0</td>\n",
       "      <td>3086</td>\n",
       "      <td>0</td>\n",
       "      <td>0</td>\n",
       "      <td>0</td>\n",
       "    </tr>\n",
       "    <tr>\n",
       "      <th>142</th>\n",
       "      <td>21134</td>\n",
       "      <td>10344</td>\n",
       "      <td>5537</td>\n",
       "      <td>5636</td>\n",
       "      <td>93</td>\n",
       "      <td>21517</td>\n",
       "      <td>0</td>\n",
       "      <td>814</td>\n",
       "      <td>0</td>\n",
       "      <td>0</td>\n",
       "      <td>4132</td>\n",
       "      <td>0</td>\n",
       "    </tr>\n",
       "  </tbody>\n",
       "</table>\n",
       "</div>"
      ],
      "text/plain": [
       "     total_tons  ttotal_cargas  ttotal_espera  ttotal_aculatamiento  \\\n",
       "45        23335          22347           5090                  7656   \n",
       "138           0              0          34200                     0   \n",
       "139           0              0          27000                     0   \n",
       "141       14648           6950           3566                  3135   \n",
       "142       21134          10344           5537                  5636   \n",
       "\n",
       "     contador_cargas  t_efectivo  t_noproductivo  t_demoraoperacional  \\\n",
       "45               100       35320               0                 2801   \n",
       "138                0       34200               0                 1800   \n",
       "139                0       27000               0                 9000   \n",
       "141               64       13651               0                    0   \n",
       "142               93       21517               0                  814   \n",
       "\n",
       "     t_reserva  t_mantencionNP  t_inhabil  t_mantencionP  \n",
       "45           0               0       1772              0  \n",
       "138          0               0       7200              0  \n",
       "139          0               0       7200              0  \n",
       "141       3086               0          0              0  \n",
       "142          0               0       4132              0  "
      ]
     },
     "execution_count": 24,
     "metadata": {},
     "output_type": "execute_result"
    }
   ],
   "source": [
    "X=df_sinceros[['total_tons',\n",
    "       'ttotal_cargas', 'ttotal_espera', 'ttotal_aculatamiento',\n",
    "       'contador_cargas', 't_efectivo', 't_noproductivo',\n",
    "       't_demoraoperacional', 't_reserva', 't_mantencionNP', 't_inhabil',\n",
    "       't_mantencionP']]\n",
    "X.head()"
   ]
  },
  {
   "cell_type": "code",
   "execution_count": 25,
   "metadata": {
    "scrolled": true
   },
   "outputs": [
    {
     "data": {
      "text/plain": [
       "array([[ 2.33974302,  2.93337087, -0.12143181, ..., -0.14804184,\n",
       "        -0.15277784, -0.07170904],\n",
       "       [-0.7195411 , -0.79957085,  3.01705262, ..., -0.14804184,\n",
       "         0.57053075, -0.07170904],\n",
       "       [-0.7195411 , -0.79957085,  2.24078715, ..., -0.14804184,\n",
       "         0.57053075, -0.07170904],\n",
       "       ...,\n",
       "       [-0.7195411 , -0.79957085, -0.26105178, ..., -0.14804184,\n",
       "        -0.38890585, -0.07170904],\n",
       "       [-0.43819446, -0.45295367, -0.52476641, ..., -0.14804184,\n",
       "        -0.38890585, -0.07170904],\n",
       "       [-0.7195411 , -0.79957085, -0.23582315, ..., -0.14804184,\n",
       "        -0.38890585, -0.07170904]])"
      ]
     },
     "execution_count": 25,
     "metadata": {},
     "output_type": "execute_result"
    }
   ],
   "source": [
    "from sklearn.preprocessing import StandardScaler\n",
    "X = StandardScaler().fit_transform(X)\n",
    "X"
   ]
  },
  {
   "cell_type": "code",
   "execution_count": 26,
   "metadata": {},
   "outputs": [],
   "source": [
    "from sklearn.model_selection import train_test_split\n",
    "X_train, X_test, y_train, y_test = train_test_split(X,y,test_size=0.30, random_state=101)"
   ]
  },
  {
   "cell_type": "code",
   "execution_count": 27,
   "metadata": {},
   "outputs": [
    {
     "data": {
      "text/plain": [
       "KNeighborsClassifier(n_neighbors=20)"
      ]
     },
     "execution_count": 27,
     "metadata": {},
     "output_type": "execute_result"
    }
   ],
   "source": [
    "from sklearn.neighbors import KNeighborsClassifier\n",
    "\n",
    "knn = KNeighborsClassifier(n_neighbors=20)\n",
    "\n",
    "knn.fit(X_train,y_train)"
   ]
  },
  {
   "cell_type": "code",
   "execution_count": 28,
   "metadata": {},
   "outputs": [],
   "source": [
    "pred = knn.predict(X_test)"
   ]
  },
  {
   "cell_type": "code",
   "execution_count": 29,
   "metadata": {},
   "outputs": [],
   "source": [
    "from sklearn.metrics import classification_report,confusion_matrix"
   ]
  },
  {
   "cell_type": "code",
   "execution_count": 30,
   "metadata": {},
   "outputs": [
    {
     "name": "stdout",
     "output_type": "stream",
     "text": [
      "[[3384    0]\n",
      " [   7    0]]\n"
     ]
    }
   ],
   "source": [
    "print(confusion_matrix(y_test,pred))"
   ]
  },
  {
   "cell_type": "code",
   "execution_count": 31,
   "metadata": {
    "scrolled": true
   },
   "outputs": [
    {
     "name": "stdout",
     "output_type": "stream",
     "text": [
      "              precision    recall  f1-score   support\n",
      "\n",
      "           0       1.00      1.00      1.00      3384\n",
      "           1       0.00      0.00      0.00         7\n",
      "\n",
      "    accuracy                           1.00      3391\n",
      "   macro avg       0.50      0.50      0.50      3391\n",
      "weighted avg       1.00      1.00      1.00      3391\n",
      "\n"
     ]
    },
    {
     "name": "stderr",
     "output_type": "stream",
     "text": [
      "C:\\Users\\Magdalena Albornoz\\Anaconda3\\lib\\site-packages\\sklearn\\metrics\\_classification.py:1221: UndefinedMetricWarning: Precision and F-score are ill-defined and being set to 0.0 in labels with no predicted samples. Use `zero_division` parameter to control this behavior.\n",
      "  _warn_prf(average, modifier, msg_start, len(result))\n"
     ]
    }
   ],
   "source": [
    "print(classification_report(y_test,pred))"
   ]
  },
  {
   "cell_type": "code",
   "execution_count": 32,
   "metadata": {},
   "outputs": [
    {
     "data": {
      "text/plain": [
       "Text(0, 0.5, 'Error Rate')"
      ]
     },
     "execution_count": 32,
     "metadata": {},
     "output_type": "execute_result"
    },
    {
     "data": {
      "image/png": "[encoded data removed]",
      "text/plain": [
       "<Figure size 720x432 with 1 Axes>"
      ]
     },
     "metadata": {},
     "output_type": "display_data"
    }
   ],
   "source": [
    "error_rate = []\n",
    "\n",
    "# Se va a demorar un poco\n",
    "for i in range(1,40):\n",
    "    \n",
    "    knn = KNeighborsClassifier(n_neighbors=i)\n",
    "    knn.fit(X_train,y_train)\n",
    "    pred_i = knn.predict(X_test)\n",
    "    error_rate.append(np.mean(pred_i != y_test))\n",
    "\n",
    "plt.figure(figsize=(10,6))\n",
    "plt.plot(range(1,40),error_rate,color='blue', linestyle='dashed', marker='o',\n",
    "         markerfacecolor='red', markersize=10)\n",
    "plt.title('Error Rate vs. K Value')\n",
    "plt.xlabel('K')\n",
    "plt.ylabel('Error Rate')"
   ]
  },
  {
   "cell_type": "markdown",
   "metadata": {},
   "source": [
    "# K-means"
   ]
  },
  {
   "cell_type": "markdown",
   "metadata": {},
   "source": [
    "K-means en Machine Learning: el agrupamiento K-means es uno de los algoritmos de aprendizaje automático no supervisados ​​más simples y populares.\n",
    "\n",
    "Típicamente, los algoritmos no supervisados ​​hacen inferencias de conjuntos de datos usando solo vectores de entrada sin referirse a resultados conocidos o etiquetados.\n",
    "\n",
    "El objetivo de K-means es simple: agrupar datos similares y descubrir patrones subyacentes. Para lograr este objetivo, K-means busca un número fijo ( k ) de clusters en un conjunto de datos."
   ]
  },
  {
   "cell_type": "code",
   "execution_count": 33,
   "metadata": {},
   "outputs": [
    {
     "data": {
      "image/png": "[encoded data removed]",
      "text/plain": [
       "<Figure size 432x288 with 1 Axes>"
      ]
     },
     "metadata": {},
     "output_type": "display_data"
    }
   ],
   "source": [
    "from sklearn.cluster import KMeans\n",
    "#Donde WCSS es la suma de los cuadrados de las distancias y se \n",
    "#refiere a Within-Cluster-Sum-of-Squares, Yi es el centroide \n",
    "#del elemento o dato Xi y n el total de datos en la muestra.\n",
    "wcss = []\n",
    "for i in range(1, 20):\n",
    "    kmeans = KMeans(n_clusters = i, init = 'k-means++', random_state = 42)\n",
    "    kmeans.fit(X)\n",
    "    wcss.append(kmeans.inertia_)\n",
    "\n",
    "# Grafica de la suma de las distancias\n",
    "plt.plot(range(1, 20), wcss)\n",
    "plt.title('The Elbow Method Universidades')\n",
    "plt.xlabel('Number of clusters')\n",
    "plt.ylabel('WCSS')\n",
    "plt.show()"
   ]
  },
  {
   "cell_type": "code",
   "execution_count": 34,
   "metadata": {},
   "outputs": [
    {
     "data": {
      "text/plain": [
       "KMeans(n_clusters=2)"
      ]
     },
     "execution_count": 34,
     "metadata": {},
     "output_type": "execute_result"
    }
   ],
   "source": [
    "from sklearn.cluster import KMeans\n",
    "km=KMeans(n_clusters=2).fit(X)\n",
    "km"
   ]
  },
  {
   "cell_type": "code",
   "execution_count": 35,
   "metadata": {},
   "outputs": [
    {
     "name": "stdout",
     "output_type": "stream",
     "text": [
      "[[-0.42071297 -0.41176846 -0.02754536 -0.40487316 -0.4209143  -0.29738144\n",
      "  -0.0101263  -0.0458016   0.03551925  0.01969097  0.01588117  0.01154361]\n",
      " [ 1.57648095  1.54296438  0.10321701  1.51712656  1.57723536  1.11433733\n",
      "   0.03794493  0.17162614 -0.13309648 -0.0737853  -0.05950936 -0.04325579]]\n"
     ]
    }
   ],
   "source": [
    "centroids = km.cluster_centers_\n",
    "print(centroids)"
   ]
  },
  {
   "cell_type": "code",
   "execution_count": 36,
   "metadata": {},
   "outputs": [
    {
     "data": {
      "text/plain": [
       "array([1, 0, 0, ..., 0, 0, 0])"
      ]
     },
     "execution_count": 36,
     "metadata": {},
     "output_type": "execute_result"
    }
   ],
   "source": [
    "km.labels_"
   ]
  },
  {
   "cell_type": "code",
   "execution_count": 37,
   "metadata": {},
   "outputs": [],
   "source": [
    "predicciones=km.predict(X)"
   ]
  },
  {
   "cell_type": "code",
   "execution_count": 38,
   "metadata": {},
   "outputs": [
    {
     "data": {
      "text/plain": [
       "array([ 2.30380742, -0.72008361, -0.72008361, ..., -0.72008361,\n",
       "       -0.41769451, -0.72008361])"
      ]
     },
     "execution_count": 38,
     "metadata": {},
     "output_type": "execute_result"
    }
   ],
   "source": [
    "X[:,4]"
   ]
  },
  {
   "cell_type": "code",
   "execution_count": 39,
   "metadata": {},
   "outputs": [
    {
     "data": {
      "text/plain": [
       "array([[ 2.33974302,  2.93337087, -0.12143181, ..., -0.14804184,\n",
       "        -0.15277784, -0.07170904],\n",
       "       [-0.7195411 , -0.79957085,  3.01705262, ..., -0.14804184,\n",
       "         0.57053075, -0.07170904],\n",
       "       [-0.7195411 , -0.79957085,  2.24078715, ..., -0.14804184,\n",
       "         0.57053075, -0.07170904],\n",
       "       ...,\n",
       "       [-0.7195411 , -0.79957085, -0.26105178, ..., -0.14804184,\n",
       "        -0.38890585, -0.07170904],\n",
       "       [-0.43819446, -0.45295367, -0.52476641, ..., -0.14804184,\n",
       "        -0.38890585, -0.07170904],\n",
       "       [-0.7195411 , -0.79957085, -0.23582315, ..., -0.14804184,\n",
       "        -0.38890585, -0.07170904]])"
      ]
     },
     "execution_count": 39,
     "metadata": {},
     "output_type": "execute_result"
    }
   ],
   "source": [
    "X"
   ]
  },
  {
   "cell_type": "code",
   "execution_count": 40,
   "metadata": {},
   "outputs": [
    {
     "data": {
      "image/png": "[encoded data removed]",
      "text/plain": [
       "<Figure size 432x288 with 1 Axes>"
      ]
     },
     "metadata": {},
     "output_type": "display_data"
    }
   ],
   "source": [
    "plt.scatter(X[:, 0], X[:, 1], c=predicciones, s=50, cmap='viridis')\n",
    "#plt.scatter(X[:, 0], X[:, 1], c=predicciones, s=50, cmap='viridis')\n",
    "plt.scatter(centroids[:, 0], centroids[:, 1], c='black', s=200, alpha=0.5);"
   ]
  },
  {
   "cell_type": "code",
   "execution_count": 41,
   "metadata": {},
   "outputs": [],
   "source": [
    "labels_true=y\n",
    "labels_pred=predicciones"
   ]
  },
  {
   "cell_type": "code",
   "execution_count": 42,
   "metadata": {},
   "outputs": [
    {
     "data": {
      "text/plain": [
       "array([[8889, 2387],\n",
       "       [  27,    0]])"
      ]
     },
     "execution_count": 42,
     "metadata": {},
     "output_type": "execute_result"
    }
   ],
   "source": [
    "from sklearn.metrics.cluster import contingency_matrix\n",
    "contingency_matrix(labels_true,labels_pred)"
   ]
  },
  {
   "cell_type": "code",
   "execution_count": 43,
   "metadata": {},
   "outputs": [],
   "source": [
    "from scipy.cluster.vq import vq\n",
    "\n",
    "    # centroids: N-dimensional array with your centroids\n",
    "    # points:    N-dimensional array with your data points\n",
    "\n",
    "closest, distances = vq(centroids, X)"
   ]
  },
  {
   "cell_type": "code",
   "execution_count": 44,
   "metadata": {},
   "outputs": [
    {
     "name": "stdout",
     "output_type": "stream",
     "text": [
      "36223\n",
      "36184\n"
     ]
    }
   ],
   "source": [
    "represent=df['indice_turno'].values\n",
    "represent.shape\n",
    "represent\n",
    "for row in closest:\n",
    "    print(represent[row])"
   ]
  },
  {
   "cell_type": "code",
   "execution_count": 45,
   "metadata": {},
   "outputs": [
    {
     "name": "stdout",
     "output_type": "stream",
     "text": [
      "Validación Modelo: K-means\n",
      "Homogeneity: 0.034\n",
      "Completeness: 0.001\n",
      "V-measure: 0.002\n",
      "Adjusted Rand Index: -0.003\n",
      "Silhouette Coefficient: 0.398\n",
      "Fowlkes-Mallows: 0.814\n",
      "Calinski-Harabasz Index: 3645.484\n"
     ]
    }
   ],
   "source": [
    "print(\"Validación Modelo: K-means\")\n",
    "from sklearn import metrics\n",
    "#Validación Modelo\n",
    "#print('Estimated number of clusters: %d' % n_clusters)\n",
    "#print('Estimated number of noise points: %d' % n_noise_)\n",
    "print(\"Homogeneity: %0.3f\" % metrics.homogeneity_score(labels_true, labels_pred))\n",
    "print(\"Completeness: %0.3f\" % metrics.completeness_score(labels_true, labels_pred))\n",
    "print(\"V-measure: %0.3f\" % metrics.v_measure_score(labels_true, labels_pred))\n",
    "print(\"Adjusted Rand Index: %0.3f\" % metrics.adjusted_rand_score(labels_true, labels_pred))\n",
    "print(\"Silhouette Coefficient: %0.3f\" % metrics.silhouette_score(X, labels_pred))\n",
    "print(\"Fowlkes-Mallows: %0.3f\" % metrics.fowlkes_mallows_score(labels_true,labels_pred))\n",
    "print(\"Calinski-Harabasz Index: %0.3f\" % metrics.calinski_harabasz_score(X,labels_pred))"
   ]
  },
  {
   "cell_type": "markdown",
   "metadata": {},
   "source": [
    "# Hierarchical Clustering"
   ]
  },
  {
   "cell_type": "code",
   "execution_count": 46,
   "metadata": {},
   "outputs": [
    {
     "data": {
      "image/png": "[encoded data removed]",
      "text/plain": [
       "<Figure size 432x288 with 1 Axes>"
      ]
     },
     "metadata": {},
     "output_type": "display_data"
    }
   ],
   "source": [
    "#Hierarchical clustering\n",
    "import scipy.cluster.hierarchy as sch\n",
    "dendrogrm = sch.dendrogram(sch.linkage(X, method = 'ward'))\n",
    "plt.title('Dendrogram')\n",
    "plt.xlabel('puntos')\n",
    "plt.ylabel('Euclidean distance')\n",
    "plt.show()"
   ]
  },
  {
   "cell_type": "code",
   "execution_count": 47,
   "metadata": {},
   "outputs": [
    {
     "data": {
      "text/plain": [
       "AgglomerativeClustering()"
      ]
     },
     "execution_count": 47,
     "metadata": {},
     "output_type": "execute_result"
    }
   ],
   "source": [
    "from sklearn.cluster import AgglomerativeClustering\n",
    "import numpy as np\n",
    "\n",
    "clustering = AgglomerativeClustering().fit(X)\n",
    "clustering"
   ]
  },
  {
   "cell_type": "code",
   "execution_count": 48,
   "metadata": {},
   "outputs": [
    {
     "data": {
      "text/plain": [
       "array([1, 0, 0, ..., 0, 0, 0], dtype=int64)"
      ]
     },
     "execution_count": 48,
     "metadata": {},
     "output_type": "execute_result"
    }
   ],
   "source": [
    "prediccion_hc = clustering.labels_\n",
    "prediccion_hc"
   ]
  },
  {
   "cell_type": "code",
   "execution_count": null,
   "metadata": {},
   "outputs": [],
   "source": []
  },
  {
   "cell_type": "code",
   "execution_count": null,
   "metadata": {},
   "outputs": [],
   "source": []
  },
  {
   "cell_type": "code",
   "execution_count": null,
   "metadata": {},
   "outputs": [],
   "source": []
  }
 ],
 "metadata": {
  "kernelspec": {
   "display_name": "Python 3",
   "language": "python",
   "name": "python3"
  },
  "language_info": {
   "codemirror_mode": {
    "name": "ipython",
    "version": 3
   },
   "file_extension": ".py",
   "mimetype": "text/x-python",
   "name": "python",
   "nbconvert_exporter": "python",
   "pygments_lexer": "ipython3",
   "version": "3.8.3"
  }
 },
 "nbformat": 4,
 "nbformat_minor": 4
}
